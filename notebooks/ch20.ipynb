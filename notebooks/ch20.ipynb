{
 "cells": [
  {
   "cell_type": "markdown",
   "metadata": {},
   "source": [
    "## Chapter 20: Analyzing Census Data"
   ]
  },
  {
   "cell_type": "code",
   "execution_count": 3,
   "metadata": {},
   "outputs": [],
   "source": [
    "using DataFrames, Query, Statistics, CSVFiles, StatsPlots"
   ]
  },
  {
   "cell_type": "code",
   "execution_count": 4,
   "metadata": {},
   "outputs": [],
   "source": [
    "census_data = load(\"../julia-files/Gaz_ua_national.csv\") |> DataFrame;"
   ]
  },
  {
   "cell_type": "code",
   "execution_count": 5,
   "metadata": {},
   "outputs": [
    {
     "data": {
      "text/html": [
       "<table class=\"data-frame\"><thead><tr><th></th><th>GEOID</th><th>NAME</th><th>POP10</th></tr><tr><th></th><th>Int64</th><th>String</th><th>Int64</th></tr></thead><tbody><p>10 rows × 3 columns</p><tr><th>1</th><td>63217</td><td>New York--Newark, NY--NJ--CT Urbanized Area</td><td>18351295</td></tr><tr><th>2</th><td>51445</td><td>Los Angeles--Long Beach--Anaheim, CA Urbanized Area</td><td>12150996</td></tr><tr><th>3</th><td>16264</td><td>Chicago, IL--IN Urbanized Area</td><td>8608208</td></tr><tr><th>4</th><td>56602</td><td>Miami, FL Urbanized Area</td><td>5502379</td></tr><tr><th>5</th><td>69076</td><td>Philadelphia, PA--NJ--DE--MD Urbanized Area</td><td>5441567</td></tr><tr><th>6</th><td>22042</td><td>Dallas--Fort Worth--Arlington, TX Urbanized Area</td><td>5121892</td></tr><tr><th>7</th><td>40429</td><td>Houston, TX Urbanized Area</td><td>4944332</td></tr><tr><th>8</th><td>92242</td><td>Washington, DC--VA--MD Urbanized Area</td><td>4586770</td></tr><tr><th>9</th><td>3817</td><td>Atlanta, GA Urbanized Area</td><td>4515419</td></tr><tr><th>10</th><td>9271</td><td>Boston, MA--NH--RI Urbanized Area</td><td>4181019</td></tr></tbody></table>"
      ],
      "text/latex": [
       "\\begin{tabular}{r|ccc}\n",
       "\t& GEOID & NAME & POP10\\\\\n",
       "\t\\hline\n",
       "\t& Int64 & String & Int64\\\\\n",
       "\t\\hline\n",
       "\t1 & 63217 & New York--Newark, NY--NJ--CT Urbanized Area & 18351295 \\\\\n",
       "\t2 & 51445 & Los Angeles--Long Beach--Anaheim, CA Urbanized Area & 12150996 \\\\\n",
       "\t3 & 16264 & Chicago, IL--IN Urbanized Area & 8608208 \\\\\n",
       "\t4 & 56602 & Miami, FL Urbanized Area & 5502379 \\\\\n",
       "\t5 & 69076 & Philadelphia, PA--NJ--DE--MD Urbanized Area & 5441567 \\\\\n",
       "\t6 & 22042 & Dallas--Fort Worth--Arlington, TX Urbanized Area & 5121892 \\\\\n",
       "\t7 & 40429 & Houston, TX Urbanized Area & 4944332 \\\\\n",
       "\t8 & 92242 & Washington, DC--VA--MD Urbanized Area & 4586770 \\\\\n",
       "\t9 & 3817 & Atlanta, GA Urbanized Area & 4515419 \\\\\n",
       "\t10 & 9271 & Boston, MA--NH--RI Urbanized Area & 4181019 \\\\\n",
       "\\end{tabular}\n"
      ],
      "text/plain": [
       "10×3 DataFrame\n",
       "│ Row │ GEOID │ NAME                                                │ POP10    │\n",
       "│     │ \u001b[90mInt64\u001b[39m │ \u001b[90mString\u001b[39m                                              │ \u001b[90mInt64\u001b[39m    │\n",
       "├─────┼───────┼─────────────────────────────────────────────────────┼──────────┤\n",
       "│ 1   │ 63217 │ New York--Newark, NY--NJ--CT Urbanized Area         │ 18351295 │\n",
       "│ 2   │ 51445 │ Los Angeles--Long Beach--Anaheim, CA Urbanized Area │ 12150996 │\n",
       "│ 3   │ 16264 │ Chicago, IL--IN Urbanized Area                      │ 8608208  │\n",
       "│ 4   │ 56602 │ Miami, FL Urbanized Area                            │ 5502379  │\n",
       "│ 5   │ 69076 │ Philadelphia, PA--NJ--DE--MD Urbanized Area         │ 5441567  │\n",
       "│ 6   │ 22042 │ Dallas--Fort Worth--Arlington, TX Urbanized Area    │ 5121892  │\n",
       "│ 7   │ 40429 │ Houston, TX Urbanized Area                          │ 4944332  │\n",
       "│ 8   │ 92242 │ Washington, DC--VA--MD Urbanized Area               │ 4586770  │\n",
       "│ 9   │ 3817  │ Atlanta, GA Urbanized Area                          │ 4515419  │\n",
       "│ 10  │ 9271  │ Boston, MA--NH--RI Urbanized Area                   │ 4181019  │"
      ]
     },
     "execution_count": 5,
     "metadata": {},
     "output_type": "execute_result"
    }
   ],
   "source": [
    "census_data |> \n",
    "  @orderby_descending(_.POP10) |> \n",
    "  @select(:GEOID,:NAME,:POP10) |>\n",
    "  DataFrame |> \n",
    "  df->first(df,10)"
   ]
  },
  {
   "cell_type": "code",
   "execution_count": 6,
   "metadata": {},
   "outputs": [
    {
     "data": {
      "text/plain": [
       "240"
      ]
     },
     "execution_count": 6,
     "metadata": {},
     "output_type": "execute_result"
    }
   ],
   "source": [
    "ENV[\"COLUMNS\"]=240"
   ]
  },
  {
   "cell_type": "code",
   "execution_count": 10,
   "metadata": {},
   "outputs": [
    {
     "data": {
      "application/vnd.dataresource+json": {
       "data": [
        {
         "ALAND": 24217774,
         "ALAND_SQMI": 9.351,
         "AWATER": 1060120,
         "AWATER_SQMI": 0.409,
         "GEOID": 3790,
         "HU10": 5927,
         "INTPTLAT": 42.573322,
         "INTPTLONG": -72.296365,
         "NAME": "Athol, MA Urban Cluster",
         "POP10": 12834,
         "UATYPE": "C"
        },
        {
         "ALAND": 718092279,
         "ALAND_SQMI": 277.257,
         "AWATER": 58453185,
         "AWATER_SQMI": 22.569,
         "GEOID": 5167,
         "HU10": 162112,
         "INTPTLAT": 41.622829,
         "INTPTLONG": -70.576489,
         "NAME": "Barnstable Town, MA Urbanized Area",
         "POP10": 246695,
         "UATYPE": "U"
        },
        {
         "ALAND": 4852227548,
         "ALAND_SQMI": 1873.456,
         "AWATER": 201870511,
         "AWATER_SQMI": 77.943,
         "GEOID": 9271,
         "HU10": 1719241,
         "INTPTLAT": 42.373132,
         "INTPTLONG": -71.140708,
         "NAME": "Boston, MA--NH--RI Urbanized Area",
         "POP10": 4181019,
         "UATYPE": "U"
        },
        {
         "ALAND": 13357053,
         "ALAND_SQMI": 5.157,
         "AWATER": 502406,
         "AWATER_SQMI": 0.194,
         "GEOID": 34678,
         "HU10": 2301,
         "INTPTLAT": 42.218693,
         "INTPTLONG": -73.365407,
         "NAME": "Great Barrington, MA Urban Cluster",
         "POP10": 4571,
         "UATYPE": "C"
        },
        {
         "ALAND": 36536672,
         "ALAND_SQMI": 14.107,
         "AWATER": 871148,
         "AWATER_SQMI": 0.336,
         "GEOID": 34975,
         "HU10": 10890,
         "INTPTLAT": 42.587098,
         "INTPTLONG": -72.5666,
         "NAME": "Greenfield, MA Urban Cluster",
         "POP10": 22965,
         "UATYPE": "C"
        },
        {
         "ALAND": 29465953,
         "ALAND_SQMI": 11.377,
         "AWATER": 909863,
         "AWATER_SQMI": 0.351,
         "GEOID": 48745,
         "HU10": 4405,
         "INTPTLAT": 42.318692,
         "INTPTLONG": -73.266222,
         "NAME": "Lee, MA Urban Cluster",
         "POP10": 8049,
         "UATYPE": "C"
        },
        {
         "ALAND": 168447165,
         "ALAND_SQMI": 65.038,
         "AWATER": 5905576,
         "AWATER_SQMI": 2.28,
         "GEOID": 49096,
         "HU10": 50827,
         "INTPTLAT": 42.569209,
         "INTPTLONG": -71.850936,
         "NAME": "Leominster--Fitchburg, MA Urbanized Area",
         "POP10": 116960,
         "UATYPE": "U"
        },
        {
         "ALAND": 20355592,
         "ALAND_SQMI": 7.859,
         "AWATER": 487510,
         "AWATER_SQMI": 0.188,
         "GEOID": 61003,
         "HU10": 7222,
         "INTPTLAT": 41.263566,
         "INTPTLONG": -70.088953,
         "NAME": "Nantucket, MA Urban Cluster",
         "POP10": 8250,
         "UATYPE": "C"
        },
        {
         "ALAND": 142709138,
         "ALAND_SQMI": 55.1,
         "AWATER": 14485580,
         "AWATER_SQMI": 5.593,
         "GEOID": 61786,
         "HU10": 64978,
         "INTPTLAT": 41.673929,
         "INTPTLONG": -70.937061,
         "NAME": "New Bedford, MA Urbanized Area",
         "POP10": 149443,
         "UATYPE": "U"
        },
        {
         "ALAND": 25387260,
         "ALAND_SQMI": 9.802,
         "AWATER": 419599,
         "AWATER_SQMI": 0.162,
         "GEOID": 63460,
         "HU10": 8202,
         "INTPTLAT": 42.690785,
         "INTPTLONG": -73.10892,
         "NAME": "North Adams, MA--VT Urban Cluster",
         "POP10": 18470,
         "UATYPE": "C"
        },
        {
         "ALAND": 20214632,
         "ALAND_SQMI": 7.805,
         "AWATER": 2441926,
         "AWATER_SQMI": 0.943,
         "GEOID": 63568,
         "HU10": 3372,
         "INTPTLAT": 42.229791,
         "INTPTLONG": -72.041041,
         "NAME": "North Brookfield, MA Urban Cluster",
         "POP10": 7194,
         "UATYPE": "C"
        },
        {
         "ALAND": 86766391,
         "ALAND_SQMI": 33.501,
         "AWATER": 4782300,
         "AWATER_SQMI": 1.846,
         "GEOID": 69778,
         "HU10": 28511,
         "INTPTLAT": 42.481061,
         "INTPTLONG": -73.22006,
         "NAME": "Pittsfield, MA Urbanized Area",
         "POP10": 59124,
         "UATYPE": "U"
        },
        {
         "ALAND": 5116866,
         "ALAND_SQMI": 1.976,
         "AWATER": 0,
         "AWATER_SQMI": 0,
         "GEOID": 72532,
         "HU10": 4745,
         "INTPTLAT": 42.061194,
         "INTPTLONG": -70.187889,
         "NAME": "Provincetown, MA Urban Cluster",
         "POP10": 3152,
         "UATYPE": "C"
        },
        {
         "ALAND": 17073402,
         "ALAND_SQMI": 6.592,
         "AWATER": 211719,
         "AWATER_SQMI": 0.082,
         "GEOID": 83156,
         "HU10": 2323,
         "INTPTLAT": 42.434253,
         "INTPTLONG": -72.564163,
         "NAME": "South Deerfield, MA Urban Cluster",
         "POP10": 5028,
         "UATYPE": "C"
        },
        {
         "ALAND": 902757017,
         "ALAND_SQMI": 348.556,
         "AWATER": 26890068,
         "AWATER_SQMI": 10.382,
         "GEOID": 83926,
         "HU10": 250699,
         "INTPTLAT": 42.125901,
         "INTPTLONG": -72.573958,
         "NAME": "Springfield, MA--CT Urbanized Area",
         "POP10": 621300,
         "UATYPE": "U"
        },
        {
         "ALAND": 25473810,
         "ALAND_SQMI": 9.835,
         "AWATER": 2549062,
         "AWATER_SQMI": 0.984,
         "GEOID": 90757,
         "HU10": 8579,
         "INTPTLAT": 41.430304,
         "INTPTLONG": -70.57885,
         "NAME": "Vineyard Haven, MA Urban Cluster",
         "POP10": 10082,
         "UATYPE": "C"
        },
        {
         "ALAND": 20755416,
         "ALAND_SQMI": 8.014,
         "AWATER": 351883,
         "AWATER_SQMI": 0.136,
         "GEOID": 91756,
         "HU10": 4391,
         "INTPTLAT": 42.253005,
         "INTPTLONG": -72.2274,
         "NAME": "Ware, MA Urban Cluster",
         "POP10": 9146,
         "UATYPE": "C"
        },
        {
         "ALAND": 787645247,
         "ALAND_SQMI": 304.112,
         "AWATER": 33522645,
         "AWATER_SQMI": 12.943,
         "GEOID": 97291,
         "HU10": 201663,
         "INTPTLAT": 42.278357,
         "INTPTLONG": -71.703799,
         "NAME": "Worcester, MA--CT Urbanized Area",
         "POP10": 486514,
         "UATYPE": "U"
        }
       ],
       "schema": {
        "fields": [
         {
          "name": "GEOID",
          "type": "integer"
         },
         {
          "name": "NAME",
          "type": "string"
         },
         {
          "name": "UATYPE",
          "type": "string"
         },
         {
          "name": "POP10",
          "type": "integer"
         },
         {
          "name": "HU10",
          "type": "integer"
         },
         {
          "name": "ALAND",
          "type": "integer"
         },
         {
          "name": "AWATER",
          "type": "integer"
         },
         {
          "name": "ALAND_SQMI",
          "type": "number"
         },
         {
          "name": "AWATER_SQMI",
          "type": "number"
         },
         {
          "name": "INTPTLAT",
          "type": "number"
         },
         {
          "name": "INTPTLONG",
          "type": "number"
         }
        ]
       }
      },
      "text/html": [
       "<table><thead><tr><th>GEOID</th><th>NAME</th><th>UATYPE</th><th>POP10</th><th>HU10</th><th>ALAND</th><th>AWATER</th><th>ALAND_SQMI</th><th>AWATER_SQMI</th><th>INTPTLAT</th><th>INTPTLONG</th></tr></thead><tbody><tr><td>3790</td><td>&quot;Athol, MA Urban Cluster&quot;</td><td>&quot;C&quot;</td><td>12834</td><td>5927</td><td>24217774</td><td>1060120</td><td>9.351</td><td>0.409</td><td>42.5733</td><td>-72.2964</td></tr><tr><td>5167</td><td>&quot;Barnstable Town, MA Urbanized Area&quot;</td><td>&quot;U&quot;</td><td>246695</td><td>162112</td><td>718092279</td><td>58453185</td><td>277.257</td><td>22.569</td><td>41.6228</td><td>-70.5765</td></tr><tr><td>9271</td><td>&quot;Boston, MA--NH--RI Urbanized Area&quot;</td><td>&quot;U&quot;</td><td>4181019</td><td>1719241</td><td>4852227548</td><td>201870511</td><td>1873.46</td><td>77.943</td><td>42.3731</td><td>-71.1407</td></tr><tr><td>34678</td><td>&quot;Great Barrington, MA Urban Cluster&quot;</td><td>&quot;C&quot;</td><td>4571</td><td>2301</td><td>13357053</td><td>502406</td><td>5.157</td><td>0.194</td><td>42.2187</td><td>-73.3654</td></tr><tr><td>34975</td><td>&quot;Greenfield, MA Urban Cluster&quot;</td><td>&quot;C&quot;</td><td>22965</td><td>10890</td><td>36536672</td><td>871148</td><td>14.107</td><td>0.336</td><td>42.5871</td><td>-72.5666</td></tr><tr><td>48745</td><td>&quot;Lee, MA Urban Cluster&quot;</td><td>&quot;C&quot;</td><td>8049</td><td>4405</td><td>29465953</td><td>909863</td><td>11.377</td><td>0.351</td><td>42.3187</td><td>-73.2662</td></tr><tr><td>49096</td><td>&quot;Leominster--Fitchburg, MA Urbanized Area&quot;</td><td>&quot;U&quot;</td><td>116960</td><td>50827</td><td>168447165</td><td>5905576</td><td>65.038</td><td>2.28</td><td>42.5692</td><td>-71.8509</td></tr><tr><td>61003</td><td>&quot;Nantucket, MA Urban Cluster&quot;</td><td>&quot;C&quot;</td><td>8250</td><td>7222</td><td>20355592</td><td>487510</td><td>7.859</td><td>0.188</td><td>41.2636</td><td>-70.089</td></tr><tr><td>61786</td><td>&quot;New Bedford, MA Urbanized Area&quot;</td><td>&quot;U&quot;</td><td>149443</td><td>64978</td><td>142709138</td><td>14485580</td><td>55.1</td><td>5.593</td><td>41.6739</td><td>-70.9371</td></tr><tr><td>63460</td><td>&quot;North Adams, MA--VT Urban Cluster&quot;</td><td>&quot;C&quot;</td><td>18470</td><td>8202</td><td>25387260</td><td>419599</td><td>9.802</td><td>0.162</td><td>42.6908</td><td>-73.1089</td></tr><tr><td>&vellip;</td><td>&vellip;</td><td>&vellip;</td><td>&vellip;</td><td>&vellip;</td><td>&vellip;</td><td>&vellip;</td><td>&vellip;</td><td>&vellip;</td><td>&vellip;</td><td>&vellip;</td></tr></tbody></table><p>... with more rows.</p>"
      ],
      "text/plain": [
       "?x11 query result\n",
       "GEOID │ NAME                                     │ UATYPE │ POP10   │ HU10    │ ALAND      │ AWATER    │ ALAND_SQMI │ AWATER_SQMI │ INTPTLAT │ INTPTLONG\n",
       "──────┼──────────────────────────────────────────┼────────┼─────────┼─────────┼────────────┼───────────┼────────────┼─────────────┼──────────┼──────────\n",
       "3790  │ Athol, MA Urban Cluster                  │ C      │ 12834   │ 5927    │ 24217774   │ 1060120   │ 9.351      │ 0.409       │ 42.5733  │ -72.2964 \n",
       "5167  │ Barnstable Town, MA Urbanized Area       │ U      │ 246695  │ 162112  │ 718092279  │ 58453185  │ 277.257    │ 22.569      │ 41.6228  │ -70.5765 \n",
       "9271  │ Boston, MA--NH--RI Urbanized Area        │ U      │ 4181019 │ 1719241 │ 4852227548 │ 201870511 │ 1873.46    │ 77.943      │ 42.3731  │ -71.1407 \n",
       "34678 │ Great Barrington, MA Urban Cluster       │ C      │ 4571    │ 2301    │ 13357053   │ 502406    │ 5.157      │ 0.194       │ 42.2187  │ -73.3654 \n",
       "34975 │ Greenfield, MA Urban Cluster             │ C      │ 22965   │ 10890   │ 36536672   │ 871148    │ 14.107     │ 0.336       │ 42.5871  │ -72.5666 \n",
       "48745 │ Lee, MA Urban Cluster                    │ C      │ 8049    │ 4405    │ 29465953   │ 909863    │ 11.377     │ 0.351       │ 42.3187  │ -73.2662 \n",
       "49096 │ Leominster--Fitchburg, MA Urbanized Area │ U      │ 116960  │ 50827   │ 168447165  │ 5905576   │ 65.038     │ 2.28        │ 42.5692  │ -71.8509 \n",
       "61003 │ Nantucket, MA Urban Cluster              │ C      │ 8250    │ 7222    │ 20355592   │ 487510    │ 7.859      │ 0.188       │ 41.2636  │ -70.089  \n",
       "61786 │ New Bedford, MA Urbanized Area           │ U      │ 149443  │ 64978   │ 142709138  │ 14485580  │ 55.1       │ 5.593       │ 41.6739  │ -70.9371 \n",
       "63460 │ North Adams, MA--VT Urban Cluster        │ C      │ 18470   │ 8202    │ 25387260   │ 419599    │ 9.802      │ 0.162       │ 42.6908  │ -73.1089 \n",
       "... with more rows"
      ]
     },
     "execution_count": 10,
     "metadata": {},
     "output_type": "execute_result"
    }
   ],
   "source": [
    "census_data |> @filter(occursin(\" MA\",_.NAME))"
   ]
  },
  {
   "cell_type": "code",
   "execution_count": 8,
   "metadata": {},
   "outputs": [
    {
     "name": "stdout",
     "output_type": "stream",
     "text": [
      "search: \u001b[0m\u001b[1mo\u001b[22m\u001b[0m\u001b[1mc\u001b[22m\u001b[0m\u001b[1mc\u001b[22m\u001b[0m\u001b[1mu\u001b[22m\u001b[0m\u001b[1mr\u001b[22m\u001b[0m\u001b[1ms\u001b[22m\u001b[0m\u001b[1mi\u001b[22m\u001b[0m\u001b[1mn\u001b[22m\n",
      "\n"
     ]
    },
    {
     "data": {
      "text/latex": [
       "\\begin{verbatim}\n",
       "occursin(needle::Union{AbstractString,Regex,AbstractChar}, haystack::AbstractString)\n",
       "\\end{verbatim}\n",
       "Determine whether the first argument is a substring of the second. If \\texttt{needle} is a regular expression, checks whether \\texttt{haystack} contains a match.\n",
       "\n",
       "\\section{Examples}\n",
       "\\begin{verbatim}\n",
       "julia> occursin(\"Julia\", \"JuliaLang is pretty cool!\")\n",
       "true\n",
       "\n",
       "julia> occursin('a', \"JuliaLang is pretty cool!\")\n",
       "true\n",
       "\n",
       "julia> occursin(r\"a.a\", \"aba\")\n",
       "true\n",
       "\n",
       "julia> occursin(r\"a.a\", \"abba\")\n",
       "false\n",
       "\\end{verbatim}\n",
       "See also: \\href{@ref}{\\texttt{contains}}.\n",
       "\n"
      ],
      "text/markdown": [
       "```\n",
       "occursin(needle::Union{AbstractString,Regex,AbstractChar}, haystack::AbstractString)\n",
       "```\n",
       "\n",
       "Determine whether the first argument is a substring of the second. If `needle` is a regular expression, checks whether `haystack` contains a match.\n",
       "\n",
       "# Examples\n",
       "\n",
       "```jldoctest\n",
       "julia> occursin(\"Julia\", \"JuliaLang is pretty cool!\")\n",
       "true\n",
       "\n",
       "julia> occursin('a', \"JuliaLang is pretty cool!\")\n",
       "true\n",
       "\n",
       "julia> occursin(r\"a.a\", \"aba\")\n",
       "true\n",
       "\n",
       "julia> occursin(r\"a.a\", \"abba\")\n",
       "false\n",
       "```\n",
       "\n",
       "See also: [`contains`](@ref).\n"
      ],
      "text/plain": [
       "\u001b[36m  occursin(needle::Union{AbstractString,Regex,AbstractChar}, haystack::AbstractString)\u001b[39m\n",
       "\n",
       "  Determine whether the first argument is a substring of the second. If \u001b[36mneedle\u001b[39m is a regular expression, checks whether \u001b[36mhaystack\u001b[39m contains a match.\n",
       "\n",
       "\u001b[1m  Examples\u001b[22m\n",
       "\u001b[1m  ≡≡≡≡≡≡≡≡≡≡\u001b[22m\n",
       "\n",
       "\u001b[36m  julia> occursin(\"Julia\", \"JuliaLang is pretty cool!\")\u001b[39m\n",
       "\u001b[36m  true\u001b[39m\n",
       "\u001b[36m  \u001b[39m\n",
       "\u001b[36m  julia> occursin('a', \"JuliaLang is pretty cool!\")\u001b[39m\n",
       "\u001b[36m  true\u001b[39m\n",
       "\u001b[36m  \u001b[39m\n",
       "\u001b[36m  julia> occursin(r\"a.a\", \"aba\")\u001b[39m\n",
       "\u001b[36m  true\u001b[39m\n",
       "\u001b[36m  \u001b[39m\n",
       "\u001b[36m  julia> occursin(r\"a.a\", \"abba\")\u001b[39m\n",
       "\u001b[36m  false\u001b[39m\n",
       "\n",
       "  See also: \u001b[36mcontains\u001b[39m."
      ]
     },
     "execution_count": 8,
     "metadata": {},
     "output_type": "execute_result"
    }
   ],
   "source": [
    "?occursin"
   ]
  },
  {
   "cell_type": "code",
   "execution_count": null,
   "metadata": {},
   "outputs": [],
   "source": []
  }
 ],
 "metadata": {
  "kernelspec": {
   "display_name": "Julia 1.5.0-beta1",
   "language": "julia",
   "name": "julia-1.5"
  },
  "language_info": {
   "file_extension": ".jl",
   "mimetype": "application/julia",
   "name": "julia",
   "version": "1.5.0"
  }
 },
 "nbformat": 4,
 "nbformat_minor": 4
}
