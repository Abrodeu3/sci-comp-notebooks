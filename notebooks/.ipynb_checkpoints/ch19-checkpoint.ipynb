{
 "cells": [
  {
   "cell_type": "markdown",
   "metadata": {},
   "source": [
    "## Chapter 19: Data Analysis"
   ]
  },
  {
   "cell_type": "code",
   "execution_count": 1,
   "metadata": {},
   "outputs": [],
   "source": [
    "using RDatasets, StatsPlots"
   ]
  },
  {
   "cell_type": "code",
   "execution_count": 2,
   "metadata": {},
   "outputs": [
    {
     "data": {
      "text/html": [
       "<table class=\"data-frame\"><thead><tr><th></th><th>Package</th><th>Title</th></tr><tr><th></th><th>String</th><th>String</th></tr></thead><tbody><p>33 rows × 2 columns</p><tr><th>1</th><td>COUNT</td><td>Functions, data and code for count data.</td></tr><tr><th>2</th><td>Ecdat</td><td>Data sets for econometrics</td></tr><tr><th>3</th><td>HSAUR</td><td>A Handbook of Statistical Analyses Using R (1st Edition)</td></tr><tr><th>4</th><td>HistData</td><td>Data sets from the history of statistics and data visualization</td></tr><tr><th>5</th><td>ISLR</td><td>Data for An Introduction to Statistical Learning with Applications in R</td></tr><tr><th>6</th><td>KMsurv</td><td>Data sets from Klein and Moeschberger (1997), Survival Analysis</td></tr><tr><th>7</th><td>MASS</td><td>Support Functions and Datasets for Venables and Ripley's MASS</td></tr><tr><th>8</th><td>SASmixed</td><td>Data sets from \\\\</td></tr><tr><th>9</th><td>Zelig</td><td>Everyone's Statistical Software</td></tr><tr><th>10</th><td>adehabitatLT</td><td>Analysis of Animal Movements</td></tr><tr><th>11</th><td>boot</td><td>Bootstrap Functions (Originally by Angelo Canty for S)</td></tr><tr><th>12</th><td>car</td><td>Companion to Applied Regression</td></tr><tr><th>13</th><td>cluster</td><td>Cluster Analysis Extended Rousseeuw et al.</td></tr><tr><th>14</th><td>datasets</td><td>The R Datasets Package</td></tr><tr><th>15</th><td>gap</td><td>Genetic analysis package</td></tr><tr><th>16</th><td>ggplot2</td><td>An Implementation of the Grammar of Graphics</td></tr><tr><th>17</th><td>lattice</td><td>Lattice Graphics</td></tr><tr><th>18</th><td>lme4</td><td>Linear mixed-effects models using Eigen and S4</td></tr><tr><th>19</th><td>mgcv</td><td>Mixed GAM Computation Vehicle with GCV/AIC/REML smoothness estimation</td></tr><tr><th>20</th><td>mlmRev</td><td>Examples from Multilevel Modelling Software Review</td></tr><tr><th>21</th><td>nlreg</td><td>Higher Order Inference for Nonlinear Heteroscedastic Models</td></tr><tr><th>22</th><td>plm</td><td>Linear Models for Panel Data</td></tr><tr><th>23</th><td>plyr</td><td>Tools for splitting, applying and combining data</td></tr><tr><th>24</th><td>pscl</td><td>Political Science Computational Laboratory, Stanford University</td></tr><tr><th>25</th><td>psych</td><td>Procedures for Psychological, Psychometric, and Personality Research</td></tr><tr><th>26</th><td>quantreg</td><td>Quantile Regression</td></tr><tr><th>27</th><td>reshape2</td><td>Flexibly Reshape Data: A Reboot of the Reshape Package.</td></tr><tr><th>28</th><td>robustbase</td><td>Basic Robust Statistics</td></tr><tr><th>29</th><td>rpart</td><td>Recursive Partitioning and Regression Trees</td></tr><tr><th>30</th><td>sandwich</td><td>Robust Covariance Matrix Estimators</td></tr><tr><th>&vellip;</th><td>&vellip;</td><td>&vellip;</td></tr></tbody></table>"
      ],
      "text/latex": [
       "\\begin{tabular}{r|cc}\n",
       "\t& Package & Title\\\\\n",
       "\t\\hline\n",
       "\t& String & String\\\\\n",
       "\t\\hline\n",
       "\t1 & COUNT & Functions, data and code for count data. \\\\\n",
       "\t2 & Ecdat & Data sets for econometrics \\\\\n",
       "\t3 & HSAUR & A Handbook of Statistical Analyses Using R (1st Edition) \\\\\n",
       "\t4 & HistData & Data sets from the history of statistics and data visualization \\\\\n",
       "\t5 & ISLR & Data for An Introduction to Statistical Learning with Applications in R \\\\\n",
       "\t6 & KMsurv & Data sets from Klein and Moeschberger (1997), Survival Analysis \\\\\n",
       "\t7 & MASS & Support Functions and Datasets for Venables and Ripley's MASS \\\\\n",
       "\t8 & SASmixed & Data sets from \\textbackslash{}\\textbackslash{} \\\\\n",
       "\t9 & Zelig & Everyone's Statistical Software \\\\\n",
       "\t10 & adehabitatLT & Analysis of Animal Movements \\\\\n",
       "\t11 & boot & Bootstrap Functions (Originally by Angelo Canty for S) \\\\\n",
       "\t12 & car & Companion to Applied Regression \\\\\n",
       "\t13 & cluster & Cluster Analysis Extended Rousseeuw et al. \\\\\n",
       "\t14 & datasets & The R Datasets Package \\\\\n",
       "\t15 & gap & Genetic analysis package \\\\\n",
       "\t16 & ggplot2 & An Implementation of the Grammar of Graphics \\\\\n",
       "\t17 & lattice & Lattice Graphics \\\\\n",
       "\t18 & lme4 & Linear mixed-effects models using Eigen and S4 \\\\\n",
       "\t19 & mgcv & Mixed GAM Computation Vehicle with GCV/AIC/REML smoothness estimation \\\\\n",
       "\t20 & mlmRev & Examples from Multilevel Modelling Software Review \\\\\n",
       "\t21 & nlreg & Higher Order Inference for Nonlinear Heteroscedastic Models \\\\\n",
       "\t22 & plm & Linear Models for Panel Data \\\\\n",
       "\t23 & plyr & Tools for splitting, applying and combining data \\\\\n",
       "\t24 & pscl & Political Science Computational Laboratory, Stanford University \\\\\n",
       "\t25 & psych & Procedures for Psychological, Psychometric, and Personality Research \\\\\n",
       "\t26 & quantreg & Quantile Regression \\\\\n",
       "\t27 & reshape2 & Flexibly Reshape Data: A Reboot of the Reshape Package. \\\\\n",
       "\t28 & robustbase & Basic Robust Statistics \\\\\n",
       "\t29 & rpart & Recursive Partitioning and Regression Trees \\\\\n",
       "\t30 & sandwich & Robust Covariance Matrix Estimators \\\\\n",
       "\t$\\dots$ & $\\dots$ & $\\dots$ \\\\\n",
       "\\end{tabular}\n"
      ],
      "text/plain": [
       "33×2 DataFrame. Omitted printing of 1 columns\n",
       "│ Row │ Package      │\n",
       "│     │ \u001b[90mString\u001b[39m       │\n",
       "├─────┼──────────────┤\n",
       "│ 1   │ COUNT        │\n",
       "│ 2   │ Ecdat        │\n",
       "│ 3   │ HSAUR        │\n",
       "│ 4   │ HistData     │\n",
       "│ 5   │ ISLR         │\n",
       "│ 6   │ KMsurv       │\n",
       "│ 7   │ MASS         │\n",
       "│ 8   │ SASmixed     │\n",
       "│ 9   │ Zelig        │\n",
       "│ 10  │ adehabitatLT │\n",
       "⋮\n",
       "│ 23  │ plyr         │\n",
       "│ 24  │ pscl         │\n",
       "│ 25  │ psych        │\n",
       "│ 26  │ quantreg     │\n",
       "│ 27  │ reshape2     │\n",
       "│ 28  │ robustbase   │\n",
       "│ 29  │ rpart        │\n",
       "│ 30  │ sandwich     │\n",
       "│ 31  │ sem          │\n",
       "│ 32  │ survival     │\n",
       "│ 33  │ vcd          │"
      ]
     },
     "execution_count": 2,
     "metadata": {},
     "output_type": "execute_result"
    }
   ],
   "source": [
    "RDatasets.packages()"
   ]
  },
  {
   "cell_type": "code",
   "execution_count": 3,
   "metadata": {},
   "outputs": [
    {
     "data": {
      "text/html": [
       "<table class=\"data-frame\"><thead><tr><th></th><th>Package</th><th>Dataset</th><th>Title</th></tr><tr><th></th><th>String</th><th>String</th><th>String</th></tr></thead><tbody><p>50 rows × 5 columns (omitted printing of 2 columns)</p><tr><th>1</th><td>datasets</td><td>BOD</td><td>Biochemical Oxygen Demand</td></tr><tr><th>2</th><td>datasets</td><td>CO2</td><td>Carbon Dioxide Uptake in Grass Plants</td></tr><tr><th>3</th><td>datasets</td><td>Formaldehyde</td><td>Determination of Formaldehyde</td></tr><tr><th>4</th><td>datasets</td><td>HairEyeColor</td><td>Hair and Eye Color of Statistics Students</td></tr><tr><th>5</th><td>datasets</td><td>InsectSprays</td><td>Effectiveness of Insect Sprays</td></tr><tr><th>6</th><td>datasets</td><td>LifeCycleSavings</td><td>Intercountry Life-Cycle Savings Data</td></tr><tr><th>7</th><td>datasets</td><td>Loblolly</td><td>Growth of Loblolly pine trees</td></tr><tr><th>8</th><td>datasets</td><td>OrchardSprays</td><td>Potency of Orchard Sprays</td></tr><tr><th>9</th><td>datasets</td><td>PlantGrowth</td><td>Results from an Experiment on Plant Growth</td></tr><tr><th>10</th><td>datasets</td><td>Puromycin</td><td>Reaction Velocity of an Enzymatic Reaction</td></tr><tr><th>11</th><td>datasets</td><td>Theoph</td><td>Pharmacokinetics of Theophylline</td></tr><tr><th>12</th><td>datasets</td><td>Titanic</td><td>Survival of passengers on the Titanic</td></tr><tr><th>13</th><td>datasets</td><td>ToothGrowth</td><td>The Effect of Vitamin C on Tooth Growth in Guinea Pigs</td></tr><tr><th>14</th><td>datasets</td><td>UCBAdmissions</td><td>Student Admissions at UC Berkeley</td></tr><tr><th>15</th><td>datasets</td><td>USArrests</td><td>Violent Crime Rates by US State</td></tr><tr><th>16</th><td>datasets</td><td>USJudgeRatings</td><td>Lawyers' Ratings of State Judges in the US Superior Court</td></tr><tr><th>17</th><td>datasets</td><td>USPersonalExpenditure</td><td>Personal Expenditure Data</td></tr><tr><th>18</th><td>datasets</td><td>VADeaths</td><td>Death Rates in Virginia (1940)</td></tr><tr><th>19</th><td>datasets</td><td>WorldPhones</td><td>The World's Telephones</td></tr><tr><th>20</th><td>datasets</td><td>airquality</td><td>New York Air Quality Measurements</td></tr><tr><th>21</th><td>datasets</td><td>anscombe</td><td>Anscombe's Quartet of 'Identical' Simple Linear Regressions</td></tr><tr><th>22</th><td>datasets</td><td>attenu</td><td>The Joyner-Boore Attenuation Data</td></tr><tr><th>23</th><td>datasets</td><td>attitude</td><td>The Chatterjee-Price Attitude Data</td></tr><tr><th>24</th><td>datasets</td><td>cars</td><td>Speed and Stopping Distances of Cars</td></tr><tr><th>25</th><td>datasets</td><td>chickwts</td><td>Chicken Weights by Feed Type</td></tr><tr><th>26</th><td>datasets</td><td>crimtab</td><td>Student's 3000 Criminals Data</td></tr><tr><th>27</th><td>datasets</td><td>esoph</td><td>Smoking, Alcohol and (O)esophageal Cancer</td></tr><tr><th>28</th><td>datasets</td><td>euro</td><td>Conversion Rates of Euro Currencies</td></tr><tr><th>29</th><td>datasets</td><td>faithful</td><td>Old Faithful Geyser Data</td></tr><tr><th>30</th><td>datasets</td><td>freeny</td><td>Freeny's Revenue Data</td></tr><tr><th>&vellip;</th><td>&vellip;</td><td>&vellip;</td><td>&vellip;</td></tr></tbody></table>"
      ],
      "text/latex": [
       "\\begin{tabular}{r|cccc}\n",
       "\t& Package & Dataset & Title & \\\\\n",
       "\t\\hline\n",
       "\t& String & String & String & \\\\\n",
       "\t\\hline\n",
       "\t1 & datasets & BOD & Biochemical Oxygen Demand & $\\dots$ \\\\\n",
       "\t2 & datasets & CO2 & Carbon Dioxide Uptake in Grass Plants & $\\dots$ \\\\\n",
       "\t3 & datasets & Formaldehyde & Determination of Formaldehyde & $\\dots$ \\\\\n",
       "\t4 & datasets & HairEyeColor & Hair and Eye Color of Statistics Students & $\\dots$ \\\\\n",
       "\t5 & datasets & InsectSprays & Effectiveness of Insect Sprays & $\\dots$ \\\\\n",
       "\t6 & datasets & LifeCycleSavings & Intercountry Life-Cycle Savings Data & $\\dots$ \\\\\n",
       "\t7 & datasets & Loblolly & Growth of Loblolly pine trees & $\\dots$ \\\\\n",
       "\t8 & datasets & OrchardSprays & Potency of Orchard Sprays & $\\dots$ \\\\\n",
       "\t9 & datasets & PlantGrowth & Results from an Experiment on Plant Growth & $\\dots$ \\\\\n",
       "\t10 & datasets & Puromycin & Reaction Velocity of an Enzymatic Reaction & $\\dots$ \\\\\n",
       "\t11 & datasets & Theoph & Pharmacokinetics of Theophylline & $\\dots$ \\\\\n",
       "\t12 & datasets & Titanic & Survival of passengers on the Titanic & $\\dots$ \\\\\n",
       "\t13 & datasets & ToothGrowth & The Effect of Vitamin C on Tooth Growth in Guinea Pigs & $\\dots$ \\\\\n",
       "\t14 & datasets & UCBAdmissions & Student Admissions at UC Berkeley & $\\dots$ \\\\\n",
       "\t15 & datasets & USArrests & Violent Crime Rates by US State & $\\dots$ \\\\\n",
       "\t16 & datasets & USJudgeRatings & Lawyers' Ratings of State Judges in the US Superior Court & $\\dots$ \\\\\n",
       "\t17 & datasets & USPersonalExpenditure & Personal Expenditure Data & $\\dots$ \\\\\n",
       "\t18 & datasets & VADeaths & Death Rates in Virginia (1940) & $\\dots$ \\\\\n",
       "\t19 & datasets & WorldPhones & The World's Telephones & $\\dots$ \\\\\n",
       "\t20 & datasets & airquality & New York Air Quality Measurements & $\\dots$ \\\\\n",
       "\t21 & datasets & anscombe & Anscombe's Quartet of 'Identical' Simple Linear Regressions & $\\dots$ \\\\\n",
       "\t22 & datasets & attenu & The Joyner-Boore Attenuation Data & $\\dots$ \\\\\n",
       "\t23 & datasets & attitude & The Chatterjee-Price Attitude Data & $\\dots$ \\\\\n",
       "\t24 & datasets & cars & Speed and Stopping Distances of Cars & $\\dots$ \\\\\n",
       "\t25 & datasets & chickwts & Chicken Weights by Feed Type & $\\dots$ \\\\\n",
       "\t26 & datasets & crimtab & Student's 3000 Criminals Data & $\\dots$ \\\\\n",
       "\t27 & datasets & esoph & Smoking, Alcohol and (O)esophageal Cancer & $\\dots$ \\\\\n",
       "\t28 & datasets & euro & Conversion Rates of Euro Currencies & $\\dots$ \\\\\n",
       "\t29 & datasets & faithful & Old Faithful Geyser Data & $\\dots$ \\\\\n",
       "\t30 & datasets & freeny & Freeny's Revenue Data & $\\dots$ \\\\\n",
       "\t$\\dots$ & $\\dots$ & $\\dots$ & $\\dots$ &  \\\\\n",
       "\\end{tabular}\n"
      ],
      "text/plain": [
       "50×5 DataFrame. Omitted printing of 3 columns\n",
       "│ Row │ Package  │ Dataset          │\n",
       "│     │ \u001b[90mString\u001b[39m   │ \u001b[90mString\u001b[39m           │\n",
       "├─────┼──────────┼──────────────────┤\n",
       "│ 1   │ datasets │ BOD              │\n",
       "│ 2   │ datasets │ CO2              │\n",
       "│ 3   │ datasets │ Formaldehyde     │\n",
       "│ 4   │ datasets │ HairEyeColor     │\n",
       "│ 5   │ datasets │ InsectSprays     │\n",
       "│ 6   │ datasets │ LifeCycleSavings │\n",
       "│ 7   │ datasets │ Loblolly         │\n",
       "│ 8   │ datasets │ OrchardSprays    │\n",
       "│ 9   │ datasets │ PlantGrowth      │\n",
       "│ 10  │ datasets │ Puromycin        │\n",
       "⋮\n",
       "│ 40  │ datasets │ quakes           │\n",
       "│ 41  │ datasets │ randu            │\n",
       "│ 42  │ datasets │ rivers           │\n",
       "│ 43  │ datasets │ rock             │\n",
       "│ 44  │ datasets │ sleep            │\n",
       "│ 45  │ datasets │ stackloss        │\n",
       "│ 46  │ datasets │ swiss            │\n",
       "│ 47  │ datasets │ trees            │\n",
       "│ 48  │ datasets │ volcano          │\n",
       "│ 49  │ datasets │ warpbreaks       │\n",
       "│ 50  │ datasets │ women            │"
      ]
     },
     "execution_count": 3,
     "metadata": {},
     "output_type": "execute_result"
    }
   ],
   "source": [
    "RDatasets.datasets(\"datasets\")"
   ]
  },
  {
   "cell_type": "code",
   "execution_count": 4,
   "metadata": {},
   "outputs": [
    {
     "data": {
      "text/html": [
       "<table class=\"data-frame\"><thead><tr><th></th><th>SepalLength</th><th>SepalWidth</th><th>PetalLength</th><th>PetalWidth</th><th>Species</th></tr><tr><th></th><th>Float64</th><th>Float64</th><th>Float64</th><th>Float64</th><th>Cat…</th></tr></thead><tbody><p>150 rows × 5 columns</p><tr><th>1</th><td>5.1</td><td>3.5</td><td>1.4</td><td>0.2</td><td>setosa</td></tr><tr><th>2</th><td>4.9</td><td>3.0</td><td>1.4</td><td>0.2</td><td>setosa</td></tr><tr><th>3</th><td>4.7</td><td>3.2</td><td>1.3</td><td>0.2</td><td>setosa</td></tr><tr><th>4</th><td>4.6</td><td>3.1</td><td>1.5</td><td>0.2</td><td>setosa</td></tr><tr><th>5</th><td>5.0</td><td>3.6</td><td>1.4</td><td>0.2</td><td>setosa</td></tr><tr><th>6</th><td>5.4</td><td>3.9</td><td>1.7</td><td>0.4</td><td>setosa</td></tr><tr><th>7</th><td>4.6</td><td>3.4</td><td>1.4</td><td>0.3</td><td>setosa</td></tr><tr><th>8</th><td>5.0</td><td>3.4</td><td>1.5</td><td>0.2</td><td>setosa</td></tr><tr><th>9</th><td>4.4</td><td>2.9</td><td>1.4</td><td>0.2</td><td>setosa</td></tr><tr><th>10</th><td>4.9</td><td>3.1</td><td>1.5</td><td>0.1</td><td>setosa</td></tr><tr><th>11</th><td>5.4</td><td>3.7</td><td>1.5</td><td>0.2</td><td>setosa</td></tr><tr><th>12</th><td>4.8</td><td>3.4</td><td>1.6</td><td>0.2</td><td>setosa</td></tr><tr><th>13</th><td>4.8</td><td>3.0</td><td>1.4</td><td>0.1</td><td>setosa</td></tr><tr><th>14</th><td>4.3</td><td>3.0</td><td>1.1</td><td>0.1</td><td>setosa</td></tr><tr><th>15</th><td>5.8</td><td>4.0</td><td>1.2</td><td>0.2</td><td>setosa</td></tr><tr><th>16</th><td>5.7</td><td>4.4</td><td>1.5</td><td>0.4</td><td>setosa</td></tr><tr><th>17</th><td>5.4</td><td>3.9</td><td>1.3</td><td>0.4</td><td>setosa</td></tr><tr><th>18</th><td>5.1</td><td>3.5</td><td>1.4</td><td>0.3</td><td>setosa</td></tr><tr><th>19</th><td>5.7</td><td>3.8</td><td>1.7</td><td>0.3</td><td>setosa</td></tr><tr><th>20</th><td>5.1</td><td>3.8</td><td>1.5</td><td>0.3</td><td>setosa</td></tr><tr><th>21</th><td>5.4</td><td>3.4</td><td>1.7</td><td>0.2</td><td>setosa</td></tr><tr><th>22</th><td>5.1</td><td>3.7</td><td>1.5</td><td>0.4</td><td>setosa</td></tr><tr><th>23</th><td>4.6</td><td>3.6</td><td>1.0</td><td>0.2</td><td>setosa</td></tr><tr><th>24</th><td>5.1</td><td>3.3</td><td>1.7</td><td>0.5</td><td>setosa</td></tr><tr><th>25</th><td>4.8</td><td>3.4</td><td>1.9</td><td>0.2</td><td>setosa</td></tr><tr><th>26</th><td>5.0</td><td>3.0</td><td>1.6</td><td>0.2</td><td>setosa</td></tr><tr><th>27</th><td>5.0</td><td>3.4</td><td>1.6</td><td>0.4</td><td>setosa</td></tr><tr><th>28</th><td>5.2</td><td>3.5</td><td>1.5</td><td>0.2</td><td>setosa</td></tr><tr><th>29</th><td>5.2</td><td>3.4</td><td>1.4</td><td>0.2</td><td>setosa</td></tr><tr><th>30</th><td>4.7</td><td>3.2</td><td>1.6</td><td>0.2</td><td>setosa</td></tr><tr><th>&vellip;</th><td>&vellip;</td><td>&vellip;</td><td>&vellip;</td><td>&vellip;</td><td>&vellip;</td></tr></tbody></table>"
      ],
      "text/latex": [
       "\\begin{tabular}{r|ccccc}\n",
       "\t& SepalLength & SepalWidth & PetalLength & PetalWidth & Species\\\\\n",
       "\t\\hline\n",
       "\t& Float64 & Float64 & Float64 & Float64 & Cat…\\\\\n",
       "\t\\hline\n",
       "\t1 & 5.1 & 3.5 & 1.4 & 0.2 & setosa \\\\\n",
       "\t2 & 4.9 & 3.0 & 1.4 & 0.2 & setosa \\\\\n",
       "\t3 & 4.7 & 3.2 & 1.3 & 0.2 & setosa \\\\\n",
       "\t4 & 4.6 & 3.1 & 1.5 & 0.2 & setosa \\\\\n",
       "\t5 & 5.0 & 3.6 & 1.4 & 0.2 & setosa \\\\\n",
       "\t6 & 5.4 & 3.9 & 1.7 & 0.4 & setosa \\\\\n",
       "\t7 & 4.6 & 3.4 & 1.4 & 0.3 & setosa \\\\\n",
       "\t8 & 5.0 & 3.4 & 1.5 & 0.2 & setosa \\\\\n",
       "\t9 & 4.4 & 2.9 & 1.4 & 0.2 & setosa \\\\\n",
       "\t10 & 4.9 & 3.1 & 1.5 & 0.1 & setosa \\\\\n",
       "\t11 & 5.4 & 3.7 & 1.5 & 0.2 & setosa \\\\\n",
       "\t12 & 4.8 & 3.4 & 1.6 & 0.2 & setosa \\\\\n",
       "\t13 & 4.8 & 3.0 & 1.4 & 0.1 & setosa \\\\\n",
       "\t14 & 4.3 & 3.0 & 1.1 & 0.1 & setosa \\\\\n",
       "\t15 & 5.8 & 4.0 & 1.2 & 0.2 & setosa \\\\\n",
       "\t16 & 5.7 & 4.4 & 1.5 & 0.4 & setosa \\\\\n",
       "\t17 & 5.4 & 3.9 & 1.3 & 0.4 & setosa \\\\\n",
       "\t18 & 5.1 & 3.5 & 1.4 & 0.3 & setosa \\\\\n",
       "\t19 & 5.7 & 3.8 & 1.7 & 0.3 & setosa \\\\\n",
       "\t20 & 5.1 & 3.8 & 1.5 & 0.3 & setosa \\\\\n",
       "\t21 & 5.4 & 3.4 & 1.7 & 0.2 & setosa \\\\\n",
       "\t22 & 5.1 & 3.7 & 1.5 & 0.4 & setosa \\\\\n",
       "\t23 & 4.6 & 3.6 & 1.0 & 0.2 & setosa \\\\\n",
       "\t24 & 5.1 & 3.3 & 1.7 & 0.5 & setosa \\\\\n",
       "\t25 & 4.8 & 3.4 & 1.9 & 0.2 & setosa \\\\\n",
       "\t26 & 5.0 & 3.0 & 1.6 & 0.2 & setosa \\\\\n",
       "\t27 & 5.0 & 3.4 & 1.6 & 0.4 & setosa \\\\\n",
       "\t28 & 5.2 & 3.5 & 1.5 & 0.2 & setosa \\\\\n",
       "\t29 & 5.2 & 3.4 & 1.4 & 0.2 & setosa \\\\\n",
       "\t30 & 4.7 & 3.2 & 1.6 & 0.2 & setosa \\\\\n",
       "\t$\\dots$ & $\\dots$ & $\\dots$ & $\\dots$ & $\\dots$ & $\\dots$ \\\\\n",
       "\\end{tabular}\n"
      ],
      "text/plain": [
       "150×5 DataFrame\n",
       "│ Row │ SepalLength │ SepalWidth │ PetalLength │ PetalWidth │ Species   │\n",
       "│     │ \u001b[90mFloat64\u001b[39m     │ \u001b[90mFloat64\u001b[39m    │ \u001b[90mFloat64\u001b[39m     │ \u001b[90mFloat64\u001b[39m    │ \u001b[90mCat…\u001b[39m      │\n",
       "├─────┼─────────────┼────────────┼─────────────┼────────────┼───────────┤\n",
       "│ 1   │ 5.1         │ 3.5        │ 1.4         │ 0.2        │ setosa    │\n",
       "│ 2   │ 4.9         │ 3.0        │ 1.4         │ 0.2        │ setosa    │\n",
       "│ 3   │ 4.7         │ 3.2        │ 1.3         │ 0.2        │ setosa    │\n",
       "│ 4   │ 4.6         │ 3.1        │ 1.5         │ 0.2        │ setosa    │\n",
       "│ 5   │ 5.0         │ 3.6        │ 1.4         │ 0.2        │ setosa    │\n",
       "│ 6   │ 5.4         │ 3.9        │ 1.7         │ 0.4        │ setosa    │\n",
       "│ 7   │ 4.6         │ 3.4        │ 1.4         │ 0.3        │ setosa    │\n",
       "│ 8   │ 5.0         │ 3.4        │ 1.5         │ 0.2        │ setosa    │\n",
       "│ 9   │ 4.4         │ 2.9        │ 1.4         │ 0.2        │ setosa    │\n",
       "│ 10  │ 4.9         │ 3.1        │ 1.5         │ 0.1        │ setosa    │\n",
       "⋮\n",
       "│ 140 │ 6.9         │ 3.1        │ 5.4         │ 2.1        │ virginica │\n",
       "│ 141 │ 6.7         │ 3.1        │ 5.6         │ 2.4        │ virginica │\n",
       "│ 142 │ 6.9         │ 3.1        │ 5.1         │ 2.3        │ virginica │\n",
       "│ 143 │ 5.8         │ 2.7        │ 5.1         │ 1.9        │ virginica │\n",
       "│ 144 │ 6.8         │ 3.2        │ 5.9         │ 2.3        │ virginica │\n",
       "│ 145 │ 6.7         │ 3.3        │ 5.7         │ 2.5        │ virginica │\n",
       "│ 146 │ 6.7         │ 3.0        │ 5.2         │ 2.3        │ virginica │\n",
       "│ 147 │ 6.3         │ 2.5        │ 5.0         │ 1.9        │ virginica │\n",
       "│ 148 │ 6.5         │ 3.0        │ 5.2         │ 2.0        │ virginica │\n",
       "│ 149 │ 6.2         │ 3.4        │ 5.4         │ 2.3        │ virginica │\n",
       "│ 150 │ 5.9         │ 3.0        │ 5.1         │ 1.8        │ virginica │"
      ]
     },
     "execution_count": 4,
     "metadata": {},
     "output_type": "execute_result"
    }
   ],
   "source": [
    "iris=RDatasets.dataset(\"datasets\",\"iris\")"
   ]
  },
  {
   "cell_type": "code",
   "execution_count": 5,
   "metadata": {},
   "outputs": [
    {
     "data": {
      "text/plain": [
       "10-element Array{Float64,1}:\n",
       " 3.7\n",
       " 3.4\n",
       " 3.0\n",
       " 3.0\n",
       " 4.0\n",
       " 4.4\n",
       " 3.9\n",
       " 3.5\n",
       " 3.8\n",
       " 3.8"
      ]
     },
     "execution_count": 5,
     "metadata": {},
     "output_type": "execute_result"
    }
   ],
   "source": [
    "iris[11:20,:SepalWidth]"
   ]
  },
  {
   "cell_type": "code",
   "execution_count": 6,
   "metadata": {},
   "outputs": [
    {
     "data": {
      "text/html": [
       "<table class=\"data-frame\"><thead><tr><th></th><th>A</th><th>B</th><th>C</th></tr><tr><th></th><th>Int64</th><th>String</th><th>Float64</th></tr></thead><tbody><p>4 rows × 3 columns</p><tr><th>1</th><td>1</td><td>M</td><td>3.0</td></tr><tr><th>2</th><td>2</td><td>F</td><td>2.5</td></tr><tr><th>3</th><td>3</td><td>F</td><td>3.14159</td></tr><tr><th>4</th><td>4</td><td>M</td><td>-2.3</td></tr></tbody></table>"
      ],
      "text/latex": [
       "\\begin{tabular}{r|ccc}\n",
       "\t& A & B & C\\\\\n",
       "\t\\hline\n",
       "\t& Int64 & String & Float64\\\\\n",
       "\t\\hline\n",
       "\t1 & 1 & M & 3.0 \\\\\n",
       "\t2 & 2 & F & 2.5 \\\\\n",
       "\t3 & 3 & F & 3.14159 \\\\\n",
       "\t4 & 4 & M & -2.3 \\\\\n",
       "\\end{tabular}\n"
      ],
      "text/plain": [
       "4×3 DataFrame\n",
       "│ Row │ A     │ B      │ C       │\n",
       "│     │ \u001b[90mInt64\u001b[39m │ \u001b[90mString\u001b[39m │ \u001b[90mFloat64\u001b[39m │\n",
       "├─────┼───────┼────────┼─────────┤\n",
       "│ 1   │ 1     │ M      │ 3.0     │\n",
       "│ 2   │ 2     │ F      │ 2.5     │\n",
       "│ 3   │ 3     │ F      │ 3.14159 │\n",
       "│ 4   │ 4     │ M      │ -2.3    │"
      ]
     },
     "execution_count": 6,
     "metadata": {},
     "output_type": "execute_result"
    }
   ],
   "source": [
    "data = DataFrame(A = 1:4, B = [\"M\", \"F\", \"F\", \"M\"], C=[3.0,2.5,pi,-2.3])"
   ]
  },
  {
   "cell_type": "code",
   "execution_count": null,
   "metadata": {},
   "outputs": [],
   "source": [
    "plot(iris[!,:SepalLength],iris[!,:SepalWidth],seriestype=:scatter)"
   ]
  },
  {
   "cell_type": "code",
   "execution_count": null,
   "metadata": {},
   "outputs": [],
   "source": [
    "@df iris scatter(:SepalLength,:SepalWidth)"
   ]
  },
  {
   "cell_type": "code",
   "execution_count": null,
   "metadata": {},
   "outputs": [],
   "source": [
    "@df iris scatter(:SepalLength,:SepalWidth,group=:Species)"
   ]
  },
  {
   "cell_type": "code",
   "execution_count": null,
   "metadata": {},
   "outputs": [],
   "source": []
  }
 ],
 "metadata": {
  "kernelspec": {
   "display_name": "Julia 1.5.0-beta1",
   "language": "julia",
   "name": "julia-1.5"
  },
  "language_info": {
   "file_extension": ".jl",
   "mimetype": "application/julia",
   "name": "julia",
   "version": "1.5.0"
  }
 },
 "nbformat": 4,
 "nbformat_minor": 4
}
