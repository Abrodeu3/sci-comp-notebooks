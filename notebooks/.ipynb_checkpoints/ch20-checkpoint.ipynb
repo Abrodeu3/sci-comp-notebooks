{
 "cells": [
  {
   "cell_type": "markdown",
   "metadata": {},
   "source": [
    "## Chapter 20: Analyzing Census Data"
   ]
  },
  {
   "cell_type": "code",
   "execution_count": 4,
   "metadata": {},
   "outputs": [],
   "source": []
  },
  {
   "cell_type": "code",
   "execution_count": 6,
   "metadata": {},
   "outputs": [
    {
     "data": {
      "text/html": [
       "<table class=\"data-frame\"><thead><tr><th></th><th>GEOID</th><th>NAME</th><th>UATYPE</th><th>POP10</th></tr><tr><th></th><th>Int64</th><th>String</th><th>String</th><th>Int64</th></tr></thead><tbody><p>3,592 rows × 11 columns (omitted printing of 7 columns)</p><tr><th>1</th><td>37</td><td>Abbeville, LA Urban Cluster</td><td>C</td><td>19824</td></tr><tr><th>2</th><td>64</td><td>Abbeville, SC Urban Cluster</td><td>C</td><td>5243</td></tr><tr><th>3</th><td>91</td><td>Abbotsford, WI Urban Cluster</td><td>C</td><td>3966</td></tr><tr><th>4</th><td>118</td><td>Aberdeen, MS Urban Cluster</td><td>C</td><td>4666</td></tr><tr><th>5</th><td>145</td><td>Aberdeen, SD Urban Cluster</td><td>C</td><td>25977</td></tr><tr><th>6</th><td>172</td><td>Aberdeen, WA Urban Cluster</td><td>C</td><td>29856</td></tr><tr><th>7</th><td>199</td><td>Aberdeen--Bel Air South--Bel Air North, MD Urbanized Area</td><td>U</td><td>213751</td></tr><tr><th>8</th><td>226</td><td>Abernathy, TX Urban Cluster</td><td>C</td><td>2785</td></tr><tr><th>9</th><td>253</td><td>Abilene, KS Urban Cluster</td><td>C</td><td>7054</td></tr><tr><th>10</th><td>280</td><td>Abilene, TX Urbanized Area</td><td>U</td><td>110421</td></tr><tr><th>11</th><td>334</td><td>Abingdon, IL Urban Cluster</td><td>C</td><td>3389</td></tr><tr><th>12</th><td>388</td><td>Ada, OH Urban Cluster</td><td>C</td><td>5945</td></tr><tr><th>13</th><td>415</td><td>Ada, OK Urban Cluster</td><td>C</td><td>17400</td></tr><tr><th>14</th><td>450</td><td>Adams, NY Urban Cluster</td><td>C</td><td>2542</td></tr><tr><th>15</th><td>469</td><td>Adel, GA Urban Cluster</td><td>C</td><td>6986</td></tr><tr><th>16</th><td>496</td><td>Adel, IA Urban Cluster</td><td>C</td><td>3170</td></tr><tr><th>17</th><td>550</td><td>Adjuntas, PR Urban Cluster</td><td>C</td><td>11122</td></tr><tr><th>18</th><td>577</td><td>Adrian, MI Urban Cluster</td><td>C</td><td>44823</td></tr><tr><th>19</th><td>631</td><td>Aguadilla--Isabela--San Sebasti�n, PR Urbanized Area</td><td>U</td><td>306196</td></tr><tr><th>20</th><td>658</td><td>Ahoskie, NC Urban Cluster</td><td>C</td><td>4951</td></tr><tr><th>21</th><td>676</td><td>Air Force Academy, CO Urban Cluster</td><td>C</td><td>5512</td></tr><tr><th>22</th><td>712</td><td>Ajo, AZ Urban Cluster</td><td>C</td><td>3076</td></tr><tr><th>23</th><td>739</td><td>Akron, NY Urban Cluster</td><td>C</td><td>2982</td></tr><tr><th>24</th><td>766</td><td>Akron, OH Urbanized Area</td><td>U</td><td>569499</td></tr><tr><th>25</th><td>793</td><td>Alachua, FL Urban Cluster</td><td>C</td><td>4114</td></tr><tr><th>26</th><td>820</td><td>Alamogordo, NM Urban Cluster</td><td>C</td><td>31862</td></tr><tr><th>27</th><td>847</td><td>Alamosa, CO Urban Cluster</td><td>C</td><td>9751</td></tr><tr><th>28</th><td>901</td><td>Albany, GA Urbanized Area</td><td>U</td><td>95779</td></tr><tr><th>29</th><td>921</td><td>Albany, MN Urban Cluster</td><td>C</td><td>2564</td></tr><tr><th>30</th><td>955</td><td>Albany, OR Urbanized Area</td><td>U</td><td>56997</td></tr><tr><th>&vellip;</th><td>&vellip;</td><td>&vellip;</td><td>&vellip;</td><td>&vellip;</td></tr></tbody></table>"
      ],
      "text/latex": [
       "\\begin{tabular}{r|ccccc}\n",
       "\t& GEOID & NAME & UATYPE & POP10 & \\\\\n",
       "\t\\hline\n",
       "\t& Int64 & String & String & Int64 & \\\\\n",
       "\t\\hline\n",
       "\t1 & 37 & Abbeville, LA Urban Cluster & C & 19824 & $\\dots$ \\\\\n",
       "\t2 & 64 & Abbeville, SC Urban Cluster & C & 5243 & $\\dots$ \\\\\n",
       "\t3 & 91 & Abbotsford, WI Urban Cluster & C & 3966 & $\\dots$ \\\\\n",
       "\t4 & 118 & Aberdeen, MS Urban Cluster & C & 4666 & $\\dots$ \\\\\n",
       "\t5 & 145 & Aberdeen, SD Urban Cluster & C & 25977 & $\\dots$ \\\\\n",
       "\t6 & 172 & Aberdeen, WA Urban Cluster & C & 29856 & $\\dots$ \\\\\n",
       "\t7 & 199 & Aberdeen--Bel Air South--Bel Air North, MD Urbanized Area & U & 213751 & $\\dots$ \\\\\n",
       "\t8 & 226 & Abernathy, TX Urban Cluster & C & 2785 & $\\dots$ \\\\\n",
       "\t9 & 253 & Abilene, KS Urban Cluster & C & 7054 & $\\dots$ \\\\\n",
       "\t10 & 280 & Abilene, TX Urbanized Area & U & 110421 & $\\dots$ \\\\\n",
       "\t11 & 334 & Abingdon, IL Urban Cluster & C & 3389 & $\\dots$ \\\\\n",
       "\t12 & 388 & Ada, OH Urban Cluster & C & 5945 & $\\dots$ \\\\\n",
       "\t13 & 415 & Ada, OK Urban Cluster & C & 17400 & $\\dots$ \\\\\n",
       "\t14 & 450 & Adams, NY Urban Cluster & C & 2542 & $\\dots$ \\\\\n",
       "\t15 & 469 & Adel, GA Urban Cluster & C & 6986 & $\\dots$ \\\\\n",
       "\t16 & 496 & Adel, IA Urban Cluster & C & 3170 & $\\dots$ \\\\\n",
       "\t17 & 550 & Adjuntas, PR Urban Cluster & C & 11122 & $\\dots$ \\\\\n",
       "\t18 & 577 & Adrian, MI Urban Cluster & C & 44823 & $\\dots$ \\\\\n",
       "\t19 & 631 & Aguadilla--Isabela--San Sebasti�n, PR Urbanized Area & U & 306196 & $\\dots$ \\\\\n",
       "\t20 & 658 & Ahoskie, NC Urban Cluster & C & 4951 & $\\dots$ \\\\\n",
       "\t21 & 676 & Air Force Academy, CO Urban Cluster & C & 5512 & $\\dots$ \\\\\n",
       "\t22 & 712 & Ajo, AZ Urban Cluster & C & 3076 & $\\dots$ \\\\\n",
       "\t23 & 739 & Akron, NY Urban Cluster & C & 2982 & $\\dots$ \\\\\n",
       "\t24 & 766 & Akron, OH Urbanized Area & U & 569499 & $\\dots$ \\\\\n",
       "\t25 & 793 & Alachua, FL Urban Cluster & C & 4114 & $\\dots$ \\\\\n",
       "\t26 & 820 & Alamogordo, NM Urban Cluster & C & 31862 & $\\dots$ \\\\\n",
       "\t27 & 847 & Alamosa, CO Urban Cluster & C & 9751 & $\\dots$ \\\\\n",
       "\t28 & 901 & Albany, GA Urbanized Area & U & 95779 & $\\dots$ \\\\\n",
       "\t29 & 921 & Albany, MN Urban Cluster & C & 2564 & $\\dots$ \\\\\n",
       "\t30 & 955 & Albany, OR Urbanized Area & U & 56997 & $\\dots$ \\\\\n",
       "\t$\\dots$ & $\\dots$ & $\\dots$ & $\\dots$ & $\\dots$ &  \\\\\n",
       "\\end{tabular}\n"
      ],
      "text/plain": [
       "3592×11 DataFrame. Omitted printing of 9 columns\n",
       "│ Row  │ GEOID │ NAME                                                      │\n",
       "│      │ \u001b[90mInt64\u001b[39m │ \u001b[90mString\u001b[39m                                                    │\n",
       "├──────┼───────┼───────────────────────────────────────────────────────────┤\n",
       "│ 1    │ 37    │ Abbeville, LA Urban Cluster                               │\n",
       "│ 2    │ 64    │ Abbeville, SC Urban Cluster                               │\n",
       "│ 3    │ 91    │ Abbotsford, WI Urban Cluster                              │\n",
       "│ 4    │ 118   │ Aberdeen, MS Urban Cluster                                │\n",
       "│ 5    │ 145   │ Aberdeen, SD Urban Cluster                                │\n",
       "│ 6    │ 172   │ Aberdeen, WA Urban Cluster                                │\n",
       "│ 7    │ 199   │ Aberdeen--Bel Air South--Bel Air North, MD Urbanized Area │\n",
       "│ 8    │ 226   │ Abernathy, TX Urban Cluster                               │\n",
       "│ 9    │ 253   │ Abilene, KS Urban Cluster                                 │\n",
       "│ 10   │ 280   │ Abilene, TX Urbanized Area                                │\n",
       "⋮\n",
       "│ 3582 │ 97939 │ Yuba City, CA Urbanized Area                              │\n",
       "│ 3583 │ 97966 │ Yucca Valley, CA Urban Cluster                            │\n",
       "│ 3584 │ 97993 │ Yulee, FL Urban Cluster                                   │\n",
       "│ 3585 │ 98020 │ Yuma, AZ--CA Urbanized Area                               │\n",
       "│ 3586 │ 98047 │ Yuma, CO Urban Cluster                                    │\n",
       "│ 3587 │ 98074 │ Zanesville, OH Urban Cluster                              │\n",
       "│ 3588 │ 98101 │ Zapata--Medina, TX Urban Cluster                          │\n",
       "│ 3589 │ 98182 │ Zephyrhills, FL Urbanized Area                            │\n",
       "│ 3590 │ 98209 │ Zimmerman, MN Urban Cluster                               │\n",
       "│ 3591 │ 98236 │ Zumbrota, MN Urban Cluster                                │\n",
       "│ 3592 │ 98263 │ Zuni Pueblo, NM Urban Cluster                             │"
      ]
     },
     "execution_count": 6,
     "metadata": {},
     "output_type": "execute_result"
    }
   ],
   "source": [
    "census_data = load(\"../julia-files/Gaz_ua_national.csv\") |> DataFrame"
   ]
  },
  {
   "cell_type": "code",
   "execution_count": 7,
   "metadata": {},
   "outputs": [
    {
     "data": {
      "text/html": [
       "<table class=\"data-frame\"><thead><tr><th></th><th>GEOID</th><th>NAME</th><th>UATYPE</th><th>POP10</th><th>HU10</th></tr><tr><th></th><th>Int64</th><th>String</th><th>String</th><th>Int64</th><th>Int64</th></tr></thead><tbody><p>10 rows × 11 columns (omitted printing of 6 columns)</p><tr><th>1</th><td>63217</td><td>New York--Newark, NY--NJ--CT Urbanized Area</td><td>U</td><td>18351295</td><td>7263095</td></tr><tr><th>2</th><td>51445</td><td>Los Angeles--Long Beach--Anaheim, CA Urbanized Area</td><td>U</td><td>12150996</td><td>4217448</td></tr><tr><th>3</th><td>16264</td><td>Chicago, IL--IN Urbanized Area</td><td>U</td><td>8608208</td><td>3459257</td></tr><tr><th>4</th><td>56602</td><td>Miami, FL Urbanized Area</td><td>U</td><td>5502379</td><td>2443188</td></tr><tr><th>5</th><td>69076</td><td>Philadelphia, PA--NJ--DE--MD Urbanized Area</td><td>U</td><td>5441567</td><td>2231613</td></tr><tr><th>6</th><td>22042</td><td>Dallas--Fort Worth--Arlington, TX Urbanized Area</td><td>U</td><td>5121892</td><td>2023230</td></tr><tr><th>7</th><td>40429</td><td>Houston, TX Urbanized Area</td><td>U</td><td>4944332</td><td>1895670</td></tr><tr><th>8</th><td>92242</td><td>Washington, DC--VA--MD Urbanized Area</td><td>U</td><td>4586770</td><td>1829546</td></tr><tr><th>9</th><td>3817</td><td>Atlanta, GA Urbanized Area</td><td>U</td><td>4515419</td><td>1861932</td></tr><tr><th>10</th><td>9271</td><td>Boston, MA--NH--RI Urbanized Area</td><td>U</td><td>4181019</td><td>1719241</td></tr></tbody></table>"
      ],
      "text/latex": [
       "\\begin{tabular}{r|cccccc}\n",
       "\t& GEOID & NAME & UATYPE & POP10 & HU10 & \\\\\n",
       "\t\\hline\n",
       "\t& Int64 & String & String & Int64 & Int64 & \\\\\n",
       "\t\\hline\n",
       "\t1 & 63217 & New York--Newark, NY--NJ--CT Urbanized Area & U & 18351295 & 7263095 & $\\dots$ \\\\\n",
       "\t2 & 51445 & Los Angeles--Long Beach--Anaheim, CA Urbanized Area & U & 12150996 & 4217448 & $\\dots$ \\\\\n",
       "\t3 & 16264 & Chicago, IL--IN Urbanized Area & U & 8608208 & 3459257 & $\\dots$ \\\\\n",
       "\t4 & 56602 & Miami, FL Urbanized Area & U & 5502379 & 2443188 & $\\dots$ \\\\\n",
       "\t5 & 69076 & Philadelphia, PA--NJ--DE--MD Urbanized Area & U & 5441567 & 2231613 & $\\dots$ \\\\\n",
       "\t6 & 22042 & Dallas--Fort Worth--Arlington, TX Urbanized Area & U & 5121892 & 2023230 & $\\dots$ \\\\\n",
       "\t7 & 40429 & Houston, TX Urbanized Area & U & 4944332 & 1895670 & $\\dots$ \\\\\n",
       "\t8 & 92242 & Washington, DC--VA--MD Urbanized Area & U & 4586770 & 1829546 & $\\dots$ \\\\\n",
       "\t9 & 3817 & Atlanta, GA Urbanized Area & U & 4515419 & 1861932 & $\\dots$ \\\\\n",
       "\t10 & 9271 & Boston, MA--NH--RI Urbanized Area & U & 4181019 & 1719241 & $\\dots$ \\\\\n",
       "\\end{tabular}\n"
      ],
      "text/plain": [
       "10×11 DataFrame. Omitted printing of 8 columns\n",
       "│ Row │ GEOID │ NAME                                                │ UATYPE │\n",
       "│     │ \u001b[90mInt64\u001b[39m │ \u001b[90mString\u001b[39m                                              │ \u001b[90mString\u001b[39m │\n",
       "├─────┼───────┼─────────────────────────────────────────────────────┼────────┤\n",
       "│ 1   │ 63217 │ New York--Newark, NY--NJ--CT Urbanized Area         │ U      │\n",
       "│ 2   │ 51445 │ Los Angeles--Long Beach--Anaheim, CA Urbanized Area │ U      │\n",
       "│ 3   │ 16264 │ Chicago, IL--IN Urbanized Area                      │ U      │\n",
       "│ 4   │ 56602 │ Miami, FL Urbanized Area                            │ U      │\n",
       "│ 5   │ 69076 │ Philadelphia, PA--NJ--DE--MD Urbanized Area         │ U      │\n",
       "│ 6   │ 22042 │ Dallas--Fort Worth--Arlington, TX Urbanized Area    │ U      │\n",
       "│ 7   │ 40429 │ Houston, TX Urbanized Area                          │ U      │\n",
       "│ 8   │ 92242 │ Washington, DC--VA--MD Urbanized Area               │ U      │\n",
       "│ 9   │ 3817  │ Atlanta, GA Urbanized Area                          │ U      │\n",
       "│ 10  │ 9271  │ Boston, MA--NH--RI Urbanized Area                   │ U      │"
      ]
     },
     "execution_count": 7,
     "metadata": {},
     "output_type": "execute_result"
    }
   ],
   "source": [
    "census_data |> \n",
    "  @orderby_descending(_.POP10) |> \n",
    "  DataFrame |> \n",
    "  df->first(df,10)"
   ]
  },
  {
   "cell_type": "code",
   "execution_count": null,
   "metadata": {},
   "outputs": [],
   "source": []
  }
 ],
 "metadata": {
  "kernelspec": {
   "display_name": "Julia 1.5.0-beta1",
   "language": "julia",
   "name": "julia-1.5"
  },
  "language_info": {
   "file_extension": ".jl",
   "mimetype": "application/julia",
   "name": "julia",
   "version": "1.5.0"
  }
 },
 "nbformat": 4,
 "nbformat_minor": 4
}
