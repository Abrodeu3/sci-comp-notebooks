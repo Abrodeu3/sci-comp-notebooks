{
 "cells": [
  {
   "cell_type": "markdown",
   "metadata": {},
   "source": [
    "## Chapter 7: Functional Programming"
   ]
  },
  {
   "cell_type": "code",
   "execution_count": 48,
   "metadata": {},
   "outputs": [
    {
     "data": {
      "text/plain": [
       "fibonacci (generic function with 1 method)"
      ]
     },
     "execution_count": 48,
     "metadata": {},
     "output_type": "execute_result"
    }
   ],
   "source": [
    "function fibonacci(n::Integer)\n",
    "  n==1 || n==2 ? 1 : fibonacci(n-1) + fibonacci(n-2)\n",
    "end"
   ]
  },
  {
   "cell_type": "code",
   "execution_count": 1,
   "metadata": {},
   "outputs": [
    {
     "data": {
      "text/plain": [
       "10-element Array{Int64,1}:\n",
       "  1\n",
       "  2\n",
       "  3\n",
       "  4\n",
       "  5\n",
       "  6\n",
       "  7\n",
       "  8\n",
       "  9\n",
       " 10"
      ]
     },
     "execution_count": 1,
     "metadata": {},
     "output_type": "execute_result"
    }
   ],
   "source": [
    "A=[1,2,3,4,5,6,7,8,9,10]"
   ]
  },
  {
   "cell_type": "code",
   "execution_count": 3,
   "metadata": {},
   "outputs": [
    {
     "data": {
      "text/plain": [
       "sum2 (generic function with 1 method)"
      ]
     },
     "execution_count": 3,
     "metadata": {},
     "output_type": "execute_result"
    }
   ],
   "source": [
    "function sum2(n::Int)\n",
    "    local sum = 0\n",
    "    for i=1:n\n",
    "        sum+=i\n",
    "    end\n",
    "    sum\n",
    "end"
   ]
  },
  {
   "cell_type": "code",
   "execution_count": 5,
   "metadata": {},
   "outputs": [
    {
     "name": "stdout",
     "output_type": "stream",
     "text": [
      "  0.011173 seconds (12.52 k allocations: 668.520 KiB)\n"
     ]
    },
    {
     "data": {
      "text/plain": [
       "500000000500000000"
      ]
     },
     "execution_count": 5,
     "metadata": {},
     "output_type": "execute_result"
    }
   ],
   "source": [
    "@time(sum2(1_000_000_000))"
   ]
  },
  {
   "cell_type": "code",
   "execution_count": 13,
   "metadata": {},
   "outputs": [
    {
     "data": {
      "text/plain": [
       "sum3 (generic function with 2 methods)"
      ]
     },
     "execution_count": 13,
     "metadata": {},
     "output_type": "execute_result"
    }
   ],
   "source": [
    "function sum3(n::BigInt)\n",
    "    local sum = big(0)\n",
    "    for i=1:n\n",
    "        sum+=i\n",
    "    end\n",
    "    sum\n",
    "end"
   ]
  },
  {
   "cell_type": "code",
   "execution_count": 19,
   "metadata": {},
   "outputs": [
    {
     "name": "stdout",
     "output_type": "stream",
     "text": [
      "  0.000045 seconds (7 allocations: 256 bytes)\n"
     ]
    },
    {
     "data": {
      "text/plain": [
       "500000000500000000"
      ]
     },
     "execution_count": 19,
     "metadata": {},
     "output_type": "execute_result"
    }
   ],
   "source": [
    "@time sum3(Int128(10)^9)"
   ]
  },
  {
   "cell_type": "code",
   "execution_count": 20,
   "metadata": {},
   "outputs": [
    {
     "name": "stdout",
     "output_type": "stream",
     "text": [
      "  0.000086 seconds (7 allocations: 256 bytes)\n"
     ]
    },
    {
     "data": {
      "text/plain": [
       "500000000000500000000000"
      ]
     },
     "execution_count": 20,
     "metadata": {},
     "output_type": "execute_result"
    }
   ],
   "source": [
    "@time sum3(Int128(10)^12)"
   ]
  },
  {
   "cell_type": "code",
   "execution_count": 28,
   "metadata": {},
   "outputs": [
    {
     "name": "stdout",
     "output_type": "stream",
     "text": [
      "\n",
      ";  @ In[6]:2 within `sum3'\n",
      "define void @julia_sum3_12770(i128* noalias nocapture sret, i128) {\n",
      "top:\n",
      ";  @ In[6]:3 within `sum3'\n",
      "; ┌ @ range.jl:3 within `Colon' @ range.jl:5\n",
      "; │┌ @ range.jl:274 within `Type'\n",
      "; ││┌ @ range.jl:279 within `unitrange_last'\n",
      "; │││┌ @ operators.jl:333 within `>='\n",
      "; ││││┌ @ int.jl:428 within `<='\n",
      "       %2 = icmp sgt i128 %1, 0\n",
      "; └└└└└\n",
      "  br i1 %2, label %L7.L12_crit_edge, label %L27\n",
      "\n",
      "L7.L12_crit_edge:                                 ; preds = %top\n",
      "  %3 = shl nuw i128 %1, 1\n",
      "  %4 = add nsw i128 %1, -1\n",
      "  %5 = zext i128 %4 to i129\n",
      "  %6 = add nsw i128 %1, -2\n",
      "  %7 = zext i128 %6 to i129\n",
      "  %8 = mul i129 %5, %7\n",
      "  %9 = lshr i129 %8, 1\n",
      "  %10 = trunc i129 %9 to i128\n",
      "  %11 = add i128 %3, %10\n",
      "  %12 = add i128 %11, -1\n",
      ";  @ In[6]:6 within `sum3'\n",
      "  br label %L27\n",
      "\n",
      "L27:                                              ; preds = %L7.L12_crit_edge, %top\n",
      "  %value_phi9 = phi i128 [ 0, %top ], [ %12, %L7.L12_crit_edge ]\n",
      "  store i128 %value_phi9, i128* %0, align 8\n",
      "  ret void\n",
      "}\n"
     ]
    }
   ],
   "source": [
    "@code_llvm sum3(Int128(10)^12)"
   ]
  },
  {
   "cell_type": "code",
   "execution_count": 22,
   "metadata": {},
   "outputs": [
    {
     "data": {
      "text/plain": [
       "sum4 (generic function with 1 method)"
      ]
     },
     "execution_count": 22,
     "metadata": {},
     "output_type": "execute_result"
    }
   ],
   "source": [
    "function sum4(n::BigInt)\n",
    "    local sum = big(0)\n",
    "    for i=1:n\n",
    "        sum+=i\n",
    "    end\n",
    "    sum\n",
    "end"
   ]
  },
  {
   "cell_type": "code",
   "execution_count": 29,
   "metadata": {},
   "outputs": [
    {
     "name": "stdout",
     "output_type": "stream",
     "text": [
      " 14.059108 seconds (130.00 M allocations: 2.086 GiB, 23.16% gc time)\n"
     ]
    },
    {
     "data": {
      "text/plain": [
       "50000005000000"
      ]
     },
     "execution_count": 29,
     "metadata": {},
     "output_type": "execute_result"
    }
   ],
   "source": [
    "@time sum4(big(10)^7)"
   ]
  },
  {
   "cell_type": "code",
   "execution_count": 35,
   "metadata": {},
   "outputs": [
    {
     "data": {
      "text/plain": [
       "1000000-element Array{Any,1}:\n",
       "       1\n",
       "       2\n",
       "       3\n",
       "       4\n",
       "       5\n",
       "       6\n",
       "       7\n",
       "       8\n",
       "       9\n",
       "      10\n",
       "      11\n",
       "      12\n",
       "      13\n",
       "       ⋮\n",
       "  999989\n",
       "  999990\n",
       "  999991\n",
       "  999992\n",
       "  999993\n",
       "  999994\n",
       "  999995\n",
       "  999996\n",
       "  999997\n",
       "  999998\n",
       "  999999\n",
       " 1000000"
      ]
     },
     "execution_count": 35,
     "metadata": {},
     "output_type": "execute_result"
    }
   ],
   "source": [
    "arr1 = []\n",
    "    for i=1:1_000_000\n",
    "        push!(arr1,i)\n",
    "    end\n",
    "arr1"
   ]
  },
  {
   "cell_type": "code",
   "execution_count": 36,
   "metadata": {},
   "outputs": [
    {
     "data": {
      "text/plain": [
       "array_sum (generic function with 1 method)"
      ]
     },
     "execution_count": 36,
     "metadata": {},
     "output_type": "execute_result"
    }
   ],
   "source": [
    "function array_sum(A)\n",
    "  local s = 0\n",
    "  for i=1:length(A)\n",
    "    s += A[i]\n",
    "  end\n",
    "  s\n",
    "end"
   ]
  },
  {
   "cell_type": "code",
   "execution_count": 40,
   "metadata": {},
   "outputs": [
    {
     "data": {
      "text/plain": [
       "1000000-element Array{Int64,1}:\n",
       "       1\n",
       "       2\n",
       "       3\n",
       "       4\n",
       "       5\n",
       "       6\n",
       "       7\n",
       "       8\n",
       "       9\n",
       "      10\n",
       "      11\n",
       "      12\n",
       "      13\n",
       "       ⋮\n",
       "  999989\n",
       "  999990\n",
       "  999991\n",
       "  999992\n",
       "  999993\n",
       "  999994\n",
       "  999995\n",
       "  999996\n",
       "  999997\n",
       "  999998\n",
       "  999999\n",
       " 1000000"
      ]
     },
     "execution_count": 40,
     "metadata": {},
     "output_type": "execute_result"
    }
   ],
   "source": [
    "A2= [i for i=1:1_000_000]"
   ]
  },
  {
   "cell_type": "code",
   "execution_count": 42,
   "metadata": {},
   "outputs": [
    {
     "name": "stdout",
     "output_type": "stream",
     "text": [
      "  0.028975 seconds (999.97 k allocations: 15.258 MiB)\n"
     ]
    },
    {
     "data": {
      "text/plain": [
       "500000500000"
      ]
     },
     "execution_count": 42,
     "metadata": {},
     "output_type": "execute_result"
    }
   ],
   "source": [
    "@time array_sum(arr)"
   ]
  },
  {
   "cell_type": "code",
   "execution_count": 43,
   "metadata": {},
   "outputs": [
    {
     "name": "stdout",
     "output_type": "stream",
     "text": [
      "  0.000953 seconds (5 allocations: 176 bytes)\n"
     ]
    },
    {
     "data": {
      "text/plain": [
       "500000500000"
      ]
     },
     "execution_count": 43,
     "metadata": {},
     "output_type": "execute_result"
    }
   ],
   "source": [
    "@time array_sum(A2)"
   ]
  },
  {
   "cell_type": "code",
   "execution_count": 45,
   "metadata": {},
   "outputs": [
    {
     "data": {
      "text/plain": [
       "1000000-element Array{Any,1}:\n",
       "       1\n",
       "       2\n",
       "       3\n",
       "       4\n",
       "       5\n",
       "       6\n",
       "       7\n",
       "       8\n",
       "       9\n",
       "      10\n",
       "      11\n",
       "      12\n",
       "      13\n",
       "       ⋮\n",
       "  999989\n",
       "  999990\n",
       "  999991\n",
       "  999992\n",
       "  999993\n",
       "  999994\n",
       "  999995\n",
       "  999996\n",
       "  999997\n",
       "  999998\n",
       "  999999\n",
       " 1000000"
      ]
     },
     "execution_count": 45,
     "metadata": {},
     "output_type": "execute_result"
    }
   ],
   "source": [
    "Any[i for i=1:1_000_000]"
   ]
  },
  {
   "cell_type": "code",
   "execution_count": 46,
   "metadata": {},
   "outputs": [
    {
     "data": {
      "text/plain": [
       "3×4 Array{Int64,2}:\n",
       " 2  3  4  5\n",
       " 3  4  5  6\n",
       " 4  5  6  7"
      ]
     },
     "execution_count": 46,
     "metadata": {},
     "output_type": "execute_result"
    }
   ],
   "source": [
    "A=[m+n for m=1:3, n=1:4]"
   ]
  },
  {
   "cell_type": "code",
   "execution_count": 49,
   "metadata": {},
   "outputs": [
    {
     "data": {
      "text/plain": [
       "-1"
      ]
     },
     "execution_count": 49,
     "metadata": {},
     "output_type": "execute_result"
    }
   ],
   "source": [
    "A[2,3]=-1"
   ]
  },
  {
   "cell_type": "code",
   "execution_count": 50,
   "metadata": {},
   "outputs": [
    {
     "data": {
      "text/plain": [
       "3×4 Array{Int64,2}:\n",
       " 2  3   4  5\n",
       " 3  4  -1  2\n",
       " 4  5   3  4"
      ]
     },
     "execution_count": 50,
     "metadata": {},
     "output_type": "execute_result"
    }
   ],
   "source": [
    "A"
   ]
  },
  {
   "cell_type": "code",
   "execution_count": 51,
   "metadata": {},
   "outputs": [
    {
     "data": {
      "text/plain": [
       "3×2 Array{Int64,2}:\n",
       " 1  2\n",
       " 3  4\n",
       " 5  6"
      ]
     },
     "execution_count": 51,
     "metadata": {},
     "output_type": "execute_result"
    }
   ],
   "source": [
    "A[1:3,3:4] = [1 2; 3 4; 5 6]"
   ]
  },
  {
   "cell_type": "code",
   "execution_count": 52,
   "metadata": {},
   "outputs": [
    {
     "data": {
      "text/plain": [
       "3×4 Array{Int64,2}:\n",
       " 2  3  1  2\n",
       " 3  4  3  4\n",
       " 4  5  5  6"
      ]
     },
     "execution_count": 52,
     "metadata": {},
     "output_type": "execute_result"
    }
   ],
   "source": [
    "A"
   ]
  },
  {
   "cell_type": "code",
   "execution_count": 53,
   "metadata": {},
   "outputs": [
    {
     "data": {
      "text/plain": [
       "1:4"
      ]
     },
     "execution_count": 53,
     "metadata": {},
     "output_type": "execute_result"
    }
   ],
   "source": [
    "1:4"
   ]
  },
  {
   "cell_type": "code",
   "execution_count": 54,
   "metadata": {},
   "outputs": [
    {
     "data": {
      "text/plain": [
       "UnitRange{Int64}"
      ]
     },
     "execution_count": 54,
     "metadata": {},
     "output_type": "execute_result"
    }
   ],
   "source": [
    "typeof(1:4)"
   ]
  },
  {
   "cell_type": "code",
   "execution_count": 55,
   "metadata": {},
   "outputs": [
    {
     "data": {
      "text/plain": [
       "StepRangeLen{Float64,Base.TwicePrecision{Float64},Base.TwicePrecision{Float64}}"
      ]
     },
     "execution_count": 55,
     "metadata": {},
     "output_type": "execute_result"
    }
   ],
   "source": [
    "typeof(1.0:4.0)"
   ]
  },
  {
   "cell_type": "code",
   "execution_count": 56,
   "metadata": {},
   "outputs": [
    {
     "data": {
      "text/plain": [
       "StepRange{Int64,Int64}"
      ]
     },
     "execution_count": 56,
     "metadata": {},
     "output_type": "execute_result"
    }
   ],
   "source": [
    "typeof(1:3:30)"
   ]
  },
  {
   "cell_type": "code",
   "execution_count": 57,
   "metadata": {},
   "outputs": [
    {
     "data": {
      "text/plain": [
       "1:3:28"
      ]
     },
     "execution_count": 57,
     "metadata": {},
     "output_type": "execute_result"
    }
   ],
   "source": [
    "r = 1:3:30"
   ]
  },
  {
   "cell_type": "code",
   "execution_count": 60,
   "metadata": {},
   "outputs": [
    {
     "data": {
      "text/plain": [
       "(:start, :step, :stop)"
      ]
     },
     "execution_count": 60,
     "metadata": {},
     "output_type": "execute_result"
    }
   ],
   "source": [
    "fieldnames(StepRange)"
   ]
  },
  {
   "cell_type": "code",
   "execution_count": null,
   "metadata": {},
   "outputs": [],
   "source": []
  },
  {
   "cell_type": "code",
   "execution_count": 50,
   "metadata": {},
   "outputs": [
    {
     "data": {
      "text/plain": [
       "10-element Array{Int64,1}:\n",
       "  1\n",
       "  1\n",
       "  2\n",
       "  3\n",
       "  5\n",
       "  8\n",
       " 13\n",
       " 21\n",
       " 34\n",
       " 55"
      ]
     },
     "execution_count": 50,
     "metadata": {},
     "output_type": "execute_result"
    }
   ],
   "source": [
    "map(fibonacci,1:10)"
   ]
  },
  {
   "cell_type": "code",
   "execution_count": 51,
   "metadata": {},
   "outputs": [
    {
     "name": "stdout",
     "output_type": "stream",
     "text": [
      "  0.248812 seconds\n"
     ]
    },
    {
     "data": {
      "text/plain": [
       "102334155"
      ]
     },
     "execution_count": 51,
     "metadata": {},
     "output_type": "execute_result"
    }
   ],
   "source": [
    "@time fibonacci(40)"
   ]
  },
  {
   "cell_type": "code",
   "execution_count": 52,
   "metadata": {},
   "outputs": [
    {
     "name": "stdout",
     "output_type": "stream",
     "text": [
      "  0.408181 seconds\n"
     ]
    },
    {
     "data": {
      "text/plain": [
       "165580141"
      ]
     },
     "execution_count": 52,
     "metadata": {},
     "output_type": "execute_result"
    }
   ],
   "source": [
    "@time fibonacci(41)"
   ]
  },
  {
   "cell_type": "code",
   "execution_count": 24,
   "metadata": {},
   "outputs": [
    {
     "data": {
      "text/plain": [
       "0"
      ]
     },
     "execution_count": 24,
     "metadata": {},
     "output_type": "execute_result"
    }
   ],
   "source": [
    "num_evals = 0"
   ]
  },
  {
   "cell_type": "code",
   "execution_count": 61,
   "metadata": {},
   "outputs": [
    {
     "data": {
      "text/plain": [
       "fibonacci (generic function with 1 method)"
      ]
     },
     "execution_count": 61,
     "metadata": {},
     "output_type": "execute_result"
    }
   ],
   "source": [
    "function fibonacci(n::Integer)\n",
    "  global num_evals\n",
    "  if n==1 || n==2 \n",
    "    num_evals +=1 \n",
    "    return 1\n",
    "  else\n",
    "    num_evals += 2\n",
    "    return fibonacci(n-1) + fibonacci(n-2)\n",
    "  end\n",
    "end"
   ]
  },
  {
   "cell_type": "code",
   "execution_count": 62,
   "metadata": {},
   "outputs": [
    {
     "data": {
      "text/plain": [
       "13"
      ]
     },
     "execution_count": 62,
     "metadata": {},
     "output_type": "execute_result"
    }
   ],
   "source": [
    "num_evals=0\n",
    "fibonacci(5)\n",
    "num_evals"
   ]
  },
  {
   "cell_type": "code",
   "execution_count": 26,
   "metadata": {},
   "outputs": [
    {
     "data": {
      "text/plain": [
       "287"
      ]
     },
     "execution_count": 26,
     "metadata": {},
     "output_type": "execute_result"
    }
   ],
   "source": [
    "num_evals"
   ]
  },
  {
   "cell_type": "code",
   "execution_count": 42,
   "metadata": {},
   "outputs": [
    {
     "data": {
      "text/plain": [
       "fibonacci2 (generic function with 1 method)"
      ]
     },
     "execution_count": 42,
     "metadata": {},
     "output_type": "execute_result"
    }
   ],
   "source": [
    "function fibonacci2(n::Integer)\n",
    "  numbers = zeros(Int64,n)  # need an array of length n\n",
    "  numbers[1:2] .= 1         # the first two fibonacci numbers are 1\n",
    "  function fib(k::Integer)\n",
    "    if numbers[k] > 0\n",
    "      return numbers[k]  # if we know the number just return it\n",
    "    end\n",
    "    numbers[k-1] = fib(k-1)  # these two lines call fib! recursively, but \n",
    "    numbers[k-2] = fib(k-2)  # if the value is known return it\n",
    "    numbers[k] = numbers[k-1] + numbers[k-2]  # still the same definition.\n",
    "  end\n",
    "  fib!(n)\n",
    "end"
   ]
  },
  {
   "cell_type": "code",
   "execution_count": 43,
   "metadata": {},
   "outputs": [
    {
     "ename": "UndefVarError",
     "evalue": "UndefVarError: fib! not defined",
     "output_type": "error",
     "traceback": [
      "UndefVarError: fib! not defined",
      "",
      "Stacktrace:",
      " [1] fibonacci2(::Int64) at ./In[42]:12",
      " [2] top-level scope at In[43]:1"
     ]
    }
   ],
   "source": [
    "fibonacci2(108)"
   ]
  },
  {
   "cell_type": "code",
   "execution_count": 36,
   "metadata": {},
   "outputs": [
    {
     "data": {
      "text/plain": [
       "fibonacci3 (generic function with 1 method)"
      ]
     },
     "execution_count": 36,
     "metadata": {},
     "output_type": "execute_result"
    }
   ],
   "source": [
    "function fibonacci3(n::Integer)\n",
    "  numbers = zeros(Int64,n)\n",
    "  numbers[1:2] .= 1\n",
    "  function fib(k::Integer)\n",
    "    if numbers[k] >0\n",
    "      return numbers[k]\n",
    "    end\n",
    "    numbers[k-1] = fib(k-1)\n",
    "    numbers[k-2] = fib(k-2)\n",
    "    numbers[k] = numbers[k-1] + numbers[k-2]\n",
    "  end\n",
    "  fib(n)\n",
    "end"
   ]
  },
  {
   "cell_type": "code",
   "execution_count": 39,
   "metadata": {},
   "outputs": [
    {
     "name": "stdout",
     "output_type": "stream",
     "text": [
      "  0.000013 seconds (197 allocations: 3.953 KiB)\n"
     ]
    },
    {
     "data": {
      "text/plain": [
       "3736710778780434371"
      ]
     },
     "execution_count": 39,
     "metadata": {},
     "output_type": "execute_result"
    }
   ],
   "source": [
    "@time fibonacci3(100)"
   ]
  },
  {
   "cell_type": "code",
   "execution_count": null,
   "metadata": {},
   "outputs": [],
   "source": []
  }
 ],
 "metadata": {
  "kernelspec": {
   "display_name": "Julia 1.4.2",
   "language": "julia",
   "name": "julia-1.4"
  },
  "language_info": {
   "file_extension": ".jl",
   "mimetype": "application/julia",
   "name": "julia",
   "version": "1.4.2"
  }
 },
 "nbformat": 4,
 "nbformat_minor": 4
}
