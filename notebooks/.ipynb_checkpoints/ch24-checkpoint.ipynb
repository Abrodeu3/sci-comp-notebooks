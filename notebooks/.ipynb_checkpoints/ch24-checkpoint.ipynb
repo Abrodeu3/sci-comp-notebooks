{
 "cells": [
  {
   "cell_type": "markdown",
   "metadata": {},
   "source": [
    "## Chapter 24: Advanced Linear Algebra"
   ]
  },
  {
   "cell_type": "code",
   "execution_count": 1,
   "metadata": {},
   "outputs": [
    {
     "data": {
      "text/plain": [
       "13×13 Array{Int64,2}:\n",
       " 0  1   0   0   0   0  0  0  0  0  0  0   0\n",
       " 0  0   0   0   0   2  0  0  0  0  0  0   0\n",
       " 0  0  -1   0   0   0  0  0  0  0  0  0   0\n",
       " 0  0   0   0   0   0  0  0  0  1  0  0   0\n",
       " 0  0   0   0  -2   0  0  0  0  0  0  0   0\n",
       " 1  0   0   0   0   0  0  0  0  0  0  0   0\n",
       " 0  0   0   0   0   0  0  0  0  0  0  0  -1\n",
       " 0  0   0   0   0   0  2  0  0  0  0  0   0\n",
       " 0  0   0  -1   0   0  0  0  0  0  0  0   0\n",
       " 0  0   0   0   0  -2  0  0  0  0  0  0   0\n",
       " 0  0   0   0   0   0  0  0  0  0  0  1   0\n",
       " 0  0   0   0   0   0  0  0  0  0  2  0   0\n",
       " 0  0   0   0   0   0  0  0  1  0  0  0   0"
      ]
     },
     "execution_count": 1,
     "metadata": {},
     "output_type": "execute_result"
    }
   ],
   "source": [
    "A = [\n",
    "0   1   0   0   0   0   0   0   0   0   0   0   0 ;\n",
    "0   0   0   0   0   2   0   0   0   0   0   0   0 ;\n",
    "0   0   -1   0   0   0   0   0   0   0   0   0   0 ;\n",
    "0   0   0   0   0   0   0   0   0   1   0   0   0 ;\n",
    "0   0   0   0   -2   0   0   0   0   0   0   0   0 ;\n",
    "1   0   0   0   0   0   0   0   0   0   0   0   0 ;\n",
    "0   0   0   0   0   0   0   0   0   0   0   0   -1 ;\n",
    "0   0   0   0   0   0   2   0   0   0   0   0   0 ;\n",
    "0   0   0   -1   0   0   0   0   0   0   0   0   0 ;\n",
    "0   0   0   0   0   -2   0   0   0   0   0   0   0 ;\n",
    "0   0   0   0   0   0   0   0   0   0   0    1  0 ;\n",
    "0   0   0   0   0   0   0   0   0   0   2   0   0 ;\n",
    "0   0   0   0   0   0   0   0   1   0   0   0   0 ]"
   ]
  },
  {
   "cell_type": "code",
   "execution_count": 2,
   "metadata": {},
   "outputs": [],
   "source": [
    "using SparseArrays"
   ]
  },
  {
   "cell_type": "code",
   "execution_count": 3,
   "metadata": {},
   "outputs": [
    {
     "data": {
      "text/plain": [
       "13×13 SparseMatrixCSC{Int64,Int64} with 13 stored entries:\n",
       "  [6 ,  1]  =  1\n",
       "  [1 ,  2]  =  1\n",
       "  [3 ,  3]  =  -1\n",
       "  [9 ,  4]  =  -1\n",
       "  [5 ,  5]  =  -2\n",
       "  [2 ,  6]  =  2\n",
       "  [10,  6]  =  -2\n",
       "  [8 ,  7]  =  2\n",
       "  [13,  9]  =  1\n",
       "  [4 , 10]  =  1\n",
       "  [12, 11]  =  2\n",
       "  [11, 12]  =  1\n",
       "  [7 , 13]  =  -1"
      ]
     },
     "execution_count": 3,
     "metadata": {},
     "output_type": "execute_result"
    }
   ],
   "source": [
    "SA = SparseMatrixCSC(A)"
   ]
  },
  {
   "cell_type": "code",
   "execution_count": 6,
   "metadata": {},
   "outputs": [
    {
     "data": {
      "text/plain": [
       "13-element SparseVector{Int64,Int64} with 5 stored entries:\n",
       "  [1 ]  =  -1\n",
       "  [5 ]  =  5\n",
       "  [7 ]  =  10\n",
       "  [12]  =  3\n",
       "  [13]  =  0"
      ]
     },
     "execution_count": 6,
     "metadata": {},
     "output_type": "execute_result"
    }
   ],
   "source": [
    "R = sparsevec([1,5,7,12,13],[-1,5,10,3,0])"
   ]
  },
  {
   "cell_type": "code",
   "execution_count": 7,
   "metadata": {},
   "outputs": [
    {
     "data": {
      "text/plain": [
       "13-element SparseVector{Int64,Int64} with 4 stored entries:\n",
       "  [5 ]  =  -10\n",
       "  [6 ]  =  -1\n",
       "  [8 ]  =  20\n",
       "  [11]  =  3"
      ]
     },
     "execution_count": 7,
     "metadata": {},
     "output_type": "execute_result"
    }
   ],
   "source": [
    "SA*R"
   ]
  }
 ],
 "metadata": {
  "kernelspec": {
   "display_name": "Julia 1.5.0-beta1",
   "language": "julia",
   "name": "julia-1.5"
  },
  "language_info": {
   "file_extension": ".jl",
   "mimetype": "application/julia",
   "name": "julia",
   "version": "1.5.0"
  }
 },
 "nbformat": 4,
 "nbformat_minor": 4
}
