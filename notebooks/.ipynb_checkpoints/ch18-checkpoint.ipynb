{
 "cells": [
  {
   "cell_type": "markdown",
   "metadata": {},
   "source": [
    "## Chapter 17: Data Analysis"
   ]
  },
  {
   "cell_type": "code",
   "execution_count": 7,
   "metadata": {},
   "outputs": [],
   "source": [
    "using RDatasets, StatsPlots"
   ]
  },
  {
   "cell_type": "code",
   "execution_count": 8,
   "metadata": {},
   "outputs": [
    {
     "data": {
      "text/html": [
       "<table class=\"data-frame\"><thead><tr><th></th><th>Package</th><th>Title</th></tr><tr><th></th><th>String</th><th>String</th></tr></thead><tbody><p>33 rows × 2 columns</p><tr><th>1</th><td>COUNT</td><td>Functions, data and code for count data.</td></tr><tr><th>2</th><td>Ecdat</td><td>Data sets for econometrics</td></tr><tr><th>3</th><td>HSAUR</td><td>A Handbook of Statistical Analyses Using R (1st Edition)</td></tr><tr><th>4</th><td>HistData</td><td>Data sets from the history of statistics and data visualization</td></tr><tr><th>5</th><td>ISLR</td><td>Data for An Introduction to Statistical Learning with Applications in R</td></tr><tr><th>6</th><td>KMsurv</td><td>Data sets from Klein and Moeschberger (1997), Survival Analysis</td></tr><tr><th>7</th><td>MASS</td><td>Support Functions and Datasets for Venables and Ripley's MASS</td></tr><tr><th>8</th><td>SASmixed</td><td>Data sets from \\\\</td></tr><tr><th>9</th><td>Zelig</td><td>Everyone's Statistical Software</td></tr><tr><th>10</th><td>adehabitatLT</td><td>Analysis of Animal Movements</td></tr><tr><th>11</th><td>boot</td><td>Bootstrap Functions (Originally by Angelo Canty for S)</td></tr><tr><th>12</th><td>car</td><td>Companion to Applied Regression</td></tr><tr><th>13</th><td>cluster</td><td>Cluster Analysis Extended Rousseeuw et al.</td></tr><tr><th>14</th><td>datasets</td><td>The R Datasets Package</td></tr><tr><th>15</th><td>gap</td><td>Genetic analysis package</td></tr><tr><th>16</th><td>ggplot2</td><td>An Implementation of the Grammar of Graphics</td></tr><tr><th>17</th><td>lattice</td><td>Lattice Graphics</td></tr><tr><th>18</th><td>lme4</td><td>Linear mixed-effects models using Eigen and S4</td></tr><tr><th>19</th><td>mgcv</td><td>Mixed GAM Computation Vehicle with GCV/AIC/REML smoothness estimation</td></tr><tr><th>20</th><td>mlmRev</td><td>Examples from Multilevel Modelling Software Review</td></tr><tr><th>21</th><td>nlreg</td><td>Higher Order Inference for Nonlinear Heteroscedastic Models</td></tr><tr><th>22</th><td>plm</td><td>Linear Models for Panel Data</td></tr><tr><th>23</th><td>plyr</td><td>Tools for splitting, applying and combining data</td></tr><tr><th>24</th><td>pscl</td><td>Political Science Computational Laboratory, Stanford University</td></tr><tr><th>25</th><td>psych</td><td>Procedures for Psychological, Psychometric, and Personality Research</td></tr><tr><th>26</th><td>quantreg</td><td>Quantile Regression</td></tr><tr><th>27</th><td>reshape2</td><td>Flexibly Reshape Data: A Reboot of the Reshape Package.</td></tr><tr><th>28</th><td>robustbase</td><td>Basic Robust Statistics</td></tr><tr><th>29</th><td>rpart</td><td>Recursive Partitioning and Regression Trees</td></tr><tr><th>30</th><td>sandwich</td><td>Robust Covariance Matrix Estimators</td></tr><tr><th>&vellip;</th><td>&vellip;</td><td>&vellip;</td></tr></tbody></table>"
      ],
      "text/latex": [
       "\\begin{tabular}{r|cc}\n",
       "\t& Package & Title\\\\\n",
       "\t\\hline\n",
       "\t& String & String\\\\\n",
       "\t\\hline\n",
       "\t1 & COUNT & Functions, data and code for count data. \\\\\n",
       "\t2 & Ecdat & Data sets for econometrics \\\\\n",
       "\t3 & HSAUR & A Handbook of Statistical Analyses Using R (1st Edition) \\\\\n",
       "\t4 & HistData & Data sets from the history of statistics and data visualization \\\\\n",
       "\t5 & ISLR & Data for An Introduction to Statistical Learning with Applications in R \\\\\n",
       "\t6 & KMsurv & Data sets from Klein and Moeschberger (1997), Survival Analysis \\\\\n",
       "\t7 & MASS & Support Functions and Datasets for Venables and Ripley's MASS \\\\\n",
       "\t8 & SASmixed & Data sets from \\textbackslash{}\\textbackslash{} \\\\\n",
       "\t9 & Zelig & Everyone's Statistical Software \\\\\n",
       "\t10 & adehabitatLT & Analysis of Animal Movements \\\\\n",
       "\t11 & boot & Bootstrap Functions (Originally by Angelo Canty for S) \\\\\n",
       "\t12 & car & Companion to Applied Regression \\\\\n",
       "\t13 & cluster & Cluster Analysis Extended Rousseeuw et al. \\\\\n",
       "\t14 & datasets & The R Datasets Package \\\\\n",
       "\t15 & gap & Genetic analysis package \\\\\n",
       "\t16 & ggplot2 & An Implementation of the Grammar of Graphics \\\\\n",
       "\t17 & lattice & Lattice Graphics \\\\\n",
       "\t18 & lme4 & Linear mixed-effects models using Eigen and S4 \\\\\n",
       "\t19 & mgcv & Mixed GAM Computation Vehicle with GCV/AIC/REML smoothness estimation \\\\\n",
       "\t20 & mlmRev & Examples from Multilevel Modelling Software Review \\\\\n",
       "\t21 & nlreg & Higher Order Inference for Nonlinear Heteroscedastic Models \\\\\n",
       "\t22 & plm & Linear Models for Panel Data \\\\\n",
       "\t23 & plyr & Tools for splitting, applying and combining data \\\\\n",
       "\t24 & pscl & Political Science Computational Laboratory, Stanford University \\\\\n",
       "\t25 & psych & Procedures for Psychological, Psychometric, and Personality Research \\\\\n",
       "\t26 & quantreg & Quantile Regression \\\\\n",
       "\t27 & reshape2 & Flexibly Reshape Data: A Reboot of the Reshape Package. \\\\\n",
       "\t28 & robustbase & Basic Robust Statistics \\\\\n",
       "\t29 & rpart & Recursive Partitioning and Regression Trees \\\\\n",
       "\t30 & sandwich & Robust Covariance Matrix Estimators \\\\\n",
       "\t$\\dots$ & $\\dots$ & $\\dots$ \\\\\n",
       "\\end{tabular}\n"
      ],
      "text/plain": [
       "33×2 DataFrame. Omitted printing of 1 columns\n",
       "│ Row │ Package      │\n",
       "│     │ \u001b[90mString\u001b[39m       │\n",
       "├─────┼──────────────┤\n",
       "│ 1   │ COUNT        │\n",
       "│ 2   │ Ecdat        │\n",
       "│ 3   │ HSAUR        │\n",
       "│ 4   │ HistData     │\n",
       "│ 5   │ ISLR         │\n",
       "│ 6   │ KMsurv       │\n",
       "│ 7   │ MASS         │\n",
       "│ 8   │ SASmixed     │\n",
       "│ 9   │ Zelig        │\n",
       "│ 10  │ adehabitatLT │\n",
       "⋮\n",
       "│ 23  │ plyr         │\n",
       "│ 24  │ pscl         │\n",
       "│ 25  │ psych        │\n",
       "│ 26  │ quantreg     │\n",
       "│ 27  │ reshape2     │\n",
       "│ 28  │ robustbase   │\n",
       "│ 29  │ rpart        │\n",
       "│ 30  │ sandwich     │\n",
       "│ 31  │ sem          │\n",
       "│ 32  │ survival     │\n",
       "│ 33  │ vcd          │"
      ]
     },
     "execution_count": 8,
     "metadata": {},
     "output_type": "execute_result"
    }
   ],
   "source": [
    "RDatasets.packages()"
   ]
  },
  {
   "cell_type": "code",
   "execution_count": 9,
   "metadata": {},
   "outputs": [
    {
     "data": {
      "text/html": [
       "<table class=\"data-frame\"><thead><tr><th></th><th>Package</th><th>Dataset</th><th>Title</th></tr><tr><th></th><th>String</th><th>String</th><th>String</th></tr></thead><tbody><p>50 rows × 5 columns (omitted printing of 2 columns)</p><tr><th>1</th><td>datasets</td><td>BOD</td><td>Biochemical Oxygen Demand</td></tr><tr><th>2</th><td>datasets</td><td>CO2</td><td>Carbon Dioxide Uptake in Grass Plants</td></tr><tr><th>3</th><td>datasets</td><td>Formaldehyde</td><td>Determination of Formaldehyde</td></tr><tr><th>4</th><td>datasets</td><td>HairEyeColor</td><td>Hair and Eye Color of Statistics Students</td></tr><tr><th>5</th><td>datasets</td><td>InsectSprays</td><td>Effectiveness of Insect Sprays</td></tr><tr><th>6</th><td>datasets</td><td>LifeCycleSavings</td><td>Intercountry Life-Cycle Savings Data</td></tr><tr><th>7</th><td>datasets</td><td>Loblolly</td><td>Growth of Loblolly pine trees</td></tr><tr><th>8</th><td>datasets</td><td>OrchardSprays</td><td>Potency of Orchard Sprays</td></tr><tr><th>9</th><td>datasets</td><td>PlantGrowth</td><td>Results from an Experiment on Plant Growth</td></tr><tr><th>10</th><td>datasets</td><td>Puromycin</td><td>Reaction Velocity of an Enzymatic Reaction</td></tr><tr><th>11</th><td>datasets</td><td>Theoph</td><td>Pharmacokinetics of Theophylline</td></tr><tr><th>12</th><td>datasets</td><td>Titanic</td><td>Survival of passengers on the Titanic</td></tr><tr><th>13</th><td>datasets</td><td>ToothGrowth</td><td>The Effect of Vitamin C on Tooth Growth in Guinea Pigs</td></tr><tr><th>14</th><td>datasets</td><td>UCBAdmissions</td><td>Student Admissions at UC Berkeley</td></tr><tr><th>15</th><td>datasets</td><td>USArrests</td><td>Violent Crime Rates by US State</td></tr><tr><th>16</th><td>datasets</td><td>USJudgeRatings</td><td>Lawyers' Ratings of State Judges in the US Superior Court</td></tr><tr><th>17</th><td>datasets</td><td>USPersonalExpenditure</td><td>Personal Expenditure Data</td></tr><tr><th>18</th><td>datasets</td><td>VADeaths</td><td>Death Rates in Virginia (1940)</td></tr><tr><th>19</th><td>datasets</td><td>WorldPhones</td><td>The World's Telephones</td></tr><tr><th>20</th><td>datasets</td><td>airquality</td><td>New York Air Quality Measurements</td></tr><tr><th>21</th><td>datasets</td><td>anscombe</td><td>Anscombe's Quartet of 'Identical' Simple Linear Regressions</td></tr><tr><th>22</th><td>datasets</td><td>attenu</td><td>The Joyner-Boore Attenuation Data</td></tr><tr><th>23</th><td>datasets</td><td>attitude</td><td>The Chatterjee-Price Attitude Data</td></tr><tr><th>24</th><td>datasets</td><td>cars</td><td>Speed and Stopping Distances of Cars</td></tr><tr><th>25</th><td>datasets</td><td>chickwts</td><td>Chicken Weights by Feed Type</td></tr><tr><th>26</th><td>datasets</td><td>crimtab</td><td>Student's 3000 Criminals Data</td></tr><tr><th>27</th><td>datasets</td><td>esoph</td><td>Smoking, Alcohol and (O)esophageal Cancer</td></tr><tr><th>28</th><td>datasets</td><td>euro</td><td>Conversion Rates of Euro Currencies</td></tr><tr><th>29</th><td>datasets</td><td>faithful</td><td>Old Faithful Geyser Data</td></tr><tr><th>30</th><td>datasets</td><td>freeny</td><td>Freeny's Revenue Data</td></tr><tr><th>&vellip;</th><td>&vellip;</td><td>&vellip;</td><td>&vellip;</td></tr></tbody></table>"
      ],
      "text/latex": [
       "\\begin{tabular}{r|cccc}\n",
       "\t& Package & Dataset & Title & \\\\\n",
       "\t\\hline\n",
       "\t& String & String & String & \\\\\n",
       "\t\\hline\n",
       "\t1 & datasets & BOD & Biochemical Oxygen Demand & $\\dots$ \\\\\n",
       "\t2 & datasets & CO2 & Carbon Dioxide Uptake in Grass Plants & $\\dots$ \\\\\n",
       "\t3 & datasets & Formaldehyde & Determination of Formaldehyde & $\\dots$ \\\\\n",
       "\t4 & datasets & HairEyeColor & Hair and Eye Color of Statistics Students & $\\dots$ \\\\\n",
       "\t5 & datasets & InsectSprays & Effectiveness of Insect Sprays & $\\dots$ \\\\\n",
       "\t6 & datasets & LifeCycleSavings & Intercountry Life-Cycle Savings Data & $\\dots$ \\\\\n",
       "\t7 & datasets & Loblolly & Growth of Loblolly pine trees & $\\dots$ \\\\\n",
       "\t8 & datasets & OrchardSprays & Potency of Orchard Sprays & $\\dots$ \\\\\n",
       "\t9 & datasets & PlantGrowth & Results from an Experiment on Plant Growth & $\\dots$ \\\\\n",
       "\t10 & datasets & Puromycin & Reaction Velocity of an Enzymatic Reaction & $\\dots$ \\\\\n",
       "\t11 & datasets & Theoph & Pharmacokinetics of Theophylline & $\\dots$ \\\\\n",
       "\t12 & datasets & Titanic & Survival of passengers on the Titanic & $\\dots$ \\\\\n",
       "\t13 & datasets & ToothGrowth & The Effect of Vitamin C on Tooth Growth in Guinea Pigs & $\\dots$ \\\\\n",
       "\t14 & datasets & UCBAdmissions & Student Admissions at UC Berkeley & $\\dots$ \\\\\n",
       "\t15 & datasets & USArrests & Violent Crime Rates by US State & $\\dots$ \\\\\n",
       "\t16 & datasets & USJudgeRatings & Lawyers' Ratings of State Judges in the US Superior Court & $\\dots$ \\\\\n",
       "\t17 & datasets & USPersonalExpenditure & Personal Expenditure Data & $\\dots$ \\\\\n",
       "\t18 & datasets & VADeaths & Death Rates in Virginia (1940) & $\\dots$ \\\\\n",
       "\t19 & datasets & WorldPhones & The World's Telephones & $\\dots$ \\\\\n",
       "\t20 & datasets & airquality & New York Air Quality Measurements & $\\dots$ \\\\\n",
       "\t21 & datasets & anscombe & Anscombe's Quartet of 'Identical' Simple Linear Regressions & $\\dots$ \\\\\n",
       "\t22 & datasets & attenu & The Joyner-Boore Attenuation Data & $\\dots$ \\\\\n",
       "\t23 & datasets & attitude & The Chatterjee-Price Attitude Data & $\\dots$ \\\\\n",
       "\t24 & datasets & cars & Speed and Stopping Distances of Cars & $\\dots$ \\\\\n",
       "\t25 & datasets & chickwts & Chicken Weights by Feed Type & $\\dots$ \\\\\n",
       "\t26 & datasets & crimtab & Student's 3000 Criminals Data & $\\dots$ \\\\\n",
       "\t27 & datasets & esoph & Smoking, Alcohol and (O)esophageal Cancer & $\\dots$ \\\\\n",
       "\t28 & datasets & euro & Conversion Rates of Euro Currencies & $\\dots$ \\\\\n",
       "\t29 & datasets & faithful & Old Faithful Geyser Data & $\\dots$ \\\\\n",
       "\t30 & datasets & freeny & Freeny's Revenue Data & $\\dots$ \\\\\n",
       "\t$\\dots$ & $\\dots$ & $\\dots$ & $\\dots$ &  \\\\\n",
       "\\end{tabular}\n"
      ],
      "text/plain": [
       "50×5 DataFrame. Omitted printing of 3 columns\n",
       "│ Row │ Package  │ Dataset          │\n",
       "│     │ \u001b[90mString\u001b[39m   │ \u001b[90mString\u001b[39m           │\n",
       "├─────┼──────────┼──────────────────┤\n",
       "│ 1   │ datasets │ BOD              │\n",
       "│ 2   │ datasets │ CO2              │\n",
       "│ 3   │ datasets │ Formaldehyde     │\n",
       "│ 4   │ datasets │ HairEyeColor     │\n",
       "│ 5   │ datasets │ InsectSprays     │\n",
       "│ 6   │ datasets │ LifeCycleSavings │\n",
       "│ 7   │ datasets │ Loblolly         │\n",
       "│ 8   │ datasets │ OrchardSprays    │\n",
       "│ 9   │ datasets │ PlantGrowth      │\n",
       "│ 10  │ datasets │ Puromycin        │\n",
       "⋮\n",
       "│ 40  │ datasets │ quakes           │\n",
       "│ 41  │ datasets │ randu            │\n",
       "│ 42  │ datasets │ rivers           │\n",
       "│ 43  │ datasets │ rock             │\n",
       "│ 44  │ datasets │ sleep            │\n",
       "│ 45  │ datasets │ stackloss        │\n",
       "│ 46  │ datasets │ swiss            │\n",
       "│ 47  │ datasets │ trees            │\n",
       "│ 48  │ datasets │ volcano          │\n",
       "│ 49  │ datasets │ warpbreaks       │\n",
       "│ 50  │ datasets │ women            │"
      ]
     },
     "execution_count": 9,
     "metadata": {},
     "output_type": "execute_result"
    }
   ],
   "source": [
    "RDatasets.datasets(\"datasets\")"
   ]
  },
  {
   "cell_type": "code",
   "execution_count": 10,
   "metadata": {},
   "outputs": [
    {
     "data": {
      "text/html": [
       "<table class=\"data-frame\"><thead><tr><th></th><th>SepalLength</th><th>SepalWidth</th><th>PetalLength</th><th>PetalWidth</th><th>Species</th></tr><tr><th></th><th>Float64</th><th>Float64</th><th>Float64</th><th>Float64</th><th>Cat…</th></tr></thead><tbody><p>150 rows × 5 columns</p><tr><th>1</th><td>5.1</td><td>3.5</td><td>1.4</td><td>0.2</td><td>setosa</td></tr><tr><th>2</th><td>4.9</td><td>3.0</td><td>1.4</td><td>0.2</td><td>setosa</td></tr><tr><th>3</th><td>4.7</td><td>3.2</td><td>1.3</td><td>0.2</td><td>setosa</td></tr><tr><th>4</th><td>4.6</td><td>3.1</td><td>1.5</td><td>0.2</td><td>setosa</td></tr><tr><th>5</th><td>5.0</td><td>3.6</td><td>1.4</td><td>0.2</td><td>setosa</td></tr><tr><th>6</th><td>5.4</td><td>3.9</td><td>1.7</td><td>0.4</td><td>setosa</td></tr><tr><th>7</th><td>4.6</td><td>3.4</td><td>1.4</td><td>0.3</td><td>setosa</td></tr><tr><th>8</th><td>5.0</td><td>3.4</td><td>1.5</td><td>0.2</td><td>setosa</td></tr><tr><th>9</th><td>4.4</td><td>2.9</td><td>1.4</td><td>0.2</td><td>setosa</td></tr><tr><th>10</th><td>4.9</td><td>3.1</td><td>1.5</td><td>0.1</td><td>setosa</td></tr><tr><th>11</th><td>5.4</td><td>3.7</td><td>1.5</td><td>0.2</td><td>setosa</td></tr><tr><th>12</th><td>4.8</td><td>3.4</td><td>1.6</td><td>0.2</td><td>setosa</td></tr><tr><th>13</th><td>4.8</td><td>3.0</td><td>1.4</td><td>0.1</td><td>setosa</td></tr><tr><th>14</th><td>4.3</td><td>3.0</td><td>1.1</td><td>0.1</td><td>setosa</td></tr><tr><th>15</th><td>5.8</td><td>4.0</td><td>1.2</td><td>0.2</td><td>setosa</td></tr><tr><th>16</th><td>5.7</td><td>4.4</td><td>1.5</td><td>0.4</td><td>setosa</td></tr><tr><th>17</th><td>5.4</td><td>3.9</td><td>1.3</td><td>0.4</td><td>setosa</td></tr><tr><th>18</th><td>5.1</td><td>3.5</td><td>1.4</td><td>0.3</td><td>setosa</td></tr><tr><th>19</th><td>5.7</td><td>3.8</td><td>1.7</td><td>0.3</td><td>setosa</td></tr><tr><th>20</th><td>5.1</td><td>3.8</td><td>1.5</td><td>0.3</td><td>setosa</td></tr><tr><th>21</th><td>5.4</td><td>3.4</td><td>1.7</td><td>0.2</td><td>setosa</td></tr><tr><th>22</th><td>5.1</td><td>3.7</td><td>1.5</td><td>0.4</td><td>setosa</td></tr><tr><th>23</th><td>4.6</td><td>3.6</td><td>1.0</td><td>0.2</td><td>setosa</td></tr><tr><th>24</th><td>5.1</td><td>3.3</td><td>1.7</td><td>0.5</td><td>setosa</td></tr><tr><th>25</th><td>4.8</td><td>3.4</td><td>1.9</td><td>0.2</td><td>setosa</td></tr><tr><th>26</th><td>5.0</td><td>3.0</td><td>1.6</td><td>0.2</td><td>setosa</td></tr><tr><th>27</th><td>5.0</td><td>3.4</td><td>1.6</td><td>0.4</td><td>setosa</td></tr><tr><th>28</th><td>5.2</td><td>3.5</td><td>1.5</td><td>0.2</td><td>setosa</td></tr><tr><th>29</th><td>5.2</td><td>3.4</td><td>1.4</td><td>0.2</td><td>setosa</td></tr><tr><th>30</th><td>4.7</td><td>3.2</td><td>1.6</td><td>0.2</td><td>setosa</td></tr><tr><th>&vellip;</th><td>&vellip;</td><td>&vellip;</td><td>&vellip;</td><td>&vellip;</td><td>&vellip;</td></tr></tbody></table>"
      ],
      "text/latex": [
       "\\begin{tabular}{r|ccccc}\n",
       "\t& SepalLength & SepalWidth & PetalLength & PetalWidth & Species\\\\\n",
       "\t\\hline\n",
       "\t& Float64 & Float64 & Float64 & Float64 & Cat…\\\\\n",
       "\t\\hline\n",
       "\t1 & 5.1 & 3.5 & 1.4 & 0.2 & setosa \\\\\n",
       "\t2 & 4.9 & 3.0 & 1.4 & 0.2 & setosa \\\\\n",
       "\t3 & 4.7 & 3.2 & 1.3 & 0.2 & setosa \\\\\n",
       "\t4 & 4.6 & 3.1 & 1.5 & 0.2 & setosa \\\\\n",
       "\t5 & 5.0 & 3.6 & 1.4 & 0.2 & setosa \\\\\n",
       "\t6 & 5.4 & 3.9 & 1.7 & 0.4 & setosa \\\\\n",
       "\t7 & 4.6 & 3.4 & 1.4 & 0.3 & setosa \\\\\n",
       "\t8 & 5.0 & 3.4 & 1.5 & 0.2 & setosa \\\\\n",
       "\t9 & 4.4 & 2.9 & 1.4 & 0.2 & setosa \\\\\n",
       "\t10 & 4.9 & 3.1 & 1.5 & 0.1 & setosa \\\\\n",
       "\t11 & 5.4 & 3.7 & 1.5 & 0.2 & setosa \\\\\n",
       "\t12 & 4.8 & 3.4 & 1.6 & 0.2 & setosa \\\\\n",
       "\t13 & 4.8 & 3.0 & 1.4 & 0.1 & setosa \\\\\n",
       "\t14 & 4.3 & 3.0 & 1.1 & 0.1 & setosa \\\\\n",
       "\t15 & 5.8 & 4.0 & 1.2 & 0.2 & setosa \\\\\n",
       "\t16 & 5.7 & 4.4 & 1.5 & 0.4 & setosa \\\\\n",
       "\t17 & 5.4 & 3.9 & 1.3 & 0.4 & setosa \\\\\n",
       "\t18 & 5.1 & 3.5 & 1.4 & 0.3 & setosa \\\\\n",
       "\t19 & 5.7 & 3.8 & 1.7 & 0.3 & setosa \\\\\n",
       "\t20 & 5.1 & 3.8 & 1.5 & 0.3 & setosa \\\\\n",
       "\t21 & 5.4 & 3.4 & 1.7 & 0.2 & setosa \\\\\n",
       "\t22 & 5.1 & 3.7 & 1.5 & 0.4 & setosa \\\\\n",
       "\t23 & 4.6 & 3.6 & 1.0 & 0.2 & setosa \\\\\n",
       "\t24 & 5.1 & 3.3 & 1.7 & 0.5 & setosa \\\\\n",
       "\t25 & 4.8 & 3.4 & 1.9 & 0.2 & setosa \\\\\n",
       "\t26 & 5.0 & 3.0 & 1.6 & 0.2 & setosa \\\\\n",
       "\t27 & 5.0 & 3.4 & 1.6 & 0.4 & setosa \\\\\n",
       "\t28 & 5.2 & 3.5 & 1.5 & 0.2 & setosa \\\\\n",
       "\t29 & 5.2 & 3.4 & 1.4 & 0.2 & setosa \\\\\n",
       "\t30 & 4.7 & 3.2 & 1.6 & 0.2 & setosa \\\\\n",
       "\t$\\dots$ & $\\dots$ & $\\dots$ & $\\dots$ & $\\dots$ & $\\dots$ \\\\\n",
       "\\end{tabular}\n"
      ],
      "text/plain": [
       "150×5 DataFrame\n",
       "│ Row │ SepalLength │ SepalWidth │ PetalLength │ PetalWidth │ Species   │\n",
       "│     │ \u001b[90mFloat64\u001b[39m     │ \u001b[90mFloat64\u001b[39m    │ \u001b[90mFloat64\u001b[39m     │ \u001b[90mFloat64\u001b[39m    │ \u001b[90mCat…\u001b[39m      │\n",
       "├─────┼─────────────┼────────────┼─────────────┼────────────┼───────────┤\n",
       "│ 1   │ 5.1         │ 3.5        │ 1.4         │ 0.2        │ setosa    │\n",
       "│ 2   │ 4.9         │ 3.0        │ 1.4         │ 0.2        │ setosa    │\n",
       "│ 3   │ 4.7         │ 3.2        │ 1.3         │ 0.2        │ setosa    │\n",
       "│ 4   │ 4.6         │ 3.1        │ 1.5         │ 0.2        │ setosa    │\n",
       "│ 5   │ 5.0         │ 3.6        │ 1.4         │ 0.2        │ setosa    │\n",
       "│ 6   │ 5.4         │ 3.9        │ 1.7         │ 0.4        │ setosa    │\n",
       "│ 7   │ 4.6         │ 3.4        │ 1.4         │ 0.3        │ setosa    │\n",
       "│ 8   │ 5.0         │ 3.4        │ 1.5         │ 0.2        │ setosa    │\n",
       "│ 9   │ 4.4         │ 2.9        │ 1.4         │ 0.2        │ setosa    │\n",
       "│ 10  │ 4.9         │ 3.1        │ 1.5         │ 0.1        │ setosa    │\n",
       "⋮\n",
       "│ 140 │ 6.9         │ 3.1        │ 5.4         │ 2.1        │ virginica │\n",
       "│ 141 │ 6.7         │ 3.1        │ 5.6         │ 2.4        │ virginica │\n",
       "│ 142 │ 6.9         │ 3.1        │ 5.1         │ 2.3        │ virginica │\n",
       "│ 143 │ 5.8         │ 2.7        │ 5.1         │ 1.9        │ virginica │\n",
       "│ 144 │ 6.8         │ 3.2        │ 5.9         │ 2.3        │ virginica │\n",
       "│ 145 │ 6.7         │ 3.3        │ 5.7         │ 2.5        │ virginica │\n",
       "│ 146 │ 6.7         │ 3.0        │ 5.2         │ 2.3        │ virginica │\n",
       "│ 147 │ 6.3         │ 2.5        │ 5.0         │ 1.9        │ virginica │\n",
       "│ 148 │ 6.5         │ 3.0        │ 5.2         │ 2.0        │ virginica │\n",
       "│ 149 │ 6.2         │ 3.4        │ 5.4         │ 2.3        │ virginica │\n",
       "│ 150 │ 5.9         │ 3.0        │ 5.1         │ 1.8        │ virginica │"
      ]
     },
     "execution_count": 10,
     "metadata": {},
     "output_type": "execute_result"
    }
   ],
   "source": [
    "iris=RDatasets.dataset(\"datasets\",\"iris\")"
   ]
  },
  {
   "cell_type": "code",
   "execution_count": 11,
   "metadata": {},
   "outputs": [
    {
     "data": {
      "text/plain": [
       "10-element Array{Float64,1}:\n",
       " 3.7\n",
       " 3.4\n",
       " 3.0\n",
       " 3.0\n",
       " 4.0\n",
       " 4.4\n",
       " 3.9\n",
       " 3.5\n",
       " 3.8\n",
       " 3.8"
      ]
     },
     "execution_count": 11,
     "metadata": {},
     "output_type": "execute_result"
    }
   ],
   "source": [
    "iris[11:20,:SepalWidth]"
   ]
  },
  {
   "cell_type": "code",
   "execution_count": 12,
   "metadata": {},
   "outputs": [
    {
     "data": {
      "text/html": [
       "<table class=\"data-frame\"><thead><tr><th></th><th>A</th><th>B</th><th>C</th></tr><tr><th></th><th>Int64</th><th>String</th><th>Float64</th></tr></thead><tbody><p>4 rows × 3 columns</p><tr><th>1</th><td>1</td><td>M</td><td>3.0</td></tr><tr><th>2</th><td>2</td><td>F</td><td>2.5</td></tr><tr><th>3</th><td>3</td><td>F</td><td>3.14159</td></tr><tr><th>4</th><td>4</td><td>M</td><td>-2.3</td></tr></tbody></table>"
      ],
      "text/latex": [
       "\\begin{tabular}{r|ccc}\n",
       "\t& A & B & C\\\\\n",
       "\t\\hline\n",
       "\t& Int64 & String & Float64\\\\\n",
       "\t\\hline\n",
       "\t1 & 1 & M & 3.0 \\\\\n",
       "\t2 & 2 & F & 2.5 \\\\\n",
       "\t3 & 3 & F & 3.14159 \\\\\n",
       "\t4 & 4 & M & -2.3 \\\\\n",
       "\\end{tabular}\n"
      ],
      "text/plain": [
       "4×3 DataFrame\n",
       "│ Row │ A     │ B      │ C       │\n",
       "│     │ \u001b[90mInt64\u001b[39m │ \u001b[90mString\u001b[39m │ \u001b[90mFloat64\u001b[39m │\n",
       "├─────┼───────┼────────┼─────────┤\n",
       "│ 1   │ 1     │ M      │ 3.0     │\n",
       "│ 2   │ 2     │ F      │ 2.5     │\n",
       "│ 3   │ 3     │ F      │ 3.14159 │\n",
       "│ 4   │ 4     │ M      │ -2.3    │"
      ]
     },
     "execution_count": 12,
     "metadata": {},
     "output_type": "execute_result"
    }
   ],
   "source": [
    "data = DataFrame(A = 1:4, B = [\"M\", \"F\", \"F\", \"M\"], C=[3.0,2.5,pi,-2.3])"
   ]
  },
  {
   "cell_type": "code",
   "execution_count": 13,
   "metadata": {},
   "outputs": [
    {
     "data": {
      "image/svg+xml": [
       "<?xml version=\"1.0\" encoding=\"utf-8\"?>\n",
       "<svg xmlns=\"http://www.w3.org/2000/svg\" xmlns:xlink=\"http://www.w3.org/1999/xlink\" width=\"600\" height=\"400\" viewBox=\"0 0 2400 1600\">\n",
       "<defs>\n",
       "  <clipPath id=\"clip250\">\n",
       "    <rect x=\"0\" y=\"0\" width=\"2400\" height=\"1600\"/>\n",
       "  </clipPath>\n",
       "</defs>\n",
       "<path clip-path=\"url(#clip250)\" d=\"\n",
       "M0 1600 L2400 1600 L2400 0 L0 0  Z\n",
       "  \" fill=\"#ffffff\" fill-rule=\"evenodd\" fill-opacity=\"1\"/>\n",
       "<defs>\n",
       "  <clipPath id=\"clip251\">\n",
       "    <rect x=\"480\" y=\"0\" width=\"1681\" height=\"1600\"/>\n",
       "  </clipPath>\n",
       "</defs>\n",
       "<path clip-path=\"url(#clip250)\" d=\"\n",
       "M149.145 1486.45 L2352.76 1486.45 L2352.76 47.2441 L149.145 47.2441  Z\n",
       "  \" fill=\"#ffffff\" fill-rule=\"evenodd\" fill-opacity=\"1\"/>\n",
       "<defs>\n",
       "  <clipPath id=\"clip252\">\n",
       "    <rect x=\"149\" y=\"47\" width=\"2205\" height=\"1440\"/>\n",
       "  </clipPath>\n",
       "</defs>\n",
       "<polyline clip-path=\"url(#clip252)\" style=\"stroke:#000000; stroke-width:2; stroke-opacity:0.1; fill:none\" points=\"\n",
       "  615.737,1486.45 615.737,47.2441 \n",
       "  \"/>\n",
       "<polyline clip-path=\"url(#clip252)\" style=\"stroke:#000000; stroke-width:2; stroke-opacity:0.1; fill:none\" points=\"\n",
       "  1193.2,1486.45 1193.2,47.2441 \n",
       "  \"/>\n",
       "<polyline clip-path=\"url(#clip252)\" style=\"stroke:#000000; stroke-width:2; stroke-opacity:0.1; fill:none\" points=\"\n",
       "  1770.67,1486.45 1770.67,47.2441 \n",
       "  \"/>\n",
       "<polyline clip-path=\"url(#clip252)\" style=\"stroke:#000000; stroke-width:2; stroke-opacity:0.1; fill:none\" points=\"\n",
       "  2348.14,1486.45 2348.14,47.2441 \n",
       "  \"/>\n",
       "<polyline clip-path=\"url(#clip252)\" style=\"stroke:#000000; stroke-width:2; stroke-opacity:0.1; fill:none\" points=\"\n",
       "  149.145,1445.72 2352.76,1445.72 \n",
       "  \"/>\n",
       "<polyline clip-path=\"url(#clip252)\" style=\"stroke:#000000; stroke-width:2; stroke-opacity:0.1; fill:none\" points=\"\n",
       "  149.145,1162.85 2352.76,1162.85 \n",
       "  \"/>\n",
       "<polyline clip-path=\"url(#clip252)\" style=\"stroke:#000000; stroke-width:2; stroke-opacity:0.1; fill:none\" points=\"\n",
       "  149.145,879.991 2352.76,879.991 \n",
       "  \"/>\n",
       "<polyline clip-path=\"url(#clip252)\" style=\"stroke:#000000; stroke-width:2; stroke-opacity:0.1; fill:none\" points=\"\n",
       "  149.145,597.129 2352.76,597.129 \n",
       "  \"/>\n",
       "<polyline clip-path=\"url(#clip252)\" style=\"stroke:#000000; stroke-width:2; stroke-opacity:0.1; fill:none\" points=\"\n",
       "  149.145,314.266 2352.76,314.266 \n",
       "  \"/>\n",
       "<polyline clip-path=\"url(#clip250)\" style=\"stroke:#000000; stroke-width:4; stroke-opacity:1; fill:none\" points=\"\n",
       "  149.145,1486.45 2352.76,1486.45 \n",
       "  \"/>\n",
       "<polyline clip-path=\"url(#clip250)\" style=\"stroke:#000000; stroke-width:4; stroke-opacity:1; fill:none\" points=\"\n",
       "  149.145,1486.45 149.145,47.2441 \n",
       "  \"/>\n",
       "<polyline clip-path=\"url(#clip250)\" style=\"stroke:#000000; stroke-width:4; stroke-opacity:1; fill:none\" points=\"\n",
       "  615.737,1486.45 615.737,1469.18 \n",
       "  \"/>\n",
       "<polyline clip-path=\"url(#clip250)\" style=\"stroke:#000000; stroke-width:4; stroke-opacity:1; fill:none\" points=\"\n",
       "  1193.2,1486.45 1193.2,1469.18 \n",
       "  \"/>\n",
       "<polyline clip-path=\"url(#clip250)\" style=\"stroke:#000000; stroke-width:4; stroke-opacity:1; fill:none\" points=\"\n",
       "  1770.67,1486.45 1770.67,1469.18 \n",
       "  \"/>\n",
       "<polyline clip-path=\"url(#clip250)\" style=\"stroke:#000000; stroke-width:4; stroke-opacity:1; fill:none\" points=\"\n",
       "  2348.14,1486.45 2348.14,1469.18 \n",
       "  \"/>\n",
       "<polyline clip-path=\"url(#clip250)\" style=\"stroke:#000000; stroke-width:4; stroke-opacity:1; fill:none\" points=\"\n",
       "  149.145,1445.72 175.588,1445.72 \n",
       "  \"/>\n",
       "<polyline clip-path=\"url(#clip250)\" style=\"stroke:#000000; stroke-width:4; stroke-opacity:1; fill:none\" points=\"\n",
       "  149.145,1162.85 175.588,1162.85 \n",
       "  \"/>\n",
       "<polyline clip-path=\"url(#clip250)\" style=\"stroke:#000000; stroke-width:4; stroke-opacity:1; fill:none\" points=\"\n",
       "  149.145,879.991 175.588,879.991 \n",
       "  \"/>\n",
       "<polyline clip-path=\"url(#clip250)\" style=\"stroke:#000000; stroke-width:4; stroke-opacity:1; fill:none\" points=\"\n",
       "  149.145,597.129 175.588,597.129 \n",
       "  \"/>\n",
       "<polyline clip-path=\"url(#clip250)\" style=\"stroke:#000000; stroke-width:4; stroke-opacity:1; fill:none\" points=\"\n",
       "  149.145,314.266 175.588,314.266 \n",
       "  \"/>\n",
       "<path clip-path=\"url(#clip250)\" d=\"M 0 0 M606.015 1505.36 L624.372 1505.36 L624.372 1509.3 L610.298 1509.3 L610.298 1517.77 Q611.316 1517.42 612.335 1517.26 Q613.353 1517.07 614.372 1517.07 Q620.159 1517.07 623.538 1520.24 Q626.918 1523.42 626.918 1528.83 Q626.918 1534.41 623.446 1537.51 Q619.973 1540.59 613.654 1540.59 Q611.478 1540.59 609.21 1540.22 Q606.964 1539.85 604.557 1539.11 L604.557 1534.41 Q606.64 1535.54 608.862 1536.1 Q611.085 1536.66 613.561 1536.66 Q617.566 1536.66 619.904 1534.55 Q622.242 1532.44 622.242 1528.83 Q622.242 1525.22 619.904 1523.11 Q617.566 1521.01 613.561 1521.01 Q611.686 1521.01 609.811 1521.42 Q607.96 1521.84 606.015 1522.72 L606.015 1505.36 Z\" fill=\"#000000\" fill-rule=\"evenodd\" fill-opacity=\"1\" /><path clip-path=\"url(#clip250)\" d=\"M 0 0 M1193.61 1520.78 Q1190.46 1520.78 1188.61 1522.93 Q1186.78 1525.08 1186.78 1528.83 Q1186.78 1532.56 1188.61 1534.73 Q1190.46 1536.89 1193.61 1536.89 Q1196.76 1536.89 1198.59 1534.73 Q1200.44 1532.56 1200.44 1528.83 Q1200.44 1525.08 1198.59 1522.93 Q1196.76 1520.78 1193.61 1520.78 M1202.89 1506.12 L1202.89 1510.38 Q1201.13 1509.55 1199.33 1509.11 Q1197.54 1508.67 1195.78 1508.67 Q1191.16 1508.67 1188.7 1511.8 Q1186.27 1514.92 1185.92 1521.24 Q1187.29 1519.23 1189.35 1518.16 Q1191.41 1517.07 1193.89 1517.07 Q1199.09 1517.07 1202.1 1520.24 Q1205.14 1523.39 1205.14 1528.83 Q1205.14 1534.16 1201.99 1537.37 Q1198.84 1540.59 1193.61 1540.59 Q1187.61 1540.59 1184.44 1536.01 Q1181.27 1531.4 1181.27 1522.67 Q1181.27 1514.48 1185.16 1509.62 Q1189.05 1504.73 1195.6 1504.73 Q1197.36 1504.73 1199.14 1505.08 Q1200.95 1505.43 1202.89 1506.12 Z\" fill=\"#000000\" fill-rule=\"evenodd\" fill-opacity=\"1\" /><path clip-path=\"url(#clip250)\" d=\"M 0 0 M1759.56 1505.36 L1781.78 1505.36 L1781.78 1507.35 L1769.23 1539.92 L1764.35 1539.92 L1776.16 1509.3 L1759.56 1509.3 L1759.56 1505.36 Z\" fill=\"#000000\" fill-rule=\"evenodd\" fill-opacity=\"1\" /><path clip-path=\"url(#clip250)\" d=\"M 0 0 M2348.14 1523.51 Q2344.8 1523.51 2342.88 1525.29 Q2340.98 1527.07 2340.98 1530.2 Q2340.98 1533.32 2342.88 1535.11 Q2344.8 1536.89 2348.14 1536.89 Q2351.47 1536.89 2353.39 1535.11 Q2355.31 1533.3 2355.31 1530.2 Q2355.31 1527.07 2353.39 1525.29 Q2351.49 1523.51 2348.14 1523.51 M2343.46 1521.52 Q2340.45 1520.78 2338.76 1518.72 Q2337.09 1516.66 2337.09 1513.69 Q2337.09 1509.55 2340.03 1507.14 Q2343 1504.73 2348.14 1504.73 Q2353.3 1504.73 2356.24 1507.14 Q2359.18 1509.55 2359.18 1513.69 Q2359.18 1516.66 2357.49 1518.72 Q2355.82 1520.78 2352.84 1521.52 Q2356.21 1522.3 2358.09 1524.6 Q2359.99 1526.89 2359.99 1530.2 Q2359.99 1535.22 2356.91 1537.91 Q2353.85 1540.59 2348.14 1540.59 Q2342.42 1540.59 2339.34 1537.91 Q2336.28 1535.22 2336.28 1530.2 Q2336.28 1526.89 2338.18 1524.6 Q2340.08 1522.3 2343.46 1521.52 M2341.75 1514.13 Q2341.75 1516.82 2343.41 1518.32 Q2345.1 1519.83 2348.14 1519.83 Q2351.15 1519.83 2352.84 1518.32 Q2354.55 1516.82 2354.55 1514.13 Q2354.55 1511.45 2352.84 1509.94 Q2351.15 1508.44 2348.14 1508.44 Q2345.1 1508.44 2343.41 1509.94 Q2341.75 1511.45 2341.75 1514.13 Z\" fill=\"#000000\" fill-rule=\"evenodd\" fill-opacity=\"1\" /><path clip-path=\"url(#clip250)\" d=\"M 0 0 M71.8578 1459.06 L88.1772 1459.06 L88.1772 1463 L66.2328 1463 L66.2328 1459.06 Q68.8949 1456.31 73.4782 1451.68 Q78.0846 1447.02 79.2652 1445.68 Q81.5105 1443.16 82.3902 1441.42 Q83.2929 1439.66 83.2929 1437.97 Q83.2929 1435.22 81.3485 1433.48 Q79.4272 1431.75 76.3254 1431.75 Q74.1263 1431.75 71.6726 1432.51 Q69.2421 1433.27 66.4643 1434.82 L66.4643 1430.1 Q69.2884 1428.97 71.7421 1428.39 Q74.1958 1427.81 76.2328 1427.81 Q81.6031 1427.81 84.7976 1430.5 Q87.992 1433.18 87.992 1437.67 Q87.992 1439.8 87.1818 1441.72 Q86.3948 1443.62 84.2883 1446.21 Q83.7096 1446.88 80.6078 1450.1 Q77.5059 1453.3 71.8578 1459.06 Z\" fill=\"#000000\" fill-rule=\"evenodd\" fill-opacity=\"1\" /><path clip-path=\"url(#clip250)\" d=\"M 0 0 M93.2466 1457.12 L98.1308 1457.12 L98.1308 1463 L93.2466 1463 L93.2466 1457.12 Z\" fill=\"#000000\" fill-rule=\"evenodd\" fill-opacity=\"1\" /><path clip-path=\"url(#clip250)\" d=\"M 0 0 M113.2 1431.51 Q109.589 1431.51 107.76 1435.08 Q105.955 1438.62 105.955 1445.75 Q105.955 1452.86 107.76 1456.42 Q109.589 1459.96 113.2 1459.96 Q116.834 1459.96 118.64 1456.42 Q120.469 1452.86 120.469 1445.75 Q120.469 1438.62 118.64 1435.08 Q116.834 1431.51 113.2 1431.51 M113.2 1427.81 Q119.01 1427.81 122.066 1432.42 Q125.145 1437 125.145 1445.75 Q125.145 1454.48 122.066 1459.08 Q119.01 1463.67 113.2 1463.67 Q107.39 1463.67 104.311 1459.08 Q101.256 1454.48 101.256 1445.75 Q101.256 1437 104.311 1432.42 Q107.39 1427.81 113.2 1427.81 Z\" fill=\"#000000\" fill-rule=\"evenodd\" fill-opacity=\"1\" /><path clip-path=\"url(#clip250)\" d=\"M 0 0 M72.8532 1176.2 L89.1725 1176.2 L89.1725 1180.13 L67.2282 1180.13 L67.2282 1176.2 Q69.8902 1173.44 74.4735 1168.81 Q79.08 1164.16 80.2606 1162.82 Q82.5059 1160.3 83.3855 1158.56 Q84.2883 1156.8 84.2883 1155.11 Q84.2883 1152.36 82.3439 1150.62 Q80.4226 1148.88 77.3208 1148.88 Q75.1217 1148.88 72.668 1149.65 Q70.2375 1150.41 67.4597 1151.96 L67.4597 1147.24 Q70.2838 1146.11 72.7374 1145.53 Q75.1911 1144.95 77.2282 1144.95 Q82.5985 1144.95 85.7929 1147.63 Q88.9874 1150.32 88.9874 1154.81 Q88.9874 1156.94 88.1772 1158.86 Q87.3901 1160.76 85.2837 1163.35 Q84.705 1164.02 81.6031 1167.24 Q78.5013 1170.43 72.8532 1176.2 Z\" fill=\"#000000\" fill-rule=\"evenodd\" fill-opacity=\"1\" /><path clip-path=\"url(#clip250)\" d=\"M 0 0 M94.242 1174.25 L99.1262 1174.25 L99.1262 1180.13 L94.242 1180.13 L94.242 1174.25 Z\" fill=\"#000000\" fill-rule=\"evenodd\" fill-opacity=\"1\" /><path clip-path=\"url(#clip250)\" d=\"M 0 0 M104.242 1145.57 L122.598 1145.57 L122.598 1149.51 L108.524 1149.51 L108.524 1157.98 Q109.543 1157.63 110.561 1157.47 Q111.58 1157.29 112.598 1157.29 Q118.385 1157.29 121.765 1160.46 Q125.145 1163.63 125.145 1169.05 Q125.145 1174.62 121.672 1177.73 Q118.2 1180.8 111.881 1180.8 Q109.705 1180.8 107.436 1180.43 Q105.191 1180.06 102.784 1179.32 L102.784 1174.62 Q104.867 1175.76 107.089 1176.31 Q109.311 1176.87 111.788 1176.87 Q115.793 1176.87 118.131 1174.76 Q120.469 1172.66 120.469 1169.05 Q120.469 1165.43 118.131 1163.33 Q115.793 1161.22 111.788 1161.22 Q109.913 1161.22 108.038 1161.64 Q106.186 1162.05 104.242 1162.93 L104.242 1145.57 Z\" fill=\"#000000\" fill-rule=\"evenodd\" fill-opacity=\"1\" /><path clip-path=\"url(#clip250)\" d=\"M 0 0 M81.0476 878.637 Q84.404 879.354 86.279 881.623 Q88.1772 883.891 88.1772 887.225 Q88.1772 892.34 84.6587 895.141 Q81.1402 897.942 74.6587 897.942 Q72.4828 897.942 70.168 897.502 Q67.8764 897.086 65.4227 896.229 L65.4227 891.715 Q67.3671 892.85 69.6819 893.428 Q71.9967 894.007 74.5198 894.007 Q78.918 894.007 81.2096 892.271 Q83.5244 890.535 83.5244 887.225 Q83.5244 884.169 81.3717 882.456 Q79.242 880.72 75.4226 880.72 L71.3949 880.72 L71.3949 876.878 L75.6078 876.878 Q79.0569 876.878 80.8855 875.512 Q82.7142 874.123 82.7142 871.53 Q82.7142 868.868 80.8161 867.456 Q78.9411 866.021 75.4226 866.021 Q73.5013 866.021 71.3023 866.438 Q69.1032 866.854 66.4643 867.734 L66.4643 863.567 Q69.1264 862.827 71.4412 862.456 Q73.7791 862.086 75.8393 862.086 Q81.1633 862.086 84.2652 864.516 Q87.367 866.924 87.367 871.044 Q87.367 873.915 85.7235 875.905 Q84.08 877.873 81.0476 878.637 Z\" fill=\"#000000\" fill-rule=\"evenodd\" fill-opacity=\"1\" /><path clip-path=\"url(#clip250)\" d=\"M 0 0 M93.2466 891.391 L98.1308 891.391 L98.1308 897.271 L93.2466 897.271 L93.2466 891.391 Z\" fill=\"#000000\" fill-rule=\"evenodd\" fill-opacity=\"1\" /><path clip-path=\"url(#clip250)\" d=\"M 0 0 M113.2 865.79 Q109.589 865.79 107.76 869.354 Q105.955 872.896 105.955 880.026 Q105.955 887.132 107.76 890.697 Q109.589 894.239 113.2 894.239 Q116.834 894.239 118.64 890.697 Q120.469 887.132 120.469 880.026 Q120.469 872.896 118.64 869.354 Q116.834 865.79 113.2 865.79 M113.2 862.086 Q119.01 862.086 122.066 866.692 Q125.145 871.276 125.145 880.026 Q125.145 888.752 122.066 893.359 Q119.01 897.942 113.2 897.942 Q107.39 897.942 104.311 893.359 Q101.256 888.752 101.256 880.026 Q101.256 871.276 104.311 866.692 Q107.39 862.086 113.2 862.086 Z\" fill=\"#000000\" fill-rule=\"evenodd\" fill-opacity=\"1\" /><path clip-path=\"url(#clip250)\" d=\"M 0 0 M82.0429 595.774 Q85.3994 596.492 87.2744 598.76 Q89.1725 601.029 89.1725 604.362 Q89.1725 609.478 85.654 612.279 Q82.1355 615.08 75.6541 615.08 Q73.4782 615.08 71.1634 614.64 Q68.8717 614.223 66.418 613.367 L66.418 608.853 Q68.3625 609.987 70.6773 610.566 Q72.9921 611.145 75.5152 611.145 Q79.9133 611.145 82.205 609.409 Q84.5198 607.672 84.5198 604.362 Q84.5198 601.307 82.367 599.594 Q80.2374 597.858 76.418 597.858 L72.3902 597.858 L72.3902 594.015 L76.6032 594.015 Q80.0522 594.015 81.8809 592.649 Q83.7096 591.261 83.7096 588.668 Q83.7096 586.006 81.8115 584.594 Q79.9365 583.159 76.418 583.159 Q74.4967 583.159 72.2976 583.575 Q70.0986 583.992 67.4597 584.872 L67.4597 580.705 Q70.1217 579.964 72.4365 579.594 Q74.7745 579.224 76.8346 579.224 Q82.1587 579.224 85.2605 581.654 Q88.3624 584.061 88.3624 588.182 Q88.3624 591.052 86.7189 593.043 Q85.0753 595.011 82.0429 595.774 Z\" fill=\"#000000\" fill-rule=\"evenodd\" fill-opacity=\"1\" /><path clip-path=\"url(#clip250)\" d=\"M 0 0 M94.242 608.529 L99.1262 608.529 L99.1262 614.409 L94.242 614.409 L94.242 608.529 Z\" fill=\"#000000\" fill-rule=\"evenodd\" fill-opacity=\"1\" /><path clip-path=\"url(#clip250)\" d=\"M 0 0 M104.242 579.849 L122.598 579.849 L122.598 583.784 L108.524 583.784 L108.524 592.256 Q109.543 591.909 110.561 591.747 Q111.58 591.561 112.598 591.561 Q118.385 591.561 121.765 594.733 Q125.145 597.904 125.145 603.321 Q125.145 608.899 121.672 612.001 Q118.2 615.08 111.881 615.08 Q109.705 615.08 107.436 614.709 Q105.191 614.339 102.784 613.598 L102.784 608.899 Q104.867 610.034 107.089 610.589 Q109.311 611.145 111.788 611.145 Q115.793 611.145 118.131 609.038 Q120.469 606.932 120.469 603.321 Q120.469 599.71 118.131 597.603 Q115.793 595.497 111.788 595.497 Q109.913 595.497 108.038 595.913 Q106.186 596.33 104.242 597.21 L104.242 579.849 Z\" fill=\"#000000\" fill-rule=\"evenodd\" fill-opacity=\"1\" /><path clip-path=\"url(#clip250)\" d=\"M 0 0 M78.5939 301.06 L66.7884 319.509 L78.5939 319.509 L78.5939 301.06 M77.367 296.986 L83.2466 296.986 L83.2466 319.509 L88.1772 319.509 L88.1772 323.398 L83.2466 323.398 L83.2466 331.546 L78.5939 331.546 L78.5939 323.398 L62.9921 323.398 L62.9921 318.884 L77.367 296.986 Z\" fill=\"#000000\" fill-rule=\"evenodd\" fill-opacity=\"1\" /><path clip-path=\"url(#clip250)\" d=\"M 0 0 M93.2466 325.667 L98.1308 325.667 L98.1308 331.546 L93.2466 331.546 L93.2466 325.667 Z\" fill=\"#000000\" fill-rule=\"evenodd\" fill-opacity=\"1\" /><path clip-path=\"url(#clip250)\" d=\"M 0 0 M113.2 300.065 Q109.589 300.065 107.76 303.63 Q105.955 307.171 105.955 314.301 Q105.955 321.407 107.76 324.972 Q109.589 328.514 113.2 328.514 Q116.834 328.514 118.64 324.972 Q120.469 321.407 120.469 314.301 Q120.469 307.171 118.64 303.63 Q116.834 300.065 113.2 300.065 M113.2 296.361 Q119.01 296.361 122.066 300.968 Q125.145 305.551 125.145 314.301 Q125.145 323.028 122.066 327.634 Q119.01 332.217 113.2 332.217 Q107.39 332.217 104.311 327.634 Q101.256 323.028 101.256 314.301 Q101.256 305.551 104.311 300.968 Q107.39 296.361 113.2 296.361 Z\" fill=\"#000000\" fill-rule=\"evenodd\" fill-opacity=\"1\" /><circle clip-path=\"url(#clip252)\" cx=\"673.484\" cy=\"597.129\" r=\"14\" fill=\"#009af9\" fill-rule=\"evenodd\" fill-opacity=\"1\" stroke=\"#000000\" stroke-opacity=\"1\" stroke-width=\"3.2\"/>\n",
       "<circle clip-path=\"url(#clip252)\" cx=\"557.991\" cy=\"879.991\" r=\"14\" fill=\"#009af9\" fill-rule=\"evenodd\" fill-opacity=\"1\" stroke=\"#000000\" stroke-opacity=\"1\" stroke-width=\"3.2\"/>\n",
       "<circle clip-path=\"url(#clip252)\" cx=\"442.497\" cy=\"766.846\" r=\"14\" fill=\"#009af9\" fill-rule=\"evenodd\" fill-opacity=\"1\" stroke=\"#000000\" stroke-opacity=\"1\" stroke-width=\"3.2\"/>\n",
       "<circle clip-path=\"url(#clip252)\" cx=\"384.751\" cy=\"823.418\" r=\"14\" fill=\"#009af9\" fill-rule=\"evenodd\" fill-opacity=\"1\" stroke=\"#000000\" stroke-opacity=\"1\" stroke-width=\"3.2\"/>\n",
       "<circle clip-path=\"url(#clip252)\" cx=\"615.737\" cy=\"540.556\" r=\"14\" fill=\"#009af9\" fill-rule=\"evenodd\" fill-opacity=\"1\" stroke=\"#000000\" stroke-opacity=\"1\" stroke-width=\"3.2\"/>\n",
       "<circle clip-path=\"url(#clip252)\" cx=\"846.724\" cy=\"370.839\" r=\"14\" fill=\"#009af9\" fill-rule=\"evenodd\" fill-opacity=\"1\" stroke=\"#000000\" stroke-opacity=\"1\" stroke-width=\"3.2\"/>\n",
       "<circle clip-path=\"url(#clip252)\" cx=\"384.751\" cy=\"653.701\" r=\"14\" fill=\"#009af9\" fill-rule=\"evenodd\" fill-opacity=\"1\" stroke=\"#000000\" stroke-opacity=\"1\" stroke-width=\"3.2\"/>\n",
       "<circle clip-path=\"url(#clip252)\" cx=\"615.737\" cy=\"653.701\" r=\"14\" fill=\"#009af9\" fill-rule=\"evenodd\" fill-opacity=\"1\" stroke=\"#000000\" stroke-opacity=\"1\" stroke-width=\"3.2\"/>\n",
       "<circle clip-path=\"url(#clip252)\" cx=\"269.258\" cy=\"936.563\" r=\"14\" fill=\"#009af9\" fill-rule=\"evenodd\" fill-opacity=\"1\" stroke=\"#000000\" stroke-opacity=\"1\" stroke-width=\"3.2\"/>\n",
       "<circle clip-path=\"url(#clip252)\" cx=\"557.991\" cy=\"823.418\" r=\"14\" fill=\"#009af9\" fill-rule=\"evenodd\" fill-opacity=\"1\" stroke=\"#000000\" stroke-opacity=\"1\" stroke-width=\"3.2\"/>\n",
       "<circle clip-path=\"url(#clip252)\" cx=\"846.724\" cy=\"483.984\" r=\"14\" fill=\"#009af9\" fill-rule=\"evenodd\" fill-opacity=\"1\" stroke=\"#000000\" stroke-opacity=\"1\" stroke-width=\"3.2\"/>\n",
       "<circle clip-path=\"url(#clip252)\" cx=\"500.244\" cy=\"653.701\" r=\"14\" fill=\"#009af9\" fill-rule=\"evenodd\" fill-opacity=\"1\" stroke=\"#000000\" stroke-opacity=\"1\" stroke-width=\"3.2\"/>\n",
       "<circle clip-path=\"url(#clip252)\" cx=\"500.244\" cy=\"879.991\" r=\"14\" fill=\"#009af9\" fill-rule=\"evenodd\" fill-opacity=\"1\" stroke=\"#000000\" stroke-opacity=\"1\" stroke-width=\"3.2\"/>\n",
       "<circle clip-path=\"url(#clip252)\" cx=\"211.511\" cy=\"879.991\" r=\"14\" fill=\"#009af9\" fill-rule=\"evenodd\" fill-opacity=\"1\" stroke=\"#000000\" stroke-opacity=\"1\" stroke-width=\"3.2\"/>\n",
       "<circle clip-path=\"url(#clip252)\" cx=\"1077.71\" cy=\"314.266\" r=\"14\" fill=\"#009af9\" fill-rule=\"evenodd\" fill-opacity=\"1\" stroke=\"#000000\" stroke-opacity=\"1\" stroke-width=\"3.2\"/>\n",
       "<circle clip-path=\"url(#clip252)\" cx=\"1019.96\" cy=\"87.9763\" r=\"14\" fill=\"#009af9\" fill-rule=\"evenodd\" fill-opacity=\"1\" stroke=\"#000000\" stroke-opacity=\"1\" stroke-width=\"3.2\"/>\n",
       "<circle clip-path=\"url(#clip252)\" cx=\"846.724\" cy=\"370.839\" r=\"14\" fill=\"#009af9\" fill-rule=\"evenodd\" fill-opacity=\"1\" stroke=\"#000000\" stroke-opacity=\"1\" stroke-width=\"3.2\"/>\n",
       "<circle clip-path=\"url(#clip252)\" cx=\"673.484\" cy=\"597.129\" r=\"14\" fill=\"#009af9\" fill-rule=\"evenodd\" fill-opacity=\"1\" stroke=\"#000000\" stroke-opacity=\"1\" stroke-width=\"3.2\"/>\n",
       "<circle clip-path=\"url(#clip252)\" cx=\"1019.96\" cy=\"427.411\" r=\"14\" fill=\"#009af9\" fill-rule=\"evenodd\" fill-opacity=\"1\" stroke=\"#000000\" stroke-opacity=\"1\" stroke-width=\"3.2\"/>\n",
       "<circle clip-path=\"url(#clip252)\" cx=\"673.484\" cy=\"427.411\" r=\"14\" fill=\"#009af9\" fill-rule=\"evenodd\" fill-opacity=\"1\" stroke=\"#000000\" stroke-opacity=\"1\" stroke-width=\"3.2\"/>\n",
       "<circle clip-path=\"url(#clip252)\" cx=\"846.724\" cy=\"653.701\" r=\"14\" fill=\"#009af9\" fill-rule=\"evenodd\" fill-opacity=\"1\" stroke=\"#000000\" stroke-opacity=\"1\" stroke-width=\"3.2\"/>\n",
       "<circle clip-path=\"url(#clip252)\" cx=\"673.484\" cy=\"483.984\" r=\"14\" fill=\"#009af9\" fill-rule=\"evenodd\" fill-opacity=\"1\" stroke=\"#000000\" stroke-opacity=\"1\" stroke-width=\"3.2\"/>\n",
       "<circle clip-path=\"url(#clip252)\" cx=\"384.751\" cy=\"540.556\" r=\"14\" fill=\"#009af9\" fill-rule=\"evenodd\" fill-opacity=\"1\" stroke=\"#000000\" stroke-opacity=\"1\" stroke-width=\"3.2\"/>\n",
       "<circle clip-path=\"url(#clip252)\" cx=\"673.484\" cy=\"710.274\" r=\"14\" fill=\"#009af9\" fill-rule=\"evenodd\" fill-opacity=\"1\" stroke=\"#000000\" stroke-opacity=\"1\" stroke-width=\"3.2\"/>\n",
       "<circle clip-path=\"url(#clip252)\" cx=\"500.244\" cy=\"653.701\" r=\"14\" fill=\"#009af9\" fill-rule=\"evenodd\" fill-opacity=\"1\" stroke=\"#000000\" stroke-opacity=\"1\" stroke-width=\"3.2\"/>\n",
       "<circle clip-path=\"url(#clip252)\" cx=\"615.737\" cy=\"879.991\" r=\"14\" fill=\"#009af9\" fill-rule=\"evenodd\" fill-opacity=\"1\" stroke=\"#000000\" stroke-opacity=\"1\" stroke-width=\"3.2\"/>\n",
       "<circle clip-path=\"url(#clip252)\" cx=\"615.737\" cy=\"653.701\" r=\"14\" fill=\"#009af9\" fill-rule=\"evenodd\" fill-opacity=\"1\" stroke=\"#000000\" stroke-opacity=\"1\" stroke-width=\"3.2\"/>\n",
       "<circle clip-path=\"url(#clip252)\" cx=\"731.231\" cy=\"597.129\" r=\"14\" fill=\"#009af9\" fill-rule=\"evenodd\" fill-opacity=\"1\" stroke=\"#000000\" stroke-opacity=\"1\" stroke-width=\"3.2\"/>\n",
       "<circle clip-path=\"url(#clip252)\" cx=\"731.231\" cy=\"653.701\" r=\"14\" fill=\"#009af9\" fill-rule=\"evenodd\" fill-opacity=\"1\" stroke=\"#000000\" stroke-opacity=\"1\" stroke-width=\"3.2\"/>\n",
       "<circle clip-path=\"url(#clip252)\" cx=\"442.497\" cy=\"766.846\" r=\"14\" fill=\"#009af9\" fill-rule=\"evenodd\" fill-opacity=\"1\" stroke=\"#000000\" stroke-opacity=\"1\" stroke-width=\"3.2\"/>\n",
       "<circle clip-path=\"url(#clip252)\" cx=\"500.244\" cy=\"823.418\" r=\"14\" fill=\"#009af9\" fill-rule=\"evenodd\" fill-opacity=\"1\" stroke=\"#000000\" stroke-opacity=\"1\" stroke-width=\"3.2\"/>\n",
       "<circle clip-path=\"url(#clip252)\" cx=\"846.724\" cy=\"653.701\" r=\"14\" fill=\"#009af9\" fill-rule=\"evenodd\" fill-opacity=\"1\" stroke=\"#000000\" stroke-opacity=\"1\" stroke-width=\"3.2\"/>\n",
       "<circle clip-path=\"url(#clip252)\" cx=\"731.231\" cy=\"257.694\" r=\"14\" fill=\"#009af9\" fill-rule=\"evenodd\" fill-opacity=\"1\" stroke=\"#000000\" stroke-opacity=\"1\" stroke-width=\"3.2\"/>\n",
       "<circle clip-path=\"url(#clip252)\" cx=\"904.47\" cy=\"201.121\" r=\"14\" fill=\"#009af9\" fill-rule=\"evenodd\" fill-opacity=\"1\" stroke=\"#000000\" stroke-opacity=\"1\" stroke-width=\"3.2\"/>\n",
       "<circle clip-path=\"url(#clip252)\" cx=\"557.991\" cy=\"823.418\" r=\"14\" fill=\"#009af9\" fill-rule=\"evenodd\" fill-opacity=\"1\" stroke=\"#000000\" stroke-opacity=\"1\" stroke-width=\"3.2\"/>\n",
       "<circle clip-path=\"url(#clip252)\" cx=\"615.737\" cy=\"766.846\" r=\"14\" fill=\"#009af9\" fill-rule=\"evenodd\" fill-opacity=\"1\" stroke=\"#000000\" stroke-opacity=\"1\" stroke-width=\"3.2\"/>\n",
       "<circle clip-path=\"url(#clip252)\" cx=\"904.47\" cy=\"597.129\" r=\"14\" fill=\"#009af9\" fill-rule=\"evenodd\" fill-opacity=\"1\" stroke=\"#000000\" stroke-opacity=\"1\" stroke-width=\"3.2\"/>\n",
       "<circle clip-path=\"url(#clip252)\" cx=\"557.991\" cy=\"540.556\" r=\"14\" fill=\"#009af9\" fill-rule=\"evenodd\" fill-opacity=\"1\" stroke=\"#000000\" stroke-opacity=\"1\" stroke-width=\"3.2\"/>\n",
       "<circle clip-path=\"url(#clip252)\" cx=\"269.258\" cy=\"879.991\" r=\"14\" fill=\"#009af9\" fill-rule=\"evenodd\" fill-opacity=\"1\" stroke=\"#000000\" stroke-opacity=\"1\" stroke-width=\"3.2\"/>\n",
       "<circle clip-path=\"url(#clip252)\" cx=\"673.484\" cy=\"653.701\" r=\"14\" fill=\"#009af9\" fill-rule=\"evenodd\" fill-opacity=\"1\" stroke=\"#000000\" stroke-opacity=\"1\" stroke-width=\"3.2\"/>\n",
       "<circle clip-path=\"url(#clip252)\" cx=\"615.737\" cy=\"597.129\" r=\"14\" fill=\"#009af9\" fill-rule=\"evenodd\" fill-opacity=\"1\" stroke=\"#000000\" stroke-opacity=\"1\" stroke-width=\"3.2\"/>\n",
       "<circle clip-path=\"url(#clip252)\" cx=\"327.004\" cy=\"1276\" r=\"14\" fill=\"#009af9\" fill-rule=\"evenodd\" fill-opacity=\"1\" stroke=\"#000000\" stroke-opacity=\"1\" stroke-width=\"3.2\"/>\n",
       "<circle clip-path=\"url(#clip252)\" cx=\"269.258\" cy=\"766.846\" r=\"14\" fill=\"#009af9\" fill-rule=\"evenodd\" fill-opacity=\"1\" stroke=\"#000000\" stroke-opacity=\"1\" stroke-width=\"3.2\"/>\n",
       "<circle clip-path=\"url(#clip252)\" cx=\"615.737\" cy=\"597.129\" r=\"14\" fill=\"#009af9\" fill-rule=\"evenodd\" fill-opacity=\"1\" stroke=\"#000000\" stroke-opacity=\"1\" stroke-width=\"3.2\"/>\n",
       "<circle clip-path=\"url(#clip252)\" cx=\"673.484\" cy=\"427.411\" r=\"14\" fill=\"#009af9\" fill-rule=\"evenodd\" fill-opacity=\"1\" stroke=\"#000000\" stroke-opacity=\"1\" stroke-width=\"3.2\"/>\n",
       "<circle clip-path=\"url(#clip252)\" cx=\"500.244\" cy=\"879.991\" r=\"14\" fill=\"#009af9\" fill-rule=\"evenodd\" fill-opacity=\"1\" stroke=\"#000000\" stroke-opacity=\"1\" stroke-width=\"3.2\"/>\n",
       "<circle clip-path=\"url(#clip252)\" cx=\"673.484\" cy=\"427.411\" r=\"14\" fill=\"#009af9\" fill-rule=\"evenodd\" fill-opacity=\"1\" stroke=\"#000000\" stroke-opacity=\"1\" stroke-width=\"3.2\"/>\n",
       "<circle clip-path=\"url(#clip252)\" cx=\"384.751\" cy=\"766.846\" r=\"14\" fill=\"#009af9\" fill-rule=\"evenodd\" fill-opacity=\"1\" stroke=\"#000000\" stroke-opacity=\"1\" stroke-width=\"3.2\"/>\n",
       "<circle clip-path=\"url(#clip252)\" cx=\"788.977\" cy=\"483.984\" r=\"14\" fill=\"#009af9\" fill-rule=\"evenodd\" fill-opacity=\"1\" stroke=\"#000000\" stroke-opacity=\"1\" stroke-width=\"3.2\"/>\n",
       "<circle clip-path=\"url(#clip252)\" cx=\"615.737\" cy=\"710.274\" r=\"14\" fill=\"#009af9\" fill-rule=\"evenodd\" fill-opacity=\"1\" stroke=\"#000000\" stroke-opacity=\"1\" stroke-width=\"3.2\"/>\n",
       "<circle clip-path=\"url(#clip252)\" cx=\"1770.67\" cy=\"766.846\" r=\"14\" fill=\"#009af9\" fill-rule=\"evenodd\" fill-opacity=\"1\" stroke=\"#000000\" stroke-opacity=\"1\" stroke-width=\"3.2\"/>\n",
       "<circle clip-path=\"url(#clip252)\" cx=\"1424.19\" cy=\"766.846\" r=\"14\" fill=\"#009af9\" fill-rule=\"evenodd\" fill-opacity=\"1\" stroke=\"#000000\" stroke-opacity=\"1\" stroke-width=\"3.2\"/>\n",
       "<circle clip-path=\"url(#clip252)\" cx=\"1712.92\" cy=\"823.418\" r=\"14\" fill=\"#009af9\" fill-rule=\"evenodd\" fill-opacity=\"1\" stroke=\"#000000\" stroke-opacity=\"1\" stroke-width=\"3.2\"/>\n",
       "<circle clip-path=\"url(#clip252)\" cx=\"904.47\" cy=\"1276\" r=\"14\" fill=\"#009af9\" fill-rule=\"evenodd\" fill-opacity=\"1\" stroke=\"#000000\" stroke-opacity=\"1\" stroke-width=\"3.2\"/>\n",
       "<circle clip-path=\"url(#clip252)\" cx=\"1481.94\" cy=\"993.136\" r=\"14\" fill=\"#009af9\" fill-rule=\"evenodd\" fill-opacity=\"1\" stroke=\"#000000\" stroke-opacity=\"1\" stroke-width=\"3.2\"/>\n",
       "<circle clip-path=\"url(#clip252)\" cx=\"1019.96\" cy=\"993.136\" r=\"14\" fill=\"#009af9\" fill-rule=\"evenodd\" fill-opacity=\"1\" stroke=\"#000000\" stroke-opacity=\"1\" stroke-width=\"3.2\"/>\n",
       "<circle clip-path=\"url(#clip252)\" cx=\"1366.44\" cy=\"710.274\" r=\"14\" fill=\"#009af9\" fill-rule=\"evenodd\" fill-opacity=\"1\" stroke=\"#000000\" stroke-opacity=\"1\" stroke-width=\"3.2\"/>\n",
       "<circle clip-path=\"url(#clip252)\" cx=\"557.991\" cy=\"1219.43\" r=\"14\" fill=\"#009af9\" fill-rule=\"evenodd\" fill-opacity=\"1\" stroke=\"#000000\" stroke-opacity=\"1\" stroke-width=\"3.2\"/>\n",
       "<circle clip-path=\"url(#clip252)\" cx=\"1539.68\" cy=\"936.563\" r=\"14\" fill=\"#009af9\" fill-rule=\"evenodd\" fill-opacity=\"1\" stroke=\"#000000\" stroke-opacity=\"1\" stroke-width=\"3.2\"/>\n",
       "<circle clip-path=\"url(#clip252)\" cx=\"731.231\" cy=\"1049.71\" r=\"14\" fill=\"#009af9\" fill-rule=\"evenodd\" fill-opacity=\"1\" stroke=\"#000000\" stroke-opacity=\"1\" stroke-width=\"3.2\"/>\n",
       "<circle clip-path=\"url(#clip252)\" cx=\"615.737\" cy=\"1445.72\" r=\"14\" fill=\"#009af9\" fill-rule=\"evenodd\" fill-opacity=\"1\" stroke=\"#000000\" stroke-opacity=\"1\" stroke-width=\"3.2\"/>\n",
       "<circle clip-path=\"url(#clip252)\" cx=\"1135.46\" cy=\"879.991\" r=\"14\" fill=\"#009af9\" fill-rule=\"evenodd\" fill-opacity=\"1\" stroke=\"#000000\" stroke-opacity=\"1\" stroke-width=\"3.2\"/>\n",
       "<circle clip-path=\"url(#clip252)\" cx=\"1193.2\" cy=\"1332.57\" r=\"14\" fill=\"#009af9\" fill-rule=\"evenodd\" fill-opacity=\"1\" stroke=\"#000000\" stroke-opacity=\"1\" stroke-width=\"3.2\"/>\n",
       "<circle clip-path=\"url(#clip252)\" cx=\"1250.95\" cy=\"936.563\" r=\"14\" fill=\"#009af9\" fill-rule=\"evenodd\" fill-opacity=\"1\" stroke=\"#000000\" stroke-opacity=\"1\" stroke-width=\"3.2\"/>\n",
       "<circle clip-path=\"url(#clip252)\" cx=\"962.217\" cy=\"936.563\" r=\"14\" fill=\"#009af9\" fill-rule=\"evenodd\" fill-opacity=\"1\" stroke=\"#000000\" stroke-opacity=\"1\" stroke-width=\"3.2\"/>\n",
       "<circle clip-path=\"url(#clip252)\" cx=\"1597.43\" cy=\"823.418\" r=\"14\" fill=\"#009af9\" fill-rule=\"evenodd\" fill-opacity=\"1\" stroke=\"#000000\" stroke-opacity=\"1\" stroke-width=\"3.2\"/>\n",
       "<circle clip-path=\"url(#clip252)\" cx=\"962.217\" cy=\"879.991\" r=\"14\" fill=\"#009af9\" fill-rule=\"evenodd\" fill-opacity=\"1\" stroke=\"#000000\" stroke-opacity=\"1\" stroke-width=\"3.2\"/>\n",
       "<circle clip-path=\"url(#clip252)\" cx=\"1077.71\" cy=\"1049.71\" r=\"14\" fill=\"#009af9\" fill-rule=\"evenodd\" fill-opacity=\"1\" stroke=\"#000000\" stroke-opacity=\"1\" stroke-width=\"3.2\"/>\n",
       "<circle clip-path=\"url(#clip252)\" cx=\"1308.7\" cy=\"1332.57\" r=\"14\" fill=\"#009af9\" fill-rule=\"evenodd\" fill-opacity=\"1\" stroke=\"#000000\" stroke-opacity=\"1\" stroke-width=\"3.2\"/>\n",
       "<circle clip-path=\"url(#clip252)\" cx=\"962.217\" cy=\"1162.85\" r=\"14\" fill=\"#009af9\" fill-rule=\"evenodd\" fill-opacity=\"1\" stroke=\"#000000\" stroke-opacity=\"1\" stroke-width=\"3.2\"/>\n",
       "<circle clip-path=\"url(#clip252)\" cx=\"1135.46\" cy=\"766.846\" r=\"14\" fill=\"#009af9\" fill-rule=\"evenodd\" fill-opacity=\"1\" stroke=\"#000000\" stroke-opacity=\"1\" stroke-width=\"3.2\"/>\n",
       "<circle clip-path=\"url(#clip252)\" cx=\"1250.95\" cy=\"993.136\" r=\"14\" fill=\"#009af9\" fill-rule=\"evenodd\" fill-opacity=\"1\" stroke=\"#000000\" stroke-opacity=\"1\" stroke-width=\"3.2\"/>\n",
       "<circle clip-path=\"url(#clip252)\" cx=\"1366.44\" cy=\"1162.85\" r=\"14\" fill=\"#009af9\" fill-rule=\"evenodd\" fill-opacity=\"1\" stroke=\"#000000\" stroke-opacity=\"1\" stroke-width=\"3.2\"/>\n",
       "<circle clip-path=\"url(#clip252)\" cx=\"1250.95\" cy=\"993.136\" r=\"14\" fill=\"#009af9\" fill-rule=\"evenodd\" fill-opacity=\"1\" stroke=\"#000000\" stroke-opacity=\"1\" stroke-width=\"3.2\"/>\n",
       "<circle clip-path=\"url(#clip252)\" cx=\"1424.19\" cy=\"936.563\" r=\"14\" fill=\"#009af9\" fill-rule=\"evenodd\" fill-opacity=\"1\" stroke=\"#000000\" stroke-opacity=\"1\" stroke-width=\"3.2\"/>\n",
       "<circle clip-path=\"url(#clip252)\" cx=\"1539.68\" cy=\"879.991\" r=\"14\" fill=\"#009af9\" fill-rule=\"evenodd\" fill-opacity=\"1\" stroke=\"#000000\" stroke-opacity=\"1\" stroke-width=\"3.2\"/>\n",
       "<circle clip-path=\"url(#clip252)\" cx=\"1655.18\" cy=\"993.136\" r=\"14\" fill=\"#009af9\" fill-rule=\"evenodd\" fill-opacity=\"1\" stroke=\"#000000\" stroke-opacity=\"1\" stroke-width=\"3.2\"/>\n",
       "<circle clip-path=\"url(#clip252)\" cx=\"1597.43\" cy=\"879.991\" r=\"14\" fill=\"#009af9\" fill-rule=\"evenodd\" fill-opacity=\"1\" stroke=\"#000000\" stroke-opacity=\"1\" stroke-width=\"3.2\"/>\n",
       "<circle clip-path=\"url(#clip252)\" cx=\"1193.2\" cy=\"936.563\" r=\"14\" fill=\"#009af9\" fill-rule=\"evenodd\" fill-opacity=\"1\" stroke=\"#000000\" stroke-opacity=\"1\" stroke-width=\"3.2\"/>\n",
       "<circle clip-path=\"url(#clip252)\" cx=\"1019.96\" cy=\"1106.28\" r=\"14\" fill=\"#009af9\" fill-rule=\"evenodd\" fill-opacity=\"1\" stroke=\"#000000\" stroke-opacity=\"1\" stroke-width=\"3.2\"/>\n",
       "<circle clip-path=\"url(#clip252)\" cx=\"904.47\" cy=\"1219.43\" r=\"14\" fill=\"#009af9\" fill-rule=\"evenodd\" fill-opacity=\"1\" stroke=\"#000000\" stroke-opacity=\"1\" stroke-width=\"3.2\"/>\n",
       "<circle clip-path=\"url(#clip252)\" cx=\"904.47\" cy=\"1219.43\" r=\"14\" fill=\"#009af9\" fill-rule=\"evenodd\" fill-opacity=\"1\" stroke=\"#000000\" stroke-opacity=\"1\" stroke-width=\"3.2\"/>\n",
       "<circle clip-path=\"url(#clip252)\" cx=\"1077.71\" cy=\"1049.71\" r=\"14\" fill=\"#009af9\" fill-rule=\"evenodd\" fill-opacity=\"1\" stroke=\"#000000\" stroke-opacity=\"1\" stroke-width=\"3.2\"/>\n",
       "<circle clip-path=\"url(#clip252)\" cx=\"1193.2\" cy=\"1049.71\" r=\"14\" fill=\"#009af9\" fill-rule=\"evenodd\" fill-opacity=\"1\" stroke=\"#000000\" stroke-opacity=\"1\" stroke-width=\"3.2\"/>\n",
       "<circle clip-path=\"url(#clip252)\" cx=\"846.724\" cy=\"879.991\" r=\"14\" fill=\"#009af9\" fill-rule=\"evenodd\" fill-opacity=\"1\" stroke=\"#000000\" stroke-opacity=\"1\" stroke-width=\"3.2\"/>\n",
       "<circle clip-path=\"url(#clip252)\" cx=\"1193.2\" cy=\"653.701\" r=\"14\" fill=\"#009af9\" fill-rule=\"evenodd\" fill-opacity=\"1\" stroke=\"#000000\" stroke-opacity=\"1\" stroke-width=\"3.2\"/>\n",
       "<circle clip-path=\"url(#clip252)\" cx=\"1597.43\" cy=\"823.418\" r=\"14\" fill=\"#009af9\" fill-rule=\"evenodd\" fill-opacity=\"1\" stroke=\"#000000\" stroke-opacity=\"1\" stroke-width=\"3.2\"/>\n",
       "<circle clip-path=\"url(#clip252)\" cx=\"1366.44\" cy=\"1276\" r=\"14\" fill=\"#009af9\" fill-rule=\"evenodd\" fill-opacity=\"1\" stroke=\"#000000\" stroke-opacity=\"1\" stroke-width=\"3.2\"/>\n",
       "<circle clip-path=\"url(#clip252)\" cx=\"962.217\" cy=\"879.991\" r=\"14\" fill=\"#009af9\" fill-rule=\"evenodd\" fill-opacity=\"1\" stroke=\"#000000\" stroke-opacity=\"1\" stroke-width=\"3.2\"/>\n",
       "<circle clip-path=\"url(#clip252)\" cx=\"904.47\" cy=\"1162.85\" r=\"14\" fill=\"#009af9\" fill-rule=\"evenodd\" fill-opacity=\"1\" stroke=\"#000000\" stroke-opacity=\"1\" stroke-width=\"3.2\"/>\n",
       "<circle clip-path=\"url(#clip252)\" cx=\"904.47\" cy=\"1106.28\" r=\"14\" fill=\"#009af9\" fill-rule=\"evenodd\" fill-opacity=\"1\" stroke=\"#000000\" stroke-opacity=\"1\" stroke-width=\"3.2\"/>\n",
       "<circle clip-path=\"url(#clip252)\" cx=\"1250.95\" cy=\"879.991\" r=\"14\" fill=\"#009af9\" fill-rule=\"evenodd\" fill-opacity=\"1\" stroke=\"#000000\" stroke-opacity=\"1\" stroke-width=\"3.2\"/>\n",
       "<circle clip-path=\"url(#clip252)\" cx=\"1077.71\" cy=\"1106.28\" r=\"14\" fill=\"#009af9\" fill-rule=\"evenodd\" fill-opacity=\"1\" stroke=\"#000000\" stroke-opacity=\"1\" stroke-width=\"3.2\"/>\n",
       "<circle clip-path=\"url(#clip252)\" cx=\"615.737\" cy=\"1276\" r=\"14\" fill=\"#009af9\" fill-rule=\"evenodd\" fill-opacity=\"1\" stroke=\"#000000\" stroke-opacity=\"1\" stroke-width=\"3.2\"/>\n",
       "<circle clip-path=\"url(#clip252)\" cx=\"962.217\" cy=\"1049.71\" r=\"14\" fill=\"#009af9\" fill-rule=\"evenodd\" fill-opacity=\"1\" stroke=\"#000000\" stroke-opacity=\"1\" stroke-width=\"3.2\"/>\n",
       "<circle clip-path=\"url(#clip252)\" cx=\"1019.96\" cy=\"879.991\" r=\"14\" fill=\"#009af9\" fill-rule=\"evenodd\" fill-opacity=\"1\" stroke=\"#000000\" stroke-opacity=\"1\" stroke-width=\"3.2\"/>\n",
       "<circle clip-path=\"url(#clip252)\" cx=\"1019.96\" cy=\"936.563\" r=\"14\" fill=\"#009af9\" fill-rule=\"evenodd\" fill-opacity=\"1\" stroke=\"#000000\" stroke-opacity=\"1\" stroke-width=\"3.2\"/>\n",
       "<circle clip-path=\"url(#clip252)\" cx=\"1308.7\" cy=\"936.563\" r=\"14\" fill=\"#009af9\" fill-rule=\"evenodd\" fill-opacity=\"1\" stroke=\"#000000\" stroke-opacity=\"1\" stroke-width=\"3.2\"/>\n",
       "<circle clip-path=\"url(#clip252)\" cx=\"673.484\" cy=\"1162.85\" r=\"14\" fill=\"#009af9\" fill-rule=\"evenodd\" fill-opacity=\"1\" stroke=\"#000000\" stroke-opacity=\"1\" stroke-width=\"3.2\"/>\n",
       "<circle clip-path=\"url(#clip252)\" cx=\"1019.96\" cy=\"993.136\" r=\"14\" fill=\"#009af9\" fill-rule=\"evenodd\" fill-opacity=\"1\" stroke=\"#000000\" stroke-opacity=\"1\" stroke-width=\"3.2\"/>\n",
       "<circle clip-path=\"url(#clip252)\" cx=\"1366.44\" cy=\"710.274\" r=\"14\" fill=\"#009af9\" fill-rule=\"evenodd\" fill-opacity=\"1\" stroke=\"#000000\" stroke-opacity=\"1\" stroke-width=\"3.2\"/>\n",
       "<circle clip-path=\"url(#clip252)\" cx=\"1077.71\" cy=\"1049.71\" r=\"14\" fill=\"#009af9\" fill-rule=\"evenodd\" fill-opacity=\"1\" stroke=\"#000000\" stroke-opacity=\"1\" stroke-width=\"3.2\"/>\n",
       "<circle clip-path=\"url(#clip252)\" cx=\"1828.42\" cy=\"879.991\" r=\"14\" fill=\"#009af9\" fill-rule=\"evenodd\" fill-opacity=\"1\" stroke=\"#000000\" stroke-opacity=\"1\" stroke-width=\"3.2\"/>\n",
       "<circle clip-path=\"url(#clip252)\" cx=\"1366.44\" cy=\"936.563\" r=\"14\" fill=\"#009af9\" fill-rule=\"evenodd\" fill-opacity=\"1\" stroke=\"#000000\" stroke-opacity=\"1\" stroke-width=\"3.2\"/>\n",
       "<circle clip-path=\"url(#clip252)\" cx=\"1481.94\" cy=\"879.991\" r=\"14\" fill=\"#009af9\" fill-rule=\"evenodd\" fill-opacity=\"1\" stroke=\"#000000\" stroke-opacity=\"1\" stroke-width=\"3.2\"/>\n",
       "<circle clip-path=\"url(#clip252)\" cx=\"2117.15\" cy=\"879.991\" r=\"14\" fill=\"#009af9\" fill-rule=\"evenodd\" fill-opacity=\"1\" stroke=\"#000000\" stroke-opacity=\"1\" stroke-width=\"3.2\"/>\n",
       "<circle clip-path=\"url(#clip252)\" cx=\"557.991\" cy=\"1162.85\" r=\"14\" fill=\"#009af9\" fill-rule=\"evenodd\" fill-opacity=\"1\" stroke=\"#000000\" stroke-opacity=\"1\" stroke-width=\"3.2\"/>\n",
       "<circle clip-path=\"url(#clip252)\" cx=\"1943.91\" cy=\"936.563\" r=\"14\" fill=\"#009af9\" fill-rule=\"evenodd\" fill-opacity=\"1\" stroke=\"#000000\" stroke-opacity=\"1\" stroke-width=\"3.2\"/>\n",
       "<circle clip-path=\"url(#clip252)\" cx=\"1597.43\" cy=\"1162.85\" r=\"14\" fill=\"#009af9\" fill-rule=\"evenodd\" fill-opacity=\"1\" stroke=\"#000000\" stroke-opacity=\"1\" stroke-width=\"3.2\"/>\n",
       "<circle clip-path=\"url(#clip252)\" cx=\"1886.16\" cy=\"540.556\" r=\"14\" fill=\"#009af9\" fill-rule=\"evenodd\" fill-opacity=\"1\" stroke=\"#000000\" stroke-opacity=\"1\" stroke-width=\"3.2\"/>\n",
       "<circle clip-path=\"url(#clip252)\" cx=\"1481.94\" cy=\"766.846\" r=\"14\" fill=\"#009af9\" fill-rule=\"evenodd\" fill-opacity=\"1\" stroke=\"#000000\" stroke-opacity=\"1\" stroke-width=\"3.2\"/>\n",
       "<circle clip-path=\"url(#clip252)\" cx=\"1424.19\" cy=\"1049.71\" r=\"14\" fill=\"#009af9\" fill-rule=\"evenodd\" fill-opacity=\"1\" stroke=\"#000000\" stroke-opacity=\"1\" stroke-width=\"3.2\"/>\n",
       "<circle clip-path=\"url(#clip252)\" cx=\"1655.18\" cy=\"879.991\" r=\"14\" fill=\"#009af9\" fill-rule=\"evenodd\" fill-opacity=\"1\" stroke=\"#000000\" stroke-opacity=\"1\" stroke-width=\"3.2\"/>\n",
       "<circle clip-path=\"url(#clip252)\" cx=\"1019.96\" cy=\"1162.85\" r=\"14\" fill=\"#009af9\" fill-rule=\"evenodd\" fill-opacity=\"1\" stroke=\"#000000\" stroke-opacity=\"1\" stroke-width=\"3.2\"/>\n",
       "<circle clip-path=\"url(#clip252)\" cx=\"1077.71\" cy=\"993.136\" r=\"14\" fill=\"#009af9\" fill-rule=\"evenodd\" fill-opacity=\"1\" stroke=\"#000000\" stroke-opacity=\"1\" stroke-width=\"3.2\"/>\n",
       "<circle clip-path=\"url(#clip252)\" cx=\"1424.19\" cy=\"766.846\" r=\"14\" fill=\"#009af9\" fill-rule=\"evenodd\" fill-opacity=\"1\" stroke=\"#000000\" stroke-opacity=\"1\" stroke-width=\"3.2\"/>\n",
       "<circle clip-path=\"url(#clip252)\" cx=\"1481.94\" cy=\"879.991\" r=\"14\" fill=\"#009af9\" fill-rule=\"evenodd\" fill-opacity=\"1\" stroke=\"#000000\" stroke-opacity=\"1\" stroke-width=\"3.2\"/>\n",
       "<circle clip-path=\"url(#clip252)\" cx=\"2174.9\" cy=\"427.411\" r=\"14\" fill=\"#009af9\" fill-rule=\"evenodd\" fill-opacity=\"1\" stroke=\"#000000\" stroke-opacity=\"1\" stroke-width=\"3.2\"/>\n",
       "<circle clip-path=\"url(#clip252)\" cx=\"2174.9\" cy=\"1106.28\" r=\"14\" fill=\"#009af9\" fill-rule=\"evenodd\" fill-opacity=\"1\" stroke=\"#000000\" stroke-opacity=\"1\" stroke-width=\"3.2\"/>\n",
       "<circle clip-path=\"url(#clip252)\" cx=\"1193.2\" cy=\"1332.57\" r=\"14\" fill=\"#009af9\" fill-rule=\"evenodd\" fill-opacity=\"1\" stroke=\"#000000\" stroke-opacity=\"1\" stroke-width=\"3.2\"/>\n",
       "<circle clip-path=\"url(#clip252)\" cx=\"1712.92\" cy=\"766.846\" r=\"14\" fill=\"#009af9\" fill-rule=\"evenodd\" fill-opacity=\"1\" stroke=\"#000000\" stroke-opacity=\"1\" stroke-width=\"3.2\"/>\n",
       "<circle clip-path=\"url(#clip252)\" cx=\"962.217\" cy=\"993.136\" r=\"14\" fill=\"#009af9\" fill-rule=\"evenodd\" fill-opacity=\"1\" stroke=\"#000000\" stroke-opacity=\"1\" stroke-width=\"3.2\"/>\n",
       "<circle clip-path=\"url(#clip252)\" cx=\"2174.9\" cy=\"993.136\" r=\"14\" fill=\"#009af9\" fill-rule=\"evenodd\" fill-opacity=\"1\" stroke=\"#000000\" stroke-opacity=\"1\" stroke-width=\"3.2\"/>\n",
       "<circle clip-path=\"url(#clip252)\" cx=\"1366.44\" cy=\"1049.71\" r=\"14\" fill=\"#009af9\" fill-rule=\"evenodd\" fill-opacity=\"1\" stroke=\"#000000\" stroke-opacity=\"1\" stroke-width=\"3.2\"/>\n",
       "<circle clip-path=\"url(#clip252)\" cx=\"1597.43\" cy=\"710.274\" r=\"14\" fill=\"#009af9\" fill-rule=\"evenodd\" fill-opacity=\"1\" stroke=\"#000000\" stroke-opacity=\"1\" stroke-width=\"3.2\"/>\n",
       "<circle clip-path=\"url(#clip252)\" cx=\"1886.16\" cy=\"766.846\" r=\"14\" fill=\"#009af9\" fill-rule=\"evenodd\" fill-opacity=\"1\" stroke=\"#000000\" stroke-opacity=\"1\" stroke-width=\"3.2\"/>\n",
       "<circle clip-path=\"url(#clip252)\" cx=\"1308.7\" cy=\"993.136\" r=\"14\" fill=\"#009af9\" fill-rule=\"evenodd\" fill-opacity=\"1\" stroke=\"#000000\" stroke-opacity=\"1\" stroke-width=\"3.2\"/>\n",
       "<circle clip-path=\"url(#clip252)\" cx=\"1250.95\" cy=\"879.991\" r=\"14\" fill=\"#009af9\" fill-rule=\"evenodd\" fill-opacity=\"1\" stroke=\"#000000\" stroke-opacity=\"1\" stroke-width=\"3.2\"/>\n",
       "<circle clip-path=\"url(#clip252)\" cx=\"1424.19\" cy=\"993.136\" r=\"14\" fill=\"#009af9\" fill-rule=\"evenodd\" fill-opacity=\"1\" stroke=\"#000000\" stroke-opacity=\"1\" stroke-width=\"3.2\"/>\n",
       "<circle clip-path=\"url(#clip252)\" cx=\"1886.16\" cy=\"879.991\" r=\"14\" fill=\"#009af9\" fill-rule=\"evenodd\" fill-opacity=\"1\" stroke=\"#000000\" stroke-opacity=\"1\" stroke-width=\"3.2\"/>\n",
       "<circle clip-path=\"url(#clip252)\" cx=\"2001.66\" cy=\"993.136\" r=\"14\" fill=\"#009af9\" fill-rule=\"evenodd\" fill-opacity=\"1\" stroke=\"#000000\" stroke-opacity=\"1\" stroke-width=\"3.2\"/>\n",
       "<circle clip-path=\"url(#clip252)\" cx=\"2290.39\" cy=\"427.411\" r=\"14\" fill=\"#009af9\" fill-rule=\"evenodd\" fill-opacity=\"1\" stroke=\"#000000\" stroke-opacity=\"1\" stroke-width=\"3.2\"/>\n",
       "<circle clip-path=\"url(#clip252)\" cx=\"1424.19\" cy=\"993.136\" r=\"14\" fill=\"#009af9\" fill-rule=\"evenodd\" fill-opacity=\"1\" stroke=\"#000000\" stroke-opacity=\"1\" stroke-width=\"3.2\"/>\n",
       "<circle clip-path=\"url(#clip252)\" cx=\"1366.44\" cy=\"993.136\" r=\"14\" fill=\"#009af9\" fill-rule=\"evenodd\" fill-opacity=\"1\" stroke=\"#000000\" stroke-opacity=\"1\" stroke-width=\"3.2\"/>\n",
       "<circle clip-path=\"url(#clip252)\" cx=\"1250.95\" cy=\"1106.28\" r=\"14\" fill=\"#009af9\" fill-rule=\"evenodd\" fill-opacity=\"1\" stroke=\"#000000\" stroke-opacity=\"1\" stroke-width=\"3.2\"/>\n",
       "<circle clip-path=\"url(#clip252)\" cx=\"2174.9\" cy=\"879.991\" r=\"14\" fill=\"#009af9\" fill-rule=\"evenodd\" fill-opacity=\"1\" stroke=\"#000000\" stroke-opacity=\"1\" stroke-width=\"3.2\"/>\n",
       "<circle clip-path=\"url(#clip252)\" cx=\"1366.44\" cy=\"653.701\" r=\"14\" fill=\"#009af9\" fill-rule=\"evenodd\" fill-opacity=\"1\" stroke=\"#000000\" stroke-opacity=\"1\" stroke-width=\"3.2\"/>\n",
       "<circle clip-path=\"url(#clip252)\" cx=\"1424.19\" cy=\"823.418\" r=\"14\" fill=\"#009af9\" fill-rule=\"evenodd\" fill-opacity=\"1\" stroke=\"#000000\" stroke-opacity=\"1\" stroke-width=\"3.2\"/>\n",
       "<circle clip-path=\"url(#clip252)\" cx=\"1193.2\" cy=\"879.991\" r=\"14\" fill=\"#009af9\" fill-rule=\"evenodd\" fill-opacity=\"1\" stroke=\"#000000\" stroke-opacity=\"1\" stroke-width=\"3.2\"/>\n",
       "<circle clip-path=\"url(#clip252)\" cx=\"1712.92\" cy=\"823.418\" r=\"14\" fill=\"#009af9\" fill-rule=\"evenodd\" fill-opacity=\"1\" stroke=\"#000000\" stroke-opacity=\"1\" stroke-width=\"3.2\"/>\n",
       "<circle clip-path=\"url(#clip252)\" cx=\"1597.43\" cy=\"823.418\" r=\"14\" fill=\"#009af9\" fill-rule=\"evenodd\" fill-opacity=\"1\" stroke=\"#000000\" stroke-opacity=\"1\" stroke-width=\"3.2\"/>\n",
       "<circle clip-path=\"url(#clip252)\" cx=\"1712.92\" cy=\"823.418\" r=\"14\" fill=\"#009af9\" fill-rule=\"evenodd\" fill-opacity=\"1\" stroke=\"#000000\" stroke-opacity=\"1\" stroke-width=\"3.2\"/>\n",
       "<circle clip-path=\"url(#clip252)\" cx=\"1077.71\" cy=\"1049.71\" r=\"14\" fill=\"#009af9\" fill-rule=\"evenodd\" fill-opacity=\"1\" stroke=\"#000000\" stroke-opacity=\"1\" stroke-width=\"3.2\"/>\n",
       "<circle clip-path=\"url(#clip252)\" cx=\"1655.18\" cy=\"766.846\" r=\"14\" fill=\"#009af9\" fill-rule=\"evenodd\" fill-opacity=\"1\" stroke=\"#000000\" stroke-opacity=\"1\" stroke-width=\"3.2\"/>\n",
       "<circle clip-path=\"url(#clip252)\" cx=\"1597.43\" cy=\"710.274\" r=\"14\" fill=\"#009af9\" fill-rule=\"evenodd\" fill-opacity=\"1\" stroke=\"#000000\" stroke-opacity=\"1\" stroke-width=\"3.2\"/>\n",
       "<circle clip-path=\"url(#clip252)\" cx=\"1597.43\" cy=\"879.991\" r=\"14\" fill=\"#009af9\" fill-rule=\"evenodd\" fill-opacity=\"1\" stroke=\"#000000\" stroke-opacity=\"1\" stroke-width=\"3.2\"/>\n",
       "<circle clip-path=\"url(#clip252)\" cx=\"1366.44\" cy=\"1162.85\" r=\"14\" fill=\"#009af9\" fill-rule=\"evenodd\" fill-opacity=\"1\" stroke=\"#000000\" stroke-opacity=\"1\" stroke-width=\"3.2\"/>\n",
       "<circle clip-path=\"url(#clip252)\" cx=\"1481.94\" cy=\"879.991\" r=\"14\" fill=\"#009af9\" fill-rule=\"evenodd\" fill-opacity=\"1\" stroke=\"#000000\" stroke-opacity=\"1\" stroke-width=\"3.2\"/>\n",
       "<circle clip-path=\"url(#clip252)\" cx=\"1308.7\" cy=\"653.701\" r=\"14\" fill=\"#009af9\" fill-rule=\"evenodd\" fill-opacity=\"1\" stroke=\"#000000\" stroke-opacity=\"1\" stroke-width=\"3.2\"/>\n",
       "<circle clip-path=\"url(#clip252)\" cx=\"1135.46\" cy=\"879.991\" r=\"14\" fill=\"#009af9\" fill-rule=\"evenodd\" fill-opacity=\"1\" stroke=\"#000000\" stroke-opacity=\"1\" stroke-width=\"3.2\"/>\n",
       "<path clip-path=\"url(#clip250)\" d=\"\n",
       "M1989.74 251.724 L2280.76 251.724 L2280.76 130.764 L1989.74 130.764  Z\n",
       "  \" fill=\"#ffffff\" fill-rule=\"evenodd\" fill-opacity=\"1\"/>\n",
       "<polyline clip-path=\"url(#clip250)\" style=\"stroke:#000000; stroke-width:4; stroke-opacity:1; fill:none\" points=\"\n",
       "  1989.74,251.724 2280.76,251.724 2280.76,130.764 1989.74,130.764 1989.74,251.724 \n",
       "  \"/>\n",
       "<circle clip-path=\"url(#clip250)\" cx=\"2097.74\" cy=\"191.244\" r=\"23\" fill=\"#009af9\" fill-rule=\"evenodd\" fill-opacity=\"1\" stroke=\"#000000\" stroke-opacity=\"1\" stroke-width=\"5.12\"/>\n",
       "<path clip-path=\"url(#clip250)\" d=\"M 0 0 M2195.58 210.931 Q2193.77 215.561 2192.06 216.973 Q2190.35 218.385 2187.48 218.385 L2184.08 218.385 L2184.08 214.82 L2186.58 214.82 Q2188.33 214.82 2189.31 213.987 Q2190.28 213.154 2191.46 210.052 L2192.22 208.107 L2181.74 182.598 L2186.25 182.598 L2194.35 202.876 L2202.46 182.598 L2206.97 182.598 L2195.58 210.931 Z\" fill=\"#000000\" fill-rule=\"evenodd\" fill-opacity=\"1\" /><path clip-path=\"url(#clip250)\" d=\"M 0 0 M2212.85 204.589 L2220.49 204.589 L2220.49 178.223 L2212.18 179.89 L2212.18 175.631 L2220.44 173.964 L2225.12 173.964 L2225.12 204.589 L2232.76 204.589 L2232.76 208.524 L2212.85 208.524 L2212.85 204.589 Z\" fill=\"#000000\" fill-rule=\"evenodd\" fill-opacity=\"1\" /></svg>\n"
      ]
     },
     "execution_count": 13,
     "metadata": {},
     "output_type": "execute_result"
    }
   ],
   "source": [
    "plot(iris[!,:SepalLength],iris[!,:SepalWidth],seriestype=:scatter)"
   ]
  },
  {
   "cell_type": "code",
   "execution_count": 14,
   "metadata": {},
   "outputs": [
    {
     "data": {
      "image/svg+xml": [
       "<?xml version=\"1.0\" encoding=\"utf-8\"?>\n",
       "<svg xmlns=\"http://www.w3.org/2000/svg\" xmlns:xlink=\"http://www.w3.org/1999/xlink\" width=\"600\" height=\"400\" viewBox=\"0 0 2400 1600\">\n",
       "<defs>\n",
       "  <clipPath id=\"clip290\">\n",
       "    <rect x=\"0\" y=\"0\" width=\"2400\" height=\"1600\"/>\n",
       "  </clipPath>\n",
       "</defs>\n",
       "<path clip-path=\"url(#clip290)\" d=\"\n",
       "M0 1600 L2400 1600 L2400 0 L0 0  Z\n",
       "  \" fill=\"#ffffff\" fill-rule=\"evenodd\" fill-opacity=\"1\"/>\n",
       "<defs>\n",
       "  <clipPath id=\"clip291\">\n",
       "    <rect x=\"480\" y=\"0\" width=\"1681\" height=\"1600\"/>\n",
       "  </clipPath>\n",
       "</defs>\n",
       "<path clip-path=\"url(#clip290)\" d=\"\n",
       "M149.145 1486.45 L2352.76 1486.45 L2352.76 47.2441 L149.145 47.2441  Z\n",
       "  \" fill=\"#ffffff\" fill-rule=\"evenodd\" fill-opacity=\"1\"/>\n",
       "<defs>\n",
       "  <clipPath id=\"clip292\">\n",
       "    <rect x=\"149\" y=\"47\" width=\"2205\" height=\"1440\"/>\n",
       "  </clipPath>\n",
       "</defs>\n",
       "<polyline clip-path=\"url(#clip292)\" style=\"stroke:#000000; stroke-width:2; stroke-opacity:0.1; fill:none\" points=\"\n",
       "  615.737,1486.45 615.737,47.2441 \n",
       "  \"/>\n",
       "<polyline clip-path=\"url(#clip292)\" style=\"stroke:#000000; stroke-width:2; stroke-opacity:0.1; fill:none\" points=\"\n",
       "  1193.2,1486.45 1193.2,47.2441 \n",
       "  \"/>\n",
       "<polyline clip-path=\"url(#clip292)\" style=\"stroke:#000000; stroke-width:2; stroke-opacity:0.1; fill:none\" points=\"\n",
       "  1770.67,1486.45 1770.67,47.2441 \n",
       "  \"/>\n",
       "<polyline clip-path=\"url(#clip292)\" style=\"stroke:#000000; stroke-width:2; stroke-opacity:0.1; fill:none\" points=\"\n",
       "  2348.14,1486.45 2348.14,47.2441 \n",
       "  \"/>\n",
       "<polyline clip-path=\"url(#clip292)\" style=\"stroke:#000000; stroke-width:2; stroke-opacity:0.1; fill:none\" points=\"\n",
       "  149.145,1445.72 2352.76,1445.72 \n",
       "  \"/>\n",
       "<polyline clip-path=\"url(#clip292)\" style=\"stroke:#000000; stroke-width:2; stroke-opacity:0.1; fill:none\" points=\"\n",
       "  149.145,1162.85 2352.76,1162.85 \n",
       "  \"/>\n",
       "<polyline clip-path=\"url(#clip292)\" style=\"stroke:#000000; stroke-width:2; stroke-opacity:0.1; fill:none\" points=\"\n",
       "  149.145,879.991 2352.76,879.991 \n",
       "  \"/>\n",
       "<polyline clip-path=\"url(#clip292)\" style=\"stroke:#000000; stroke-width:2; stroke-opacity:0.1; fill:none\" points=\"\n",
       "  149.145,597.129 2352.76,597.129 \n",
       "  \"/>\n",
       "<polyline clip-path=\"url(#clip292)\" style=\"stroke:#000000; stroke-width:2; stroke-opacity:0.1; fill:none\" points=\"\n",
       "  149.145,314.266 2352.76,314.266 \n",
       "  \"/>\n",
       "<polyline clip-path=\"url(#clip290)\" style=\"stroke:#000000; stroke-width:4; stroke-opacity:1; fill:none\" points=\"\n",
       "  149.145,1486.45 2352.76,1486.45 \n",
       "  \"/>\n",
       "<polyline clip-path=\"url(#clip290)\" style=\"stroke:#000000; stroke-width:4; stroke-opacity:1; fill:none\" points=\"\n",
       "  149.145,1486.45 149.145,47.2441 \n",
       "  \"/>\n",
       "<polyline clip-path=\"url(#clip290)\" style=\"stroke:#000000; stroke-width:4; stroke-opacity:1; fill:none\" points=\"\n",
       "  615.737,1486.45 615.737,1469.18 \n",
       "  \"/>\n",
       "<polyline clip-path=\"url(#clip290)\" style=\"stroke:#000000; stroke-width:4; stroke-opacity:1; fill:none\" points=\"\n",
       "  1193.2,1486.45 1193.2,1469.18 \n",
       "  \"/>\n",
       "<polyline clip-path=\"url(#clip290)\" style=\"stroke:#000000; stroke-width:4; stroke-opacity:1; fill:none\" points=\"\n",
       "  1770.67,1486.45 1770.67,1469.18 \n",
       "  \"/>\n",
       "<polyline clip-path=\"url(#clip290)\" style=\"stroke:#000000; stroke-width:4; stroke-opacity:1; fill:none\" points=\"\n",
       "  2348.14,1486.45 2348.14,1469.18 \n",
       "  \"/>\n",
       "<polyline clip-path=\"url(#clip290)\" style=\"stroke:#000000; stroke-width:4; stroke-opacity:1; fill:none\" points=\"\n",
       "  149.145,1445.72 175.588,1445.72 \n",
       "  \"/>\n",
       "<polyline clip-path=\"url(#clip290)\" style=\"stroke:#000000; stroke-width:4; stroke-opacity:1; fill:none\" points=\"\n",
       "  149.145,1162.85 175.588,1162.85 \n",
       "  \"/>\n",
       "<polyline clip-path=\"url(#clip290)\" style=\"stroke:#000000; stroke-width:4; stroke-opacity:1; fill:none\" points=\"\n",
       "  149.145,879.991 175.588,879.991 \n",
       "  \"/>\n",
       "<polyline clip-path=\"url(#clip290)\" style=\"stroke:#000000; stroke-width:4; stroke-opacity:1; fill:none\" points=\"\n",
       "  149.145,597.129 175.588,597.129 \n",
       "  \"/>\n",
       "<polyline clip-path=\"url(#clip290)\" style=\"stroke:#000000; stroke-width:4; stroke-opacity:1; fill:none\" points=\"\n",
       "  149.145,314.266 175.588,314.266 \n",
       "  \"/>\n",
       "<path clip-path=\"url(#clip290)\" d=\"M 0 0 M606.015 1505.36 L624.372 1505.36 L624.372 1509.3 L610.298 1509.3 L610.298 1517.77 Q611.316 1517.42 612.335 1517.26 Q613.353 1517.07 614.372 1517.07 Q620.159 1517.07 623.538 1520.24 Q626.918 1523.42 626.918 1528.83 Q626.918 1534.41 623.446 1537.51 Q619.973 1540.59 613.654 1540.59 Q611.478 1540.59 609.21 1540.22 Q606.964 1539.85 604.557 1539.11 L604.557 1534.41 Q606.64 1535.54 608.862 1536.1 Q611.085 1536.66 613.561 1536.66 Q617.566 1536.66 619.904 1534.55 Q622.242 1532.44 622.242 1528.83 Q622.242 1525.22 619.904 1523.11 Q617.566 1521.01 613.561 1521.01 Q611.686 1521.01 609.811 1521.42 Q607.96 1521.84 606.015 1522.72 L606.015 1505.36 Z\" fill=\"#000000\" fill-rule=\"evenodd\" fill-opacity=\"1\" /><path clip-path=\"url(#clip290)\" d=\"M 0 0 M1193.61 1520.78 Q1190.46 1520.78 1188.61 1522.93 Q1186.78 1525.08 1186.78 1528.83 Q1186.78 1532.56 1188.61 1534.73 Q1190.46 1536.89 1193.61 1536.89 Q1196.76 1536.89 1198.59 1534.73 Q1200.44 1532.56 1200.44 1528.83 Q1200.44 1525.08 1198.59 1522.93 Q1196.76 1520.78 1193.61 1520.78 M1202.89 1506.12 L1202.89 1510.38 Q1201.13 1509.55 1199.33 1509.11 Q1197.54 1508.67 1195.78 1508.67 Q1191.16 1508.67 1188.7 1511.8 Q1186.27 1514.92 1185.92 1521.24 Q1187.29 1519.23 1189.35 1518.16 Q1191.41 1517.07 1193.89 1517.07 Q1199.09 1517.07 1202.1 1520.24 Q1205.14 1523.39 1205.14 1528.83 Q1205.14 1534.16 1201.99 1537.37 Q1198.84 1540.59 1193.61 1540.59 Q1187.61 1540.59 1184.44 1536.01 Q1181.27 1531.4 1181.27 1522.67 Q1181.27 1514.48 1185.16 1509.62 Q1189.05 1504.73 1195.6 1504.73 Q1197.36 1504.73 1199.14 1505.08 Q1200.95 1505.43 1202.89 1506.12 Z\" fill=\"#000000\" fill-rule=\"evenodd\" fill-opacity=\"1\" /><path clip-path=\"url(#clip290)\" d=\"M 0 0 M1759.56 1505.36 L1781.78 1505.36 L1781.78 1507.35 L1769.23 1539.92 L1764.35 1539.92 L1776.16 1509.3 L1759.56 1509.3 L1759.56 1505.36 Z\" fill=\"#000000\" fill-rule=\"evenodd\" fill-opacity=\"1\" /><path clip-path=\"url(#clip290)\" d=\"M 0 0 M2348.14 1523.51 Q2344.8 1523.51 2342.88 1525.29 Q2340.98 1527.07 2340.98 1530.2 Q2340.98 1533.32 2342.88 1535.11 Q2344.8 1536.89 2348.14 1536.89 Q2351.47 1536.89 2353.39 1535.11 Q2355.31 1533.3 2355.31 1530.2 Q2355.31 1527.07 2353.39 1525.29 Q2351.49 1523.51 2348.14 1523.51 M2343.46 1521.52 Q2340.45 1520.78 2338.76 1518.72 Q2337.09 1516.66 2337.09 1513.69 Q2337.09 1509.55 2340.03 1507.14 Q2343 1504.73 2348.14 1504.73 Q2353.3 1504.73 2356.24 1507.14 Q2359.18 1509.55 2359.18 1513.69 Q2359.18 1516.66 2357.49 1518.72 Q2355.82 1520.78 2352.84 1521.52 Q2356.21 1522.3 2358.09 1524.6 Q2359.99 1526.89 2359.99 1530.2 Q2359.99 1535.22 2356.91 1537.91 Q2353.85 1540.59 2348.14 1540.59 Q2342.42 1540.59 2339.34 1537.91 Q2336.28 1535.22 2336.28 1530.2 Q2336.28 1526.89 2338.18 1524.6 Q2340.08 1522.3 2343.46 1521.52 M2341.75 1514.13 Q2341.75 1516.82 2343.41 1518.32 Q2345.1 1519.83 2348.14 1519.83 Q2351.15 1519.83 2352.84 1518.32 Q2354.55 1516.82 2354.55 1514.13 Q2354.55 1511.45 2352.84 1509.94 Q2351.15 1508.44 2348.14 1508.44 Q2345.1 1508.44 2343.41 1509.94 Q2341.75 1511.45 2341.75 1514.13 Z\" fill=\"#000000\" fill-rule=\"evenodd\" fill-opacity=\"1\" /><path clip-path=\"url(#clip290)\" d=\"M 0 0 M71.8578 1459.06 L88.1772 1459.06 L88.1772 1463 L66.2328 1463 L66.2328 1459.06 Q68.8949 1456.31 73.4782 1451.68 Q78.0846 1447.02 79.2652 1445.68 Q81.5105 1443.16 82.3902 1441.42 Q83.2929 1439.66 83.2929 1437.97 Q83.2929 1435.22 81.3485 1433.48 Q79.4272 1431.75 76.3254 1431.75 Q74.1263 1431.75 71.6726 1432.51 Q69.2421 1433.27 66.4643 1434.82 L66.4643 1430.1 Q69.2884 1428.97 71.7421 1428.39 Q74.1958 1427.81 76.2328 1427.81 Q81.6031 1427.81 84.7976 1430.5 Q87.992 1433.18 87.992 1437.67 Q87.992 1439.8 87.1818 1441.72 Q86.3948 1443.62 84.2883 1446.21 Q83.7096 1446.88 80.6078 1450.1 Q77.5059 1453.3 71.8578 1459.06 Z\" fill=\"#000000\" fill-rule=\"evenodd\" fill-opacity=\"1\" /><path clip-path=\"url(#clip290)\" d=\"M 0 0 M93.2466 1457.12 L98.1308 1457.12 L98.1308 1463 L93.2466 1463 L93.2466 1457.12 Z\" fill=\"#000000\" fill-rule=\"evenodd\" fill-opacity=\"1\" /><path clip-path=\"url(#clip290)\" d=\"M 0 0 M113.2 1431.51 Q109.589 1431.51 107.76 1435.08 Q105.955 1438.62 105.955 1445.75 Q105.955 1452.86 107.76 1456.42 Q109.589 1459.96 113.2 1459.96 Q116.834 1459.96 118.64 1456.42 Q120.469 1452.86 120.469 1445.75 Q120.469 1438.62 118.64 1435.08 Q116.834 1431.51 113.2 1431.51 M113.2 1427.81 Q119.01 1427.81 122.066 1432.42 Q125.145 1437 125.145 1445.75 Q125.145 1454.48 122.066 1459.08 Q119.01 1463.67 113.2 1463.67 Q107.39 1463.67 104.311 1459.08 Q101.256 1454.48 101.256 1445.75 Q101.256 1437 104.311 1432.42 Q107.39 1427.81 113.2 1427.81 Z\" fill=\"#000000\" fill-rule=\"evenodd\" fill-opacity=\"1\" /><path clip-path=\"url(#clip290)\" d=\"M 0 0 M72.8532 1176.2 L89.1725 1176.2 L89.1725 1180.13 L67.2282 1180.13 L67.2282 1176.2 Q69.8902 1173.44 74.4735 1168.81 Q79.08 1164.16 80.2606 1162.82 Q82.5059 1160.3 83.3855 1158.56 Q84.2883 1156.8 84.2883 1155.11 Q84.2883 1152.36 82.3439 1150.62 Q80.4226 1148.88 77.3208 1148.88 Q75.1217 1148.88 72.668 1149.65 Q70.2375 1150.41 67.4597 1151.96 L67.4597 1147.24 Q70.2838 1146.11 72.7374 1145.53 Q75.1911 1144.95 77.2282 1144.95 Q82.5985 1144.95 85.7929 1147.63 Q88.9874 1150.32 88.9874 1154.81 Q88.9874 1156.94 88.1772 1158.86 Q87.3901 1160.76 85.2837 1163.35 Q84.705 1164.02 81.6031 1167.24 Q78.5013 1170.43 72.8532 1176.2 Z\" fill=\"#000000\" fill-rule=\"evenodd\" fill-opacity=\"1\" /><path clip-path=\"url(#clip290)\" d=\"M 0 0 M94.242 1174.25 L99.1262 1174.25 L99.1262 1180.13 L94.242 1180.13 L94.242 1174.25 Z\" fill=\"#000000\" fill-rule=\"evenodd\" fill-opacity=\"1\" /><path clip-path=\"url(#clip290)\" d=\"M 0 0 M104.242 1145.57 L122.598 1145.57 L122.598 1149.51 L108.524 1149.51 L108.524 1157.98 Q109.543 1157.63 110.561 1157.47 Q111.58 1157.29 112.598 1157.29 Q118.385 1157.29 121.765 1160.46 Q125.145 1163.63 125.145 1169.05 Q125.145 1174.62 121.672 1177.73 Q118.2 1180.8 111.881 1180.8 Q109.705 1180.8 107.436 1180.43 Q105.191 1180.06 102.784 1179.32 L102.784 1174.62 Q104.867 1175.76 107.089 1176.31 Q109.311 1176.87 111.788 1176.87 Q115.793 1176.87 118.131 1174.76 Q120.469 1172.66 120.469 1169.05 Q120.469 1165.43 118.131 1163.33 Q115.793 1161.22 111.788 1161.22 Q109.913 1161.22 108.038 1161.64 Q106.186 1162.05 104.242 1162.93 L104.242 1145.57 Z\" fill=\"#000000\" fill-rule=\"evenodd\" fill-opacity=\"1\" /><path clip-path=\"url(#clip290)\" d=\"M 0 0 M81.0476 878.637 Q84.404 879.354 86.279 881.623 Q88.1772 883.891 88.1772 887.225 Q88.1772 892.34 84.6587 895.141 Q81.1402 897.942 74.6587 897.942 Q72.4828 897.942 70.168 897.502 Q67.8764 897.086 65.4227 896.229 L65.4227 891.715 Q67.3671 892.85 69.6819 893.428 Q71.9967 894.007 74.5198 894.007 Q78.918 894.007 81.2096 892.271 Q83.5244 890.535 83.5244 887.225 Q83.5244 884.169 81.3717 882.456 Q79.242 880.72 75.4226 880.72 L71.3949 880.72 L71.3949 876.878 L75.6078 876.878 Q79.0569 876.878 80.8855 875.512 Q82.7142 874.123 82.7142 871.53 Q82.7142 868.868 80.8161 867.456 Q78.9411 866.021 75.4226 866.021 Q73.5013 866.021 71.3023 866.438 Q69.1032 866.854 66.4643 867.734 L66.4643 863.567 Q69.1264 862.827 71.4412 862.456 Q73.7791 862.086 75.8393 862.086 Q81.1633 862.086 84.2652 864.516 Q87.367 866.924 87.367 871.044 Q87.367 873.915 85.7235 875.905 Q84.08 877.873 81.0476 878.637 Z\" fill=\"#000000\" fill-rule=\"evenodd\" fill-opacity=\"1\" /><path clip-path=\"url(#clip290)\" d=\"M 0 0 M93.2466 891.391 L98.1308 891.391 L98.1308 897.271 L93.2466 897.271 L93.2466 891.391 Z\" fill=\"#000000\" fill-rule=\"evenodd\" fill-opacity=\"1\" /><path clip-path=\"url(#clip290)\" d=\"M 0 0 M113.2 865.79 Q109.589 865.79 107.76 869.354 Q105.955 872.896 105.955 880.026 Q105.955 887.132 107.76 890.697 Q109.589 894.239 113.2 894.239 Q116.834 894.239 118.64 890.697 Q120.469 887.132 120.469 880.026 Q120.469 872.896 118.64 869.354 Q116.834 865.79 113.2 865.79 M113.2 862.086 Q119.01 862.086 122.066 866.692 Q125.145 871.276 125.145 880.026 Q125.145 888.752 122.066 893.359 Q119.01 897.942 113.2 897.942 Q107.39 897.942 104.311 893.359 Q101.256 888.752 101.256 880.026 Q101.256 871.276 104.311 866.692 Q107.39 862.086 113.2 862.086 Z\" fill=\"#000000\" fill-rule=\"evenodd\" fill-opacity=\"1\" /><path clip-path=\"url(#clip290)\" d=\"M 0 0 M82.0429 595.774 Q85.3994 596.492 87.2744 598.76 Q89.1725 601.029 89.1725 604.362 Q89.1725 609.478 85.654 612.279 Q82.1355 615.08 75.6541 615.08 Q73.4782 615.08 71.1634 614.64 Q68.8717 614.223 66.418 613.367 L66.418 608.853 Q68.3625 609.987 70.6773 610.566 Q72.9921 611.145 75.5152 611.145 Q79.9133 611.145 82.205 609.409 Q84.5198 607.672 84.5198 604.362 Q84.5198 601.307 82.367 599.594 Q80.2374 597.858 76.418 597.858 L72.3902 597.858 L72.3902 594.015 L76.6032 594.015 Q80.0522 594.015 81.8809 592.649 Q83.7096 591.261 83.7096 588.668 Q83.7096 586.006 81.8115 584.594 Q79.9365 583.159 76.418 583.159 Q74.4967 583.159 72.2976 583.575 Q70.0986 583.992 67.4597 584.872 L67.4597 580.705 Q70.1217 579.964 72.4365 579.594 Q74.7745 579.224 76.8346 579.224 Q82.1587 579.224 85.2605 581.654 Q88.3624 584.061 88.3624 588.182 Q88.3624 591.052 86.7189 593.043 Q85.0753 595.011 82.0429 595.774 Z\" fill=\"#000000\" fill-rule=\"evenodd\" fill-opacity=\"1\" /><path clip-path=\"url(#clip290)\" d=\"M 0 0 M94.242 608.529 L99.1262 608.529 L99.1262 614.409 L94.242 614.409 L94.242 608.529 Z\" fill=\"#000000\" fill-rule=\"evenodd\" fill-opacity=\"1\" /><path clip-path=\"url(#clip290)\" d=\"M 0 0 M104.242 579.849 L122.598 579.849 L122.598 583.784 L108.524 583.784 L108.524 592.256 Q109.543 591.909 110.561 591.747 Q111.58 591.561 112.598 591.561 Q118.385 591.561 121.765 594.733 Q125.145 597.904 125.145 603.321 Q125.145 608.899 121.672 612.001 Q118.2 615.08 111.881 615.08 Q109.705 615.08 107.436 614.709 Q105.191 614.339 102.784 613.598 L102.784 608.899 Q104.867 610.034 107.089 610.589 Q109.311 611.145 111.788 611.145 Q115.793 611.145 118.131 609.038 Q120.469 606.932 120.469 603.321 Q120.469 599.71 118.131 597.603 Q115.793 595.497 111.788 595.497 Q109.913 595.497 108.038 595.913 Q106.186 596.33 104.242 597.21 L104.242 579.849 Z\" fill=\"#000000\" fill-rule=\"evenodd\" fill-opacity=\"1\" /><path clip-path=\"url(#clip290)\" d=\"M 0 0 M78.5939 301.06 L66.7884 319.509 L78.5939 319.509 L78.5939 301.06 M77.367 296.986 L83.2466 296.986 L83.2466 319.509 L88.1772 319.509 L88.1772 323.398 L83.2466 323.398 L83.2466 331.546 L78.5939 331.546 L78.5939 323.398 L62.9921 323.398 L62.9921 318.884 L77.367 296.986 Z\" fill=\"#000000\" fill-rule=\"evenodd\" fill-opacity=\"1\" /><path clip-path=\"url(#clip290)\" d=\"M 0 0 M93.2466 325.667 L98.1308 325.667 L98.1308 331.546 L93.2466 331.546 L93.2466 325.667 Z\" fill=\"#000000\" fill-rule=\"evenodd\" fill-opacity=\"1\" /><path clip-path=\"url(#clip290)\" d=\"M 0 0 M113.2 300.065 Q109.589 300.065 107.76 303.63 Q105.955 307.171 105.955 314.301 Q105.955 321.407 107.76 324.972 Q109.589 328.514 113.2 328.514 Q116.834 328.514 118.64 324.972 Q120.469 321.407 120.469 314.301 Q120.469 307.171 118.64 303.63 Q116.834 300.065 113.2 300.065 M113.2 296.361 Q119.01 296.361 122.066 300.968 Q125.145 305.551 125.145 314.301 Q125.145 323.028 122.066 327.634 Q119.01 332.217 113.2 332.217 Q107.39 332.217 104.311 327.634 Q101.256 323.028 101.256 314.301 Q101.256 305.551 104.311 300.968 Q107.39 296.361 113.2 296.361 Z\" fill=\"#000000\" fill-rule=\"evenodd\" fill-opacity=\"1\" /><circle clip-path=\"url(#clip292)\" cx=\"673.484\" cy=\"597.129\" r=\"14\" fill=\"#009af9\" fill-rule=\"evenodd\" fill-opacity=\"1\" stroke=\"#000000\" stroke-opacity=\"1\" stroke-width=\"3.2\"/>\n",
       "<circle clip-path=\"url(#clip292)\" cx=\"557.991\" cy=\"879.991\" r=\"14\" fill=\"#009af9\" fill-rule=\"evenodd\" fill-opacity=\"1\" stroke=\"#000000\" stroke-opacity=\"1\" stroke-width=\"3.2\"/>\n",
       "<circle clip-path=\"url(#clip292)\" cx=\"442.497\" cy=\"766.846\" r=\"14\" fill=\"#009af9\" fill-rule=\"evenodd\" fill-opacity=\"1\" stroke=\"#000000\" stroke-opacity=\"1\" stroke-width=\"3.2\"/>\n",
       "<circle clip-path=\"url(#clip292)\" cx=\"384.751\" cy=\"823.418\" r=\"14\" fill=\"#009af9\" fill-rule=\"evenodd\" fill-opacity=\"1\" stroke=\"#000000\" stroke-opacity=\"1\" stroke-width=\"3.2\"/>\n",
       "<circle clip-path=\"url(#clip292)\" cx=\"615.737\" cy=\"540.556\" r=\"14\" fill=\"#009af9\" fill-rule=\"evenodd\" fill-opacity=\"1\" stroke=\"#000000\" stroke-opacity=\"1\" stroke-width=\"3.2\"/>\n",
       "<circle clip-path=\"url(#clip292)\" cx=\"846.724\" cy=\"370.839\" r=\"14\" fill=\"#009af9\" fill-rule=\"evenodd\" fill-opacity=\"1\" stroke=\"#000000\" stroke-opacity=\"1\" stroke-width=\"3.2\"/>\n",
       "<circle clip-path=\"url(#clip292)\" cx=\"384.751\" cy=\"653.701\" r=\"14\" fill=\"#009af9\" fill-rule=\"evenodd\" fill-opacity=\"1\" stroke=\"#000000\" stroke-opacity=\"1\" stroke-width=\"3.2\"/>\n",
       "<circle clip-path=\"url(#clip292)\" cx=\"615.737\" cy=\"653.701\" r=\"14\" fill=\"#009af9\" fill-rule=\"evenodd\" fill-opacity=\"1\" stroke=\"#000000\" stroke-opacity=\"1\" stroke-width=\"3.2\"/>\n",
       "<circle clip-path=\"url(#clip292)\" cx=\"269.258\" cy=\"936.563\" r=\"14\" fill=\"#009af9\" fill-rule=\"evenodd\" fill-opacity=\"1\" stroke=\"#000000\" stroke-opacity=\"1\" stroke-width=\"3.2\"/>\n",
       "<circle clip-path=\"url(#clip292)\" cx=\"557.991\" cy=\"823.418\" r=\"14\" fill=\"#009af9\" fill-rule=\"evenodd\" fill-opacity=\"1\" stroke=\"#000000\" stroke-opacity=\"1\" stroke-width=\"3.2\"/>\n",
       "<circle clip-path=\"url(#clip292)\" cx=\"846.724\" cy=\"483.984\" r=\"14\" fill=\"#009af9\" fill-rule=\"evenodd\" fill-opacity=\"1\" stroke=\"#000000\" stroke-opacity=\"1\" stroke-width=\"3.2\"/>\n",
       "<circle clip-path=\"url(#clip292)\" cx=\"500.244\" cy=\"653.701\" r=\"14\" fill=\"#009af9\" fill-rule=\"evenodd\" fill-opacity=\"1\" stroke=\"#000000\" stroke-opacity=\"1\" stroke-width=\"3.2\"/>\n",
       "<circle clip-path=\"url(#clip292)\" cx=\"500.244\" cy=\"879.991\" r=\"14\" fill=\"#009af9\" fill-rule=\"evenodd\" fill-opacity=\"1\" stroke=\"#000000\" stroke-opacity=\"1\" stroke-width=\"3.2\"/>\n",
       "<circle clip-path=\"url(#clip292)\" cx=\"211.511\" cy=\"879.991\" r=\"14\" fill=\"#009af9\" fill-rule=\"evenodd\" fill-opacity=\"1\" stroke=\"#000000\" stroke-opacity=\"1\" stroke-width=\"3.2\"/>\n",
       "<circle clip-path=\"url(#clip292)\" cx=\"1077.71\" cy=\"314.266\" r=\"14\" fill=\"#009af9\" fill-rule=\"evenodd\" fill-opacity=\"1\" stroke=\"#000000\" stroke-opacity=\"1\" stroke-width=\"3.2\"/>\n",
       "<circle clip-path=\"url(#clip292)\" cx=\"1019.96\" cy=\"87.9763\" r=\"14\" fill=\"#009af9\" fill-rule=\"evenodd\" fill-opacity=\"1\" stroke=\"#000000\" stroke-opacity=\"1\" stroke-width=\"3.2\"/>\n",
       "<circle clip-path=\"url(#clip292)\" cx=\"846.724\" cy=\"370.839\" r=\"14\" fill=\"#009af9\" fill-rule=\"evenodd\" fill-opacity=\"1\" stroke=\"#000000\" stroke-opacity=\"1\" stroke-width=\"3.2\"/>\n",
       "<circle clip-path=\"url(#clip292)\" cx=\"673.484\" cy=\"597.129\" r=\"14\" fill=\"#009af9\" fill-rule=\"evenodd\" fill-opacity=\"1\" stroke=\"#000000\" stroke-opacity=\"1\" stroke-width=\"3.2\"/>\n",
       "<circle clip-path=\"url(#clip292)\" cx=\"1019.96\" cy=\"427.411\" r=\"14\" fill=\"#009af9\" fill-rule=\"evenodd\" fill-opacity=\"1\" stroke=\"#000000\" stroke-opacity=\"1\" stroke-width=\"3.2\"/>\n",
       "<circle clip-path=\"url(#clip292)\" cx=\"673.484\" cy=\"427.411\" r=\"14\" fill=\"#009af9\" fill-rule=\"evenodd\" fill-opacity=\"1\" stroke=\"#000000\" stroke-opacity=\"1\" stroke-width=\"3.2\"/>\n",
       "<circle clip-path=\"url(#clip292)\" cx=\"846.724\" cy=\"653.701\" r=\"14\" fill=\"#009af9\" fill-rule=\"evenodd\" fill-opacity=\"1\" stroke=\"#000000\" stroke-opacity=\"1\" stroke-width=\"3.2\"/>\n",
       "<circle clip-path=\"url(#clip292)\" cx=\"673.484\" cy=\"483.984\" r=\"14\" fill=\"#009af9\" fill-rule=\"evenodd\" fill-opacity=\"1\" stroke=\"#000000\" stroke-opacity=\"1\" stroke-width=\"3.2\"/>\n",
       "<circle clip-path=\"url(#clip292)\" cx=\"384.751\" cy=\"540.556\" r=\"14\" fill=\"#009af9\" fill-rule=\"evenodd\" fill-opacity=\"1\" stroke=\"#000000\" stroke-opacity=\"1\" stroke-width=\"3.2\"/>\n",
       "<circle clip-path=\"url(#clip292)\" cx=\"673.484\" cy=\"710.274\" r=\"14\" fill=\"#009af9\" fill-rule=\"evenodd\" fill-opacity=\"1\" stroke=\"#000000\" stroke-opacity=\"1\" stroke-width=\"3.2\"/>\n",
       "<circle clip-path=\"url(#clip292)\" cx=\"500.244\" cy=\"653.701\" r=\"14\" fill=\"#009af9\" fill-rule=\"evenodd\" fill-opacity=\"1\" stroke=\"#000000\" stroke-opacity=\"1\" stroke-width=\"3.2\"/>\n",
       "<circle clip-path=\"url(#clip292)\" cx=\"615.737\" cy=\"879.991\" r=\"14\" fill=\"#009af9\" fill-rule=\"evenodd\" fill-opacity=\"1\" stroke=\"#000000\" stroke-opacity=\"1\" stroke-width=\"3.2\"/>\n",
       "<circle clip-path=\"url(#clip292)\" cx=\"615.737\" cy=\"653.701\" r=\"14\" fill=\"#009af9\" fill-rule=\"evenodd\" fill-opacity=\"1\" stroke=\"#000000\" stroke-opacity=\"1\" stroke-width=\"3.2\"/>\n",
       "<circle clip-path=\"url(#clip292)\" cx=\"731.231\" cy=\"597.129\" r=\"14\" fill=\"#009af9\" fill-rule=\"evenodd\" fill-opacity=\"1\" stroke=\"#000000\" stroke-opacity=\"1\" stroke-width=\"3.2\"/>\n",
       "<circle clip-path=\"url(#clip292)\" cx=\"731.231\" cy=\"653.701\" r=\"14\" fill=\"#009af9\" fill-rule=\"evenodd\" fill-opacity=\"1\" stroke=\"#000000\" stroke-opacity=\"1\" stroke-width=\"3.2\"/>\n",
       "<circle clip-path=\"url(#clip292)\" cx=\"442.497\" cy=\"766.846\" r=\"14\" fill=\"#009af9\" fill-rule=\"evenodd\" fill-opacity=\"1\" stroke=\"#000000\" stroke-opacity=\"1\" stroke-width=\"3.2\"/>\n",
       "<circle clip-path=\"url(#clip292)\" cx=\"500.244\" cy=\"823.418\" r=\"14\" fill=\"#009af9\" fill-rule=\"evenodd\" fill-opacity=\"1\" stroke=\"#000000\" stroke-opacity=\"1\" stroke-width=\"3.2\"/>\n",
       "<circle clip-path=\"url(#clip292)\" cx=\"846.724\" cy=\"653.701\" r=\"14\" fill=\"#009af9\" fill-rule=\"evenodd\" fill-opacity=\"1\" stroke=\"#000000\" stroke-opacity=\"1\" stroke-width=\"3.2\"/>\n",
       "<circle clip-path=\"url(#clip292)\" cx=\"731.231\" cy=\"257.694\" r=\"14\" fill=\"#009af9\" fill-rule=\"evenodd\" fill-opacity=\"1\" stroke=\"#000000\" stroke-opacity=\"1\" stroke-width=\"3.2\"/>\n",
       "<circle clip-path=\"url(#clip292)\" cx=\"904.47\" cy=\"201.121\" r=\"14\" fill=\"#009af9\" fill-rule=\"evenodd\" fill-opacity=\"1\" stroke=\"#000000\" stroke-opacity=\"1\" stroke-width=\"3.2\"/>\n",
       "<circle clip-path=\"url(#clip292)\" cx=\"557.991\" cy=\"823.418\" r=\"14\" fill=\"#009af9\" fill-rule=\"evenodd\" fill-opacity=\"1\" stroke=\"#000000\" stroke-opacity=\"1\" stroke-width=\"3.2\"/>\n",
       "<circle clip-path=\"url(#clip292)\" cx=\"615.737\" cy=\"766.846\" r=\"14\" fill=\"#009af9\" fill-rule=\"evenodd\" fill-opacity=\"1\" stroke=\"#000000\" stroke-opacity=\"1\" stroke-width=\"3.2\"/>\n",
       "<circle clip-path=\"url(#clip292)\" cx=\"904.47\" cy=\"597.129\" r=\"14\" fill=\"#009af9\" fill-rule=\"evenodd\" fill-opacity=\"1\" stroke=\"#000000\" stroke-opacity=\"1\" stroke-width=\"3.2\"/>\n",
       "<circle clip-path=\"url(#clip292)\" cx=\"557.991\" cy=\"540.556\" r=\"14\" fill=\"#009af9\" fill-rule=\"evenodd\" fill-opacity=\"1\" stroke=\"#000000\" stroke-opacity=\"1\" stroke-width=\"3.2\"/>\n",
       "<circle clip-path=\"url(#clip292)\" cx=\"269.258\" cy=\"879.991\" r=\"14\" fill=\"#009af9\" fill-rule=\"evenodd\" fill-opacity=\"1\" stroke=\"#000000\" stroke-opacity=\"1\" stroke-width=\"3.2\"/>\n",
       "<circle clip-path=\"url(#clip292)\" cx=\"673.484\" cy=\"653.701\" r=\"14\" fill=\"#009af9\" fill-rule=\"evenodd\" fill-opacity=\"1\" stroke=\"#000000\" stroke-opacity=\"1\" stroke-width=\"3.2\"/>\n",
       "<circle clip-path=\"url(#clip292)\" cx=\"615.737\" cy=\"597.129\" r=\"14\" fill=\"#009af9\" fill-rule=\"evenodd\" fill-opacity=\"1\" stroke=\"#000000\" stroke-opacity=\"1\" stroke-width=\"3.2\"/>\n",
       "<circle clip-path=\"url(#clip292)\" cx=\"327.004\" cy=\"1276\" r=\"14\" fill=\"#009af9\" fill-rule=\"evenodd\" fill-opacity=\"1\" stroke=\"#000000\" stroke-opacity=\"1\" stroke-width=\"3.2\"/>\n",
       "<circle clip-path=\"url(#clip292)\" cx=\"269.258\" cy=\"766.846\" r=\"14\" fill=\"#009af9\" fill-rule=\"evenodd\" fill-opacity=\"1\" stroke=\"#000000\" stroke-opacity=\"1\" stroke-width=\"3.2\"/>\n",
       "<circle clip-path=\"url(#clip292)\" cx=\"615.737\" cy=\"597.129\" r=\"14\" fill=\"#009af9\" fill-rule=\"evenodd\" fill-opacity=\"1\" stroke=\"#000000\" stroke-opacity=\"1\" stroke-width=\"3.2\"/>\n",
       "<circle clip-path=\"url(#clip292)\" cx=\"673.484\" cy=\"427.411\" r=\"14\" fill=\"#009af9\" fill-rule=\"evenodd\" fill-opacity=\"1\" stroke=\"#000000\" stroke-opacity=\"1\" stroke-width=\"3.2\"/>\n",
       "<circle clip-path=\"url(#clip292)\" cx=\"500.244\" cy=\"879.991\" r=\"14\" fill=\"#009af9\" fill-rule=\"evenodd\" fill-opacity=\"1\" stroke=\"#000000\" stroke-opacity=\"1\" stroke-width=\"3.2\"/>\n",
       "<circle clip-path=\"url(#clip292)\" cx=\"673.484\" cy=\"427.411\" r=\"14\" fill=\"#009af9\" fill-rule=\"evenodd\" fill-opacity=\"1\" stroke=\"#000000\" stroke-opacity=\"1\" stroke-width=\"3.2\"/>\n",
       "<circle clip-path=\"url(#clip292)\" cx=\"384.751\" cy=\"766.846\" r=\"14\" fill=\"#009af9\" fill-rule=\"evenodd\" fill-opacity=\"1\" stroke=\"#000000\" stroke-opacity=\"1\" stroke-width=\"3.2\"/>\n",
       "<circle clip-path=\"url(#clip292)\" cx=\"788.977\" cy=\"483.984\" r=\"14\" fill=\"#009af9\" fill-rule=\"evenodd\" fill-opacity=\"1\" stroke=\"#000000\" stroke-opacity=\"1\" stroke-width=\"3.2\"/>\n",
       "<circle clip-path=\"url(#clip292)\" cx=\"615.737\" cy=\"710.274\" r=\"14\" fill=\"#009af9\" fill-rule=\"evenodd\" fill-opacity=\"1\" stroke=\"#000000\" stroke-opacity=\"1\" stroke-width=\"3.2\"/>\n",
       "<circle clip-path=\"url(#clip292)\" cx=\"1770.67\" cy=\"766.846\" r=\"14\" fill=\"#009af9\" fill-rule=\"evenodd\" fill-opacity=\"1\" stroke=\"#000000\" stroke-opacity=\"1\" stroke-width=\"3.2\"/>\n",
       "<circle clip-path=\"url(#clip292)\" cx=\"1424.19\" cy=\"766.846\" r=\"14\" fill=\"#009af9\" fill-rule=\"evenodd\" fill-opacity=\"1\" stroke=\"#000000\" stroke-opacity=\"1\" stroke-width=\"3.2\"/>\n",
       "<circle clip-path=\"url(#clip292)\" cx=\"1712.92\" cy=\"823.418\" r=\"14\" fill=\"#009af9\" fill-rule=\"evenodd\" fill-opacity=\"1\" stroke=\"#000000\" stroke-opacity=\"1\" stroke-width=\"3.2\"/>\n",
       "<circle clip-path=\"url(#clip292)\" cx=\"904.47\" cy=\"1276\" r=\"14\" fill=\"#009af9\" fill-rule=\"evenodd\" fill-opacity=\"1\" stroke=\"#000000\" stroke-opacity=\"1\" stroke-width=\"3.2\"/>\n",
       "<circle clip-path=\"url(#clip292)\" cx=\"1481.94\" cy=\"993.136\" r=\"14\" fill=\"#009af9\" fill-rule=\"evenodd\" fill-opacity=\"1\" stroke=\"#000000\" stroke-opacity=\"1\" stroke-width=\"3.2\"/>\n",
       "<circle clip-path=\"url(#clip292)\" cx=\"1019.96\" cy=\"993.136\" r=\"14\" fill=\"#009af9\" fill-rule=\"evenodd\" fill-opacity=\"1\" stroke=\"#000000\" stroke-opacity=\"1\" stroke-width=\"3.2\"/>\n",
       "<circle clip-path=\"url(#clip292)\" cx=\"1366.44\" cy=\"710.274\" r=\"14\" fill=\"#009af9\" fill-rule=\"evenodd\" fill-opacity=\"1\" stroke=\"#000000\" stroke-opacity=\"1\" stroke-width=\"3.2\"/>\n",
       "<circle clip-path=\"url(#clip292)\" cx=\"557.991\" cy=\"1219.43\" r=\"14\" fill=\"#009af9\" fill-rule=\"evenodd\" fill-opacity=\"1\" stroke=\"#000000\" stroke-opacity=\"1\" stroke-width=\"3.2\"/>\n",
       "<circle clip-path=\"url(#clip292)\" cx=\"1539.68\" cy=\"936.563\" r=\"14\" fill=\"#009af9\" fill-rule=\"evenodd\" fill-opacity=\"1\" stroke=\"#000000\" stroke-opacity=\"1\" stroke-width=\"3.2\"/>\n",
       "<circle clip-path=\"url(#clip292)\" cx=\"731.231\" cy=\"1049.71\" r=\"14\" fill=\"#009af9\" fill-rule=\"evenodd\" fill-opacity=\"1\" stroke=\"#000000\" stroke-opacity=\"1\" stroke-width=\"3.2\"/>\n",
       "<circle clip-path=\"url(#clip292)\" cx=\"615.737\" cy=\"1445.72\" r=\"14\" fill=\"#009af9\" fill-rule=\"evenodd\" fill-opacity=\"1\" stroke=\"#000000\" stroke-opacity=\"1\" stroke-width=\"3.2\"/>\n",
       "<circle clip-path=\"url(#clip292)\" cx=\"1135.46\" cy=\"879.991\" r=\"14\" fill=\"#009af9\" fill-rule=\"evenodd\" fill-opacity=\"1\" stroke=\"#000000\" stroke-opacity=\"1\" stroke-width=\"3.2\"/>\n",
       "<circle clip-path=\"url(#clip292)\" cx=\"1193.2\" cy=\"1332.57\" r=\"14\" fill=\"#009af9\" fill-rule=\"evenodd\" fill-opacity=\"1\" stroke=\"#000000\" stroke-opacity=\"1\" stroke-width=\"3.2\"/>\n",
       "<circle clip-path=\"url(#clip292)\" cx=\"1250.95\" cy=\"936.563\" r=\"14\" fill=\"#009af9\" fill-rule=\"evenodd\" fill-opacity=\"1\" stroke=\"#000000\" stroke-opacity=\"1\" stroke-width=\"3.2\"/>\n",
       "<circle clip-path=\"url(#clip292)\" cx=\"962.217\" cy=\"936.563\" r=\"14\" fill=\"#009af9\" fill-rule=\"evenodd\" fill-opacity=\"1\" stroke=\"#000000\" stroke-opacity=\"1\" stroke-width=\"3.2\"/>\n",
       "<circle clip-path=\"url(#clip292)\" cx=\"1597.43\" cy=\"823.418\" r=\"14\" fill=\"#009af9\" fill-rule=\"evenodd\" fill-opacity=\"1\" stroke=\"#000000\" stroke-opacity=\"1\" stroke-width=\"3.2\"/>\n",
       "<circle clip-path=\"url(#clip292)\" cx=\"962.217\" cy=\"879.991\" r=\"14\" fill=\"#009af9\" fill-rule=\"evenodd\" fill-opacity=\"1\" stroke=\"#000000\" stroke-opacity=\"1\" stroke-width=\"3.2\"/>\n",
       "<circle clip-path=\"url(#clip292)\" cx=\"1077.71\" cy=\"1049.71\" r=\"14\" fill=\"#009af9\" fill-rule=\"evenodd\" fill-opacity=\"1\" stroke=\"#000000\" stroke-opacity=\"1\" stroke-width=\"3.2\"/>\n",
       "<circle clip-path=\"url(#clip292)\" cx=\"1308.7\" cy=\"1332.57\" r=\"14\" fill=\"#009af9\" fill-rule=\"evenodd\" fill-opacity=\"1\" stroke=\"#000000\" stroke-opacity=\"1\" stroke-width=\"3.2\"/>\n",
       "<circle clip-path=\"url(#clip292)\" cx=\"962.217\" cy=\"1162.85\" r=\"14\" fill=\"#009af9\" fill-rule=\"evenodd\" fill-opacity=\"1\" stroke=\"#000000\" stroke-opacity=\"1\" stroke-width=\"3.2\"/>\n",
       "<circle clip-path=\"url(#clip292)\" cx=\"1135.46\" cy=\"766.846\" r=\"14\" fill=\"#009af9\" fill-rule=\"evenodd\" fill-opacity=\"1\" stroke=\"#000000\" stroke-opacity=\"1\" stroke-width=\"3.2\"/>\n",
       "<circle clip-path=\"url(#clip292)\" cx=\"1250.95\" cy=\"993.136\" r=\"14\" fill=\"#009af9\" fill-rule=\"evenodd\" fill-opacity=\"1\" stroke=\"#000000\" stroke-opacity=\"1\" stroke-width=\"3.2\"/>\n",
       "<circle clip-path=\"url(#clip292)\" cx=\"1366.44\" cy=\"1162.85\" r=\"14\" fill=\"#009af9\" fill-rule=\"evenodd\" fill-opacity=\"1\" stroke=\"#000000\" stroke-opacity=\"1\" stroke-width=\"3.2\"/>\n",
       "<circle clip-path=\"url(#clip292)\" cx=\"1250.95\" cy=\"993.136\" r=\"14\" fill=\"#009af9\" fill-rule=\"evenodd\" fill-opacity=\"1\" stroke=\"#000000\" stroke-opacity=\"1\" stroke-width=\"3.2\"/>\n",
       "<circle clip-path=\"url(#clip292)\" cx=\"1424.19\" cy=\"936.563\" r=\"14\" fill=\"#009af9\" fill-rule=\"evenodd\" fill-opacity=\"1\" stroke=\"#000000\" stroke-opacity=\"1\" stroke-width=\"3.2\"/>\n",
       "<circle clip-path=\"url(#clip292)\" cx=\"1539.68\" cy=\"879.991\" r=\"14\" fill=\"#009af9\" fill-rule=\"evenodd\" fill-opacity=\"1\" stroke=\"#000000\" stroke-opacity=\"1\" stroke-width=\"3.2\"/>\n",
       "<circle clip-path=\"url(#clip292)\" cx=\"1655.18\" cy=\"993.136\" r=\"14\" fill=\"#009af9\" fill-rule=\"evenodd\" fill-opacity=\"1\" stroke=\"#000000\" stroke-opacity=\"1\" stroke-width=\"3.2\"/>\n",
       "<circle clip-path=\"url(#clip292)\" cx=\"1597.43\" cy=\"879.991\" r=\"14\" fill=\"#009af9\" fill-rule=\"evenodd\" fill-opacity=\"1\" stroke=\"#000000\" stroke-opacity=\"1\" stroke-width=\"3.2\"/>\n",
       "<circle clip-path=\"url(#clip292)\" cx=\"1193.2\" cy=\"936.563\" r=\"14\" fill=\"#009af9\" fill-rule=\"evenodd\" fill-opacity=\"1\" stroke=\"#000000\" stroke-opacity=\"1\" stroke-width=\"3.2\"/>\n",
       "<circle clip-path=\"url(#clip292)\" cx=\"1019.96\" cy=\"1106.28\" r=\"14\" fill=\"#009af9\" fill-rule=\"evenodd\" fill-opacity=\"1\" stroke=\"#000000\" stroke-opacity=\"1\" stroke-width=\"3.2\"/>\n",
       "<circle clip-path=\"url(#clip292)\" cx=\"904.47\" cy=\"1219.43\" r=\"14\" fill=\"#009af9\" fill-rule=\"evenodd\" fill-opacity=\"1\" stroke=\"#000000\" stroke-opacity=\"1\" stroke-width=\"3.2\"/>\n",
       "<circle clip-path=\"url(#clip292)\" cx=\"904.47\" cy=\"1219.43\" r=\"14\" fill=\"#009af9\" fill-rule=\"evenodd\" fill-opacity=\"1\" stroke=\"#000000\" stroke-opacity=\"1\" stroke-width=\"3.2\"/>\n",
       "<circle clip-path=\"url(#clip292)\" cx=\"1077.71\" cy=\"1049.71\" r=\"14\" fill=\"#009af9\" fill-rule=\"evenodd\" fill-opacity=\"1\" stroke=\"#000000\" stroke-opacity=\"1\" stroke-width=\"3.2\"/>\n",
       "<circle clip-path=\"url(#clip292)\" cx=\"1193.2\" cy=\"1049.71\" r=\"14\" fill=\"#009af9\" fill-rule=\"evenodd\" fill-opacity=\"1\" stroke=\"#000000\" stroke-opacity=\"1\" stroke-width=\"3.2\"/>\n",
       "<circle clip-path=\"url(#clip292)\" cx=\"846.724\" cy=\"879.991\" r=\"14\" fill=\"#009af9\" fill-rule=\"evenodd\" fill-opacity=\"1\" stroke=\"#000000\" stroke-opacity=\"1\" stroke-width=\"3.2\"/>\n",
       "<circle clip-path=\"url(#clip292)\" cx=\"1193.2\" cy=\"653.701\" r=\"14\" fill=\"#009af9\" fill-rule=\"evenodd\" fill-opacity=\"1\" stroke=\"#000000\" stroke-opacity=\"1\" stroke-width=\"3.2\"/>\n",
       "<circle clip-path=\"url(#clip292)\" cx=\"1597.43\" cy=\"823.418\" r=\"14\" fill=\"#009af9\" fill-rule=\"evenodd\" fill-opacity=\"1\" stroke=\"#000000\" stroke-opacity=\"1\" stroke-width=\"3.2\"/>\n",
       "<circle clip-path=\"url(#clip292)\" cx=\"1366.44\" cy=\"1276\" r=\"14\" fill=\"#009af9\" fill-rule=\"evenodd\" fill-opacity=\"1\" stroke=\"#000000\" stroke-opacity=\"1\" stroke-width=\"3.2\"/>\n",
       "<circle clip-path=\"url(#clip292)\" cx=\"962.217\" cy=\"879.991\" r=\"14\" fill=\"#009af9\" fill-rule=\"evenodd\" fill-opacity=\"1\" stroke=\"#000000\" stroke-opacity=\"1\" stroke-width=\"3.2\"/>\n",
       "<circle clip-path=\"url(#clip292)\" cx=\"904.47\" cy=\"1162.85\" r=\"14\" fill=\"#009af9\" fill-rule=\"evenodd\" fill-opacity=\"1\" stroke=\"#000000\" stroke-opacity=\"1\" stroke-width=\"3.2\"/>\n",
       "<circle clip-path=\"url(#clip292)\" cx=\"904.47\" cy=\"1106.28\" r=\"14\" fill=\"#009af9\" fill-rule=\"evenodd\" fill-opacity=\"1\" stroke=\"#000000\" stroke-opacity=\"1\" stroke-width=\"3.2\"/>\n",
       "<circle clip-path=\"url(#clip292)\" cx=\"1250.95\" cy=\"879.991\" r=\"14\" fill=\"#009af9\" fill-rule=\"evenodd\" fill-opacity=\"1\" stroke=\"#000000\" stroke-opacity=\"1\" stroke-width=\"3.2\"/>\n",
       "<circle clip-path=\"url(#clip292)\" cx=\"1077.71\" cy=\"1106.28\" r=\"14\" fill=\"#009af9\" fill-rule=\"evenodd\" fill-opacity=\"1\" stroke=\"#000000\" stroke-opacity=\"1\" stroke-width=\"3.2\"/>\n",
       "<circle clip-path=\"url(#clip292)\" cx=\"615.737\" cy=\"1276\" r=\"14\" fill=\"#009af9\" fill-rule=\"evenodd\" fill-opacity=\"1\" stroke=\"#000000\" stroke-opacity=\"1\" stroke-width=\"3.2\"/>\n",
       "<circle clip-path=\"url(#clip292)\" cx=\"962.217\" cy=\"1049.71\" r=\"14\" fill=\"#009af9\" fill-rule=\"evenodd\" fill-opacity=\"1\" stroke=\"#000000\" stroke-opacity=\"1\" stroke-width=\"3.2\"/>\n",
       "<circle clip-path=\"url(#clip292)\" cx=\"1019.96\" cy=\"879.991\" r=\"14\" fill=\"#009af9\" fill-rule=\"evenodd\" fill-opacity=\"1\" stroke=\"#000000\" stroke-opacity=\"1\" stroke-width=\"3.2\"/>\n",
       "<circle clip-path=\"url(#clip292)\" cx=\"1019.96\" cy=\"936.563\" r=\"14\" fill=\"#009af9\" fill-rule=\"evenodd\" fill-opacity=\"1\" stroke=\"#000000\" stroke-opacity=\"1\" stroke-width=\"3.2\"/>\n",
       "<circle clip-path=\"url(#clip292)\" cx=\"1308.7\" cy=\"936.563\" r=\"14\" fill=\"#009af9\" fill-rule=\"evenodd\" fill-opacity=\"1\" stroke=\"#000000\" stroke-opacity=\"1\" stroke-width=\"3.2\"/>\n",
       "<circle clip-path=\"url(#clip292)\" cx=\"673.484\" cy=\"1162.85\" r=\"14\" fill=\"#009af9\" fill-rule=\"evenodd\" fill-opacity=\"1\" stroke=\"#000000\" stroke-opacity=\"1\" stroke-width=\"3.2\"/>\n",
       "<circle clip-path=\"url(#clip292)\" cx=\"1019.96\" cy=\"993.136\" r=\"14\" fill=\"#009af9\" fill-rule=\"evenodd\" fill-opacity=\"1\" stroke=\"#000000\" stroke-opacity=\"1\" stroke-width=\"3.2\"/>\n",
       "<circle clip-path=\"url(#clip292)\" cx=\"1366.44\" cy=\"710.274\" r=\"14\" fill=\"#009af9\" fill-rule=\"evenodd\" fill-opacity=\"1\" stroke=\"#000000\" stroke-opacity=\"1\" stroke-width=\"3.2\"/>\n",
       "<circle clip-path=\"url(#clip292)\" cx=\"1077.71\" cy=\"1049.71\" r=\"14\" fill=\"#009af9\" fill-rule=\"evenodd\" fill-opacity=\"1\" stroke=\"#000000\" stroke-opacity=\"1\" stroke-width=\"3.2\"/>\n",
       "<circle clip-path=\"url(#clip292)\" cx=\"1828.42\" cy=\"879.991\" r=\"14\" fill=\"#009af9\" fill-rule=\"evenodd\" fill-opacity=\"1\" stroke=\"#000000\" stroke-opacity=\"1\" stroke-width=\"3.2\"/>\n",
       "<circle clip-path=\"url(#clip292)\" cx=\"1366.44\" cy=\"936.563\" r=\"14\" fill=\"#009af9\" fill-rule=\"evenodd\" fill-opacity=\"1\" stroke=\"#000000\" stroke-opacity=\"1\" stroke-width=\"3.2\"/>\n",
       "<circle clip-path=\"url(#clip292)\" cx=\"1481.94\" cy=\"879.991\" r=\"14\" fill=\"#009af9\" fill-rule=\"evenodd\" fill-opacity=\"1\" stroke=\"#000000\" stroke-opacity=\"1\" stroke-width=\"3.2\"/>\n",
       "<circle clip-path=\"url(#clip292)\" cx=\"2117.15\" cy=\"879.991\" r=\"14\" fill=\"#009af9\" fill-rule=\"evenodd\" fill-opacity=\"1\" stroke=\"#000000\" stroke-opacity=\"1\" stroke-width=\"3.2\"/>\n",
       "<circle clip-path=\"url(#clip292)\" cx=\"557.991\" cy=\"1162.85\" r=\"14\" fill=\"#009af9\" fill-rule=\"evenodd\" fill-opacity=\"1\" stroke=\"#000000\" stroke-opacity=\"1\" stroke-width=\"3.2\"/>\n",
       "<circle clip-path=\"url(#clip292)\" cx=\"1943.91\" cy=\"936.563\" r=\"14\" fill=\"#009af9\" fill-rule=\"evenodd\" fill-opacity=\"1\" stroke=\"#000000\" stroke-opacity=\"1\" stroke-width=\"3.2\"/>\n",
       "<circle clip-path=\"url(#clip292)\" cx=\"1597.43\" cy=\"1162.85\" r=\"14\" fill=\"#009af9\" fill-rule=\"evenodd\" fill-opacity=\"1\" stroke=\"#000000\" stroke-opacity=\"1\" stroke-width=\"3.2\"/>\n",
       "<circle clip-path=\"url(#clip292)\" cx=\"1886.16\" cy=\"540.556\" r=\"14\" fill=\"#009af9\" fill-rule=\"evenodd\" fill-opacity=\"1\" stroke=\"#000000\" stroke-opacity=\"1\" stroke-width=\"3.2\"/>\n",
       "<circle clip-path=\"url(#clip292)\" cx=\"1481.94\" cy=\"766.846\" r=\"14\" fill=\"#009af9\" fill-rule=\"evenodd\" fill-opacity=\"1\" stroke=\"#000000\" stroke-opacity=\"1\" stroke-width=\"3.2\"/>\n",
       "<circle clip-path=\"url(#clip292)\" cx=\"1424.19\" cy=\"1049.71\" r=\"14\" fill=\"#009af9\" fill-rule=\"evenodd\" fill-opacity=\"1\" stroke=\"#000000\" stroke-opacity=\"1\" stroke-width=\"3.2\"/>\n",
       "<circle clip-path=\"url(#clip292)\" cx=\"1655.18\" cy=\"879.991\" r=\"14\" fill=\"#009af9\" fill-rule=\"evenodd\" fill-opacity=\"1\" stroke=\"#000000\" stroke-opacity=\"1\" stroke-width=\"3.2\"/>\n",
       "<circle clip-path=\"url(#clip292)\" cx=\"1019.96\" cy=\"1162.85\" r=\"14\" fill=\"#009af9\" fill-rule=\"evenodd\" fill-opacity=\"1\" stroke=\"#000000\" stroke-opacity=\"1\" stroke-width=\"3.2\"/>\n",
       "<circle clip-path=\"url(#clip292)\" cx=\"1077.71\" cy=\"993.136\" r=\"14\" fill=\"#009af9\" fill-rule=\"evenodd\" fill-opacity=\"1\" stroke=\"#000000\" stroke-opacity=\"1\" stroke-width=\"3.2\"/>\n",
       "<circle clip-path=\"url(#clip292)\" cx=\"1424.19\" cy=\"766.846\" r=\"14\" fill=\"#009af9\" fill-rule=\"evenodd\" fill-opacity=\"1\" stroke=\"#000000\" stroke-opacity=\"1\" stroke-width=\"3.2\"/>\n",
       "<circle clip-path=\"url(#clip292)\" cx=\"1481.94\" cy=\"879.991\" r=\"14\" fill=\"#009af9\" fill-rule=\"evenodd\" fill-opacity=\"1\" stroke=\"#000000\" stroke-opacity=\"1\" stroke-width=\"3.2\"/>\n",
       "<circle clip-path=\"url(#clip292)\" cx=\"2174.9\" cy=\"427.411\" r=\"14\" fill=\"#009af9\" fill-rule=\"evenodd\" fill-opacity=\"1\" stroke=\"#000000\" stroke-opacity=\"1\" stroke-width=\"3.2\"/>\n",
       "<circle clip-path=\"url(#clip292)\" cx=\"2174.9\" cy=\"1106.28\" r=\"14\" fill=\"#009af9\" fill-rule=\"evenodd\" fill-opacity=\"1\" stroke=\"#000000\" stroke-opacity=\"1\" stroke-width=\"3.2\"/>\n",
       "<circle clip-path=\"url(#clip292)\" cx=\"1193.2\" cy=\"1332.57\" r=\"14\" fill=\"#009af9\" fill-rule=\"evenodd\" fill-opacity=\"1\" stroke=\"#000000\" stroke-opacity=\"1\" stroke-width=\"3.2\"/>\n",
       "<circle clip-path=\"url(#clip292)\" cx=\"1712.92\" cy=\"766.846\" r=\"14\" fill=\"#009af9\" fill-rule=\"evenodd\" fill-opacity=\"1\" stroke=\"#000000\" stroke-opacity=\"1\" stroke-width=\"3.2\"/>\n",
       "<circle clip-path=\"url(#clip292)\" cx=\"962.217\" cy=\"993.136\" r=\"14\" fill=\"#009af9\" fill-rule=\"evenodd\" fill-opacity=\"1\" stroke=\"#000000\" stroke-opacity=\"1\" stroke-width=\"3.2\"/>\n",
       "<circle clip-path=\"url(#clip292)\" cx=\"2174.9\" cy=\"993.136\" r=\"14\" fill=\"#009af9\" fill-rule=\"evenodd\" fill-opacity=\"1\" stroke=\"#000000\" stroke-opacity=\"1\" stroke-width=\"3.2\"/>\n",
       "<circle clip-path=\"url(#clip292)\" cx=\"1366.44\" cy=\"1049.71\" r=\"14\" fill=\"#009af9\" fill-rule=\"evenodd\" fill-opacity=\"1\" stroke=\"#000000\" stroke-opacity=\"1\" stroke-width=\"3.2\"/>\n",
       "<circle clip-path=\"url(#clip292)\" cx=\"1597.43\" cy=\"710.274\" r=\"14\" fill=\"#009af9\" fill-rule=\"evenodd\" fill-opacity=\"1\" stroke=\"#000000\" stroke-opacity=\"1\" stroke-width=\"3.2\"/>\n",
       "<circle clip-path=\"url(#clip292)\" cx=\"1886.16\" cy=\"766.846\" r=\"14\" fill=\"#009af9\" fill-rule=\"evenodd\" fill-opacity=\"1\" stroke=\"#000000\" stroke-opacity=\"1\" stroke-width=\"3.2\"/>\n",
       "<circle clip-path=\"url(#clip292)\" cx=\"1308.7\" cy=\"993.136\" r=\"14\" fill=\"#009af9\" fill-rule=\"evenodd\" fill-opacity=\"1\" stroke=\"#000000\" stroke-opacity=\"1\" stroke-width=\"3.2\"/>\n",
       "<circle clip-path=\"url(#clip292)\" cx=\"1250.95\" cy=\"879.991\" r=\"14\" fill=\"#009af9\" fill-rule=\"evenodd\" fill-opacity=\"1\" stroke=\"#000000\" stroke-opacity=\"1\" stroke-width=\"3.2\"/>\n",
       "<circle clip-path=\"url(#clip292)\" cx=\"1424.19\" cy=\"993.136\" r=\"14\" fill=\"#009af9\" fill-rule=\"evenodd\" fill-opacity=\"1\" stroke=\"#000000\" stroke-opacity=\"1\" stroke-width=\"3.2\"/>\n",
       "<circle clip-path=\"url(#clip292)\" cx=\"1886.16\" cy=\"879.991\" r=\"14\" fill=\"#009af9\" fill-rule=\"evenodd\" fill-opacity=\"1\" stroke=\"#000000\" stroke-opacity=\"1\" stroke-width=\"3.2\"/>\n",
       "<circle clip-path=\"url(#clip292)\" cx=\"2001.66\" cy=\"993.136\" r=\"14\" fill=\"#009af9\" fill-rule=\"evenodd\" fill-opacity=\"1\" stroke=\"#000000\" stroke-opacity=\"1\" stroke-width=\"3.2\"/>\n",
       "<circle clip-path=\"url(#clip292)\" cx=\"2290.39\" cy=\"427.411\" r=\"14\" fill=\"#009af9\" fill-rule=\"evenodd\" fill-opacity=\"1\" stroke=\"#000000\" stroke-opacity=\"1\" stroke-width=\"3.2\"/>\n",
       "<circle clip-path=\"url(#clip292)\" cx=\"1424.19\" cy=\"993.136\" r=\"14\" fill=\"#009af9\" fill-rule=\"evenodd\" fill-opacity=\"1\" stroke=\"#000000\" stroke-opacity=\"1\" stroke-width=\"3.2\"/>\n",
       "<circle clip-path=\"url(#clip292)\" cx=\"1366.44\" cy=\"993.136\" r=\"14\" fill=\"#009af9\" fill-rule=\"evenodd\" fill-opacity=\"1\" stroke=\"#000000\" stroke-opacity=\"1\" stroke-width=\"3.2\"/>\n",
       "<circle clip-path=\"url(#clip292)\" cx=\"1250.95\" cy=\"1106.28\" r=\"14\" fill=\"#009af9\" fill-rule=\"evenodd\" fill-opacity=\"1\" stroke=\"#000000\" stroke-opacity=\"1\" stroke-width=\"3.2\"/>\n",
       "<circle clip-path=\"url(#clip292)\" cx=\"2174.9\" cy=\"879.991\" r=\"14\" fill=\"#009af9\" fill-rule=\"evenodd\" fill-opacity=\"1\" stroke=\"#000000\" stroke-opacity=\"1\" stroke-width=\"3.2\"/>\n",
       "<circle clip-path=\"url(#clip292)\" cx=\"1366.44\" cy=\"653.701\" r=\"14\" fill=\"#009af9\" fill-rule=\"evenodd\" fill-opacity=\"1\" stroke=\"#000000\" stroke-opacity=\"1\" stroke-width=\"3.2\"/>\n",
       "<circle clip-path=\"url(#clip292)\" cx=\"1424.19\" cy=\"823.418\" r=\"14\" fill=\"#009af9\" fill-rule=\"evenodd\" fill-opacity=\"1\" stroke=\"#000000\" stroke-opacity=\"1\" stroke-width=\"3.2\"/>\n",
       "<circle clip-path=\"url(#clip292)\" cx=\"1193.2\" cy=\"879.991\" r=\"14\" fill=\"#009af9\" fill-rule=\"evenodd\" fill-opacity=\"1\" stroke=\"#000000\" stroke-opacity=\"1\" stroke-width=\"3.2\"/>\n",
       "<circle clip-path=\"url(#clip292)\" cx=\"1712.92\" cy=\"823.418\" r=\"14\" fill=\"#009af9\" fill-rule=\"evenodd\" fill-opacity=\"1\" stroke=\"#000000\" stroke-opacity=\"1\" stroke-width=\"3.2\"/>\n",
       "<circle clip-path=\"url(#clip292)\" cx=\"1597.43\" cy=\"823.418\" r=\"14\" fill=\"#009af9\" fill-rule=\"evenodd\" fill-opacity=\"1\" stroke=\"#000000\" stroke-opacity=\"1\" stroke-width=\"3.2\"/>\n",
       "<circle clip-path=\"url(#clip292)\" cx=\"1712.92\" cy=\"823.418\" r=\"14\" fill=\"#009af9\" fill-rule=\"evenodd\" fill-opacity=\"1\" stroke=\"#000000\" stroke-opacity=\"1\" stroke-width=\"3.2\"/>\n",
       "<circle clip-path=\"url(#clip292)\" cx=\"1077.71\" cy=\"1049.71\" r=\"14\" fill=\"#009af9\" fill-rule=\"evenodd\" fill-opacity=\"1\" stroke=\"#000000\" stroke-opacity=\"1\" stroke-width=\"3.2\"/>\n",
       "<circle clip-path=\"url(#clip292)\" cx=\"1655.18\" cy=\"766.846\" r=\"14\" fill=\"#009af9\" fill-rule=\"evenodd\" fill-opacity=\"1\" stroke=\"#000000\" stroke-opacity=\"1\" stroke-width=\"3.2\"/>\n",
       "<circle clip-path=\"url(#clip292)\" cx=\"1597.43\" cy=\"710.274\" r=\"14\" fill=\"#009af9\" fill-rule=\"evenodd\" fill-opacity=\"1\" stroke=\"#000000\" stroke-opacity=\"1\" stroke-width=\"3.2\"/>\n",
       "<circle clip-path=\"url(#clip292)\" cx=\"1597.43\" cy=\"879.991\" r=\"14\" fill=\"#009af9\" fill-rule=\"evenodd\" fill-opacity=\"1\" stroke=\"#000000\" stroke-opacity=\"1\" stroke-width=\"3.2\"/>\n",
       "<circle clip-path=\"url(#clip292)\" cx=\"1366.44\" cy=\"1162.85\" r=\"14\" fill=\"#009af9\" fill-rule=\"evenodd\" fill-opacity=\"1\" stroke=\"#000000\" stroke-opacity=\"1\" stroke-width=\"3.2\"/>\n",
       "<circle clip-path=\"url(#clip292)\" cx=\"1481.94\" cy=\"879.991\" r=\"14\" fill=\"#009af9\" fill-rule=\"evenodd\" fill-opacity=\"1\" stroke=\"#000000\" stroke-opacity=\"1\" stroke-width=\"3.2\"/>\n",
       "<circle clip-path=\"url(#clip292)\" cx=\"1308.7\" cy=\"653.701\" r=\"14\" fill=\"#009af9\" fill-rule=\"evenodd\" fill-opacity=\"1\" stroke=\"#000000\" stroke-opacity=\"1\" stroke-width=\"3.2\"/>\n",
       "<circle clip-path=\"url(#clip292)\" cx=\"1135.46\" cy=\"879.991\" r=\"14\" fill=\"#009af9\" fill-rule=\"evenodd\" fill-opacity=\"1\" stroke=\"#000000\" stroke-opacity=\"1\" stroke-width=\"3.2\"/>\n",
       "<path clip-path=\"url(#clip290)\" d=\"\n",
       "M1989.74 251.724 L2280.76 251.724 L2280.76 130.764 L1989.74 130.764  Z\n",
       "  \" fill=\"#ffffff\" fill-rule=\"evenodd\" fill-opacity=\"1\"/>\n",
       "<polyline clip-path=\"url(#clip290)\" style=\"stroke:#000000; stroke-width:4; stroke-opacity:1; fill:none\" points=\"\n",
       "  1989.74,251.724 2280.76,251.724 2280.76,130.764 1989.74,130.764 1989.74,251.724 \n",
       "  \"/>\n",
       "<circle clip-path=\"url(#clip290)\" cx=\"2097.74\" cy=\"191.244\" r=\"23\" fill=\"#009af9\" fill-rule=\"evenodd\" fill-opacity=\"1\" stroke=\"#000000\" stroke-opacity=\"1\" stroke-width=\"5.12\"/>\n",
       "<path clip-path=\"url(#clip290)\" d=\"M 0 0 M2195.58 210.931 Q2193.77 215.561 2192.06 216.973 Q2190.35 218.385 2187.48 218.385 L2184.08 218.385 L2184.08 214.82 L2186.58 214.82 Q2188.33 214.82 2189.31 213.987 Q2190.28 213.154 2191.46 210.052 L2192.22 208.107 L2181.74 182.598 L2186.25 182.598 L2194.35 202.876 L2202.46 182.598 L2206.97 182.598 L2195.58 210.931 Z\" fill=\"#000000\" fill-rule=\"evenodd\" fill-opacity=\"1\" /><path clip-path=\"url(#clip290)\" d=\"M 0 0 M2212.85 204.589 L2220.49 204.589 L2220.49 178.223 L2212.18 179.89 L2212.18 175.631 L2220.44 173.964 L2225.12 173.964 L2225.12 204.589 L2232.76 204.589 L2232.76 208.524 L2212.85 208.524 L2212.85 204.589 Z\" fill=\"#000000\" fill-rule=\"evenodd\" fill-opacity=\"1\" /></svg>\n"
      ]
     },
     "execution_count": 14,
     "metadata": {},
     "output_type": "execute_result"
    }
   ],
   "source": [
    "@df iris scatter(:SepalLength,:SepalWidth)"
   ]
  },
  {
   "cell_type": "code",
   "execution_count": 15,
   "metadata": {},
   "outputs": [
    {
     "data": {
      "image/svg+xml": [
       "<?xml version=\"1.0\" encoding=\"utf-8\"?>\n",
       "<svg xmlns=\"http://www.w3.org/2000/svg\" xmlns:xlink=\"http://www.w3.org/1999/xlink\" width=\"600\" height=\"400\" viewBox=\"0 0 2400 1600\">\n",
       "<defs>\n",
       "  <clipPath id=\"clip330\">\n",
       "    <rect x=\"0\" y=\"0\" width=\"2400\" height=\"1600\"/>\n",
       "  </clipPath>\n",
       "</defs>\n",
       "<path clip-path=\"url(#clip330)\" d=\"\n",
       "M0 1600 L2400 1600 L2400 0 L0 0  Z\n",
       "  \" fill=\"#ffffff\" fill-rule=\"evenodd\" fill-opacity=\"1\"/>\n",
       "<defs>\n",
       "  <clipPath id=\"clip331\">\n",
       "    <rect x=\"480\" y=\"0\" width=\"1681\" height=\"1600\"/>\n",
       "  </clipPath>\n",
       "</defs>\n",
       "<path clip-path=\"url(#clip330)\" d=\"\n",
       "M149.145 1486.45 L2352.76 1486.45 L2352.76 47.2441 L149.145 47.2441  Z\n",
       "  \" fill=\"#ffffff\" fill-rule=\"evenodd\" fill-opacity=\"1\"/>\n",
       "<defs>\n",
       "  <clipPath id=\"clip332\">\n",
       "    <rect x=\"149\" y=\"47\" width=\"2205\" height=\"1440\"/>\n",
       "  </clipPath>\n",
       "</defs>\n",
       "<polyline clip-path=\"url(#clip332)\" style=\"stroke:#000000; stroke-width:2; stroke-opacity:0.1; fill:none\" points=\"\n",
       "  615.737,1486.45 615.737,47.2441 \n",
       "  \"/>\n",
       "<polyline clip-path=\"url(#clip332)\" style=\"stroke:#000000; stroke-width:2; stroke-opacity:0.1; fill:none\" points=\"\n",
       "  1193.2,1486.45 1193.2,47.2441 \n",
       "  \"/>\n",
       "<polyline clip-path=\"url(#clip332)\" style=\"stroke:#000000; stroke-width:2; stroke-opacity:0.1; fill:none\" points=\"\n",
       "  1770.67,1486.45 1770.67,47.2441 \n",
       "  \"/>\n",
       "<polyline clip-path=\"url(#clip332)\" style=\"stroke:#000000; stroke-width:2; stroke-opacity:0.1; fill:none\" points=\"\n",
       "  2348.14,1486.45 2348.14,47.2441 \n",
       "  \"/>\n",
       "<polyline clip-path=\"url(#clip332)\" style=\"stroke:#000000; stroke-width:2; stroke-opacity:0.1; fill:none\" points=\"\n",
       "  149.145,1445.72 2352.76,1445.72 \n",
       "  \"/>\n",
       "<polyline clip-path=\"url(#clip332)\" style=\"stroke:#000000; stroke-width:2; stroke-opacity:0.1; fill:none\" points=\"\n",
       "  149.145,1162.85 2352.76,1162.85 \n",
       "  \"/>\n",
       "<polyline clip-path=\"url(#clip332)\" style=\"stroke:#000000; stroke-width:2; stroke-opacity:0.1; fill:none\" points=\"\n",
       "  149.145,879.991 2352.76,879.991 \n",
       "  \"/>\n",
       "<polyline clip-path=\"url(#clip332)\" style=\"stroke:#000000; stroke-width:2; stroke-opacity:0.1; fill:none\" points=\"\n",
       "  149.145,597.129 2352.76,597.129 \n",
       "  \"/>\n",
       "<polyline clip-path=\"url(#clip332)\" style=\"stroke:#000000; stroke-width:2; stroke-opacity:0.1; fill:none\" points=\"\n",
       "  149.145,314.266 2352.76,314.266 \n",
       "  \"/>\n",
       "<polyline clip-path=\"url(#clip330)\" style=\"stroke:#000000; stroke-width:4; stroke-opacity:1; fill:none\" points=\"\n",
       "  149.145,1486.45 2352.76,1486.45 \n",
       "  \"/>\n",
       "<polyline clip-path=\"url(#clip330)\" style=\"stroke:#000000; stroke-width:4; stroke-opacity:1; fill:none\" points=\"\n",
       "  149.145,1486.45 149.145,47.2441 \n",
       "  \"/>\n",
       "<polyline clip-path=\"url(#clip330)\" style=\"stroke:#000000; stroke-width:4; stroke-opacity:1; fill:none\" points=\"\n",
       "  615.737,1486.45 615.737,1469.18 \n",
       "  \"/>\n",
       "<polyline clip-path=\"url(#clip330)\" style=\"stroke:#000000; stroke-width:4; stroke-opacity:1; fill:none\" points=\"\n",
       "  1193.2,1486.45 1193.2,1469.18 \n",
       "  \"/>\n",
       "<polyline clip-path=\"url(#clip330)\" style=\"stroke:#000000; stroke-width:4; stroke-opacity:1; fill:none\" points=\"\n",
       "  1770.67,1486.45 1770.67,1469.18 \n",
       "  \"/>\n",
       "<polyline clip-path=\"url(#clip330)\" style=\"stroke:#000000; stroke-width:4; stroke-opacity:1; fill:none\" points=\"\n",
       "  2348.14,1486.45 2348.14,1469.18 \n",
       "  \"/>\n",
       "<polyline clip-path=\"url(#clip330)\" style=\"stroke:#000000; stroke-width:4; stroke-opacity:1; fill:none\" points=\"\n",
       "  149.145,1445.72 175.588,1445.72 \n",
       "  \"/>\n",
       "<polyline clip-path=\"url(#clip330)\" style=\"stroke:#000000; stroke-width:4; stroke-opacity:1; fill:none\" points=\"\n",
       "  149.145,1162.85 175.588,1162.85 \n",
       "  \"/>\n",
       "<polyline clip-path=\"url(#clip330)\" style=\"stroke:#000000; stroke-width:4; stroke-opacity:1; fill:none\" points=\"\n",
       "  149.145,879.991 175.588,879.991 \n",
       "  \"/>\n",
       "<polyline clip-path=\"url(#clip330)\" style=\"stroke:#000000; stroke-width:4; stroke-opacity:1; fill:none\" points=\"\n",
       "  149.145,597.129 175.588,597.129 \n",
       "  \"/>\n",
       "<polyline clip-path=\"url(#clip330)\" style=\"stroke:#000000; stroke-width:4; stroke-opacity:1; fill:none\" points=\"\n",
       "  149.145,314.266 175.588,314.266 \n",
       "  \"/>\n",
       "<path clip-path=\"url(#clip330)\" d=\"M 0 0 M606.015 1505.36 L624.372 1505.36 L624.372 1509.3 L610.298 1509.3 L610.298 1517.77 Q611.316 1517.42 612.335 1517.26 Q613.353 1517.07 614.372 1517.07 Q620.159 1517.07 623.538 1520.24 Q626.918 1523.42 626.918 1528.83 Q626.918 1534.41 623.446 1537.51 Q619.973 1540.59 613.654 1540.59 Q611.478 1540.59 609.21 1540.22 Q606.964 1539.85 604.557 1539.11 L604.557 1534.41 Q606.64 1535.54 608.862 1536.1 Q611.085 1536.66 613.561 1536.66 Q617.566 1536.66 619.904 1534.55 Q622.242 1532.44 622.242 1528.83 Q622.242 1525.22 619.904 1523.11 Q617.566 1521.01 613.561 1521.01 Q611.686 1521.01 609.811 1521.42 Q607.96 1521.84 606.015 1522.72 L606.015 1505.36 Z\" fill=\"#000000\" fill-rule=\"evenodd\" fill-opacity=\"1\" /><path clip-path=\"url(#clip330)\" d=\"M 0 0 M1193.61 1520.78 Q1190.46 1520.78 1188.61 1522.93 Q1186.78 1525.08 1186.78 1528.83 Q1186.78 1532.56 1188.61 1534.73 Q1190.46 1536.89 1193.61 1536.89 Q1196.76 1536.89 1198.59 1534.73 Q1200.44 1532.56 1200.44 1528.83 Q1200.44 1525.08 1198.59 1522.93 Q1196.76 1520.78 1193.61 1520.78 M1202.89 1506.12 L1202.89 1510.38 Q1201.13 1509.55 1199.33 1509.11 Q1197.54 1508.67 1195.78 1508.67 Q1191.16 1508.67 1188.7 1511.8 Q1186.27 1514.92 1185.92 1521.24 Q1187.29 1519.23 1189.35 1518.16 Q1191.41 1517.07 1193.89 1517.07 Q1199.09 1517.07 1202.1 1520.24 Q1205.14 1523.39 1205.14 1528.83 Q1205.14 1534.16 1201.99 1537.37 Q1198.84 1540.59 1193.61 1540.59 Q1187.61 1540.59 1184.44 1536.01 Q1181.27 1531.4 1181.27 1522.67 Q1181.27 1514.48 1185.16 1509.62 Q1189.05 1504.73 1195.6 1504.73 Q1197.36 1504.73 1199.14 1505.08 Q1200.95 1505.43 1202.89 1506.12 Z\" fill=\"#000000\" fill-rule=\"evenodd\" fill-opacity=\"1\" /><path clip-path=\"url(#clip330)\" d=\"M 0 0 M1759.56 1505.36 L1781.78 1505.36 L1781.78 1507.35 L1769.23 1539.92 L1764.35 1539.92 L1776.16 1509.3 L1759.56 1509.3 L1759.56 1505.36 Z\" fill=\"#000000\" fill-rule=\"evenodd\" fill-opacity=\"1\" /><path clip-path=\"url(#clip330)\" d=\"M 0 0 M2348.14 1523.51 Q2344.8 1523.51 2342.88 1525.29 Q2340.98 1527.07 2340.98 1530.2 Q2340.98 1533.32 2342.88 1535.11 Q2344.8 1536.89 2348.14 1536.89 Q2351.47 1536.89 2353.39 1535.11 Q2355.31 1533.3 2355.31 1530.2 Q2355.31 1527.07 2353.39 1525.29 Q2351.49 1523.51 2348.14 1523.51 M2343.46 1521.52 Q2340.45 1520.78 2338.76 1518.72 Q2337.09 1516.66 2337.09 1513.69 Q2337.09 1509.55 2340.03 1507.14 Q2343 1504.73 2348.14 1504.73 Q2353.3 1504.73 2356.24 1507.14 Q2359.18 1509.55 2359.18 1513.69 Q2359.18 1516.66 2357.49 1518.72 Q2355.82 1520.78 2352.84 1521.52 Q2356.21 1522.3 2358.09 1524.6 Q2359.99 1526.89 2359.99 1530.2 Q2359.99 1535.22 2356.91 1537.91 Q2353.85 1540.59 2348.14 1540.59 Q2342.42 1540.59 2339.34 1537.91 Q2336.28 1535.22 2336.28 1530.2 Q2336.28 1526.89 2338.18 1524.6 Q2340.08 1522.3 2343.46 1521.52 M2341.75 1514.13 Q2341.75 1516.82 2343.41 1518.32 Q2345.1 1519.83 2348.14 1519.83 Q2351.15 1519.83 2352.84 1518.32 Q2354.55 1516.82 2354.55 1514.13 Q2354.55 1511.45 2352.84 1509.94 Q2351.15 1508.44 2348.14 1508.44 Q2345.1 1508.44 2343.41 1509.94 Q2341.75 1511.45 2341.75 1514.13 Z\" fill=\"#000000\" fill-rule=\"evenodd\" fill-opacity=\"1\" /><path clip-path=\"url(#clip330)\" d=\"M 0 0 M71.8578 1459.06 L88.1772 1459.06 L88.1772 1463 L66.2328 1463 L66.2328 1459.06 Q68.8949 1456.31 73.4782 1451.68 Q78.0846 1447.02 79.2652 1445.68 Q81.5105 1443.16 82.3902 1441.42 Q83.2929 1439.66 83.2929 1437.97 Q83.2929 1435.22 81.3485 1433.48 Q79.4272 1431.75 76.3254 1431.75 Q74.1263 1431.75 71.6726 1432.51 Q69.2421 1433.27 66.4643 1434.82 L66.4643 1430.1 Q69.2884 1428.97 71.7421 1428.39 Q74.1958 1427.81 76.2328 1427.81 Q81.6031 1427.81 84.7976 1430.5 Q87.992 1433.18 87.992 1437.67 Q87.992 1439.8 87.1818 1441.72 Q86.3948 1443.62 84.2883 1446.21 Q83.7096 1446.88 80.6078 1450.1 Q77.5059 1453.3 71.8578 1459.06 Z\" fill=\"#000000\" fill-rule=\"evenodd\" fill-opacity=\"1\" /><path clip-path=\"url(#clip330)\" d=\"M 0 0 M93.2466 1457.12 L98.1308 1457.12 L98.1308 1463 L93.2466 1463 L93.2466 1457.12 Z\" fill=\"#000000\" fill-rule=\"evenodd\" fill-opacity=\"1\" /><path clip-path=\"url(#clip330)\" d=\"M 0 0 M113.2 1431.51 Q109.589 1431.51 107.76 1435.08 Q105.955 1438.62 105.955 1445.75 Q105.955 1452.86 107.76 1456.42 Q109.589 1459.96 113.2 1459.96 Q116.834 1459.96 118.64 1456.42 Q120.469 1452.86 120.469 1445.75 Q120.469 1438.62 118.64 1435.08 Q116.834 1431.51 113.2 1431.51 M113.2 1427.81 Q119.01 1427.81 122.066 1432.42 Q125.145 1437 125.145 1445.75 Q125.145 1454.48 122.066 1459.08 Q119.01 1463.67 113.2 1463.67 Q107.39 1463.67 104.311 1459.08 Q101.256 1454.48 101.256 1445.75 Q101.256 1437 104.311 1432.42 Q107.39 1427.81 113.2 1427.81 Z\" fill=\"#000000\" fill-rule=\"evenodd\" fill-opacity=\"1\" /><path clip-path=\"url(#clip330)\" d=\"M 0 0 M72.8532 1176.2 L89.1725 1176.2 L89.1725 1180.13 L67.2282 1180.13 L67.2282 1176.2 Q69.8902 1173.44 74.4735 1168.81 Q79.08 1164.16 80.2606 1162.82 Q82.5059 1160.3 83.3855 1158.56 Q84.2883 1156.8 84.2883 1155.11 Q84.2883 1152.36 82.3439 1150.62 Q80.4226 1148.88 77.3208 1148.88 Q75.1217 1148.88 72.668 1149.65 Q70.2375 1150.41 67.4597 1151.96 L67.4597 1147.24 Q70.2838 1146.11 72.7374 1145.53 Q75.1911 1144.95 77.2282 1144.95 Q82.5985 1144.95 85.7929 1147.63 Q88.9874 1150.32 88.9874 1154.81 Q88.9874 1156.94 88.1772 1158.86 Q87.3901 1160.76 85.2837 1163.35 Q84.705 1164.02 81.6031 1167.24 Q78.5013 1170.43 72.8532 1176.2 Z\" fill=\"#000000\" fill-rule=\"evenodd\" fill-opacity=\"1\" /><path clip-path=\"url(#clip330)\" d=\"M 0 0 M94.242 1174.25 L99.1262 1174.25 L99.1262 1180.13 L94.242 1180.13 L94.242 1174.25 Z\" fill=\"#000000\" fill-rule=\"evenodd\" fill-opacity=\"1\" /><path clip-path=\"url(#clip330)\" d=\"M 0 0 M104.242 1145.57 L122.598 1145.57 L122.598 1149.51 L108.524 1149.51 L108.524 1157.98 Q109.543 1157.63 110.561 1157.47 Q111.58 1157.29 112.598 1157.29 Q118.385 1157.29 121.765 1160.46 Q125.145 1163.63 125.145 1169.05 Q125.145 1174.62 121.672 1177.73 Q118.2 1180.8 111.881 1180.8 Q109.705 1180.8 107.436 1180.43 Q105.191 1180.06 102.784 1179.32 L102.784 1174.62 Q104.867 1175.76 107.089 1176.31 Q109.311 1176.87 111.788 1176.87 Q115.793 1176.87 118.131 1174.76 Q120.469 1172.66 120.469 1169.05 Q120.469 1165.43 118.131 1163.33 Q115.793 1161.22 111.788 1161.22 Q109.913 1161.22 108.038 1161.64 Q106.186 1162.05 104.242 1162.93 L104.242 1145.57 Z\" fill=\"#000000\" fill-rule=\"evenodd\" fill-opacity=\"1\" /><path clip-path=\"url(#clip330)\" d=\"M 0 0 M81.0476 878.637 Q84.404 879.354 86.279 881.623 Q88.1772 883.891 88.1772 887.225 Q88.1772 892.34 84.6587 895.141 Q81.1402 897.942 74.6587 897.942 Q72.4828 897.942 70.168 897.502 Q67.8764 897.086 65.4227 896.229 L65.4227 891.715 Q67.3671 892.85 69.6819 893.428 Q71.9967 894.007 74.5198 894.007 Q78.918 894.007 81.2096 892.271 Q83.5244 890.535 83.5244 887.225 Q83.5244 884.169 81.3717 882.456 Q79.242 880.72 75.4226 880.72 L71.3949 880.72 L71.3949 876.878 L75.6078 876.878 Q79.0569 876.878 80.8855 875.512 Q82.7142 874.123 82.7142 871.53 Q82.7142 868.868 80.8161 867.456 Q78.9411 866.021 75.4226 866.021 Q73.5013 866.021 71.3023 866.438 Q69.1032 866.854 66.4643 867.734 L66.4643 863.567 Q69.1264 862.827 71.4412 862.456 Q73.7791 862.086 75.8393 862.086 Q81.1633 862.086 84.2652 864.516 Q87.367 866.924 87.367 871.044 Q87.367 873.915 85.7235 875.905 Q84.08 877.873 81.0476 878.637 Z\" fill=\"#000000\" fill-rule=\"evenodd\" fill-opacity=\"1\" /><path clip-path=\"url(#clip330)\" d=\"M 0 0 M93.2466 891.391 L98.1308 891.391 L98.1308 897.271 L93.2466 897.271 L93.2466 891.391 Z\" fill=\"#000000\" fill-rule=\"evenodd\" fill-opacity=\"1\" /><path clip-path=\"url(#clip330)\" d=\"M 0 0 M113.2 865.79 Q109.589 865.79 107.76 869.354 Q105.955 872.896 105.955 880.026 Q105.955 887.132 107.76 890.697 Q109.589 894.239 113.2 894.239 Q116.834 894.239 118.64 890.697 Q120.469 887.132 120.469 880.026 Q120.469 872.896 118.64 869.354 Q116.834 865.79 113.2 865.79 M113.2 862.086 Q119.01 862.086 122.066 866.692 Q125.145 871.276 125.145 880.026 Q125.145 888.752 122.066 893.359 Q119.01 897.942 113.2 897.942 Q107.39 897.942 104.311 893.359 Q101.256 888.752 101.256 880.026 Q101.256 871.276 104.311 866.692 Q107.39 862.086 113.2 862.086 Z\" fill=\"#000000\" fill-rule=\"evenodd\" fill-opacity=\"1\" /><path clip-path=\"url(#clip330)\" d=\"M 0 0 M82.0429 595.774 Q85.3994 596.492 87.2744 598.76 Q89.1725 601.029 89.1725 604.362 Q89.1725 609.478 85.654 612.279 Q82.1355 615.08 75.6541 615.08 Q73.4782 615.08 71.1634 614.64 Q68.8717 614.223 66.418 613.367 L66.418 608.853 Q68.3625 609.987 70.6773 610.566 Q72.9921 611.145 75.5152 611.145 Q79.9133 611.145 82.205 609.409 Q84.5198 607.672 84.5198 604.362 Q84.5198 601.307 82.367 599.594 Q80.2374 597.858 76.418 597.858 L72.3902 597.858 L72.3902 594.015 L76.6032 594.015 Q80.0522 594.015 81.8809 592.649 Q83.7096 591.261 83.7096 588.668 Q83.7096 586.006 81.8115 584.594 Q79.9365 583.159 76.418 583.159 Q74.4967 583.159 72.2976 583.575 Q70.0986 583.992 67.4597 584.872 L67.4597 580.705 Q70.1217 579.964 72.4365 579.594 Q74.7745 579.224 76.8346 579.224 Q82.1587 579.224 85.2605 581.654 Q88.3624 584.061 88.3624 588.182 Q88.3624 591.052 86.7189 593.043 Q85.0753 595.011 82.0429 595.774 Z\" fill=\"#000000\" fill-rule=\"evenodd\" fill-opacity=\"1\" /><path clip-path=\"url(#clip330)\" d=\"M 0 0 M94.242 608.529 L99.1262 608.529 L99.1262 614.409 L94.242 614.409 L94.242 608.529 Z\" fill=\"#000000\" fill-rule=\"evenodd\" fill-opacity=\"1\" /><path clip-path=\"url(#clip330)\" d=\"M 0 0 M104.242 579.849 L122.598 579.849 L122.598 583.784 L108.524 583.784 L108.524 592.256 Q109.543 591.909 110.561 591.747 Q111.58 591.561 112.598 591.561 Q118.385 591.561 121.765 594.733 Q125.145 597.904 125.145 603.321 Q125.145 608.899 121.672 612.001 Q118.2 615.08 111.881 615.08 Q109.705 615.08 107.436 614.709 Q105.191 614.339 102.784 613.598 L102.784 608.899 Q104.867 610.034 107.089 610.589 Q109.311 611.145 111.788 611.145 Q115.793 611.145 118.131 609.038 Q120.469 606.932 120.469 603.321 Q120.469 599.71 118.131 597.603 Q115.793 595.497 111.788 595.497 Q109.913 595.497 108.038 595.913 Q106.186 596.33 104.242 597.21 L104.242 579.849 Z\" fill=\"#000000\" fill-rule=\"evenodd\" fill-opacity=\"1\" /><path clip-path=\"url(#clip330)\" d=\"M 0 0 M78.5939 301.06 L66.7884 319.509 L78.5939 319.509 L78.5939 301.06 M77.367 296.986 L83.2466 296.986 L83.2466 319.509 L88.1772 319.509 L88.1772 323.398 L83.2466 323.398 L83.2466 331.546 L78.5939 331.546 L78.5939 323.398 L62.9921 323.398 L62.9921 318.884 L77.367 296.986 Z\" fill=\"#000000\" fill-rule=\"evenodd\" fill-opacity=\"1\" /><path clip-path=\"url(#clip330)\" d=\"M 0 0 M93.2466 325.667 L98.1308 325.667 L98.1308 331.546 L93.2466 331.546 L93.2466 325.667 Z\" fill=\"#000000\" fill-rule=\"evenodd\" fill-opacity=\"1\" /><path clip-path=\"url(#clip330)\" d=\"M 0 0 M113.2 300.065 Q109.589 300.065 107.76 303.63 Q105.955 307.171 105.955 314.301 Q105.955 321.407 107.76 324.972 Q109.589 328.514 113.2 328.514 Q116.834 328.514 118.64 324.972 Q120.469 321.407 120.469 314.301 Q120.469 307.171 118.64 303.63 Q116.834 300.065 113.2 300.065 M113.2 296.361 Q119.01 296.361 122.066 300.968 Q125.145 305.551 125.145 314.301 Q125.145 323.028 122.066 327.634 Q119.01 332.217 113.2 332.217 Q107.39 332.217 104.311 327.634 Q101.256 323.028 101.256 314.301 Q101.256 305.551 104.311 300.968 Q107.39 296.361 113.2 296.361 Z\" fill=\"#000000\" fill-rule=\"evenodd\" fill-opacity=\"1\" /><circle clip-path=\"url(#clip332)\" cx=\"673.484\" cy=\"597.129\" r=\"14\" fill=\"#009af9\" fill-rule=\"evenodd\" fill-opacity=\"1\" stroke=\"#000000\" stroke-opacity=\"1\" stroke-width=\"3.2\"/>\n",
       "<circle clip-path=\"url(#clip332)\" cx=\"557.991\" cy=\"879.991\" r=\"14\" fill=\"#009af9\" fill-rule=\"evenodd\" fill-opacity=\"1\" stroke=\"#000000\" stroke-opacity=\"1\" stroke-width=\"3.2\"/>\n",
       "<circle clip-path=\"url(#clip332)\" cx=\"442.497\" cy=\"766.846\" r=\"14\" fill=\"#009af9\" fill-rule=\"evenodd\" fill-opacity=\"1\" stroke=\"#000000\" stroke-opacity=\"1\" stroke-width=\"3.2\"/>\n",
       "<circle clip-path=\"url(#clip332)\" cx=\"384.751\" cy=\"823.418\" r=\"14\" fill=\"#009af9\" fill-rule=\"evenodd\" fill-opacity=\"1\" stroke=\"#000000\" stroke-opacity=\"1\" stroke-width=\"3.2\"/>\n",
       "<circle clip-path=\"url(#clip332)\" cx=\"615.737\" cy=\"540.556\" r=\"14\" fill=\"#009af9\" fill-rule=\"evenodd\" fill-opacity=\"1\" stroke=\"#000000\" stroke-opacity=\"1\" stroke-width=\"3.2\"/>\n",
       "<circle clip-path=\"url(#clip332)\" cx=\"846.724\" cy=\"370.839\" r=\"14\" fill=\"#009af9\" fill-rule=\"evenodd\" fill-opacity=\"1\" stroke=\"#000000\" stroke-opacity=\"1\" stroke-width=\"3.2\"/>\n",
       "<circle clip-path=\"url(#clip332)\" cx=\"384.751\" cy=\"653.701\" r=\"14\" fill=\"#009af9\" fill-rule=\"evenodd\" fill-opacity=\"1\" stroke=\"#000000\" stroke-opacity=\"1\" stroke-width=\"3.2\"/>\n",
       "<circle clip-path=\"url(#clip332)\" cx=\"615.737\" cy=\"653.701\" r=\"14\" fill=\"#009af9\" fill-rule=\"evenodd\" fill-opacity=\"1\" stroke=\"#000000\" stroke-opacity=\"1\" stroke-width=\"3.2\"/>\n",
       "<circle clip-path=\"url(#clip332)\" cx=\"269.258\" cy=\"936.563\" r=\"14\" fill=\"#009af9\" fill-rule=\"evenodd\" fill-opacity=\"1\" stroke=\"#000000\" stroke-opacity=\"1\" stroke-width=\"3.2\"/>\n",
       "<circle clip-path=\"url(#clip332)\" cx=\"557.991\" cy=\"823.418\" r=\"14\" fill=\"#009af9\" fill-rule=\"evenodd\" fill-opacity=\"1\" stroke=\"#000000\" stroke-opacity=\"1\" stroke-width=\"3.2\"/>\n",
       "<circle clip-path=\"url(#clip332)\" cx=\"846.724\" cy=\"483.984\" r=\"14\" fill=\"#009af9\" fill-rule=\"evenodd\" fill-opacity=\"1\" stroke=\"#000000\" stroke-opacity=\"1\" stroke-width=\"3.2\"/>\n",
       "<circle clip-path=\"url(#clip332)\" cx=\"500.244\" cy=\"653.701\" r=\"14\" fill=\"#009af9\" fill-rule=\"evenodd\" fill-opacity=\"1\" stroke=\"#000000\" stroke-opacity=\"1\" stroke-width=\"3.2\"/>\n",
       "<circle clip-path=\"url(#clip332)\" cx=\"500.244\" cy=\"879.991\" r=\"14\" fill=\"#009af9\" fill-rule=\"evenodd\" fill-opacity=\"1\" stroke=\"#000000\" stroke-opacity=\"1\" stroke-width=\"3.2\"/>\n",
       "<circle clip-path=\"url(#clip332)\" cx=\"211.511\" cy=\"879.991\" r=\"14\" fill=\"#009af9\" fill-rule=\"evenodd\" fill-opacity=\"1\" stroke=\"#000000\" stroke-opacity=\"1\" stroke-width=\"3.2\"/>\n",
       "<circle clip-path=\"url(#clip332)\" cx=\"1077.71\" cy=\"314.266\" r=\"14\" fill=\"#009af9\" fill-rule=\"evenodd\" fill-opacity=\"1\" stroke=\"#000000\" stroke-opacity=\"1\" stroke-width=\"3.2\"/>\n",
       "<circle clip-path=\"url(#clip332)\" cx=\"1019.96\" cy=\"87.9763\" r=\"14\" fill=\"#009af9\" fill-rule=\"evenodd\" fill-opacity=\"1\" stroke=\"#000000\" stroke-opacity=\"1\" stroke-width=\"3.2\"/>\n",
       "<circle clip-path=\"url(#clip332)\" cx=\"846.724\" cy=\"370.839\" r=\"14\" fill=\"#009af9\" fill-rule=\"evenodd\" fill-opacity=\"1\" stroke=\"#000000\" stroke-opacity=\"1\" stroke-width=\"3.2\"/>\n",
       "<circle clip-path=\"url(#clip332)\" cx=\"673.484\" cy=\"597.129\" r=\"14\" fill=\"#009af9\" fill-rule=\"evenodd\" fill-opacity=\"1\" stroke=\"#000000\" stroke-opacity=\"1\" stroke-width=\"3.2\"/>\n",
       "<circle clip-path=\"url(#clip332)\" cx=\"1019.96\" cy=\"427.411\" r=\"14\" fill=\"#009af9\" fill-rule=\"evenodd\" fill-opacity=\"1\" stroke=\"#000000\" stroke-opacity=\"1\" stroke-width=\"3.2\"/>\n",
       "<circle clip-path=\"url(#clip332)\" cx=\"673.484\" cy=\"427.411\" r=\"14\" fill=\"#009af9\" fill-rule=\"evenodd\" fill-opacity=\"1\" stroke=\"#000000\" stroke-opacity=\"1\" stroke-width=\"3.2\"/>\n",
       "<circle clip-path=\"url(#clip332)\" cx=\"846.724\" cy=\"653.701\" r=\"14\" fill=\"#009af9\" fill-rule=\"evenodd\" fill-opacity=\"1\" stroke=\"#000000\" stroke-opacity=\"1\" stroke-width=\"3.2\"/>\n",
       "<circle clip-path=\"url(#clip332)\" cx=\"673.484\" cy=\"483.984\" r=\"14\" fill=\"#009af9\" fill-rule=\"evenodd\" fill-opacity=\"1\" stroke=\"#000000\" stroke-opacity=\"1\" stroke-width=\"3.2\"/>\n",
       "<circle clip-path=\"url(#clip332)\" cx=\"384.751\" cy=\"540.556\" r=\"14\" fill=\"#009af9\" fill-rule=\"evenodd\" fill-opacity=\"1\" stroke=\"#000000\" stroke-opacity=\"1\" stroke-width=\"3.2\"/>\n",
       "<circle clip-path=\"url(#clip332)\" cx=\"673.484\" cy=\"710.274\" r=\"14\" fill=\"#009af9\" fill-rule=\"evenodd\" fill-opacity=\"1\" stroke=\"#000000\" stroke-opacity=\"1\" stroke-width=\"3.2\"/>\n",
       "<circle clip-path=\"url(#clip332)\" cx=\"500.244\" cy=\"653.701\" r=\"14\" fill=\"#009af9\" fill-rule=\"evenodd\" fill-opacity=\"1\" stroke=\"#000000\" stroke-opacity=\"1\" stroke-width=\"3.2\"/>\n",
       "<circle clip-path=\"url(#clip332)\" cx=\"615.737\" cy=\"879.991\" r=\"14\" fill=\"#009af9\" fill-rule=\"evenodd\" fill-opacity=\"1\" stroke=\"#000000\" stroke-opacity=\"1\" stroke-width=\"3.2\"/>\n",
       "<circle clip-path=\"url(#clip332)\" cx=\"615.737\" cy=\"653.701\" r=\"14\" fill=\"#009af9\" fill-rule=\"evenodd\" fill-opacity=\"1\" stroke=\"#000000\" stroke-opacity=\"1\" stroke-width=\"3.2\"/>\n",
       "<circle clip-path=\"url(#clip332)\" cx=\"731.231\" cy=\"597.129\" r=\"14\" fill=\"#009af9\" fill-rule=\"evenodd\" fill-opacity=\"1\" stroke=\"#000000\" stroke-opacity=\"1\" stroke-width=\"3.2\"/>\n",
       "<circle clip-path=\"url(#clip332)\" cx=\"731.231\" cy=\"653.701\" r=\"14\" fill=\"#009af9\" fill-rule=\"evenodd\" fill-opacity=\"1\" stroke=\"#000000\" stroke-opacity=\"1\" stroke-width=\"3.2\"/>\n",
       "<circle clip-path=\"url(#clip332)\" cx=\"442.497\" cy=\"766.846\" r=\"14\" fill=\"#009af9\" fill-rule=\"evenodd\" fill-opacity=\"1\" stroke=\"#000000\" stroke-opacity=\"1\" stroke-width=\"3.2\"/>\n",
       "<circle clip-path=\"url(#clip332)\" cx=\"500.244\" cy=\"823.418\" r=\"14\" fill=\"#009af9\" fill-rule=\"evenodd\" fill-opacity=\"1\" stroke=\"#000000\" stroke-opacity=\"1\" stroke-width=\"3.2\"/>\n",
       "<circle clip-path=\"url(#clip332)\" cx=\"846.724\" cy=\"653.701\" r=\"14\" fill=\"#009af9\" fill-rule=\"evenodd\" fill-opacity=\"1\" stroke=\"#000000\" stroke-opacity=\"1\" stroke-width=\"3.2\"/>\n",
       "<circle clip-path=\"url(#clip332)\" cx=\"731.231\" cy=\"257.694\" r=\"14\" fill=\"#009af9\" fill-rule=\"evenodd\" fill-opacity=\"1\" stroke=\"#000000\" stroke-opacity=\"1\" stroke-width=\"3.2\"/>\n",
       "<circle clip-path=\"url(#clip332)\" cx=\"904.47\" cy=\"201.121\" r=\"14\" fill=\"#009af9\" fill-rule=\"evenodd\" fill-opacity=\"1\" stroke=\"#000000\" stroke-opacity=\"1\" stroke-width=\"3.2\"/>\n",
       "<circle clip-path=\"url(#clip332)\" cx=\"557.991\" cy=\"823.418\" r=\"14\" fill=\"#009af9\" fill-rule=\"evenodd\" fill-opacity=\"1\" stroke=\"#000000\" stroke-opacity=\"1\" stroke-width=\"3.2\"/>\n",
       "<circle clip-path=\"url(#clip332)\" cx=\"615.737\" cy=\"766.846\" r=\"14\" fill=\"#009af9\" fill-rule=\"evenodd\" fill-opacity=\"1\" stroke=\"#000000\" stroke-opacity=\"1\" stroke-width=\"3.2\"/>\n",
       "<circle clip-path=\"url(#clip332)\" cx=\"904.47\" cy=\"597.129\" r=\"14\" fill=\"#009af9\" fill-rule=\"evenodd\" fill-opacity=\"1\" stroke=\"#000000\" stroke-opacity=\"1\" stroke-width=\"3.2\"/>\n",
       "<circle clip-path=\"url(#clip332)\" cx=\"557.991\" cy=\"540.556\" r=\"14\" fill=\"#009af9\" fill-rule=\"evenodd\" fill-opacity=\"1\" stroke=\"#000000\" stroke-opacity=\"1\" stroke-width=\"3.2\"/>\n",
       "<circle clip-path=\"url(#clip332)\" cx=\"269.258\" cy=\"879.991\" r=\"14\" fill=\"#009af9\" fill-rule=\"evenodd\" fill-opacity=\"1\" stroke=\"#000000\" stroke-opacity=\"1\" stroke-width=\"3.2\"/>\n",
       "<circle clip-path=\"url(#clip332)\" cx=\"673.484\" cy=\"653.701\" r=\"14\" fill=\"#009af9\" fill-rule=\"evenodd\" fill-opacity=\"1\" stroke=\"#000000\" stroke-opacity=\"1\" stroke-width=\"3.2\"/>\n",
       "<circle clip-path=\"url(#clip332)\" cx=\"615.737\" cy=\"597.129\" r=\"14\" fill=\"#009af9\" fill-rule=\"evenodd\" fill-opacity=\"1\" stroke=\"#000000\" stroke-opacity=\"1\" stroke-width=\"3.2\"/>\n",
       "<circle clip-path=\"url(#clip332)\" cx=\"327.004\" cy=\"1276\" r=\"14\" fill=\"#009af9\" fill-rule=\"evenodd\" fill-opacity=\"1\" stroke=\"#000000\" stroke-opacity=\"1\" stroke-width=\"3.2\"/>\n",
       "<circle clip-path=\"url(#clip332)\" cx=\"269.258\" cy=\"766.846\" r=\"14\" fill=\"#009af9\" fill-rule=\"evenodd\" fill-opacity=\"1\" stroke=\"#000000\" stroke-opacity=\"1\" stroke-width=\"3.2\"/>\n",
       "<circle clip-path=\"url(#clip332)\" cx=\"615.737\" cy=\"597.129\" r=\"14\" fill=\"#009af9\" fill-rule=\"evenodd\" fill-opacity=\"1\" stroke=\"#000000\" stroke-opacity=\"1\" stroke-width=\"3.2\"/>\n",
       "<circle clip-path=\"url(#clip332)\" cx=\"673.484\" cy=\"427.411\" r=\"14\" fill=\"#009af9\" fill-rule=\"evenodd\" fill-opacity=\"1\" stroke=\"#000000\" stroke-opacity=\"1\" stroke-width=\"3.2\"/>\n",
       "<circle clip-path=\"url(#clip332)\" cx=\"500.244\" cy=\"879.991\" r=\"14\" fill=\"#009af9\" fill-rule=\"evenodd\" fill-opacity=\"1\" stroke=\"#000000\" stroke-opacity=\"1\" stroke-width=\"3.2\"/>\n",
       "<circle clip-path=\"url(#clip332)\" cx=\"673.484\" cy=\"427.411\" r=\"14\" fill=\"#009af9\" fill-rule=\"evenodd\" fill-opacity=\"1\" stroke=\"#000000\" stroke-opacity=\"1\" stroke-width=\"3.2\"/>\n",
       "<circle clip-path=\"url(#clip332)\" cx=\"384.751\" cy=\"766.846\" r=\"14\" fill=\"#009af9\" fill-rule=\"evenodd\" fill-opacity=\"1\" stroke=\"#000000\" stroke-opacity=\"1\" stroke-width=\"3.2\"/>\n",
       "<circle clip-path=\"url(#clip332)\" cx=\"788.977\" cy=\"483.984\" r=\"14\" fill=\"#009af9\" fill-rule=\"evenodd\" fill-opacity=\"1\" stroke=\"#000000\" stroke-opacity=\"1\" stroke-width=\"3.2\"/>\n",
       "<circle clip-path=\"url(#clip332)\" cx=\"615.737\" cy=\"710.274\" r=\"14\" fill=\"#009af9\" fill-rule=\"evenodd\" fill-opacity=\"1\" stroke=\"#000000\" stroke-opacity=\"1\" stroke-width=\"3.2\"/>\n",
       "<circle clip-path=\"url(#clip332)\" cx=\"1770.67\" cy=\"766.846\" r=\"14\" fill=\"#e26f46\" fill-rule=\"evenodd\" fill-opacity=\"1\" stroke=\"#000000\" stroke-opacity=\"1\" stroke-width=\"3.2\"/>\n",
       "<circle clip-path=\"url(#clip332)\" cx=\"1424.19\" cy=\"766.846\" r=\"14\" fill=\"#e26f46\" fill-rule=\"evenodd\" fill-opacity=\"1\" stroke=\"#000000\" stroke-opacity=\"1\" stroke-width=\"3.2\"/>\n",
       "<circle clip-path=\"url(#clip332)\" cx=\"1712.92\" cy=\"823.418\" r=\"14\" fill=\"#e26f46\" fill-rule=\"evenodd\" fill-opacity=\"1\" stroke=\"#000000\" stroke-opacity=\"1\" stroke-width=\"3.2\"/>\n",
       "<circle clip-path=\"url(#clip332)\" cx=\"904.47\" cy=\"1276\" r=\"14\" fill=\"#e26f46\" fill-rule=\"evenodd\" fill-opacity=\"1\" stroke=\"#000000\" stroke-opacity=\"1\" stroke-width=\"3.2\"/>\n",
       "<circle clip-path=\"url(#clip332)\" cx=\"1481.94\" cy=\"993.136\" r=\"14\" fill=\"#e26f46\" fill-rule=\"evenodd\" fill-opacity=\"1\" stroke=\"#000000\" stroke-opacity=\"1\" stroke-width=\"3.2\"/>\n",
       "<circle clip-path=\"url(#clip332)\" cx=\"1019.96\" cy=\"993.136\" r=\"14\" fill=\"#e26f46\" fill-rule=\"evenodd\" fill-opacity=\"1\" stroke=\"#000000\" stroke-opacity=\"1\" stroke-width=\"3.2\"/>\n",
       "<circle clip-path=\"url(#clip332)\" cx=\"1366.44\" cy=\"710.274\" r=\"14\" fill=\"#e26f46\" fill-rule=\"evenodd\" fill-opacity=\"1\" stroke=\"#000000\" stroke-opacity=\"1\" stroke-width=\"3.2\"/>\n",
       "<circle clip-path=\"url(#clip332)\" cx=\"557.991\" cy=\"1219.43\" r=\"14\" fill=\"#e26f46\" fill-rule=\"evenodd\" fill-opacity=\"1\" stroke=\"#000000\" stroke-opacity=\"1\" stroke-width=\"3.2\"/>\n",
       "<circle clip-path=\"url(#clip332)\" cx=\"1539.68\" cy=\"936.563\" r=\"14\" fill=\"#e26f46\" fill-rule=\"evenodd\" fill-opacity=\"1\" stroke=\"#000000\" stroke-opacity=\"1\" stroke-width=\"3.2\"/>\n",
       "<circle clip-path=\"url(#clip332)\" cx=\"731.231\" cy=\"1049.71\" r=\"14\" fill=\"#e26f46\" fill-rule=\"evenodd\" fill-opacity=\"1\" stroke=\"#000000\" stroke-opacity=\"1\" stroke-width=\"3.2\"/>\n",
       "<circle clip-path=\"url(#clip332)\" cx=\"615.737\" cy=\"1445.72\" r=\"14\" fill=\"#e26f46\" fill-rule=\"evenodd\" fill-opacity=\"1\" stroke=\"#000000\" stroke-opacity=\"1\" stroke-width=\"3.2\"/>\n",
       "<circle clip-path=\"url(#clip332)\" cx=\"1135.46\" cy=\"879.991\" r=\"14\" fill=\"#e26f46\" fill-rule=\"evenodd\" fill-opacity=\"1\" stroke=\"#000000\" stroke-opacity=\"1\" stroke-width=\"3.2\"/>\n",
       "<circle clip-path=\"url(#clip332)\" cx=\"1193.2\" cy=\"1332.57\" r=\"14\" fill=\"#e26f46\" fill-rule=\"evenodd\" fill-opacity=\"1\" stroke=\"#000000\" stroke-opacity=\"1\" stroke-width=\"3.2\"/>\n",
       "<circle clip-path=\"url(#clip332)\" cx=\"1250.95\" cy=\"936.563\" r=\"14\" fill=\"#e26f46\" fill-rule=\"evenodd\" fill-opacity=\"1\" stroke=\"#000000\" stroke-opacity=\"1\" stroke-width=\"3.2\"/>\n",
       "<circle clip-path=\"url(#clip332)\" cx=\"962.217\" cy=\"936.563\" r=\"14\" fill=\"#e26f46\" fill-rule=\"evenodd\" fill-opacity=\"1\" stroke=\"#000000\" stroke-opacity=\"1\" stroke-width=\"3.2\"/>\n",
       "<circle clip-path=\"url(#clip332)\" cx=\"1597.43\" cy=\"823.418\" r=\"14\" fill=\"#e26f46\" fill-rule=\"evenodd\" fill-opacity=\"1\" stroke=\"#000000\" stroke-opacity=\"1\" stroke-width=\"3.2\"/>\n",
       "<circle clip-path=\"url(#clip332)\" cx=\"962.217\" cy=\"879.991\" r=\"14\" fill=\"#e26f46\" fill-rule=\"evenodd\" fill-opacity=\"1\" stroke=\"#000000\" stroke-opacity=\"1\" stroke-width=\"3.2\"/>\n",
       "<circle clip-path=\"url(#clip332)\" cx=\"1077.71\" cy=\"1049.71\" r=\"14\" fill=\"#e26f46\" fill-rule=\"evenodd\" fill-opacity=\"1\" stroke=\"#000000\" stroke-opacity=\"1\" stroke-width=\"3.2\"/>\n",
       "<circle clip-path=\"url(#clip332)\" cx=\"1308.7\" cy=\"1332.57\" r=\"14\" fill=\"#e26f46\" fill-rule=\"evenodd\" fill-opacity=\"1\" stroke=\"#000000\" stroke-opacity=\"1\" stroke-width=\"3.2\"/>\n",
       "<circle clip-path=\"url(#clip332)\" cx=\"962.217\" cy=\"1162.85\" r=\"14\" fill=\"#e26f46\" fill-rule=\"evenodd\" fill-opacity=\"1\" stroke=\"#000000\" stroke-opacity=\"1\" stroke-width=\"3.2\"/>\n",
       "<circle clip-path=\"url(#clip332)\" cx=\"1135.46\" cy=\"766.846\" r=\"14\" fill=\"#e26f46\" fill-rule=\"evenodd\" fill-opacity=\"1\" stroke=\"#000000\" stroke-opacity=\"1\" stroke-width=\"3.2\"/>\n",
       "<circle clip-path=\"url(#clip332)\" cx=\"1250.95\" cy=\"993.136\" r=\"14\" fill=\"#e26f46\" fill-rule=\"evenodd\" fill-opacity=\"1\" stroke=\"#000000\" stroke-opacity=\"1\" stroke-width=\"3.2\"/>\n",
       "<circle clip-path=\"url(#clip332)\" cx=\"1366.44\" cy=\"1162.85\" r=\"14\" fill=\"#e26f46\" fill-rule=\"evenodd\" fill-opacity=\"1\" stroke=\"#000000\" stroke-opacity=\"1\" stroke-width=\"3.2\"/>\n",
       "<circle clip-path=\"url(#clip332)\" cx=\"1250.95\" cy=\"993.136\" r=\"14\" fill=\"#e26f46\" fill-rule=\"evenodd\" fill-opacity=\"1\" stroke=\"#000000\" stroke-opacity=\"1\" stroke-width=\"3.2\"/>\n",
       "<circle clip-path=\"url(#clip332)\" cx=\"1424.19\" cy=\"936.563\" r=\"14\" fill=\"#e26f46\" fill-rule=\"evenodd\" fill-opacity=\"1\" stroke=\"#000000\" stroke-opacity=\"1\" stroke-width=\"3.2\"/>\n",
       "<circle clip-path=\"url(#clip332)\" cx=\"1539.68\" cy=\"879.991\" r=\"14\" fill=\"#e26f46\" fill-rule=\"evenodd\" fill-opacity=\"1\" stroke=\"#000000\" stroke-opacity=\"1\" stroke-width=\"3.2\"/>\n",
       "<circle clip-path=\"url(#clip332)\" cx=\"1655.18\" cy=\"993.136\" r=\"14\" fill=\"#e26f46\" fill-rule=\"evenodd\" fill-opacity=\"1\" stroke=\"#000000\" stroke-opacity=\"1\" stroke-width=\"3.2\"/>\n",
       "<circle clip-path=\"url(#clip332)\" cx=\"1597.43\" cy=\"879.991\" r=\"14\" fill=\"#e26f46\" fill-rule=\"evenodd\" fill-opacity=\"1\" stroke=\"#000000\" stroke-opacity=\"1\" stroke-width=\"3.2\"/>\n",
       "<circle clip-path=\"url(#clip332)\" cx=\"1193.2\" cy=\"936.563\" r=\"14\" fill=\"#e26f46\" fill-rule=\"evenodd\" fill-opacity=\"1\" stroke=\"#000000\" stroke-opacity=\"1\" stroke-width=\"3.2\"/>\n",
       "<circle clip-path=\"url(#clip332)\" cx=\"1019.96\" cy=\"1106.28\" r=\"14\" fill=\"#e26f46\" fill-rule=\"evenodd\" fill-opacity=\"1\" stroke=\"#000000\" stroke-opacity=\"1\" stroke-width=\"3.2\"/>\n",
       "<circle clip-path=\"url(#clip332)\" cx=\"904.47\" cy=\"1219.43\" r=\"14\" fill=\"#e26f46\" fill-rule=\"evenodd\" fill-opacity=\"1\" stroke=\"#000000\" stroke-opacity=\"1\" stroke-width=\"3.2\"/>\n",
       "<circle clip-path=\"url(#clip332)\" cx=\"904.47\" cy=\"1219.43\" r=\"14\" fill=\"#e26f46\" fill-rule=\"evenodd\" fill-opacity=\"1\" stroke=\"#000000\" stroke-opacity=\"1\" stroke-width=\"3.2\"/>\n",
       "<circle clip-path=\"url(#clip332)\" cx=\"1077.71\" cy=\"1049.71\" r=\"14\" fill=\"#e26f46\" fill-rule=\"evenodd\" fill-opacity=\"1\" stroke=\"#000000\" stroke-opacity=\"1\" stroke-width=\"3.2\"/>\n",
       "<circle clip-path=\"url(#clip332)\" cx=\"1193.2\" cy=\"1049.71\" r=\"14\" fill=\"#e26f46\" fill-rule=\"evenodd\" fill-opacity=\"1\" stroke=\"#000000\" stroke-opacity=\"1\" stroke-width=\"3.2\"/>\n",
       "<circle clip-path=\"url(#clip332)\" cx=\"846.724\" cy=\"879.991\" r=\"14\" fill=\"#e26f46\" fill-rule=\"evenodd\" fill-opacity=\"1\" stroke=\"#000000\" stroke-opacity=\"1\" stroke-width=\"3.2\"/>\n",
       "<circle clip-path=\"url(#clip332)\" cx=\"1193.2\" cy=\"653.701\" r=\"14\" fill=\"#e26f46\" fill-rule=\"evenodd\" fill-opacity=\"1\" stroke=\"#000000\" stroke-opacity=\"1\" stroke-width=\"3.2\"/>\n",
       "<circle clip-path=\"url(#clip332)\" cx=\"1597.43\" cy=\"823.418\" r=\"14\" fill=\"#e26f46\" fill-rule=\"evenodd\" fill-opacity=\"1\" stroke=\"#000000\" stroke-opacity=\"1\" stroke-width=\"3.2\"/>\n",
       "<circle clip-path=\"url(#clip332)\" cx=\"1366.44\" cy=\"1276\" r=\"14\" fill=\"#e26f46\" fill-rule=\"evenodd\" fill-opacity=\"1\" stroke=\"#000000\" stroke-opacity=\"1\" stroke-width=\"3.2\"/>\n",
       "<circle clip-path=\"url(#clip332)\" cx=\"962.217\" cy=\"879.991\" r=\"14\" fill=\"#e26f46\" fill-rule=\"evenodd\" fill-opacity=\"1\" stroke=\"#000000\" stroke-opacity=\"1\" stroke-width=\"3.2\"/>\n",
       "<circle clip-path=\"url(#clip332)\" cx=\"904.47\" cy=\"1162.85\" r=\"14\" fill=\"#e26f46\" fill-rule=\"evenodd\" fill-opacity=\"1\" stroke=\"#000000\" stroke-opacity=\"1\" stroke-width=\"3.2\"/>\n",
       "<circle clip-path=\"url(#clip332)\" cx=\"904.47\" cy=\"1106.28\" r=\"14\" fill=\"#e26f46\" fill-rule=\"evenodd\" fill-opacity=\"1\" stroke=\"#000000\" stroke-opacity=\"1\" stroke-width=\"3.2\"/>\n",
       "<circle clip-path=\"url(#clip332)\" cx=\"1250.95\" cy=\"879.991\" r=\"14\" fill=\"#e26f46\" fill-rule=\"evenodd\" fill-opacity=\"1\" stroke=\"#000000\" stroke-opacity=\"1\" stroke-width=\"3.2\"/>\n",
       "<circle clip-path=\"url(#clip332)\" cx=\"1077.71\" cy=\"1106.28\" r=\"14\" fill=\"#e26f46\" fill-rule=\"evenodd\" fill-opacity=\"1\" stroke=\"#000000\" stroke-opacity=\"1\" stroke-width=\"3.2\"/>\n",
       "<circle clip-path=\"url(#clip332)\" cx=\"615.737\" cy=\"1276\" r=\"14\" fill=\"#e26f46\" fill-rule=\"evenodd\" fill-opacity=\"1\" stroke=\"#000000\" stroke-opacity=\"1\" stroke-width=\"3.2\"/>\n",
       "<circle clip-path=\"url(#clip332)\" cx=\"962.217\" cy=\"1049.71\" r=\"14\" fill=\"#e26f46\" fill-rule=\"evenodd\" fill-opacity=\"1\" stroke=\"#000000\" stroke-opacity=\"1\" stroke-width=\"3.2\"/>\n",
       "<circle clip-path=\"url(#clip332)\" cx=\"1019.96\" cy=\"879.991\" r=\"14\" fill=\"#e26f46\" fill-rule=\"evenodd\" fill-opacity=\"1\" stroke=\"#000000\" stroke-opacity=\"1\" stroke-width=\"3.2\"/>\n",
       "<circle clip-path=\"url(#clip332)\" cx=\"1019.96\" cy=\"936.563\" r=\"14\" fill=\"#e26f46\" fill-rule=\"evenodd\" fill-opacity=\"1\" stroke=\"#000000\" stroke-opacity=\"1\" stroke-width=\"3.2\"/>\n",
       "<circle clip-path=\"url(#clip332)\" cx=\"1308.7\" cy=\"936.563\" r=\"14\" fill=\"#e26f46\" fill-rule=\"evenodd\" fill-opacity=\"1\" stroke=\"#000000\" stroke-opacity=\"1\" stroke-width=\"3.2\"/>\n",
       "<circle clip-path=\"url(#clip332)\" cx=\"673.484\" cy=\"1162.85\" r=\"14\" fill=\"#e26f46\" fill-rule=\"evenodd\" fill-opacity=\"1\" stroke=\"#000000\" stroke-opacity=\"1\" stroke-width=\"3.2\"/>\n",
       "<circle clip-path=\"url(#clip332)\" cx=\"1019.96\" cy=\"993.136\" r=\"14\" fill=\"#e26f46\" fill-rule=\"evenodd\" fill-opacity=\"1\" stroke=\"#000000\" stroke-opacity=\"1\" stroke-width=\"3.2\"/>\n",
       "<circle clip-path=\"url(#clip332)\" cx=\"1366.44\" cy=\"710.274\" r=\"14\" fill=\"#3da44d\" fill-rule=\"evenodd\" fill-opacity=\"1\" stroke=\"#000000\" stroke-opacity=\"1\" stroke-width=\"3.2\"/>\n",
       "<circle clip-path=\"url(#clip332)\" cx=\"1077.71\" cy=\"1049.71\" r=\"14\" fill=\"#3da44d\" fill-rule=\"evenodd\" fill-opacity=\"1\" stroke=\"#000000\" stroke-opacity=\"1\" stroke-width=\"3.2\"/>\n",
       "<circle clip-path=\"url(#clip332)\" cx=\"1828.42\" cy=\"879.991\" r=\"14\" fill=\"#3da44d\" fill-rule=\"evenodd\" fill-opacity=\"1\" stroke=\"#000000\" stroke-opacity=\"1\" stroke-width=\"3.2\"/>\n",
       "<circle clip-path=\"url(#clip332)\" cx=\"1366.44\" cy=\"936.563\" r=\"14\" fill=\"#3da44d\" fill-rule=\"evenodd\" fill-opacity=\"1\" stroke=\"#000000\" stroke-opacity=\"1\" stroke-width=\"3.2\"/>\n",
       "<circle clip-path=\"url(#clip332)\" cx=\"1481.94\" cy=\"879.991\" r=\"14\" fill=\"#3da44d\" fill-rule=\"evenodd\" fill-opacity=\"1\" stroke=\"#000000\" stroke-opacity=\"1\" stroke-width=\"3.2\"/>\n",
       "<circle clip-path=\"url(#clip332)\" cx=\"2117.15\" cy=\"879.991\" r=\"14\" fill=\"#3da44d\" fill-rule=\"evenodd\" fill-opacity=\"1\" stroke=\"#000000\" stroke-opacity=\"1\" stroke-width=\"3.2\"/>\n",
       "<circle clip-path=\"url(#clip332)\" cx=\"557.991\" cy=\"1162.85\" r=\"14\" fill=\"#3da44d\" fill-rule=\"evenodd\" fill-opacity=\"1\" stroke=\"#000000\" stroke-opacity=\"1\" stroke-width=\"3.2\"/>\n",
       "<circle clip-path=\"url(#clip332)\" cx=\"1943.91\" cy=\"936.563\" r=\"14\" fill=\"#3da44d\" fill-rule=\"evenodd\" fill-opacity=\"1\" stroke=\"#000000\" stroke-opacity=\"1\" stroke-width=\"3.2\"/>\n",
       "<circle clip-path=\"url(#clip332)\" cx=\"1597.43\" cy=\"1162.85\" r=\"14\" fill=\"#3da44d\" fill-rule=\"evenodd\" fill-opacity=\"1\" stroke=\"#000000\" stroke-opacity=\"1\" stroke-width=\"3.2\"/>\n",
       "<circle clip-path=\"url(#clip332)\" cx=\"1886.16\" cy=\"540.556\" r=\"14\" fill=\"#3da44d\" fill-rule=\"evenodd\" fill-opacity=\"1\" stroke=\"#000000\" stroke-opacity=\"1\" stroke-width=\"3.2\"/>\n",
       "<circle clip-path=\"url(#clip332)\" cx=\"1481.94\" cy=\"766.846\" r=\"14\" fill=\"#3da44d\" fill-rule=\"evenodd\" fill-opacity=\"1\" stroke=\"#000000\" stroke-opacity=\"1\" stroke-width=\"3.2\"/>\n",
       "<circle clip-path=\"url(#clip332)\" cx=\"1424.19\" cy=\"1049.71\" r=\"14\" fill=\"#3da44d\" fill-rule=\"evenodd\" fill-opacity=\"1\" stroke=\"#000000\" stroke-opacity=\"1\" stroke-width=\"3.2\"/>\n",
       "<circle clip-path=\"url(#clip332)\" cx=\"1655.18\" cy=\"879.991\" r=\"14\" fill=\"#3da44d\" fill-rule=\"evenodd\" fill-opacity=\"1\" stroke=\"#000000\" stroke-opacity=\"1\" stroke-width=\"3.2\"/>\n",
       "<circle clip-path=\"url(#clip332)\" cx=\"1019.96\" cy=\"1162.85\" r=\"14\" fill=\"#3da44d\" fill-rule=\"evenodd\" fill-opacity=\"1\" stroke=\"#000000\" stroke-opacity=\"1\" stroke-width=\"3.2\"/>\n",
       "<circle clip-path=\"url(#clip332)\" cx=\"1077.71\" cy=\"993.136\" r=\"14\" fill=\"#3da44d\" fill-rule=\"evenodd\" fill-opacity=\"1\" stroke=\"#000000\" stroke-opacity=\"1\" stroke-width=\"3.2\"/>\n",
       "<circle clip-path=\"url(#clip332)\" cx=\"1424.19\" cy=\"766.846\" r=\"14\" fill=\"#3da44d\" fill-rule=\"evenodd\" fill-opacity=\"1\" stroke=\"#000000\" stroke-opacity=\"1\" stroke-width=\"3.2\"/>\n",
       "<circle clip-path=\"url(#clip332)\" cx=\"1481.94\" cy=\"879.991\" r=\"14\" fill=\"#3da44d\" fill-rule=\"evenodd\" fill-opacity=\"1\" stroke=\"#000000\" stroke-opacity=\"1\" stroke-width=\"3.2\"/>\n",
       "<circle clip-path=\"url(#clip332)\" cx=\"2174.9\" cy=\"427.411\" r=\"14\" fill=\"#3da44d\" fill-rule=\"evenodd\" fill-opacity=\"1\" stroke=\"#000000\" stroke-opacity=\"1\" stroke-width=\"3.2\"/>\n",
       "<circle clip-path=\"url(#clip332)\" cx=\"2174.9\" cy=\"1106.28\" r=\"14\" fill=\"#3da44d\" fill-rule=\"evenodd\" fill-opacity=\"1\" stroke=\"#000000\" stroke-opacity=\"1\" stroke-width=\"3.2\"/>\n",
       "<circle clip-path=\"url(#clip332)\" cx=\"1193.2\" cy=\"1332.57\" r=\"14\" fill=\"#3da44d\" fill-rule=\"evenodd\" fill-opacity=\"1\" stroke=\"#000000\" stroke-opacity=\"1\" stroke-width=\"3.2\"/>\n",
       "<circle clip-path=\"url(#clip332)\" cx=\"1712.92\" cy=\"766.846\" r=\"14\" fill=\"#3da44d\" fill-rule=\"evenodd\" fill-opacity=\"1\" stroke=\"#000000\" stroke-opacity=\"1\" stroke-width=\"3.2\"/>\n",
       "<circle clip-path=\"url(#clip332)\" cx=\"962.217\" cy=\"993.136\" r=\"14\" fill=\"#3da44d\" fill-rule=\"evenodd\" fill-opacity=\"1\" stroke=\"#000000\" stroke-opacity=\"1\" stroke-width=\"3.2\"/>\n",
       "<circle clip-path=\"url(#clip332)\" cx=\"2174.9\" cy=\"993.136\" r=\"14\" fill=\"#3da44d\" fill-rule=\"evenodd\" fill-opacity=\"1\" stroke=\"#000000\" stroke-opacity=\"1\" stroke-width=\"3.2\"/>\n",
       "<circle clip-path=\"url(#clip332)\" cx=\"1366.44\" cy=\"1049.71\" r=\"14\" fill=\"#3da44d\" fill-rule=\"evenodd\" fill-opacity=\"1\" stroke=\"#000000\" stroke-opacity=\"1\" stroke-width=\"3.2\"/>\n",
       "<circle clip-path=\"url(#clip332)\" cx=\"1597.43\" cy=\"710.274\" r=\"14\" fill=\"#3da44d\" fill-rule=\"evenodd\" fill-opacity=\"1\" stroke=\"#000000\" stroke-opacity=\"1\" stroke-width=\"3.2\"/>\n",
       "<circle clip-path=\"url(#clip332)\" cx=\"1886.16\" cy=\"766.846\" r=\"14\" fill=\"#3da44d\" fill-rule=\"evenodd\" fill-opacity=\"1\" stroke=\"#000000\" stroke-opacity=\"1\" stroke-width=\"3.2\"/>\n",
       "<circle clip-path=\"url(#clip332)\" cx=\"1308.7\" cy=\"993.136\" r=\"14\" fill=\"#3da44d\" fill-rule=\"evenodd\" fill-opacity=\"1\" stroke=\"#000000\" stroke-opacity=\"1\" stroke-width=\"3.2\"/>\n",
       "<circle clip-path=\"url(#clip332)\" cx=\"1250.95\" cy=\"879.991\" r=\"14\" fill=\"#3da44d\" fill-rule=\"evenodd\" fill-opacity=\"1\" stroke=\"#000000\" stroke-opacity=\"1\" stroke-width=\"3.2\"/>\n",
       "<circle clip-path=\"url(#clip332)\" cx=\"1424.19\" cy=\"993.136\" r=\"14\" fill=\"#3da44d\" fill-rule=\"evenodd\" fill-opacity=\"1\" stroke=\"#000000\" stroke-opacity=\"1\" stroke-width=\"3.2\"/>\n",
       "<circle clip-path=\"url(#clip332)\" cx=\"1886.16\" cy=\"879.991\" r=\"14\" fill=\"#3da44d\" fill-rule=\"evenodd\" fill-opacity=\"1\" stroke=\"#000000\" stroke-opacity=\"1\" stroke-width=\"3.2\"/>\n",
       "<circle clip-path=\"url(#clip332)\" cx=\"2001.66\" cy=\"993.136\" r=\"14\" fill=\"#3da44d\" fill-rule=\"evenodd\" fill-opacity=\"1\" stroke=\"#000000\" stroke-opacity=\"1\" stroke-width=\"3.2\"/>\n",
       "<circle clip-path=\"url(#clip332)\" cx=\"2290.39\" cy=\"427.411\" r=\"14\" fill=\"#3da44d\" fill-rule=\"evenodd\" fill-opacity=\"1\" stroke=\"#000000\" stroke-opacity=\"1\" stroke-width=\"3.2\"/>\n",
       "<circle clip-path=\"url(#clip332)\" cx=\"1424.19\" cy=\"993.136\" r=\"14\" fill=\"#3da44d\" fill-rule=\"evenodd\" fill-opacity=\"1\" stroke=\"#000000\" stroke-opacity=\"1\" stroke-width=\"3.2\"/>\n",
       "<circle clip-path=\"url(#clip332)\" cx=\"1366.44\" cy=\"993.136\" r=\"14\" fill=\"#3da44d\" fill-rule=\"evenodd\" fill-opacity=\"1\" stroke=\"#000000\" stroke-opacity=\"1\" stroke-width=\"3.2\"/>\n",
       "<circle clip-path=\"url(#clip332)\" cx=\"1250.95\" cy=\"1106.28\" r=\"14\" fill=\"#3da44d\" fill-rule=\"evenodd\" fill-opacity=\"1\" stroke=\"#000000\" stroke-opacity=\"1\" stroke-width=\"3.2\"/>\n",
       "<circle clip-path=\"url(#clip332)\" cx=\"2174.9\" cy=\"879.991\" r=\"14\" fill=\"#3da44d\" fill-rule=\"evenodd\" fill-opacity=\"1\" stroke=\"#000000\" stroke-opacity=\"1\" stroke-width=\"3.2\"/>\n",
       "<circle clip-path=\"url(#clip332)\" cx=\"1366.44\" cy=\"653.701\" r=\"14\" fill=\"#3da44d\" fill-rule=\"evenodd\" fill-opacity=\"1\" stroke=\"#000000\" stroke-opacity=\"1\" stroke-width=\"3.2\"/>\n",
       "<circle clip-path=\"url(#clip332)\" cx=\"1424.19\" cy=\"823.418\" r=\"14\" fill=\"#3da44d\" fill-rule=\"evenodd\" fill-opacity=\"1\" stroke=\"#000000\" stroke-opacity=\"1\" stroke-width=\"3.2\"/>\n",
       "<circle clip-path=\"url(#clip332)\" cx=\"1193.2\" cy=\"879.991\" r=\"14\" fill=\"#3da44d\" fill-rule=\"evenodd\" fill-opacity=\"1\" stroke=\"#000000\" stroke-opacity=\"1\" stroke-width=\"3.2\"/>\n",
       "<circle clip-path=\"url(#clip332)\" cx=\"1712.92\" cy=\"823.418\" r=\"14\" fill=\"#3da44d\" fill-rule=\"evenodd\" fill-opacity=\"1\" stroke=\"#000000\" stroke-opacity=\"1\" stroke-width=\"3.2\"/>\n",
       "<circle clip-path=\"url(#clip332)\" cx=\"1597.43\" cy=\"823.418\" r=\"14\" fill=\"#3da44d\" fill-rule=\"evenodd\" fill-opacity=\"1\" stroke=\"#000000\" stroke-opacity=\"1\" stroke-width=\"3.2\"/>\n",
       "<circle clip-path=\"url(#clip332)\" cx=\"1712.92\" cy=\"823.418\" r=\"14\" fill=\"#3da44d\" fill-rule=\"evenodd\" fill-opacity=\"1\" stroke=\"#000000\" stroke-opacity=\"1\" stroke-width=\"3.2\"/>\n",
       "<circle clip-path=\"url(#clip332)\" cx=\"1077.71\" cy=\"1049.71\" r=\"14\" fill=\"#3da44d\" fill-rule=\"evenodd\" fill-opacity=\"1\" stroke=\"#000000\" stroke-opacity=\"1\" stroke-width=\"3.2\"/>\n",
       "<circle clip-path=\"url(#clip332)\" cx=\"1655.18\" cy=\"766.846\" r=\"14\" fill=\"#3da44d\" fill-rule=\"evenodd\" fill-opacity=\"1\" stroke=\"#000000\" stroke-opacity=\"1\" stroke-width=\"3.2\"/>\n",
       "<circle clip-path=\"url(#clip332)\" cx=\"1597.43\" cy=\"710.274\" r=\"14\" fill=\"#3da44d\" fill-rule=\"evenodd\" fill-opacity=\"1\" stroke=\"#000000\" stroke-opacity=\"1\" stroke-width=\"3.2\"/>\n",
       "<circle clip-path=\"url(#clip332)\" cx=\"1597.43\" cy=\"879.991\" r=\"14\" fill=\"#3da44d\" fill-rule=\"evenodd\" fill-opacity=\"1\" stroke=\"#000000\" stroke-opacity=\"1\" stroke-width=\"3.2\"/>\n",
       "<circle clip-path=\"url(#clip332)\" cx=\"1366.44\" cy=\"1162.85\" r=\"14\" fill=\"#3da44d\" fill-rule=\"evenodd\" fill-opacity=\"1\" stroke=\"#000000\" stroke-opacity=\"1\" stroke-width=\"3.2\"/>\n",
       "<circle clip-path=\"url(#clip332)\" cx=\"1481.94\" cy=\"879.991\" r=\"14\" fill=\"#3da44d\" fill-rule=\"evenodd\" fill-opacity=\"1\" stroke=\"#000000\" stroke-opacity=\"1\" stroke-width=\"3.2\"/>\n",
       "<circle clip-path=\"url(#clip332)\" cx=\"1308.7\" cy=\"653.701\" r=\"14\" fill=\"#3da44d\" fill-rule=\"evenodd\" fill-opacity=\"1\" stroke=\"#000000\" stroke-opacity=\"1\" stroke-width=\"3.2\"/>\n",
       "<circle clip-path=\"url(#clip332)\" cx=\"1135.46\" cy=\"879.991\" r=\"14\" fill=\"#3da44d\" fill-rule=\"evenodd\" fill-opacity=\"1\" stroke=\"#000000\" stroke-opacity=\"1\" stroke-width=\"3.2\"/>\n",
       "<path clip-path=\"url(#clip330)\" d=\"\n",
       "M1834.11 372.684 L2280.76 372.684 L2280.76 130.764 L1834.11 130.764  Z\n",
       "  \" fill=\"#ffffff\" fill-rule=\"evenodd\" fill-opacity=\"1\"/>\n",
       "<polyline clip-path=\"url(#clip330)\" style=\"stroke:#000000; stroke-width:4; stroke-opacity:1; fill:none\" points=\"\n",
       "  1834.11,372.684 2280.76,372.684 2280.76,130.764 1834.11,130.764 1834.11,372.684 \n",
       "  \"/>\n",
       "<circle clip-path=\"url(#clip330)\" cx=\"1942.11\" cy=\"191.244\" r=\"23\" fill=\"#009af9\" fill-rule=\"evenodd\" fill-opacity=\"1\" stroke=\"#000000\" stroke-opacity=\"1\" stroke-width=\"5.12\"/>\n",
       "<path clip-path=\"url(#clip330)\" d=\"M 0 0 M2044.54 183.362 L2044.54 187.39 Q2042.73 186.464 2040.79 186.001 Q2038.84 185.538 2036.76 185.538 Q2033.59 185.538 2031.99 186.51 Q2030.42 187.483 2030.42 189.427 Q2030.42 190.908 2031.55 191.765 Q2032.69 192.598 2036.11 193.362 L2037.57 193.686 Q2042.11 194.658 2044.01 196.441 Q2045.93 198.2 2045.93 201.371 Q2045.93 204.982 2043.06 207.089 Q2040.21 209.195 2035.21 209.195 Q2033.13 209.195 2030.86 208.779 Q2028.61 208.385 2026.11 207.575 L2026.11 203.177 Q2028.47 204.404 2030.77 205.029 Q2033.06 205.631 2035.3 205.631 Q2038.31 205.631 2039.93 204.612 Q2041.55 203.57 2041.55 201.695 Q2041.55 199.959 2040.37 199.033 Q2039.22 198.107 2035.26 197.251 L2033.78 196.904 Q2029.82 196.07 2028.06 194.358 Q2026.3 192.621 2026.3 189.612 Q2026.3 185.955 2028.89 183.964 Q2031.48 181.973 2036.25 181.973 Q2038.61 181.973 2040.7 182.321 Q2042.78 182.668 2044.54 183.362 Z\" fill=\"#000000\" fill-rule=\"evenodd\" fill-opacity=\"1\" /><path clip-path=\"url(#clip330)\" d=\"M 0 0 M2072.57 194.496 L2072.57 196.58 L2052.99 196.58 Q2053.27 200.978 2055.63 203.293 Q2058.01 205.584 2062.25 205.584 Q2064.7 205.584 2066.99 204.982 Q2069.31 204.381 2071.58 203.177 L2071.58 207.205 Q2069.28 208.177 2066.88 208.686 Q2064.47 209.195 2061.99 209.195 Q2055.79 209.195 2052.16 205.584 Q2048.54 201.973 2048.54 195.816 Q2048.54 189.45 2051.97 185.723 Q2055.42 181.973 2061.25 181.973 Q2066.48 181.973 2069.52 185.353 Q2072.57 188.709 2072.57 194.496 M2068.31 193.246 Q2068.27 189.751 2066.34 187.668 Q2064.45 185.584 2061.3 185.584 Q2057.73 185.584 2055.58 187.598 Q2053.45 189.612 2053.13 193.27 L2068.31 193.246 Z\" fill=\"#000000\" fill-rule=\"evenodd\" fill-opacity=\"1\" /><path clip-path=\"url(#clip330)\" d=\"M 0 0 M2081.25 175.237 L2081.25 182.598 L2090.03 182.598 L2090.03 185.908 L2081.25 185.908 L2081.25 199.982 Q2081.25 203.154 2082.11 204.057 Q2082.99 204.959 2085.65 204.959 L2090.03 204.959 L2090.03 208.524 L2085.65 208.524 Q2080.72 208.524 2078.84 206.695 Q2076.97 204.844 2076.97 199.982 L2076.97 185.908 L2073.84 185.908 L2073.84 182.598 L2076.97 182.598 L2076.97 175.237 L2081.25 175.237 Z\" fill=\"#000000\" fill-rule=\"evenodd\" fill-opacity=\"1\" /><path clip-path=\"url(#clip330)\" d=\"M 0 0 M2104.54 185.584 Q2101.11 185.584 2099.12 188.27 Q2097.13 190.932 2097.13 195.584 Q2097.13 200.237 2099.1 202.922 Q2101.09 205.584 2104.54 205.584 Q2107.94 205.584 2109.93 202.899 Q2111.92 200.214 2111.92 195.584 Q2111.92 190.978 2109.93 188.293 Q2107.94 185.584 2104.54 185.584 M2104.54 181.973 Q2110.09 181.973 2113.27 185.584 Q2116.44 189.195 2116.44 195.584 Q2116.44 201.95 2113.27 205.584 Q2110.09 209.195 2104.54 209.195 Q2098.96 209.195 2095.79 205.584 Q2092.64 201.95 2092.64 195.584 Q2092.64 189.195 2095.79 185.584 Q2098.96 181.973 2104.54 181.973 Z\" fill=\"#000000\" fill-rule=\"evenodd\" fill-opacity=\"1\" /><path clip-path=\"url(#clip330)\" d=\"M 0 0 M2137.43 183.362 L2137.43 187.39 Q2135.63 186.464 2133.68 186.001 Q2131.74 185.538 2129.65 185.538 Q2126.48 185.538 2124.89 186.51 Q2123.31 187.483 2123.31 189.427 Q2123.31 190.908 2124.45 191.765 Q2125.58 192.598 2129.01 193.362 L2130.46 193.686 Q2135 194.658 2136.9 196.441 Q2138.82 198.2 2138.82 201.371 Q2138.82 204.982 2135.95 207.089 Q2133.1 209.195 2128.1 209.195 Q2126.02 209.195 2123.75 208.779 Q2121.51 208.385 2119.01 207.575 L2119.01 203.177 Q2121.37 204.404 2123.66 205.029 Q2125.95 205.631 2128.2 205.631 Q2131.21 205.631 2132.83 204.612 Q2134.45 203.57 2134.45 201.695 Q2134.45 199.959 2133.27 199.033 Q2132.11 198.107 2128.15 197.251 L2126.67 196.904 Q2122.71 196.07 2120.95 194.358 Q2119.19 192.621 2119.19 189.612 Q2119.19 185.955 2121.78 183.964 Q2124.38 181.973 2129.15 181.973 Q2131.51 181.973 2133.59 182.321 Q2135.67 182.668 2137.43 183.362 Z\" fill=\"#000000\" fill-rule=\"evenodd\" fill-opacity=\"1\" /><path clip-path=\"url(#clip330)\" d=\"M 0 0 M2155.07 195.492 Q2149.91 195.492 2147.92 196.672 Q2145.93 197.853 2145.93 200.7 Q2145.93 202.969 2147.41 204.311 Q2148.91 205.631 2151.48 205.631 Q2155.02 205.631 2157.15 203.131 Q2159.31 200.607 2159.31 196.441 L2159.31 195.492 L2155.07 195.492 M2163.57 193.733 L2163.57 208.524 L2159.31 208.524 L2159.31 204.589 Q2157.85 206.95 2155.67 208.084 Q2153.5 209.195 2150.35 209.195 Q2146.37 209.195 2144.01 206.973 Q2141.67 204.728 2141.67 200.978 Q2141.67 196.603 2144.59 194.381 Q2147.52 192.158 2153.34 192.158 L2159.31 192.158 L2159.31 191.742 Q2159.31 188.802 2157.36 187.205 Q2155.44 185.584 2151.95 185.584 Q2149.72 185.584 2147.62 186.117 Q2145.51 186.649 2143.57 187.714 L2143.57 183.779 Q2145.9 182.876 2148.1 182.436 Q2150.3 181.973 2152.39 181.973 Q2158.01 181.973 2160.79 184.89 Q2163.57 187.807 2163.57 193.733 Z\" fill=\"#000000\" fill-rule=\"evenodd\" fill-opacity=\"1\" /><circle clip-path=\"url(#clip330)\" cx=\"1942.11\" cy=\"251.724\" r=\"23\" fill=\"#e26f46\" fill-rule=\"evenodd\" fill-opacity=\"1\" stroke=\"#000000\" stroke-opacity=\"1\" stroke-width=\"5.12\"/>\n",
       "<path clip-path=\"url(#clip330)\" d=\"M 0 0 M2026.11 243.078 L2030.63 243.078 L2038.73 264.837 L2046.83 243.078 L2051.34 243.078 L2041.62 269.004 L2035.84 269.004 L2026.11 243.078 Z\" fill=\"#000000\" fill-rule=\"evenodd\" fill-opacity=\"1\" /><path clip-path=\"url(#clip330)\" d=\"M 0 0 M2077.99 254.976 L2077.99 257.06 L2058.4 257.06 Q2058.68 261.458 2061.04 263.773 Q2063.43 266.064 2067.66 266.064 Q2070.12 266.064 2072.41 265.462 Q2074.72 264.861 2076.99 263.657 L2076.99 267.685 Q2074.7 268.657 2072.29 269.166 Q2069.89 269.675 2067.41 269.675 Q2061.21 269.675 2057.57 266.064 Q2053.96 262.453 2053.96 256.296 Q2053.96 249.93 2057.39 246.203 Q2060.84 242.453 2066.67 242.453 Q2071.9 242.453 2074.93 245.833 Q2077.99 249.189 2077.99 254.976 M2073.73 253.726 Q2073.68 250.231 2071.76 248.148 Q2069.86 246.064 2066.72 246.064 Q2063.15 246.064 2061 248.078 Q2058.87 250.092 2058.54 253.75 L2073.73 253.726 Z\" fill=\"#000000\" fill-rule=\"evenodd\" fill-opacity=\"1\" /><path clip-path=\"url(#clip330)\" d=\"M 0 0 M2097.48 247.06 Q2096.76 246.643 2095.9 246.458 Q2095.07 246.25 2094.05 246.25 Q2090.44 246.25 2088.5 248.611 Q2086.58 250.949 2086.58 255.347 L2086.58 269.004 L2082.29 269.004 L2082.29 243.078 L2086.58 243.078 L2086.58 247.106 Q2087.92 244.745 2090.07 243.611 Q2092.22 242.453 2095.3 242.453 Q2095.74 242.453 2096.28 242.523 Q2096.81 242.569 2097.46 242.685 L2097.48 247.06 Z\" fill=\"#000000\" fill-rule=\"evenodd\" fill-opacity=\"1\" /><path clip-path=\"url(#clip330)\" d=\"M 0 0 M2118.47 243.842 L2118.47 247.87 Q2116.67 246.944 2114.72 246.481 Q2112.78 246.018 2110.7 246.018 Q2107.53 246.018 2105.93 246.99 Q2104.35 247.963 2104.35 249.907 Q2104.35 251.388 2105.49 252.245 Q2106.62 253.078 2110.05 253.842 L2111.51 254.166 Q2116.04 255.138 2117.94 256.921 Q2119.86 258.68 2119.86 261.851 Q2119.86 265.462 2116.99 267.569 Q2114.15 269.675 2109.15 269.675 Q2107.06 269.675 2104.79 269.259 Q2102.55 268.865 2100.05 268.055 L2100.05 263.657 Q2102.41 264.884 2104.7 265.509 Q2106.99 266.111 2109.24 266.111 Q2112.25 266.111 2113.87 265.092 Q2115.49 264.05 2115.49 262.175 Q2115.49 260.439 2114.31 259.513 Q2113.15 258.587 2109.19 257.731 L2107.71 257.384 Q2103.75 256.55 2101.99 254.838 Q2100.23 253.101 2100.23 250.092 Q2100.23 246.435 2102.83 244.444 Q2105.42 242.453 2110.19 242.453 Q2112.55 242.453 2114.63 242.801 Q2116.71 243.148 2118.47 243.842 Z\" fill=\"#000000\" fill-rule=\"evenodd\" fill-opacity=\"1\" /><path clip-path=\"url(#clip330)\" d=\"M 0 0 M2124.33 243.078 L2128.59 243.078 L2128.59 269.004 L2124.33 269.004 L2124.33 243.078 M2124.33 232.986 L2128.59 232.986 L2128.59 238.379 L2124.33 238.379 L2124.33 232.986 Z\" fill=\"#000000\" fill-rule=\"evenodd\" fill-opacity=\"1\" /><path clip-path=\"url(#clip330)\" d=\"M 0 0 M2151.71 244.074 L2151.71 248.055 Q2149.91 247.06 2148.08 246.574 Q2146.27 246.064 2144.42 246.064 Q2140.28 246.064 2137.99 248.703 Q2135.7 251.319 2135.7 256.064 Q2135.7 260.81 2137.99 263.449 Q2140.28 266.064 2144.42 266.064 Q2146.27 266.064 2148.08 265.578 Q2149.91 265.069 2151.71 264.074 L2151.71 268.009 Q2149.93 268.842 2148.01 269.259 Q2146.11 269.675 2143.96 269.675 Q2138.1 269.675 2134.65 265.995 Q2131.21 262.314 2131.21 256.064 Q2131.21 249.722 2134.68 246.088 Q2138.17 242.453 2144.24 242.453 Q2146.21 242.453 2148.08 242.87 Q2149.96 243.263 2151.71 244.074 Z\" fill=\"#000000\" fill-rule=\"evenodd\" fill-opacity=\"1\" /><path clip-path=\"url(#clip330)\" d=\"M 0 0 M2166.23 246.064 Q2162.8 246.064 2160.81 248.75 Q2158.82 251.412 2158.82 256.064 Q2158.82 260.717 2160.79 263.402 Q2162.78 266.064 2166.23 266.064 Q2169.63 266.064 2171.62 263.379 Q2173.61 260.694 2173.61 256.064 Q2173.61 251.458 2171.62 248.773 Q2169.63 246.064 2166.23 246.064 M2166.23 242.453 Q2171.78 242.453 2174.96 246.064 Q2178.13 249.675 2178.13 256.064 Q2178.13 262.43 2174.96 266.064 Q2171.78 269.675 2166.23 269.675 Q2160.65 269.675 2157.48 266.064 Q2154.33 262.43 2154.33 256.064 Q2154.33 249.675 2157.48 246.064 Q2160.65 242.453 2166.23 242.453 Z\" fill=\"#000000\" fill-rule=\"evenodd\" fill-opacity=\"1\" /><path clip-path=\"url(#clip330)\" d=\"M 0 0 M2182.59 232.986 L2186.85 232.986 L2186.85 269.004 L2182.59 269.004 L2182.59 232.986 Z\" fill=\"#000000\" fill-rule=\"evenodd\" fill-opacity=\"1\" /><path clip-path=\"url(#clip330)\" d=\"M 0 0 M2201.37 246.064 Q2197.94 246.064 2195.95 248.75 Q2193.96 251.412 2193.96 256.064 Q2193.96 260.717 2195.93 263.402 Q2197.92 266.064 2201.37 266.064 Q2204.77 266.064 2206.76 263.379 Q2208.75 260.694 2208.75 256.064 Q2208.75 251.458 2206.76 248.773 Q2204.77 246.064 2201.37 246.064 M2201.37 242.453 Q2206.92 242.453 2210.09 246.064 Q2213.27 249.675 2213.27 256.064 Q2213.27 262.43 2210.09 266.064 Q2206.92 269.675 2201.37 269.675 Q2195.79 269.675 2192.62 266.064 Q2189.47 262.43 2189.47 256.064 Q2189.47 249.675 2192.62 246.064 Q2195.79 242.453 2201.37 242.453 Z\" fill=\"#000000\" fill-rule=\"evenodd\" fill-opacity=\"1\" /><path clip-path=\"url(#clip330)\" d=\"M 0 0 M2232.76 247.06 Q2232.04 246.643 2231.18 246.458 Q2230.35 246.25 2229.33 246.25 Q2225.72 246.25 2223.77 248.611 Q2221.85 250.949 2221.85 255.347 L2221.85 269.004 L2217.57 269.004 L2217.57 243.078 L2221.85 243.078 L2221.85 247.106 Q2223.2 244.745 2225.35 243.611 Q2227.5 242.453 2230.58 242.453 Q2231.02 242.453 2231.55 242.523 Q2232.08 242.569 2232.73 242.685 L2232.76 247.06 Z\" fill=\"#000000\" fill-rule=\"evenodd\" fill-opacity=\"1\" /><circle clip-path=\"url(#clip330)\" cx=\"1942.11\" cy=\"312.204\" r=\"23\" fill=\"#3da44d\" fill-rule=\"evenodd\" fill-opacity=\"1\" stroke=\"#000000\" stroke-opacity=\"1\" stroke-width=\"5.12\"/>\n",
       "<path clip-path=\"url(#clip330)\" d=\"M 0 0 M2026.11 303.558 L2030.63 303.558 L2038.73 325.317 L2046.83 303.558 L2051.34 303.558 L2041.62 329.484 L2035.84 329.484 L2026.11 303.558 Z\" fill=\"#000000\" fill-rule=\"evenodd\" fill-opacity=\"1\" /><path clip-path=\"url(#clip330)\" d=\"M 0 0 M2055.81 303.558 L2060.07 303.558 L2060.07 329.484 L2055.81 329.484 L2055.81 303.558 M2055.81 293.466 L2060.07 293.466 L2060.07 298.859 L2055.81 298.859 L2055.81 293.466 Z\" fill=\"#000000\" fill-rule=\"evenodd\" fill-opacity=\"1\" /><path clip-path=\"url(#clip330)\" d=\"M 0 0 M2079.56 307.54 Q2078.84 307.123 2077.99 306.938 Q2077.15 306.73 2076.14 306.73 Q2072.53 306.73 2070.58 309.091 Q2068.66 311.429 2068.66 315.827 L2068.66 329.484 L2064.38 329.484 L2064.38 303.558 L2068.66 303.558 L2068.66 307.586 Q2070 305.225 2072.15 304.091 Q2074.31 302.933 2077.39 302.933 Q2077.83 302.933 2078.36 303.003 Q2078.89 303.049 2079.54 303.165 L2079.56 307.54 Z\" fill=\"#000000\" fill-rule=\"evenodd\" fill-opacity=\"1\" /><path clip-path=\"url(#clip330)\" d=\"M 0 0 M2100.26 316.22 Q2100.26 311.591 2098.34 309.044 Q2096.44 306.498 2092.99 306.498 Q2089.56 306.498 2087.64 309.044 Q2085.74 311.591 2085.74 316.22 Q2085.74 320.827 2087.64 323.373 Q2089.56 325.919 2092.99 325.919 Q2096.44 325.919 2098.34 323.373 Q2100.26 320.827 2100.26 316.22 M2104.52 326.267 Q2104.52 332.887 2101.58 336.104 Q2098.64 339.345 2092.57 339.345 Q2090.33 339.345 2088.34 338.998 Q2086.34 338.674 2084.47 337.979 L2084.47 333.836 Q2086.34 334.854 2088.17 335.341 Q2090 335.827 2091.9 335.827 Q2096.09 335.827 2098.17 333.628 Q2100.26 331.452 2100.26 327.03 L2100.26 324.924 Q2098.94 327.216 2096.88 328.35 Q2094.82 329.484 2091.95 329.484 Q2087.18 329.484 2084.26 325.85 Q2081.34 322.216 2081.34 316.22 Q2081.34 310.202 2084.26 306.568 Q2087.18 302.933 2091.95 302.933 Q2094.82 302.933 2096.88 304.068 Q2098.94 305.202 2100.26 307.493 L2100.26 303.558 L2104.52 303.558 L2104.52 326.267 Z\" fill=\"#000000\" fill-rule=\"evenodd\" fill-opacity=\"1\" /><path clip-path=\"url(#clip330)\" d=\"M 0 0 M2108.98 303.558 L2113.24 303.558 L2113.24 329.484 L2108.98 329.484 L2108.98 303.558 M2108.98 293.466 L2113.24 293.466 L2113.24 298.859 L2108.98 298.859 L2108.98 293.466 Z\" fill=\"#000000\" fill-rule=\"evenodd\" fill-opacity=\"1\" /><path clip-path=\"url(#clip330)\" d=\"M 0 0 M2139.26 313.836 L2139.26 329.484 L2135 329.484 L2135 313.975 Q2135 310.294 2133.57 308.466 Q2132.13 306.637 2129.26 306.637 Q2125.81 306.637 2123.82 308.836 Q2121.83 311.035 2121.83 314.831 L2121.83 329.484 L2117.55 329.484 L2117.55 303.558 L2121.83 303.558 L2121.83 307.586 Q2123.36 305.248 2125.42 304.091 Q2127.5 302.933 2130.21 302.933 Q2134.68 302.933 2136.97 305.711 Q2139.26 308.466 2139.26 313.836 Z\" fill=\"#000000\" fill-rule=\"evenodd\" fill-opacity=\"1\" /><path clip-path=\"url(#clip330)\" d=\"M 0 0 M2143.73 303.558 L2147.99 303.558 L2147.99 329.484 L2143.73 329.484 L2143.73 303.558 M2143.73 293.466 L2147.99 293.466 L2147.99 298.859 L2143.73 298.859 L2143.73 293.466 Z\" fill=\"#000000\" fill-rule=\"evenodd\" fill-opacity=\"1\" /><path clip-path=\"url(#clip330)\" d=\"M 0 0 M2171.11 304.554 L2171.11 308.535 Q2169.31 307.54 2167.48 307.054 Q2165.67 306.544 2163.82 306.544 Q2159.68 306.544 2157.39 309.183 Q2155.09 311.799 2155.09 316.544 Q2155.09 321.29 2157.39 323.929 Q2159.68 326.544 2163.82 326.544 Q2165.67 326.544 2167.48 326.058 Q2169.31 325.549 2171.11 324.554 L2171.11 328.489 Q2169.33 329.322 2167.41 329.739 Q2165.51 330.155 2163.36 330.155 Q2157.5 330.155 2154.05 326.475 Q2150.6 322.794 2150.6 316.544 Q2150.6 310.202 2154.08 306.568 Q2157.57 302.933 2163.64 302.933 Q2165.6 302.933 2167.48 303.35 Q2169.35 303.743 2171.11 304.554 Z\" fill=\"#000000\" fill-rule=\"evenodd\" fill-opacity=\"1\" /><path clip-path=\"url(#clip330)\" d=\"M 0 0 M2187.36 316.452 Q2182.2 316.452 2180.21 317.632 Q2178.22 318.813 2178.22 321.66 Q2178.22 323.929 2179.7 325.271 Q2181.21 326.591 2183.77 326.591 Q2187.32 326.591 2189.45 324.091 Q2191.6 321.567 2191.6 317.401 L2191.6 316.452 L2187.36 316.452 M2195.86 314.693 L2195.86 329.484 L2191.6 329.484 L2191.6 325.549 Q2190.14 327.91 2187.96 329.044 Q2185.79 330.155 2182.64 330.155 Q2178.66 330.155 2176.3 327.933 Q2173.96 325.688 2173.96 321.938 Q2173.96 317.563 2176.88 315.341 Q2179.82 313.118 2185.63 313.118 L2191.6 313.118 L2191.6 312.702 Q2191.6 309.762 2189.65 308.165 Q2187.73 306.544 2184.24 306.544 Q2182.02 306.544 2179.91 307.077 Q2177.8 307.609 2175.86 308.674 L2175.86 304.739 Q2178.2 303.836 2180.4 303.396 Q2182.59 302.933 2184.68 302.933 Q2190.3 302.933 2193.08 305.85 Q2195.86 308.767 2195.86 314.693 Z\" fill=\"#000000\" fill-rule=\"evenodd\" fill-opacity=\"1\" /></svg>\n"
      ]
     },
     "execution_count": 15,
     "metadata": {},
     "output_type": "execute_result"
    }
   ],
   "source": [
    "@df iris scatter(:SepalLength,:SepalWidth,group=:Species)"
   ]
  },
  {
   "cell_type": "code",
   "execution_count": 16,
   "metadata": {},
   "outputs": [],
   "source": [
    "using Query, CSVFiles"
   ]
  },
  {
   "cell_type": "code",
   "execution_count": 17,
   "metadata": {},
   "outputs": [
    {
     "data": {
      "text/html": [
       "<table class=\"data-frame\"><thead><tr><th></th><th>GEOID</th><th>NAME</th><th>UATYPE</th><th>POP10</th></tr><tr><th></th><th>Int64</th><th>String</th><th>String</th><th>Int64</th></tr></thead><tbody><p>3,592 rows × 11 columns (omitted printing of 7 columns)</p><tr><th>1</th><td>37</td><td>Abbeville, LA Urban Cluster</td><td>C</td><td>19824</td></tr><tr><th>2</th><td>64</td><td>Abbeville, SC Urban Cluster</td><td>C</td><td>5243</td></tr><tr><th>3</th><td>91</td><td>Abbotsford, WI Urban Cluster</td><td>C</td><td>3966</td></tr><tr><th>4</th><td>118</td><td>Aberdeen, MS Urban Cluster</td><td>C</td><td>4666</td></tr><tr><th>5</th><td>145</td><td>Aberdeen, SD Urban Cluster</td><td>C</td><td>25977</td></tr><tr><th>6</th><td>172</td><td>Aberdeen, WA Urban Cluster</td><td>C</td><td>29856</td></tr><tr><th>7</th><td>199</td><td>Aberdeen--Bel Air South--Bel Air North, MD Urbanized Area</td><td>U</td><td>213751</td></tr><tr><th>8</th><td>226</td><td>Abernathy, TX Urban Cluster</td><td>C</td><td>2785</td></tr><tr><th>9</th><td>253</td><td>Abilene, KS Urban Cluster</td><td>C</td><td>7054</td></tr><tr><th>10</th><td>280</td><td>Abilene, TX Urbanized Area</td><td>U</td><td>110421</td></tr><tr><th>11</th><td>334</td><td>Abingdon, IL Urban Cluster</td><td>C</td><td>3389</td></tr><tr><th>12</th><td>388</td><td>Ada, OH Urban Cluster</td><td>C</td><td>5945</td></tr><tr><th>13</th><td>415</td><td>Ada, OK Urban Cluster</td><td>C</td><td>17400</td></tr><tr><th>14</th><td>450</td><td>Adams, NY Urban Cluster</td><td>C</td><td>2542</td></tr><tr><th>15</th><td>469</td><td>Adel, GA Urban Cluster</td><td>C</td><td>6986</td></tr><tr><th>16</th><td>496</td><td>Adel, IA Urban Cluster</td><td>C</td><td>3170</td></tr><tr><th>17</th><td>550</td><td>Adjuntas, PR Urban Cluster</td><td>C</td><td>11122</td></tr><tr><th>18</th><td>577</td><td>Adrian, MI Urban Cluster</td><td>C</td><td>44823</td></tr><tr><th>19</th><td>631</td><td>Aguadilla--Isabela--San Sebasti�n, PR Urbanized Area</td><td>U</td><td>306196</td></tr><tr><th>20</th><td>658</td><td>Ahoskie, NC Urban Cluster</td><td>C</td><td>4951</td></tr><tr><th>21</th><td>676</td><td>Air Force Academy, CO Urban Cluster</td><td>C</td><td>5512</td></tr><tr><th>22</th><td>712</td><td>Ajo, AZ Urban Cluster</td><td>C</td><td>3076</td></tr><tr><th>23</th><td>739</td><td>Akron, NY Urban Cluster</td><td>C</td><td>2982</td></tr><tr><th>24</th><td>766</td><td>Akron, OH Urbanized Area</td><td>U</td><td>569499</td></tr><tr><th>25</th><td>793</td><td>Alachua, FL Urban Cluster</td><td>C</td><td>4114</td></tr><tr><th>26</th><td>820</td><td>Alamogordo, NM Urban Cluster</td><td>C</td><td>31862</td></tr><tr><th>27</th><td>847</td><td>Alamosa, CO Urban Cluster</td><td>C</td><td>9751</td></tr><tr><th>28</th><td>901</td><td>Albany, GA Urbanized Area</td><td>U</td><td>95779</td></tr><tr><th>29</th><td>921</td><td>Albany, MN Urban Cluster</td><td>C</td><td>2564</td></tr><tr><th>30</th><td>955</td><td>Albany, OR Urbanized Area</td><td>U</td><td>56997</td></tr><tr><th>&vellip;</th><td>&vellip;</td><td>&vellip;</td><td>&vellip;</td><td>&vellip;</td></tr></tbody></table>"
      ],
      "text/latex": [
       "\\begin{tabular}{r|ccccc}\n",
       "\t& GEOID & NAME & UATYPE & POP10 & \\\\\n",
       "\t\\hline\n",
       "\t& Int64 & String & String & Int64 & \\\\\n",
       "\t\\hline\n",
       "\t1 & 37 & Abbeville, LA Urban Cluster & C & 19824 & $\\dots$ \\\\\n",
       "\t2 & 64 & Abbeville, SC Urban Cluster & C & 5243 & $\\dots$ \\\\\n",
       "\t3 & 91 & Abbotsford, WI Urban Cluster & C & 3966 & $\\dots$ \\\\\n",
       "\t4 & 118 & Aberdeen, MS Urban Cluster & C & 4666 & $\\dots$ \\\\\n",
       "\t5 & 145 & Aberdeen, SD Urban Cluster & C & 25977 & $\\dots$ \\\\\n",
       "\t6 & 172 & Aberdeen, WA Urban Cluster & C & 29856 & $\\dots$ \\\\\n",
       "\t7 & 199 & Aberdeen--Bel Air South--Bel Air North, MD Urbanized Area & U & 213751 & $\\dots$ \\\\\n",
       "\t8 & 226 & Abernathy, TX Urban Cluster & C & 2785 & $\\dots$ \\\\\n",
       "\t9 & 253 & Abilene, KS Urban Cluster & C & 7054 & $\\dots$ \\\\\n",
       "\t10 & 280 & Abilene, TX Urbanized Area & U & 110421 & $\\dots$ \\\\\n",
       "\t11 & 334 & Abingdon, IL Urban Cluster & C & 3389 & $\\dots$ \\\\\n",
       "\t12 & 388 & Ada, OH Urban Cluster & C & 5945 & $\\dots$ \\\\\n",
       "\t13 & 415 & Ada, OK Urban Cluster & C & 17400 & $\\dots$ \\\\\n",
       "\t14 & 450 & Adams, NY Urban Cluster & C & 2542 & $\\dots$ \\\\\n",
       "\t15 & 469 & Adel, GA Urban Cluster & C & 6986 & $\\dots$ \\\\\n",
       "\t16 & 496 & Adel, IA Urban Cluster & C & 3170 & $\\dots$ \\\\\n",
       "\t17 & 550 & Adjuntas, PR Urban Cluster & C & 11122 & $\\dots$ \\\\\n",
       "\t18 & 577 & Adrian, MI Urban Cluster & C & 44823 & $\\dots$ \\\\\n",
       "\t19 & 631 & Aguadilla--Isabela--San Sebasti�n, PR Urbanized Area & U & 306196 & $\\dots$ \\\\\n",
       "\t20 & 658 & Ahoskie, NC Urban Cluster & C & 4951 & $\\dots$ \\\\\n",
       "\t21 & 676 & Air Force Academy, CO Urban Cluster & C & 5512 & $\\dots$ \\\\\n",
       "\t22 & 712 & Ajo, AZ Urban Cluster & C & 3076 & $\\dots$ \\\\\n",
       "\t23 & 739 & Akron, NY Urban Cluster & C & 2982 & $\\dots$ \\\\\n",
       "\t24 & 766 & Akron, OH Urbanized Area & U & 569499 & $\\dots$ \\\\\n",
       "\t25 & 793 & Alachua, FL Urban Cluster & C & 4114 & $\\dots$ \\\\\n",
       "\t26 & 820 & Alamogordo, NM Urban Cluster & C & 31862 & $\\dots$ \\\\\n",
       "\t27 & 847 & Alamosa, CO Urban Cluster & C & 9751 & $\\dots$ \\\\\n",
       "\t28 & 901 & Albany, GA Urbanized Area & U & 95779 & $\\dots$ \\\\\n",
       "\t29 & 921 & Albany, MN Urban Cluster & C & 2564 & $\\dots$ \\\\\n",
       "\t30 & 955 & Albany, OR Urbanized Area & U & 56997 & $\\dots$ \\\\\n",
       "\t$\\dots$ & $\\dots$ & $\\dots$ & $\\dots$ & $\\dots$ &  \\\\\n",
       "\\end{tabular}\n"
      ],
      "text/plain": [
       "3592×11 DataFrame. Omitted printing of 9 columns\n",
       "│ Row  │ GEOID │ NAME                                                      │\n",
       "│      │ \u001b[90mInt64\u001b[39m │ \u001b[90mString\u001b[39m                                                    │\n",
       "├──────┼───────┼───────────────────────────────────────────────────────────┤\n",
       "│ 1    │ 37    │ Abbeville, LA Urban Cluster                               │\n",
       "│ 2    │ 64    │ Abbeville, SC Urban Cluster                               │\n",
       "│ 3    │ 91    │ Abbotsford, WI Urban Cluster                              │\n",
       "│ 4    │ 118   │ Aberdeen, MS Urban Cluster                                │\n",
       "│ 5    │ 145   │ Aberdeen, SD Urban Cluster                                │\n",
       "│ 6    │ 172   │ Aberdeen, WA Urban Cluster                                │\n",
       "│ 7    │ 199   │ Aberdeen--Bel Air South--Bel Air North, MD Urbanized Area │\n",
       "│ 8    │ 226   │ Abernathy, TX Urban Cluster                               │\n",
       "│ 9    │ 253   │ Abilene, KS Urban Cluster                                 │\n",
       "│ 10   │ 280   │ Abilene, TX Urbanized Area                                │\n",
       "⋮\n",
       "│ 3582 │ 97939 │ Yuba City, CA Urbanized Area                              │\n",
       "│ 3583 │ 97966 │ Yucca Valley, CA Urban Cluster                            │\n",
       "│ 3584 │ 97993 │ Yulee, FL Urban Cluster                                   │\n",
       "│ 3585 │ 98020 │ Yuma, AZ--CA Urbanized Area                               │\n",
       "│ 3586 │ 98047 │ Yuma, CO Urban Cluster                                    │\n",
       "│ 3587 │ 98074 │ Zanesville, OH Urban Cluster                              │\n",
       "│ 3588 │ 98101 │ Zapata--Medina, TX Urban Cluster                          │\n",
       "│ 3589 │ 98182 │ Zephyrhills, FL Urbanized Area                            │\n",
       "│ 3590 │ 98209 │ Zimmerman, MN Urban Cluster                               │\n",
       "│ 3591 │ 98236 │ Zumbrota, MN Urban Cluster                                │\n",
       "│ 3592 │ 98263 │ Zuni Pueblo, NM Urban Cluster                             │"
      ]
     },
     "execution_count": 17,
     "metadata": {},
     "output_type": "execute_result"
    }
   ],
   "source": [
    "census_data = load(\"../other/Gaz_ua_national.csv\") |> DataFrame"
   ]
  },
  {
   "cell_type": "code",
   "execution_count": 18,
   "metadata": {},
   "outputs": [
    {
     "data": {
      "text/html": [
       "<table class=\"data-frame\"><thead><tr><th></th><th>GEOID</th><th>NAME</th><th>UATYPE</th><th>POP10</th><th>HU10</th></tr><tr><th></th><th>Int64</th><th>String</th><th>String</th><th>Int64</th><th>Int64</th></tr></thead><tbody><p>10 rows × 11 columns (omitted printing of 6 columns)</p><tr><th>1</th><td>63217</td><td>New York--Newark, NY--NJ--CT Urbanized Area</td><td>U</td><td>18351295</td><td>7263095</td></tr><tr><th>2</th><td>51445</td><td>Los Angeles--Long Beach--Anaheim, CA Urbanized Area</td><td>U</td><td>12150996</td><td>4217448</td></tr><tr><th>3</th><td>16264</td><td>Chicago, IL--IN Urbanized Area</td><td>U</td><td>8608208</td><td>3459257</td></tr><tr><th>4</th><td>56602</td><td>Miami, FL Urbanized Area</td><td>U</td><td>5502379</td><td>2443188</td></tr><tr><th>5</th><td>69076</td><td>Philadelphia, PA--NJ--DE--MD Urbanized Area</td><td>U</td><td>5441567</td><td>2231613</td></tr><tr><th>6</th><td>22042</td><td>Dallas--Fort Worth--Arlington, TX Urbanized Area</td><td>U</td><td>5121892</td><td>2023230</td></tr><tr><th>7</th><td>40429</td><td>Houston, TX Urbanized Area</td><td>U</td><td>4944332</td><td>1895670</td></tr><tr><th>8</th><td>92242</td><td>Washington, DC--VA--MD Urbanized Area</td><td>U</td><td>4586770</td><td>1829546</td></tr><tr><th>9</th><td>3817</td><td>Atlanta, GA Urbanized Area</td><td>U</td><td>4515419</td><td>1861932</td></tr><tr><th>10</th><td>9271</td><td>Boston, MA--NH--RI Urbanized Area</td><td>U</td><td>4181019</td><td>1719241</td></tr></tbody></table>"
      ],
      "text/latex": [
       "\\begin{tabular}{r|cccccc}\n",
       "\t& GEOID & NAME & UATYPE & POP10 & HU10 & \\\\\n",
       "\t\\hline\n",
       "\t& Int64 & String & String & Int64 & Int64 & \\\\\n",
       "\t\\hline\n",
       "\t1 & 63217 & New York--Newark, NY--NJ--CT Urbanized Area & U & 18351295 & 7263095 & $\\dots$ \\\\\n",
       "\t2 & 51445 & Los Angeles--Long Beach--Anaheim, CA Urbanized Area & U & 12150996 & 4217448 & $\\dots$ \\\\\n",
       "\t3 & 16264 & Chicago, IL--IN Urbanized Area & U & 8608208 & 3459257 & $\\dots$ \\\\\n",
       "\t4 & 56602 & Miami, FL Urbanized Area & U & 5502379 & 2443188 & $\\dots$ \\\\\n",
       "\t5 & 69076 & Philadelphia, PA--NJ--DE--MD Urbanized Area & U & 5441567 & 2231613 & $\\dots$ \\\\\n",
       "\t6 & 22042 & Dallas--Fort Worth--Arlington, TX Urbanized Area & U & 5121892 & 2023230 & $\\dots$ \\\\\n",
       "\t7 & 40429 & Houston, TX Urbanized Area & U & 4944332 & 1895670 & $\\dots$ \\\\\n",
       "\t8 & 92242 & Washington, DC--VA--MD Urbanized Area & U & 4586770 & 1829546 & $\\dots$ \\\\\n",
       "\t9 & 3817 & Atlanta, GA Urbanized Area & U & 4515419 & 1861932 & $\\dots$ \\\\\n",
       "\t10 & 9271 & Boston, MA--NH--RI Urbanized Area & U & 4181019 & 1719241 & $\\dots$ \\\\\n",
       "\\end{tabular}\n"
      ],
      "text/plain": [
       "10×11 DataFrame. Omitted printing of 8 columns\n",
       "│ Row │ GEOID │ NAME                                                │ UATYPE │\n",
       "│     │ \u001b[90mInt64\u001b[39m │ \u001b[90mString\u001b[39m                                              │ \u001b[90mString\u001b[39m │\n",
       "├─────┼───────┼─────────────────────────────────────────────────────┼────────┤\n",
       "│ 1   │ 63217 │ New York--Newark, NY--NJ--CT Urbanized Area         │ U      │\n",
       "│ 2   │ 51445 │ Los Angeles--Long Beach--Anaheim, CA Urbanized Area │ U      │\n",
       "│ 3   │ 16264 │ Chicago, IL--IN Urbanized Area                      │ U      │\n",
       "│ 4   │ 56602 │ Miami, FL Urbanized Area                            │ U      │\n",
       "│ 5   │ 69076 │ Philadelphia, PA--NJ--DE--MD Urbanized Area         │ U      │\n",
       "│ 6   │ 22042 │ Dallas--Fort Worth--Arlington, TX Urbanized Area    │ U      │\n",
       "│ 7   │ 40429 │ Houston, TX Urbanized Area                          │ U      │\n",
       "│ 8   │ 92242 │ Washington, DC--VA--MD Urbanized Area               │ U      │\n",
       "│ 9   │ 3817  │ Atlanta, GA Urbanized Area                          │ U      │\n",
       "│ 10  │ 9271  │ Boston, MA--NH--RI Urbanized Area                   │ U      │"
      ]
     },
     "execution_count": 18,
     "metadata": {},
     "output_type": "execute_result"
    }
   ],
   "source": [
    "census_data |> @orderby_descending(_.POP10) |> DataFrame |> df->first(df,10)"
   ]
  },
  {
   "cell_type": "code",
   "execution_count": 31,
   "metadata": {},
   "outputs": [],
   "source": [
    "oly = load(\"../other/OlympicAthletes_0.csv\") |> DataFrame;"
   ]
  },
  {
   "cell_type": "code",
   "execution_count": 32,
   "metadata": {},
   "outputs": [
    {
     "data": {
      "text/html": [
       "<table class=\"data-frame\"><thead><tr><th></th><th>Athlete</th><th>Age</th><th>Country</th><th>Year</th><th>Sport</th><th>Gold Medals</th><th>Silver Medals</th><th>Bronze Medals</th><th>Total Medals</th></tr><tr><th></th><th>String</th><th>Int64?</th><th>String</th><th>Int64</th><th>String</th><th>Int64</th><th>Int64</th><th>Int64</th><th>Int64</th></tr></thead><tbody><p>5 rows × 9 columns</p><tr><th>1</th><td>Michael Phelps</td><td>23</td><td>United States</td><td>2008</td><td>Swimming</td><td>8</td><td>0</td><td>0</td><td>8</td></tr><tr><th>2</th><td>Michael Phelps</td><td>19</td><td>United States</td><td>2004</td><td>Swimming</td><td>6</td><td>0</td><td>2</td><td>8</td></tr><tr><th>3</th><td>Michael Phelps</td><td>27</td><td>United States</td><td>2012</td><td>Swimming</td><td>4</td><td>2</td><td>0</td><td>6</td></tr><tr><th>4</th><td>Natalie Coughlin</td><td>25</td><td>United States</td><td>2008</td><td>Swimming</td><td>1</td><td>2</td><td>3</td><td>6</td></tr><tr><th>5</th><td>Aleksey Nemov</td><td>24</td><td>Russia</td><td>2000</td><td>Gymnastics</td><td>2</td><td>1</td><td>3</td><td>6</td></tr></tbody></table>"
      ],
      "text/latex": [
       "\\begin{tabular}{r|ccccccccc}\n",
       "\t& Athlete & Age & Country & Year & Sport & Gold Medals & Silver Medals & Bronze Medals & Total Medals\\\\\n",
       "\t\\hline\n",
       "\t& String & Int64? & String & Int64 & String & Int64 & Int64 & Int64 & Int64\\\\\n",
       "\t\\hline\n",
       "\t1 & Michael Phelps & 23 & United States & 2008 & Swimming & 8 & 0 & 0 & 8 \\\\\n",
       "\t2 & Michael Phelps & 19 & United States & 2004 & Swimming & 6 & 0 & 2 & 8 \\\\\n",
       "\t3 & Michael Phelps & 27 & United States & 2012 & Swimming & 4 & 2 & 0 & 6 \\\\\n",
       "\t4 & Natalie Coughlin & 25 & United States & 2008 & Swimming & 1 & 2 & 3 & 6 \\\\\n",
       "\t5 & Aleksey Nemov & 24 & Russia & 2000 & Gymnastics & 2 & 1 & 3 & 6 \\\\\n",
       "\\end{tabular}\n"
      ],
      "text/plain": [
       "5×9 DataFrame\n",
       "│ Row │ Athlete          │ Age    │ Country       │ Year  │ Sport      │ Gold Medals │ Silver Medals │ Bronze Medals │ Total Medals │\n",
       "│     │ \u001b[90mString\u001b[39m           │ \u001b[90mInt64?\u001b[39m │ \u001b[90mString\u001b[39m        │ \u001b[90mInt64\u001b[39m │ \u001b[90mString\u001b[39m     │ \u001b[90mInt64\u001b[39m       │ \u001b[90mInt64\u001b[39m         │ \u001b[90mInt64\u001b[39m         │ \u001b[90mInt64\u001b[39m        │\n",
       "├─────┼──────────────────┼────────┼───────────────┼───────┼────────────┼─────────────┼───────────────┼───────────────┼──────────────┤\n",
       "│ 1   │ Michael Phelps   │ 23     │ United States │ 2008  │ Swimming   │ 8           │ 0             │ 0             │ 8            │\n",
       "│ 2   │ Michael Phelps   │ 19     │ United States │ 2004  │ Swimming   │ 6           │ 0             │ 2             │ 8            │\n",
       "│ 3   │ Michael Phelps   │ 27     │ United States │ 2012  │ Swimming   │ 4           │ 2             │ 0             │ 6            │\n",
       "│ 4   │ Natalie Coughlin │ 25     │ United States │ 2008  │ Swimming   │ 1           │ 2             │ 3             │ 6            │\n",
       "│ 5   │ Aleksey Nemov    │ 24     │ Russia        │ 2000  │ Gymnastics │ 2           │ 1             │ 3             │ 6            │"
      ]
     },
     "execution_count": 32,
     "metadata": {},
     "output_type": "execute_result"
    }
   ],
   "source": [
    "first(oly,5)"
   ]
  },
  {
   "cell_type": "code",
   "execution_count": 33,
   "metadata": {},
   "outputs": [
    {
     "data": {
      "text/plain": [
       "9-element Array{String,1}:\n",
       " \"Athlete\"\n",
       " \"Age\"\n",
       " \"Country\"\n",
       " \"Year\"\n",
       " \"Sport\"\n",
       " \"Gold Medals\"\n",
       " \"Silver Medals\"\n",
       " \"Bronze Medals\"\n",
       " \"Total Medals\""
      ]
     },
     "execution_count": 33,
     "metadata": {},
     "output_type": "execute_result"
    }
   ],
   "source": [
    "names(oly)"
   ]
  },
  {
   "cell_type": "code",
   "execution_count": 34,
   "metadata": {},
   "outputs": [
    {
     "data": {
      "text/plain": [
       "180"
      ]
     },
     "execution_count": 34,
     "metadata": {},
     "output_type": "execute_result"
    }
   ],
   "source": [
    "ENV[\"COLUMNS\"]=180"
   ]
  },
  {
   "cell_type": "code",
   "execution_count": 35,
   "metadata": {},
   "outputs": [
    {
     "ename": "LoadError",
     "evalue": "MethodError: no method matching getindex(::Nothing, ::Int64)",
     "output_type": "error",
     "traceback": [
      "MethodError: no method matching getindex(::Nothing, ::Int64)",
      "",
      "Stacktrace:",
      " [1] @rename(::LineNumberNode, ::Module, ::Vararg{Any,N} where N) at /Users/pstaab/.julia/packages/Query/AwBtd/src/table_query_macros.jl:149"
     ]
    }
   ],
   "source": [
    "oly |> @rename(Symbol(\"Age\")=>:age)"
   ]
  },
  {
   "cell_type": "code",
   "execution_count": 36,
   "metadata": {},
   "outputs": [
    {
     "data": {
      "text/html": [
       "<table class=\"data-frame\"><thead><tr><th></th><th>Athlete</th><th>Age</th><th>Country</th><th>Year</th><th>Sport</th><th>Gold_Medals</th><th>Silver_Medals</th><th>Bronze_Medals</th><th>Total_Medals</th></tr><tr><th></th><th>String</th><th>Int64?</th><th>String</th><th>Int64</th><th>String</th><th>Int64</th><th>Int64</th><th>Int64</th><th>Int64</th></tr></thead><tbody><p>8,618 rows × 9 columns</p><tr><th>1</th><td>Michael Phelps</td><td>23</td><td>United States</td><td>2008</td><td>Swimming</td><td>8</td><td>0</td><td>0</td><td>8</td></tr><tr><th>2</th><td>Michael Phelps</td><td>19</td><td>United States</td><td>2004</td><td>Swimming</td><td>6</td><td>0</td><td>2</td><td>8</td></tr><tr><th>3</th><td>Michael Phelps</td><td>27</td><td>United States</td><td>2012</td><td>Swimming</td><td>4</td><td>2</td><td>0</td><td>6</td></tr><tr><th>4</th><td>Natalie Coughlin</td><td>25</td><td>United States</td><td>2008</td><td>Swimming</td><td>1</td><td>2</td><td>3</td><td>6</td></tr><tr><th>5</th><td>Aleksey Nemov</td><td>24</td><td>Russia</td><td>2000</td><td>Gymnastics</td><td>2</td><td>1</td><td>3</td><td>6</td></tr><tr><th>6</th><td>Alicia Coutts</td><td>24</td><td>Australia</td><td>2012</td><td>Swimming</td><td>1</td><td>3</td><td>1</td><td>5</td></tr><tr><th>7</th><td>Missy Franklin</td><td>17</td><td>United States</td><td>2012</td><td>Swimming</td><td>4</td><td>0</td><td>1</td><td>5</td></tr><tr><th>8</th><td>Ryan Lochte</td><td>27</td><td>United States</td><td>2012</td><td>Swimming</td><td>2</td><td>2</td><td>1</td><td>5</td></tr><tr><th>9</th><td>Allison Schmitt</td><td>22</td><td>United States</td><td>2012</td><td>Swimming</td><td>3</td><td>1</td><td>1</td><td>5</td></tr><tr><th>10</th><td>Natalie Coughlin</td><td>21</td><td>United States</td><td>2004</td><td>Swimming</td><td>2</td><td>2</td><td>1</td><td>5</td></tr><tr><th>11</th><td>Ian Thorpe</td><td>17</td><td>Australia</td><td>2000</td><td>Swimming</td><td>3</td><td>2</td><td>0</td><td>5</td></tr><tr><th>12</th><td>Dara Torres</td><td>33</td><td>United States</td><td>2000</td><td>Swimming</td><td>2</td><td>0</td><td>3</td><td>5</td></tr><tr><th>13</th><td>Cindy Klassen</td><td>26</td><td>Canada</td><td>2006</td><td>Speed Skating</td><td>1</td><td>2</td><td>2</td><td>5</td></tr><tr><th>14</th><td>Nastia Liukin</td><td>18</td><td>United States</td><td>2008</td><td>Gymnastics</td><td>1</td><td>3</td><td>1</td><td>5</td></tr><tr><th>15</th><td>Marit Bjørgen</td><td>29</td><td>Norway</td><td>2010</td><td>Cross Country Skiing</td><td>3</td><td>1</td><td>1</td><td>5</td></tr><tr><th>16</th><td>Sun Yang</td><td>20</td><td>China</td><td>2012</td><td>Swimming</td><td>2</td><td>1</td><td>1</td><td>4</td></tr><tr><th>17</th><td>Kirsty Coventry</td><td>24</td><td>Zimbabwe</td><td>2008</td><td>Swimming</td><td>1</td><td>3</td><td>0</td><td>4</td></tr><tr><th>18</th><td>Libby Lenton-Trickett</td><td>23</td><td>Australia</td><td>2008</td><td>Swimming</td><td>2</td><td>1</td><td>1</td><td>4</td></tr><tr><th>19</th><td>Ryan Lochte</td><td>24</td><td>United States</td><td>2008</td><td>Swimming</td><td>2</td><td>0</td><td>2</td><td>4</td></tr><tr><th>20</th><td>Inge de Bruijn</td><td>30</td><td>Netherlands</td><td>2004</td><td>Swimming</td><td>1</td><td>1</td><td>2</td><td>4</td></tr><tr><th>21</th><td>Petria Thomas</td><td>28</td><td>Australia</td><td>2004</td><td>Swimming</td><td>3</td><td>1</td><td>0</td><td>4</td></tr><tr><th>22</th><td>Ian Thorpe</td><td>21</td><td>Australia</td><td>2004</td><td>Swimming</td><td>2</td><td>1</td><td>1</td><td>4</td></tr><tr><th>23</th><td>Inge de Bruijn</td><td>27</td><td>Netherlands</td><td>2000</td><td>Swimming</td><td>3</td><td>1</td><td>0</td><td>4</td></tr><tr><th>24</th><td>Gary Hall Jr.</td><td>25</td><td>United States</td><td>2000</td><td>Swimming</td><td>2</td><td>1</td><td>1</td><td>4</td></tr><tr><th>25</th><td>Michael Klim</td><td>23</td><td>Australia</td><td>2000</td><td>Swimming</td><td>2</td><td>2</td><td>0</td><td>4</td></tr><tr><th>26</th><td>Susie O'Neill</td><td>27</td><td>Australia</td><td>2000</td><td>Swimming</td><td>1</td><td>3</td><td>0</td><td>4</td></tr><tr><th>27</th><td>Jenny Thompson</td><td>27</td><td>United States</td><td>2000</td><td>Swimming</td><td>3</td><td>0</td><td>1</td><td>4</td></tr><tr><th>28</th><td>Pieter van den Hoogenband</td><td>22</td><td>Netherlands</td><td>2000</td><td>Swimming</td><td>2</td><td>0</td><td>2</td><td>4</td></tr><tr><th>29</th><td>An Hyeon-Su</td><td>20</td><td>South Korea</td><td>2006</td><td>Short-Track Speed Skating</td><td>3</td><td>0</td><td>1</td><td>4</td></tr><tr><th>30</th><td>Aliya Mustafina</td><td>17</td><td>Russia</td><td>2012</td><td>Gymnastics</td><td>1</td><td>1</td><td>2</td><td>4</td></tr><tr><th>&vellip;</th><td>&vellip;</td><td>&vellip;</td><td>&vellip;</td><td>&vellip;</td><td>&vellip;</td><td>&vellip;</td><td>&vellip;</td><td>&vellip;</td><td>&vellip;</td></tr></tbody></table>"
      ],
      "text/latex": [
       "\\begin{tabular}{r|ccccccccc}\n",
       "\t& Athlete & Age & Country & Year & Sport & Gold\\_Medals & Silver\\_Medals & Bronze\\_Medals & Total\\_Medals\\\\\n",
       "\t\\hline\n",
       "\t& String & Int64? & String & Int64 & String & Int64 & Int64 & Int64 & Int64\\\\\n",
       "\t\\hline\n",
       "\t1 & Michael Phelps & 23 & United States & 2008 & Swimming & 8 & 0 & 0 & 8 \\\\\n",
       "\t2 & Michael Phelps & 19 & United States & 2004 & Swimming & 6 & 0 & 2 & 8 \\\\\n",
       "\t3 & Michael Phelps & 27 & United States & 2012 & Swimming & 4 & 2 & 0 & 6 \\\\\n",
       "\t4 & Natalie Coughlin & 25 & United States & 2008 & Swimming & 1 & 2 & 3 & 6 \\\\\n",
       "\t5 & Aleksey Nemov & 24 & Russia & 2000 & Gymnastics & 2 & 1 & 3 & 6 \\\\\n",
       "\t6 & Alicia Coutts & 24 & Australia & 2012 & Swimming & 1 & 3 & 1 & 5 \\\\\n",
       "\t7 & Missy Franklin & 17 & United States & 2012 & Swimming & 4 & 0 & 1 & 5 \\\\\n",
       "\t8 & Ryan Lochte & 27 & United States & 2012 & Swimming & 2 & 2 & 1 & 5 \\\\\n",
       "\t9 & Allison Schmitt & 22 & United States & 2012 & Swimming & 3 & 1 & 1 & 5 \\\\\n",
       "\t10 & Natalie Coughlin & 21 & United States & 2004 & Swimming & 2 & 2 & 1 & 5 \\\\\n",
       "\t11 & Ian Thorpe & 17 & Australia & 2000 & Swimming & 3 & 2 & 0 & 5 \\\\\n",
       "\t12 & Dara Torres & 33 & United States & 2000 & Swimming & 2 & 0 & 3 & 5 \\\\\n",
       "\t13 & Cindy Klassen & 26 & Canada & 2006 & Speed Skating & 1 & 2 & 2 & 5 \\\\\n",
       "\t14 & Nastia Liukin & 18 & United States & 2008 & Gymnastics & 1 & 3 & 1 & 5 \\\\\n",
       "\t15 & Marit Bjørgen & 29 & Norway & 2010 & Cross Country Skiing & 3 & 1 & 1 & 5 \\\\\n",
       "\t16 & Sun Yang & 20 & China & 2012 & Swimming & 2 & 1 & 1 & 4 \\\\\n",
       "\t17 & Kirsty Coventry & 24 & Zimbabwe & 2008 & Swimming & 1 & 3 & 0 & 4 \\\\\n",
       "\t18 & Libby Lenton-Trickett & 23 & Australia & 2008 & Swimming & 2 & 1 & 1 & 4 \\\\\n",
       "\t19 & Ryan Lochte & 24 & United States & 2008 & Swimming & 2 & 0 & 2 & 4 \\\\\n",
       "\t20 & Inge de Bruijn & 30 & Netherlands & 2004 & Swimming & 1 & 1 & 2 & 4 \\\\\n",
       "\t21 & Petria Thomas & 28 & Australia & 2004 & Swimming & 3 & 1 & 0 & 4 \\\\\n",
       "\t22 & Ian Thorpe & 21 & Australia & 2004 & Swimming & 2 & 1 & 1 & 4 \\\\\n",
       "\t23 & Inge de Bruijn & 27 & Netherlands & 2000 & Swimming & 3 & 1 & 0 & 4 \\\\\n",
       "\t24 & Gary Hall Jr. & 25 & United States & 2000 & Swimming & 2 & 1 & 1 & 4 \\\\\n",
       "\t25 & Michael Klim & 23 & Australia & 2000 & Swimming & 2 & 2 & 0 & 4 \\\\\n",
       "\t26 & Susie O'Neill & 27 & Australia & 2000 & Swimming & 1 & 3 & 0 & 4 \\\\\n",
       "\t27 & Jenny Thompson & 27 & United States & 2000 & Swimming & 3 & 0 & 1 & 4 \\\\\n",
       "\t28 & Pieter van den Hoogenband & 22 & Netherlands & 2000 & Swimming & 2 & 0 & 2 & 4 \\\\\n",
       "\t29 & An Hyeon-Su & 20 & South Korea & 2006 & Short-Track Speed Skating & 3 & 0 & 1 & 4 \\\\\n",
       "\t30 & Aliya Mustafina & 17 & Russia & 2012 & Gymnastics & 1 & 1 & 2 & 4 \\\\\n",
       "\t$\\dots$ & $\\dots$ & $\\dots$ & $\\dots$ & $\\dots$ & $\\dots$ & $\\dots$ & $\\dots$ & $\\dots$ & $\\dots$ \\\\\n",
       "\\end{tabular}\n"
      ],
      "text/plain": [
       "8618×9 DataFrame\n",
       "│ Row  │ Athlete              │ Age    │ Country       │ Year  │ Sport      │ Gold_Medals │ Silver_Medals │ Bronze_Medals │ Total_Medals │\n",
       "│      │ \u001b[90mString\u001b[39m               │ \u001b[90mInt64?\u001b[39m │ \u001b[90mString\u001b[39m        │ \u001b[90mInt64\u001b[39m │ \u001b[90mString\u001b[39m     │ \u001b[90mInt64\u001b[39m       │ \u001b[90mInt64\u001b[39m         │ \u001b[90mInt64\u001b[39m         │ \u001b[90mInt64\u001b[39m        │\n",
       "├──────┼──────────────────────┼────────┼───────────────┼───────┼────────────┼─────────────┼───────────────┼───────────────┼──────────────┤\n",
       "│ 1    │ Michael Phelps       │ 23     │ United States │ 2008  │ Swimming   │ 8           │ 0             │ 0             │ 8            │\n",
       "│ 2    │ Michael Phelps       │ 19     │ United States │ 2004  │ Swimming   │ 6           │ 0             │ 2             │ 8            │\n",
       "│ 3    │ Michael Phelps       │ 27     │ United States │ 2012  │ Swimming   │ 4           │ 2             │ 0             │ 6            │\n",
       "│ 4    │ Natalie Coughlin     │ 25     │ United States │ 2008  │ Swimming   │ 1           │ 2             │ 3             │ 6            │\n",
       "│ 5    │ Aleksey Nemov        │ 24     │ Russia        │ 2000  │ Gymnastics │ 2           │ 1             │ 3             │ 6            │\n",
       "│ 6    │ Alicia Coutts        │ 24     │ Australia     │ 2012  │ Swimming   │ 1           │ 3             │ 1             │ 5            │\n",
       "│ 7    │ Missy Franklin       │ 17     │ United States │ 2012  │ Swimming   │ 4           │ 0             │ 1             │ 5            │\n",
       "│ 8    │ Ryan Lochte          │ 27     │ United States │ 2012  │ Swimming   │ 2           │ 2             │ 1             │ 5            │\n",
       "│ 9    │ Allison Schmitt      │ 22     │ United States │ 2012  │ Swimming   │ 3           │ 1             │ 1             │ 5            │\n",
       "│ 10   │ Natalie Coughlin     │ 21     │ United States │ 2004  │ Swimming   │ 2           │ 2             │ 1             │ 5            │\n",
       "⋮\n",
       "│ 8608 │ Jang Yong-Ho         │ 24     │ South Korea   │ 2000  │ Archery    │ 1           │ 0             │ 0             │ 1            │\n",
       "│ 8609 │ Butch Johnson        │ 45     │ United States │ 2000  │ Archery    │ 0           │ 0             │ 1             │ 1            │\n",
       "│ 8610 │ Kim Cheong-Tae       │ 20     │ South Korea   │ 2000  │ Archery    │ 1           │ 0             │ 0             │ 1            │\n",
       "│ 8611 │ Barbara Mensing      │ 39     │ Germany       │ 2000  │ Archery    │ 0           │ 0             │ 1             │ 1            │\n",
       "│ 8612 │ O Gyo-Mun            │ 28     │ South Korea   │ 2000  │ Archery    │ 1           │ 0             │ 0             │ 1            │\n",
       "│ 8613 │ Cornelia Pfohl       │ 29     │ Germany       │ 2000  │ Archery    │ 0           │ 0             │ 1             │ 1            │\n",
       "│ 8614 │ Olena Sadovnycha     │ 32     │ Ukraine       │ 2000  │ Archery    │ 0           │ 1             │ 0             │ 1            │\n",
       "│ 8615 │ Kateryna Serdiuk     │ 17     │ Ukraine       │ 2000  │ Archery    │ 0           │ 1             │ 0             │ 1            │\n",
       "│ 8616 │ Wietse van Alten     │ 21     │ Netherlands   │ 2000  │ Archery    │ 0           │ 0             │ 1             │ 1            │\n",
       "│ 8617 │ Sandra Wagner-Sachse │ 31     │ Germany       │ 2000  │ Archery    │ 0           │ 0             │ 1             │ 1            │\n",
       "│ 8618 │ Rod White            │ 23     │ United States │ 2000  │ Archery    │ 0           │ 0             │ 1             │ 1            │"
      ]
     },
     "execution_count": 36,
     "metadata": {},
     "output_type": "execute_result"
    }
   ],
   "source": [
    "rename!(oly, Dict(\n",
    "    Symbol(\"Gold Medals\")=>:Gold_Medals,\n",
    "    Symbol(\"Silver Medals\")=>:Silver_Medals,\n",
    "    Symbol(\"Bronze Medals\")=>:Bronze_Medals,\n",
    "    Symbol(\"Total Medals\")=>:Total_Medals,\n",
    "    ))"
   ]
  },
  {
   "cell_type": "code",
   "execution_count": 30,
   "metadata": {},
   "outputs": [
    {
     "data": {
      "text/plain": [
       ":Age"
      ]
     },
     "execution_count": 30,
     "metadata": {},
     "output_type": "execute_result"
    }
   ],
   "source": [
    "Symbol(\"Age\")"
   ]
  },
  {
   "cell_type": "code",
   "execution_count": 34,
   "metadata": {},
   "outputs": [
    {
     "data": {
      "text/plain": [
       "RegexMatch(\":Age => :age\", 1=\"Age \", 2=\"age\")"
      ]
     },
     "execution_count": 34,
     "metadata": {},
     "output_type": "execute_result"
    }
   ],
   "source": [
    "m = match(r\"^:(.+) *=> *:(.+)\", string(Symbol(\"Age\")=>:age))"
   ]
  },
  {
   "cell_type": "code",
   "execution_count": 35,
   "metadata": {},
   "outputs": [
    {
     "data": {
      "text/plain": [
       ":Age => :age"
      ]
     },
     "execution_count": 35,
     "metadata": {},
     "output_type": "execute_result"
    }
   ],
   "source": [
    "Symbol(\"Age\")=>:age"
   ]
  },
  {
   "cell_type": "code",
   "execution_count": 36,
   "metadata": {},
   "outputs": [
    {
     "data": {
      "text/plain": [
       "(\"Age\", \"age\")"
      ]
     },
     "execution_count": 36,
     "metadata": {},
     "output_type": "execute_result"
    }
   ],
   "source": [
    "m1, m2 = strip(m[1]), strip(m[2])"
   ]
  },
  {
   "cell_type": "code",
   "execution_count": 3,
   "metadata": {},
   "outputs": [
    {
     "data": {
      "text/html": [
       "<table class=\"data-frame\"><thead><tr><th></th><th>a</th><th>b</th></tr><tr><th></th><th>Int64</th><th>String</th></tr></thead><tbody><p>3 rows × 2 columns</p><tr><th>1</th><td>1</td><td>a</td></tr><tr><th>2</th><td>2</td><td>b</td></tr><tr><th>3</th><td>3</td><td>c</td></tr></tbody></table>"
      ],
      "text/latex": [
       "\\begin{tabular}{r|cc}\n",
       "\t& a & b\\\\\n",
       "\t\\hline\n",
       "\t& Int64 & String\\\\\n",
       "\t\\hline\n",
       "\t1 & 1 & a \\\\\n",
       "\t2 & 2 & b \\\\\n",
       "\t3 & 3 & c \\\\\n",
       "\\end{tabular}\n"
      ],
      "text/plain": [
       "3×2 DataFrame\n",
       "│ Row │ a     │ b      │\n",
       "│     │ \u001b[90mInt64\u001b[39m │ \u001b[90mString\u001b[39m │\n",
       "├─────┼───────┼────────┤\n",
       "│ 1   │ 1     │ a      │\n",
       "│ 2   │ 2     │ b      │\n",
       "│ 3   │ 3     │ c      │"
      ]
     },
     "execution_count": 3,
     "metadata": {},
     "output_type": "execute_result"
    }
   ],
   "source": [
    "using Query, DataFrames\n",
    "df = DataFrame(a=[1,2,3],b=[\"a\",\"b\",\"c\"])"
   ]
  },
  {
   "cell_type": "code",
   "execution_count": 5,
   "metadata": {},
   "outputs": [
    {
     "data": {
      "application/vnd.dataresource+json": {
       "data": [
        {
         "b": "a",
         "d": 1
        },
        {
         "b": "b",
         "d": 2
        },
        {
         "b": "c",
         "d": 3
        }
       ],
       "schema": {
        "fields": [
         {
          "name": "d",
          "type": "integer"
         },
         {
          "name": "b",
          "type": "string"
         }
        ]
       }
      },
      "text/html": [
       "<table><thead><tr><th>d</th><th>b</th></tr></thead><tbody><tr><td>1</td><td>&quot;a&quot;</td></tr><tr><td>2</td><td>&quot;b&quot;</td></tr><tr><td>3</td><td>&quot;c&quot;</td></tr></tbody></table>"
      ],
      "text/plain": [
       "3x2 query result\n",
       "d │ b\n",
       "──┼──\n",
       "1 │ a\n",
       "2 │ b\n",
       "3 │ c"
      ]
     },
     "execution_count": 5,
     "metadata": {},
     "output_type": "execute_result"
    }
   ],
   "source": [
    "df |> @rename(:a=>:d)"
   ]
  },
  {
   "cell_type": "code",
   "execution_count": 6,
   "metadata": {},
   "outputs": [
    {
     "ename": "LoadError",
     "evalue": "MethodError: no method matching getindex(::Nothing, ::Int64)",
     "output_type": "error",
     "traceback": [
      "MethodError: no method matching getindex(::Nothing, ::Int64)",
      "",
      "Stacktrace:",
      " [1] @rename(::LineNumberNode, ::Module, ::Vararg{Any,N} where N) at /Users/pstaab/.julia/packages/Query/AwBtd/src/table_query_macros.jl:149"
     ]
    }
   ],
   "source": [
    "df |> @rename(Symbol(\"a\")=>:d)"
   ]
  },
  {
   "cell_type": "code",
   "execution_count": 40,
   "metadata": {},
   "outputs": [
    {
     "data": {
      "text/plain": [
       ":a"
      ]
     },
     "execution_count": 40,
     "metadata": {},
     "output_type": "execute_result"
    }
   ],
   "source": [
    "q = Symbol(\"a\")"
   ]
  },
  {
   "cell_type": "code",
   "execution_count": 41,
   "metadata": {},
   "outputs": [
    {
     "ename": "LoadError",
     "evalue": "MethodError: no method matching getindex(::Nothing, ::Int64)",
     "output_type": "error",
     "traceback": [
      "MethodError: no method matching getindex(::Nothing, ::Int64)",
      "",
      "Stacktrace:",
      " [1] @rename(::LineNumberNode, ::Module, ::Vararg{Any,N} where N) at /Users/pstaab/.julia/packages/Query/AwBtd/src/table_query_macros.jl:149"
     ]
    }
   ],
   "source": [
    "df |> @rename(q => :d)"
   ]
  },
  {
   "cell_type": "code",
   "execution_count": null,
   "metadata": {},
   "outputs": [],
   "source": []
  }
 ],
 "metadata": {
  "kernelspec": {
   "display_name": "Julia 1.4.1",
   "language": "julia",
   "name": "julia-1.4"
  },
  "language_info": {
   "file_extension": ".jl",
   "mimetype": "application/julia",
   "name": "julia",
   "version": "1.4.1"
  }
 },
 "nbformat": 4,
 "nbformat_minor": 4
}
