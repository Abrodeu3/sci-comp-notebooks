{
 "cells": [
  {
   "cell_type": "markdown",
   "metadata": {},
   "source": [
    "## Chapter 17: Parallel Computing"
   ]
  },
  {
   "cell_type": "code",
   "execution_count": 1,
   "metadata": {},
   "outputs": [
    {
     "data": {
      "text/plain": [
       "countHeads (generic function with 1 method)"
      ]
     },
     "execution_count": 1,
     "metadata": {},
     "output_type": "execute_result"
    }
   ],
   "source": [
    "function countHeads(n::Int)\n",
    "    c::Int = 0\n",
    "    for i=1:n\n",
    "        c += rand(Bool)\n",
    "    end\n",
    "    c\n",
    "end"
   ]
  },
  {
   "cell_type": "code",
   "execution_count": 2,
   "metadata": {},
   "outputs": [
    {
     "name": "stdout",
     "output_type": "stream",
     "text": [
      " 13.520544 seconds (7 allocations: 19.453 KiB)\n"
     ]
    },
    {
     "data": {
      "text/plain": [
       "0.5000016395"
      ]
     },
     "execution_count": 2,
     "metadata": {},
     "output_type": "execute_result"
    }
   ],
   "source": [
    "@time countHeads(2*10^9)/(2*10^9)"
   ]
  },
  {
   "cell_type": "code",
   "execution_count": 3,
   "metadata": {},
   "outputs": [],
   "source": [
    "using Distributed"
   ]
  },
  {
   "cell_type": "code",
   "execution_count": 4,
   "metadata": {},
   "outputs": [
    {
     "data": {
      "text/plain": [
       "1-element Array{Int64,1}:\n",
       " 2"
      ]
     },
     "execution_count": 4,
     "metadata": {},
     "output_type": "execute_result"
    }
   ],
   "source": [
    "addprocs(1)"
   ]
  },
  {
   "cell_type": "code",
   "execution_count": 5,
   "metadata": {},
   "outputs": [
    {
     "data": {
      "text/plain": [
       "2"
      ]
     },
     "execution_count": 5,
     "metadata": {},
     "output_type": "execute_result"
    }
   ],
   "source": [
    "nprocs()"
   ]
  },
  {
   "cell_type": "code",
   "execution_count": 23,
   "metadata": {},
   "outputs": [],
   "source": [
    "@everywhere function countHeads(n::Int)\n",
    "   c::Int = 0\n",
    "   for i=1:n\n",
    "       c += rand(Bool)\n",
    "   end\n",
    "   c\n",
    "end"
   ]
  },
  {
   "cell_type": "code",
   "execution_count": 7,
   "metadata": {},
   "outputs": [
    {
     "data": {
      "text/plain": [
       "Future(2, 1, 6, nothing)"
      ]
     },
     "execution_count": 7,
     "metadata": {},
     "output_type": "execute_result"
    }
   ],
   "source": [
    "a= @spawn countHeads(10^9);\n",
    "b= @spawn countHeads(10^9)"
   ]
  },
  {
   "cell_type": "code",
   "execution_count": 8,
   "metadata": {},
   "outputs": [
    {
     "name": "stdout",
     "output_type": "stream",
     "text": [
      " 13.549803 seconds (65.73 k allocations: 3.571 MiB, 0.04% gc time)\n"
     ]
    },
    {
     "data": {
      "text/plain": [
       "999985854"
      ]
     },
     "execution_count": 8,
     "metadata": {},
     "output_type": "execute_result"
    }
   ],
   "source": [
    "@time fetch(a)+fetch(b)"
   ]
  },
  {
   "cell_type": "code",
   "execution_count": 9,
   "metadata": {},
   "outputs": [
    {
     "data": {
      "text/plain": [
       "12-element Array{Int64,1}:\n",
       "  3\n",
       "  4\n",
       "  5\n",
       "  6\n",
       "  7\n",
       "  8\n",
       "  9\n",
       " 10\n",
       " 11\n",
       " 12\n",
       " 13\n",
       " 14"
      ]
     },
     "execution_count": 9,
     "metadata": {},
     "output_type": "execute_result"
    }
   ],
   "source": [
    "addprocs()"
   ]
  },
  {
   "cell_type": "code",
   "execution_count": 10,
   "metadata": {},
   "outputs": [
    {
     "name": "stdout",
     "output_type": "stream",
     "text": [
      "  3.478278 seconds (53.02 k allocations: 2.800 MiB)\n"
     ]
    },
    {
     "data": {
      "text/plain": [
       "999984542"
      ]
     },
     "execution_count": 10,
     "metadata": {},
     "output_type": "execute_result"
    }
   ],
   "source": [
    "@time let\n",
    " nheads = @distributed (+) for i = 1:2*10^9\n",
    "   Int(rand(Bool))\n",
    " end\n",
    "end"
   ]
  },
  {
   "cell_type": "code",
   "execution_count": 11,
   "metadata": {},
   "outputs": [],
   "source": [
    "include(\"PlayingCards.jl\")\n",
    "using .PlayingCards, Random"
   ]
  },
  {
   "cell_type": "code",
   "execution_count": 12,
   "metadata": {},
   "outputs": [
    {
     "data": {
      "text/plain": [
       "countHands (generic function with 1 method)"
      ]
     },
     "execution_count": 12,
     "metadata": {},
     "output_type": "execute_result"
    }
   ],
   "source": [
    "function countHands(trials::Int,f::Function)\n",
    "    local deck=map(Card,1:52)\n",
    "    local numhands=0\n",
    "    for i=1:trials\n",
    "        shuffle!(deck)\n",
    "        h = Hand(deck[1:5])\n",
    "        if(f(h))\n",
    "            numhands+=1\n",
    "        end\n",
    "    end\n",
    "    numhands\n",
    "end"
   ]
  },
  {
   "cell_type": "code",
   "execution_count": 13,
   "metadata": {},
   "outputs": [
    {
     "name": "stdout",
     "output_type": "stream",
     "text": [
      "  6.402721 seconds (30.00 M allocations: 3.874 GiB, 8.08% gc time)\n"
     ]
    },
    {
     "data": {
      "text/plain": [
       "14268"
      ]
     },
     "execution_count": 13,
     "metadata": {},
     "output_type": "execute_result"
    }
   ],
   "source": [
    "@time countHands(10_000_000,isFullHouse)"
   ]
  },
  {
   "cell_type": "code",
   "execution_count": 18,
   "metadata": {},
   "outputs": [
    {
     "name": "stderr",
     "output_type": "stream",
     "text": [
      "WARNING: replacing module PlayingCards.\n",
      "WARNING: using PlayingCards.Card in module Main conflicts with an existing identifier.\n",
      "WARNING: using PlayingCards.Hand in module Main conflicts with an existing identifier.\n",
      "WARNING: using PlayingCards.isFullHouse in module Main conflicts with an existing identifier.\n"
     ]
    }
   ],
   "source": [
    "@everywhere include(\"PlayingCards.jl\")\n",
    "@everywhere using .PlayingCards, Random\n",
    "@everywhere function paraCountHands(trials::Integer,f::Function)\n",
    "  local deck=map(Card,1:52)\n",
    "  local numhands=0\n",
    "  function checkHand(f::Function) ## shuffle the deck then check the hand.\n",
    "    shuffle!(deck)\n",
    "    f(Hand(deck[1:5]))\n",
    "  end\n",
    "  @distributed (+) for i = 1:trials\n",
    "    Int(checkHand(f))\n",
    "  end  \n",
    "end"
   ]
  },
  {
   "cell_type": "code",
   "execution_count": 19,
   "metadata": {},
   "outputs": [
    {
     "name": "stdout",
     "output_type": "stream",
     "text": [
      "  1.282142 seconds (64.53 k allocations: 3.377 MiB, 0.49% gc time)\n"
     ]
    },
    {
     "data": {
      "text/plain": [
       "14361"
      ]
     },
     "execution_count": 19,
     "metadata": {},
     "output_type": "execute_result"
    }
   ],
   "source": [
    "@time fh = paraCountHands(10_000_000,isFullHouse)"
   ]
  },
  {
   "cell_type": "code",
   "execution_count": 20,
   "metadata": {},
   "outputs": [
    {
     "data": {
      "text/plain": [
       "12-element Array{Int64,1}:\n",
       " 1000000000\n",
       " 1000000000\n",
       " 1000000000\n",
       " 1000000000\n",
       " 1000000000\n",
       " 1000000000\n",
       " 1000000000\n",
       " 1000000000\n",
       " 1000000000\n",
       " 1000000000\n",
       " 1000000000\n",
       " 1000000000"
      ]
     },
     "execution_count": 20,
     "metadata": {},
     "output_type": "execute_result"
    }
   ],
   "source": [
    "num_coins = 1_000_000_000*ones(Int64,12)"
   ]
  },
  {
   "cell_type": "code",
   "execution_count": 25,
   "metadata": {},
   "outputs": [
    {
     "name": "stdout",
     "output_type": "stream",
     "text": [
      " 16.723126 seconds (1.40 k allocations: 54.141 KiB)\n"
     ]
    },
    {
     "data": {
      "text/plain": [
       "12-element Array{Int64,1}:\n",
       " 500029646\n",
       " 499978728\n",
       " 499994459\n",
       " 500006466\n",
       " 499995890\n",
       " 500007132\n",
       " 500000554\n",
       " 499962981\n",
       " 500008783\n",
       " 499984697\n",
       " 499985287\n",
       " 499987510"
      ]
     },
     "execution_count": 25,
     "metadata": {},
     "output_type": "execute_result"
    }
   ],
   "source": [
    "@time pmap(countHeads,num_coins)"
   ]
  },
  {
   "cell_type": "code",
   "execution_count": 27,
   "metadata": {},
   "outputs": [
    {
     "name": "stdout",
     "output_type": "stream",
     "text": [
      " 77.794937 seconds (60.96 k allocations: 3.221 MiB)\n"
     ]
    },
    {
     "data": {
      "text/plain": [
       "12-element Array{Int64,1}:\n",
       " 499994750\n",
       " 499986178\n",
       " 500008720\n",
       " 499968627\n",
       " 499993854\n",
       " 499989294\n",
       " 499994758\n",
       " 499987703\n",
       " 499995091\n",
       " 499995099\n",
       " 500000595\n",
       " 500008053"
      ]
     },
     "execution_count": 27,
     "metadata": {},
     "output_type": "execute_result"
    }
   ],
   "source": [
    "@time map(countHeads,num_coins)"
   ]
  },
  {
   "cell_type": "code",
   "execution_count": null,
   "metadata": {},
   "outputs": [],
   "source": []
  }
 ],
 "metadata": {
  "kernelspec": {
   "display_name": "Julia 1.5.0-rc1",
   "language": "julia",
   "name": "julia-1.5"
  },
  "language_info": {
   "file_extension": ".jl",
   "mimetype": "application/julia",
   "name": "julia",
   "version": "1.5.0"
  }
 },
 "nbformat": 4,
 "nbformat_minor": 4
}
