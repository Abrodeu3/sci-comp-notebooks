{
 "cells": [
  {
   "cell_type": "code",
   "execution_count": 3,
   "metadata": {},
   "outputs": [
    {
     "data": {
      "text/plain": [
       "8×8 Array{Int64,2}:\n",
       " 2   3   4   5   6   7   8   9\n",
       " 3   4   5   6   7   8   9  10\n",
       " 4   5   6   7   8   9  10  11\n",
       " 5   6   7   8   9  10  11  12\n",
       " 6   7   8   9  10  11  12  13\n",
       " 7   8   9  10  11  12  13  14\n",
       " 8   9  10  11  12  13  14  15\n",
       " 9  10  11  12  13  14  15  16"
      ]
     },
     "execution_count": 3,
     "metadata": {},
     "output_type": "execute_result"
    }
   ],
   "source": [
    "A=[i+j for i=1:8, j=1:8]"
   ]
  },
  {
   "cell_type": "code",
   "execution_count": 4,
   "metadata": {},
   "outputs": [
    {
     "data": {
      "text/plain": [
       "2×3 Array{Int64,2}:\n",
       " 1  2  3\n",
       " 4  5  6"
      ]
     },
     "execution_count": 4,
     "metadata": {},
     "output_type": "execute_result"
    }
   ],
   "source": [
    "A=[1 2 3; 4 5 6]"
   ]
  },
  {
   "cell_type": "code",
   "execution_count": 5,
   "metadata": {},
   "outputs": [
    {
     "data": {
      "text/plain": [
       "2×3 Array{Int64,2}:\n",
       " 1  3  5\n",
       " 2  4  6"
      ]
     },
     "execution_count": 5,
     "metadata": {},
     "output_type": "execute_result"
    }
   ],
   "source": [
    "B=[1 3 5; 2 4 6]"
   ]
  },
  {
   "cell_type": "code",
   "execution_count": 6,
   "metadata": {},
   "outputs": [
    {
     "data": {
      "text/plain": [
       "2×3 Array{Int64,2}:\n",
       " 2  5   8\n",
       " 6  9  12"
      ]
     },
     "execution_count": 6,
     "metadata": {},
     "output_type": "execute_result"
    }
   ],
   "source": [
    "A+B"
   ]
  },
  {
   "cell_type": "code",
   "execution_count": 7,
   "metadata": {},
   "outputs": [
    {
     "name": "stdout",
     "output_type": "stream",
     "text": [
      "[2 5 8; 6 9 12]"
     ]
    }
   ],
   "source": [
    "print(A+B)"
   ]
  },
  {
   "cell_type": "code",
   "execution_count": 8,
   "metadata": {},
   "outputs": [
    {
     "data": {
      "text/plain": [
       "3×3 Array{Int64,2}:\n",
       " 4  3  1\n",
       " 0  0  4\n",
       " 4  1  1"
      ]
     },
     "execution_count": 8,
     "metadata": {},
     "output_type": "execute_result"
    }
   ],
   "source": [
    "C=[4 3 1; 0 0 4; 4 1 1]"
   ]
  },
  {
   "cell_type": "code",
   "execution_count": 9,
   "metadata": {},
   "outputs": [
    {
     "data": {
      "text/plain": [
       "3-element Array{Int64,1}:\n",
       " 1\n",
       " 6\n",
       " 1"
      ]
     },
     "execution_count": 9,
     "metadata": {},
     "output_type": "execute_result"
    }
   ],
   "source": [
    "Y = [1;6;1]"
   ]
  },
  {
   "cell_type": "code",
   "execution_count": 10,
   "metadata": {},
   "outputs": [
    {
     "data": {
      "text/plain": [
       "3-element Array{Float64,1}:\n",
       " -0.125\n",
       " -0.0\n",
       "  1.5"
      ]
     },
     "execution_count": 10,
     "metadata": {},
     "output_type": "execute_result"
    }
   ],
   "source": [
    "C\\Y"
   ]
  },
  {
   "cell_type": "code",
   "execution_count": 11,
   "metadata": {},
   "outputs": [
    {
     "data": {
      "text/plain": [
       "3-element Array{Int64,1}:\n",
       "  6\n",
       "  0\n",
       " 10"
      ]
     },
     "execution_count": 11,
     "metadata": {},
     "output_type": "execute_result"
    }
   ],
   "source": [
    "C*[3;-2;0]"
   ]
  },
  {
   "cell_type": "code",
   "execution_count": 13,
   "metadata": {},
   "outputs": [
    {
     "data": {
      "text/plain": [
       "100-element Array{Bool,1}:\n",
       " 0\n",
       " 1\n",
       " 1\n",
       " 0\n",
       " 1\n",
       " 1\n",
       " 1\n",
       " 0\n",
       " 1\n",
       " 1\n",
       " 0\n",
       " 0\n",
       " 0\n",
       " ⋮\n",
       " 0\n",
       " 0\n",
       " 0\n",
       " 0\n",
       " 1\n",
       " 1\n",
       " 0\n",
       " 1\n",
       " 1\n",
       " 1\n",
       " 0\n",
       " 0"
      ]
     },
     "execution_count": 13,
     "metadata": {},
     "output_type": "execute_result"
    }
   ],
   "source": [
    "rand(Bool,100)"
   ]
  },
  {
   "cell_type": "code",
   "execution_count": 19,
   "metadata": {},
   "outputs": [],
   "source": [
    "using RDatasets, StatsPlots"
   ]
  },
  {
   "cell_type": "code",
   "execution_count": 20,
   "metadata": {},
   "outputs": [
    {
     "data": {
      "text/html": [
       "<table class=\"data-frame\"><thead><tr><th></th><th>Package</th><th>Title</th></tr><tr><th></th><th>String</th><th>String</th></tr></thead><tbody><p>33 rows × 2 columns</p><tr><th>1</th><td>COUNT</td><td>Functions, data and code for count data.</td></tr><tr><th>2</th><td>Ecdat</td><td>Data sets for econometrics</td></tr><tr><th>3</th><td>HSAUR</td><td>A Handbook of Statistical Analyses Using R (1st Edition)</td></tr><tr><th>4</th><td>HistData</td><td>Data sets from the history of statistics and data visualization</td></tr><tr><th>5</th><td>ISLR</td><td>Data for An Introduction to Statistical Learning with Applications in R</td></tr><tr><th>6</th><td>KMsurv</td><td>Data sets from Klein and Moeschberger (1997), Survival Analysis</td></tr><tr><th>7</th><td>MASS</td><td>Support Functions and Datasets for Venables and Ripley's MASS</td></tr><tr><th>8</th><td>SASmixed</td><td>Data sets from \\\\</td></tr><tr><th>9</th><td>Zelig</td><td>Everyone's Statistical Software</td></tr><tr><th>10</th><td>adehabitatLT</td><td>Analysis of Animal Movements</td></tr><tr><th>11</th><td>boot</td><td>Bootstrap Functions (Originally by Angelo Canty for S)</td></tr><tr><th>12</th><td>car</td><td>Companion to Applied Regression</td></tr><tr><th>13</th><td>cluster</td><td>Cluster Analysis Extended Rousseeuw et al.</td></tr><tr><th>14</th><td>datasets</td><td>The R Datasets Package</td></tr><tr><th>15</th><td>gap</td><td>Genetic analysis package</td></tr><tr><th>16</th><td>ggplot2</td><td>An Implementation of the Grammar of Graphics</td></tr><tr><th>17</th><td>lattice</td><td>Lattice Graphics</td></tr><tr><th>18</th><td>lme4</td><td>Linear mixed-effects models using Eigen and S4</td></tr><tr><th>19</th><td>mgcv</td><td>Mixed GAM Computation Vehicle with GCV/AIC/REML smoothness estimation</td></tr><tr><th>20</th><td>mlmRev</td><td>Examples from Multilevel Modelling Software Review</td></tr><tr><th>21</th><td>nlreg</td><td>Higher Order Inference for Nonlinear Heteroscedastic Models</td></tr><tr><th>22</th><td>plm</td><td>Linear Models for Panel Data</td></tr><tr><th>23</th><td>plyr</td><td>Tools for splitting, applying and combining data</td></tr><tr><th>24</th><td>pscl</td><td>Political Science Computational Laboratory, Stanford University</td></tr><tr><th>25</th><td>psych</td><td>Procedures for Psychological, Psychometric, and Personality Research</td></tr><tr><th>26</th><td>quantreg</td><td>Quantile Regression</td></tr><tr><th>27</th><td>reshape2</td><td>Flexibly Reshape Data: A Reboot of the Reshape Package.</td></tr><tr><th>28</th><td>robustbase</td><td>Basic Robust Statistics</td></tr><tr><th>29</th><td>rpart</td><td>Recursive Partitioning and Regression Trees</td></tr><tr><th>30</th><td>sandwich</td><td>Robust Covariance Matrix Estimators</td></tr><tr><th>&vellip;</th><td>&vellip;</td><td>&vellip;</td></tr></tbody></table>"
      ],
      "text/latex": [
       "\\begin{tabular}{r|cc}\n",
       "\t& Package & Title\\\\\n",
       "\t\\hline\n",
       "\t& String & String\\\\\n",
       "\t\\hline\n",
       "\t1 & COUNT & Functions, data and code for count data. \\\\\n",
       "\t2 & Ecdat & Data sets for econometrics \\\\\n",
       "\t3 & HSAUR & A Handbook of Statistical Analyses Using R (1st Edition) \\\\\n",
       "\t4 & HistData & Data sets from the history of statistics and data visualization \\\\\n",
       "\t5 & ISLR & Data for An Introduction to Statistical Learning with Applications in R \\\\\n",
       "\t6 & KMsurv & Data sets from Klein and Moeschberger (1997), Survival Analysis \\\\\n",
       "\t7 & MASS & Support Functions and Datasets for Venables and Ripley's MASS \\\\\n",
       "\t8 & SASmixed & Data sets from \\textbackslash{}\\textbackslash{} \\\\\n",
       "\t9 & Zelig & Everyone's Statistical Software \\\\\n",
       "\t10 & adehabitatLT & Analysis of Animal Movements \\\\\n",
       "\t11 & boot & Bootstrap Functions (Originally by Angelo Canty for S) \\\\\n",
       "\t12 & car & Companion to Applied Regression \\\\\n",
       "\t13 & cluster & Cluster Analysis Extended Rousseeuw et al. \\\\\n",
       "\t14 & datasets & The R Datasets Package \\\\\n",
       "\t15 & gap & Genetic analysis package \\\\\n",
       "\t16 & ggplot2 & An Implementation of the Grammar of Graphics \\\\\n",
       "\t17 & lattice & Lattice Graphics \\\\\n",
       "\t18 & lme4 & Linear mixed-effects models using Eigen and S4 \\\\\n",
       "\t19 & mgcv & Mixed GAM Computation Vehicle with GCV/AIC/REML smoothness estimation \\\\\n",
       "\t20 & mlmRev & Examples from Multilevel Modelling Software Review \\\\\n",
       "\t21 & nlreg & Higher Order Inference for Nonlinear Heteroscedastic Models \\\\\n",
       "\t22 & plm & Linear Models for Panel Data \\\\\n",
       "\t23 & plyr & Tools for splitting, applying and combining data \\\\\n",
       "\t24 & pscl & Political Science Computational Laboratory, Stanford University \\\\\n",
       "\t25 & psych & Procedures for Psychological, Psychometric, and Personality Research \\\\\n",
       "\t26 & quantreg & Quantile Regression \\\\\n",
       "\t27 & reshape2 & Flexibly Reshape Data: A Reboot of the Reshape Package. \\\\\n",
       "\t28 & robustbase & Basic Robust Statistics \\\\\n",
       "\t29 & rpart & Recursive Partitioning and Regression Trees \\\\\n",
       "\t30 & sandwich & Robust Covariance Matrix Estimators \\\\\n",
       "\t$\\dots$ & $\\dots$ & $\\dots$ \\\\\n",
       "\\end{tabular}\n"
      ],
      "text/plain": [
       "33×2 DataFrame. Omitted printing of 1 columns\n",
       "│ Row │ Package      │\n",
       "│     │ \u001b[90mString\u001b[39m       │\n",
       "├─────┼──────────────┤\n",
       "│ 1   │ COUNT        │\n",
       "│ 2   │ Ecdat        │\n",
       "│ 3   │ HSAUR        │\n",
       "│ 4   │ HistData     │\n",
       "│ 5   │ ISLR         │\n",
       "│ 6   │ KMsurv       │\n",
       "│ 7   │ MASS         │\n",
       "│ 8   │ SASmixed     │\n",
       "│ 9   │ Zelig        │\n",
       "│ 10  │ adehabitatLT │\n",
       "⋮\n",
       "│ 23  │ plyr         │\n",
       "│ 24  │ pscl         │\n",
       "│ 25  │ psych        │\n",
       "│ 26  │ quantreg     │\n",
       "│ 27  │ reshape2     │\n",
       "│ 28  │ robustbase   │\n",
       "│ 29  │ rpart        │\n",
       "│ 30  │ sandwich     │\n",
       "│ 31  │ sem          │\n",
       "│ 32  │ survival     │\n",
       "│ 33  │ vcd          │"
      ]
     },
     "execution_count": 20,
     "metadata": {},
     "output_type": "execute_result"
    }
   ],
   "source": [
    "RDatasets.packages()"
   ]
  },
  {
   "cell_type": "code",
   "execution_count": 21,
   "metadata": {},
   "outputs": [
    {
     "data": {
      "text/html": [
       "<table class=\"data-frame\"><thead><tr><th></th><th>Package</th><th>Dataset</th><th>Title</th></tr><tr><th></th><th>String</th><th>String</th><th>String</th></tr></thead><tbody><p>50 rows × 5 columns (omitted printing of 2 columns)</p><tr><th>1</th><td>datasets</td><td>BOD</td><td>Biochemical Oxygen Demand</td></tr><tr><th>2</th><td>datasets</td><td>CO2</td><td>Carbon Dioxide Uptake in Grass Plants</td></tr><tr><th>3</th><td>datasets</td><td>Formaldehyde</td><td>Determination of Formaldehyde</td></tr><tr><th>4</th><td>datasets</td><td>HairEyeColor</td><td>Hair and Eye Color of Statistics Students</td></tr><tr><th>5</th><td>datasets</td><td>InsectSprays</td><td>Effectiveness of Insect Sprays</td></tr><tr><th>6</th><td>datasets</td><td>LifeCycleSavings</td><td>Intercountry Life-Cycle Savings Data</td></tr><tr><th>7</th><td>datasets</td><td>Loblolly</td><td>Growth of Loblolly pine trees</td></tr><tr><th>8</th><td>datasets</td><td>OrchardSprays</td><td>Potency of Orchard Sprays</td></tr><tr><th>9</th><td>datasets</td><td>PlantGrowth</td><td>Results from an Experiment on Plant Growth</td></tr><tr><th>10</th><td>datasets</td><td>Puromycin</td><td>Reaction Velocity of an Enzymatic Reaction</td></tr><tr><th>11</th><td>datasets</td><td>Theoph</td><td>Pharmacokinetics of Theophylline</td></tr><tr><th>12</th><td>datasets</td><td>Titanic</td><td>Survival of passengers on the Titanic</td></tr><tr><th>13</th><td>datasets</td><td>ToothGrowth</td><td>The Effect of Vitamin C on Tooth Growth in Guinea Pigs</td></tr><tr><th>14</th><td>datasets</td><td>UCBAdmissions</td><td>Student Admissions at UC Berkeley</td></tr><tr><th>15</th><td>datasets</td><td>USArrests</td><td>Violent Crime Rates by US State</td></tr><tr><th>16</th><td>datasets</td><td>USJudgeRatings</td><td>Lawyers' Ratings of State Judges in the US Superior Court</td></tr><tr><th>17</th><td>datasets</td><td>USPersonalExpenditure</td><td>Personal Expenditure Data</td></tr><tr><th>18</th><td>datasets</td><td>VADeaths</td><td>Death Rates in Virginia (1940)</td></tr><tr><th>19</th><td>datasets</td><td>WorldPhones</td><td>The World's Telephones</td></tr><tr><th>20</th><td>datasets</td><td>airquality</td><td>New York Air Quality Measurements</td></tr><tr><th>21</th><td>datasets</td><td>anscombe</td><td>Anscombe's Quartet of 'Identical' Simple Linear Regressions</td></tr><tr><th>22</th><td>datasets</td><td>attenu</td><td>The Joyner-Boore Attenuation Data</td></tr><tr><th>23</th><td>datasets</td><td>attitude</td><td>The Chatterjee-Price Attitude Data</td></tr><tr><th>24</th><td>datasets</td><td>cars</td><td>Speed and Stopping Distances of Cars</td></tr><tr><th>25</th><td>datasets</td><td>chickwts</td><td>Chicken Weights by Feed Type</td></tr><tr><th>26</th><td>datasets</td><td>crimtab</td><td>Student's 3000 Criminals Data</td></tr><tr><th>27</th><td>datasets</td><td>esoph</td><td>Smoking, Alcohol and (O)esophageal Cancer</td></tr><tr><th>28</th><td>datasets</td><td>euro</td><td>Conversion Rates of Euro Currencies</td></tr><tr><th>29</th><td>datasets</td><td>faithful</td><td>Old Faithful Geyser Data</td></tr><tr><th>30</th><td>datasets</td><td>freeny</td><td>Freeny's Revenue Data</td></tr><tr><th>&vellip;</th><td>&vellip;</td><td>&vellip;</td><td>&vellip;</td></tr></tbody></table>"
      ],
      "text/latex": [
       "\\begin{tabular}{r|cccc}\n",
       "\t& Package & Dataset & Title & \\\\\n",
       "\t\\hline\n",
       "\t& String & String & String & \\\\\n",
       "\t\\hline\n",
       "\t1 & datasets & BOD & Biochemical Oxygen Demand & $\\dots$ \\\\\n",
       "\t2 & datasets & CO2 & Carbon Dioxide Uptake in Grass Plants & $\\dots$ \\\\\n",
       "\t3 & datasets & Formaldehyde & Determination of Formaldehyde & $\\dots$ \\\\\n",
       "\t4 & datasets & HairEyeColor & Hair and Eye Color of Statistics Students & $\\dots$ \\\\\n",
       "\t5 & datasets & InsectSprays & Effectiveness of Insect Sprays & $\\dots$ \\\\\n",
       "\t6 & datasets & LifeCycleSavings & Intercountry Life-Cycle Savings Data & $\\dots$ \\\\\n",
       "\t7 & datasets & Loblolly & Growth of Loblolly pine trees & $\\dots$ \\\\\n",
       "\t8 & datasets & OrchardSprays & Potency of Orchard Sprays & $\\dots$ \\\\\n",
       "\t9 & datasets & PlantGrowth & Results from an Experiment on Plant Growth & $\\dots$ \\\\\n",
       "\t10 & datasets & Puromycin & Reaction Velocity of an Enzymatic Reaction & $\\dots$ \\\\\n",
       "\t11 & datasets & Theoph & Pharmacokinetics of Theophylline & $\\dots$ \\\\\n",
       "\t12 & datasets & Titanic & Survival of passengers on the Titanic & $\\dots$ \\\\\n",
       "\t13 & datasets & ToothGrowth & The Effect of Vitamin C on Tooth Growth in Guinea Pigs & $\\dots$ \\\\\n",
       "\t14 & datasets & UCBAdmissions & Student Admissions at UC Berkeley & $\\dots$ \\\\\n",
       "\t15 & datasets & USArrests & Violent Crime Rates by US State & $\\dots$ \\\\\n",
       "\t16 & datasets & USJudgeRatings & Lawyers' Ratings of State Judges in the US Superior Court & $\\dots$ \\\\\n",
       "\t17 & datasets & USPersonalExpenditure & Personal Expenditure Data & $\\dots$ \\\\\n",
       "\t18 & datasets & VADeaths & Death Rates in Virginia (1940) & $\\dots$ \\\\\n",
       "\t19 & datasets & WorldPhones & The World's Telephones & $\\dots$ \\\\\n",
       "\t20 & datasets & airquality & New York Air Quality Measurements & $\\dots$ \\\\\n",
       "\t21 & datasets & anscombe & Anscombe's Quartet of 'Identical' Simple Linear Regressions & $\\dots$ \\\\\n",
       "\t22 & datasets & attenu & The Joyner-Boore Attenuation Data & $\\dots$ \\\\\n",
       "\t23 & datasets & attitude & The Chatterjee-Price Attitude Data & $\\dots$ \\\\\n",
       "\t24 & datasets & cars & Speed and Stopping Distances of Cars & $\\dots$ \\\\\n",
       "\t25 & datasets & chickwts & Chicken Weights by Feed Type & $\\dots$ \\\\\n",
       "\t26 & datasets & crimtab & Student's 3000 Criminals Data & $\\dots$ \\\\\n",
       "\t27 & datasets & esoph & Smoking, Alcohol and (O)esophageal Cancer & $\\dots$ \\\\\n",
       "\t28 & datasets & euro & Conversion Rates of Euro Currencies & $\\dots$ \\\\\n",
       "\t29 & datasets & faithful & Old Faithful Geyser Data & $\\dots$ \\\\\n",
       "\t30 & datasets & freeny & Freeny's Revenue Data & $\\dots$ \\\\\n",
       "\t$\\dots$ & $\\dots$ & $\\dots$ & $\\dots$ &  \\\\\n",
       "\\end{tabular}\n"
      ],
      "text/plain": [
       "50×5 DataFrame. Omitted printing of 3 columns\n",
       "│ Row │ Package  │ Dataset          │\n",
       "│     │ \u001b[90mString\u001b[39m   │ \u001b[90mString\u001b[39m           │\n",
       "├─────┼──────────┼──────────────────┤\n",
       "│ 1   │ datasets │ BOD              │\n",
       "│ 2   │ datasets │ CO2              │\n",
       "│ 3   │ datasets │ Formaldehyde     │\n",
       "│ 4   │ datasets │ HairEyeColor     │\n",
       "│ 5   │ datasets │ InsectSprays     │\n",
       "│ 6   │ datasets │ LifeCycleSavings │\n",
       "│ 7   │ datasets │ Loblolly         │\n",
       "│ 8   │ datasets │ OrchardSprays    │\n",
       "│ 9   │ datasets │ PlantGrowth      │\n",
       "│ 10  │ datasets │ Puromycin        │\n",
       "⋮\n",
       "│ 40  │ datasets │ quakes           │\n",
       "│ 41  │ datasets │ randu            │\n",
       "│ 42  │ datasets │ rivers           │\n",
       "│ 43  │ datasets │ rock             │\n",
       "│ 44  │ datasets │ sleep            │\n",
       "│ 45  │ datasets │ stackloss        │\n",
       "│ 46  │ datasets │ swiss            │\n",
       "│ 47  │ datasets │ trees            │\n",
       "│ 48  │ datasets │ volcano          │\n",
       "│ 49  │ datasets │ warpbreaks       │\n",
       "│ 50  │ datasets │ women            │"
      ]
     },
     "execution_count": 21,
     "metadata": {},
     "output_type": "execute_result"
    }
   ],
   "source": [
    "RDatasets.datasets(\"datasets\")"
   ]
  },
  {
   "cell_type": "code",
   "execution_count": 2,
   "metadata": {},
   "outputs": [
    {
     "data": {
      "text/html": [
       "<table class=\"data-frame\"><thead><tr><th></th><th>SepalLength</th><th>SepalWidth</th><th>PetalLength</th><th>PetalWidth</th><th>Species</th></tr><tr><th></th><th>Float64</th><th>Float64</th><th>Float64</th><th>Float64</th><th>Categorical…</th></tr></thead><tbody><p>150 rows × 5 columns</p><tr><th>1</th><td>5.1</td><td>3.5</td><td>1.4</td><td>0.2</td><td>setosa</td></tr><tr><th>2</th><td>4.9</td><td>3.0</td><td>1.4</td><td>0.2</td><td>setosa</td></tr><tr><th>3</th><td>4.7</td><td>3.2</td><td>1.3</td><td>0.2</td><td>setosa</td></tr><tr><th>4</th><td>4.6</td><td>3.1</td><td>1.5</td><td>0.2</td><td>setosa</td></tr><tr><th>5</th><td>5.0</td><td>3.6</td><td>1.4</td><td>0.2</td><td>setosa</td></tr><tr><th>6</th><td>5.4</td><td>3.9</td><td>1.7</td><td>0.4</td><td>setosa</td></tr><tr><th>7</th><td>4.6</td><td>3.4</td><td>1.4</td><td>0.3</td><td>setosa</td></tr><tr><th>8</th><td>5.0</td><td>3.4</td><td>1.5</td><td>0.2</td><td>setosa</td></tr><tr><th>9</th><td>4.4</td><td>2.9</td><td>1.4</td><td>0.2</td><td>setosa</td></tr><tr><th>10</th><td>4.9</td><td>3.1</td><td>1.5</td><td>0.1</td><td>setosa</td></tr><tr><th>11</th><td>5.4</td><td>3.7</td><td>1.5</td><td>0.2</td><td>setosa</td></tr><tr><th>12</th><td>4.8</td><td>3.4</td><td>1.6</td><td>0.2</td><td>setosa</td></tr><tr><th>13</th><td>4.8</td><td>3.0</td><td>1.4</td><td>0.1</td><td>setosa</td></tr><tr><th>14</th><td>4.3</td><td>3.0</td><td>1.1</td><td>0.1</td><td>setosa</td></tr><tr><th>15</th><td>5.8</td><td>4.0</td><td>1.2</td><td>0.2</td><td>setosa</td></tr><tr><th>16</th><td>5.7</td><td>4.4</td><td>1.5</td><td>0.4</td><td>setosa</td></tr><tr><th>17</th><td>5.4</td><td>3.9</td><td>1.3</td><td>0.4</td><td>setosa</td></tr><tr><th>18</th><td>5.1</td><td>3.5</td><td>1.4</td><td>0.3</td><td>setosa</td></tr><tr><th>19</th><td>5.7</td><td>3.8</td><td>1.7</td><td>0.3</td><td>setosa</td></tr><tr><th>20</th><td>5.1</td><td>3.8</td><td>1.5</td><td>0.3</td><td>setosa</td></tr><tr><th>21</th><td>5.4</td><td>3.4</td><td>1.7</td><td>0.2</td><td>setosa</td></tr><tr><th>22</th><td>5.1</td><td>3.7</td><td>1.5</td><td>0.4</td><td>setosa</td></tr><tr><th>23</th><td>4.6</td><td>3.6</td><td>1.0</td><td>0.2</td><td>setosa</td></tr><tr><th>24</th><td>5.1</td><td>3.3</td><td>1.7</td><td>0.5</td><td>setosa</td></tr><tr><th>25</th><td>4.8</td><td>3.4</td><td>1.9</td><td>0.2</td><td>setosa</td></tr><tr><th>26</th><td>5.0</td><td>3.0</td><td>1.6</td><td>0.2</td><td>setosa</td></tr><tr><th>27</th><td>5.0</td><td>3.4</td><td>1.6</td><td>0.4</td><td>setosa</td></tr><tr><th>28</th><td>5.2</td><td>3.5</td><td>1.5</td><td>0.2</td><td>setosa</td></tr><tr><th>29</th><td>5.2</td><td>3.4</td><td>1.4</td><td>0.2</td><td>setosa</td></tr><tr><th>30</th><td>4.7</td><td>3.2</td><td>1.6</td><td>0.2</td><td>setosa</td></tr><tr><th>&vellip;</th><td>&vellip;</td><td>&vellip;</td><td>&vellip;</td><td>&vellip;</td><td>&vellip;</td></tr></tbody></table>"
      ],
      "text/latex": [
       "\\begin{tabular}{r|ccccc}\n",
       "\t& SepalLength & SepalWidth & PetalLength & PetalWidth & Species\\\\\n",
       "\t\\hline\n",
       "\t& Float64 & Float64 & Float64 & Float64 & Categorical…\\\\\n",
       "\t\\hline\n",
       "\t1 & 5.1 & 3.5 & 1.4 & 0.2 & setosa \\\\\n",
       "\t2 & 4.9 & 3.0 & 1.4 & 0.2 & setosa \\\\\n",
       "\t3 & 4.7 & 3.2 & 1.3 & 0.2 & setosa \\\\\n",
       "\t4 & 4.6 & 3.1 & 1.5 & 0.2 & setosa \\\\\n",
       "\t5 & 5.0 & 3.6 & 1.4 & 0.2 & setosa \\\\\n",
       "\t6 & 5.4 & 3.9 & 1.7 & 0.4 & setosa \\\\\n",
       "\t7 & 4.6 & 3.4 & 1.4 & 0.3 & setosa \\\\\n",
       "\t8 & 5.0 & 3.4 & 1.5 & 0.2 & setosa \\\\\n",
       "\t9 & 4.4 & 2.9 & 1.4 & 0.2 & setosa \\\\\n",
       "\t10 & 4.9 & 3.1 & 1.5 & 0.1 & setosa \\\\\n",
       "\t11 & 5.4 & 3.7 & 1.5 & 0.2 & setosa \\\\\n",
       "\t12 & 4.8 & 3.4 & 1.6 & 0.2 & setosa \\\\\n",
       "\t13 & 4.8 & 3.0 & 1.4 & 0.1 & setosa \\\\\n",
       "\t14 & 4.3 & 3.0 & 1.1 & 0.1 & setosa \\\\\n",
       "\t15 & 5.8 & 4.0 & 1.2 & 0.2 & setosa \\\\\n",
       "\t16 & 5.7 & 4.4 & 1.5 & 0.4 & setosa \\\\\n",
       "\t17 & 5.4 & 3.9 & 1.3 & 0.4 & setosa \\\\\n",
       "\t18 & 5.1 & 3.5 & 1.4 & 0.3 & setosa \\\\\n",
       "\t19 & 5.7 & 3.8 & 1.7 & 0.3 & setosa \\\\\n",
       "\t20 & 5.1 & 3.8 & 1.5 & 0.3 & setosa \\\\\n",
       "\t21 & 5.4 & 3.4 & 1.7 & 0.2 & setosa \\\\\n",
       "\t22 & 5.1 & 3.7 & 1.5 & 0.4 & setosa \\\\\n",
       "\t23 & 4.6 & 3.6 & 1.0 & 0.2 & setosa \\\\\n",
       "\t24 & 5.1 & 3.3 & 1.7 & 0.5 & setosa \\\\\n",
       "\t25 & 4.8 & 3.4 & 1.9 & 0.2 & setosa \\\\\n",
       "\t26 & 5.0 & 3.0 & 1.6 & 0.2 & setosa \\\\\n",
       "\t27 & 5.0 & 3.4 & 1.6 & 0.4 & setosa \\\\\n",
       "\t28 & 5.2 & 3.5 & 1.5 & 0.2 & setosa \\\\\n",
       "\t29 & 5.2 & 3.4 & 1.4 & 0.2 & setosa \\\\\n",
       "\t30 & 4.7 & 3.2 & 1.6 & 0.2 & setosa \\\\\n",
       "\t$\\dots$ & $\\dots$ & $\\dots$ & $\\dots$ & $\\dots$ & $\\dots$ \\\\\n",
       "\\end{tabular}\n"
      ],
      "text/plain": [
       "150×5 DataFrame\n",
       "│ Row │ SepalLength │ SepalWidth │ PetalLength │ PetalWidth │ Species      │\n",
       "│     │ \u001b[90mFloat64\u001b[39m     │ \u001b[90mFloat64\u001b[39m    │ \u001b[90mFloat64\u001b[39m     │ \u001b[90mFloat64\u001b[39m    │ \u001b[90mCategorical…\u001b[39m │\n",
       "├─────┼─────────────┼────────────┼─────────────┼────────────┼──────────────┤\n",
       "│ 1   │ 5.1         │ 3.5        │ 1.4         │ 0.2        │ setosa       │\n",
       "│ 2   │ 4.9         │ 3.0        │ 1.4         │ 0.2        │ setosa       │\n",
       "│ 3   │ 4.7         │ 3.2        │ 1.3         │ 0.2        │ setosa       │\n",
       "│ 4   │ 4.6         │ 3.1        │ 1.5         │ 0.2        │ setosa       │\n",
       "│ 5   │ 5.0         │ 3.6        │ 1.4         │ 0.2        │ setosa       │\n",
       "│ 6   │ 5.4         │ 3.9        │ 1.7         │ 0.4        │ setosa       │\n",
       "│ 7   │ 4.6         │ 3.4        │ 1.4         │ 0.3        │ setosa       │\n",
       "│ 8   │ 5.0         │ 3.4        │ 1.5         │ 0.2        │ setosa       │\n",
       "│ 9   │ 4.4         │ 2.9        │ 1.4         │ 0.2        │ setosa       │\n",
       "│ 10  │ 4.9         │ 3.1        │ 1.5         │ 0.1        │ setosa       │\n",
       "⋮\n",
       "│ 140 │ 6.9         │ 3.1        │ 5.4         │ 2.1        │ virginica    │\n",
       "│ 141 │ 6.7         │ 3.1        │ 5.6         │ 2.4        │ virginica    │\n",
       "│ 142 │ 6.9         │ 3.1        │ 5.1         │ 2.3        │ virginica    │\n",
       "│ 143 │ 5.8         │ 2.7        │ 5.1         │ 1.9        │ virginica    │\n",
       "│ 144 │ 6.8         │ 3.2        │ 5.9         │ 2.3        │ virginica    │\n",
       "│ 145 │ 6.7         │ 3.3        │ 5.7         │ 2.5        │ virginica    │\n",
       "│ 146 │ 6.7         │ 3.0        │ 5.2         │ 2.3        │ virginica    │\n",
       "│ 147 │ 6.3         │ 2.5        │ 5.0         │ 1.9        │ virginica    │\n",
       "│ 148 │ 6.5         │ 3.0        │ 5.2         │ 2.0        │ virginica    │\n",
       "│ 149 │ 6.2         │ 3.4        │ 5.4         │ 2.3        │ virginica    │\n",
       "│ 150 │ 5.9         │ 3.0        │ 5.1         │ 1.8        │ virginica    │"
      ]
     },
     "execution_count": 2,
     "metadata": {},
     "output_type": "execute_result"
    }
   ],
   "source": [
    "using RDatasets\n",
    "iris = RDatasets.dataset(\"datasets\", \"iris\")"
   ]
  },
  {
   "cell_type": "code",
   "execution_count": 3,
   "metadata": {},
   "outputs": [
    {
     "data": {
      "text/html": [
       "# 171 methods for generic function <b>+</b>:<ul><li> +(x::<b>Bool</b>, z::<b>Complex{Bool}</b>) in Base at <a href=\"https://github.com/JuliaLang/julia/tree/381693d3dfc9b7072707f6d544f82f6637fc5e7c/base/complex.jl#L286\" target=\"_blank\">complex.jl:286</a></li> <li> +(x::<b>Bool</b>, y::<b>Bool</b>) in Base at <a href=\"https://github.com/JuliaLang/julia/tree/381693d3dfc9b7072707f6d544f82f6637fc5e7c/base/bool.jl#L96\" target=\"_blank\">bool.jl:96</a></li> <li> +(x::<b>Bool</b>) in Base at <a href=\"https://github.com/JuliaLang/julia/tree/381693d3dfc9b7072707f6d544f82f6637fc5e7c/base/bool.jl#L93\" target=\"_blank\">bool.jl:93</a></li> <li> +(x::<b>Bool</b>, y::<b>T</b>)<i> where T<:AbstractFloat</i> in Base at <a href=\"https://github.com/JuliaLang/julia/tree/381693d3dfc9b7072707f6d544f82f6637fc5e7c/base/bool.jl#L104\" target=\"_blank\">bool.jl:104</a></li> <li> +(x::<b>Bool</b>, z::<b>Complex</b>) in Base at <a href=\"https://github.com/JuliaLang/julia/tree/381693d3dfc9b7072707f6d544f82f6637fc5e7c/base/complex.jl#L293\" target=\"_blank\">complex.jl:293</a></li> <li> +(a::<b>Float16</b>, b::<b>Float16</b>) in Base at <a href=\"https://github.com/JuliaLang/julia/tree/381693d3dfc9b7072707f6d544f82f6637fc5e7c/base/float.jl#L398\" target=\"_blank\">float.jl:398</a></li> <li> +(x::<b>Float32</b>, y::<b>Float32</b>) in Base at <a href=\"https://github.com/JuliaLang/julia/tree/381693d3dfc9b7072707f6d544f82f6637fc5e7c/base/float.jl#L400\" target=\"_blank\">float.jl:400</a></li> <li> +(x::<b>Float64</b>, y::<b>Float64</b>) in Base at <a href=\"https://github.com/JuliaLang/julia/tree/381693d3dfc9b7072707f6d544f82f6637fc5e7c/base/float.jl#L401\" target=\"_blank\">float.jl:401</a></li> <li> +(z::<b>Complex{Bool}</b>, x::<b>Bool</b>) in Base at <a href=\"https://github.com/JuliaLang/julia/tree/381693d3dfc9b7072707f6d544f82f6637fc5e7c/base/complex.jl#L287\" target=\"_blank\">complex.jl:287</a></li> <li> +(z::<b>Complex{Bool}</b>, x::<b>Real</b>) in Base at <a href=\"https://github.com/JuliaLang/julia/tree/381693d3dfc9b7072707f6d544f82f6637fc5e7c/base/complex.jl#L301\" target=\"_blank\">complex.jl:301</a></li> <li> +(::<b>Missing</b>, ::<b>Missing</b>) in Base at <a href=\"https://github.com/JuliaLang/julia/tree/381693d3dfc9b7072707f6d544f82f6637fc5e7c/base/missing.jl#L114\" target=\"_blank\">missing.jl:114</a></li> <li> +(::<b>Missing</b>) in Base at <a href=\"https://github.com/JuliaLang/julia/tree/381693d3dfc9b7072707f6d544f82f6637fc5e7c/base/missing.jl#L100\" target=\"_blank\">missing.jl:100</a></li> <li> +(::<b>Missing</b>, ::<b>Number</b>) in Base at <a href=\"https://github.com/JuliaLang/julia/tree/381693d3dfc9b7072707f6d544f82f6637fc5e7c/base/missing.jl#L115\" target=\"_blank\">missing.jl:115</a></li> <li> +(level::<b>Base.CoreLogging.LogLevel</b>, inc::<b>Integer</b>) in Base.CoreLogging at <a href=\"https://github.com/JuliaLang/julia/tree/381693d3dfc9b7072707f6d544f82f6637fc5e7c/base/logging.jl#L107\" target=\"_blank\">logging.jl:107</a></li> <li> +(c::<b>BigInt</b>, x::<b>BigFloat</b>) in Base.MPFR at <a href=\"https://github.com/JuliaLang/julia/tree/381693d3dfc9b7072707f6d544f82f6637fc5e7c/base/mpfr.jl#L414\" target=\"_blank\">mpfr.jl:414</a></li> <li> +(a::<b>BigInt</b>, b::<b>BigInt</b>, c::<b>BigInt</b>, d::<b>BigInt</b>, e::<b>BigInt</b>) in Base.GMP at <a href=\"https://github.com/JuliaLang/julia/tree/381693d3dfc9b7072707f6d544f82f6637fc5e7c/base/gmp.jl#L515\" target=\"_blank\">gmp.jl:515</a></li> <li> +(a::<b>BigInt</b>, b::<b>BigInt</b>, c::<b>BigInt</b>, d::<b>BigInt</b>) in Base.GMP at <a href=\"https://github.com/JuliaLang/julia/tree/381693d3dfc9b7072707f6d544f82f6637fc5e7c/base/gmp.jl#L514\" target=\"_blank\">gmp.jl:514</a></li> <li> +(a::<b>BigInt</b>, b::<b>BigInt</b>, c::<b>BigInt</b>) in Base.GMP at <a href=\"https://github.com/JuliaLang/julia/tree/381693d3dfc9b7072707f6d544f82f6637fc5e7c/base/gmp.jl#L513\" target=\"_blank\">gmp.jl:513</a></li> <li> +(x::<b>BigInt</b>, y::<b>BigInt</b>) in Base.GMP at <a href=\"https://github.com/JuliaLang/julia/tree/381693d3dfc9b7072707f6d544f82f6637fc5e7c/base/gmp.jl#L473\" target=\"_blank\">gmp.jl:473</a></li> <li> +(x::<b>BigInt</b>, c::<b>Union{UInt16, UInt32, UInt64, UInt8}</b>) in Base.GMP at <a href=\"https://github.com/JuliaLang/julia/tree/381693d3dfc9b7072707f6d544f82f6637fc5e7c/base/gmp.jl#L521\" target=\"_blank\">gmp.jl:521</a></li> <li> +(x::<b>BigInt</b>, c::<b>Union{Int16, Int32, Int64, Int8}</b>) in Base.GMP at <a href=\"https://github.com/JuliaLang/julia/tree/381693d3dfc9b7072707f6d544f82f6637fc5e7c/base/gmp.jl#L527\" target=\"_blank\">gmp.jl:527</a></li> <li> +(a::<b>BigFloat</b>, b::<b>BigFloat</b>, c::<b>BigFloat</b>, d::<b>BigFloat</b>, e::<b>BigFloat</b>) in Base.MPFR at <a href=\"https://github.com/JuliaLang/julia/tree/381693d3dfc9b7072707f6d544f82f6637fc5e7c/base/mpfr.jl#L564\" target=\"_blank\">mpfr.jl:564</a></li> <li> +(a::<b>BigFloat</b>, b::<b>BigFloat</b>, c::<b>BigFloat</b>, d::<b>BigFloat</b>) in Base.MPFR at <a href=\"https://github.com/JuliaLang/julia/tree/381693d3dfc9b7072707f6d544f82f6637fc5e7c/base/mpfr.jl#L557\" target=\"_blank\">mpfr.jl:557</a></li> <li> +(a::<b>BigFloat</b>, b::<b>BigFloat</b>, c::<b>BigFloat</b>) in Base.MPFR at <a href=\"https://github.com/JuliaLang/julia/tree/381693d3dfc9b7072707f6d544f82f6637fc5e7c/base/mpfr.jl#L551\" target=\"_blank\">mpfr.jl:551</a></li> <li> +(x::<b>BigFloat</b>, c::<b>BigInt</b>) in Base.MPFR at <a href=\"https://github.com/JuliaLang/julia/tree/381693d3dfc9b7072707f6d544f82f6637fc5e7c/base/mpfr.jl#L410\" target=\"_blank\">mpfr.jl:410</a></li> <li> +(x::<b>BigFloat</b>, y::<b>BigFloat</b>) in Base.MPFR at <a href=\"https://github.com/JuliaLang/julia/tree/381693d3dfc9b7072707f6d544f82f6637fc5e7c/base/mpfr.jl#L379\" target=\"_blank\">mpfr.jl:379</a></li> <li> +(x::<b>BigFloat</b>, c::<b>Union{UInt16, UInt32, UInt64, UInt8}</b>) in Base.MPFR at <a href=\"https://github.com/JuliaLang/julia/tree/381693d3dfc9b7072707f6d544f82f6637fc5e7c/base/mpfr.jl#L386\" target=\"_blank\">mpfr.jl:386</a></li> <li> +(x::<b>BigFloat</b>, c::<b>Union{Int16, Int32, Int64, Int8}</b>) in Base.MPFR at <a href=\"https://github.com/JuliaLang/julia/tree/381693d3dfc9b7072707f6d544f82f6637fc5e7c/base/mpfr.jl#L394\" target=\"_blank\">mpfr.jl:394</a></li> <li> +(x::<b>BigFloat</b>, c::<b>Union{Float16, Float32, Float64}</b>) in Base.MPFR at <a href=\"https://github.com/JuliaLang/julia/tree/381693d3dfc9b7072707f6d544f82f6637fc5e7c/base/mpfr.jl#L402\" target=\"_blank\">mpfr.jl:402</a></li> <li> +(x::<b>Dates.CompoundPeriod</b>, y::<b>Dates.CompoundPeriod</b>) in Dates at <a href=\"file:///Users/julia/buildbot/worker/package_macos64/build/usr/share/julia/stdlib/v1.4/Dates/src/periods.jl\" target=\"_blank\">/Applications/Julia-1.4.app/Contents/Resources/julia/share/julia/stdlib/v1.4/Dates/src/periods.jl:341</a></li> <li> +(x::<b>Dates.CompoundPeriod</b>, y::<b>Dates.Period</b>) in Dates at <a href=\"file:///Users/julia/buildbot/worker/package_macos64/build/usr/share/julia/stdlib/v1.4/Dates/src/periods.jl\" target=\"_blank\">/Applications/Julia-1.4.app/Contents/Resources/julia/share/julia/stdlib/v1.4/Dates/src/periods.jl:339</a></li> <li> +(x::<b>Dates.CompoundPeriod</b>, y::<b>Dates.TimeType</b>) in Dates at <a href=\"file:///Users/julia/buildbot/worker/package_macos64/build/usr/share/julia/stdlib/v1.4/Dates/src/periods.jl\" target=\"_blank\">/Applications/Julia-1.4.app/Contents/Resources/julia/share/julia/stdlib/v1.4/Dates/src/periods.jl:369</a></li> <li> +(x::<b>Dates.Date</b>, y::<b>Dates.Day</b>) in Dates at <a href=\"file:///Users/julia/buildbot/worker/package_macos64/build/usr/share/julia/stdlib/v1.4/Dates/src/arithmetic.jl\" target=\"_blank\">/Applications/Julia-1.4.app/Contents/Resources/julia/share/julia/stdlib/v1.4/Dates/src/arithmetic.jl:74</a></li> <li> +(x::<b>Dates.Date</b>, y::<b>Dates.Week</b>) in Dates at <a href=\"file:///Users/julia/buildbot/worker/package_macos64/build/usr/share/julia/stdlib/v1.4/Dates/src/arithmetic.jl\" target=\"_blank\">/Applications/Julia-1.4.app/Contents/Resources/julia/share/julia/stdlib/v1.4/Dates/src/arithmetic.jl:72</a></li> <li> +(dt::<b>Dates.Date</b>, z::<b>Dates.Month</b>) in Dates at <a href=\"file:///Users/julia/buildbot/worker/package_macos64/build/usr/share/julia/stdlib/v1.4/Dates/src/arithmetic.jl\" target=\"_blank\">/Applications/Julia-1.4.app/Contents/Resources/julia/share/julia/stdlib/v1.4/Dates/src/arithmetic.jl:55</a></li> <li> +(dt::<b>Dates.Date</b>, y::<b>Dates.Year</b>) in Dates at <a href=\"file:///Users/julia/buildbot/worker/package_macos64/build/usr/share/julia/stdlib/v1.4/Dates/src/arithmetic.jl\" target=\"_blank\">/Applications/Julia-1.4.app/Contents/Resources/julia/share/julia/stdlib/v1.4/Dates/src/arithmetic.jl:28</a></li> <li> +(dt::<b>Dates.Date</b>, t::<b>Dates.Time</b>) in Dates at <a href=\"file:///Users/julia/buildbot/worker/package_macos64/build/usr/share/julia/stdlib/v1.4/Dates/src/arithmetic.jl\" target=\"_blank\">/Applications/Julia-1.4.app/Contents/Resources/julia/share/julia/stdlib/v1.4/Dates/src/arithmetic.jl:19</a></li> <li> +(t::<b>Dates.Time</b>, dt::<b>Dates.Date</b>) in Dates at <a href=\"file:///Users/julia/buildbot/worker/package_macos64/build/usr/share/julia/stdlib/v1.4/Dates/src/arithmetic.jl\" target=\"_blank\">/Applications/Julia-1.4.app/Contents/Resources/julia/share/julia/stdlib/v1.4/Dates/src/arithmetic.jl:20</a></li> <li> +(x::<b>Dates.Time</b>, y::<b>Dates.TimePeriod</b>) in Dates at <a href=\"file:///Users/julia/buildbot/worker/package_macos64/build/usr/share/julia/stdlib/v1.4/Dates/src/arithmetic.jl\" target=\"_blank\">/Applications/Julia-1.4.app/Contents/Resources/julia/share/julia/stdlib/v1.4/Dates/src/arithmetic.jl:78</a></li> <li> +(dt::<b>Dates.DateTime</b>, offset::<b>TimeZones.UTCOffset</b>) in TimeZones at <a href=\"file:///Users/peter/.julia/packages/TimeZones/OjMoF/src/utcoffset.jl\" target=\"_blank\">/Users/peter/.julia/packages/TimeZones/OjMoF/src/utcoffset.jl:26</a></li> <li> +(dt::<b>Dates.DateTime</b>, z::<b>Dates.Month</b>) in Dates at <a href=\"file:///Users/julia/buildbot/worker/package_macos64/build/usr/share/julia/stdlib/v1.4/Dates/src/arithmetic.jl\" target=\"_blank\">/Applications/Julia-1.4.app/Contents/Resources/julia/share/julia/stdlib/v1.4/Dates/src/arithmetic.jl:48</a></li> <li> +(dt::<b>Dates.DateTime</b>, y::<b>Dates.Year</b>) in Dates at <a href=\"file:///Users/julia/buildbot/worker/package_macos64/build/usr/share/julia/stdlib/v1.4/Dates/src/arithmetic.jl\" target=\"_blank\">/Applications/Julia-1.4.app/Contents/Resources/julia/share/julia/stdlib/v1.4/Dates/src/arithmetic.jl:24</a></li> <li> +(x::<b>Dates.DateTime</b>, y::<b>Dates.Period</b>) in Dates at <a href=\"file:///Users/julia/buildbot/worker/package_macos64/build/usr/share/julia/stdlib/v1.4/Dates/src/arithmetic.jl\" target=\"_blank\">/Applications/Julia-1.4.app/Contents/Resources/julia/share/julia/stdlib/v1.4/Dates/src/arithmetic.jl:76</a></li> <li> +(B::<b>BitArray{2}</b>, J::<b>LinearAlgebra.UniformScaling</b>) in LinearAlgebra at <a href=\"file:///Users/julia/buildbot/worker/package_macos64/build/usr/share/julia/stdlib/v1.4/LinearAlgebra/src/uniformscaling.jl\" target=\"_blank\">/Applications/Julia-1.4.app/Contents/Resources/julia/share/julia/stdlib/v1.4/LinearAlgebra/src/uniformscaling.jl:115</a></li> <li> +(a::<b>Pkg.Resolve.VersionWeight</b>, b::<b>Pkg.Resolve.VersionWeight</b>) in Pkg.Resolve at <a href=\"file:///Users/julia/buildbot/worker/package_macos64/build/usr/share/julia/stdlib/v1.4/Pkg/src/Resolve/versionweights.jl\" target=\"_blank\">/Applications/Julia-1.4.app/Contents/Resources/julia/share/julia/stdlib/v1.4/Pkg/src/Resolve/versionweights.jl:22</a></li> <li> +(a::<b>Pkg.Resolve.FieldValue</b>, b::<b>Pkg.Resolve.FieldValue</b>) in Pkg.Resolve at <a href=\"file:///Users/julia/buildbot/worker/package_macos64/build/usr/share/julia/stdlib/v1.4/Pkg/src/Resolve/fieldvalues.jl\" target=\"_blank\">/Applications/Julia-1.4.app/Contents/Resources/julia/share/julia/stdlib/v1.4/Pkg/src/Resolve/fieldvalues.jl:43</a></li> <li> +(a::<b>FilePathsBase.Mode</b>, b::<b>FilePathsBase.Mode</b>) in FilePathsBase at <a href=\"file:///Users/peter/.julia/packages/FilePathsBase/Oyg1p/src/mode.jl\" target=\"_blank\">/Users/peter/.julia/packages/FilePathsBase/Oyg1p/src/mode.jl:116</a></li> <li> +(x::<b>TimeZones.ZonedDateTime</b>) in TimeZones at <a href=\"file:///Users/peter/.julia/packages/TimeZones/OjMoF/src/arithmetic.jl\" target=\"_blank\">/Users/peter/.julia/packages/TimeZones/OjMoF/src/arithmetic.jl:4</a></li> <li> +(zdt::<b>TimeZones.ZonedDateTime</b>, p::<b>Dates.DatePeriod</b>) in TimeZones at <a href=\"file:///Users/peter/.julia/packages/TimeZones/OjMoF/src/arithmetic.jl\" target=\"_blank\">/Users/peter/.julia/packages/TimeZones/OjMoF/src/arithmetic.jl:8</a></li> <li> +(zdt::<b>TimeZones.ZonedDateTime</b>, p::<b>Dates.TimePeriod</b>) in TimeZones at <a href=\"file:///Users/peter/.julia/packages/TimeZones/OjMoF/src/arithmetic.jl\" target=\"_blank\">/Users/peter/.julia/packages/TimeZones/OjMoF/src/arithmetic.jl:11</a></li> <li> +(y::<b>AbstractFloat</b>, x::<b>Bool</b>) in Base at <a href=\"https://github.com/JuliaLang/julia/tree/381693d3dfc9b7072707f6d544f82f6637fc5e7c/base/bool.jl#L106\" target=\"_blank\">bool.jl:106</a></li> <li> +(x::<b>T</b>, y::<b>T</b>)<i> where T<:Union{Int128, Int16, Int32, Int64, Int8, UInt128, UInt16, UInt32, UInt64, UInt8}</i> in Base at <a href=\"https://github.com/JuliaLang/julia/tree/381693d3dfc9b7072707f6d544f82f6637fc5e7c/base/int.jl#L53\" target=\"_blank\">int.jl:53</a></li> <li> +(c::<b>Union{UInt16, UInt32, UInt64, UInt8}</b>, x::<b>BigInt</b>) in Base.GMP at <a href=\"https://github.com/JuliaLang/julia/tree/381693d3dfc9b7072707f6d544f82f6637fc5e7c/base/gmp.jl#L522\" target=\"_blank\">gmp.jl:522</a></li> <li> +(c::<b>Union{Int16, Int32, Int64, Int8}</b>, x::<b>BigInt</b>) in Base.GMP at <a href=\"https://github.com/JuliaLang/julia/tree/381693d3dfc9b7072707f6d544f82f6637fc5e7c/base/gmp.jl#L528\" target=\"_blank\">gmp.jl:528</a></li> <li> +(a::<b>Integer</b>, b::<b>Integer</b>) in Base at <a href=\"https://github.com/JuliaLang/julia/tree/381693d3dfc9b7072707f6d544f82f6637fc5e7c/base/int.jl#L857\" target=\"_blank\">int.jl:857</a></li> <li> +(x::<b>Integer</b>, y::<b>Ptr</b>) in Base at <a href=\"https://github.com/JuliaLang/julia/tree/381693d3dfc9b7072707f6d544f82f6637fc5e7c/base/pointer.jl#L161\" target=\"_blank\">pointer.jl:161</a></li> <li> +(z::<b>Complex</b>) in Base at <a href=\"https://github.com/JuliaLang/julia/tree/381693d3dfc9b7072707f6d544f82f6637fc5e7c/base/complex.jl#L273\" target=\"_blank\">complex.jl:273</a></li> <li> +(z::<b>Complex</b>, w::<b>Complex</b>) in Base at <a href=\"https://github.com/JuliaLang/julia/tree/381693d3dfc9b7072707f6d544f82f6637fc5e7c/base/complex.jl#L275\" target=\"_blank\">complex.jl:275</a></li> <li> +(z::<b>Complex</b>, x::<b>Bool</b>) in Base at <a href=\"https://github.com/JuliaLang/julia/tree/381693d3dfc9b7072707f6d544f82f6637fc5e7c/base/complex.jl#L294\" target=\"_blank\">complex.jl:294</a></li> <li> +(x::<b>Rational</b>) in Base at <a href=\"https://github.com/JuliaLang/julia/tree/381693d3dfc9b7072707f6d544f82f6637fc5e7c/base/rational.jl#L247\" target=\"_blank\">rational.jl:247</a></li> <li> +(x::<b>Real</b>, z::<b>Complex{Bool}</b>) in Base at <a href=\"https://github.com/JuliaLang/julia/tree/381693d3dfc9b7072707f6d544f82f6637fc5e7c/base/complex.jl#L300\" target=\"_blank\">complex.jl:300</a></li> <li> +(x::<b>Real</b>, z::<b>Complex</b>) in Base at <a href=\"https://github.com/JuliaLang/julia/tree/381693d3dfc9b7072707f6d544f82f6637fc5e7c/base/complex.jl#L312\" target=\"_blank\">complex.jl:312</a></li> <li> +(z::<b>Complex</b>, x::<b>Real</b>) in Base at <a href=\"https://github.com/JuliaLang/julia/tree/381693d3dfc9b7072707f6d544f82f6637fc5e7c/base/complex.jl#L313\" target=\"_blank\">complex.jl:313</a></li> <li> +(x::<b>Rational</b>, y::<b>Rational</b>) in Base at <a href=\"https://github.com/JuliaLang/julia/tree/381693d3dfc9b7072707f6d544f82f6637fc5e7c/base/rational.jl#L263\" target=\"_blank\">rational.jl:263</a></li> <li> +(x::<b>Integer</b>, y::<b>AbstractChar</b>) in Base at <a href=\"https://github.com/JuliaLang/julia/tree/381693d3dfc9b7072707f6d544f82f6637fc5e7c/base/char.jl#L224\" target=\"_blank\">char.jl:224</a></li> <li> +(c::<b>Union{UInt16, UInt32, UInt64, UInt8}</b>, x::<b>BigFloat</b>) in Base.MPFR at <a href=\"https://github.com/JuliaLang/julia/tree/381693d3dfc9b7072707f6d544f82f6637fc5e7c/base/mpfr.jl#L390\" target=\"_blank\">mpfr.jl:390</a></li> <li> +(c::<b>Union{Int16, Int32, Int64, Int8}</b>, x::<b>BigFloat</b>) in Base.MPFR at <a href=\"https://github.com/JuliaLang/julia/tree/381693d3dfc9b7072707f6d544f82f6637fc5e7c/base/mpfr.jl#L398\" target=\"_blank\">mpfr.jl:398</a></li> <li> +(c::<b>Union{Float16, Float32, Float64}</b>, x::<b>BigFloat</b>) in Base.MPFR at <a href=\"https://github.com/JuliaLang/julia/tree/381693d3dfc9b7072707f6d544f82f6637fc5e7c/base/mpfr.jl#L406\" target=\"_blank\">mpfr.jl:406</a></li> <li> +(x::<b>AbstractIrrational</b>, y::<b>AbstractIrrational</b>) in Base at <a href=\"https://github.com/JuliaLang/julia/tree/381693d3dfc9b7072707f6d544f82f6637fc5e7c/base/irrationals.jl#L137\" target=\"_blank\">irrationals.jl:137</a></li> <li> +(x::<b>Number</b>) in Base at <a href=\"https://github.com/JuliaLang/julia/tree/381693d3dfc9b7072707f6d544f82f6637fc5e7c/base/operators.jl#L504\" target=\"_blank\">operators.jl:504</a></li> <li> +(x::<b>T</b>, y::<b>T</b>)<i> where T<:Number</i> in Base at <a href=\"https://github.com/JuliaLang/julia/tree/381693d3dfc9b7072707f6d544f82f6637fc5e7c/base/promotion.jl#L384\" target=\"_blank\">promotion.jl:384</a></li> <li> +(x::<b>Number</b>, y::<b>Number</b>) in Base at <a href=\"https://github.com/JuliaLang/julia/tree/381693d3dfc9b7072707f6d544f82f6637fc5e7c/base/promotion.jl#L311\" target=\"_blank\">promotion.jl:311</a></li> <li> +(r1::<b>OrdinalRange</b>, r2::<b>OrdinalRange</b>) in Base at <a href=\"https://github.com/JuliaLang/julia/tree/381693d3dfc9b7072707f6d544f82f6637fc5e7c/base/range.jl#L1011\" target=\"_blank\">range.jl:1011</a></li> <li> +(r1::<b>LinRange{T}</b>, r2::<b>LinRange{T}</b>)<i> where T</i> in Base at <a href=\"https://github.com/JuliaLang/julia/tree/381693d3dfc9b7072707f6d544f82f6637fc5e7c/base/range.jl#L1018\" target=\"_blank\">range.jl:1018</a></li> <li> +(r1::<b>StepRangeLen{T,R,S} where S</b>, r2::<b>StepRangeLen{T,R,S} where S</b>)<i> where {R<:Base.TwicePrecision, T}</i> in Base at <a href=\"https://github.com/JuliaLang/julia/tree/381693d3dfc9b7072707f6d544f82f6637fc5e7c/base/twiceprecision.jl#L557\" target=\"_blank\">twiceprecision.jl:557</a></li> <li> +(r1::<b>StepRangeLen{T,S,S1} where S1</b>, r2::<b>StepRangeLen{T,S,S1} where S1</b>)<i> where {T, S}</i> in Base at <a href=\"https://github.com/JuliaLang/julia/tree/381693d3dfc9b7072707f6d544f82f6637fc5e7c/base/range.jl#L1034\" target=\"_blank\">range.jl:1034</a></li> <li> +(r1::<b>Union{LinRange, OrdinalRange, StepRangeLen}</b>, r2::<b>Union{LinRange, OrdinalRange, StepRangeLen}</b>) in Base at <a href=\"https://github.com/JuliaLang/julia/tree/381693d3dfc9b7072707f6d544f82f6637fc5e7c/base/range.jl#L1026\" target=\"_blank\">range.jl:1026</a></li> <li> +(x::<b>Ptr</b>, y::<b>Integer</b>) in Base at <a href=\"https://github.com/JuliaLang/julia/tree/381693d3dfc9b7072707f6d544f82f6637fc5e7c/base/pointer.jl#L159\" target=\"_blank\">pointer.jl:159</a></li> <li> +(x::<b>Base.TwicePrecision</b>, y::<b>Number</b>) in Base at <a href=\"https://github.com/JuliaLang/julia/tree/381693d3dfc9b7072707f6d544f82f6637fc5e7c/base/twiceprecision.jl#L265\" target=\"_blank\">twiceprecision.jl:265</a></li> <li> +(x::<b>Number</b>, y::<b>Base.TwicePrecision</b>) in Base at <a href=\"https://github.com/JuliaLang/julia/tree/381693d3dfc9b7072707f6d544f82f6637fc5e7c/base/twiceprecision.jl#L268\" target=\"_blank\">twiceprecision.jl:268</a></li> <li> +(x::<b>Base.TwicePrecision{T}</b>, y::<b>Base.TwicePrecision{T}</b>)<i> where T</i> in Base at <a href=\"https://github.com/JuliaLang/julia/tree/381693d3dfc9b7072707f6d544f82f6637fc5e7c/base/twiceprecision.jl#L271\" target=\"_blank\">twiceprecision.jl:271</a></li> <li> +(x::<b>Base.TwicePrecision</b>, y::<b>Base.TwicePrecision</b>) in Base at <a href=\"https://github.com/JuliaLang/julia/tree/381693d3dfc9b7072707f6d544f82f6637fc5e7c/base/twiceprecision.jl#L275\" target=\"_blank\">twiceprecision.jl:275</a></li> <li> +(A::<b>Array</b>, Bs::<b>Array...</b>) in Base at <a href=\"https://github.com/JuliaLang/julia/tree/381693d3dfc9b7072707f6d544f82f6637fc5e7c/base/arraymath.jl#L44\" target=\"_blank\">arraymath.jl:44</a></li> <li> +(A::<b>BitArray</b>, B::<b>BitArray</b>) in Base at <a href=\"https://github.com/JuliaLang/julia/tree/381693d3dfc9b7072707f6d544f82f6637fc5e7c/base/bitarray.jl#L1106\" target=\"_blank\">bitarray.jl:1106</a></li> <li> +(r::<b>AbstractRange{#s664} where #s664<:Dates.TimeType</b>, x::<b>Dates.Period</b>) in Dates at <a href=\"file:///Users/julia/buildbot/worker/package_macos64/build/usr/share/julia/stdlib/v1.4/Dates/src/ranges.jl\" target=\"_blank\">/Applications/Julia-1.4.app/Contents/Resources/julia/share/julia/stdlib/v1.4/Dates/src/ranges.jl:59</a></li> <li> +(A::<b>Array</b>, B::<b>SparseArrays.AbstractSparseMatrixCSC</b>) in SparseArrays at <a href=\"file:///Users/julia/buildbot/worker/package_macos64/build/usr/share/julia/stdlib/v1.4/SparseArrays/src/sparsematrix.jl\" target=\"_blank\">/Applications/Julia-1.4.app/Contents/Resources/julia/share/julia/stdlib/v1.4/SparseArrays/src/sparsematrix.jl:1652</a></li> <li> +(x::<b>Union{DenseArray{#s664,N}, Base.ReinterpretArray{#s664,N,S,A} where S where A<:Union{SubArray{T,N,A,I,true} where I<:Union{Tuple{Vararg{Real,N} where N}, Tuple{AbstractUnitRange,Vararg{Any,N} where N}} where A<:DenseArray where N where T, DenseArray}, Base.ReshapedArray{#s664,N,A,MI} where MI<:Tuple{Vararg{Base.MultiplicativeInverses.SignedMultiplicativeInverse{Int64},N} where N} where A<:Union{Base.ReinterpretArray{T,N,S,A} where S where A<:Union{SubArray{T,N,A,I,true} where I<:Union{Tuple{Vararg{Real,N} where N}, Tuple{AbstractUnitRange,Vararg{Any,N} where N}} where A<:DenseArray where N where T, DenseArray} where N where T, SubArray{T,N,A,I,true} where I<:Union{Tuple{Vararg{Real,N} where N}, Tuple{AbstractUnitRange,Vararg{Any,N} where N}} where A<:DenseArray where N where T, DenseArray}, SubArray{#s664,N,A,I,L} where L where I<:Tuple{Vararg{Union{Int64, AbstractRange{Int64}, Base.AbstractCartesianIndex},N} where N} where A<:Union{Base.ReinterpretArray{T,N,S,A} where S where A<:Union{SubArray{T,N,A,I,true} where I<:Union{Tuple{Vararg{Real,N} where N}, Tuple{AbstractUnitRange,Vararg{Any,N} where N}} where A<:DenseArray where N where T, DenseArray} where N where T, Base.ReshapedArray{T,N,A,MI} where MI<:Tuple{Vararg{Base.MultiplicativeInverses.SignedMultiplicativeInverse{Int64},N} where N} where A<:Union{Base.ReinterpretArray{T,N,S,A} where S where A<:Union{SubArray{T,N,A,I,true} where I<:Union{Tuple{Vararg{Real,N} where N}, Tuple{AbstractUnitRange,Vararg{Any,N} where N}} where A<:DenseArray where N where T, DenseArray} where N where T, SubArray{T,N,A,I,true} where I<:Union{Tuple{Vararg{Real,N} where N}, Tuple{AbstractUnitRange,Vararg{Any,N} where N}} where A<:DenseArray where N where T, DenseArray} where N where T, DenseArray}} where N where #s664<:Union{Dates.CompoundPeriod, Dates.Period}</b>) in Dates at <a href=\"file:///Users/julia/buildbot/worker/package_macos64/build/usr/share/julia/stdlib/v1.4/Dates/src/deprecated.jl\" target=\"_blank\">/Applications/Julia-1.4.app/Contents/Resources/julia/share/julia/stdlib/v1.4/Dates/src/deprecated.jl:57</a></li> <li> +(x::<b>Union{DenseArray{#s664,N}, Base.ReinterpretArray{#s664,N,S,A} where S where A<:Union{SubArray{T,N,A,I,true} where I<:Union{Tuple{Vararg{Real,N} where N}, Tuple{AbstractUnitRange,Vararg{Any,N} where N}} where A<:DenseArray where N where T, DenseArray}, Base.ReshapedArray{#s664,N,A,MI} where MI<:Tuple{Vararg{Base.MultiplicativeInverses.SignedMultiplicativeInverse{Int64},N} where N} where A<:Union{Base.ReinterpretArray{T,N,S,A} where S where A<:Union{SubArray{T,N,A,I,true} where I<:Union{Tuple{Vararg{Real,N} where N}, Tuple{AbstractUnitRange,Vararg{Any,N} where N}} where A<:DenseArray where N where T, DenseArray} where N where T, SubArray{T,N,A,I,true} where I<:Union{Tuple{Vararg{Real,N} where N}, Tuple{AbstractUnitRange,Vararg{Any,N} where N}} where A<:DenseArray where N where T, DenseArray}, SubArray{#s664,N,A,I,L} where L where I<:Tuple{Vararg{Union{Int64, AbstractRange{Int64}, Base.AbstractCartesianIndex},N} where N} where A<:Union{Base.ReinterpretArray{T,N,S,A} where S where A<:Union{SubArray{T,N,A,I,true} where I<:Union{Tuple{Vararg{Real,N} where N}, Tuple{AbstractUnitRange,Vararg{Any,N} where N}} where A<:DenseArray where N where T, DenseArray} where N where T, Base.ReshapedArray{T,N,A,MI} where MI<:Tuple{Vararg{Base.MultiplicativeInverses.SignedMultiplicativeInverse{Int64},N} where N} where A<:Union{Base.ReinterpretArray{T,N,S,A} where S where A<:Union{SubArray{T,N,A,I,true} where I<:Union{Tuple{Vararg{Real,N} where N}, Tuple{AbstractUnitRange,Vararg{Any,N} where N}} where A<:DenseArray where N where T, DenseArray} where N where T, SubArray{T,N,A,I,true} where I<:Union{Tuple{Vararg{Real,N} where N}, Tuple{AbstractUnitRange,Vararg{Any,N} where N}} where A<:DenseArray where N where T, DenseArray} where N where T, DenseArray}} where N where #s664<:Union{Dates.CompoundPeriod, Dates.Period}</b>, y::<b>Dates.TimeType</b>) in Dates at <a href=\"file:///Users/julia/buildbot/worker/package_macos64/build/usr/share/julia/stdlib/v1.4/Dates/src/deprecated.jl\" target=\"_blank\">/Applications/Julia-1.4.app/Contents/Resources/julia/share/julia/stdlib/v1.4/Dates/src/deprecated.jl:12</a></li> <li> +(X::<b>Union{DenseArray{#s664,N}, Base.ReinterpretArray{#s664,N,S,A} where S where A<:Union{SubArray{T,N,A,I,true} where I<:Union{Tuple{Vararg{Real,N} where N}, Tuple{AbstractUnitRange,Vararg{Any,N} where N}} where A<:DenseArray where N where T, DenseArray}, Base.ReshapedArray{#s664,N,A,MI} where MI<:Tuple{Vararg{Base.MultiplicativeInverses.SignedMultiplicativeInverse{Int64},N} where N} where A<:Union{Base.ReinterpretArray{T,N,S,A} where S where A<:Union{SubArray{T,N,A,I,true} where I<:Union{Tuple{Vararg{Real,N} where N}, Tuple{AbstractUnitRange,Vararg{Any,N} where N}} where A<:DenseArray where N where T, DenseArray} where N where T, SubArray{T,N,A,I,true} where I<:Union{Tuple{Vararg{Real,N} where N}, Tuple{AbstractUnitRange,Vararg{Any,N} where N}} where A<:DenseArray where N where T, DenseArray}, SubArray{#s664,N,A,I,L} where L where I<:Tuple{Vararg{Union{Int64, AbstractRange{Int64}, Base.AbstractCartesianIndex},N} where N} where A<:Union{Base.ReinterpretArray{T,N,S,A} where S where A<:Union{SubArray{T,N,A,I,true} where I<:Union{Tuple{Vararg{Real,N} where N}, Tuple{AbstractUnitRange,Vararg{Any,N} where N}} where A<:DenseArray where N where T, DenseArray} where N where T, Base.ReshapedArray{T,N,A,MI} where MI<:Tuple{Vararg{Base.MultiplicativeInverses.SignedMultiplicativeInverse{Int64},N} where N} where A<:Union{Base.ReinterpretArray{T,N,S,A} where S where A<:Union{SubArray{T,N,A,I,true} where I<:Union{Tuple{Vararg{Real,N} where N}, Tuple{AbstractUnitRange,Vararg{Any,N} where N}} where A<:DenseArray where N where T, DenseArray} where N where T, SubArray{T,N,A,I,true} where I<:Union{Tuple{Vararg{Real,N} where N}, Tuple{AbstractUnitRange,Vararg{Any,N} where N}} where A<:DenseArray where N where T, DenseArray} where N where T, DenseArray}} where N where #s664<:Union{Dates.CompoundPeriod, Dates.Period}</b>, Y::<b>Union{DenseArray{#s663,N}, Base.ReinterpretArray{#s663,N,S,A} where S where A<:Union{SubArray{T,N,A,I,true} where I<:Union{Tuple{Vararg{Real,N} where N}, Tuple{AbstractUnitRange,Vararg{Any,N} where N}} where A<:DenseArray where N where T, DenseArray}, Base.ReshapedArray{#s663,N,A,MI} where MI<:Tuple{Vararg{Base.MultiplicativeInverses.SignedMultiplicativeInverse{Int64},N} where N} where A<:Union{Base.ReinterpretArray{T,N,S,A} where S where A<:Union{SubArray{T,N,A,I,true} where I<:Union{Tuple{Vararg{Real,N} where N}, Tuple{AbstractUnitRange,Vararg{Any,N} where N}} where A<:DenseArray where N where T, DenseArray} where N where T, SubArray{T,N,A,I,true} where I<:Union{Tuple{Vararg{Real,N} where N}, Tuple{AbstractUnitRange,Vararg{Any,N} where N}} where A<:DenseArray where N where T, DenseArray}, SubArray{#s663,N,A,I,L} where L where I<:Tuple{Vararg{Union{Int64, AbstractRange{Int64}, Base.AbstractCartesianIndex},N} where N} where A<:Union{Base.ReinterpretArray{T,N,S,A} where S where A<:Union{SubArray{T,N,A,I,true} where I<:Union{Tuple{Vararg{Real,N} where N}, Tuple{AbstractUnitRange,Vararg{Any,N} where N}} where A<:DenseArray where N where T, DenseArray} where N where T, Base.ReshapedArray{T,N,A,MI} where MI<:Tuple{Vararg{Base.MultiplicativeInverses.SignedMultiplicativeInverse{Int64},N} where N} where A<:Union{Base.ReinterpretArray{T,N,S,A} where S where A<:Union{SubArray{T,N,A,I,true} where I<:Union{Tuple{Vararg{Real,N} where N}, Tuple{AbstractUnitRange,Vararg{Any,N} where N}} where A<:DenseArray where N where T, DenseArray} where N where T, SubArray{T,N,A,I,true} where I<:Union{Tuple{Vararg{Real,N} where N}, Tuple{AbstractUnitRange,Vararg{Any,N} where N}} where A<:DenseArray where N where T, DenseArray} where N where T, DenseArray}} where N where #s663<:Union{Dates.CompoundPeriod, Dates.Period}</b>) in Dates at <a href=\"file:///Users/julia/buildbot/worker/package_macos64/build/usr/share/julia/stdlib/v1.4/Dates/src/deprecated.jl\" target=\"_blank\">/Applications/Julia-1.4.app/Contents/Resources/julia/share/julia/stdlib/v1.4/Dates/src/deprecated.jl:64</a></li> <li> +(A::<b>LinearAlgebra.SymTridiagonal</b>, B::<b>LinearAlgebra.SymTridiagonal</b>) in LinearAlgebra at <a href=\"file:///Users/julia/buildbot/worker/package_macos64/build/usr/share/julia/stdlib/v1.4/LinearAlgebra/src/tridiag.jl\" target=\"_blank\">/Applications/Julia-1.4.app/Contents/Resources/julia/share/julia/stdlib/v1.4/LinearAlgebra/src/tridiag.jl:158</a></li> <li> +(A::<b>LinearAlgebra.Tridiagonal</b>, B::<b>LinearAlgebra.Tridiagonal</b>) in LinearAlgebra at <a href=\"file:///Users/julia/buildbot/worker/package_macos64/build/usr/share/julia/stdlib/v1.4/LinearAlgebra/src/tridiag.jl\" target=\"_blank\">/Applications/Julia-1.4.app/Contents/Resources/julia/share/julia/stdlib/v1.4/LinearAlgebra/src/tridiag.jl:657</a></li> <li> +(A::<b>LinearAlgebra.UpperTriangular</b>, B::<b>LinearAlgebra.UpperTriangular</b>) in LinearAlgebra at <a href=\"file:///Users/julia/buildbot/worker/package_macos64/build/usr/share/julia/stdlib/v1.4/LinearAlgebra/src/triangular.jl\" target=\"_blank\">/Applications/Julia-1.4.app/Contents/Resources/julia/share/julia/stdlib/v1.4/LinearAlgebra/src/triangular.jl:648</a></li> <li> +(A::<b>LinearAlgebra.LowerTriangular</b>, B::<b>LinearAlgebra.LowerTriangular</b>) in LinearAlgebra at <a href=\"file:///Users/julia/buildbot/worker/package_macos64/build/usr/share/julia/stdlib/v1.4/LinearAlgebra/src/triangular.jl\" target=\"_blank\">/Applications/Julia-1.4.app/Contents/Resources/julia/share/julia/stdlib/v1.4/LinearAlgebra/src/triangular.jl:649</a></li> <li> +(A::<b>LinearAlgebra.UpperTriangular</b>, B::<b>LinearAlgebra.UnitUpperTriangular</b>) in LinearAlgebra at <a href=\"file:///Users/julia/buildbot/worker/package_macos64/build/usr/share/julia/stdlib/v1.4/LinearAlgebra/src/triangular.jl\" target=\"_blank\">/Applications/Julia-1.4.app/Contents/Resources/julia/share/julia/stdlib/v1.4/LinearAlgebra/src/triangular.jl:650</a></li> <li> +(A::<b>LinearAlgebra.LowerTriangular</b>, B::<b>LinearAlgebra.UnitLowerTriangular</b>) in LinearAlgebra at <a href=\"file:///Users/julia/buildbot/worker/package_macos64/build/usr/share/julia/stdlib/v1.4/LinearAlgebra/src/triangular.jl\" target=\"_blank\">/Applications/Julia-1.4.app/Contents/Resources/julia/share/julia/stdlib/v1.4/LinearAlgebra/src/triangular.jl:651</a></li> <li> +(A::<b>LinearAlgebra.UnitUpperTriangular</b>, B::<b>LinearAlgebra.UpperTriangular</b>) in LinearAlgebra at <a href=\"file:///Users/julia/buildbot/worker/package_macos64/build/usr/share/julia/stdlib/v1.4/LinearAlgebra/src/triangular.jl\" target=\"_blank\">/Applications/Julia-1.4.app/Contents/Resources/julia/share/julia/stdlib/v1.4/LinearAlgebra/src/triangular.jl:652</a></li> <li> +(A::<b>LinearAlgebra.UnitLowerTriangular</b>, B::<b>LinearAlgebra.LowerTriangular</b>) in LinearAlgebra at <a href=\"file:///Users/julia/buildbot/worker/package_macos64/build/usr/share/julia/stdlib/v1.4/LinearAlgebra/src/triangular.jl\" target=\"_blank\">/Applications/Julia-1.4.app/Contents/Resources/julia/share/julia/stdlib/v1.4/LinearAlgebra/src/triangular.jl:653</a></li> <li> +(A::<b>LinearAlgebra.UnitUpperTriangular</b>, B::<b>LinearAlgebra.UnitUpperTriangular</b>) in LinearAlgebra at <a href=\"file:///Users/julia/buildbot/worker/package_macos64/build/usr/share/julia/stdlib/v1.4/LinearAlgebra/src/triangular.jl\" target=\"_blank\">/Applications/Julia-1.4.app/Contents/Resources/julia/share/julia/stdlib/v1.4/LinearAlgebra/src/triangular.jl:654</a></li> <li> +(A::<b>LinearAlgebra.UnitLowerTriangular</b>, B::<b>LinearAlgebra.UnitLowerTriangular</b>) in LinearAlgebra at <a href=\"file:///Users/julia/buildbot/worker/package_macos64/build/usr/share/julia/stdlib/v1.4/LinearAlgebra/src/triangular.jl\" target=\"_blank\">/Applications/Julia-1.4.app/Contents/Resources/julia/share/julia/stdlib/v1.4/LinearAlgebra/src/triangular.jl:655</a></li> <li> +(A::<b>LinearAlgebra.AbstractTriangular</b>, B::<b>LinearAlgebra.AbstractTriangular</b>) in LinearAlgebra at <a href=\"file:///Users/julia/buildbot/worker/package_macos64/build/usr/share/julia/stdlib/v1.4/LinearAlgebra/src/triangular.jl\" target=\"_blank\">/Applications/Julia-1.4.app/Contents/Resources/julia/share/julia/stdlib/v1.4/LinearAlgebra/src/triangular.jl:656</a></li> <li> +(A::<b>LinearAlgebra.Symmetric</b>, B::<b>LinearAlgebra.Symmetric</b>) in LinearAlgebra at <a href=\"file:///Users/julia/buildbot/worker/package_macos64/build/usr/share/julia/stdlib/v1.4/LinearAlgebra/src/symmetric.jl\" target=\"_blank\">/Applications/Julia-1.4.app/Contents/Resources/julia/share/julia/stdlib/v1.4/LinearAlgebra/src/symmetric.jl:465</a></li> <li> +(A::<b>LinearAlgebra.Hermitian</b>, B::<b>LinearAlgebra.Hermitian</b>) in LinearAlgebra at <a href=\"file:///Users/julia/buildbot/worker/package_macos64/build/usr/share/julia/stdlib/v1.4/LinearAlgebra/src/symmetric.jl\" target=\"_blank\">/Applications/Julia-1.4.app/Contents/Resources/julia/share/julia/stdlib/v1.4/LinearAlgebra/src/symmetric.jl:466</a></li> <li> +(A::<b>LinearAlgebra.Hermitian</b>, B::<b>LinearAlgebra.Symmetric{#s664,S} where S<:(AbstractArray{#s6641,2} where #s6641<:#s664) where #s664<:Real</b>) in LinearAlgebra at <a href=\"file:///Users/julia/buildbot/worker/package_macos64/build/usr/share/julia/stdlib/v1.4/LinearAlgebra/src/symmetric.jl\" target=\"_blank\">/Applications/Julia-1.4.app/Contents/Resources/julia/share/julia/stdlib/v1.4/LinearAlgebra/src/symmetric.jl:467</a></li> <li> +(A::<b>LinearAlgebra.Symmetric{#s664,S} where S<:(AbstractArray{#s6641,2} where #s6641<:#s664) where #s664<:Real</b>, B::<b>LinearAlgebra.Hermitian</b>) in LinearAlgebra at <a href=\"file:///Users/julia/buildbot/worker/package_macos64/build/usr/share/julia/stdlib/v1.4/LinearAlgebra/src/symmetric.jl\" target=\"_blank\">/Applications/Julia-1.4.app/Contents/Resources/julia/share/julia/stdlib/v1.4/LinearAlgebra/src/symmetric.jl:468</a></li> <li> +(Da::<b>LinearAlgebra.Diagonal</b>, Db::<b>LinearAlgebra.Diagonal</b>) in LinearAlgebra at <a href=\"file:///Users/julia/buildbot/worker/package_macos64/build/usr/share/julia/stdlib/v1.4/LinearAlgebra/src/diagonal.jl\" target=\"_blank\">/Applications/Julia-1.4.app/Contents/Resources/julia/share/julia/stdlib/v1.4/LinearAlgebra/src/diagonal.jl:156</a></li> <li> +(A::<b>LinearAlgebra.Bidiagonal</b>, B::<b>LinearAlgebra.Bidiagonal</b>) in LinearAlgebra at <a href=\"file:///Users/julia/buildbot/worker/package_macos64/build/usr/share/julia/stdlib/v1.4/LinearAlgebra/src/bidiag.jl\" target=\"_blank\">/Applications/Julia-1.4.app/Contents/Resources/julia/share/julia/stdlib/v1.4/LinearAlgebra/src/bidiag.jl:309</a></li> <li> +(UL::<b>LinearAlgebra.UnitUpperTriangular</b>, J::<b>LinearAlgebra.UniformScaling</b>) in LinearAlgebra at <a href=\"file:///Users/julia/buildbot/worker/package_macos64/build/usr/share/julia/stdlib/v1.4/LinearAlgebra/src/uniformscaling.jl\" target=\"_blank\">/Applications/Julia-1.4.app/Contents/Resources/julia/share/julia/stdlib/v1.4/LinearAlgebra/src/uniformscaling.jl:131</a></li> <li> +(UL::<b>LinearAlgebra.UnitLowerTriangular</b>, J::<b>LinearAlgebra.UniformScaling</b>) in LinearAlgebra at <a href=\"file:///Users/julia/buildbot/worker/package_macos64/build/usr/share/julia/stdlib/v1.4/LinearAlgebra/src/uniformscaling.jl\" target=\"_blank\">/Applications/Julia-1.4.app/Contents/Resources/julia/share/julia/stdlib/v1.4/LinearAlgebra/src/uniformscaling.jl:131</a></li> <li> +(A::<b>LinearAlgebra.Hermitian</b>, J::<b>LinearAlgebra.UniformScaling{#s664} where #s664<:Complex</b>) in LinearAlgebra at <a href=\"file:///Users/julia/buildbot/worker/package_macos64/build/usr/share/julia/stdlib/v1.4/LinearAlgebra/src/uniformscaling.jl\" target=\"_blank\">/Applications/Julia-1.4.app/Contents/Resources/julia/share/julia/stdlib/v1.4/LinearAlgebra/src/uniformscaling.jl:145</a></li> <li> +(H::<b>LinearAlgebra.UpperHessenberg</b>, J::<b>LinearAlgebra.UniformScaling</b>) in LinearAlgebra at <a href=\"file:///Users/julia/buildbot/worker/package_macos64/build/usr/share/julia/stdlib/v1.4/LinearAlgebra/src/hessenberg.jl\" target=\"_blank\">/Applications/Julia-1.4.app/Contents/Resources/julia/share/julia/stdlib/v1.4/LinearAlgebra/src/hessenberg.jl:106</a></li> <li> +(A::<b>LinearAlgebra.Tridiagonal{#s664,V} where V<:AbstractArray{#s664,1} where #s664<:Number</b>, B::<b>LinearAlgebra.UniformScaling</b>) in LinearAlgebra at <a href=\"file:///Users/julia/buildbot/worker/package_macos64/build/usr/share/julia/stdlib/v1.4/LinearAlgebra/src/special.jl\" target=\"_blank\">/Applications/Julia-1.4.app/Contents/Resources/julia/share/julia/stdlib/v1.4/LinearAlgebra/src/special.jl:238</a></li> <li> +(A::<b>LinearAlgebra.SymTridiagonal{#s664,V} where V<:AbstractArray{#s664,1} where #s664<:Number</b>, B::<b>LinearAlgebra.UniformScaling</b>) in LinearAlgebra at <a href=\"file:///Users/julia/buildbot/worker/package_macos64/build/usr/share/julia/stdlib/v1.4/LinearAlgebra/src/special.jl\" target=\"_blank\">/Applications/Julia-1.4.app/Contents/Resources/julia/share/julia/stdlib/v1.4/LinearAlgebra/src/special.jl:243</a></li> <li> +(A::<b>LinearAlgebra.Bidiagonal{#s664,V} where V<:AbstractArray{#s664,1} where #s664<:Number</b>, B::<b>LinearAlgebra.UniformScaling</b>) in LinearAlgebra at <a href=\"file:///Users/julia/buildbot/worker/package_macos64/build/usr/share/julia/stdlib/v1.4/LinearAlgebra/src/special.jl\" target=\"_blank\">/Applications/Julia-1.4.app/Contents/Resources/julia/share/julia/stdlib/v1.4/LinearAlgebra/src/special.jl:248</a></li> <li> +(A::<b>LinearAlgebra.Diagonal{#s664,V} where V<:AbstractArray{#s664,1} where #s664<:Number</b>, B::<b>LinearAlgebra.UniformScaling</b>) in LinearAlgebra at <a href=\"file:///Users/julia/buildbot/worker/package_macos64/build/usr/share/julia/stdlib/v1.4/LinearAlgebra/src/special.jl\" target=\"_blank\">/Applications/Julia-1.4.app/Contents/Resources/julia/share/julia/stdlib/v1.4/LinearAlgebra/src/special.jl:253</a></li> <li> +(A::<b>SparseArrays.AbstractSparseMatrixCSC</b>, J::<b>LinearAlgebra.UniformScaling</b>) in SparseArrays at <a href=\"file:///Users/julia/buildbot/worker/package_macos64/build/usr/share/julia/stdlib/v1.4/SparseArrays/src/sparsematrix.jl\" target=\"_blank\">/Applications/Julia-1.4.app/Contents/Resources/julia/share/julia/stdlib/v1.4/SparseArrays/src/sparsematrix.jl:3610</a></li> <li> +(A::<b>AbstractArray{T,2} where T</b>, J::<b>LinearAlgebra.UniformScaling</b>) in LinearAlgebra at <a href=\"file:///Users/julia/buildbot/worker/package_macos64/build/usr/share/julia/stdlib/v1.4/LinearAlgebra/src/uniformscaling.jl\" target=\"_blank\">/Applications/Julia-1.4.app/Contents/Resources/julia/share/julia/stdlib/v1.4/LinearAlgebra/src/uniformscaling.jl:164</a></li> <li> +(A::<b>LinearAlgebra.UpperHessenberg</b>, B::<b>LinearAlgebra.UpperHessenberg</b>) in LinearAlgebra at <a href=\"file:///Users/julia/buildbot/worker/package_macos64/build/usr/share/julia/stdlib/v1.4/LinearAlgebra/src/hessenberg.jl\" target=\"_blank\">/Applications/Julia-1.4.app/Contents/Resources/julia/share/julia/stdlib/v1.4/LinearAlgebra/src/hessenberg.jl:101</a></li> <li> +(A::<b>LinearAlgebra.UpperTriangular</b>, B::<b>LinearAlgebra.Bidiagonal</b>) in LinearAlgebra at <a href=\"file:///Users/julia/buildbot/worker/package_macos64/build/usr/share/julia/stdlib/v1.4/LinearAlgebra/src/special.jl\" target=\"_blank\">/Applications/Julia-1.4.app/Contents/Resources/julia/share/julia/stdlib/v1.4/LinearAlgebra/src/special.jl:98</a></li> <li> +(A::<b>LinearAlgebra.Bidiagonal</b>, B::<b>LinearAlgebra.UpperTriangular</b>) in LinearAlgebra at <a href=\"file:///Users/julia/buildbot/worker/package_macos64/build/usr/share/julia/stdlib/v1.4/LinearAlgebra/src/special.jl\" target=\"_blank\">/Applications/Julia-1.4.app/Contents/Resources/julia/share/julia/stdlib/v1.4/LinearAlgebra/src/special.jl:106</a></li> <li> +(A::<b>LinearAlgebra.UnitUpperTriangular</b>, B::<b>LinearAlgebra.Bidiagonal</b>) in LinearAlgebra at <a href=\"file:///Users/julia/buildbot/worker/package_macos64/build/usr/share/julia/stdlib/v1.4/LinearAlgebra/src/special.jl\" target=\"_blank\">/Applications/Julia-1.4.app/Contents/Resources/julia/share/julia/stdlib/v1.4/LinearAlgebra/src/special.jl:98</a></li> <li> +(A::<b>LinearAlgebra.Bidiagonal</b>, B::<b>LinearAlgebra.UnitUpperTriangular</b>) in LinearAlgebra at <a href=\"file:///Users/julia/buildbot/worker/package_macos64/build/usr/share/julia/stdlib/v1.4/LinearAlgebra/src/special.jl\" target=\"_blank\">/Applications/Julia-1.4.app/Contents/Resources/julia/share/julia/stdlib/v1.4/LinearAlgebra/src/special.jl:106</a></li> <li> +(A::<b>LinearAlgebra.LowerTriangular</b>, B::<b>LinearAlgebra.Bidiagonal</b>) in LinearAlgebra at <a href=\"file:///Users/julia/buildbot/worker/package_macos64/build/usr/share/julia/stdlib/v1.4/LinearAlgebra/src/special.jl\" target=\"_blank\">/Applications/Julia-1.4.app/Contents/Resources/julia/share/julia/stdlib/v1.4/LinearAlgebra/src/special.jl:98</a></li> <li> +(A::<b>LinearAlgebra.Bidiagonal</b>, B::<b>LinearAlgebra.LowerTriangular</b>) in LinearAlgebra at <a href=\"file:///Users/julia/buildbot/worker/package_macos64/build/usr/share/julia/stdlib/v1.4/LinearAlgebra/src/special.jl\" target=\"_blank\">/Applications/Julia-1.4.app/Contents/Resources/julia/share/julia/stdlib/v1.4/LinearAlgebra/src/special.jl:106</a></li> <li> +(A::<b>LinearAlgebra.UnitLowerTriangular</b>, B::<b>LinearAlgebra.Bidiagonal</b>) in LinearAlgebra at <a href=\"file:///Users/julia/buildbot/worker/package_macos64/build/usr/share/julia/stdlib/v1.4/LinearAlgebra/src/special.jl\" target=\"_blank\">/Applications/Julia-1.4.app/Contents/Resources/julia/share/julia/stdlib/v1.4/LinearAlgebra/src/special.jl:98</a></li> <li> +(A::<b>LinearAlgebra.Bidiagonal</b>, B::<b>LinearAlgebra.UnitLowerTriangular</b>) in LinearAlgebra at <a href=\"file:///Users/julia/buildbot/worker/package_macos64/build/usr/share/julia/stdlib/v1.4/LinearAlgebra/src/special.jl\" target=\"_blank\">/Applications/Julia-1.4.app/Contents/Resources/julia/share/julia/stdlib/v1.4/LinearAlgebra/src/special.jl:106</a></li> <li> +(A::<b>LinearAlgebra.Bidiagonal</b>, B::<b>LinearAlgebra.Diagonal</b>) in LinearAlgebra at <a href=\"file:///Users/julia/buildbot/worker/package_macos64/build/usr/share/julia/stdlib/v1.4/LinearAlgebra/src/special.jl\" target=\"_blank\">/Applications/Julia-1.4.app/Contents/Resources/julia/share/julia/stdlib/v1.4/LinearAlgebra/src/special.jl:127</a></li> <li> +(A::<b>LinearAlgebra.Diagonal</b>, B::<b>LinearAlgebra.Bidiagonal</b>) in LinearAlgebra at <a href=\"file:///Users/julia/buildbot/worker/package_macos64/build/usr/share/julia/stdlib/v1.4/LinearAlgebra/src/special.jl\" target=\"_blank\">/Applications/Julia-1.4.app/Contents/Resources/julia/share/julia/stdlib/v1.4/LinearAlgebra/src/special.jl:137</a></li> <li> +(A::<b>LinearAlgebra.Diagonal</b>, B::<b>LinearAlgebra.SymTridiagonal</b>) in LinearAlgebra at <a href=\"file:///Users/julia/buildbot/worker/package_macos64/build/usr/share/julia/stdlib/v1.4/LinearAlgebra/src/special.jl\" target=\"_blank\">/Applications/Julia-1.4.app/Contents/Resources/julia/share/julia/stdlib/v1.4/LinearAlgebra/src/special.jl:147</a></li> <li> +(A::<b>LinearAlgebra.SymTridiagonal</b>, B::<b>LinearAlgebra.Diagonal</b>) in LinearAlgebra at <a href=\"file:///Users/julia/buildbot/worker/package_macos64/build/usr/share/julia/stdlib/v1.4/LinearAlgebra/src/special.jl\" target=\"_blank\">/Applications/Julia-1.4.app/Contents/Resources/julia/share/julia/stdlib/v1.4/LinearAlgebra/src/special.jl:157</a></li> <li> +(A::<b>LinearAlgebra.Tridiagonal</b>, B::<b>LinearAlgebra.SymTridiagonal</b>) in LinearAlgebra at <a href=\"file:///Users/julia/buildbot/worker/package_macos64/build/usr/share/julia/stdlib/v1.4/LinearAlgebra/src/special.jl\" target=\"_blank\">/Applications/Julia-1.4.app/Contents/Resources/julia/share/julia/stdlib/v1.4/LinearAlgebra/src/special.jl:168</a></li> <li> +(A::<b>LinearAlgebra.SymTridiagonal</b>, B::<b>LinearAlgebra.Tridiagonal</b>) in LinearAlgebra at <a href=\"file:///Users/julia/buildbot/worker/package_macos64/build/usr/share/julia/stdlib/v1.4/LinearAlgebra/src/special.jl\" target=\"_blank\">/Applications/Julia-1.4.app/Contents/Resources/julia/share/julia/stdlib/v1.4/LinearAlgebra/src/special.jl:170</a></li> <li> +(A::<b>LinearAlgebra.Diagonal</b>, B::<b>LinearAlgebra.Tridiagonal</b>) in LinearAlgebra at <a href=\"file:///Users/julia/buildbot/worker/package_macos64/build/usr/share/julia/stdlib/v1.4/LinearAlgebra/src/special.jl\" target=\"_blank\">/Applications/Julia-1.4.app/Contents/Resources/julia/share/julia/stdlib/v1.4/LinearAlgebra/src/special.jl:175</a></li> <li> +(A::<b>LinearAlgebra.Tridiagonal</b>, B::<b>LinearAlgebra.Diagonal</b>) in LinearAlgebra at <a href=\"file:///Users/julia/buildbot/worker/package_macos64/build/usr/share/julia/stdlib/v1.4/LinearAlgebra/src/special.jl\" target=\"_blank\">/Applications/Julia-1.4.app/Contents/Resources/julia/share/julia/stdlib/v1.4/LinearAlgebra/src/special.jl:185</a></li> <li> +(A::<b>LinearAlgebra.Bidiagonal</b>, B::<b>LinearAlgebra.Tridiagonal</b>) in LinearAlgebra at <a href=\"file:///Users/julia/buildbot/worker/package_macos64/build/usr/share/julia/stdlib/v1.4/LinearAlgebra/src/special.jl\" target=\"_blank\">/Applications/Julia-1.4.app/Contents/Resources/julia/share/julia/stdlib/v1.4/LinearAlgebra/src/special.jl:195</a></li> <li> +(A::<b>LinearAlgebra.Tridiagonal</b>, B::<b>LinearAlgebra.Bidiagonal</b>) in LinearAlgebra at <a href=\"file:///Users/julia/buildbot/worker/package_macos64/build/usr/share/julia/stdlib/v1.4/LinearAlgebra/src/special.jl\" target=\"_blank\">/Applications/Julia-1.4.app/Contents/Resources/julia/share/julia/stdlib/v1.4/LinearAlgebra/src/special.jl:205</a></li> <li> +(A::<b>LinearAlgebra.Bidiagonal</b>, B::<b>LinearAlgebra.SymTridiagonal</b>) in LinearAlgebra at <a href=\"file:///Users/julia/buildbot/worker/package_macos64/build/usr/share/julia/stdlib/v1.4/LinearAlgebra/src/special.jl\" target=\"_blank\">/Applications/Julia-1.4.app/Contents/Resources/julia/share/julia/stdlib/v1.4/LinearAlgebra/src/special.jl:215</a></li> <li> +(A::<b>LinearAlgebra.SymTridiagonal</b>, B::<b>LinearAlgebra.Bidiagonal</b>) in LinearAlgebra at <a href=\"file:///Users/julia/buildbot/worker/package_macos64/build/usr/share/julia/stdlib/v1.4/LinearAlgebra/src/special.jl\" target=\"_blank\">/Applications/Julia-1.4.app/Contents/Resources/julia/share/julia/stdlib/v1.4/LinearAlgebra/src/special.jl:225</a></li> <li> +(A::<b>SparseArrays.AbstractSparseMatrixCSC</b>, B::<b>SparseArrays.AbstractSparseMatrixCSC</b>) in SparseArrays at <a href=\"file:///Users/julia/buildbot/worker/package_macos64/build/usr/share/julia/stdlib/v1.4/SparseArrays/src/sparsematrix.jl\" target=\"_blank\">/Applications/Julia-1.4.app/Contents/Resources/julia/share/julia/stdlib/v1.4/SparseArrays/src/sparsematrix.jl:1648</a></li> <li> +(A::<b>SparseArrays.AbstractSparseMatrixCSC</b>, B::<b>Array</b>) in SparseArrays at <a href=\"file:///Users/julia/buildbot/worker/package_macos64/build/usr/share/julia/stdlib/v1.4/SparseArrays/src/sparsematrix.jl\" target=\"_blank\">/Applications/Julia-1.4.app/Contents/Resources/julia/share/julia/stdlib/v1.4/SparseArrays/src/sparsematrix.jl:1651</a></li> <li> +(x::<b>SparseArrays.AbstractSparseArray{Tv,Ti,1} where Ti where Tv</b>, y::<b>SparseArrays.AbstractSparseArray{Tv,Ti,1} where Ti where Tv</b>) in SparseArrays at <a href=\"file:///Users/julia/buildbot/worker/package_macos64/build/usr/share/julia/stdlib/v1.4/SparseArrays/src/sparsevector.jl\" target=\"_blank\">/Applications/Julia-1.4.app/Contents/Resources/julia/share/julia/stdlib/v1.4/SparseArrays/src/sparsevector.jl:1303</a></li> <li> +(x::<b>AbstractArray{#s69,N} where N where #s69<:Number</b>) in Base at <a href=\"https://github.com/JuliaLang/julia/tree/381693d3dfc9b7072707f6d544f82f6637fc5e7c/base/abstractarraymath.jl#L97\" target=\"_blank\">abstractarraymath.jl:97</a></li> <li> +(A::<b>AbstractArray</b>, B::<b>AbstractArray</b>) in Base at <a href=\"https://github.com/JuliaLang/julia/tree/381693d3dfc9b7072707f6d544f82f6637fc5e7c/base/arraymath.jl#L38\" target=\"_blank\">arraymath.jl:38</a></li> <li> +(x::<b>T</b>, y::<b>Integer</b>)<i> where T<:AbstractChar</i> in Base at <a href=\"https://github.com/JuliaLang/julia/tree/381693d3dfc9b7072707f6d544f82f6637fc5e7c/base/char.jl#L223\" target=\"_blank\">char.jl:223</a></li> <li> +(index1::<b>CartesianIndex{N}</b>, index2::<b>CartesianIndex{N}</b>)<i> where N</i> in Base.IteratorsMD at <a href=\"https://github.com/JuliaLang/julia/tree/381693d3dfc9b7072707f6d544f82f6637fc5e7c/base/multidimensional.jl#L111\" target=\"_blank\">multidimensional.jl:111</a></li> <li> +(::<b>Number</b>, ::<b>Missing</b>) in Base at <a href=\"https://github.com/JuliaLang/julia/tree/381693d3dfc9b7072707f6d544f82f6637fc5e7c/base/missing.jl#L116\" target=\"_blank\">missing.jl:116</a></li> <li> +(x::<b>P</b>, y::<b>P</b>)<i> where P<:Dates.Period</i> in Dates at <a href=\"file:///Users/julia/buildbot/worker/package_macos64/build/usr/share/julia/stdlib/v1.4/Dates/src/periods.jl\" target=\"_blank\">/Applications/Julia-1.4.app/Contents/Resources/julia/share/julia/stdlib/v1.4/Dates/src/periods.jl:75</a></li> <li> +(x::<b>Dates.Period</b>, y::<b>Dates.Period</b>) in Dates at <a href=\"file:///Users/julia/buildbot/worker/package_macos64/build/usr/share/julia/stdlib/v1.4/Dates/src/periods.jl\" target=\"_blank\">/Applications/Julia-1.4.app/Contents/Resources/julia/share/julia/stdlib/v1.4/Dates/src/periods.jl:338</a></li> <li> +(y::<b>Dates.Period</b>, x::<b>Dates.CompoundPeriod</b>) in Dates at <a href=\"file:///Users/julia/buildbot/worker/package_macos64/build/usr/share/julia/stdlib/v1.4/Dates/src/periods.jl\" target=\"_blank\">/Applications/Julia-1.4.app/Contents/Resources/julia/share/julia/stdlib/v1.4/Dates/src/periods.jl:340</a></li> <li> +(x::<b>Union{Dates.CompoundPeriod, Dates.Period}</b>) in Dates at <a href=\"file:///Users/julia/buildbot/worker/package_macos64/build/usr/share/julia/stdlib/v1.4/Dates/src/periods.jl\" target=\"_blank\">/Applications/Julia-1.4.app/Contents/Resources/julia/share/julia/stdlib/v1.4/Dates/src/periods.jl:349</a></li> <li> +(x::<b>Dates.TimeType</b>) in Dates at <a href=\"file:///Users/julia/buildbot/worker/package_macos64/build/usr/share/julia/stdlib/v1.4/Dates/src/arithmetic.jl\" target=\"_blank\">/Applications/Julia-1.4.app/Contents/Resources/julia/share/julia/stdlib/v1.4/Dates/src/arithmetic.jl:8</a></li> <li> +(a::<b>Dates.TimeType</b>, b::<b>Dates.Period</b>, c::<b>Dates.Period</b>) in Dates at <a href=\"file:///Users/julia/buildbot/worker/package_macos64/build/usr/share/julia/stdlib/v1.4/Dates/src/periods.jl\" target=\"_blank\">/Applications/Julia-1.4.app/Contents/Resources/julia/share/julia/stdlib/v1.4/Dates/src/periods.jl:360</a></li> <li> +(a::<b>Dates.TimeType</b>, b::<b>Dates.Period</b>, c::<b>Dates.Period</b>, d::<b>Dates.Period...</b>) in Dates at <a href=\"file:///Users/julia/buildbot/worker/package_macos64/build/usr/share/julia/stdlib/v1.4/Dates/src/periods.jl\" target=\"_blank\">/Applications/Julia-1.4.app/Contents/Resources/julia/share/julia/stdlib/v1.4/Dates/src/periods.jl:361</a></li> <li> +(x::<b>Dates.TimeType</b>, y::<b>Dates.CompoundPeriod</b>) in Dates at <a href=\"file:///Users/julia/buildbot/worker/package_macos64/build/usr/share/julia/stdlib/v1.4/Dates/src/periods.jl\" target=\"_blank\">/Applications/Julia-1.4.app/Contents/Resources/julia/share/julia/stdlib/v1.4/Dates/src/periods.jl:364</a></li> <li> +(x::<b>Dates.Instant</b>) in Dates at <a href=\"file:///Users/julia/buildbot/worker/package_macos64/build/usr/share/julia/stdlib/v1.4/Dates/src/arithmetic.jl\" target=\"_blank\">/Applications/Julia-1.4.app/Contents/Resources/julia/share/julia/stdlib/v1.4/Dates/src/arithmetic.jl:4</a></li> <li> +(y::<b>Dates.Period</b>, x::<b>Dates.TimeType</b>) in Dates at <a href=\"file:///Users/julia/buildbot/worker/package_macos64/build/usr/share/julia/stdlib/v1.4/Dates/src/arithmetic.jl\" target=\"_blank\">/Applications/Julia-1.4.app/Contents/Resources/julia/share/julia/stdlib/v1.4/Dates/src/arithmetic.jl:80</a></li> <li> +(x::<b>Dates.Period</b>, r::<b>AbstractRange{#s664} where #s664<:Dates.TimeType</b>) in Dates at <a href=\"file:///Users/julia/buildbot/worker/package_macos64/build/usr/share/julia/stdlib/v1.4/Dates/src/ranges.jl\" target=\"_blank\">/Applications/Julia-1.4.app/Contents/Resources/julia/share/julia/stdlib/v1.4/Dates/src/ranges.jl:58</a></li> <li> +(x::<b>AbstractArray{#s664,N} where N where #s664<:Dates.TimeType</b>, y::<b>Union{Dates.CompoundPeriod, Dates.Period}</b>) in Dates at <a href=\"file:///Users/julia/buildbot/worker/package_macos64/build/usr/share/julia/stdlib/v1.4/Dates/src/deprecated.jl\" target=\"_blank\">/Applications/Julia-1.4.app/Contents/Resources/julia/share/julia/stdlib/v1.4/Dates/src/deprecated.jl:8</a></li> <li> +(y::<b>Union{Dates.CompoundPeriod, Dates.Period}</b>, x::<b>AbstractArray{#s664,N} where N where #s664<:Dates.TimeType</b>) in Dates at <a href=\"file:///Users/julia/buildbot/worker/package_macos64/build/usr/share/julia/stdlib/v1.4/Dates/src/deprecated.jl\" target=\"_blank\">/Applications/Julia-1.4.app/Contents/Resources/julia/share/julia/stdlib/v1.4/Dates/src/deprecated.jl:16</a></li> <li> +(y::<b>Dates.TimeType</b>, x::<b>Union{DenseArray{#s664,N}, Base.ReinterpretArray{#s664,N,S,A} where S where A<:Union{SubArray{T,N,A,I,true} where I<:Union{Tuple{Vararg{Real,N} where N}, Tuple{AbstractUnitRange,Vararg{Any,N} where N}} where A<:DenseArray where N where T, DenseArray}, Base.ReshapedArray{#s664,N,A,MI} where MI<:Tuple{Vararg{Base.MultiplicativeInverses.SignedMultiplicativeInverse{Int64},N} where N} where A<:Union{Base.ReinterpretArray{T,N,S,A} where S where A<:Union{SubArray{T,N,A,I,true} where I<:Union{Tuple{Vararg{Real,N} where N}, Tuple{AbstractUnitRange,Vararg{Any,N} where N}} where A<:DenseArray where N where T, DenseArray} where N where T, SubArray{T,N,A,I,true} where I<:Union{Tuple{Vararg{Real,N} where N}, Tuple{AbstractUnitRange,Vararg{Any,N} where N}} where A<:DenseArray where N where T, DenseArray}, SubArray{#s664,N,A,I,L} where L where I<:Tuple{Vararg{Union{Int64, AbstractRange{Int64}, Base.AbstractCartesianIndex},N} where N} where A<:Union{Base.ReinterpretArray{T,N,S,A} where S where A<:Union{SubArray{T,N,A,I,true} where I<:Union{Tuple{Vararg{Real,N} where N}, Tuple{AbstractUnitRange,Vararg{Any,N} where N}} where A<:DenseArray where N where T, DenseArray} where N where T, Base.ReshapedArray{T,N,A,MI} where MI<:Tuple{Vararg{Base.MultiplicativeInverses.SignedMultiplicativeInverse{Int64},N} where N} where A<:Union{Base.ReinterpretArray{T,N,S,A} where S where A<:Union{SubArray{T,N,A,I,true} where I<:Union{Tuple{Vararg{Real,N} where N}, Tuple{AbstractUnitRange,Vararg{Any,N} where N}} where A<:DenseArray where N where T, DenseArray} where N where T, SubArray{T,N,A,I,true} where I<:Union{Tuple{Vararg{Real,N} where N}, Tuple{AbstractUnitRange,Vararg{Any,N} where N}} where A<:DenseArray where N where T, DenseArray} where N where T, DenseArray}} where N where #s664<:Union{Dates.CompoundPeriod, Dates.Period}</b>) in Dates at <a href=\"file:///Users/julia/buildbot/worker/package_macos64/build/usr/share/julia/stdlib/v1.4/Dates/src/deprecated.jl\" target=\"_blank\">/Applications/Julia-1.4.app/Contents/Resources/julia/share/julia/stdlib/v1.4/Dates/src/deprecated.jl:20</a></li> <li> +(J::<b>LinearAlgebra.UniformScaling</b>, x::<b>Number</b>) in LinearAlgebra at <a href=\"file:///Users/julia/buildbot/worker/package_macos64/build/usr/share/julia/stdlib/v1.4/LinearAlgebra/src/uniformscaling.jl\" target=\"_blank\">/Applications/Julia-1.4.app/Contents/Resources/julia/share/julia/stdlib/v1.4/LinearAlgebra/src/uniformscaling.jl:109</a></li> <li> +(x::<b>Number</b>, J::<b>LinearAlgebra.UniformScaling</b>) in LinearAlgebra at <a href=\"file:///Users/julia/buildbot/worker/package_macos64/build/usr/share/julia/stdlib/v1.4/LinearAlgebra/src/uniformscaling.jl\" target=\"_blank\">/Applications/Julia-1.4.app/Contents/Resources/julia/share/julia/stdlib/v1.4/LinearAlgebra/src/uniformscaling.jl:110</a></li> <li> +(J1::<b>LinearAlgebra.UniformScaling</b>, J2::<b>LinearAlgebra.UniformScaling</b>) in LinearAlgebra at <a href=\"file:///Users/julia/buildbot/worker/package_macos64/build/usr/share/julia/stdlib/v1.4/LinearAlgebra/src/uniformscaling.jl\" target=\"_blank\">/Applications/Julia-1.4.app/Contents/Resources/julia/share/julia/stdlib/v1.4/LinearAlgebra/src/uniformscaling.jl:114</a></li> <li> +(J::<b>LinearAlgebra.UniformScaling</b>, B::<b>BitArray{2}</b>) in LinearAlgebra at <a href=\"file:///Users/julia/buildbot/worker/package_macos64/build/usr/share/julia/stdlib/v1.4/LinearAlgebra/src/uniformscaling.jl\" target=\"_blank\">/Applications/Julia-1.4.app/Contents/Resources/julia/share/julia/stdlib/v1.4/LinearAlgebra/src/uniformscaling.jl:116</a></li> <li> +(A::<b>LinearAlgebra.UniformScaling</b>, B::<b>LinearAlgebra.Tridiagonal{#s664,V} where V<:AbstractArray{#s664,1} where #s664<:Number</b>) in LinearAlgebra at <a href=\"file:///Users/julia/buildbot/worker/package_macos64/build/usr/share/julia/stdlib/v1.4/LinearAlgebra/src/special.jl\" target=\"_blank\">/Applications/Julia-1.4.app/Contents/Resources/julia/share/julia/stdlib/v1.4/LinearAlgebra/src/special.jl:257</a></li> <li> +(A::<b>LinearAlgebra.UniformScaling</b>, B::<b>LinearAlgebra.SymTridiagonal{#s664,V} where V<:AbstractArray{#s664,1} where #s664<:Number</b>) in LinearAlgebra at <a href=\"file:///Users/julia/buildbot/worker/package_macos64/build/usr/share/julia/stdlib/v1.4/LinearAlgebra/src/special.jl\" target=\"_blank\">/Applications/Julia-1.4.app/Contents/Resources/julia/share/julia/stdlib/v1.4/LinearAlgebra/src/special.jl:262</a></li> <li> +(A::<b>LinearAlgebra.UniformScaling</b>, B::<b>LinearAlgebra.Bidiagonal{#s664,V} where V<:AbstractArray{#s664,1} where #s664<:Number</b>) in LinearAlgebra at <a href=\"file:///Users/julia/buildbot/worker/package_macos64/build/usr/share/julia/stdlib/v1.4/LinearAlgebra/src/special.jl\" target=\"_blank\">/Applications/Julia-1.4.app/Contents/Resources/julia/share/julia/stdlib/v1.4/LinearAlgebra/src/special.jl:267</a></li> <li> +(A::<b>LinearAlgebra.UniformScaling</b>, B::<b>LinearAlgebra.Diagonal{#s664,V} where V<:AbstractArray{#s664,1} where #s664<:Number</b>) in LinearAlgebra at <a href=\"file:///Users/julia/buildbot/worker/package_macos64/build/usr/share/julia/stdlib/v1.4/LinearAlgebra/src/special.jl\" target=\"_blank\">/Applications/Julia-1.4.app/Contents/Resources/julia/share/julia/stdlib/v1.4/LinearAlgebra/src/special.jl:272</a></li> <li> +(J::<b>LinearAlgebra.UniformScaling</b>, A::<b>AbstractArray{T,2} where T</b>) in LinearAlgebra at <a href=\"file:///Users/julia/buildbot/worker/package_macos64/build/usr/share/julia/stdlib/v1.4/LinearAlgebra/src/uniformscaling.jl\" target=\"_blank\">/Applications/Julia-1.4.app/Contents/Resources/julia/share/julia/stdlib/v1.4/LinearAlgebra/src/uniformscaling.jl:117</a></li> <li> +(F::<b>LinearAlgebra.Hessenberg</b>, J::<b>LinearAlgebra.UniformScaling</b>) in LinearAlgebra at <a href=\"file:///Users/julia/buildbot/worker/package_macos64/build/usr/share/julia/stdlib/v1.4/LinearAlgebra/src/hessenberg.jl\" target=\"_blank\">/Applications/Julia-1.4.app/Contents/Resources/julia/share/julia/stdlib/v1.4/LinearAlgebra/src/hessenberg.jl:559</a></li> <li> +(J::<b>LinearAlgebra.UniformScaling</b>, F::<b>LinearAlgebra.Hessenberg</b>) in LinearAlgebra at <a href=\"file:///Users/julia/buildbot/worker/package_macos64/build/usr/share/julia/stdlib/v1.4/LinearAlgebra/src/hessenberg.jl\" target=\"_blank\">/Applications/Julia-1.4.app/Contents/Resources/julia/share/julia/stdlib/v1.4/LinearAlgebra/src/hessenberg.jl:560</a></li> <li> +(a, b, c, xs...) in Base at <a href=\"https://github.com/JuliaLang/julia/tree/381693d3dfc9b7072707f6d544f82f6637fc5e7c/base/operators.jl#L529\" target=\"_blank\">operators.jl:529</a></li> </ul>"
      ],
      "text/plain": [
       "# 171 methods for generic function \"+\":\n",
       "[1] +(x::Bool, z::Complex{Bool}) in Base at complex.jl:286\n",
       "[2] +(x::Bool, y::Bool) in Base at bool.jl:96\n",
       "[3] +(x::Bool) in Base at bool.jl:93\n",
       "[4] +(x::Bool, y::T) where T<:AbstractFloat in Base at bool.jl:104\n",
       "[5] +(x::Bool, z::Complex) in Base at complex.jl:293\n",
       "[6] +(a::Float16, b::Float16) in Base at float.jl:398\n",
       "[7] +(x::Float32, y::Float32) in Base at float.jl:400\n",
       "[8] +(x::Float64, y::Float64) in Base at float.jl:401\n",
       "[9] +(z::Complex{Bool}, x::Bool) in Base at complex.jl:287\n",
       "[10] +(z::Complex{Bool}, x::Real) in Base at complex.jl:301\n",
       "[11] +(::Missing, ::Missing) in Base at missing.jl:114\n",
       "[12] +(::Missing) in Base at missing.jl:100\n",
       "[13] +(::Missing, ::Number) in Base at missing.jl:115\n",
       "[14] +(level::Base.CoreLogging.LogLevel, inc::Integer) in Base.CoreLogging at logging.jl:107\n",
       "[15] +(c::BigInt, x::BigFloat) in Base.MPFR at mpfr.jl:414\n",
       "[16] +(a::BigInt, b::BigInt, c::BigInt, d::BigInt, e::BigInt) in Base.GMP at gmp.jl:515\n",
       "[17] +(a::BigInt, b::BigInt, c::BigInt, d::BigInt) in Base.GMP at gmp.jl:514\n",
       "[18] +(a::BigInt, b::BigInt, c::BigInt) in Base.GMP at gmp.jl:513\n",
       "[19] +(x::BigInt, y::BigInt) in Base.GMP at gmp.jl:473\n",
       "[20] +(x::BigInt, c::Union{UInt16, UInt32, UInt64, UInt8}) in Base.GMP at gmp.jl:521\n",
       "[21] +(x::BigInt, c::Union{Int16, Int32, Int64, Int8}) in Base.GMP at gmp.jl:527\n",
       "[22] +(a::BigFloat, b::BigFloat, c::BigFloat, d::BigFloat, e::BigFloat) in Base.MPFR at mpfr.jl:564\n",
       "[23] +(a::BigFloat, b::BigFloat, c::BigFloat, d::BigFloat) in Base.MPFR at mpfr.jl:557\n",
       "[24] +(a::BigFloat, b::BigFloat, c::BigFloat) in Base.MPFR at mpfr.jl:551\n",
       "[25] +(x::BigFloat, c::BigInt) in Base.MPFR at mpfr.jl:410\n",
       "[26] +(x::BigFloat, y::BigFloat) in Base.MPFR at mpfr.jl:379\n",
       "[27] +(x::BigFloat, c::Union{UInt16, UInt32, UInt64, UInt8}) in Base.MPFR at mpfr.jl:386\n",
       "[28] +(x::BigFloat, c::Union{Int16, Int32, Int64, Int8}) in Base.MPFR at mpfr.jl:394\n",
       "[29] +(x::BigFloat, c::Union{Float16, Float32, Float64}) in Base.MPFR at mpfr.jl:402\n",
       "[30] +(x::Dates.CompoundPeriod, y::Dates.CompoundPeriod) in Dates at /Applications/Julia-1.4.app/Contents/Resources/julia/share/julia/stdlib/v1.4/Dates/src/periods.jl:341\n",
       "[31] +(x::Dates.CompoundPeriod, y::Dates.Period) in Dates at /Applications/Julia-1.4.app/Contents/Resources/julia/share/julia/stdlib/v1.4/Dates/src/periods.jl:339\n",
       "[32] +(x::Dates.CompoundPeriod, y::Dates.TimeType) in Dates at /Applications/Julia-1.4.app/Contents/Resources/julia/share/julia/stdlib/v1.4/Dates/src/periods.jl:369\n",
       "[33] +(x::Dates.Date, y::Dates.Day) in Dates at /Applications/Julia-1.4.app/Contents/Resources/julia/share/julia/stdlib/v1.4/Dates/src/arithmetic.jl:74\n",
       "[34] +(x::Dates.Date, y::Dates.Week) in Dates at /Applications/Julia-1.4.app/Contents/Resources/julia/share/julia/stdlib/v1.4/Dates/src/arithmetic.jl:72\n",
       "[35] +(dt::Dates.Date, z::Dates.Month) in Dates at /Applications/Julia-1.4.app/Contents/Resources/julia/share/julia/stdlib/v1.4/Dates/src/arithmetic.jl:55\n",
       "[36] +(dt::Dates.Date, y::Dates.Year) in Dates at /Applications/Julia-1.4.app/Contents/Resources/julia/share/julia/stdlib/v1.4/Dates/src/arithmetic.jl:28\n",
       "[37] +(dt::Dates.Date, t::Dates.Time) in Dates at /Applications/Julia-1.4.app/Contents/Resources/julia/share/julia/stdlib/v1.4/Dates/src/arithmetic.jl:19\n",
       "[38] +(t::Dates.Time, dt::Dates.Date) in Dates at /Applications/Julia-1.4.app/Contents/Resources/julia/share/julia/stdlib/v1.4/Dates/src/arithmetic.jl:20\n",
       "[39] +(x::Dates.Time, y::Dates.TimePeriod) in Dates at /Applications/Julia-1.4.app/Contents/Resources/julia/share/julia/stdlib/v1.4/Dates/src/arithmetic.jl:78\n",
       "[40] +(dt::Dates.DateTime, offset::TimeZones.UTCOffset) in TimeZones at /Users/peter/.julia/packages/TimeZones/OjMoF/src/utcoffset.jl:26\n",
       "[41] +(dt::Dates.DateTime, z::Dates.Month) in Dates at /Applications/Julia-1.4.app/Contents/Resources/julia/share/julia/stdlib/v1.4/Dates/src/arithmetic.jl:48\n",
       "[42] +(dt::Dates.DateTime, y::Dates.Year) in Dates at /Applications/Julia-1.4.app/Contents/Resources/julia/share/julia/stdlib/v1.4/Dates/src/arithmetic.jl:24\n",
       "[43] +(x::Dates.DateTime, y::Dates.Period) in Dates at /Applications/Julia-1.4.app/Contents/Resources/julia/share/julia/stdlib/v1.4/Dates/src/arithmetic.jl:76\n",
       "[44] +(B::BitArray{2}, J::LinearAlgebra.UniformScaling) in LinearAlgebra at /Applications/Julia-1.4.app/Contents/Resources/julia/share/julia/stdlib/v1.4/LinearAlgebra/src/uniformscaling.jl:115\n",
       "[45] +(a::Pkg.Resolve.VersionWeight, b::Pkg.Resolve.VersionWeight) in Pkg.Resolve at /Applications/Julia-1.4.app/Contents/Resources/julia/share/julia/stdlib/v1.4/Pkg/src/Resolve/versionweights.jl:22\n",
       "[46] +(a::Pkg.Resolve.FieldValue, b::Pkg.Resolve.FieldValue) in Pkg.Resolve at /Applications/Julia-1.4.app/Contents/Resources/julia/share/julia/stdlib/v1.4/Pkg/src/Resolve/fieldvalues.jl:43\n",
       "[47] +(a::FilePathsBase.Mode, b::FilePathsBase.Mode) in FilePathsBase at /Users/peter/.julia/packages/FilePathsBase/Oyg1p/src/mode.jl:116\n",
       "[48] +(x::TimeZones.ZonedDateTime) in TimeZones at /Users/peter/.julia/packages/TimeZones/OjMoF/src/arithmetic.jl:4\n",
       "[49] +(zdt::TimeZones.ZonedDateTime, p::Dates.DatePeriod) in TimeZones at /Users/peter/.julia/packages/TimeZones/OjMoF/src/arithmetic.jl:8\n",
       "[50] +(zdt::TimeZones.ZonedDateTime, p::Dates.TimePeriod) in TimeZones at /Users/peter/.julia/packages/TimeZones/OjMoF/src/arithmetic.jl:11\n",
       "[51] +(y::AbstractFloat, x::Bool) in Base at bool.jl:106\n",
       "[52] +(x::T, y::T) where T<:Union{Int128, Int16, Int32, Int64, Int8, UInt128, UInt16, UInt32, UInt64, UInt8} in Base at int.jl:53\n",
       "[53] +(c::Union{UInt16, UInt32, UInt64, UInt8}, x::BigInt) in Base.GMP at gmp.jl:522\n",
       "[54] +(c::Union{Int16, Int32, Int64, Int8}, x::BigInt) in Base.GMP at gmp.jl:528\n",
       "[55] +(a::Integer, b::Integer) in Base at int.jl:857\n",
       "[56] +(x::Integer, y::Ptr) in Base at pointer.jl:161\n",
       "[57] +(z::Complex) in Base at complex.jl:273\n",
       "[58] +(z::Complex, w::Complex) in Base at complex.jl:275\n",
       "[59] +(z::Complex, x::Bool) in Base at complex.jl:294\n",
       "[60] +(x::Rational) in Base at rational.jl:247\n",
       "[61] +(x::Real, z::Complex{Bool}) in Base at complex.jl:300\n",
       "[62] +(x::Real, z::Complex) in Base at complex.jl:312\n",
       "[63] +(z::Complex, x::Real) in Base at complex.jl:313\n",
       "[64] +(x::Rational, y::Rational) in Base at rational.jl:263\n",
       "[65] +(x::Integer, y::AbstractChar) in Base at char.jl:224\n",
       "[66] +(c::Union{UInt16, UInt32, UInt64, UInt8}, x::BigFloat) in Base.MPFR at mpfr.jl:390\n",
       "[67] +(c::Union{Int16, Int32, Int64, Int8}, x::BigFloat) in Base.MPFR at mpfr.jl:398\n",
       "[68] +(c::Union{Float16, Float32, Float64}, x::BigFloat) in Base.MPFR at mpfr.jl:406\n",
       "[69] +(x::AbstractIrrational, y::AbstractIrrational) in Base at irrationals.jl:137\n",
       "[70] +(x::Number) in Base at operators.jl:504\n",
       "[71] +(x::T, y::T) where T<:Number in Base at promotion.jl:384\n",
       "[72] +(x::Number, y::Number) in Base at promotion.jl:311\n",
       "[73] +(r1::OrdinalRange, r2::OrdinalRange) in Base at range.jl:1011\n",
       "[74] +(r1::LinRange{T}, r2::LinRange{T}) where T in Base at range.jl:1018\n",
       "[75] +(r1::StepRangeLen{T,R,S} where S, r2::StepRangeLen{T,R,S} where S) where {R<:Base.TwicePrecision, T} in Base at twiceprecision.jl:557\n",
       "[76] +(r1::StepRangeLen{T,S,S1} where S1, r2::StepRangeLen{T,S,S1} where S1) where {T, S} in Base at range.jl:1034\n",
       "[77] +(r1::Union{LinRange, OrdinalRange, StepRangeLen}, r2::Union{LinRange, OrdinalRange, StepRangeLen}) in Base at range.jl:1026\n",
       "[78] +(x::Ptr, y::Integer) in Base at pointer.jl:159\n",
       "[79] +(x::Base.TwicePrecision, y::Number) in Base at twiceprecision.jl:265\n",
       "[80] +(x::Number, y::Base.TwicePrecision) in Base at twiceprecision.jl:268\n",
       "[81] +(x::Base.TwicePrecision{T}, y::Base.TwicePrecision{T}) where T in Base at twiceprecision.jl:271\n",
       "[82] +(x::Base.TwicePrecision, y::Base.TwicePrecision) in Base at twiceprecision.jl:275\n",
       "[83] +(A::Array, Bs::Array...) in Base at arraymath.jl:44\n",
       "[84] +(A::BitArray, B::BitArray) in Base at bitarray.jl:1106\n",
       "[85] +(r::AbstractRange{#s664} where #s664<:Dates.TimeType, x::Dates.Period) in Dates at /Applications/Julia-1.4.app/Contents/Resources/julia/share/julia/stdlib/v1.4/Dates/src/ranges.jl:59\n",
       "[86] +(A::Array, B::SparseArrays.AbstractSparseMatrixCSC) in SparseArrays at /Applications/Julia-1.4.app/Contents/Resources/julia/share/julia/stdlib/v1.4/SparseArrays/src/sparsematrix.jl:1652\n",
       "[87] +(x::Union{DenseArray{#s664,N}, Base.ReinterpretArray{#s664,N,S,A} where S where A<:Union{SubArray{T,N,A,I,true} where I<:Union{Tuple{Vararg{Real,N} where N}, Tuple{AbstractUnitRange,Vararg{Any,N} where N}} where A<:DenseArray where N where T, DenseArray}, Base.ReshapedArray{#s664,N,A,MI} where MI<:Tuple{Vararg{Base.MultiplicativeInverses.SignedMultiplicativeInverse{Int64},N} where N} where A<:Union{Base.ReinterpretArray{T,N,S,A} where S where A<:Union{SubArray{T,N,A,I,true} where I<:Union{Tuple{Vararg{Real,N} where N}, Tuple{AbstractUnitRange,Vararg{Any,N} where N}} where A<:DenseArray where N where T, DenseArray} where N where T, SubArray{T,N,A,I,true} where I<:Union{Tuple{Vararg{Real,N} where N}, Tuple{AbstractUnitRange,Vararg{Any,N} where N}} where A<:DenseArray where N where T, DenseArray}, SubArray{#s664,N,A,I,L} where L where I<:Tuple{Vararg{Union{Int64, AbstractRange{Int64}, Base.AbstractCartesianIndex},N} where N} where A<:Union{Base.ReinterpretArray{T,N,S,A} where S where A<:Union{SubArray{T,N,A,I,true} where I<:Union{Tuple{Vararg{Real,N} where N}, Tuple{AbstractUnitRange,Vararg{Any,N} where N}} where A<:DenseArray where N where T, DenseArray} where N where T, Base.ReshapedArray{T,N,A,MI} where MI<:Tuple{Vararg{Base.MultiplicativeInverses.SignedMultiplicativeInverse{Int64},N} where N} where A<:Union{Base.ReinterpretArray{T,N,S,A} where S where A<:Union{SubArray{T,N,A,I,true} where I<:Union{Tuple{Vararg{Real,N} where N}, Tuple{AbstractUnitRange,Vararg{Any,N} where N}} where A<:DenseArray where N where T, DenseArray} where N where T, SubArray{T,N,A,I,true} where I<:Union{Tuple{Vararg{Real,N} where N}, Tuple{AbstractUnitRange,Vararg{Any,N} where N}} where A<:DenseArray where N where T, DenseArray} where N where T, DenseArray}} where N where #s664<:Union{Dates.CompoundPeriod, Dates.Period}) in Dates at /Applications/Julia-1.4.app/Contents/Resources/julia/share/julia/stdlib/v1.4/Dates/src/deprecated.jl:57\n",
       "[88] +(x::Union{DenseArray{#s664,N}, Base.ReinterpretArray{#s664,N,S,A} where S where A<:Union{SubArray{T,N,A,I,true} where I<:Union{Tuple{Vararg{Real,N} where N}, Tuple{AbstractUnitRange,Vararg{Any,N} where N}} where A<:DenseArray where N where T, DenseArray}, Base.ReshapedArray{#s664,N,A,MI} where MI<:Tuple{Vararg{Base.MultiplicativeInverses.SignedMultiplicativeInverse{Int64},N} where N} where A<:Union{Base.ReinterpretArray{T,N,S,A} where S where A<:Union{SubArray{T,N,A,I,true} where I<:Union{Tuple{Vararg{Real,N} where N}, Tuple{AbstractUnitRange,Vararg{Any,N} where N}} where A<:DenseArray where N where T, DenseArray} where N where T, SubArray{T,N,A,I,true} where I<:Union{Tuple{Vararg{Real,N} where N}, Tuple{AbstractUnitRange,Vararg{Any,N} where N}} where A<:DenseArray where N where T, DenseArray}, SubArray{#s664,N,A,I,L} where L where I<:Tuple{Vararg{Union{Int64, AbstractRange{Int64}, Base.AbstractCartesianIndex},N} where N} where A<:Union{Base.ReinterpretArray{T,N,S,A} where S where A<:Union{SubArray{T,N,A,I,true} where I<:Union{Tuple{Vararg{Real,N} where N}, Tuple{AbstractUnitRange,Vararg{Any,N} where N}} where A<:DenseArray where N where T, DenseArray} where N where T, Base.ReshapedArray{T,N,A,MI} where MI<:Tuple{Vararg{Base.MultiplicativeInverses.SignedMultiplicativeInverse{Int64},N} where N} where A<:Union{Base.ReinterpretArray{T,N,S,A} where S where A<:Union{SubArray{T,N,A,I,true} where I<:Union{Tuple{Vararg{Real,N} where N}, Tuple{AbstractUnitRange,Vararg{Any,N} where N}} where A<:DenseArray where N where T, DenseArray} where N where T, SubArray{T,N,A,I,true} where I<:Union{Tuple{Vararg{Real,N} where N}, Tuple{AbstractUnitRange,Vararg{Any,N} where N}} where A<:DenseArray where N where T, DenseArray} where N where T, DenseArray}} where N where #s664<:Union{Dates.CompoundPeriod, Dates.Period}, y::Dates.TimeType) in Dates at /Applications/Julia-1.4.app/Contents/Resources/julia/share/julia/stdlib/v1.4/Dates/src/deprecated.jl:12\n",
       "[89] +(X::Union{DenseArray{#s664,N}, Base.ReinterpretArray{#s664,N,S,A} where S where A<:Union{SubArray{T,N,A,I,true} where I<:Union{Tuple{Vararg{Real,N} where N}, Tuple{AbstractUnitRange,Vararg{Any,N} where N}} where A<:DenseArray where N where T, DenseArray}, Base.ReshapedArray{#s664,N,A,MI} where MI<:Tuple{Vararg{Base.MultiplicativeInverses.SignedMultiplicativeInverse{Int64},N} where N} where A<:Union{Base.ReinterpretArray{T,N,S,A} where S where A<:Union{SubArray{T,N,A,I,true} where I<:Union{Tuple{Vararg{Real,N} where N}, Tuple{AbstractUnitRange,Vararg{Any,N} where N}} where A<:DenseArray where N where T, DenseArray} where N where T, SubArray{T,N,A,I,true} where I<:Union{Tuple{Vararg{Real,N} where N}, Tuple{AbstractUnitRange,Vararg{Any,N} where N}} where A<:DenseArray where N where T, DenseArray}, SubArray{#s664,N,A,I,L} where L where I<:Tuple{Vararg{Union{Int64, AbstractRange{Int64}, Base.AbstractCartesianIndex},N} where N} where A<:Union{Base.ReinterpretArray{T,N,S,A} where S where A<:Union{SubArray{T,N,A,I,true} where I<:Union{Tuple{Vararg{Real,N} where N}, Tuple{AbstractUnitRange,Vararg{Any,N} where N}} where A<:DenseArray where N where T, DenseArray} where N where T, Base.ReshapedArray{T,N,A,MI} where MI<:Tuple{Vararg{Base.MultiplicativeInverses.SignedMultiplicativeInverse{Int64},N} where N} where A<:Union{Base.ReinterpretArray{T,N,S,A} where S where A<:Union{SubArray{T,N,A,I,true} where I<:Union{Tuple{Vararg{Real,N} where N}, Tuple{AbstractUnitRange,Vararg{Any,N} where N}} where A<:DenseArray where N where T, DenseArray} where N where T, SubArray{T,N,A,I,true} where I<:Union{Tuple{Vararg{Real,N} where N}, Tuple{AbstractUnitRange,Vararg{Any,N} where N}} where A<:DenseArray where N where T, DenseArray} where N where T, DenseArray}} where N where #s664<:Union{Dates.CompoundPeriod, Dates.Period}, Y::Union{DenseArray{#s663,N}, Base.ReinterpretArray{#s663,N,S,A} where S where A<:Union{SubArray{T,N,A,I,true} where I<:Union{Tuple{Vararg{Real,N} where N}, Tuple{AbstractUnitRange,Vararg{Any,N} where N}} where A<:DenseArray where N where T, DenseArray}, Base.ReshapedArray{#s663,N,A,MI} where MI<:Tuple{Vararg{Base.MultiplicativeInverses.SignedMultiplicativeInverse{Int64},N} where N} where A<:Union{Base.ReinterpretArray{T,N,S,A} where S where A<:Union{SubArray{T,N,A,I,true} where I<:Union{Tuple{Vararg{Real,N} where N}, Tuple{AbstractUnitRange,Vararg{Any,N} where N}} where A<:DenseArray where N where T, DenseArray} where N where T, SubArray{T,N,A,I,true} where I<:Union{Tuple{Vararg{Real,N} where N}, Tuple{AbstractUnitRange,Vararg{Any,N} where N}} where A<:DenseArray where N where T, DenseArray}, SubArray{#s663,N,A,I,L} where L where I<:Tuple{Vararg{Union{Int64, AbstractRange{Int64}, Base.AbstractCartesianIndex},N} where N} where A<:Union{Base.ReinterpretArray{T,N,S,A} where S where A<:Union{SubArray{T,N,A,I,true} where I<:Union{Tuple{Vararg{Real,N} where N}, Tuple{AbstractUnitRange,Vararg{Any,N} where N}} where A<:DenseArray where N where T, DenseArray} where N where T, Base.ReshapedArray{T,N,A,MI} where MI<:Tuple{Vararg{Base.MultiplicativeInverses.SignedMultiplicativeInverse{Int64},N} where N} where A<:Union{Base.ReinterpretArray{T,N,S,A} where S where A<:Union{SubArray{T,N,A,I,true} where I<:Union{Tuple{Vararg{Real,N} where N}, Tuple{AbstractUnitRange,Vararg{Any,N} where N}} where A<:DenseArray where N where T, DenseArray} where N where T, SubArray{T,N,A,I,true} where I<:Union{Tuple{Vararg{Real,N} where N}, Tuple{AbstractUnitRange,Vararg{Any,N} where N}} where A<:DenseArray where N where T, DenseArray} where N where T, DenseArray}} where N where #s663<:Union{Dates.CompoundPeriod, Dates.Period}) in Dates at /Applications/Julia-1.4.app/Contents/Resources/julia/share/julia/stdlib/v1.4/Dates/src/deprecated.jl:64\n",
       "[90] +(A::LinearAlgebra.SymTridiagonal, B::LinearAlgebra.SymTridiagonal) in LinearAlgebra at /Applications/Julia-1.4.app/Contents/Resources/julia/share/julia/stdlib/v1.4/LinearAlgebra/src/tridiag.jl:158\n",
       "[91] +(A::LinearAlgebra.Tridiagonal, B::LinearAlgebra.Tridiagonal) in LinearAlgebra at /Applications/Julia-1.4.app/Contents/Resources/julia/share/julia/stdlib/v1.4/LinearAlgebra/src/tridiag.jl:657\n",
       "[92] +(A::LinearAlgebra.UpperTriangular, B::LinearAlgebra.UpperTriangular) in LinearAlgebra at /Applications/Julia-1.4.app/Contents/Resources/julia/share/julia/stdlib/v1.4/LinearAlgebra/src/triangular.jl:648\n",
       "[93] +(A::LinearAlgebra.LowerTriangular, B::LinearAlgebra.LowerTriangular) in LinearAlgebra at /Applications/Julia-1.4.app/Contents/Resources/julia/share/julia/stdlib/v1.4/LinearAlgebra/src/triangular.jl:649\n",
       "[94] +(A::LinearAlgebra.UpperTriangular, B::LinearAlgebra.UnitUpperTriangular) in LinearAlgebra at /Applications/Julia-1.4.app/Contents/Resources/julia/share/julia/stdlib/v1.4/LinearAlgebra/src/triangular.jl:650\n",
       "[95] +(A::LinearAlgebra.LowerTriangular, B::LinearAlgebra.UnitLowerTriangular) in LinearAlgebra at /Applications/Julia-1.4.app/Contents/Resources/julia/share/julia/stdlib/v1.4/LinearAlgebra/src/triangular.jl:651\n",
       "[96] +(A::LinearAlgebra.UnitUpperTriangular, B::LinearAlgebra.UpperTriangular) in LinearAlgebra at /Applications/Julia-1.4.app/Contents/Resources/julia/share/julia/stdlib/v1.4/LinearAlgebra/src/triangular.jl:652\n",
       "[97] +(A::LinearAlgebra.UnitLowerTriangular, B::LinearAlgebra.LowerTriangular) in LinearAlgebra at /Applications/Julia-1.4.app/Contents/Resources/julia/share/julia/stdlib/v1.4/LinearAlgebra/src/triangular.jl:653\n",
       "[98] +(A::LinearAlgebra.UnitUpperTriangular, B::LinearAlgebra.UnitUpperTriangular) in LinearAlgebra at /Applications/Julia-1.4.app/Contents/Resources/julia/share/julia/stdlib/v1.4/LinearAlgebra/src/triangular.jl:654\n",
       "[99] +(A::LinearAlgebra.UnitLowerTriangular, B::LinearAlgebra.UnitLowerTriangular) in LinearAlgebra at /Applications/Julia-1.4.app/Contents/Resources/julia/share/julia/stdlib/v1.4/LinearAlgebra/src/triangular.jl:655\n",
       "[100] +(A::LinearAlgebra.AbstractTriangular, B::LinearAlgebra.AbstractTriangular) in LinearAlgebra at /Applications/Julia-1.4.app/Contents/Resources/julia/share/julia/stdlib/v1.4/LinearAlgebra/src/triangular.jl:656\n",
       "[101] +(A::LinearAlgebra.Symmetric, B::LinearAlgebra.Symmetric) in LinearAlgebra at /Applications/Julia-1.4.app/Contents/Resources/julia/share/julia/stdlib/v1.4/LinearAlgebra/src/symmetric.jl:465\n",
       "[102] +(A::LinearAlgebra.Hermitian, B::LinearAlgebra.Hermitian) in LinearAlgebra at /Applications/Julia-1.4.app/Contents/Resources/julia/share/julia/stdlib/v1.4/LinearAlgebra/src/symmetric.jl:466\n",
       "[103] +(A::LinearAlgebra.Hermitian, B::LinearAlgebra.Symmetric{#s664,S} where S<:(AbstractArray{#s6641,2} where #s6641<:#s664) where #s664<:Real) in LinearAlgebra at /Applications/Julia-1.4.app/Contents/Resources/julia/share/julia/stdlib/v1.4/LinearAlgebra/src/symmetric.jl:467\n",
       "[104] +(A::LinearAlgebra.Symmetric{#s664,S} where S<:(AbstractArray{#s6641,2} where #s6641<:#s664) where #s664<:Real, B::LinearAlgebra.Hermitian) in LinearAlgebra at /Applications/Julia-1.4.app/Contents/Resources/julia/share/julia/stdlib/v1.4/LinearAlgebra/src/symmetric.jl:468\n",
       "[105] +(Da::LinearAlgebra.Diagonal, Db::LinearAlgebra.Diagonal) in LinearAlgebra at /Applications/Julia-1.4.app/Contents/Resources/julia/share/julia/stdlib/v1.4/LinearAlgebra/src/diagonal.jl:156\n",
       "[106] +(A::LinearAlgebra.Bidiagonal, B::LinearAlgebra.Bidiagonal) in LinearAlgebra at /Applications/Julia-1.4.app/Contents/Resources/julia/share/julia/stdlib/v1.4/LinearAlgebra/src/bidiag.jl:309\n",
       "[107] +(UL::LinearAlgebra.UnitUpperTriangular, J::LinearAlgebra.UniformScaling) in LinearAlgebra at /Applications/Julia-1.4.app/Contents/Resources/julia/share/julia/stdlib/v1.4/LinearAlgebra/src/uniformscaling.jl:131\n",
       "[108] +(UL::LinearAlgebra.UnitLowerTriangular, J::LinearAlgebra.UniformScaling) in LinearAlgebra at /Applications/Julia-1.4.app/Contents/Resources/julia/share/julia/stdlib/v1.4/LinearAlgebra/src/uniformscaling.jl:131\n",
       "[109] +(A::LinearAlgebra.Hermitian, J::LinearAlgebra.UniformScaling{#s664} where #s664<:Complex) in LinearAlgebra at /Applications/Julia-1.4.app/Contents/Resources/julia/share/julia/stdlib/v1.4/LinearAlgebra/src/uniformscaling.jl:145\n",
       "[110] +(H::LinearAlgebra.UpperHessenberg, J::LinearAlgebra.UniformScaling) in LinearAlgebra at /Applications/Julia-1.4.app/Contents/Resources/julia/share/julia/stdlib/v1.4/LinearAlgebra/src/hessenberg.jl:106\n",
       "[111] +(A::LinearAlgebra.Tridiagonal{#s664,V} where V<:AbstractArray{#s664,1} where #s664<:Number, B::LinearAlgebra.UniformScaling) in LinearAlgebra at /Applications/Julia-1.4.app/Contents/Resources/julia/share/julia/stdlib/v1.4/LinearAlgebra/src/special.jl:238\n",
       "[112] +(A::LinearAlgebra.SymTridiagonal{#s664,V} where V<:AbstractArray{#s664,1} where #s664<:Number, B::LinearAlgebra.UniformScaling) in LinearAlgebra at /Applications/Julia-1.4.app/Contents/Resources/julia/share/julia/stdlib/v1.4/LinearAlgebra/src/special.jl:243\n",
       "[113] +(A::LinearAlgebra.Bidiagonal{#s664,V} where V<:AbstractArray{#s664,1} where #s664<:Number, B::LinearAlgebra.UniformScaling) in LinearAlgebra at /Applications/Julia-1.4.app/Contents/Resources/julia/share/julia/stdlib/v1.4/LinearAlgebra/src/special.jl:248\n",
       "[114] +(A::LinearAlgebra.Diagonal{#s664,V} where V<:AbstractArray{#s664,1} where #s664<:Number, B::LinearAlgebra.UniformScaling) in LinearAlgebra at /Applications/Julia-1.4.app/Contents/Resources/julia/share/julia/stdlib/v1.4/LinearAlgebra/src/special.jl:253\n",
       "[115] +(A::SparseArrays.AbstractSparseMatrixCSC, J::LinearAlgebra.UniformScaling) in SparseArrays at /Applications/Julia-1.4.app/Contents/Resources/julia/share/julia/stdlib/v1.4/SparseArrays/src/sparsematrix.jl:3610\n",
       "[116] +(A::AbstractArray{T,2} where T, J::LinearAlgebra.UniformScaling) in LinearAlgebra at /Applications/Julia-1.4.app/Contents/Resources/julia/share/julia/stdlib/v1.4/LinearAlgebra/src/uniformscaling.jl:164\n",
       "[117] +(A::LinearAlgebra.UpperHessenberg, B::LinearAlgebra.UpperHessenberg) in LinearAlgebra at /Applications/Julia-1.4.app/Contents/Resources/julia/share/julia/stdlib/v1.4/LinearAlgebra/src/hessenberg.jl:101\n",
       "[118] +(A::LinearAlgebra.UpperTriangular, B::LinearAlgebra.Bidiagonal) in LinearAlgebra at /Applications/Julia-1.4.app/Contents/Resources/julia/share/julia/stdlib/v1.4/LinearAlgebra/src/special.jl:98\n",
       "[119] +(A::LinearAlgebra.Bidiagonal, B::LinearAlgebra.UpperTriangular) in LinearAlgebra at /Applications/Julia-1.4.app/Contents/Resources/julia/share/julia/stdlib/v1.4/LinearAlgebra/src/special.jl:106\n",
       "[120] +(A::LinearAlgebra.UnitUpperTriangular, B::LinearAlgebra.Bidiagonal) in LinearAlgebra at /Applications/Julia-1.4.app/Contents/Resources/julia/share/julia/stdlib/v1.4/LinearAlgebra/src/special.jl:98\n",
       "[121] +(A::LinearAlgebra.Bidiagonal, B::LinearAlgebra.UnitUpperTriangular) in LinearAlgebra at /Applications/Julia-1.4.app/Contents/Resources/julia/share/julia/stdlib/v1.4/LinearAlgebra/src/special.jl:106\n",
       "[122] +(A::LinearAlgebra.LowerTriangular, B::LinearAlgebra.Bidiagonal) in LinearAlgebra at /Applications/Julia-1.4.app/Contents/Resources/julia/share/julia/stdlib/v1.4/LinearAlgebra/src/special.jl:98\n",
       "[123] +(A::LinearAlgebra.Bidiagonal, B::LinearAlgebra.LowerTriangular) in LinearAlgebra at /Applications/Julia-1.4.app/Contents/Resources/julia/share/julia/stdlib/v1.4/LinearAlgebra/src/special.jl:106\n",
       "[124] +(A::LinearAlgebra.UnitLowerTriangular, B::LinearAlgebra.Bidiagonal) in LinearAlgebra at /Applications/Julia-1.4.app/Contents/Resources/julia/share/julia/stdlib/v1.4/LinearAlgebra/src/special.jl:98\n",
       "[125] +(A::LinearAlgebra.Bidiagonal, B::LinearAlgebra.UnitLowerTriangular) in LinearAlgebra at /Applications/Julia-1.4.app/Contents/Resources/julia/share/julia/stdlib/v1.4/LinearAlgebra/src/special.jl:106\n",
       "[126] +(A::LinearAlgebra.Bidiagonal, B::LinearAlgebra.Diagonal) in LinearAlgebra at /Applications/Julia-1.4.app/Contents/Resources/julia/share/julia/stdlib/v1.4/LinearAlgebra/src/special.jl:127\n",
       "[127] +(A::LinearAlgebra.Diagonal, B::LinearAlgebra.Bidiagonal) in LinearAlgebra at /Applications/Julia-1.4.app/Contents/Resources/julia/share/julia/stdlib/v1.4/LinearAlgebra/src/special.jl:137\n",
       "[128] +(A::LinearAlgebra.Diagonal, B::LinearAlgebra.SymTridiagonal) in LinearAlgebra at /Applications/Julia-1.4.app/Contents/Resources/julia/share/julia/stdlib/v1.4/LinearAlgebra/src/special.jl:147\n",
       "[129] +(A::LinearAlgebra.SymTridiagonal, B::LinearAlgebra.Diagonal) in LinearAlgebra at /Applications/Julia-1.4.app/Contents/Resources/julia/share/julia/stdlib/v1.4/LinearAlgebra/src/special.jl:157\n",
       "[130] +(A::LinearAlgebra.Tridiagonal, B::LinearAlgebra.SymTridiagonal) in LinearAlgebra at /Applications/Julia-1.4.app/Contents/Resources/julia/share/julia/stdlib/v1.4/LinearAlgebra/src/special.jl:168\n",
       "[131] +(A::LinearAlgebra.SymTridiagonal, B::LinearAlgebra.Tridiagonal) in LinearAlgebra at /Applications/Julia-1.4.app/Contents/Resources/julia/share/julia/stdlib/v1.4/LinearAlgebra/src/special.jl:170\n",
       "[132] +(A::LinearAlgebra.Diagonal, B::LinearAlgebra.Tridiagonal) in LinearAlgebra at /Applications/Julia-1.4.app/Contents/Resources/julia/share/julia/stdlib/v1.4/LinearAlgebra/src/special.jl:175\n",
       "[133] +(A::LinearAlgebra.Tridiagonal, B::LinearAlgebra.Diagonal) in LinearAlgebra at /Applications/Julia-1.4.app/Contents/Resources/julia/share/julia/stdlib/v1.4/LinearAlgebra/src/special.jl:185\n",
       "[134] +(A::LinearAlgebra.Bidiagonal, B::LinearAlgebra.Tridiagonal) in LinearAlgebra at /Applications/Julia-1.4.app/Contents/Resources/julia/share/julia/stdlib/v1.4/LinearAlgebra/src/special.jl:195\n",
       "[135] +(A::LinearAlgebra.Tridiagonal, B::LinearAlgebra.Bidiagonal) in LinearAlgebra at /Applications/Julia-1.4.app/Contents/Resources/julia/share/julia/stdlib/v1.4/LinearAlgebra/src/special.jl:205\n",
       "[136] +(A::LinearAlgebra.Bidiagonal, B::LinearAlgebra.SymTridiagonal) in LinearAlgebra at /Applications/Julia-1.4.app/Contents/Resources/julia/share/julia/stdlib/v1.4/LinearAlgebra/src/special.jl:215\n",
       "[137] +(A::LinearAlgebra.SymTridiagonal, B::LinearAlgebra.Bidiagonal) in LinearAlgebra at /Applications/Julia-1.4.app/Contents/Resources/julia/share/julia/stdlib/v1.4/LinearAlgebra/src/special.jl:225\n",
       "[138] +(A::SparseArrays.AbstractSparseMatrixCSC, B::SparseArrays.AbstractSparseMatrixCSC) in SparseArrays at /Applications/Julia-1.4.app/Contents/Resources/julia/share/julia/stdlib/v1.4/SparseArrays/src/sparsematrix.jl:1648\n",
       "[139] +(A::SparseArrays.AbstractSparseMatrixCSC, B::Array) in SparseArrays at /Applications/Julia-1.4.app/Contents/Resources/julia/share/julia/stdlib/v1.4/SparseArrays/src/sparsematrix.jl:1651\n",
       "[140] +(x::SparseArrays.AbstractSparseArray{Tv,Ti,1} where Ti where Tv, y::SparseArrays.AbstractSparseArray{Tv,Ti,1} where Ti where Tv) in SparseArrays at /Applications/Julia-1.4.app/Contents/Resources/julia/share/julia/stdlib/v1.4/SparseArrays/src/sparsevector.jl:1303\n",
       "[141] +(x::AbstractArray{#s69,N} where N where #s69<:Number) in Base at abstractarraymath.jl:97\n",
       "[142] +(A::AbstractArray, B::AbstractArray) in Base at arraymath.jl:38\n",
       "[143] +(x::T, y::Integer) where T<:AbstractChar in Base at char.jl:223\n",
       "[144] +(index1::CartesianIndex{N}, index2::CartesianIndex{N}) where N in Base.IteratorsMD at multidimensional.jl:111\n",
       "[145] +(::Number, ::Missing) in Base at missing.jl:116\n",
       "[146] +(x::P, y::P) where P<:Dates.Period in Dates at /Applications/Julia-1.4.app/Contents/Resources/julia/share/julia/stdlib/v1.4/Dates/src/periods.jl:75\n",
       "[147] +(x::Dates.Period, y::Dates.Period) in Dates at /Applications/Julia-1.4.app/Contents/Resources/julia/share/julia/stdlib/v1.4/Dates/src/periods.jl:338\n",
       "[148] +(y::Dates.Period, x::Dates.CompoundPeriod) in Dates at /Applications/Julia-1.4.app/Contents/Resources/julia/share/julia/stdlib/v1.4/Dates/src/periods.jl:340\n",
       "[149] +(x::Union{Dates.CompoundPeriod, Dates.Period}) in Dates at /Applications/Julia-1.4.app/Contents/Resources/julia/share/julia/stdlib/v1.4/Dates/src/periods.jl:349\n",
       "[150] +(x::Dates.TimeType) in Dates at /Applications/Julia-1.4.app/Contents/Resources/julia/share/julia/stdlib/v1.4/Dates/src/arithmetic.jl:8\n",
       "[151] +(a::Dates.TimeType, b::Dates.Period, c::Dates.Period) in Dates at /Applications/Julia-1.4.app/Contents/Resources/julia/share/julia/stdlib/v1.4/Dates/src/periods.jl:360\n",
       "[152] +(a::Dates.TimeType, b::Dates.Period, c::Dates.Period, d::Dates.Period...) in Dates at /Applications/Julia-1.4.app/Contents/Resources/julia/share/julia/stdlib/v1.4/Dates/src/periods.jl:361\n",
       "[153] +(x::Dates.TimeType, y::Dates.CompoundPeriod) in Dates at /Applications/Julia-1.4.app/Contents/Resources/julia/share/julia/stdlib/v1.4/Dates/src/periods.jl:364\n",
       "[154] +(x::Dates.Instant) in Dates at /Applications/Julia-1.4.app/Contents/Resources/julia/share/julia/stdlib/v1.4/Dates/src/arithmetic.jl:4\n",
       "[155] +(y::Dates.Period, x::Dates.TimeType) in Dates at /Applications/Julia-1.4.app/Contents/Resources/julia/share/julia/stdlib/v1.4/Dates/src/arithmetic.jl:80\n",
       "[156] +(x::Dates.Period, r::AbstractRange{#s664} where #s664<:Dates.TimeType) in Dates at /Applications/Julia-1.4.app/Contents/Resources/julia/share/julia/stdlib/v1.4/Dates/src/ranges.jl:58\n",
       "[157] +(x::AbstractArray{#s664,N} where N where #s664<:Dates.TimeType, y::Union{Dates.CompoundPeriod, Dates.Period}) in Dates at /Applications/Julia-1.4.app/Contents/Resources/julia/share/julia/stdlib/v1.4/Dates/src/deprecated.jl:8\n",
       "[158] +(y::Union{Dates.CompoundPeriod, Dates.Period}, x::AbstractArray{#s664,N} where N where #s664<:Dates.TimeType) in Dates at /Applications/Julia-1.4.app/Contents/Resources/julia/share/julia/stdlib/v1.4/Dates/src/deprecated.jl:16\n",
       "[159] +(y::Dates.TimeType, x::Union{DenseArray{#s664,N}, Base.ReinterpretArray{#s664,N,S,A} where S where A<:Union{SubArray{T,N,A,I,true} where I<:Union{Tuple{Vararg{Real,N} where N}, Tuple{AbstractUnitRange,Vararg{Any,N} where N}} where A<:DenseArray where N where T, DenseArray}, Base.ReshapedArray{#s664,N,A,MI} where MI<:Tuple{Vararg{Base.MultiplicativeInverses.SignedMultiplicativeInverse{Int64},N} where N} where A<:Union{Base.ReinterpretArray{T,N,S,A} where S where A<:Union{SubArray{T,N,A,I,true} where I<:Union{Tuple{Vararg{Real,N} where N}, Tuple{AbstractUnitRange,Vararg{Any,N} where N}} where A<:DenseArray where N where T, DenseArray} where N where T, SubArray{T,N,A,I,true} where I<:Union{Tuple{Vararg{Real,N} where N}, Tuple{AbstractUnitRange,Vararg{Any,N} where N}} where A<:DenseArray where N where T, DenseArray}, SubArray{#s664,N,A,I,L} where L where I<:Tuple{Vararg{Union{Int64, AbstractRange{Int64}, Base.AbstractCartesianIndex},N} where N} where A<:Union{Base.ReinterpretArray{T,N,S,A} where S where A<:Union{SubArray{T,N,A,I,true} where I<:Union{Tuple{Vararg{Real,N} where N}, Tuple{AbstractUnitRange,Vararg{Any,N} where N}} where A<:DenseArray where N where T, DenseArray} where N where T, Base.ReshapedArray{T,N,A,MI} where MI<:Tuple{Vararg{Base.MultiplicativeInverses.SignedMultiplicativeInverse{Int64},N} where N} where A<:Union{Base.ReinterpretArray{T,N,S,A} where S where A<:Union{SubArray{T,N,A,I,true} where I<:Union{Tuple{Vararg{Real,N} where N}, Tuple{AbstractUnitRange,Vararg{Any,N} where N}} where A<:DenseArray where N where T, DenseArray} where N where T, SubArray{T,N,A,I,true} where I<:Union{Tuple{Vararg{Real,N} where N}, Tuple{AbstractUnitRange,Vararg{Any,N} where N}} where A<:DenseArray where N where T, DenseArray} where N where T, DenseArray}} where N where #s664<:Union{Dates.CompoundPeriod, Dates.Period}) in Dates at /Applications/Julia-1.4.app/Contents/Resources/julia/share/julia/stdlib/v1.4/Dates/src/deprecated.jl:20\n",
       "[160] +(J::LinearAlgebra.UniformScaling, x::Number) in LinearAlgebra at /Applications/Julia-1.4.app/Contents/Resources/julia/share/julia/stdlib/v1.4/LinearAlgebra/src/uniformscaling.jl:109\n",
       "[161] +(x::Number, J::LinearAlgebra.UniformScaling) in LinearAlgebra at /Applications/Julia-1.4.app/Contents/Resources/julia/share/julia/stdlib/v1.4/LinearAlgebra/src/uniformscaling.jl:110\n",
       "[162] +(J1::LinearAlgebra.UniformScaling, J2::LinearAlgebra.UniformScaling) in LinearAlgebra at /Applications/Julia-1.4.app/Contents/Resources/julia/share/julia/stdlib/v1.4/LinearAlgebra/src/uniformscaling.jl:114\n",
       "[163] +(J::LinearAlgebra.UniformScaling, B::BitArray{2}) in LinearAlgebra at /Applications/Julia-1.4.app/Contents/Resources/julia/share/julia/stdlib/v1.4/LinearAlgebra/src/uniformscaling.jl:116\n",
       "[164] +(A::LinearAlgebra.UniformScaling, B::LinearAlgebra.Tridiagonal{#s664,V} where V<:AbstractArray{#s664,1} where #s664<:Number) in LinearAlgebra at /Applications/Julia-1.4.app/Contents/Resources/julia/share/julia/stdlib/v1.4/LinearAlgebra/src/special.jl:257\n",
       "[165] +(A::LinearAlgebra.UniformScaling, B::LinearAlgebra.SymTridiagonal{#s664,V} where V<:AbstractArray{#s664,1} where #s664<:Number) in LinearAlgebra at /Applications/Julia-1.4.app/Contents/Resources/julia/share/julia/stdlib/v1.4/LinearAlgebra/src/special.jl:262\n",
       "[166] +(A::LinearAlgebra.UniformScaling, B::LinearAlgebra.Bidiagonal{#s664,V} where V<:AbstractArray{#s664,1} where #s664<:Number) in LinearAlgebra at /Applications/Julia-1.4.app/Contents/Resources/julia/share/julia/stdlib/v1.4/LinearAlgebra/src/special.jl:267\n",
       "[167] +(A::LinearAlgebra.UniformScaling, B::LinearAlgebra.Diagonal{#s664,V} where V<:AbstractArray{#s664,1} where #s664<:Number) in LinearAlgebra at /Applications/Julia-1.4.app/Contents/Resources/julia/share/julia/stdlib/v1.4/LinearAlgebra/src/special.jl:272\n",
       "[168] +(J::LinearAlgebra.UniformScaling, A::AbstractArray{T,2} where T) in LinearAlgebra at /Applications/Julia-1.4.app/Contents/Resources/julia/share/julia/stdlib/v1.4/LinearAlgebra/src/uniformscaling.jl:117\n",
       "[169] +(F::LinearAlgebra.Hessenberg, J::LinearAlgebra.UniformScaling) in LinearAlgebra at /Applications/Julia-1.4.app/Contents/Resources/julia/share/julia/stdlib/v1.4/LinearAlgebra/src/hessenberg.jl:559\n",
       "[170] +(J::LinearAlgebra.UniformScaling, F::LinearAlgebra.Hessenberg) in LinearAlgebra at /Applications/Julia-1.4.app/Contents/Resources/julia/share/julia/stdlib/v1.4/LinearAlgebra/src/hessenberg.jl:560\n",
       "[171] +(a, b, c, xs...) in Base at operators.jl:529"
      ]
     },
     "execution_count": 3,
     "metadata": {},
     "output_type": "execute_result"
    }
   ],
   "source": [
    "methods(+)"
   ]
  },
  {
   "cell_type": "code",
   "execution_count": 2,
   "metadata": {},
   "outputs": [
    {
     "data": {
      "text/plain": [
       "4-element Array{String,1}:\n",
       " \"♠\"\n",
       " \"♡\"\n",
       " \"♢\"\n",
       " \"♣\""
      ]
     },
     "execution_count": 2,
     "metadata": {},
     "output_type": "execute_result"
    }
   ],
   "source": [
    "ranks = [\"A\",\"2\",\"3\",\"4\",\"5\",\"6\",\"7\",\"8\",\"9\",\"T\",\"J\",\"Q\",\"K\"]\n",
    "suits = [\"\\u2660\",\"\\u2661\",\"\\u2662\",\"\\u2663\"]"
   ]
  },
  {
   "cell_type": "code",
   "execution_count": 3,
   "metadata": {},
   "outputs": [],
   "source": [
    "mutable struct MutableStruct\n",
    "  a::Float64\n",
    "  b::Integer\n",
    "end"
   ]
  },
  {
   "cell_type": "code",
   "execution_count": 4,
   "metadata": {},
   "outputs": [
    {
     "data": {
      "text/plain": [
       "MutableStruct(1.0, 2)"
      ]
     },
     "execution_count": 4,
     "metadata": {},
     "output_type": "execute_result"
    }
   ],
   "source": [
    "s=MutableStruct(1,2)"
   ]
  },
  {
   "cell_type": "code",
   "execution_count": 5,
   "metadata": {},
   "outputs": [
    {
     "ename": "InexactError",
     "evalue": "InexactError: Int64(7.1)",
     "output_type": "error",
     "traceback": [
      "InexactError: Int64(7.1)",
      "",
      "Stacktrace:",
      " [1] Int64 at ./float.jl:710 [inlined]",
      " [2] Integer at ./boot.jl:741 [inlined]",
      " [3] convert(::Type{Integer}, ::Float64) at ./number.jl:7",
      " [4] setproperty!(::MutableStruct, ::Symbol, ::Float64) at ./Base.jl:34",
      " [5] top-level scope at In[5]:1"
     ]
    }
   ],
   "source": [
    "s.b=7.1"
   ]
  },
  {
   "cell_type": "code",
   "execution_count": 7,
   "metadata": {},
   "outputs": [
    {
     "data": {
      "text/plain": [
       "100×3 Array{Bool,2}:\n",
       " 1  1  1\n",
       " 1  0  0\n",
       " 0  1  1\n",
       " 1  1  0\n",
       " 1  1  1\n",
       " 1  0  1\n",
       " 0  1  0\n",
       " 0  1  0\n",
       " 1  0  0\n",
       " 1  0  0\n",
       " 1  1  0\n",
       " 1  0  1\n",
       " 0  0  1\n",
       " ⋮     \n",
       " 0  0  1\n",
       " 1  0  0\n",
       " 1  0  0\n",
       " 0  0  0\n",
       " 0  0  1\n",
       " 0  1  0\n",
       " 1  1  1\n",
       " 1  1  0\n",
       " 1  0  1\n",
       " 0  1  1\n",
       " 0  1  1\n",
       " 1  1  0"
      ]
     },
     "execution_count": 7,
     "metadata": {},
     "output_type": "execute_result"
    }
   ],
   "source": [
    "coins3 = rand(Bool,100,3)"
   ]
  },
  {
   "cell_type": "code",
   "execution_count": 8,
   "metadata": {},
   "outputs": [
    {
     "data": {
      "text/plain": [
       "3:2"
      ]
     },
     "execution_count": 8,
     "metadata": {},
     "output_type": "execute_result"
    }
   ],
   "source": [
    "3:2"
   ]
  },
  {
   "cell_type": "code",
   "execution_count": 9,
   "metadata": {},
   "outputs": [
    {
     "data": {
      "text/plain": [
       "UnitRange{Int64}"
      ]
     },
     "execution_count": 9,
     "metadata": {},
     "output_type": "execute_result"
    }
   ],
   "source": [
    "typeof(3:2)"
   ]
  },
  {
   "cell_type": "code",
   "execution_count": 10,
   "metadata": {},
   "outputs": [
    {
     "data": {
      "text/plain": [
       "3"
      ]
     },
     "execution_count": 10,
     "metadata": {},
     "output_type": "execute_result"
    }
   ],
   "source": [
    "first(3:2)"
   ]
  },
  {
   "cell_type": "code",
   "execution_count": 11,
   "metadata": {},
   "outputs": [
    {
     "data": {
      "text/plain": [
       "2"
      ]
     },
     "execution_count": 11,
     "metadata": {},
     "output_type": "execute_result"
    }
   ],
   "source": [
    "last(3:2)"
   ]
  },
  {
   "cell_type": "code",
   "execution_count": 12,
   "metadata": {},
   "outputs": [
    {
     "data": {
      "text/plain": [
       "10×3 Array{Int64,2}:\n",
       "  2   3   4\n",
       "  3   4   5\n",
       "  4   5   6\n",
       "  5   6   7\n",
       "  6   7   8\n",
       "  7   8   9\n",
       "  8   9  10\n",
       "  9  10  11\n",
       " 10  11  12\n",
       " 11  12  13"
      ]
     },
     "execution_count": 12,
     "metadata": {},
     "output_type": "execute_result"
    }
   ],
   "source": [
    "A=[i+j for i=1:10,j=1:3]"
   ]
  },
  {
   "cell_type": "code",
   "execution_count": 13,
   "metadata": {},
   "outputs": [
    {
     "data": {
      "text/plain": [
       "7-element Array{String,1}:\n",
       " \"Alisha\"\n",
       " \"Mary\"\n",
       " \"person1\"\n",
       " \"person2\"\n",
       " \"person3\"\n",
       " \"person4\"\n",
       " \"person5\""
      ]
     },
     "execution_count": 13,
     "metadata": {},
     "output_type": "execute_result"
    }
   ],
   "source": [
    "names = [\"Alisha\",\"Mary\",\"person1\",\"person2\",\"person3\",\"person4\",\"person5\"]"
   ]
  },
  {
   "cell_type": "code",
   "execution_count": 18,
   "metadata": {},
   "outputs": [
    {
     "data": {
      "text/plain": [
       "2"
      ]
     },
     "execution_count": 18,
     "metadata": {},
     "output_type": "execute_result"
    }
   ],
   "source": [
    "a = findfirst(name -> name==\"Alisha\",names)\n",
    "m = findfirst(name -> name==\"Mary\",names)"
   ]
  },
  {
   "cell_type": "code",
   "execution_count": 19,
   "metadata": {},
   "outputs": [
    {
     "data": {
      "text/plain": [
       "1"
      ]
     },
     "execution_count": 19,
     "metadata": {},
     "output_type": "execute_result"
    }
   ],
   "source": [
    "abs(a-m)"
   ]
  },
  {
   "cell_type": "code",
   "execution_count": 20,
   "metadata": {},
   "outputs": [
    {
     "data": {
      "text/plain": [
       "nextToEachOther (generic function with 1 method)"
      ]
     },
     "execution_count": 20,
     "metadata": {},
     "output_type": "execute_result"
    }
   ],
   "source": [
    "function nextToEachOther(names::Array{String,1})\n",
    "  a = findfirst(name -> name==\"Alisha\",names)\n",
    "  m = findfirst(name -> name==\"Mary\",names)\n",
    "  abs(a-m) == 1 || abs(a-m) == length(names)-1\n",
    "end\n"
   ]
  },
  {
   "cell_type": "code",
   "execution_count": 22,
   "metadata": {},
   "outputs": [
    {
     "data": {
      "text/plain": [
       "false"
      ]
     },
     "execution_count": 22,
     "metadata": {},
     "output_type": "execute_result"
    }
   ],
   "source": [
    "nextToEachOther([\"Alisha\",\"p1\",\"p2\",\"p3\",\"p4\",\"p5\",\"Mary\",\"P8\"])"
   ]
  },
  {
   "cell_type": "code",
   "execution_count": 1,
   "metadata": {},
   "outputs": [
    {
     "data": {
      "text/plain": [
       "Main.PlayingCards"
      ]
     },
     "execution_count": 1,
     "metadata": {},
     "output_type": "execute_result"
    }
   ],
   "source": [
    "module PlayingCards\n",
    "\n",
    "import Base.show\n",
    "\n",
    "export Card, Hand, isFullHouse\n",
    "\n",
    "ranks = ['A','2','3','4','5','6','7','8','9','T','J','Q','K']\n",
    "suits = ['\\u2660','\\u2661','\\u2662','\\u2663']\n",
    "\n",
    "struct Card\n",
    "    rank::Int\n",
    "    suit::Int\n",
    "\n",
    "    # construct a card based on the rank and suit\n",
    "    function Card(r::Int,s::Int)\n",
    "        1 <= r <=13  || throw(ArgumentError(\"The rank must be an integer between 1 and 13.\"))\n",
    "        1 <= s <= 4  || throw(ArgumentError(\"The suit must be an integer between 1 and 4.\"))\n",
    "        new(r,s)\n",
    "    end\n",
    "\n",
    "    # construct a card based on the number in a deck\n",
    "    function Card(i::Int)\n",
    "        1 <= i <= 52 || throw(ArgumentError(\"The argument must be an integer between 1 and 52\"))\n",
    "        i%13==0 ? new(13,div(i,13)) : new(i%13,div(i,13)+1)\n",
    "    end\n",
    "\n",
    "    # construct a card based on a string representation of the card\n",
    "    function Card(str::String)\n",
    "        length(str)==2 || throw(ArgumentError(\"The string should only be 2 characters\"))\n",
    "        local r = findfirst(a->a==str[1],ranks)\n",
    "        r != nothing &&  1 <= r <= 13 || throw(ArgumentError(string(\"The first character should be one of \",join(ranks,\",\"))))\n",
    "        local s=findfirst(a->a==str[2],suits)\n",
    "        s != nothing && 1<= s <= 4 || throw(ArgumentError(string(\"The second character should be one of \",join(suits,\",\"))))\n",
    "        new(r,s)\n",
    "    end\n",
    "end\n",
    "\n",
    "\n",
    "struct Hand\n",
    "    cards::Array{Card,1}\n",
    "    function Hand(cards::Array{Card,1})\n",
    "       new(cards)\n",
    "    end\n",
    "    function Hand(cards::Array{String,1})\n",
    "       new(map(Card,cards))\n",
    "    end\n",
    "    function Hand(s::String)\n",
    "       new(map(Card,map(String,split(s,','))))\n",
    "    end\n",
    "end\n",
    "\n",
    "function Base.show(io::IO, c::Card)\n",
    "  print(io,string(ranks[c.rank],suits[c.suit]))\n",
    "end\n",
    "\n",
    "function Base.show(io::IO, h::Hand)\n",
    "  print(io,string(\"[\",join(map(c->string(ranks[c.rank], suits[c.suit]), h.cards), \",\")), \"]\")\n",
    "end\n",
    "\n",
    "function isFullHouse(h::Hand)\n",
    "    local cranks=sort(map(c->c.rank,h.cards))\n",
    "    cranks[2]==cranks[1] && cranks[5]==cranks[4] && (cranks[3]==cranks[2] || cranks[4]==cranks[3]) && cranks[2] != cranks[4]\n",
    "end\n",
    "\n",
    "end #module PlayingCards"
   ]
  },
  {
   "cell_type": "code",
   "execution_count": 24,
   "metadata": {},
   "outputs": [],
   "source": [
    "using .PlayingCards"
   ]
  },
  {
   "cell_type": "code",
   "execution_count": 2,
   "metadata": {},
   "outputs": [
    {
     "ename": "UndefVarError",
     "evalue": "UndefVarError: Card not defined",
     "output_type": "error",
     "traceback": [
      "UndefVarError: Card not defined",
      "",
      "Stacktrace:",
      " [1] top-level scope at In[2]:1"
     ]
    }
   ],
   "source": [
    "Card(2,4)"
   ]
  },
  {
   "cell_type": "code",
   "execution_count": 26,
   "metadata": {},
   "outputs": [
    {
     "data": {
      "text/plain": [
       "J♡"
      ]
     },
     "execution_count": 26,
     "metadata": {},
     "output_type": "execute_result"
    }
   ],
   "source": [
    "Card(24)"
   ]
  },
  {
   "cell_type": "code",
   "execution_count": 27,
   "metadata": {},
   "outputs": [
    {
     "data": {
      "text/html": [
       "# 3 methods for type constructor:<ul><li> Card(i::<b>Int64</b>) in Main.PlayingCards at In[23]:23</li> <li> Card(r::<b>Int64</b>, s::<b>Int64</b>) in Main.PlayingCards at In[23]:16</li> <li> Card(str::<b>String</b>) in Main.PlayingCards at In[23]:30</li> </ul>"
      ],
      "text/plain": [
       "# 3 methods for type constructor:\n",
       "[1] Card(i::Int64) in Main.PlayingCards at In[23]:23\n",
       "[2] Card(r::Int64, s::Int64) in Main.PlayingCards at In[23]:16\n",
       "[3] Card(str::String) in Main.PlayingCards at In[23]:30"
      ]
     },
     "execution_count": 27,
     "metadata": {},
     "output_type": "execute_result"
    }
   ],
   "source": [
    "methods(Card)"
   ]
  },
  {
   "cell_type": "code",
   "execution_count": 3,
   "metadata": {},
   "outputs": [
    {
     "data": {
      "text/plain": [
       "J♡"
      ]
     },
     "execution_count": 3,
     "metadata": {},
     "output_type": "execute_result"
    }
   ],
   "source": [
    "PlayingCards.Card(24)"
   ]
  },
  {
   "cell_type": "code",
   "execution_count": null,
   "metadata": {},
   "outputs": [],
   "source": [
    "00"
   ]
  }
 ],
 "metadata": {
  "kernelspec": {
   "display_name": "Julia 1.4.1",
   "language": "julia",
   "name": "julia-1.4"
  },
  "language_info": {
   "file_extension": ".jl",
   "mimetype": "application/julia",
   "name": "julia",
   "version": "1.4.1"
  }
 },
 "nbformat": 4,
 "nbformat_minor": 4
}
