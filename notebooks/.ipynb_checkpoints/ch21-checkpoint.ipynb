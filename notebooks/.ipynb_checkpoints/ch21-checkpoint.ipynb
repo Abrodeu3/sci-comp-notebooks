{
 "cells": [
  {
   "cell_type": "markdown",
   "metadata": {},
   "source": [
    "## Chapter 21: Olympic Data"
   ]
  },
  {
   "cell_type": "markdown",
   "metadata": {},
   "source": [
    "This analyzes a nice dataset with a number of interesting data from all olympics between 1896 and 2014.  "
   ]
  },
  {
   "cell_type": "code",
   "execution_count": 1,
   "metadata": {},
   "outputs": [],
   "source": [
    "using Query, CSVFiles, DataFrames, StatsPlots"
   ]
  },
  {
   "cell_type": "code",
   "execution_count": 2,
   "metadata": {},
   "outputs": [
    {
     "data": {
      "text/plain": [
       "180"
      ]
     },
     "execution_count": 2,
     "metadata": {},
     "output_type": "execute_result"
    }
   ],
   "source": [
    "ENV[\"COLUMNS\"]=180"
   ]
  },
  {
   "cell_type": "code",
   "execution_count": 3,
   "metadata": {},
   "outputs": [],
   "source": [
    "athletes = load(\"../data/olympic-athletes.csv\") |> DataFrame;"
   ]
  },
  {
   "cell_type": "code",
   "execution_count": 4,
   "metadata": {},
   "outputs": [
    {
     "data": {
      "text/html": [
       "<table class=\"data-frame\"><thead><tr><th></th><th>ID</th><th>Name</th><th>Sex</th><th>Age</th><th>Height</th><th>Weight</th><th>Team</th><th>NOC</th><th>Games</th><th>Year</th><th>Season</th><th>City</th><th>Sport</th><th>Event</th></tr><tr><th></th><th>Int64</th><th>String</th><th>String</th><th>Int64?</th><th>Int64?</th><th>Float64?</th><th>String</th><th>String</th><th>String</th><th>Int64</th><th>String</th><th>String</th><th>String</th><th>String</th></tr></thead><tbody><p>5 rows × 15 columns (omitted printing of 1 columns)</p><tr><th>1</th><td>1</td><td>A Dijiang</td><td>M</td><td>24</td><td>180</td><td>80.0</td><td>China</td><td>CHN</td><td>1992 Summer</td><td>1992</td><td>Summer</td><td>Barcelona</td><td>Basketball</td><td>Basketball Men's Basketball</td></tr><tr><th>2</th><td>2</td><td>A Lamusi</td><td>M</td><td>23</td><td>170</td><td>60.0</td><td>China</td><td>CHN</td><td>2012 Summer</td><td>2012</td><td>Summer</td><td>London</td><td>Judo</td><td>Judo Men's Extra-Lightweight</td></tr><tr><th>3</th><td>3</td><td>Gunnar Nielsen Aaby</td><td>M</td><td>24</td><td><em>missing</em></td><td><em>missing</em></td><td>Denmark</td><td>DEN</td><td>1920 Summer</td><td>1920</td><td>Summer</td><td>Antwerpen</td><td>Football</td><td>Football Men's Football</td></tr><tr><th>4</th><td>4</td><td>Edgar Lindenau Aabye</td><td>M</td><td>34</td><td><em>missing</em></td><td><em>missing</em></td><td>Denmark/Sweden</td><td>DEN</td><td>1900 Summer</td><td>1900</td><td>Summer</td><td>Paris</td><td>Tug-Of-War</td><td>Tug-Of-War Men's Tug-Of-War</td></tr><tr><th>5</th><td>5</td><td>Christine Jacoba Aaftink</td><td>F</td><td>21</td><td>185</td><td>82.0</td><td>Netherlands</td><td>NED</td><td>1988 Winter</td><td>1988</td><td>Winter</td><td>Calgary</td><td>Speed Skating</td><td>Speed Skating Women's 500 metres</td></tr></tbody></table>"
      ],
      "text/latex": [
       "\\begin{tabular}{r|ccccccccccccccc}\n",
       "\t& ID & Name & Sex & Age & Height & Weight & Team & NOC & Games & Year & Season & City & Sport & Event & \\\\\n",
       "\t\\hline\n",
       "\t& Int64 & String & String & Int64? & Int64? & Float64? & String & String & String & Int64 & String & String & String & String & \\\\\n",
       "\t\\hline\n",
       "\t1 & 1 & A Dijiang & M & 24 & 180 & 80.0 & China & CHN & 1992 Summer & 1992 & Summer & Barcelona & Basketball & Basketball Men's Basketball & $\\dots$ \\\\\n",
       "\t2 & 2 & A Lamusi & M & 23 & 170 & 60.0 & China & CHN & 2012 Summer & 2012 & Summer & London & Judo & Judo Men's Extra-Lightweight & $\\dots$ \\\\\n",
       "\t3 & 3 & Gunnar Nielsen Aaby & M & 24 & \\emph{missing} & \\emph{missing} & Denmark & DEN & 1920 Summer & 1920 & Summer & Antwerpen & Football & Football Men's Football & $\\dots$ \\\\\n",
       "\t4 & 4 & Edgar Lindenau Aabye & M & 34 & \\emph{missing} & \\emph{missing} & Denmark/Sweden & DEN & 1900 Summer & 1900 & Summer & Paris & Tug-Of-War & Tug-Of-War Men's Tug-Of-War & $\\dots$ \\\\\n",
       "\t5 & 5 & Christine Jacoba Aaftink & F & 21 & 185 & 82.0 & Netherlands & NED & 1988 Winter & 1988 & Winter & Calgary & Speed Skating & Speed Skating Women's 500 metres & $\\dots$ \\\\\n",
       "\\end{tabular}\n"
      ],
      "text/plain": [
       "5×15 DataFrame. Omitted printing of 2 columns\n",
       "│ Row │ ID    │ Name                     │ Sex    │ Age    │ Height  │ Weight   │ Team           │ NOC    │ Games       │ Year  │ Season │ City      │ Sport         │\n",
       "│     │ \u001b[90mInt64\u001b[39m │ \u001b[90mString\u001b[39m                   │ \u001b[90mString\u001b[39m │ \u001b[90mInt64?\u001b[39m │ \u001b[90mInt64?\u001b[39m  │ \u001b[90mFloat64?\u001b[39m │ \u001b[90mString\u001b[39m         │ \u001b[90mString\u001b[39m │ \u001b[90mString\u001b[39m      │ \u001b[90mInt64\u001b[39m │ \u001b[90mString\u001b[39m │ \u001b[90mString\u001b[39m    │ \u001b[90mString\u001b[39m        │\n",
       "├─────┼───────┼──────────────────────────┼────────┼────────┼─────────┼──────────┼────────────────┼────────┼─────────────┼───────┼────────┼───────────┼───────────────┤\n",
       "│ 1   │ 1     │ A Dijiang                │ M      │ 24     │ 180     │ 80.0     │ China          │ CHN    │ 1992 Summer │ 1992  │ Summer │ Barcelona │ Basketball    │\n",
       "│ 2   │ 2     │ A Lamusi                 │ M      │ 23     │ 170     │ 60.0     │ China          │ CHN    │ 2012 Summer │ 2012  │ Summer │ London    │ Judo          │\n",
       "│ 3   │ 3     │ Gunnar Nielsen Aaby      │ M      │ 24     │ \u001b[90mmissing\u001b[39m │ \u001b[90mmissing\u001b[39m  │ Denmark        │ DEN    │ 1920 Summer │ 1920  │ Summer │ Antwerpen │ Football      │\n",
       "│ 4   │ 4     │ Edgar Lindenau Aabye     │ M      │ 34     │ \u001b[90mmissing\u001b[39m │ \u001b[90mmissing\u001b[39m  │ Denmark/Sweden │ DEN    │ 1900 Summer │ 1900  │ Summer │ Paris     │ Tug-Of-War    │\n",
       "│ 5   │ 5     │ Christine Jacoba Aaftink │ F      │ 21     │ 185     │ 82.0     │ Netherlands    │ NED    │ 1988 Winter │ 1988  │ Winter │ Calgary   │ Speed Skating │"
      ]
     },
     "execution_count": 4,
     "metadata": {},
     "output_type": "execute_result"
    }
   ],
   "source": [
    "first(athletes,5)"
   ]
  },
  {
   "cell_type": "markdown",
   "metadata": {},
   "source": [
    "* **ID** a number corresponding to each athlete\n",
    "* **Name** the name of the athlete\n",
    "* **Sex** the sex (either Male or Female) of the athlete\n",
    "* **Height** the height of the athlete in cm\n",
    "* **Weight** the weight of the athlete in kg\n",
    "* **Team** the country the athlete participated for\n",
    "* **NOC** the country code of the athlete (helpful for condensed printing)\n",
    "* **Games** The year and season (summer or winter) of the Olympic games for the given event.\n",
    "* **Year** The Year of the Olympic games for the event.\n",
    "* **Season** The season of the Olympic games for the event.\n",
    "* **City** The host city of the Olympic games\n",
    "* **Sport** The sport (category) of the event\n",
    "* **Event** The specific event the athlete competed in.\n",
    "* **Medal** The medal type (Gold, Silver, Bronze) or NA if no medal was earned."
   ]
  },
  {
   "cell_type": "markdown",
   "metadata": {},
   "source": []
  },
  {
   "cell_type": "markdown",
   "metadata": {},
   "source": [
    "### 1. What is the total number of medals given in all Olympics in the dataset?"
   ]
  },
  {
   "cell_type": "code",
   "execution_count": 6,
   "metadata": {},
   "outputs": [
    {
     "data": {
      "text/plain": [
       "39783"
      ]
     },
     "execution_count": 6,
     "metadata": {},
     "output_type": "execute_result"
    }
   ],
   "source": [
    "athletes |> \n",
    "  @filter(_.Medal != \"NA\") |>\n",
    "  DataFrame |>\n",
    "  nrow"
   ]
  },
  {
   "cell_type": "markdown",
   "metadata": {},
   "source": [
    "### 2. Which athlete had the most Olympic gold medals in the Summer 2000 games? How many medals?"
   ]
  },
  {
   "cell_type": "code",
   "execution_count": 7,
   "metadata": {},
   "outputs": [
    {
     "data": {
      "text/html": [
       "<table class=\"data-frame\"><thead><tr><th></th><th>ID</th><th>Name</th><th>num_golds</th></tr><tr><th></th><th>Int64</th><th>String</th><th>Int64</th></tr></thead><tbody><p>6 rows × 3 columns</p><tr><th>1</th><td>25975</td><td>Inge de Bruijn</td><td>3</td></tr><tr><th>2</th><td>63912</td><td>Lenny Krayzelburg</td><td>3</td></tr><tr><th>3</th><td>119922</td><td>Jennifer Elisabeth \"Jenny\" Thompson (-Cumpelik)</td><td>3</td></tr><tr><th>4</th><td>120087</td><td>Ian James Thorpe</td><td>3</td></tr><tr><th>5</th><td>134980</td><td>Leontine Martha Henrica Petronella \"Leontien\" Zijlaard-van Moorsel</td><td>3</td></tr><tr><th>6</th><td>3281</td><td>Simona Amnar (-Tabr)</td><td>2</td></tr></tbody></table>"
      ],
      "text/latex": [
       "\\begin{tabular}{r|ccc}\n",
       "\t& ID & Name & num\\_golds\\\\\n",
       "\t\\hline\n",
       "\t& Int64 & String & Int64\\\\\n",
       "\t\\hline\n",
       "\t1 & 25975 & Inge de Bruijn & 3 \\\\\n",
       "\t2 & 63912 & Lenny Krayzelburg & 3 \\\\\n",
       "\t3 & 119922 & Jennifer Elisabeth \"Jenny\" Thompson (-Cumpelik) & 3 \\\\\n",
       "\t4 & 120087 & Ian James Thorpe & 3 \\\\\n",
       "\t5 & 134980 & Leontine Martha Henrica Petronella \"Leontien\" Zijlaard-van Moorsel & 3 \\\\\n",
       "\t6 & 3281 & Simona Amnar (-Tabr) & 2 \\\\\n",
       "\\end{tabular}\n"
      ],
      "text/plain": [
       "6×3 DataFrame\n",
       "│ Row │ ID     │ Name                                                               │ num_golds │\n",
       "│     │ \u001b[90mInt64\u001b[39m  │ \u001b[90mString\u001b[39m                                                             │ \u001b[90mInt64\u001b[39m     │\n",
       "├─────┼────────┼────────────────────────────────────────────────────────────────────┼───────────┤\n",
       "│ 1   │ 25975  │ Inge de Bruijn                                                     │ 3         │\n",
       "│ 2   │ 63912  │ Lenny Krayzelburg                                                  │ 3         │\n",
       "│ 3   │ 119922 │ Jennifer Elisabeth \"Jenny\" Thompson (-Cumpelik)                    │ 3         │\n",
       "│ 4   │ 120087 │ Ian James Thorpe                                                   │ 3         │\n",
       "│ 5   │ 134980 │ Leontine Martha Henrica Petronella \"Leontien\" Zijlaard-van Moorsel │ 3         │\n",
       "│ 6   │ 3281   │ Simona Amnar (-Tabr)                                               │ 2         │"
      ]
     },
     "execution_count": 7,
     "metadata": {},
     "output_type": "execute_result"
    }
   ],
   "source": []
  },
  {
   "cell_type": "markdown",
   "metadata": {},
   "source": [
    "### 3. Collectively taking each summer Olympics, give the top 5 athletes by number of medals."
   ]
  },
  {
   "cell_type": "markdown",
   "metadata": {},
   "source": [
    "### 4. List the top 10 countries by medals in only winter Olympics."
   ]
  },
  {
   "cell_type": "markdown",
   "metadata": {},
   "source": [
    "### 5. Plot the average weight for male and female in each year over the entire span of the Olympic games."
   ]
  },
  {
   "cell_type": "markdown",
   "metadata": {},
   "source": [
    "### 6. Plot the number of medals that the U.S. collected over each olympic year."
   ]
  },
  {
   "cell_type": "markdown",
   "metadata": {},
   "source": [
    "### 7. What age the most common athlete? What we are looking for is the mode of the age of all athletes."
   ]
  },
  {
   "cell_type": "markdown",
   "metadata": {},
   "source": [
    "### 8. Consider the winter games between 1950 and 1970.  Collectively of these games, what are the top 5 sports by total medals given? "
   ]
  },
  {
   "cell_type": "code",
   "execution_count": null,
   "metadata": {},
   "outputs": [],
   "source": []
  }
 ],
 "metadata": {
  "kernelspec": {
   "display_name": "Julia 1.5.2",
   "language": "julia",
   "name": "julia-1.5"
  },
  "language_info": {
   "file_extension": ".jl",
   "mimetype": "application/julia",
   "name": "julia",
   "version": "1.5.2"
  }
 },
 "nbformat": 4,
 "nbformat_minor": 4
}
