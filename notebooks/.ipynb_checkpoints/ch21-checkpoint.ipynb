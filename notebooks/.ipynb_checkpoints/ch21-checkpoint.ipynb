{
 "cells": [
  {
   "cell_type": "markdown",
   "metadata": {},
   "source": [
    "## Chapter 21: Olympic Data"
   ]
  },
  {
   "cell_type": "code",
   "execution_count": 2,
   "metadata": {},
   "outputs": [],
   "source": [
    "using Query, CSVFiles, DataFrames"
   ]
  },
  {
   "cell_type": "code",
   "execution_count": 3,
   "metadata": {},
   "outputs": [
    {
     "data": {
      "text/plain": [
       "180"
      ]
     },
     "execution_count": 3,
     "metadata": {},
     "output_type": "execute_result"
    }
   ],
   "source": [
    "ENV[\"COLUMNS\"]=180"
   ]
  },
  {
   "cell_type": "code",
   "execution_count": 4,
   "metadata": {},
   "outputs": [],
   "source": [
    "summer = load(\"../data/olympics-summer.csv\") |> DataFrame;"
   ]
  },
  {
   "cell_type": "code",
   "execution_count": 6,
   "metadata": {},
   "outputs": [
    {
     "data": {
      "text/html": [
       "<table class=\"data-frame\"><thead><tr><th></th><th>Year</th><th>City</th><th>Sport</th><th>Discipline</th><th>Athlete</th><th>Country</th><th>Gender</th><th>Event</th><th>Medal</th></tr><tr><th></th><th>Int64</th><th>String</th><th>String</th><th>String</th><th>String</th><th>String</th><th>String</th><th>String</th><th>String</th></tr></thead><tbody><p>5 rows × 9 columns</p><tr><th>1</th><td>1896</td><td>Athens</td><td>Aquatics</td><td>Swimming</td><td>HAJOS, Alfred</td><td>HUN</td><td>Men</td><td>100M Freestyle</td><td>Gold</td></tr><tr><th>2</th><td>1896</td><td>Athens</td><td>Aquatics</td><td>Swimming</td><td>HERSCHMANN, Otto</td><td>AUT</td><td>Men</td><td>100M Freestyle</td><td>Silver</td></tr><tr><th>3</th><td>1896</td><td>Athens</td><td>Aquatics</td><td>Swimming</td><td>DRIVAS, Dimitrios</td><td>GRE</td><td>Men</td><td>100M Freestyle For Sailors</td><td>Bronze</td></tr><tr><th>4</th><td>1896</td><td>Athens</td><td>Aquatics</td><td>Swimming</td><td>MALOKINIS, Ioannis</td><td>GRE</td><td>Men</td><td>100M Freestyle For Sailors</td><td>Gold</td></tr><tr><th>5</th><td>1896</td><td>Athens</td><td>Aquatics</td><td>Swimming</td><td>CHASAPIS, Spiridon</td><td>GRE</td><td>Men</td><td>100M Freestyle For Sailors</td><td>Silver</td></tr></tbody></table>"
      ],
      "text/latex": [
       "\\begin{tabular}{r|ccccccccc}\n",
       "\t& Year & City & Sport & Discipline & Athlete & Country & Gender & Event & Medal\\\\\n",
       "\t\\hline\n",
       "\t& Int64 & String & String & String & String & String & String & String & String\\\\\n",
       "\t\\hline\n",
       "\t1 & 1896 & Athens & Aquatics & Swimming & HAJOS, Alfred & HUN & Men & 100M Freestyle & Gold \\\\\n",
       "\t2 & 1896 & Athens & Aquatics & Swimming & HERSCHMANN, Otto & AUT & Men & 100M Freestyle & Silver \\\\\n",
       "\t3 & 1896 & Athens & Aquatics & Swimming & DRIVAS, Dimitrios & GRE & Men & 100M Freestyle For Sailors & Bronze \\\\\n",
       "\t4 & 1896 & Athens & Aquatics & Swimming & MALOKINIS, Ioannis & GRE & Men & 100M Freestyle For Sailors & Gold \\\\\n",
       "\t5 & 1896 & Athens & Aquatics & Swimming & CHASAPIS, Spiridon & GRE & Men & 100M Freestyle For Sailors & Silver \\\\\n",
       "\\end{tabular}\n"
      ],
      "text/plain": [
       "5×9 DataFrame\n",
       "│ Row │ Year  │ City   │ Sport    │ Discipline │ Athlete            │ Country │ Gender │ Event                      │ Medal  │\n",
       "│     │ \u001b[90mInt64\u001b[39m │ \u001b[90mString\u001b[39m │ \u001b[90mString\u001b[39m   │ \u001b[90mString\u001b[39m     │ \u001b[90mString\u001b[39m             │ \u001b[90mString\u001b[39m  │ \u001b[90mString\u001b[39m │ \u001b[90mString\u001b[39m                     │ \u001b[90mString\u001b[39m │\n",
       "├─────┼───────┼────────┼──────────┼────────────┼────────────────────┼─────────┼────────┼────────────────────────────┼────────┤\n",
       "│ 1   │ 1896  │ Athens │ Aquatics │ Swimming   │ HAJOS, Alfred      │ HUN     │ Men    │ 100M Freestyle             │ Gold   │\n",
       "│ 2   │ 1896  │ Athens │ Aquatics │ Swimming   │ HERSCHMANN, Otto   │ AUT     │ Men    │ 100M Freestyle             │ Silver │\n",
       "│ 3   │ 1896  │ Athens │ Aquatics │ Swimming   │ DRIVAS, Dimitrios  │ GRE     │ Men    │ 100M Freestyle For Sailors │ Bronze │\n",
       "│ 4   │ 1896  │ Athens │ Aquatics │ Swimming   │ MALOKINIS, Ioannis │ GRE     │ Men    │ 100M Freestyle For Sailors │ Gold   │\n",
       "│ 5   │ 1896  │ Athens │ Aquatics │ Swimming   │ CHASAPIS, Spiridon │ GRE     │ Men    │ 100M Freestyle For Sailors │ Silver │"
      ]
     },
     "execution_count": 6,
     "metadata": {},
     "output_type": "execute_result"
    }
   ],
   "source": [
    "first(summer,5)"
   ]
  },
  {
   "cell_type": "code",
   "execution_count": 8,
   "metadata": {},
   "outputs": [
    {
     "data": {
      "text/plain": [
       "9-element Array{String,1}:\n",
       " \"Year\"\n",
       " \"City\"\n",
       " \"Sport\"\n",
       " \"Discipline\"\n",
       " \"Athlete\"\n",
       " \"Country\"\n",
       " \"Gender\"\n",
       " \"Event\"\n",
       " \"Medal\""
      ]
     },
     "execution_count": 8,
     "metadata": {},
     "output_type": "execute_result"
    }
   ],
   "source": [
    "names(summer)"
   ]
  },
  {
   "cell_type": "code",
   "execution_count": 9,
   "metadata": {},
   "outputs": [
    {
     "data": {
      "text/plain": [
       "31165"
      ]
     },
     "execution_count": 9,
     "metadata": {},
     "output_type": "execute_result"
    }
   ],
   "source": [
    "nrow(summer)"
   ]
  },
  {
   "cell_type": "code",
   "execution_count": 21,
   "metadata": {},
   "outputs": [
    {
     "data": {
      "text/html": [
       "<table class=\"data-frame\"><thead><tr><th></th><th>Athlete</th><th>num_golds</th><th>country</th></tr><tr><th></th><th>String</th><th>Int64</th><th>String</th></tr></thead><tbody><p>6 rows × 3 columns</p><tr><th>1</th><td>KRAYZELBURG, Lenny</td><td>3</td><td>USA</td></tr><tr><th>2</th><td>DE BRUIJN, Inge</td><td>3</td><td>NED</td></tr><tr><th>3</th><td>THORPE, Ian</td><td>3</td><td>AUS</td></tr><tr><th>4</th><td>THOMPSON, Jenny</td><td>3</td><td>USA</td></tr><tr><th>5</th><td>ZIJLAARD-VAN MOORSEL, Leontien</td><td>3</td><td>NED</td></tr><tr><th>6</th><td>XIONG, Ni</td><td>2</td><td>CHN</td></tr></tbody></table>"
      ],
      "text/latex": [
       "\\begin{tabular}{r|ccc}\n",
       "\t& Athlete & num\\_golds & country\\\\\n",
       "\t\\hline\n",
       "\t& String & Int64 & String\\\\\n",
       "\t\\hline\n",
       "\t1 & KRAYZELBURG, Lenny & 3 & USA \\\\\n",
       "\t2 & DE BRUIJN, Inge & 3 & NED \\\\\n",
       "\t3 & THORPE, Ian & 3 & AUS \\\\\n",
       "\t4 & THOMPSON, Jenny & 3 & USA \\\\\n",
       "\t5 & ZIJLAARD-VAN MOORSEL, Leontien & 3 & NED \\\\\n",
       "\t6 & XIONG, Ni & 2 & CHN \\\\\n",
       "\\end{tabular}\n"
      ],
      "text/plain": [
       "6×3 DataFrame\n",
       "│ Row │ Athlete                        │ num_golds │ country │\n",
       "│     │ \u001b[90mString\u001b[39m                         │ \u001b[90mInt64\u001b[39m     │ \u001b[90mString\u001b[39m  │\n",
       "├─────┼────────────────────────────────┼───────────┼─────────┤\n",
       "│ 1   │ KRAYZELBURG, Lenny             │ 3         │ USA     │\n",
       "│ 2   │ DE BRUIJN, Inge                │ 3         │ NED     │\n",
       "│ 3   │ THORPE, Ian                    │ 3         │ AUS     │\n",
       "│ 4   │ THOMPSON, Jenny                │ 3         │ USA     │\n",
       "│ 5   │ ZIJLAARD-VAN MOORSEL, Leontien │ 3         │ NED     │\n",
       "│ 6   │ XIONG, Ni                      │ 2         │ CHN     │"
      ]
     },
     "execution_count": 21,
     "metadata": {},
     "output_type": "execute_result"
    }
   ],
   "source": [
    "summer |> \n",
    "  @filter(_.Year == 2000 && _.Medal == \"Gold\") |> \n",
    "  @groupby(_.Athlete) |> \n",
    "  @map({Athlete = key(_), num_golds = length(_), country = first(unique(_.Country))}) |> \n",
    "  @orderby_descending(_.num_golds) |> \n",
    "  DataFrame |>\n",
    "  df -> first(df,6) "
   ]
  },
  {
   "cell_type": "code",
   "execution_count": 30,
   "metadata": {},
   "outputs": [
    {
     "data": {
      "text/html": [
       "<table class=\"data-frame\"><thead><tr><th></th><th>Sport</th><th>Num_Medals</th></tr><tr><th></th><th>String</th><th>Int64</th></tr></thead><tbody><p>10 rows × 2 columns</p><tr><th>1</th><td>Aquatics</td><td>4170</td></tr><tr><th>2</th><td>Athletics</td><td>3638</td></tr><tr><th>3</th><td>Rowing</td><td>2667</td></tr><tr><th>4</th><td>Gymnastics</td><td>2307</td></tr><tr><th>5</th><td>Fencing</td><td>1613</td></tr><tr><th>6</th><td>Football</td><td>1497</td></tr><tr><th>7</th><td>Hockey</td><td>1422</td></tr><tr><th>8</th><td>Wrestling</td><td>1212</td></tr><tr><th>9</th><td>Shooting</td><td>1150</td></tr><tr><th>10</th><td>Sailing</td><td>1109</td></tr></tbody></table>"
      ],
      "text/latex": [
       "\\begin{tabular}{r|cc}\n",
       "\t& Sport & Num\\_Medals\\\\\n",
       "\t\\hline\n",
       "\t& String & Int64\\\\\n",
       "\t\\hline\n",
       "\t1 & Aquatics & 4170 \\\\\n",
       "\t2 & Athletics & 3638 \\\\\n",
       "\t3 & Rowing & 2667 \\\\\n",
       "\t4 & Gymnastics & 2307 \\\\\n",
       "\t5 & Fencing & 1613 \\\\\n",
       "\t6 & Football & 1497 \\\\\n",
       "\t7 & Hockey & 1422 \\\\\n",
       "\t8 & Wrestling & 1212 \\\\\n",
       "\t9 & Shooting & 1150 \\\\\n",
       "\t10 & Sailing & 1109 \\\\\n",
       "\\end{tabular}\n"
      ],
      "text/plain": [
       "10×2 DataFrame\n",
       "│ Row │ Sport      │ Num_Medals │\n",
       "│     │ \u001b[90mString\u001b[39m     │ \u001b[90mInt64\u001b[39m      │\n",
       "├─────┼────────────┼────────────┤\n",
       "│ 1   │ Aquatics   │ 4170       │\n",
       "│ 2   │ Athletics  │ 3638       │\n",
       "│ 3   │ Rowing     │ 2667       │\n",
       "│ 4   │ Gymnastics │ 2307       │\n",
       "│ 5   │ Fencing    │ 1613       │\n",
       "│ 6   │ Football   │ 1497       │\n",
       "│ 7   │ Hockey     │ 1422       │\n",
       "│ 8   │ Wrestling  │ 1212       │\n",
       "│ 9   │ Shooting   │ 1150       │\n",
       "│ 10  │ Sailing    │ 1109       │"
      ]
     },
     "execution_count": 30,
     "metadata": {},
     "output_type": "execute_result"
    }
   ],
   "source": [
    "summer |>\n",
    "  @groupby(_.Sport) |>\n",
    "  @map({Sport = key(_),Num_Medals=length(_)}) |>\n",
    "  @orderby_descending(_.Num_Medals) |>\n",
    "  DataFrame |>\n",
    "  df->first(df,10)"
   ]
  },
  {
   "cell_type": "markdown",
   "metadata": {},
   "source": [
    "### Produce a new DataFrame that lists total number of medals by country. Produce a histogram of the total number of medals."
   ]
  },
  {
   "cell_type": "code",
   "execution_count": 36,
   "metadata": {},
   "outputs": [
    {
     "data": {
      "text/html": [
       "<table class=\"data-frame\"><thead><tr><th></th><th>Country</th><th>Num_Medals</th></tr><tr><th></th><th>String</th><th>Int64</th></tr></thead><tbody><p>148 rows × 2 columns</p><tr><th>1</th><td>USA</td><td>4585</td></tr><tr><th>2</th><td>URS</td><td>2049</td></tr><tr><th>3</th><td>GBR</td><td>1720</td></tr><tr><th>4</th><td>FRA</td><td>1396</td></tr><tr><th>5</th><td>GER</td><td>1305</td></tr><tr><th>6</th><td>ITA</td><td>1296</td></tr><tr><th>7</th><td>AUS</td><td>1189</td></tr><tr><th>8</th><td>HUN</td><td>1079</td></tr><tr><th>9</th><td>SWE</td><td>1044</td></tr><tr><th>10</th><td>NED</td><td>851</td></tr><tr><th>11</th><td>GDR</td><td>825</td></tr><tr><th>12</th><td>CHN</td><td>807</td></tr><tr><th>13</th><td>JPN</td><td>788</td></tr><tr><th>14</th><td>RUS</td><td>768</td></tr><tr><th>15</th><td>CAN</td><td>649</td></tr><tr><th>16</th><td>ROU</td><td>640</td></tr><tr><th>17</th><td>NOR</td><td>554</td></tr><tr><th>18</th><td>KOR</td><td>529</td></tr><tr><th>19</th><td>POL</td><td>511</td></tr><tr><th>20</th><td>DEN</td><td>507</td></tr><tr><th>21</th><td>FRG</td><td>490</td></tr><tr><th>22</th><td>FIN</td><td>456</td></tr><tr><th>23</th><td>ESP</td><td>442</td></tr><tr><th>24</th><td>YUG</td><td>435</td></tr><tr><th>25</th><td>BRA</td><td>431</td></tr><tr><th>26</th><td>BEL</td><td>411</td></tr><tr><th>27</th><td>CUB</td><td>410</td></tr><tr><th>28</th><td>SUI</td><td>380</td></tr><tr><th>29</th><td>BUL</td><td>333</td></tr><tr><th>30</th><td>TCH</td><td>329</td></tr><tr><th>&vellip;</th><td>&vellip;</td><td>&vellip;</td></tr></tbody></table>"
      ],
      "text/latex": [
       "\\begin{tabular}{r|cc}\n",
       "\t& Country & Num\\_Medals\\\\\n",
       "\t\\hline\n",
       "\t& String & Int64\\\\\n",
       "\t\\hline\n",
       "\t1 & USA & 4585 \\\\\n",
       "\t2 & URS & 2049 \\\\\n",
       "\t3 & GBR & 1720 \\\\\n",
       "\t4 & FRA & 1396 \\\\\n",
       "\t5 & GER & 1305 \\\\\n",
       "\t6 & ITA & 1296 \\\\\n",
       "\t7 & AUS & 1189 \\\\\n",
       "\t8 & HUN & 1079 \\\\\n",
       "\t9 & SWE & 1044 \\\\\n",
       "\t10 & NED & 851 \\\\\n",
       "\t11 & GDR & 825 \\\\\n",
       "\t12 & CHN & 807 \\\\\n",
       "\t13 & JPN & 788 \\\\\n",
       "\t14 & RUS & 768 \\\\\n",
       "\t15 & CAN & 649 \\\\\n",
       "\t16 & ROU & 640 \\\\\n",
       "\t17 & NOR & 554 \\\\\n",
       "\t18 & KOR & 529 \\\\\n",
       "\t19 & POL & 511 \\\\\n",
       "\t20 & DEN & 507 \\\\\n",
       "\t21 & FRG & 490 \\\\\n",
       "\t22 & FIN & 456 \\\\\n",
       "\t23 & ESP & 442 \\\\\n",
       "\t24 & YUG & 435 \\\\\n",
       "\t25 & BRA & 431 \\\\\n",
       "\t26 & BEL & 411 \\\\\n",
       "\t27 & CUB & 410 \\\\\n",
       "\t28 & SUI & 380 \\\\\n",
       "\t29 & BUL & 333 \\\\\n",
       "\t30 & TCH & 329 \\\\\n",
       "\t$\\dots$ & $\\dots$ & $\\dots$ \\\\\n",
       "\\end{tabular}\n"
      ],
      "text/plain": [
       "148×2 DataFrame\n",
       "│ Row │ Country │ Num_Medals │\n",
       "│     │ \u001b[90mString\u001b[39m  │ \u001b[90mInt64\u001b[39m      │\n",
       "├─────┼─────────┼────────────┤\n",
       "│ 1   │ USA     │ 4585       │\n",
       "│ 2   │ URS     │ 2049       │\n",
       "│ 3   │ GBR     │ 1720       │\n",
       "│ 4   │ FRA     │ 1396       │\n",
       "│ 5   │ GER     │ 1305       │\n",
       "│ 6   │ ITA     │ 1296       │\n",
       "│ 7   │ AUS     │ 1189       │\n",
       "│ 8   │ HUN     │ 1079       │\n",
       "│ 9   │ SWE     │ 1044       │\n",
       "│ 10  │ NED     │ 851        │\n",
       "⋮\n",
       "│ 138 │ ERI     │ 1          │\n",
       "│ 139 │ UAE     │ 1          │\n",
       "│ 140 │ SUD     │ 1          │\n",
       "│ 141 │ MRI     │ 1          │\n",
       "│ 142 │ TOG     │ 1          │\n",
       "│ 143 │ BRN     │ 1          │\n",
       "│ 144 │ GUA     │ 1          │\n",
       "│ 145 │ GRN     │ 1          │\n",
       "│ 146 │ BOT     │ 1          │\n",
       "│ 147 │ CYP     │ 1          │\n",
       "│ 148 │ GAB     │ 1          │"
      ]
     },
     "execution_count": 36,
     "metadata": {},
     "output_type": "execute_result"
    }
   ],
   "source": [
    "medals = summer |>\n",
    "  @groupby(_.Country) |>\n",
    "  @map({Country = key(_), Num_Medals = length(_)}) |>\n",
    "  @orderby_descending(_.Num_Medals) |>\n",
    "  DataFrame"
   ]
  },
  {
   "cell_type": "code",
   "execution_count": null,
   "metadata": {},
   "outputs": [],
   "source": []
  }
 ],
 "metadata": {
  "kernelspec": {
   "display_name": "Julia 1.5.0-beta1",
   "language": "julia",
   "name": "julia-1.5"
  },
  "language_info": {
   "file_extension": ".jl",
   "mimetype": "application/julia",
   "name": "julia",
   "version": "1.5.0"
  }
 },
 "nbformat": 4,
 "nbformat_minor": 4
}
