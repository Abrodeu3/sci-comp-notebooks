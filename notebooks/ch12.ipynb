{
 "cells": [
  {
   "cell_type": "markdown",
   "metadata": {},
   "source": [
    "## Chapter 11: New Data Types in Julia"
   ]
  },
  {
   "cell_type": "code",
   "execution_count": 1,
   "metadata": {},
   "outputs": [],
   "source": [
    "struct Mystruct \n",
    "  num::Integer \n",
    "  str::String\n",
    "end"
   ]
  },
  {
   "cell_type": "code",
   "execution_count": 2,
   "metadata": {},
   "outputs": [
    {
     "data": {
      "text/plain": [
       "Mystruct(11, \"hello\")"
      ]
     },
     "execution_count": 2,
     "metadata": {},
     "output_type": "execute_result"
    }
   ],
   "source": [
    "m=Mystruct(11,\"hello\")"
   ]
  },
  {
   "cell_type": "code",
   "execution_count": 3,
   "metadata": {},
   "outputs": [
    {
     "data": {
      "text/plain": [
       "11"
      ]
     },
     "execution_count": 3,
     "metadata": {},
     "output_type": "execute_result"
    }
   ],
   "source": [
    "m.num"
   ]
  },
  {
   "cell_type": "code",
   "execution_count": 4,
   "metadata": {},
   "outputs": [
    {
     "data": {
      "text/plain": [
       "\"hello\""
      ]
     },
     "execution_count": 4,
     "metadata": {},
     "output_type": "execute_result"
    }
   ],
   "source": [
    "m.str"
   ]
  },
  {
   "cell_type": "code",
   "execution_count": 5,
   "metadata": {},
   "outputs": [
    {
     "data": {
      "text/plain": [
       "(:num, :str)"
      ]
     },
     "execution_count": 5,
     "metadata": {},
     "output_type": "execute_result"
    }
   ],
   "source": [
    "fieldnames(Mystruct)"
   ]
  },
  {
   "cell_type": "code",
   "execution_count": 6,
   "metadata": {},
   "outputs": [
    {
     "ename": "LoadError",
     "evalue": "MethodError: no method matching fieldnames(::Mystruct)\nClosest candidates are:\n  fieldnames(!Matched::Core.TypeofBottom) at reflection.jl:175\n  fieldnames(!Matched::Type{var\"#s9\"} where var\"#s9\"<:Tuple) at reflection.jl:177\n  fieldnames(!Matched::DataType) at reflection.jl:172\n  ...",
     "output_type": "error",
     "traceback": [
      "MethodError: no method matching fieldnames(::Mystruct)\nClosest candidates are:\n  fieldnames(!Matched::Core.TypeofBottom) at reflection.jl:175\n  fieldnames(!Matched::Type{var\"#s9\"} where var\"#s9\"<:Tuple) at reflection.jl:177\n  fieldnames(!Matched::DataType) at reflection.jl:172\n  ...",
      "",
      "Stacktrace:",
      " [1] top-level scope at In[6]:1",
      " [2] include_string(::Function, ::Module, ::String, ::String) at ./loading.jl:1091"
     ]
    }
   ],
   "source": [
    "fieldnames(m)"
   ]
  },
  {
   "cell_type": "code",
   "execution_count": 7,
   "metadata": {},
   "outputs": [],
   "source": [
    "mutable struct MutableStruct\n",
    "  a::Float64\n",
    "  b::Integer\n",
    "end"
   ]
  },
  {
   "cell_type": "code",
   "execution_count": 8,
   "metadata": {},
   "outputs": [
    {
     "data": {
      "text/plain": [
       "MutableStruct(1.0, 2)"
      ]
     },
     "execution_count": 8,
     "metadata": {},
     "output_type": "execute_result"
    }
   ],
   "source": [
    "s = MutableStruct(1,2)"
   ]
  },
  {
   "cell_type": "code",
   "execution_count": 9,
   "metadata": {},
   "outputs": [
    {
     "data": {
      "text/plain": [
       "4.5"
      ]
     },
     "execution_count": 9,
     "metadata": {},
     "output_type": "execute_result"
    }
   ],
   "source": [
    "s.a=4.5"
   ]
  },
  {
   "cell_type": "code",
   "execution_count": 10,
   "metadata": {},
   "outputs": [
    {
     "ename": "LoadError",
     "evalue": "setfield! immutable struct of type Mystruct cannot be changed",
     "output_type": "error",
     "traceback": [
      "setfield! immutable struct of type Mystruct cannot be changed",
      "",
      "Stacktrace:",
      " [1] setproperty!(::Mystruct, ::Symbol, ::String) at ./Base.jl:34",
      " [2] top-level scope at In[10]:1",
      " [3] include_string(::Function, ::Module, ::String, ::String) at ./loading.jl:1091"
     ]
    }
   ],
   "source": [
    "m.str = \"goodbye\""
   ]
  },
  {
   "cell_type": "code",
   "execution_count": 11,
   "metadata": {},
   "outputs": [
    {
     "data": {
      "text/plain": [
       "4-element Array{Char,1}:\n",
       " '♠': Unicode U+2660 (category So: Symbol, other)\n",
       " '♡': Unicode U+2661 (category So: Symbol, other)\n",
       " '♢': Unicode U+2662 (category So: Symbol, other)\n",
       " '♣': Unicode U+2663 (category So: Symbol, other)"
      ]
     },
     "execution_count": 11,
     "metadata": {},
     "output_type": "execute_result"
    }
   ],
   "source": [
    "ranks = ['A','2','3','4','5','6','7','8','9','T','J','Q','K'];\n",
    "suits = ['\\u2660','\\u2661','\\u2662','\\u2663']"
   ]
  },
  {
   "cell_type": "code",
   "execution_count": 12,
   "metadata": {},
   "outputs": [],
   "source": [
    "struct Card\n",
    "    rank::Integer\n",
    "    suit::Integer\n",
    "end"
   ]
  },
  {
   "cell_type": "code",
   "execution_count": 13,
   "metadata": {},
   "outputs": [
    {
     "data": {
      "text/plain": [
       "Card(3, 2)"
      ]
     },
     "execution_count": 13,
     "metadata": {},
     "output_type": "execute_result"
    }
   ],
   "source": [
    "c = Card(3,2)"
   ]
  },
  {
   "cell_type": "code",
   "execution_count": 14,
   "metadata": {},
   "outputs": [],
   "source": [
    "Base.show(io::IO, c::Card) = print(io, string(ranks[c.rank],suits[c.suit]))"
   ]
  },
  {
   "cell_type": "code",
   "execution_count": 15,
   "metadata": {},
   "outputs": [
    {
     "ename": "LoadError",
     "evalue": "invalid redefinition of type Card",
     "output_type": "error",
     "traceback": [
      "invalid redefinition of type Card",
      "",
      "Stacktrace:",
      " [1] top-level scope at In[15]:1",
      " [2] include_string(::Function, ::Module, ::String, ::String) at ./loading.jl:1091"
     ]
    }
   ],
   "source": [
    "struct Card\n",
    "  rank::Int\n",
    "  suit::Int\n",
    "  Card(r::Int,s::Int)=(1<=r<=13) ? ( (1<=s<=4) ? new(r,s) :\n",
    "    throw(ArgumentError(\"The argument for suit must be between 1 and 4\"))) :\n",
    "    throw(ArgumentError(\"The argument for rank must be between 1 and 13\")) \n",
    "  Card(i::Int) = !(1<=i<=52) ?\n",
    "    throw(ArgumentError(\"The argument must be an integer between 1 and 􏰍52\")) :\n",
    "    i%13==0 ? new(13,div(i,13)) : new(i%13,div(i,13)+1) \n",
    "end"
   ]
  },
  {
   "cell_type": "code",
   "execution_count": 16,
   "metadata": {},
   "outputs": [
    {
     "data": {
      "text/plain": [
       "3♡"
      ]
     },
     "execution_count": 16,
     "metadata": {},
     "output_type": "execute_result"
    }
   ],
   "source": [
    "c = Card(3,2)"
   ]
  },
  {
   "cell_type": "code",
   "execution_count": 17,
   "metadata": {},
   "outputs": [
    {
     "ename": "LoadError",
     "evalue": "MethodError: no method matching Card(::Int64)\nClosest candidates are:\n  Card(::Integer, !Matched::Integer) at In[12]:2\n  Card(::Any, !Matched::Any) at In[12]:2",
     "output_type": "error",
     "traceback": [
      "MethodError: no method matching Card(::Int64)\nClosest candidates are:\n  Card(::Integer, !Matched::Integer) at In[12]:2\n  Card(::Any, !Matched::Any) at In[12]:2",
      "",
      "Stacktrace:",
      " [1] top-level scope at In[17]:1",
      " [2] include_string(::Function, ::Module, ::String, ::String) at ./loading.jl:1091"
     ]
    }
   ],
   "source": [
    "Card(45)"
   ]
  },
  {
   "cell_type": "code",
   "execution_count": 18,
   "metadata": {},
   "outputs": [],
   "source": [
    "struct Hand\n",
    "    cards::Array{Card,1}\n",
    "end"
   ]
  },
  {
   "cell_type": "code",
   "execution_count": 19,
   "metadata": {},
   "outputs": [
    {
     "data": {
      "text/plain": [
       "Hand(Card[2♢, Q♠, T♠, T♣, 5♡])"
      ]
     },
     "execution_count": 19,
     "metadata": {},
     "output_type": "execute_result"
    }
   ],
   "source": [
    "h=Hand([Card(2,3),Card(12,1),Card(10,1),Card(10,4),Card(5,2)])"
   ]
  },
  {
   "cell_type": "code",
   "execution_count": 20,
   "metadata": {},
   "outputs": [],
   "source": [
    "Base.show(io::IO,h::Hand) = print(io, string(\"[\",join(h.cards,\", \"),\"]\"))"
   ]
  },
  {
   "cell_type": "code",
   "execution_count": 21,
   "metadata": {},
   "outputs": [
    {
     "data": {
      "text/plain": [
       "[2♢, Q♠, T♠, T♣, 5♡]"
      ]
     },
     "execution_count": 21,
     "metadata": {},
     "output_type": "execute_result"
    }
   ],
   "source": [
    "h"
   ]
  },
  {
   "cell_type": "code",
   "execution_count": 22,
   "metadata": {},
   "outputs": [
    {
     "data": {
      "text/plain": [
       "is_full_house (generic function with 1 method)"
      ]
     },
     "execution_count": 22,
     "metadata": {},
     "output_type": "execute_result"
    }
   ],
   "source": [
    "function is_full_house(h::Hand)\n",
    "    ranks = sort(map(c->c.rank, h.cards))\n",
    "    return (ranks[1]==ranks[2]==ranks[3] && ranks[4]==ranks[5]) ||\n",
    "        (ranks[1]==ranks[2] && ranks[3]==ranks[4]==ranks[5])\n",
    "end"
   ]
  },
  {
   "cell_type": "code",
   "execution_count": 23,
   "metadata": {},
   "outputs": [
    {
     "data": {
      "text/plain": [
       "false"
      ]
     },
     "execution_count": 23,
     "metadata": {},
     "output_type": "execute_result"
    }
   ],
   "source": [
    "is_full_house(h)"
   ]
  },
  {
   "cell_type": "code",
   "execution_count": 24,
   "metadata": {},
   "outputs": [
    {
     "ename": "LoadError",
     "evalue": "MethodError: no method matching Card(::Int64)\nClosest candidates are:\n  Card(::Integer, !Matched::Integer) at In[12]:2\n  Card(::Any, !Matched::Any) at In[12]:2",
     "output_type": "error",
     "traceback": [
      "MethodError: no method matching Card(::Int64)\nClosest candidates are:\n  Card(::Integer, !Matched::Integer) at In[12]:2\n  Card(::Any, !Matched::Any) at In[12]:2",
      "",
      "Stacktrace:",
      " [1] top-level scope at In[24]:1",
      " [2] include_string(::Function, ::Module, ::String, ::String) at ./loading.jl:1091"
     ]
    }
   ],
   "source": [
    "is_full_house(Hand([Card(11),Card(11),Card(24),Card(3),Card(16)]))"
   ]
  },
  {
   "cell_type": "code",
   "execution_count": 25,
   "metadata": {},
   "outputs": [],
   "source": [
    "struct Polynomial{T <: Number}\n",
    "  coeffs::Vector{T}\n",
    "end"
   ]
  },
  {
   "cell_type": "code",
   "execution_count": 26,
   "metadata": {},
   "outputs": [],
   "source": [
    "function Base.show(io::IO, p::Polynomial)\n",
    "  str = \"\"\n",
    "  for i = 1:length(p.coeffs)\n",
    "      str = string(str,p.coeffs[i],\"x^\",i-1,i<length(p.coeffs) ? \"+\" : \"\")\n",
    "  end\n",
    "  print(io, str)\n",
    "end"
   ]
  },
  {
   "cell_type": "code",
   "execution_count": 27,
   "metadata": {},
   "outputs": [
    {
     "data": {
      "text/plain": [
       "1x^0+2x^1+3x^2"
      ]
     },
     "execution_count": 27,
     "metadata": {},
     "output_type": "execute_result"
    }
   ],
   "source": [
    "p = Polynomial([1,2,3])"
   ]
  },
  {
   "cell_type": "code",
   "execution_count": 28,
   "metadata": {},
   "outputs": [
    {
     "name": "stdout",
     "output_type": "stream",
     "text": [
      "1 1\n",
      "2 2\n",
      "3 3\n"
     ]
    }
   ],
   "source": [
    "for (c,i) in enumerate(p.coeffs)\n",
    "    println(\"$c $i\")\n",
    "end"
   ]
  },
  {
   "cell_type": "markdown",
   "metadata": {},
   "source": [
    "### Develop a Polynomial Type"
   ]
  },
  {
   "cell_type": "code",
   "execution_count": 29,
   "metadata": {},
   "outputs": [],
   "source": [
    "struct Polynomial{T <: Number} \n",
    "    coeffs::Vector{T}\n",
    "end"
   ]
  },
  {
   "cell_type": "code",
   "execution_count": 30,
   "metadata": {},
   "outputs": [
    {
     "data": {
      "text/plain": [
       "1x^0+2x^1+3x^2+4x^3+5x^4+6x^5"
      ]
     },
     "execution_count": 30,
     "metadata": {},
     "output_type": "execute_result"
    }
   ],
   "source": [
    "poly1=Polynomial([1,2,3])\n",
    "poly2=Polynomial([1.0,2.0,3.0])\n",
    "poly3=Polynomial([2//3,3//4,5//8])\n",
    "poly4=Polynomial([im,2+0im,3-2im,-im])\n",
    "poly5=Polynomial([n for n=1:6])"
   ]
  },
  {
   "cell_type": "code",
   "execution_count": 31,
   "metadata": {},
   "outputs": [],
   "source": [
    "function Base.show(io::IO, p::Polynomial) \n",
    "  str = \"\"\n",
    "  for i = 1:length(p.coeffs)\n",
    "    str = string(str,p.coeffs[i],\"x^\",i-1,i<length(p.coeffs) ? \"+\" : \"\")\n",
    "  end\n",
    "  print(io, str)\n",
    "end"
   ]
  },
  {
   "cell_type": "code",
   "execution_count": 32,
   "metadata": {},
   "outputs": [
    {
     "data": {
      "text/plain": [
       "1x^0+2x^1+3x^2+4x^3+5x^4+6x^5"
      ]
     },
     "execution_count": 32,
     "metadata": {},
     "output_type": "execute_result"
    }
   ],
   "source": [
    "poly5"
   ]
  },
  {
   "cell_type": "code",
   "execution_count": 33,
   "metadata": {},
   "outputs": [
    {
     "data": {
      "text/plain": [
       "eval (generic function with 2 methods)"
      ]
     },
     "execution_count": 33,
     "metadata": {},
     "output_type": "execute_result"
    }
   ],
   "source": [
    "function eval(p::Polynomial,x::Number)\n",
    "  result = p.coeffs[end] \n",
    "  for i=length(p.coeffs)-1:-1:1\n",
    "    result = x*result+p.coeffs[i]\n",
    "  end\n",
    "  result\n",
    "end"
   ]
  },
  {
   "cell_type": "code",
   "execution_count": 44,
   "metadata": {},
   "outputs": [
    {
     "data": {
      "text/plain": [
       "eval (generic function with 2 methods)"
      ]
     },
     "execution_count": 44,
     "metadata": {},
     "output_type": "execute_result"
    }
   ],
   "source": [
    "function eval(poly::Polynomial{T},x::S) where {S <: Number, T <: Number}\n",
    "  reduce((val,i)->val + poly.coeffs[i]*x^(i-1),1:length(poly.coeffs),init=zero(T))\n",
    "end"
   ]
  },
  {
   "cell_type": "code",
   "execution_count": 45,
   "metadata": {},
   "outputs": [
    {
     "data": {
      "text/plain": [
       "2005"
      ]
     },
     "execution_count": 45,
     "metadata": {},
     "output_type": "execute_result"
    }
   ],
   "source": [
    "eval(poly5,3)"
   ]
  },
  {
   "cell_type": "code",
   "execution_count": 21,
   "metadata": {},
   "outputs": [
    {
     "data": {
      "text/html": [
       "# 2 methods for generic function <b>eval</b>:<ul><li> eval(p::<b>Polynomial</b>, x::<b>Number</b>) in Main at In[20]:1</li> <li> eval(x) in Base.MainInclude at <a href=\"https://github.com/JuliaLang/julia/tree/6443f6c95a0e62d5c58f70176c7a4da03fb21107/base/client.jl#L467\" target=\"_blank\">client.jl:467</a></li> </ul>"
      ],
      "text/plain": [
       "# 2 methods for generic function \"eval\":\n",
       "[1] eval(p::Polynomial, x::Number) in Main at In[20]:1\n",
       "[2] eval(x) in Base.MainInclude at client.jl:467"
      ]
     },
     "execution_count": 21,
     "metadata": {},
     "output_type": "execute_result"
    }
   ],
   "source": [
    "methods(eval)"
   ]
  },
  {
   "cell_type": "code",
   "execution_count": 22,
   "metadata": {},
   "outputs": [
    {
     "data": {
      "text/plain": [
       "1"
      ]
     },
     "execution_count": 22,
     "metadata": {},
     "output_type": "execute_result"
    }
   ],
   "source": [
    "eval(poly1,0)"
   ]
  },
  {
   "cell_type": "code",
   "execution_count": 23,
   "metadata": {},
   "outputs": [
    {
     "data": {
      "text/plain": [
       "2"
      ]
     },
     "execution_count": 23,
     "metadata": {},
     "output_type": "execute_result"
    }
   ],
   "source": [
    "eval(poly1,-1)"
   ]
  },
  {
   "cell_type": "code",
   "execution_count": 24,
   "metadata": {},
   "outputs": [
    {
     "data": {
      "text/plain": [
       "2-element Array{Any,1}:\n",
       " Complex\n",
       " Real"
      ]
     },
     "execution_count": 24,
     "metadata": {},
     "output_type": "execute_result"
    }
   ],
   "source": [
    "subtypes(Number)"
   ]
  },
  {
   "cell_type": "code",
   "execution_count": 25,
   "metadata": {},
   "outputs": [
    {
     "data": {
      "text/plain": [
       "true"
      ]
     },
     "execution_count": 25,
     "metadata": {},
     "output_type": "execute_result"
    }
   ],
   "source": [
    "Float64 <: Number"
   ]
  },
  {
   "cell_type": "code",
   "execution_count": 27,
   "metadata": {},
   "outputs": [],
   "source": [
    "using Plots,RecipesBase"
   ]
  },
  {
   "cell_type": "code",
   "execution_count": 30,
   "metadata": {},
   "outputs": [],
   "source": [
    "@recipe function f(poly::Polynomial,xmin::Number=-2,xmax::Number=2) \n",
    "  legend -->  false\n",
    "  linecolor -->  :green\n",
    "  xpts = LinRange(xmin,xmax,200)\n",
    "  ypts = map(x->eval(poly,x),xpts)\n",
    "  xpts,ypts\n",
    "end"
   ]
  },
  {
   "cell_type": "code",
   "execution_count": 31,
   "metadata": {},
   "outputs": [
    {
     "data": {
      "image/svg+xml": [
       "<?xml version=\"1.0\" encoding=\"utf-8\"?>\n",
       "<svg xmlns=\"http://www.w3.org/2000/svg\" xmlns:xlink=\"http://www.w3.org/1999/xlink\" width=\"600\" height=\"400\" viewBox=\"0 0 2400 1600\">\n",
       "<defs>\n",
       "  <clipPath id=\"clip300\">\n",
       "    <rect x=\"0\" y=\"0\" width=\"2400\" height=\"1600\"/>\n",
       "  </clipPath>\n",
       "</defs>\n",
       "<path clip-path=\"url(#clip300)\" d=\"\n",
       "M0 1600 L2400 1600 L2400 0 L0 0  Z\n",
       "  \" fill=\"#ffffff\" fill-rule=\"evenodd\" fill-opacity=\"1\"/>\n",
       "<defs>\n",
       "  <clipPath id=\"clip301\">\n",
       "    <rect x=\"480\" y=\"0\" width=\"1681\" height=\"1600\"/>\n",
       "  </clipPath>\n",
       "</defs>\n",
       "<path clip-path=\"url(#clip300)\" d=\"\n",
       "M133.589 1486.45 L2352.76 1486.45 L2352.76 47.2441 L133.589 47.2441  Z\n",
       "  \" fill=\"#ffffff\" fill-rule=\"evenodd\" fill-opacity=\"1\"/>\n",
       "<defs>\n",
       "  <clipPath id=\"clip302\">\n",
       "    <rect x=\"133\" y=\"47\" width=\"2220\" height=\"1440\"/>\n",
       "  </clipPath>\n",
       "</defs>\n",
       "<polyline clip-path=\"url(#clip302)\" style=\"stroke:#000000; stroke-width:2; stroke-opacity:0.1; fill:none\" points=\"\n",
       "  196.396,1486.45 196.396,47.2441 \n",
       "  \"/>\n",
       "<polyline clip-path=\"url(#clip302)\" style=\"stroke:#000000; stroke-width:2; stroke-opacity:0.1; fill:none\" points=\"\n",
       "  719.784,1486.45 719.784,47.2441 \n",
       "  \"/>\n",
       "<polyline clip-path=\"url(#clip302)\" style=\"stroke:#000000; stroke-width:2; stroke-opacity:0.1; fill:none\" points=\"\n",
       "  1243.17,1486.45 1243.17,47.2441 \n",
       "  \"/>\n",
       "<polyline clip-path=\"url(#clip302)\" style=\"stroke:#000000; stroke-width:2; stroke-opacity:0.1; fill:none\" points=\"\n",
       "  1766.56,1486.45 1766.56,47.2441 \n",
       "  \"/>\n",
       "<polyline clip-path=\"url(#clip302)\" style=\"stroke:#000000; stroke-width:2; stroke-opacity:0.1; fill:none\" points=\"\n",
       "  2289.95,1486.45 2289.95,47.2441 \n",
       "  \"/>\n",
       "<polyline clip-path=\"url(#clip302)\" style=\"stroke:#000000; stroke-width:2; stroke-opacity:0.1; fill:none\" points=\"\n",
       "  133.589,1251.75 2352.76,1251.75 \n",
       "  \"/>\n",
       "<polyline clip-path=\"url(#clip302)\" style=\"stroke:#000000; stroke-width:2; stroke-opacity:0.1; fill:none\" points=\"\n",
       "  133.589,1002.37 2352.76,1002.37 \n",
       "  \"/>\n",
       "<polyline clip-path=\"url(#clip302)\" style=\"stroke:#000000; stroke-width:2; stroke-opacity:0.1; fill:none\" points=\"\n",
       "  133.589,752.992 2352.76,752.992 \n",
       "  \"/>\n",
       "<polyline clip-path=\"url(#clip302)\" style=\"stroke:#000000; stroke-width:2; stroke-opacity:0.1; fill:none\" points=\"\n",
       "  133.589,503.611 2352.76,503.611 \n",
       "  \"/>\n",
       "<polyline clip-path=\"url(#clip302)\" style=\"stroke:#000000; stroke-width:2; stroke-opacity:0.1; fill:none\" points=\"\n",
       "  133.589,254.23 2352.76,254.23 \n",
       "  \"/>\n",
       "<polyline clip-path=\"url(#clip300)\" style=\"stroke:#000000; stroke-width:4; stroke-opacity:1; fill:none\" points=\"\n",
       "  133.589,1486.45 2352.76,1486.45 \n",
       "  \"/>\n",
       "<polyline clip-path=\"url(#clip300)\" style=\"stroke:#000000; stroke-width:4; stroke-opacity:1; fill:none\" points=\"\n",
       "  133.589,1486.45 133.589,47.2441 \n",
       "  \"/>\n",
       "<polyline clip-path=\"url(#clip300)\" style=\"stroke:#000000; stroke-width:4; stroke-opacity:1; fill:none\" points=\"\n",
       "  196.396,1486.45 196.396,1469.18 \n",
       "  \"/>\n",
       "<polyline clip-path=\"url(#clip300)\" style=\"stroke:#000000; stroke-width:4; stroke-opacity:1; fill:none\" points=\"\n",
       "  719.784,1486.45 719.784,1469.18 \n",
       "  \"/>\n",
       "<polyline clip-path=\"url(#clip300)\" style=\"stroke:#000000; stroke-width:4; stroke-opacity:1; fill:none\" points=\"\n",
       "  1243.17,1486.45 1243.17,1469.18 \n",
       "  \"/>\n",
       "<polyline clip-path=\"url(#clip300)\" style=\"stroke:#000000; stroke-width:4; stroke-opacity:1; fill:none\" points=\"\n",
       "  1766.56,1486.45 1766.56,1469.18 \n",
       "  \"/>\n",
       "<polyline clip-path=\"url(#clip300)\" style=\"stroke:#000000; stroke-width:4; stroke-opacity:1; fill:none\" points=\"\n",
       "  2289.95,1486.45 2289.95,1469.18 \n",
       "  \"/>\n",
       "<polyline clip-path=\"url(#clip300)\" style=\"stroke:#000000; stroke-width:4; stroke-opacity:1; fill:none\" points=\"\n",
       "  133.589,1251.75 160.219,1251.75 \n",
       "  \"/>\n",
       "<polyline clip-path=\"url(#clip300)\" style=\"stroke:#000000; stroke-width:4; stroke-opacity:1; fill:none\" points=\"\n",
       "  133.589,1002.37 160.219,1002.37 \n",
       "  \"/>\n",
       "<polyline clip-path=\"url(#clip300)\" style=\"stroke:#000000; stroke-width:4; stroke-opacity:1; fill:none\" points=\"\n",
       "  133.589,752.992 160.219,752.992 \n",
       "  \"/>\n",
       "<polyline clip-path=\"url(#clip300)\" style=\"stroke:#000000; stroke-width:4; stroke-opacity:1; fill:none\" points=\"\n",
       "  133.589,503.611 160.219,503.611 \n",
       "  \"/>\n",
       "<polyline clip-path=\"url(#clip300)\" style=\"stroke:#000000; stroke-width:4; stroke-opacity:1; fill:none\" points=\"\n",
       "  133.589,254.23 160.219,254.23 \n",
       "  \"/>\n",
       "<path clip-path=\"url(#clip300)\" d=\"M 0 0 M177.449 1525.04 L189.926 1525.04 L189.926 1528.83 L177.449 1528.83 L177.449 1525.04 Z\" fill=\"#000000\" fill-rule=\"evenodd\" fill-opacity=\"1\" /><path clip-path=\"url(#clip300)\" d=\"M 0 0 M199.023 1535.98 L215.342 1535.98 L215.342 1539.92 L193.398 1539.92 L193.398 1535.98 Q196.06 1533.23 200.643 1528.6 Q205.25 1523.95 206.43 1522.61 Q208.676 1520.08 209.555 1518.35 Q210.458 1516.59 210.458 1514.9 Q210.458 1512.14 208.514 1510.41 Q206.592 1508.67 203.491 1508.67 Q201.292 1508.67 198.838 1509.43 Q196.407 1510.2 193.63 1511.75 L193.63 1507.03 Q196.454 1505.89 198.907 1505.31 Q201.361 1504.73 203.398 1504.73 Q208.768 1504.73 211.963 1507.42 Q215.157 1510.11 215.157 1514.6 Q215.157 1516.73 214.347 1518.65 Q213.56 1520.54 211.453 1523.14 Q210.875 1523.81 207.773 1527.03 Q204.671 1530.22 199.023 1535.98 Z\" fill=\"#000000\" fill-rule=\"evenodd\" fill-opacity=\"1\" /><path clip-path=\"url(#clip300)\" d=\"M 0 0 M700.652 1525.04 L713.129 1525.04 L713.129 1528.83 L700.652 1528.83 L700.652 1525.04 Z\" fill=\"#000000\" fill-rule=\"evenodd\" fill-opacity=\"1\" /><path clip-path=\"url(#clip300)\" d=\"M 0 0 M719.009 1535.98 L726.647 1535.98 L726.647 1509.62 L718.337 1511.29 L718.337 1507.03 L726.601 1505.36 L731.277 1505.36 L731.277 1535.98 L738.916 1535.98 L738.916 1539.92 L719.009 1539.92 L719.009 1535.98 Z\" fill=\"#000000\" fill-rule=\"evenodd\" fill-opacity=\"1\" /><path clip-path=\"url(#clip300)\" d=\"M 0 0 M1243.17 1508.44 Q1239.56 1508.44 1237.73 1512 Q1235.93 1515.55 1235.93 1522.67 Q1235.93 1529.78 1237.73 1533.35 Q1239.56 1536.89 1243.17 1536.89 Q1246.81 1536.89 1248.61 1533.35 Q1250.44 1529.78 1250.44 1522.67 Q1250.44 1515.55 1248.61 1512 Q1246.81 1508.44 1243.17 1508.44 M1243.17 1504.73 Q1248.98 1504.73 1252.04 1509.34 Q1255.12 1513.92 1255.12 1522.67 Q1255.12 1531.4 1252.04 1536.01 Q1248.98 1540.59 1243.17 1540.59 Q1237.36 1540.59 1234.28 1536.01 Q1231.23 1531.4 1231.23 1522.67 Q1231.23 1513.92 1234.28 1509.34 Q1237.36 1504.73 1243.17 1504.73 Z\" fill=\"#000000\" fill-rule=\"evenodd\" fill-opacity=\"1\" /><path clip-path=\"url(#clip300)\" d=\"M 0 0 M1756.94 1535.98 L1764.58 1535.98 L1764.58 1509.62 L1756.27 1511.29 L1756.27 1507.03 L1764.54 1505.36 L1769.21 1505.36 L1769.21 1535.98 L1776.85 1535.98 L1776.85 1539.92 L1756.94 1539.92 L1756.94 1535.98 Z\" fill=\"#000000\" fill-rule=\"evenodd\" fill-opacity=\"1\" /><path clip-path=\"url(#clip300)\" d=\"M 0 0 M2284.6 1535.98 L2300.92 1535.98 L2300.92 1539.92 L2278.98 1539.92 L2278.98 1535.98 Q2281.64 1533.23 2286.22 1528.6 Q2290.83 1523.95 2292.01 1522.61 Q2294.25 1520.08 2295.13 1518.35 Q2296.04 1516.59 2296.04 1514.9 Q2296.04 1512.14 2294.09 1510.41 Q2292.17 1508.67 2289.07 1508.67 Q2286.87 1508.67 2284.42 1509.43 Q2281.99 1510.2 2279.21 1511.75 L2279.21 1507.03 Q2282.03 1505.89 2284.49 1505.31 Q2286.94 1504.73 2288.98 1504.73 Q2294.35 1504.73 2297.54 1507.42 Q2300.74 1510.11 2300.74 1514.6 Q2300.74 1516.73 2299.93 1518.65 Q2299.14 1520.54 2297.03 1523.14 Q2296.45 1523.81 2293.35 1527.03 Q2290.25 1530.22 2284.6 1535.98 Z\" fill=\"#000000\" fill-rule=\"evenodd\" fill-opacity=\"1\" /><path clip-path=\"url(#clip300)\" d=\"M 0 0 M102.46 1250.4 Q105.816 1251.12 107.691 1253.39 Q109.589 1255.65 109.589 1258.99 Q109.589 1264.1 106.071 1266.9 Q102.552 1269.7 96.0707 1269.7 Q93.8947 1269.7 91.5799 1269.26 Q89.2883 1268.85 86.8346 1267.99 L86.8346 1263.48 Q88.779 1264.61 91.0938 1265.19 Q93.4086 1265.77 95.9318 1265.77 Q100.33 1265.77 102.622 1264.03 Q104.936 1262.3 104.936 1258.99 Q104.936 1255.93 102.784 1254.22 Q100.654 1252.48 96.8345 1252.48 L92.8068 1252.48 L92.8068 1248.64 L97.0197 1248.64 Q100.469 1248.64 102.297 1247.27 Q104.126 1245.89 104.126 1243.29 Q104.126 1240.63 102.228 1239.22 Q100.353 1237.78 96.8345 1237.78 Q94.9133 1237.78 92.7142 1238.2 Q90.5151 1238.62 87.8763 1239.5 L87.8763 1235.33 Q90.5383 1234.59 92.8531 1234.22 Q95.191 1233.85 97.2512 1233.85 Q102.575 1233.85 105.677 1236.28 Q108.779 1238.69 108.779 1242.81 Q108.779 1245.68 107.135 1247.67 Q105.492 1249.64 102.46 1250.4 Z\" fill=\"#000000\" fill-rule=\"evenodd\" fill-opacity=\"1\" /><path clip-path=\"url(#clip300)\" d=\"M 0 0 M98.0614 1000.51 Q94.9133 1000.51 93.0614 1002.66 Q91.2327 1004.81 91.2327 1008.56 Q91.2327 1012.29 93.0614 1014.47 Q94.9133 1016.62 98.0614 1016.62 Q101.21 1016.62 103.038 1014.47 Q104.89 1012.29 104.89 1008.56 Q104.89 1004.81 103.038 1002.66 Q101.21 1000.51 98.0614 1000.51 M107.344 985.857 L107.344 990.116 Q105.584 989.282 103.779 988.843 Q101.997 988.403 100.237 988.403 Q95.6077 988.403 93.154 991.528 Q90.7235 994.653 90.3762 1000.97 Q91.742 998.958 93.8021 997.894 Q95.8623 996.806 98.3392 996.806 Q103.547 996.806 106.557 999.977 Q109.589 1003.12 109.589 1008.56 Q109.589 1013.89 106.441 1017.11 Q103.293 1020.32 98.0614 1020.32 Q92.066 1020.32 88.8948 1015.74 Q85.7235 1011.13 85.7235 1002.41 Q85.7235 994.213 89.6124 989.352 Q93.5012 984.468 100.052 984.468 Q101.811 984.468 103.594 984.815 Q105.399 985.162 107.344 985.857 Z\" fill=\"#000000\" fill-rule=\"evenodd\" fill-opacity=\"1\" /><path clip-path=\"url(#clip300)\" d=\"M 0 0 M87.9688 769.554 L87.9688 765.295 Q89.7281 766.128 91.5336 766.568 Q93.3392 767.008 95.0753 767.008 Q99.7049 767.008 102.135 763.906 Q104.589 760.781 104.936 754.439 Q103.594 756.429 101.534 757.494 Q99.4734 758.559 96.9734 758.559 Q91.7883 758.559 88.7559 755.434 Q85.7466 752.286 85.7466 746.846 Q85.7466 741.522 88.8948 738.304 Q92.0429 735.087 97.2743 735.087 Q103.27 735.087 106.418 739.693 Q109.589 744.277 109.589 753.027 Q109.589 761.198 105.7 766.082 Q101.835 770.943 95.2836 770.943 Q93.5244 770.943 91.7188 770.596 Q89.9133 770.249 87.9688 769.554 M97.2743 754.902 Q100.422 754.902 102.251 752.749 Q104.103 750.596 104.103 746.846 Q104.103 743.119 102.251 740.966 Q100.422 738.791 97.2743 738.791 Q94.1262 738.791 92.2744 740.966 Q90.4457 743.119 90.4457 746.846 Q90.4457 750.596 92.2744 752.749 Q94.1262 754.902 97.2743 754.902 Z\" fill=\"#000000\" fill-rule=\"evenodd\" fill-opacity=\"1\" /><path clip-path=\"url(#clip300)\" d=\"M 0 0 M64.2653 516.956 L71.9041 516.956 L71.9041 490.59 L63.594 492.257 L63.594 487.998 L71.8578 486.331 L76.5337 486.331 L76.5337 516.956 L84.1726 516.956 L84.1726 520.891 L64.2653 520.891 L64.2653 516.956 Z\" fill=\"#000000\" fill-rule=\"evenodd\" fill-opacity=\"1\" /><path clip-path=\"url(#clip300)\" d=\"M 0 0 M93.2697 516.956 L109.589 516.956 L109.589 520.891 L87.6448 520.891 L87.6448 516.956 Q90.3068 514.201 94.8901 509.572 Q99.4966 504.919 100.677 503.576 Q102.922 501.053 103.802 499.317 Q104.705 497.558 104.705 495.868 Q104.705 493.113 102.76 491.377 Q100.839 489.641 97.7373 489.641 Q95.5382 489.641 93.0846 490.405 Q90.654 491.169 87.8763 492.72 L87.8763 487.998 Q90.7003 486.863 93.154 486.285 Q95.6077 485.706 97.6447 485.706 Q103.015 485.706 106.209 488.391 Q109.404 491.076 109.404 495.567 Q109.404 497.697 108.594 499.618 Q107.807 501.516 105.7 504.109 Q105.122 504.78 102.02 507.998 Q98.9179 511.192 93.2697 516.956 Z\" fill=\"#000000\" fill-rule=\"evenodd\" fill-opacity=\"1\" /><path clip-path=\"url(#clip300)\" d=\"M 0 0 M63.6634 267.575 L71.3023 267.575 L71.3023 241.209 L62.9921 242.876 L62.9921 238.617 L71.256 236.95 L75.9319 236.95 L75.9319 267.575 L83.5707 267.575 L83.5707 271.51 L63.6634 271.51 L63.6634 267.575 Z\" fill=\"#000000\" fill-rule=\"evenodd\" fill-opacity=\"1\" /><path clip-path=\"url(#clip300)\" d=\"M 0 0 M88.6864 236.95 L107.043 236.95 L107.043 240.885 L92.9688 240.885 L92.9688 249.358 Q93.9873 249.01 95.0058 248.848 Q96.0244 248.663 97.0429 248.663 Q102.83 248.663 106.209 251.834 Q109.589 255.006 109.589 260.422 Q109.589 266.001 106.117 269.103 Q102.645 272.181 96.3253 272.181 Q94.1494 272.181 91.8809 271.811 Q89.6355 271.441 87.2281 270.7 L87.2281 266.001 Q89.3114 267.135 91.5336 267.691 Q93.7559 268.246 96.2327 268.246 Q100.237 268.246 102.575 266.14 Q104.913 264.033 104.913 260.422 Q104.913 256.811 102.575 254.705 Q100.237 252.598 96.2327 252.598 Q94.3577 252.598 92.4827 253.015 Q90.6309 253.432 88.6864 254.311 L88.6864 236.95 Z\" fill=\"#000000\" fill-rule=\"evenodd\" fill-opacity=\"1\" /><polyline clip-path=\"url(#clip302)\" style=\"stroke:#008000; stroke-width:4; stroke-opacity:1; fill:none\" points=\"\n",
       "  196.396,752.992 206.916,769.6 217.436,786.007 227.957,802.212 238.477,818.215 248.998,834.018 259.518,849.618 270.038,865.017 280.559,880.215 291.079,895.211 \n",
       "  301.599,910.005 312.12,924.598 322.64,938.99 333.161,953.18 343.681,967.168 354.201,980.955 364.722,994.541 375.242,1007.92 385.762,1021.11 396.283,1034.09 \n",
       "  406.803,1046.87 417.323,1059.45 427.844,1071.82 438.364,1084 448.885,1095.97 459.405,1107.74 469.925,1119.31 480.446,1130.68 490.966,1141.85 501.486,1152.81 \n",
       "  512.007,1163.58 522.527,1174.14 533.048,1184.5 543.568,1194.66 554.088,1204.62 564.609,1214.38 575.129,1223.93 585.649,1233.29 596.17,1242.44 606.69,1251.39 \n",
       "  617.21,1260.14 627.731,1268.68 638.251,1277.03 648.772,1285.18 659.292,1293.12 669.812,1300.86 680.333,1308.4 690.853,1315.74 701.373,1322.88 711.894,1329.81 \n",
       "  722.414,1336.55 732.935,1343.08 743.455,1349.41 753.975,1355.54 764.496,1361.47 775.016,1367.19 785.536,1372.72 796.057,1378.04 806.577,1383.16 817.098,1388.08 \n",
       "  827.618,1392.8 838.138,1397.32 848.659,1401.63 859.179,1405.75 869.699,1409.66 880.22,1413.37 890.74,1416.88 901.26,1420.19 911.781,1423.3 922.301,1426.2 \n",
       "  932.822,1428.91 943.342,1431.41 953.862,1433.71 964.383,1435.81 974.903,1437.71 985.423,1439.4 995.944,1440.9 1006.46,1442.19 1016.98,1443.28 1027.5,1444.17 \n",
       "  1038.03,1444.86 1048.55,1445.35 1059.07,1445.63 1069.59,1445.72 1080.11,1445.6 1090.63,1445.28 1101.15,1444.76 1111.67,1444.04 1122.19,1443.11 1132.71,1441.99 \n",
       "  1143.23,1440.66 1153.75,1439.13 1164.27,1437.4 1174.79,1435.47 1185.31,1433.34 1195.83,1431.01 1206.35,1428.47 1216.87,1425.73 1227.39,1422.79 1237.91,1419.65 \n",
       "  1248.43,1416.31 1258.95,1412.77 1269.47,1409.02 1279.99,1405.08 1290.51,1400.93 1301.03,1396.58 1311.55,1392.03 1322.08,1387.28 1332.6,1382.32 1343.12,1377.17 \n",
       "  1353.64,1371.81 1364.16,1366.25 1374.68,1360.49 1385.2,1354.53 1395.72,1348.37 1406.24,1342 1416.76,1335.44 1427.28,1328.67 1437.8,1321.7 1448.32,1314.53 \n",
       "  1458.84,1307.16 1469.36,1299.58 1479.88,1291.81 1490.4,1283.83 1500.92,1275.65 1511.44,1267.27 1521.96,1258.69 1532.48,1249.91 1543,1240.93 1553.52,1231.74 \n",
       "  1564.04,1222.35 1574.56,1212.76 1585.08,1202.97 1595.6,1192.98 1606.13,1182.79 1616.65,1172.39 1627.17,1161.8 1637.69,1151 1648.21,1140 1658.73,1128.8 \n",
       "  1669.25,1117.4 1679.77,1105.79 1690.29,1093.99 1700.81,1081.98 1711.33,1069.77 1721.85,1057.36 1732.37,1044.75 1742.89,1031.94 1753.41,1018.92 1763.93,1005.71 \n",
       "  1774.45,992.291 1784.97,978.672 1795.49,964.851 1806.01,950.829 1816.53,936.605 1827.05,922.18 1837.57,907.554 1848.09,892.726 1858.61,877.696 1869.13,862.465 \n",
       "  1879.65,847.032 1890.18,831.398 1900.7,815.562 1911.22,799.525 1921.74,783.286 1932.26,766.846 1942.78,750.204 1953.3,733.361 1963.82,716.316 1974.34,699.07 \n",
       "  1984.86,681.622 1995.38,663.973 2005.9,646.122 2016.42,628.069 2026.94,609.816 2037.46,591.36 2047.98,572.703 2058.5,553.845 2069.02,534.785 2079.54,515.523 \n",
       "  2090.06,496.06 2100.58,476.396 2111.1,456.53 2121.62,436.463 2132.14,416.193 2142.66,395.723 2153.18,375.051 2163.7,354.177 2174.23,333.102 2184.75,311.826 \n",
       "  2195.27,290.347 2205.79,268.668 2216.31,246.787 2226.83,224.704 2237.35,202.42 2247.87,179.934 2258.39,157.247 2268.91,134.358 2279.43,111.268 2289.95,87.9763 \n",
       "  \n",
       "  \"/>\n",
       "</svg>\n"
      ]
     },
     "execution_count": 31,
     "metadata": {},
     "output_type": "execute_result"
    }
   ],
   "source": [
    "plot(poly1)"
   ]
  },
  {
   "cell_type": "code",
   "execution_count": 27,
   "metadata": {},
   "outputs": [],
   "source": [
    "savefig(\"../images/ch11/plot55.png\")"
   ]
  },
  {
   "cell_type": "markdown",
   "metadata": {},
   "source": [
    "### Develop a Root datatype"
   ]
  },
  {
   "cell_type": "code",
   "execution_count": 13,
   "metadata": {},
   "outputs": [
    {
     "name": "stderr",
     "output_type": "stream",
     "text": [
      "┌ Info: Precompiling ForwardDiff [f6369f11-7733-5829-9624-2563aa707210]\n",
      "└ @ Base loading.jl:1278\n"
     ]
    }
   ],
   "source": [
    "using ForwardDiff"
   ]
  },
  {
   "cell_type": "code",
   "execution_count": 14,
   "metadata": {},
   "outputs": [],
   "source": [
    "struct Root\n",
    "  root::Float64\n",
    "  x_eps::Float64\n",
    "  f_eps::Float64\n",
    "  num_steps::Int\n",
    "  converged::Bool\n",
    "  max_steps::Int\n",
    "end"
   ]
  },
  {
   "cell_type": "code",
   "execution_count": 15,
   "metadata": {},
   "outputs": [],
   "source": [
    "function Base.show(io::IO,r::Root)\n",
    "  if(r.converged)\n",
    "    str = string(\"The root is approximately x̂ = \",r.root,\" \\n\")\n",
    "    str = string(str,\"An estimate for the error is \",r.x_eps,\"\\n\")\n",
    "    str = string(str,\"with f(x̂) = \",r.f_eps,\"\\n\")\n",
    "    str = string(str,\"which took \",r.num_steps,\" steps\")\n",
    "  else\n",
    "    str = string(\"The root was not found within \",r.max_steps,\" steps.\\n\");\n",
    "    str = string(str,\"Currently, the root is approximately x̂ = \",r.root,\" \\n\")\n",
    "    str = string(str,\"An estimate for the error is \",r.x_eps,\"\\n\")\n",
    "    str = string(str,\"with f(x̂) = \",r.f_eps,\"\\n\")\n",
    "  end\n",
    "  print(io,str)\n",
    "end"
   ]
  },
  {
   "cell_type": "code",
   "execution_count": 16,
   "metadata": {},
   "outputs": [
    {
     "data": {
      "text/plain": [
       "newton (generic function with 1 method)"
      ]
     },
     "execution_count": 16,
     "metadata": {},
     "output_type": "execute_result"
    }
   ],
   "source": [
    "function newton(f::Function,  x0::Real)\n",
    "  local n=0\n",
    "  local dx=f(x0)/ForwardDiff.derivative(f,x0)\n",
    "  while abs(dx)>1e-6\n",
    "    x0 = x0-dx\n",
    "    dx = f(x0)/ForwardDiff.derivative(f,x0)\n",
    "    n += 1 \n",
    "    if n==10  # if too many steps are taken, break out of the while loop\n",
    "      return Root(x0,dx,f(x0),n,false,10)\n",
    "    end\n",
    "  end\n",
    "  Root(x0,dx,f(x0),n,true,10)\n",
    "end"
   ]
  },
  {
   "cell_type": "code",
   "execution_count": 17,
   "metadata": {},
   "outputs": [
    {
     "data": {
      "text/plain": [
       "The root is approximately x̂ = 1.4142135623746899 \n",
       "An estimate for the error is 1.5947429102833119e-12\n",
       "with f(x̂) = 4.510614104447086e-12\n",
       "which took 4 steps"
      ]
     },
     "execution_count": 17,
     "metadata": {},
     "output_type": "execute_result"
    }
   ],
   "source": [
    "r = newton(x->x^2-2,1)"
   ]
  },
  {
   "cell_type": "code",
   "execution_count": 22,
   "metadata": {},
   "outputs": [
    {
     "data": {
      "text/plain": [
       "The root was not found within 10 steps.\n",
       "Currently, the root is approximately x̂ = 2.4008803928468465 \n",
       "An estimate for the error is 1.4086971347905715\n",
       "with f(x̂) = 6.764226660756428\n"
      ]
     },
     "execution_count": 22,
     "metadata": {},
     "output_type": "execute_result"
    }
   ],
   "source": [
    "r = newton(x->x^2+1,2)"
   ]
  },
  {
   "cell_type": "code",
   "execution_count": null,
   "metadata": {},
   "outputs": [],
   "source": []
  }
 ],
 "metadata": {
  "kernelspec": {
   "display_name": "Julia 1.5.0",
   "language": "julia",
   "name": "julia-1.5"
  },
  "language_info": {
   "file_extension": ".jl",
   "mimetype": "application/julia",
   "name": "julia",
   "version": "1.5.0"
  }
 },
 "nbformat": 4,
 "nbformat_minor": 4
}
