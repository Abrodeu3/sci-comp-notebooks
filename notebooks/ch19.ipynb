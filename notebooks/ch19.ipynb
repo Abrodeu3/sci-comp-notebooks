{
 "cells": [
  {
   "cell_type": "markdown",
   "metadata": {},
   "source": [
    "## Chapter 19: Data Analysis"
   ]
  },
  {
   "cell_type": "code",
   "execution_count": 22,
   "metadata": {},
   "outputs": [],
   "source": [
    "using RDatasets, StatsPlots, Query"
   ]
  },
  {
   "cell_type": "code",
   "execution_count": 2,
   "metadata": {},
   "outputs": [
    {
     "data": {
      "text/html": [
       "<table class=\"data-frame\"><thead><tr><th></th><th>Package</th><th>Title</th></tr><tr><th></th><th>String</th><th>String</th></tr></thead><tbody><p>33 rows × 2 columns</p><tr><th>1</th><td>COUNT</td><td>Functions, data and code for count data.</td></tr><tr><th>2</th><td>Ecdat</td><td>Data sets for econometrics</td></tr><tr><th>3</th><td>HSAUR</td><td>A Handbook of Statistical Analyses Using R (1st Edition)</td></tr><tr><th>4</th><td>HistData</td><td>Data sets from the history of statistics and data visualization</td></tr><tr><th>5</th><td>ISLR</td><td>Data for An Introduction to Statistical Learning with Applications in R</td></tr><tr><th>6</th><td>KMsurv</td><td>Data sets from Klein and Moeschberger (1997), Survival Analysis</td></tr><tr><th>7</th><td>MASS</td><td>Support Functions and Datasets for Venables and Ripley's MASS</td></tr><tr><th>8</th><td>SASmixed</td><td>Data sets from \\\\</td></tr><tr><th>9</th><td>Zelig</td><td>Everyone's Statistical Software</td></tr><tr><th>10</th><td>adehabitatLT</td><td>Analysis of Animal Movements</td></tr><tr><th>11</th><td>boot</td><td>Bootstrap Functions (Originally by Angelo Canty for S)</td></tr><tr><th>12</th><td>car</td><td>Companion to Applied Regression</td></tr><tr><th>13</th><td>cluster</td><td>Cluster Analysis Extended Rousseeuw et al.</td></tr><tr><th>14</th><td>datasets</td><td>The R Datasets Package</td></tr><tr><th>15</th><td>gap</td><td>Genetic analysis package</td></tr><tr><th>16</th><td>ggplot2</td><td>An Implementation of the Grammar of Graphics</td></tr><tr><th>17</th><td>lattice</td><td>Lattice Graphics</td></tr><tr><th>18</th><td>lme4</td><td>Linear mixed-effects models using Eigen and S4</td></tr><tr><th>19</th><td>mgcv</td><td>Mixed GAM Computation Vehicle with GCV/AIC/REML smoothness estimation</td></tr><tr><th>20</th><td>mlmRev</td><td>Examples from Multilevel Modelling Software Review</td></tr><tr><th>21</th><td>nlreg</td><td>Higher Order Inference for Nonlinear Heteroscedastic Models</td></tr><tr><th>22</th><td>plm</td><td>Linear Models for Panel Data</td></tr><tr><th>23</th><td>plyr</td><td>Tools for splitting, applying and combining data</td></tr><tr><th>24</th><td>pscl</td><td>Political Science Computational Laboratory, Stanford University</td></tr><tr><th>25</th><td>psych</td><td>Procedures for Psychological, Psychometric, and Personality Research</td></tr><tr><th>26</th><td>quantreg</td><td>Quantile Regression</td></tr><tr><th>27</th><td>reshape2</td><td>Flexibly Reshape Data: A Reboot of the Reshape Package.</td></tr><tr><th>28</th><td>robustbase</td><td>Basic Robust Statistics</td></tr><tr><th>29</th><td>rpart</td><td>Recursive Partitioning and Regression Trees</td></tr><tr><th>30</th><td>sandwich</td><td>Robust Covariance Matrix Estimators</td></tr><tr><th>&vellip;</th><td>&vellip;</td><td>&vellip;</td></tr></tbody></table>"
      ],
      "text/latex": [
       "\\begin{tabular}{r|cc}\n",
       "\t& Package & Title\\\\\n",
       "\t\\hline\n",
       "\t& String & String\\\\\n",
       "\t\\hline\n",
       "\t1 & COUNT & Functions, data and code for count data. \\\\\n",
       "\t2 & Ecdat & Data sets for econometrics \\\\\n",
       "\t3 & HSAUR & A Handbook of Statistical Analyses Using R (1st Edition) \\\\\n",
       "\t4 & HistData & Data sets from the history of statistics and data visualization \\\\\n",
       "\t5 & ISLR & Data for An Introduction to Statistical Learning with Applications in R \\\\\n",
       "\t6 & KMsurv & Data sets from Klein and Moeschberger (1997), Survival Analysis \\\\\n",
       "\t7 & MASS & Support Functions and Datasets for Venables and Ripley's MASS \\\\\n",
       "\t8 & SASmixed & Data sets from \\textbackslash{}\\textbackslash{} \\\\\n",
       "\t9 & Zelig & Everyone's Statistical Software \\\\\n",
       "\t10 & adehabitatLT & Analysis of Animal Movements \\\\\n",
       "\t11 & boot & Bootstrap Functions (Originally by Angelo Canty for S) \\\\\n",
       "\t12 & car & Companion to Applied Regression \\\\\n",
       "\t13 & cluster & Cluster Analysis Extended Rousseeuw et al. \\\\\n",
       "\t14 & datasets & The R Datasets Package \\\\\n",
       "\t15 & gap & Genetic analysis package \\\\\n",
       "\t16 & ggplot2 & An Implementation of the Grammar of Graphics \\\\\n",
       "\t17 & lattice & Lattice Graphics \\\\\n",
       "\t18 & lme4 & Linear mixed-effects models using Eigen and S4 \\\\\n",
       "\t19 & mgcv & Mixed GAM Computation Vehicle with GCV/AIC/REML smoothness estimation \\\\\n",
       "\t20 & mlmRev & Examples from Multilevel Modelling Software Review \\\\\n",
       "\t21 & nlreg & Higher Order Inference for Nonlinear Heteroscedastic Models \\\\\n",
       "\t22 & plm & Linear Models for Panel Data \\\\\n",
       "\t23 & plyr & Tools for splitting, applying and combining data \\\\\n",
       "\t24 & pscl & Political Science Computational Laboratory, Stanford University \\\\\n",
       "\t25 & psych & Procedures for Psychological, Psychometric, and Personality Research \\\\\n",
       "\t26 & quantreg & Quantile Regression \\\\\n",
       "\t27 & reshape2 & Flexibly Reshape Data: A Reboot of the Reshape Package. \\\\\n",
       "\t28 & robustbase & Basic Robust Statistics \\\\\n",
       "\t29 & rpart & Recursive Partitioning and Regression Trees \\\\\n",
       "\t30 & sandwich & Robust Covariance Matrix Estimators \\\\\n",
       "\t$\\dots$ & $\\dots$ & $\\dots$ \\\\\n",
       "\\end{tabular}\n"
      ],
      "text/plain": [
       "33×2 DataFrame. Omitted printing of 1 columns\n",
       "│ Row │ Package      │\n",
       "│     │ \u001b[90mString\u001b[39m       │\n",
       "├─────┼──────────────┤\n",
       "│ 1   │ COUNT        │\n",
       "│ 2   │ Ecdat        │\n",
       "│ 3   │ HSAUR        │\n",
       "│ 4   │ HistData     │\n",
       "│ 5   │ ISLR         │\n",
       "│ 6   │ KMsurv       │\n",
       "│ 7   │ MASS         │\n",
       "│ 8   │ SASmixed     │\n",
       "│ 9   │ Zelig        │\n",
       "│ 10  │ adehabitatLT │\n",
       "⋮\n",
       "│ 23  │ plyr         │\n",
       "│ 24  │ pscl         │\n",
       "│ 25  │ psych        │\n",
       "│ 26  │ quantreg     │\n",
       "│ 27  │ reshape2     │\n",
       "│ 28  │ robustbase   │\n",
       "│ 29  │ rpart        │\n",
       "│ 30  │ sandwich     │\n",
       "│ 31  │ sem          │\n",
       "│ 32  │ survival     │\n",
       "│ 33  │ vcd          │"
      ]
     },
     "execution_count": 2,
     "metadata": {},
     "output_type": "execute_result"
    }
   ],
   "source": [
    "RDatasets.packages()"
   ]
  },
  {
   "cell_type": "code",
   "execution_count": 3,
   "metadata": {},
   "outputs": [
    {
     "data": {
      "text/html": [
       "<table class=\"data-frame\"><thead><tr><th></th><th>Package</th><th>Dataset</th><th>Title</th></tr><tr><th></th><th>String</th><th>String</th><th>String</th></tr></thead><tbody><p>50 rows × 5 columns (omitted printing of 2 columns)</p><tr><th>1</th><td>datasets</td><td>BOD</td><td>Biochemical Oxygen Demand</td></tr><tr><th>2</th><td>datasets</td><td>CO2</td><td>Carbon Dioxide Uptake in Grass Plants</td></tr><tr><th>3</th><td>datasets</td><td>Formaldehyde</td><td>Determination of Formaldehyde</td></tr><tr><th>4</th><td>datasets</td><td>HairEyeColor</td><td>Hair and Eye Color of Statistics Students</td></tr><tr><th>5</th><td>datasets</td><td>InsectSprays</td><td>Effectiveness of Insect Sprays</td></tr><tr><th>6</th><td>datasets</td><td>LifeCycleSavings</td><td>Intercountry Life-Cycle Savings Data</td></tr><tr><th>7</th><td>datasets</td><td>Loblolly</td><td>Growth of Loblolly pine trees</td></tr><tr><th>8</th><td>datasets</td><td>OrchardSprays</td><td>Potency of Orchard Sprays</td></tr><tr><th>9</th><td>datasets</td><td>PlantGrowth</td><td>Results from an Experiment on Plant Growth</td></tr><tr><th>10</th><td>datasets</td><td>Puromycin</td><td>Reaction Velocity of an Enzymatic Reaction</td></tr><tr><th>11</th><td>datasets</td><td>Theoph</td><td>Pharmacokinetics of Theophylline</td></tr><tr><th>12</th><td>datasets</td><td>Titanic</td><td>Survival of passengers on the Titanic</td></tr><tr><th>13</th><td>datasets</td><td>ToothGrowth</td><td>The Effect of Vitamin C on Tooth Growth in Guinea Pigs</td></tr><tr><th>14</th><td>datasets</td><td>UCBAdmissions</td><td>Student Admissions at UC Berkeley</td></tr><tr><th>15</th><td>datasets</td><td>USArrests</td><td>Violent Crime Rates by US State</td></tr><tr><th>16</th><td>datasets</td><td>USJudgeRatings</td><td>Lawyers' Ratings of State Judges in the US Superior Court</td></tr><tr><th>17</th><td>datasets</td><td>USPersonalExpenditure</td><td>Personal Expenditure Data</td></tr><tr><th>18</th><td>datasets</td><td>VADeaths</td><td>Death Rates in Virginia (1940)</td></tr><tr><th>19</th><td>datasets</td><td>WorldPhones</td><td>The World's Telephones</td></tr><tr><th>20</th><td>datasets</td><td>airquality</td><td>New York Air Quality Measurements</td></tr><tr><th>21</th><td>datasets</td><td>anscombe</td><td>Anscombe's Quartet of 'Identical' Simple Linear Regressions</td></tr><tr><th>22</th><td>datasets</td><td>attenu</td><td>The Joyner-Boore Attenuation Data</td></tr><tr><th>23</th><td>datasets</td><td>attitude</td><td>The Chatterjee-Price Attitude Data</td></tr><tr><th>24</th><td>datasets</td><td>cars</td><td>Speed and Stopping Distances of Cars</td></tr><tr><th>25</th><td>datasets</td><td>chickwts</td><td>Chicken Weights by Feed Type</td></tr><tr><th>26</th><td>datasets</td><td>crimtab</td><td>Student's 3000 Criminals Data</td></tr><tr><th>27</th><td>datasets</td><td>esoph</td><td>Smoking, Alcohol and (O)esophageal Cancer</td></tr><tr><th>28</th><td>datasets</td><td>euro</td><td>Conversion Rates of Euro Currencies</td></tr><tr><th>29</th><td>datasets</td><td>faithful</td><td>Old Faithful Geyser Data</td></tr><tr><th>30</th><td>datasets</td><td>freeny</td><td>Freeny's Revenue Data</td></tr><tr><th>&vellip;</th><td>&vellip;</td><td>&vellip;</td><td>&vellip;</td></tr></tbody></table>"
      ],
      "text/latex": [
       "\\begin{tabular}{r|cccc}\n",
       "\t& Package & Dataset & Title & \\\\\n",
       "\t\\hline\n",
       "\t& String & String & String & \\\\\n",
       "\t\\hline\n",
       "\t1 & datasets & BOD & Biochemical Oxygen Demand & $\\dots$ \\\\\n",
       "\t2 & datasets & CO2 & Carbon Dioxide Uptake in Grass Plants & $\\dots$ \\\\\n",
       "\t3 & datasets & Formaldehyde & Determination of Formaldehyde & $\\dots$ \\\\\n",
       "\t4 & datasets & HairEyeColor & Hair and Eye Color of Statistics Students & $\\dots$ \\\\\n",
       "\t5 & datasets & InsectSprays & Effectiveness of Insect Sprays & $\\dots$ \\\\\n",
       "\t6 & datasets & LifeCycleSavings & Intercountry Life-Cycle Savings Data & $\\dots$ \\\\\n",
       "\t7 & datasets & Loblolly & Growth of Loblolly pine trees & $\\dots$ \\\\\n",
       "\t8 & datasets & OrchardSprays & Potency of Orchard Sprays & $\\dots$ \\\\\n",
       "\t9 & datasets & PlantGrowth & Results from an Experiment on Plant Growth & $\\dots$ \\\\\n",
       "\t10 & datasets & Puromycin & Reaction Velocity of an Enzymatic Reaction & $\\dots$ \\\\\n",
       "\t11 & datasets & Theoph & Pharmacokinetics of Theophylline & $\\dots$ \\\\\n",
       "\t12 & datasets & Titanic & Survival of passengers on the Titanic & $\\dots$ \\\\\n",
       "\t13 & datasets & ToothGrowth & The Effect of Vitamin C on Tooth Growth in Guinea Pigs & $\\dots$ \\\\\n",
       "\t14 & datasets & UCBAdmissions & Student Admissions at UC Berkeley & $\\dots$ \\\\\n",
       "\t15 & datasets & USArrests & Violent Crime Rates by US State & $\\dots$ \\\\\n",
       "\t16 & datasets & USJudgeRatings & Lawyers' Ratings of State Judges in the US Superior Court & $\\dots$ \\\\\n",
       "\t17 & datasets & USPersonalExpenditure & Personal Expenditure Data & $\\dots$ \\\\\n",
       "\t18 & datasets & VADeaths & Death Rates in Virginia (1940) & $\\dots$ \\\\\n",
       "\t19 & datasets & WorldPhones & The World's Telephones & $\\dots$ \\\\\n",
       "\t20 & datasets & airquality & New York Air Quality Measurements & $\\dots$ \\\\\n",
       "\t21 & datasets & anscombe & Anscombe's Quartet of 'Identical' Simple Linear Regressions & $\\dots$ \\\\\n",
       "\t22 & datasets & attenu & The Joyner-Boore Attenuation Data & $\\dots$ \\\\\n",
       "\t23 & datasets & attitude & The Chatterjee-Price Attitude Data & $\\dots$ \\\\\n",
       "\t24 & datasets & cars & Speed and Stopping Distances of Cars & $\\dots$ \\\\\n",
       "\t25 & datasets & chickwts & Chicken Weights by Feed Type & $\\dots$ \\\\\n",
       "\t26 & datasets & crimtab & Student's 3000 Criminals Data & $\\dots$ \\\\\n",
       "\t27 & datasets & esoph & Smoking, Alcohol and (O)esophageal Cancer & $\\dots$ \\\\\n",
       "\t28 & datasets & euro & Conversion Rates of Euro Currencies & $\\dots$ \\\\\n",
       "\t29 & datasets & faithful & Old Faithful Geyser Data & $\\dots$ \\\\\n",
       "\t30 & datasets & freeny & Freeny's Revenue Data & $\\dots$ \\\\\n",
       "\t$\\dots$ & $\\dots$ & $\\dots$ & $\\dots$ &  \\\\\n",
       "\\end{tabular}\n"
      ],
      "text/plain": [
       "50×5 DataFrame. Omitted printing of 3 columns\n",
       "│ Row │ Package  │ Dataset          │\n",
       "│     │ \u001b[90mString\u001b[39m   │ \u001b[90mString\u001b[39m           │\n",
       "├─────┼──────────┼──────────────────┤\n",
       "│ 1   │ datasets │ BOD              │\n",
       "│ 2   │ datasets │ CO2              │\n",
       "│ 3   │ datasets │ Formaldehyde     │\n",
       "│ 4   │ datasets │ HairEyeColor     │\n",
       "│ 5   │ datasets │ InsectSprays     │\n",
       "│ 6   │ datasets │ LifeCycleSavings │\n",
       "│ 7   │ datasets │ Loblolly         │\n",
       "│ 8   │ datasets │ OrchardSprays    │\n",
       "│ 9   │ datasets │ PlantGrowth      │\n",
       "│ 10  │ datasets │ Puromycin        │\n",
       "⋮\n",
       "│ 40  │ datasets │ quakes           │\n",
       "│ 41  │ datasets │ randu            │\n",
       "│ 42  │ datasets │ rivers           │\n",
       "│ 43  │ datasets │ rock             │\n",
       "│ 44  │ datasets │ sleep            │\n",
       "│ 45  │ datasets │ stackloss        │\n",
       "│ 46  │ datasets │ swiss            │\n",
       "│ 47  │ datasets │ trees            │\n",
       "│ 48  │ datasets │ volcano          │\n",
       "│ 49  │ datasets │ warpbreaks       │\n",
       "│ 50  │ datasets │ women            │"
      ]
     },
     "execution_count": 3,
     "metadata": {},
     "output_type": "execute_result"
    }
   ],
   "source": [
    "RDatasets.datasets(\"datasets\")"
   ]
  },
  {
   "cell_type": "code",
   "execution_count": 4,
   "metadata": {},
   "outputs": [
    {
     "data": {
      "text/html": [
       "<table class=\"data-frame\"><thead><tr><th></th><th>SepalLength</th><th>SepalWidth</th><th>PetalLength</th><th>PetalWidth</th><th>Species</th></tr><tr><th></th><th>Float64</th><th>Float64</th><th>Float64</th><th>Float64</th><th>Cat…</th></tr></thead><tbody><p>150 rows × 5 columns</p><tr><th>1</th><td>5.1</td><td>3.5</td><td>1.4</td><td>0.2</td><td>setosa</td></tr><tr><th>2</th><td>4.9</td><td>3.0</td><td>1.4</td><td>0.2</td><td>setosa</td></tr><tr><th>3</th><td>4.7</td><td>3.2</td><td>1.3</td><td>0.2</td><td>setosa</td></tr><tr><th>4</th><td>4.6</td><td>3.1</td><td>1.5</td><td>0.2</td><td>setosa</td></tr><tr><th>5</th><td>5.0</td><td>3.6</td><td>1.4</td><td>0.2</td><td>setosa</td></tr><tr><th>6</th><td>5.4</td><td>3.9</td><td>1.7</td><td>0.4</td><td>setosa</td></tr><tr><th>7</th><td>4.6</td><td>3.4</td><td>1.4</td><td>0.3</td><td>setosa</td></tr><tr><th>8</th><td>5.0</td><td>3.4</td><td>1.5</td><td>0.2</td><td>setosa</td></tr><tr><th>9</th><td>4.4</td><td>2.9</td><td>1.4</td><td>0.2</td><td>setosa</td></tr><tr><th>10</th><td>4.9</td><td>3.1</td><td>1.5</td><td>0.1</td><td>setosa</td></tr><tr><th>11</th><td>5.4</td><td>3.7</td><td>1.5</td><td>0.2</td><td>setosa</td></tr><tr><th>12</th><td>4.8</td><td>3.4</td><td>1.6</td><td>0.2</td><td>setosa</td></tr><tr><th>13</th><td>4.8</td><td>3.0</td><td>1.4</td><td>0.1</td><td>setosa</td></tr><tr><th>14</th><td>4.3</td><td>3.0</td><td>1.1</td><td>0.1</td><td>setosa</td></tr><tr><th>15</th><td>5.8</td><td>4.0</td><td>1.2</td><td>0.2</td><td>setosa</td></tr><tr><th>16</th><td>5.7</td><td>4.4</td><td>1.5</td><td>0.4</td><td>setosa</td></tr><tr><th>17</th><td>5.4</td><td>3.9</td><td>1.3</td><td>0.4</td><td>setosa</td></tr><tr><th>18</th><td>5.1</td><td>3.5</td><td>1.4</td><td>0.3</td><td>setosa</td></tr><tr><th>19</th><td>5.7</td><td>3.8</td><td>1.7</td><td>0.3</td><td>setosa</td></tr><tr><th>20</th><td>5.1</td><td>3.8</td><td>1.5</td><td>0.3</td><td>setosa</td></tr><tr><th>21</th><td>5.4</td><td>3.4</td><td>1.7</td><td>0.2</td><td>setosa</td></tr><tr><th>22</th><td>5.1</td><td>3.7</td><td>1.5</td><td>0.4</td><td>setosa</td></tr><tr><th>23</th><td>4.6</td><td>3.6</td><td>1.0</td><td>0.2</td><td>setosa</td></tr><tr><th>24</th><td>5.1</td><td>3.3</td><td>1.7</td><td>0.5</td><td>setosa</td></tr><tr><th>25</th><td>4.8</td><td>3.4</td><td>1.9</td><td>0.2</td><td>setosa</td></tr><tr><th>26</th><td>5.0</td><td>3.0</td><td>1.6</td><td>0.2</td><td>setosa</td></tr><tr><th>27</th><td>5.0</td><td>3.4</td><td>1.6</td><td>0.4</td><td>setosa</td></tr><tr><th>28</th><td>5.2</td><td>3.5</td><td>1.5</td><td>0.2</td><td>setosa</td></tr><tr><th>29</th><td>5.2</td><td>3.4</td><td>1.4</td><td>0.2</td><td>setosa</td></tr><tr><th>30</th><td>4.7</td><td>3.2</td><td>1.6</td><td>0.2</td><td>setosa</td></tr><tr><th>&vellip;</th><td>&vellip;</td><td>&vellip;</td><td>&vellip;</td><td>&vellip;</td><td>&vellip;</td></tr></tbody></table>"
      ],
      "text/latex": [
       "\\begin{tabular}{r|ccccc}\n",
       "\t& SepalLength & SepalWidth & PetalLength & PetalWidth & Species\\\\\n",
       "\t\\hline\n",
       "\t& Float64 & Float64 & Float64 & Float64 & Cat…\\\\\n",
       "\t\\hline\n",
       "\t1 & 5.1 & 3.5 & 1.4 & 0.2 & setosa \\\\\n",
       "\t2 & 4.9 & 3.0 & 1.4 & 0.2 & setosa \\\\\n",
       "\t3 & 4.7 & 3.2 & 1.3 & 0.2 & setosa \\\\\n",
       "\t4 & 4.6 & 3.1 & 1.5 & 0.2 & setosa \\\\\n",
       "\t5 & 5.0 & 3.6 & 1.4 & 0.2 & setosa \\\\\n",
       "\t6 & 5.4 & 3.9 & 1.7 & 0.4 & setosa \\\\\n",
       "\t7 & 4.6 & 3.4 & 1.4 & 0.3 & setosa \\\\\n",
       "\t8 & 5.0 & 3.4 & 1.5 & 0.2 & setosa \\\\\n",
       "\t9 & 4.4 & 2.9 & 1.4 & 0.2 & setosa \\\\\n",
       "\t10 & 4.9 & 3.1 & 1.5 & 0.1 & setosa \\\\\n",
       "\t11 & 5.4 & 3.7 & 1.5 & 0.2 & setosa \\\\\n",
       "\t12 & 4.8 & 3.4 & 1.6 & 0.2 & setosa \\\\\n",
       "\t13 & 4.8 & 3.0 & 1.4 & 0.1 & setosa \\\\\n",
       "\t14 & 4.3 & 3.0 & 1.1 & 0.1 & setosa \\\\\n",
       "\t15 & 5.8 & 4.0 & 1.2 & 0.2 & setosa \\\\\n",
       "\t16 & 5.7 & 4.4 & 1.5 & 0.4 & setosa \\\\\n",
       "\t17 & 5.4 & 3.9 & 1.3 & 0.4 & setosa \\\\\n",
       "\t18 & 5.1 & 3.5 & 1.4 & 0.3 & setosa \\\\\n",
       "\t19 & 5.7 & 3.8 & 1.7 & 0.3 & setosa \\\\\n",
       "\t20 & 5.1 & 3.8 & 1.5 & 0.3 & setosa \\\\\n",
       "\t21 & 5.4 & 3.4 & 1.7 & 0.2 & setosa \\\\\n",
       "\t22 & 5.1 & 3.7 & 1.5 & 0.4 & setosa \\\\\n",
       "\t23 & 4.6 & 3.6 & 1.0 & 0.2 & setosa \\\\\n",
       "\t24 & 5.1 & 3.3 & 1.7 & 0.5 & setosa \\\\\n",
       "\t25 & 4.8 & 3.4 & 1.9 & 0.2 & setosa \\\\\n",
       "\t26 & 5.0 & 3.0 & 1.6 & 0.2 & setosa \\\\\n",
       "\t27 & 5.0 & 3.4 & 1.6 & 0.4 & setosa \\\\\n",
       "\t28 & 5.2 & 3.5 & 1.5 & 0.2 & setosa \\\\\n",
       "\t29 & 5.2 & 3.4 & 1.4 & 0.2 & setosa \\\\\n",
       "\t30 & 4.7 & 3.2 & 1.6 & 0.2 & setosa \\\\\n",
       "\t$\\dots$ & $\\dots$ & $\\dots$ & $\\dots$ & $\\dots$ & $\\dots$ \\\\\n",
       "\\end{tabular}\n"
      ],
      "text/plain": [
       "150×5 DataFrame\n",
       "│ Row │ SepalLength │ SepalWidth │ PetalLength │ PetalWidth │ Species   │\n",
       "│     │ \u001b[90mFloat64\u001b[39m     │ \u001b[90mFloat64\u001b[39m    │ \u001b[90mFloat64\u001b[39m     │ \u001b[90mFloat64\u001b[39m    │ \u001b[90mCat…\u001b[39m      │\n",
       "├─────┼─────────────┼────────────┼─────────────┼────────────┼───────────┤\n",
       "│ 1   │ 5.1         │ 3.5        │ 1.4         │ 0.2        │ setosa    │\n",
       "│ 2   │ 4.9         │ 3.0        │ 1.4         │ 0.2        │ setosa    │\n",
       "│ 3   │ 4.7         │ 3.2        │ 1.3         │ 0.2        │ setosa    │\n",
       "│ 4   │ 4.6         │ 3.1        │ 1.5         │ 0.2        │ setosa    │\n",
       "│ 5   │ 5.0         │ 3.6        │ 1.4         │ 0.2        │ setosa    │\n",
       "│ 6   │ 5.4         │ 3.9        │ 1.7         │ 0.4        │ setosa    │\n",
       "│ 7   │ 4.6         │ 3.4        │ 1.4         │ 0.3        │ setosa    │\n",
       "│ 8   │ 5.0         │ 3.4        │ 1.5         │ 0.2        │ setosa    │\n",
       "│ 9   │ 4.4         │ 2.9        │ 1.4         │ 0.2        │ setosa    │\n",
       "│ 10  │ 4.9         │ 3.1        │ 1.5         │ 0.1        │ setosa    │\n",
       "⋮\n",
       "│ 140 │ 6.9         │ 3.1        │ 5.4         │ 2.1        │ virginica │\n",
       "│ 141 │ 6.7         │ 3.1        │ 5.6         │ 2.4        │ virginica │\n",
       "│ 142 │ 6.9         │ 3.1        │ 5.1         │ 2.3        │ virginica │\n",
       "│ 143 │ 5.8         │ 2.7        │ 5.1         │ 1.9        │ virginica │\n",
       "│ 144 │ 6.8         │ 3.2        │ 5.9         │ 2.3        │ virginica │\n",
       "│ 145 │ 6.7         │ 3.3        │ 5.7         │ 2.5        │ virginica │\n",
       "│ 146 │ 6.7         │ 3.0        │ 5.2         │ 2.3        │ virginica │\n",
       "│ 147 │ 6.3         │ 2.5        │ 5.0         │ 1.9        │ virginica │\n",
       "│ 148 │ 6.5         │ 3.0        │ 5.2         │ 2.0        │ virginica │\n",
       "│ 149 │ 6.2         │ 3.4        │ 5.4         │ 2.3        │ virginica │\n",
       "│ 150 │ 5.9         │ 3.0        │ 5.1         │ 1.8        │ virginica │"
      ]
     },
     "execution_count": 4,
     "metadata": {},
     "output_type": "execute_result"
    }
   ],
   "source": [
    "iris=RDatasets.dataset(\"datasets\",\"iris\")"
   ]
  },
  {
   "cell_type": "code",
   "execution_count": 5,
   "metadata": {},
   "outputs": [
    {
     "data": {
      "text/plain": [
       "10-element Array{Float64,1}:\n",
       " 3.7\n",
       " 3.4\n",
       " 3.0\n",
       " 3.0\n",
       " 4.0\n",
       " 4.4\n",
       " 3.9\n",
       " 3.5\n",
       " 3.8\n",
       " 3.8"
      ]
     },
     "execution_count": 5,
     "metadata": {},
     "output_type": "execute_result"
    }
   ],
   "source": [
    "iris[11:20,:SepalWidth]"
   ]
  },
  {
   "cell_type": "code",
   "execution_count": 28,
   "metadata": {},
   "outputs": [
    {
     "data": {
      "text/html": [
       "<table class=\"data-frame\"><thead><tr><th></th><th>A</th><th>B</th><th>C</th></tr><tr><th></th><th>Int64</th><th>String</th><th>Float64</th></tr></thead><tbody><p>5 rows × 3 columns</p><tr><th>1</th><td>1</td><td>M</td><td>3.0</td></tr><tr><th>2</th><td>2</td><td>F</td><td>2.5</td></tr><tr><th>3</th><td>3</td><td>F</td><td>3.14159</td></tr><tr><th>4</th><td>4</td><td>M</td><td>-2.3</td></tr><tr><th>5</th><td>5</td><td>X</td><td>0.333333</td></tr></tbody></table>"
      ],
      "text/latex": [
       "\\begin{tabular}{r|ccc}\n",
       "\t& A & B & C\\\\\n",
       "\t\\hline\n",
       "\t& Int64 & String & Float64\\\\\n",
       "\t\\hline\n",
       "\t1 & 1 & M & 3.0 \\\\\n",
       "\t2 & 2 & F & 2.5 \\\\\n",
       "\t3 & 3 & F & 3.14159 \\\\\n",
       "\t4 & 4 & M & -2.3 \\\\\n",
       "\t5 & 5 & X & 0.333333 \\\\\n",
       "\\end{tabular}\n"
      ],
      "text/plain": [
       "5×3 DataFrame\n",
       "│ Row │ A     │ B      │ C        │\n",
       "│     │ \u001b[90mInt64\u001b[39m │ \u001b[90mString\u001b[39m │ \u001b[90mFloat64\u001b[39m  │\n",
       "├─────┼───────┼────────┼──────────┤\n",
       "│ 1   │ 1     │ M      │ 3.0      │\n",
       "│ 2   │ 2     │ F      │ 2.5      │\n",
       "│ 3   │ 3     │ F      │ 3.14159  │\n",
       "│ 4   │ 4     │ M      │ -2.3     │\n",
       "│ 5   │ 5     │ X      │ 0.333333 │"
      ]
     },
     "execution_count": 28,
     "metadata": {},
     "output_type": "execute_result"
    }
   ],
   "source": [
    "data = DataFrame(A = 1:5, B = [\"M\", \"F\", \"F\", \"M\",\"X\"], C=[3.0,2.5,pi,-2.3,1/3])"
   ]
  },
  {
   "cell_type": "code",
   "execution_count": 7,
   "metadata": {},
   "outputs": [
    {
     "data": {
      "image/svg+xml": [
       "<?xml version=\"1.0\" encoding=\"utf-8\"?>\n",
       "<svg xmlns=\"http://www.w3.org/2000/svg\" xmlns:xlink=\"http://www.w3.org/1999/xlink\" width=\"600\" height=\"400\" viewBox=\"0 0 2400 1600\">\n",
       "<defs>\n",
       "  <clipPath id=\"clip800\">\n",
       "    <rect x=\"0\" y=\"0\" width=\"2400\" height=\"1600\"/>\n",
       "  </clipPath>\n",
       "</defs>\n",
       "<path clip-path=\"url(#clip800)\" d=\"\n",
       "M0 1600 L2400 1600 L2400 0 L0 0  Z\n",
       "  \" fill=\"#ffffff\" fill-rule=\"evenodd\" fill-opacity=\"1\"/>\n",
       "<defs>\n",
       "  <clipPath id=\"clip801\">\n",
       "    <rect x=\"480\" y=\"0\" width=\"1681\" height=\"1600\"/>\n",
       "  </clipPath>\n",
       "</defs>\n",
       "<path clip-path=\"url(#clip800)\" d=\"\n",
       "M149.145 1486.45 L2352.76 1486.45 L2352.76 47.2441 L149.145 47.2441  Z\n",
       "  \" fill=\"#ffffff\" fill-rule=\"evenodd\" fill-opacity=\"1\"/>\n",
       "<defs>\n",
       "  <clipPath id=\"clip802\">\n",
       "    <rect x=\"149\" y=\"47\" width=\"2205\" height=\"1440\"/>\n",
       "  </clipPath>\n",
       "</defs>\n",
       "<polyline clip-path=\"url(#clip802)\" style=\"stroke:#000000; stroke-width:2; stroke-opacity:0.1; fill:none\" points=\"\n",
       "  615.737,1486.45 615.737,47.2441 \n",
       "  \"/>\n",
       "<polyline clip-path=\"url(#clip802)\" style=\"stroke:#000000; stroke-width:2; stroke-opacity:0.1; fill:none\" points=\"\n",
       "  1193.2,1486.45 1193.2,47.2441 \n",
       "  \"/>\n",
       "<polyline clip-path=\"url(#clip802)\" style=\"stroke:#000000; stroke-width:2; stroke-opacity:0.1; fill:none\" points=\"\n",
       "  1770.67,1486.45 1770.67,47.2441 \n",
       "  \"/>\n",
       "<polyline clip-path=\"url(#clip802)\" style=\"stroke:#000000; stroke-width:2; stroke-opacity:0.1; fill:none\" points=\"\n",
       "  2348.14,1486.45 2348.14,47.2441 \n",
       "  \"/>\n",
       "<polyline clip-path=\"url(#clip802)\" style=\"stroke:#000000; stroke-width:2; stroke-opacity:0.1; fill:none\" points=\"\n",
       "  149.145,1445.72 2352.76,1445.72 \n",
       "  \"/>\n",
       "<polyline clip-path=\"url(#clip802)\" style=\"stroke:#000000; stroke-width:2; stroke-opacity:0.1; fill:none\" points=\"\n",
       "  149.145,1162.85 2352.76,1162.85 \n",
       "  \"/>\n",
       "<polyline clip-path=\"url(#clip802)\" style=\"stroke:#000000; stroke-width:2; stroke-opacity:0.1; fill:none\" points=\"\n",
       "  149.145,879.991 2352.76,879.991 \n",
       "  \"/>\n",
       "<polyline clip-path=\"url(#clip802)\" style=\"stroke:#000000; stroke-width:2; stroke-opacity:0.1; fill:none\" points=\"\n",
       "  149.145,597.129 2352.76,597.129 \n",
       "  \"/>\n",
       "<polyline clip-path=\"url(#clip802)\" style=\"stroke:#000000; stroke-width:2; stroke-opacity:0.1; fill:none\" points=\"\n",
       "  149.145,314.266 2352.76,314.266 \n",
       "  \"/>\n",
       "<polyline clip-path=\"url(#clip800)\" style=\"stroke:#000000; stroke-width:4; stroke-opacity:1; fill:none\" points=\"\n",
       "  149.145,1486.45 2352.76,1486.45 \n",
       "  \"/>\n",
       "<polyline clip-path=\"url(#clip800)\" style=\"stroke:#000000; stroke-width:4; stroke-opacity:1; fill:none\" points=\"\n",
       "  149.145,1486.45 149.145,47.2441 \n",
       "  \"/>\n",
       "<polyline clip-path=\"url(#clip800)\" style=\"stroke:#000000; stroke-width:4; stroke-opacity:1; fill:none\" points=\"\n",
       "  615.737,1486.45 615.737,1469.18 \n",
       "  \"/>\n",
       "<polyline clip-path=\"url(#clip800)\" style=\"stroke:#000000; stroke-width:4; stroke-opacity:1; fill:none\" points=\"\n",
       "  1193.2,1486.45 1193.2,1469.18 \n",
       "  \"/>\n",
       "<polyline clip-path=\"url(#clip800)\" style=\"stroke:#000000; stroke-width:4; stroke-opacity:1; fill:none\" points=\"\n",
       "  1770.67,1486.45 1770.67,1469.18 \n",
       "  \"/>\n",
       "<polyline clip-path=\"url(#clip800)\" style=\"stroke:#000000; stroke-width:4; stroke-opacity:1; fill:none\" points=\"\n",
       "  2348.14,1486.45 2348.14,1469.18 \n",
       "  \"/>\n",
       "<polyline clip-path=\"url(#clip800)\" style=\"stroke:#000000; stroke-width:4; stroke-opacity:1; fill:none\" points=\"\n",
       "  149.145,1445.72 175.588,1445.72 \n",
       "  \"/>\n",
       "<polyline clip-path=\"url(#clip800)\" style=\"stroke:#000000; stroke-width:4; stroke-opacity:1; fill:none\" points=\"\n",
       "  149.145,1162.85 175.588,1162.85 \n",
       "  \"/>\n",
       "<polyline clip-path=\"url(#clip800)\" style=\"stroke:#000000; stroke-width:4; stroke-opacity:1; fill:none\" points=\"\n",
       "  149.145,879.991 175.588,879.991 \n",
       "  \"/>\n",
       "<polyline clip-path=\"url(#clip800)\" style=\"stroke:#000000; stroke-width:4; stroke-opacity:1; fill:none\" points=\"\n",
       "  149.145,597.129 175.588,597.129 \n",
       "  \"/>\n",
       "<polyline clip-path=\"url(#clip800)\" style=\"stroke:#000000; stroke-width:4; stroke-opacity:1; fill:none\" points=\"\n",
       "  149.145,314.266 175.588,314.266 \n",
       "  \"/>\n",
       "<path clip-path=\"url(#clip800)\" d=\"M 0 0 M606.015 1505.36 L624.372 1505.36 L624.372 1509.3 L610.298 1509.3 L610.298 1517.77 Q611.316 1517.42 612.335 1517.26 Q613.353 1517.07 614.372 1517.07 Q620.159 1517.07 623.538 1520.24 Q626.918 1523.42 626.918 1528.83 Q626.918 1534.41 623.446 1537.51 Q619.973 1540.59 613.654 1540.59 Q611.478 1540.59 609.21 1540.22 Q606.964 1539.85 604.557 1539.11 L604.557 1534.41 Q606.64 1535.54 608.862 1536.1 Q611.085 1536.66 613.561 1536.66 Q617.566 1536.66 619.904 1534.55 Q622.242 1532.44 622.242 1528.83 Q622.242 1525.22 619.904 1523.11 Q617.566 1521.01 613.561 1521.01 Q611.686 1521.01 609.811 1521.42 Q607.96 1521.84 606.015 1522.72 L606.015 1505.36 Z\" fill=\"#000000\" fill-rule=\"evenodd\" fill-opacity=\"1\" /><path clip-path=\"url(#clip800)\" d=\"M 0 0 M1193.61 1520.78 Q1190.46 1520.78 1188.61 1522.93 Q1186.78 1525.08 1186.78 1528.83 Q1186.78 1532.56 1188.61 1534.73 Q1190.46 1536.89 1193.61 1536.89 Q1196.76 1536.89 1198.59 1534.73 Q1200.44 1532.56 1200.44 1528.83 Q1200.44 1525.08 1198.59 1522.93 Q1196.76 1520.78 1193.61 1520.78 M1202.89 1506.12 L1202.89 1510.38 Q1201.13 1509.55 1199.33 1509.11 Q1197.54 1508.67 1195.78 1508.67 Q1191.16 1508.67 1188.7 1511.8 Q1186.27 1514.92 1185.92 1521.24 Q1187.29 1519.23 1189.35 1518.16 Q1191.41 1517.07 1193.89 1517.07 Q1199.09 1517.07 1202.1 1520.24 Q1205.14 1523.39 1205.14 1528.83 Q1205.14 1534.16 1201.99 1537.37 Q1198.84 1540.59 1193.61 1540.59 Q1187.61 1540.59 1184.44 1536.01 Q1181.27 1531.4 1181.27 1522.67 Q1181.27 1514.48 1185.16 1509.62 Q1189.05 1504.73 1195.6 1504.73 Q1197.36 1504.73 1199.14 1505.08 Q1200.95 1505.43 1202.89 1506.12 Z\" fill=\"#000000\" fill-rule=\"evenodd\" fill-opacity=\"1\" /><path clip-path=\"url(#clip800)\" d=\"M 0 0 M1759.56 1505.36 L1781.78 1505.36 L1781.78 1507.35 L1769.23 1539.92 L1764.35 1539.92 L1776.16 1509.3 L1759.56 1509.3 L1759.56 1505.36 Z\" fill=\"#000000\" fill-rule=\"evenodd\" fill-opacity=\"1\" /><path clip-path=\"url(#clip800)\" d=\"M 0 0 M2348.14 1523.51 Q2344.8 1523.51 2342.88 1525.29 Q2340.98 1527.07 2340.98 1530.2 Q2340.98 1533.32 2342.88 1535.11 Q2344.8 1536.89 2348.14 1536.89 Q2351.47 1536.89 2353.39 1535.11 Q2355.31 1533.3 2355.31 1530.2 Q2355.31 1527.07 2353.39 1525.29 Q2351.49 1523.51 2348.14 1523.51 M2343.46 1521.52 Q2340.45 1520.78 2338.76 1518.72 Q2337.09 1516.66 2337.09 1513.69 Q2337.09 1509.55 2340.03 1507.14 Q2343 1504.73 2348.14 1504.73 Q2353.3 1504.73 2356.24 1507.14 Q2359.18 1509.55 2359.18 1513.69 Q2359.18 1516.66 2357.49 1518.72 Q2355.82 1520.78 2352.84 1521.52 Q2356.21 1522.3 2358.09 1524.6 Q2359.99 1526.89 2359.99 1530.2 Q2359.99 1535.22 2356.91 1537.91 Q2353.85 1540.59 2348.14 1540.59 Q2342.42 1540.59 2339.34 1537.91 Q2336.28 1535.22 2336.28 1530.2 Q2336.28 1526.89 2338.18 1524.6 Q2340.08 1522.3 2343.46 1521.52 M2341.75 1514.13 Q2341.75 1516.82 2343.41 1518.32 Q2345.1 1519.83 2348.14 1519.83 Q2351.15 1519.83 2352.84 1518.32 Q2354.55 1516.82 2354.55 1514.13 Q2354.55 1511.45 2352.84 1509.94 Q2351.15 1508.44 2348.14 1508.44 Q2345.1 1508.44 2343.41 1509.94 Q2341.75 1511.45 2341.75 1514.13 Z\" fill=\"#000000\" fill-rule=\"evenodd\" fill-opacity=\"1\" /><path clip-path=\"url(#clip800)\" d=\"M 0 0 M71.8578 1459.06 L88.1772 1459.06 L88.1772 1463 L66.2328 1463 L66.2328 1459.06 Q68.8949 1456.31 73.4782 1451.68 Q78.0846 1447.02 79.2652 1445.68 Q81.5105 1443.16 82.3902 1441.42 Q83.2929 1439.66 83.2929 1437.97 Q83.2929 1435.22 81.3485 1433.48 Q79.4272 1431.75 76.3254 1431.75 Q74.1263 1431.75 71.6726 1432.51 Q69.2421 1433.27 66.4643 1434.82 L66.4643 1430.1 Q69.2884 1428.97 71.7421 1428.39 Q74.1958 1427.81 76.2328 1427.81 Q81.6031 1427.81 84.7976 1430.5 Q87.992 1433.18 87.992 1437.67 Q87.992 1439.8 87.1818 1441.72 Q86.3948 1443.62 84.2883 1446.21 Q83.7096 1446.88 80.6078 1450.1 Q77.5059 1453.3 71.8578 1459.06 Z\" fill=\"#000000\" fill-rule=\"evenodd\" fill-opacity=\"1\" /><path clip-path=\"url(#clip800)\" d=\"M 0 0 M93.2466 1457.12 L98.1308 1457.12 L98.1308 1463 L93.2466 1463 L93.2466 1457.12 Z\" fill=\"#000000\" fill-rule=\"evenodd\" fill-opacity=\"1\" /><path clip-path=\"url(#clip800)\" d=\"M 0 0 M113.2 1431.51 Q109.589 1431.51 107.76 1435.08 Q105.955 1438.62 105.955 1445.75 Q105.955 1452.86 107.76 1456.42 Q109.589 1459.96 113.2 1459.96 Q116.834 1459.96 118.64 1456.42 Q120.469 1452.86 120.469 1445.75 Q120.469 1438.62 118.64 1435.08 Q116.834 1431.51 113.2 1431.51 M113.2 1427.81 Q119.01 1427.81 122.066 1432.42 Q125.145 1437 125.145 1445.75 Q125.145 1454.48 122.066 1459.08 Q119.01 1463.67 113.2 1463.67 Q107.39 1463.67 104.311 1459.08 Q101.256 1454.48 101.256 1445.75 Q101.256 1437 104.311 1432.42 Q107.39 1427.81 113.2 1427.81 Z\" fill=\"#000000\" fill-rule=\"evenodd\" fill-opacity=\"1\" /><path clip-path=\"url(#clip800)\" d=\"M 0 0 M72.8532 1176.2 L89.1725 1176.2 L89.1725 1180.13 L67.2282 1180.13 L67.2282 1176.2 Q69.8902 1173.44 74.4735 1168.81 Q79.08 1164.16 80.2606 1162.82 Q82.5059 1160.3 83.3855 1158.56 Q84.2883 1156.8 84.2883 1155.11 Q84.2883 1152.36 82.3439 1150.62 Q80.4226 1148.88 77.3208 1148.88 Q75.1217 1148.88 72.668 1149.65 Q70.2375 1150.41 67.4597 1151.96 L67.4597 1147.24 Q70.2838 1146.11 72.7374 1145.53 Q75.1911 1144.95 77.2282 1144.95 Q82.5985 1144.95 85.7929 1147.63 Q88.9874 1150.32 88.9874 1154.81 Q88.9874 1156.94 88.1772 1158.86 Q87.3901 1160.76 85.2837 1163.35 Q84.705 1164.02 81.6031 1167.24 Q78.5013 1170.43 72.8532 1176.2 Z\" fill=\"#000000\" fill-rule=\"evenodd\" fill-opacity=\"1\" /><path clip-path=\"url(#clip800)\" d=\"M 0 0 M94.242 1174.25 L99.1262 1174.25 L99.1262 1180.13 L94.242 1180.13 L94.242 1174.25 Z\" fill=\"#000000\" fill-rule=\"evenodd\" fill-opacity=\"1\" /><path clip-path=\"url(#clip800)\" d=\"M 0 0 M104.242 1145.57 L122.598 1145.57 L122.598 1149.51 L108.524 1149.51 L108.524 1157.98 Q109.543 1157.63 110.561 1157.47 Q111.58 1157.29 112.598 1157.29 Q118.385 1157.29 121.765 1160.46 Q125.145 1163.63 125.145 1169.05 Q125.145 1174.62 121.672 1177.73 Q118.2 1180.8 111.881 1180.8 Q109.705 1180.8 107.436 1180.43 Q105.191 1180.06 102.784 1179.32 L102.784 1174.62 Q104.867 1175.76 107.089 1176.31 Q109.311 1176.87 111.788 1176.87 Q115.793 1176.87 118.131 1174.76 Q120.469 1172.66 120.469 1169.05 Q120.469 1165.43 118.131 1163.33 Q115.793 1161.22 111.788 1161.22 Q109.913 1161.22 108.038 1161.64 Q106.186 1162.05 104.242 1162.93 L104.242 1145.57 Z\" fill=\"#000000\" fill-rule=\"evenodd\" fill-opacity=\"1\" /><path clip-path=\"url(#clip800)\" d=\"M 0 0 M81.0476 878.637 Q84.404 879.354 86.279 881.623 Q88.1772 883.891 88.1772 887.225 Q88.1772 892.34 84.6587 895.141 Q81.1402 897.942 74.6587 897.942 Q72.4828 897.942 70.168 897.502 Q67.8764 897.086 65.4227 896.229 L65.4227 891.715 Q67.3671 892.85 69.6819 893.428 Q71.9967 894.007 74.5198 894.007 Q78.918 894.007 81.2096 892.271 Q83.5244 890.535 83.5244 887.225 Q83.5244 884.169 81.3717 882.456 Q79.242 880.72 75.4226 880.72 L71.3949 880.72 L71.3949 876.878 L75.6078 876.878 Q79.0569 876.878 80.8855 875.512 Q82.7142 874.123 82.7142 871.53 Q82.7142 868.868 80.8161 867.456 Q78.9411 866.021 75.4226 866.021 Q73.5013 866.021 71.3023 866.438 Q69.1032 866.854 66.4643 867.734 L66.4643 863.567 Q69.1264 862.827 71.4412 862.456 Q73.7791 862.086 75.8393 862.086 Q81.1633 862.086 84.2652 864.516 Q87.367 866.924 87.367 871.044 Q87.367 873.915 85.7235 875.905 Q84.08 877.873 81.0476 878.637 Z\" fill=\"#000000\" fill-rule=\"evenodd\" fill-opacity=\"1\" /><path clip-path=\"url(#clip800)\" d=\"M 0 0 M93.2466 891.391 L98.1308 891.391 L98.1308 897.271 L93.2466 897.271 L93.2466 891.391 Z\" fill=\"#000000\" fill-rule=\"evenodd\" fill-opacity=\"1\" /><path clip-path=\"url(#clip800)\" d=\"M 0 0 M113.2 865.79 Q109.589 865.79 107.76 869.354 Q105.955 872.896 105.955 880.026 Q105.955 887.132 107.76 890.697 Q109.589 894.239 113.2 894.239 Q116.834 894.239 118.64 890.697 Q120.469 887.132 120.469 880.026 Q120.469 872.896 118.64 869.354 Q116.834 865.79 113.2 865.79 M113.2 862.086 Q119.01 862.086 122.066 866.692 Q125.145 871.276 125.145 880.026 Q125.145 888.752 122.066 893.359 Q119.01 897.942 113.2 897.942 Q107.39 897.942 104.311 893.359 Q101.256 888.752 101.256 880.026 Q101.256 871.276 104.311 866.692 Q107.39 862.086 113.2 862.086 Z\" fill=\"#000000\" fill-rule=\"evenodd\" fill-opacity=\"1\" /><path clip-path=\"url(#clip800)\" d=\"M 0 0 M82.0429 595.774 Q85.3994 596.492 87.2744 598.76 Q89.1725 601.029 89.1725 604.362 Q89.1725 609.478 85.654 612.279 Q82.1355 615.08 75.6541 615.08 Q73.4782 615.08 71.1634 614.64 Q68.8717 614.223 66.418 613.367 L66.418 608.853 Q68.3625 609.987 70.6773 610.566 Q72.9921 611.145 75.5152 611.145 Q79.9133 611.145 82.205 609.409 Q84.5198 607.672 84.5198 604.362 Q84.5198 601.307 82.367 599.594 Q80.2374 597.858 76.418 597.858 L72.3902 597.858 L72.3902 594.015 L76.6032 594.015 Q80.0522 594.015 81.8809 592.649 Q83.7096 591.261 83.7096 588.668 Q83.7096 586.006 81.8115 584.594 Q79.9365 583.159 76.418 583.159 Q74.4967 583.159 72.2976 583.575 Q70.0986 583.992 67.4597 584.872 L67.4597 580.705 Q70.1217 579.964 72.4365 579.594 Q74.7745 579.224 76.8346 579.224 Q82.1587 579.224 85.2605 581.654 Q88.3624 584.061 88.3624 588.182 Q88.3624 591.052 86.7189 593.043 Q85.0753 595.011 82.0429 595.774 Z\" fill=\"#000000\" fill-rule=\"evenodd\" fill-opacity=\"1\" /><path clip-path=\"url(#clip800)\" d=\"M 0 0 M94.242 608.529 L99.1262 608.529 L99.1262 614.409 L94.242 614.409 L94.242 608.529 Z\" fill=\"#000000\" fill-rule=\"evenodd\" fill-opacity=\"1\" /><path clip-path=\"url(#clip800)\" d=\"M 0 0 M104.242 579.849 L122.598 579.849 L122.598 583.784 L108.524 583.784 L108.524 592.256 Q109.543 591.909 110.561 591.747 Q111.58 591.561 112.598 591.561 Q118.385 591.561 121.765 594.733 Q125.145 597.904 125.145 603.321 Q125.145 608.899 121.672 612.001 Q118.2 615.08 111.881 615.08 Q109.705 615.08 107.436 614.709 Q105.191 614.339 102.784 613.598 L102.784 608.899 Q104.867 610.034 107.089 610.589 Q109.311 611.145 111.788 611.145 Q115.793 611.145 118.131 609.038 Q120.469 606.932 120.469 603.321 Q120.469 599.71 118.131 597.603 Q115.793 595.497 111.788 595.497 Q109.913 595.497 108.038 595.913 Q106.186 596.33 104.242 597.21 L104.242 579.849 Z\" fill=\"#000000\" fill-rule=\"evenodd\" fill-opacity=\"1\" /><path clip-path=\"url(#clip800)\" d=\"M 0 0 M78.5939 301.06 L66.7884 319.509 L78.5939 319.509 L78.5939 301.06 M77.367 296.986 L83.2466 296.986 L83.2466 319.509 L88.1772 319.509 L88.1772 323.398 L83.2466 323.398 L83.2466 331.546 L78.5939 331.546 L78.5939 323.398 L62.9921 323.398 L62.9921 318.884 L77.367 296.986 Z\" fill=\"#000000\" fill-rule=\"evenodd\" fill-opacity=\"1\" /><path clip-path=\"url(#clip800)\" d=\"M 0 0 M93.2466 325.667 L98.1308 325.667 L98.1308 331.546 L93.2466 331.546 L93.2466 325.667 Z\" fill=\"#000000\" fill-rule=\"evenodd\" fill-opacity=\"1\" /><path clip-path=\"url(#clip800)\" d=\"M 0 0 M113.2 300.065 Q109.589 300.065 107.76 303.63 Q105.955 307.171 105.955 314.301 Q105.955 321.407 107.76 324.972 Q109.589 328.514 113.2 328.514 Q116.834 328.514 118.64 324.972 Q120.469 321.407 120.469 314.301 Q120.469 307.171 118.64 303.63 Q116.834 300.065 113.2 300.065 M113.2 296.361 Q119.01 296.361 122.066 300.968 Q125.145 305.551 125.145 314.301 Q125.145 323.028 122.066 327.634 Q119.01 332.217 113.2 332.217 Q107.39 332.217 104.311 327.634 Q101.256 323.028 101.256 314.301 Q101.256 305.551 104.311 300.968 Q107.39 296.361 113.2 296.361 Z\" fill=\"#000000\" fill-rule=\"evenodd\" fill-opacity=\"1\" /><circle clip-path=\"url(#clip802)\" cx=\"673.484\" cy=\"597.129\" r=\"14\" fill=\"#009af9\" fill-rule=\"evenodd\" fill-opacity=\"1\" stroke=\"#000000\" stroke-opacity=\"1\" stroke-width=\"3.2\"/>\n",
       "<circle clip-path=\"url(#clip802)\" cx=\"557.991\" cy=\"879.991\" r=\"14\" fill=\"#009af9\" fill-rule=\"evenodd\" fill-opacity=\"1\" stroke=\"#000000\" stroke-opacity=\"1\" stroke-width=\"3.2\"/>\n",
       "<circle clip-path=\"url(#clip802)\" cx=\"442.497\" cy=\"766.846\" r=\"14\" fill=\"#009af9\" fill-rule=\"evenodd\" fill-opacity=\"1\" stroke=\"#000000\" stroke-opacity=\"1\" stroke-width=\"3.2\"/>\n",
       "<circle clip-path=\"url(#clip802)\" cx=\"384.751\" cy=\"823.418\" r=\"14\" fill=\"#009af9\" fill-rule=\"evenodd\" fill-opacity=\"1\" stroke=\"#000000\" stroke-opacity=\"1\" stroke-width=\"3.2\"/>\n",
       "<circle clip-path=\"url(#clip802)\" cx=\"615.737\" cy=\"540.556\" r=\"14\" fill=\"#009af9\" fill-rule=\"evenodd\" fill-opacity=\"1\" stroke=\"#000000\" stroke-opacity=\"1\" stroke-width=\"3.2\"/>\n",
       "<circle clip-path=\"url(#clip802)\" cx=\"846.724\" cy=\"370.839\" r=\"14\" fill=\"#009af9\" fill-rule=\"evenodd\" fill-opacity=\"1\" stroke=\"#000000\" stroke-opacity=\"1\" stroke-width=\"3.2\"/>\n",
       "<circle clip-path=\"url(#clip802)\" cx=\"384.751\" cy=\"653.701\" r=\"14\" fill=\"#009af9\" fill-rule=\"evenodd\" fill-opacity=\"1\" stroke=\"#000000\" stroke-opacity=\"1\" stroke-width=\"3.2\"/>\n",
       "<circle clip-path=\"url(#clip802)\" cx=\"615.737\" cy=\"653.701\" r=\"14\" fill=\"#009af9\" fill-rule=\"evenodd\" fill-opacity=\"1\" stroke=\"#000000\" stroke-opacity=\"1\" stroke-width=\"3.2\"/>\n",
       "<circle clip-path=\"url(#clip802)\" cx=\"269.258\" cy=\"936.563\" r=\"14\" fill=\"#009af9\" fill-rule=\"evenodd\" fill-opacity=\"1\" stroke=\"#000000\" stroke-opacity=\"1\" stroke-width=\"3.2\"/>\n",
       "<circle clip-path=\"url(#clip802)\" cx=\"557.991\" cy=\"823.418\" r=\"14\" fill=\"#009af9\" fill-rule=\"evenodd\" fill-opacity=\"1\" stroke=\"#000000\" stroke-opacity=\"1\" stroke-width=\"3.2\"/>\n",
       "<circle clip-path=\"url(#clip802)\" cx=\"846.724\" cy=\"483.984\" r=\"14\" fill=\"#009af9\" fill-rule=\"evenodd\" fill-opacity=\"1\" stroke=\"#000000\" stroke-opacity=\"1\" stroke-width=\"3.2\"/>\n",
       "<circle clip-path=\"url(#clip802)\" cx=\"500.244\" cy=\"653.701\" r=\"14\" fill=\"#009af9\" fill-rule=\"evenodd\" fill-opacity=\"1\" stroke=\"#000000\" stroke-opacity=\"1\" stroke-width=\"3.2\"/>\n",
       "<circle clip-path=\"url(#clip802)\" cx=\"500.244\" cy=\"879.991\" r=\"14\" fill=\"#009af9\" fill-rule=\"evenodd\" fill-opacity=\"1\" stroke=\"#000000\" stroke-opacity=\"1\" stroke-width=\"3.2\"/>\n",
       "<circle clip-path=\"url(#clip802)\" cx=\"211.511\" cy=\"879.991\" r=\"14\" fill=\"#009af9\" fill-rule=\"evenodd\" fill-opacity=\"1\" stroke=\"#000000\" stroke-opacity=\"1\" stroke-width=\"3.2\"/>\n",
       "<circle clip-path=\"url(#clip802)\" cx=\"1077.71\" cy=\"314.266\" r=\"14\" fill=\"#009af9\" fill-rule=\"evenodd\" fill-opacity=\"1\" stroke=\"#000000\" stroke-opacity=\"1\" stroke-width=\"3.2\"/>\n",
       "<circle clip-path=\"url(#clip802)\" cx=\"1019.96\" cy=\"87.9763\" r=\"14\" fill=\"#009af9\" fill-rule=\"evenodd\" fill-opacity=\"1\" stroke=\"#000000\" stroke-opacity=\"1\" stroke-width=\"3.2\"/>\n",
       "<circle clip-path=\"url(#clip802)\" cx=\"846.724\" cy=\"370.839\" r=\"14\" fill=\"#009af9\" fill-rule=\"evenodd\" fill-opacity=\"1\" stroke=\"#000000\" stroke-opacity=\"1\" stroke-width=\"3.2\"/>\n",
       "<circle clip-path=\"url(#clip802)\" cx=\"673.484\" cy=\"597.129\" r=\"14\" fill=\"#009af9\" fill-rule=\"evenodd\" fill-opacity=\"1\" stroke=\"#000000\" stroke-opacity=\"1\" stroke-width=\"3.2\"/>\n",
       "<circle clip-path=\"url(#clip802)\" cx=\"1019.96\" cy=\"427.411\" r=\"14\" fill=\"#009af9\" fill-rule=\"evenodd\" fill-opacity=\"1\" stroke=\"#000000\" stroke-opacity=\"1\" stroke-width=\"3.2\"/>\n",
       "<circle clip-path=\"url(#clip802)\" cx=\"673.484\" cy=\"427.411\" r=\"14\" fill=\"#009af9\" fill-rule=\"evenodd\" fill-opacity=\"1\" stroke=\"#000000\" stroke-opacity=\"1\" stroke-width=\"3.2\"/>\n",
       "<circle clip-path=\"url(#clip802)\" cx=\"846.724\" cy=\"653.701\" r=\"14\" fill=\"#009af9\" fill-rule=\"evenodd\" fill-opacity=\"1\" stroke=\"#000000\" stroke-opacity=\"1\" stroke-width=\"3.2\"/>\n",
       "<circle clip-path=\"url(#clip802)\" cx=\"673.484\" cy=\"483.984\" r=\"14\" fill=\"#009af9\" fill-rule=\"evenodd\" fill-opacity=\"1\" stroke=\"#000000\" stroke-opacity=\"1\" stroke-width=\"3.2\"/>\n",
       "<circle clip-path=\"url(#clip802)\" cx=\"384.751\" cy=\"540.556\" r=\"14\" fill=\"#009af9\" fill-rule=\"evenodd\" fill-opacity=\"1\" stroke=\"#000000\" stroke-opacity=\"1\" stroke-width=\"3.2\"/>\n",
       "<circle clip-path=\"url(#clip802)\" cx=\"673.484\" cy=\"710.274\" r=\"14\" fill=\"#009af9\" fill-rule=\"evenodd\" fill-opacity=\"1\" stroke=\"#000000\" stroke-opacity=\"1\" stroke-width=\"3.2\"/>\n",
       "<circle clip-path=\"url(#clip802)\" cx=\"500.244\" cy=\"653.701\" r=\"14\" fill=\"#009af9\" fill-rule=\"evenodd\" fill-opacity=\"1\" stroke=\"#000000\" stroke-opacity=\"1\" stroke-width=\"3.2\"/>\n",
       "<circle clip-path=\"url(#clip802)\" cx=\"615.737\" cy=\"879.991\" r=\"14\" fill=\"#009af9\" fill-rule=\"evenodd\" fill-opacity=\"1\" stroke=\"#000000\" stroke-opacity=\"1\" stroke-width=\"3.2\"/>\n",
       "<circle clip-path=\"url(#clip802)\" cx=\"615.737\" cy=\"653.701\" r=\"14\" fill=\"#009af9\" fill-rule=\"evenodd\" fill-opacity=\"1\" stroke=\"#000000\" stroke-opacity=\"1\" stroke-width=\"3.2\"/>\n",
       "<circle clip-path=\"url(#clip802)\" cx=\"731.231\" cy=\"597.129\" r=\"14\" fill=\"#009af9\" fill-rule=\"evenodd\" fill-opacity=\"1\" stroke=\"#000000\" stroke-opacity=\"1\" stroke-width=\"3.2\"/>\n",
       "<circle clip-path=\"url(#clip802)\" cx=\"731.231\" cy=\"653.701\" r=\"14\" fill=\"#009af9\" fill-rule=\"evenodd\" fill-opacity=\"1\" stroke=\"#000000\" stroke-opacity=\"1\" stroke-width=\"3.2\"/>\n",
       "<circle clip-path=\"url(#clip802)\" cx=\"442.497\" cy=\"766.846\" r=\"14\" fill=\"#009af9\" fill-rule=\"evenodd\" fill-opacity=\"1\" stroke=\"#000000\" stroke-opacity=\"1\" stroke-width=\"3.2\"/>\n",
       "<circle clip-path=\"url(#clip802)\" cx=\"500.244\" cy=\"823.418\" r=\"14\" fill=\"#009af9\" fill-rule=\"evenodd\" fill-opacity=\"1\" stroke=\"#000000\" stroke-opacity=\"1\" stroke-width=\"3.2\"/>\n",
       "<circle clip-path=\"url(#clip802)\" cx=\"846.724\" cy=\"653.701\" r=\"14\" fill=\"#009af9\" fill-rule=\"evenodd\" fill-opacity=\"1\" stroke=\"#000000\" stroke-opacity=\"1\" stroke-width=\"3.2\"/>\n",
       "<circle clip-path=\"url(#clip802)\" cx=\"731.231\" cy=\"257.694\" r=\"14\" fill=\"#009af9\" fill-rule=\"evenodd\" fill-opacity=\"1\" stroke=\"#000000\" stroke-opacity=\"1\" stroke-width=\"3.2\"/>\n",
       "<circle clip-path=\"url(#clip802)\" cx=\"904.47\" cy=\"201.121\" r=\"14\" fill=\"#009af9\" fill-rule=\"evenodd\" fill-opacity=\"1\" stroke=\"#000000\" stroke-opacity=\"1\" stroke-width=\"3.2\"/>\n",
       "<circle clip-path=\"url(#clip802)\" cx=\"557.991\" cy=\"823.418\" r=\"14\" fill=\"#009af9\" fill-rule=\"evenodd\" fill-opacity=\"1\" stroke=\"#000000\" stroke-opacity=\"1\" stroke-width=\"3.2\"/>\n",
       "<circle clip-path=\"url(#clip802)\" cx=\"615.737\" cy=\"766.846\" r=\"14\" fill=\"#009af9\" fill-rule=\"evenodd\" fill-opacity=\"1\" stroke=\"#000000\" stroke-opacity=\"1\" stroke-width=\"3.2\"/>\n",
       "<circle clip-path=\"url(#clip802)\" cx=\"904.47\" cy=\"597.129\" r=\"14\" fill=\"#009af9\" fill-rule=\"evenodd\" fill-opacity=\"1\" stroke=\"#000000\" stroke-opacity=\"1\" stroke-width=\"3.2\"/>\n",
       "<circle clip-path=\"url(#clip802)\" cx=\"557.991\" cy=\"540.556\" r=\"14\" fill=\"#009af9\" fill-rule=\"evenodd\" fill-opacity=\"1\" stroke=\"#000000\" stroke-opacity=\"1\" stroke-width=\"3.2\"/>\n",
       "<circle clip-path=\"url(#clip802)\" cx=\"269.258\" cy=\"879.991\" r=\"14\" fill=\"#009af9\" fill-rule=\"evenodd\" fill-opacity=\"1\" stroke=\"#000000\" stroke-opacity=\"1\" stroke-width=\"3.2\"/>\n",
       "<circle clip-path=\"url(#clip802)\" cx=\"673.484\" cy=\"653.701\" r=\"14\" fill=\"#009af9\" fill-rule=\"evenodd\" fill-opacity=\"1\" stroke=\"#000000\" stroke-opacity=\"1\" stroke-width=\"3.2\"/>\n",
       "<circle clip-path=\"url(#clip802)\" cx=\"615.737\" cy=\"597.129\" r=\"14\" fill=\"#009af9\" fill-rule=\"evenodd\" fill-opacity=\"1\" stroke=\"#000000\" stroke-opacity=\"1\" stroke-width=\"3.2\"/>\n",
       "<circle clip-path=\"url(#clip802)\" cx=\"327.004\" cy=\"1276\" r=\"14\" fill=\"#009af9\" fill-rule=\"evenodd\" fill-opacity=\"1\" stroke=\"#000000\" stroke-opacity=\"1\" stroke-width=\"3.2\"/>\n",
       "<circle clip-path=\"url(#clip802)\" cx=\"269.258\" cy=\"766.846\" r=\"14\" fill=\"#009af9\" fill-rule=\"evenodd\" fill-opacity=\"1\" stroke=\"#000000\" stroke-opacity=\"1\" stroke-width=\"3.2\"/>\n",
       "<circle clip-path=\"url(#clip802)\" cx=\"615.737\" cy=\"597.129\" r=\"14\" fill=\"#009af9\" fill-rule=\"evenodd\" fill-opacity=\"1\" stroke=\"#000000\" stroke-opacity=\"1\" stroke-width=\"3.2\"/>\n",
       "<circle clip-path=\"url(#clip802)\" cx=\"673.484\" cy=\"427.411\" r=\"14\" fill=\"#009af9\" fill-rule=\"evenodd\" fill-opacity=\"1\" stroke=\"#000000\" stroke-opacity=\"1\" stroke-width=\"3.2\"/>\n",
       "<circle clip-path=\"url(#clip802)\" cx=\"500.244\" cy=\"879.991\" r=\"14\" fill=\"#009af9\" fill-rule=\"evenodd\" fill-opacity=\"1\" stroke=\"#000000\" stroke-opacity=\"1\" stroke-width=\"3.2\"/>\n",
       "<circle clip-path=\"url(#clip802)\" cx=\"673.484\" cy=\"427.411\" r=\"14\" fill=\"#009af9\" fill-rule=\"evenodd\" fill-opacity=\"1\" stroke=\"#000000\" stroke-opacity=\"1\" stroke-width=\"3.2\"/>\n",
       "<circle clip-path=\"url(#clip802)\" cx=\"384.751\" cy=\"766.846\" r=\"14\" fill=\"#009af9\" fill-rule=\"evenodd\" fill-opacity=\"1\" stroke=\"#000000\" stroke-opacity=\"1\" stroke-width=\"3.2\"/>\n",
       "<circle clip-path=\"url(#clip802)\" cx=\"788.977\" cy=\"483.984\" r=\"14\" fill=\"#009af9\" fill-rule=\"evenodd\" fill-opacity=\"1\" stroke=\"#000000\" stroke-opacity=\"1\" stroke-width=\"3.2\"/>\n",
       "<circle clip-path=\"url(#clip802)\" cx=\"615.737\" cy=\"710.274\" r=\"14\" fill=\"#009af9\" fill-rule=\"evenodd\" fill-opacity=\"1\" stroke=\"#000000\" stroke-opacity=\"1\" stroke-width=\"3.2\"/>\n",
       "<circle clip-path=\"url(#clip802)\" cx=\"1770.67\" cy=\"766.846\" r=\"14\" fill=\"#009af9\" fill-rule=\"evenodd\" fill-opacity=\"1\" stroke=\"#000000\" stroke-opacity=\"1\" stroke-width=\"3.2\"/>\n",
       "<circle clip-path=\"url(#clip802)\" cx=\"1424.19\" cy=\"766.846\" r=\"14\" fill=\"#009af9\" fill-rule=\"evenodd\" fill-opacity=\"1\" stroke=\"#000000\" stroke-opacity=\"1\" stroke-width=\"3.2\"/>\n",
       "<circle clip-path=\"url(#clip802)\" cx=\"1712.92\" cy=\"823.418\" r=\"14\" fill=\"#009af9\" fill-rule=\"evenodd\" fill-opacity=\"1\" stroke=\"#000000\" stroke-opacity=\"1\" stroke-width=\"3.2\"/>\n",
       "<circle clip-path=\"url(#clip802)\" cx=\"904.47\" cy=\"1276\" r=\"14\" fill=\"#009af9\" fill-rule=\"evenodd\" fill-opacity=\"1\" stroke=\"#000000\" stroke-opacity=\"1\" stroke-width=\"3.2\"/>\n",
       "<circle clip-path=\"url(#clip802)\" cx=\"1481.94\" cy=\"993.136\" r=\"14\" fill=\"#009af9\" fill-rule=\"evenodd\" fill-opacity=\"1\" stroke=\"#000000\" stroke-opacity=\"1\" stroke-width=\"3.2\"/>\n",
       "<circle clip-path=\"url(#clip802)\" cx=\"1019.96\" cy=\"993.136\" r=\"14\" fill=\"#009af9\" fill-rule=\"evenodd\" fill-opacity=\"1\" stroke=\"#000000\" stroke-opacity=\"1\" stroke-width=\"3.2\"/>\n",
       "<circle clip-path=\"url(#clip802)\" cx=\"1366.44\" cy=\"710.274\" r=\"14\" fill=\"#009af9\" fill-rule=\"evenodd\" fill-opacity=\"1\" stroke=\"#000000\" stroke-opacity=\"1\" stroke-width=\"3.2\"/>\n",
       "<circle clip-path=\"url(#clip802)\" cx=\"557.991\" cy=\"1219.43\" r=\"14\" fill=\"#009af9\" fill-rule=\"evenodd\" fill-opacity=\"1\" stroke=\"#000000\" stroke-opacity=\"1\" stroke-width=\"3.2\"/>\n",
       "<circle clip-path=\"url(#clip802)\" cx=\"1539.68\" cy=\"936.563\" r=\"14\" fill=\"#009af9\" fill-rule=\"evenodd\" fill-opacity=\"1\" stroke=\"#000000\" stroke-opacity=\"1\" stroke-width=\"3.2\"/>\n",
       "<circle clip-path=\"url(#clip802)\" cx=\"731.231\" cy=\"1049.71\" r=\"14\" fill=\"#009af9\" fill-rule=\"evenodd\" fill-opacity=\"1\" stroke=\"#000000\" stroke-opacity=\"1\" stroke-width=\"3.2\"/>\n",
       "<circle clip-path=\"url(#clip802)\" cx=\"615.737\" cy=\"1445.72\" r=\"14\" fill=\"#009af9\" fill-rule=\"evenodd\" fill-opacity=\"1\" stroke=\"#000000\" stroke-opacity=\"1\" stroke-width=\"3.2\"/>\n",
       "<circle clip-path=\"url(#clip802)\" cx=\"1135.46\" cy=\"879.991\" r=\"14\" fill=\"#009af9\" fill-rule=\"evenodd\" fill-opacity=\"1\" stroke=\"#000000\" stroke-opacity=\"1\" stroke-width=\"3.2\"/>\n",
       "<circle clip-path=\"url(#clip802)\" cx=\"1193.2\" cy=\"1332.57\" r=\"14\" fill=\"#009af9\" fill-rule=\"evenodd\" fill-opacity=\"1\" stroke=\"#000000\" stroke-opacity=\"1\" stroke-width=\"3.2\"/>\n",
       "<circle clip-path=\"url(#clip802)\" cx=\"1250.95\" cy=\"936.563\" r=\"14\" fill=\"#009af9\" fill-rule=\"evenodd\" fill-opacity=\"1\" stroke=\"#000000\" stroke-opacity=\"1\" stroke-width=\"3.2\"/>\n",
       "<circle clip-path=\"url(#clip802)\" cx=\"962.217\" cy=\"936.563\" r=\"14\" fill=\"#009af9\" fill-rule=\"evenodd\" fill-opacity=\"1\" stroke=\"#000000\" stroke-opacity=\"1\" stroke-width=\"3.2\"/>\n",
       "<circle clip-path=\"url(#clip802)\" cx=\"1597.43\" cy=\"823.418\" r=\"14\" fill=\"#009af9\" fill-rule=\"evenodd\" fill-opacity=\"1\" stroke=\"#000000\" stroke-opacity=\"1\" stroke-width=\"3.2\"/>\n",
       "<circle clip-path=\"url(#clip802)\" cx=\"962.217\" cy=\"879.991\" r=\"14\" fill=\"#009af9\" fill-rule=\"evenodd\" fill-opacity=\"1\" stroke=\"#000000\" stroke-opacity=\"1\" stroke-width=\"3.2\"/>\n",
       "<circle clip-path=\"url(#clip802)\" cx=\"1077.71\" cy=\"1049.71\" r=\"14\" fill=\"#009af9\" fill-rule=\"evenodd\" fill-opacity=\"1\" stroke=\"#000000\" stroke-opacity=\"1\" stroke-width=\"3.2\"/>\n",
       "<circle clip-path=\"url(#clip802)\" cx=\"1308.7\" cy=\"1332.57\" r=\"14\" fill=\"#009af9\" fill-rule=\"evenodd\" fill-opacity=\"1\" stroke=\"#000000\" stroke-opacity=\"1\" stroke-width=\"3.2\"/>\n",
       "<circle clip-path=\"url(#clip802)\" cx=\"962.217\" cy=\"1162.85\" r=\"14\" fill=\"#009af9\" fill-rule=\"evenodd\" fill-opacity=\"1\" stroke=\"#000000\" stroke-opacity=\"1\" stroke-width=\"3.2\"/>\n",
       "<circle clip-path=\"url(#clip802)\" cx=\"1135.46\" cy=\"766.846\" r=\"14\" fill=\"#009af9\" fill-rule=\"evenodd\" fill-opacity=\"1\" stroke=\"#000000\" stroke-opacity=\"1\" stroke-width=\"3.2\"/>\n",
       "<circle clip-path=\"url(#clip802)\" cx=\"1250.95\" cy=\"993.136\" r=\"14\" fill=\"#009af9\" fill-rule=\"evenodd\" fill-opacity=\"1\" stroke=\"#000000\" stroke-opacity=\"1\" stroke-width=\"3.2\"/>\n",
       "<circle clip-path=\"url(#clip802)\" cx=\"1366.44\" cy=\"1162.85\" r=\"14\" fill=\"#009af9\" fill-rule=\"evenodd\" fill-opacity=\"1\" stroke=\"#000000\" stroke-opacity=\"1\" stroke-width=\"3.2\"/>\n",
       "<circle clip-path=\"url(#clip802)\" cx=\"1250.95\" cy=\"993.136\" r=\"14\" fill=\"#009af9\" fill-rule=\"evenodd\" fill-opacity=\"1\" stroke=\"#000000\" stroke-opacity=\"1\" stroke-width=\"3.2\"/>\n",
       "<circle clip-path=\"url(#clip802)\" cx=\"1424.19\" cy=\"936.563\" r=\"14\" fill=\"#009af9\" fill-rule=\"evenodd\" fill-opacity=\"1\" stroke=\"#000000\" stroke-opacity=\"1\" stroke-width=\"3.2\"/>\n",
       "<circle clip-path=\"url(#clip802)\" cx=\"1539.68\" cy=\"879.991\" r=\"14\" fill=\"#009af9\" fill-rule=\"evenodd\" fill-opacity=\"1\" stroke=\"#000000\" stroke-opacity=\"1\" stroke-width=\"3.2\"/>\n",
       "<circle clip-path=\"url(#clip802)\" cx=\"1655.18\" cy=\"993.136\" r=\"14\" fill=\"#009af9\" fill-rule=\"evenodd\" fill-opacity=\"1\" stroke=\"#000000\" stroke-opacity=\"1\" stroke-width=\"3.2\"/>\n",
       "<circle clip-path=\"url(#clip802)\" cx=\"1597.43\" cy=\"879.991\" r=\"14\" fill=\"#009af9\" fill-rule=\"evenodd\" fill-opacity=\"1\" stroke=\"#000000\" stroke-opacity=\"1\" stroke-width=\"3.2\"/>\n",
       "<circle clip-path=\"url(#clip802)\" cx=\"1193.2\" cy=\"936.563\" r=\"14\" fill=\"#009af9\" fill-rule=\"evenodd\" fill-opacity=\"1\" stroke=\"#000000\" stroke-opacity=\"1\" stroke-width=\"3.2\"/>\n",
       "<circle clip-path=\"url(#clip802)\" cx=\"1019.96\" cy=\"1106.28\" r=\"14\" fill=\"#009af9\" fill-rule=\"evenodd\" fill-opacity=\"1\" stroke=\"#000000\" stroke-opacity=\"1\" stroke-width=\"3.2\"/>\n",
       "<circle clip-path=\"url(#clip802)\" cx=\"904.47\" cy=\"1219.43\" r=\"14\" fill=\"#009af9\" fill-rule=\"evenodd\" fill-opacity=\"1\" stroke=\"#000000\" stroke-opacity=\"1\" stroke-width=\"3.2\"/>\n",
       "<circle clip-path=\"url(#clip802)\" cx=\"904.47\" cy=\"1219.43\" r=\"14\" fill=\"#009af9\" fill-rule=\"evenodd\" fill-opacity=\"1\" stroke=\"#000000\" stroke-opacity=\"1\" stroke-width=\"3.2\"/>\n",
       "<circle clip-path=\"url(#clip802)\" cx=\"1077.71\" cy=\"1049.71\" r=\"14\" fill=\"#009af9\" fill-rule=\"evenodd\" fill-opacity=\"1\" stroke=\"#000000\" stroke-opacity=\"1\" stroke-width=\"3.2\"/>\n",
       "<circle clip-path=\"url(#clip802)\" cx=\"1193.2\" cy=\"1049.71\" r=\"14\" fill=\"#009af9\" fill-rule=\"evenodd\" fill-opacity=\"1\" stroke=\"#000000\" stroke-opacity=\"1\" stroke-width=\"3.2\"/>\n",
       "<circle clip-path=\"url(#clip802)\" cx=\"846.724\" cy=\"879.991\" r=\"14\" fill=\"#009af9\" fill-rule=\"evenodd\" fill-opacity=\"1\" stroke=\"#000000\" stroke-opacity=\"1\" stroke-width=\"3.2\"/>\n",
       "<circle clip-path=\"url(#clip802)\" cx=\"1193.2\" cy=\"653.701\" r=\"14\" fill=\"#009af9\" fill-rule=\"evenodd\" fill-opacity=\"1\" stroke=\"#000000\" stroke-opacity=\"1\" stroke-width=\"3.2\"/>\n",
       "<circle clip-path=\"url(#clip802)\" cx=\"1597.43\" cy=\"823.418\" r=\"14\" fill=\"#009af9\" fill-rule=\"evenodd\" fill-opacity=\"1\" stroke=\"#000000\" stroke-opacity=\"1\" stroke-width=\"3.2\"/>\n",
       "<circle clip-path=\"url(#clip802)\" cx=\"1366.44\" cy=\"1276\" r=\"14\" fill=\"#009af9\" fill-rule=\"evenodd\" fill-opacity=\"1\" stroke=\"#000000\" stroke-opacity=\"1\" stroke-width=\"3.2\"/>\n",
       "<circle clip-path=\"url(#clip802)\" cx=\"962.217\" cy=\"879.991\" r=\"14\" fill=\"#009af9\" fill-rule=\"evenodd\" fill-opacity=\"1\" stroke=\"#000000\" stroke-opacity=\"1\" stroke-width=\"3.2\"/>\n",
       "<circle clip-path=\"url(#clip802)\" cx=\"904.47\" cy=\"1162.85\" r=\"14\" fill=\"#009af9\" fill-rule=\"evenodd\" fill-opacity=\"1\" stroke=\"#000000\" stroke-opacity=\"1\" stroke-width=\"3.2\"/>\n",
       "<circle clip-path=\"url(#clip802)\" cx=\"904.47\" cy=\"1106.28\" r=\"14\" fill=\"#009af9\" fill-rule=\"evenodd\" fill-opacity=\"1\" stroke=\"#000000\" stroke-opacity=\"1\" stroke-width=\"3.2\"/>\n",
       "<circle clip-path=\"url(#clip802)\" cx=\"1250.95\" cy=\"879.991\" r=\"14\" fill=\"#009af9\" fill-rule=\"evenodd\" fill-opacity=\"1\" stroke=\"#000000\" stroke-opacity=\"1\" stroke-width=\"3.2\"/>\n",
       "<circle clip-path=\"url(#clip802)\" cx=\"1077.71\" cy=\"1106.28\" r=\"14\" fill=\"#009af9\" fill-rule=\"evenodd\" fill-opacity=\"1\" stroke=\"#000000\" stroke-opacity=\"1\" stroke-width=\"3.2\"/>\n",
       "<circle clip-path=\"url(#clip802)\" cx=\"615.737\" cy=\"1276\" r=\"14\" fill=\"#009af9\" fill-rule=\"evenodd\" fill-opacity=\"1\" stroke=\"#000000\" stroke-opacity=\"1\" stroke-width=\"3.2\"/>\n",
       "<circle clip-path=\"url(#clip802)\" cx=\"962.217\" cy=\"1049.71\" r=\"14\" fill=\"#009af9\" fill-rule=\"evenodd\" fill-opacity=\"1\" stroke=\"#000000\" stroke-opacity=\"1\" stroke-width=\"3.2\"/>\n",
       "<circle clip-path=\"url(#clip802)\" cx=\"1019.96\" cy=\"879.991\" r=\"14\" fill=\"#009af9\" fill-rule=\"evenodd\" fill-opacity=\"1\" stroke=\"#000000\" stroke-opacity=\"1\" stroke-width=\"3.2\"/>\n",
       "<circle clip-path=\"url(#clip802)\" cx=\"1019.96\" cy=\"936.563\" r=\"14\" fill=\"#009af9\" fill-rule=\"evenodd\" fill-opacity=\"1\" stroke=\"#000000\" stroke-opacity=\"1\" stroke-width=\"3.2\"/>\n",
       "<circle clip-path=\"url(#clip802)\" cx=\"1308.7\" cy=\"936.563\" r=\"14\" fill=\"#009af9\" fill-rule=\"evenodd\" fill-opacity=\"1\" stroke=\"#000000\" stroke-opacity=\"1\" stroke-width=\"3.2\"/>\n",
       "<circle clip-path=\"url(#clip802)\" cx=\"673.484\" cy=\"1162.85\" r=\"14\" fill=\"#009af9\" fill-rule=\"evenodd\" fill-opacity=\"1\" stroke=\"#000000\" stroke-opacity=\"1\" stroke-width=\"3.2\"/>\n",
       "<circle clip-path=\"url(#clip802)\" cx=\"1019.96\" cy=\"993.136\" r=\"14\" fill=\"#009af9\" fill-rule=\"evenodd\" fill-opacity=\"1\" stroke=\"#000000\" stroke-opacity=\"1\" stroke-width=\"3.2\"/>\n",
       "<circle clip-path=\"url(#clip802)\" cx=\"1366.44\" cy=\"710.274\" r=\"14\" fill=\"#009af9\" fill-rule=\"evenodd\" fill-opacity=\"1\" stroke=\"#000000\" stroke-opacity=\"1\" stroke-width=\"3.2\"/>\n",
       "<circle clip-path=\"url(#clip802)\" cx=\"1077.71\" cy=\"1049.71\" r=\"14\" fill=\"#009af9\" fill-rule=\"evenodd\" fill-opacity=\"1\" stroke=\"#000000\" stroke-opacity=\"1\" stroke-width=\"3.2\"/>\n",
       "<circle clip-path=\"url(#clip802)\" cx=\"1828.42\" cy=\"879.991\" r=\"14\" fill=\"#009af9\" fill-rule=\"evenodd\" fill-opacity=\"1\" stroke=\"#000000\" stroke-opacity=\"1\" stroke-width=\"3.2\"/>\n",
       "<circle clip-path=\"url(#clip802)\" cx=\"1366.44\" cy=\"936.563\" r=\"14\" fill=\"#009af9\" fill-rule=\"evenodd\" fill-opacity=\"1\" stroke=\"#000000\" stroke-opacity=\"1\" stroke-width=\"3.2\"/>\n",
       "<circle clip-path=\"url(#clip802)\" cx=\"1481.94\" cy=\"879.991\" r=\"14\" fill=\"#009af9\" fill-rule=\"evenodd\" fill-opacity=\"1\" stroke=\"#000000\" stroke-opacity=\"1\" stroke-width=\"3.2\"/>\n",
       "<circle clip-path=\"url(#clip802)\" cx=\"2117.15\" cy=\"879.991\" r=\"14\" fill=\"#009af9\" fill-rule=\"evenodd\" fill-opacity=\"1\" stroke=\"#000000\" stroke-opacity=\"1\" stroke-width=\"3.2\"/>\n",
       "<circle clip-path=\"url(#clip802)\" cx=\"557.991\" cy=\"1162.85\" r=\"14\" fill=\"#009af9\" fill-rule=\"evenodd\" fill-opacity=\"1\" stroke=\"#000000\" stroke-opacity=\"1\" stroke-width=\"3.2\"/>\n",
       "<circle clip-path=\"url(#clip802)\" cx=\"1943.91\" cy=\"936.563\" r=\"14\" fill=\"#009af9\" fill-rule=\"evenodd\" fill-opacity=\"1\" stroke=\"#000000\" stroke-opacity=\"1\" stroke-width=\"3.2\"/>\n",
       "<circle clip-path=\"url(#clip802)\" cx=\"1597.43\" cy=\"1162.85\" r=\"14\" fill=\"#009af9\" fill-rule=\"evenodd\" fill-opacity=\"1\" stroke=\"#000000\" stroke-opacity=\"1\" stroke-width=\"3.2\"/>\n",
       "<circle clip-path=\"url(#clip802)\" cx=\"1886.16\" cy=\"540.556\" r=\"14\" fill=\"#009af9\" fill-rule=\"evenodd\" fill-opacity=\"1\" stroke=\"#000000\" stroke-opacity=\"1\" stroke-width=\"3.2\"/>\n",
       "<circle clip-path=\"url(#clip802)\" cx=\"1481.94\" cy=\"766.846\" r=\"14\" fill=\"#009af9\" fill-rule=\"evenodd\" fill-opacity=\"1\" stroke=\"#000000\" stroke-opacity=\"1\" stroke-width=\"3.2\"/>\n",
       "<circle clip-path=\"url(#clip802)\" cx=\"1424.19\" cy=\"1049.71\" r=\"14\" fill=\"#009af9\" fill-rule=\"evenodd\" fill-opacity=\"1\" stroke=\"#000000\" stroke-opacity=\"1\" stroke-width=\"3.2\"/>\n",
       "<circle clip-path=\"url(#clip802)\" cx=\"1655.18\" cy=\"879.991\" r=\"14\" fill=\"#009af9\" fill-rule=\"evenodd\" fill-opacity=\"1\" stroke=\"#000000\" stroke-opacity=\"1\" stroke-width=\"3.2\"/>\n",
       "<circle clip-path=\"url(#clip802)\" cx=\"1019.96\" cy=\"1162.85\" r=\"14\" fill=\"#009af9\" fill-rule=\"evenodd\" fill-opacity=\"1\" stroke=\"#000000\" stroke-opacity=\"1\" stroke-width=\"3.2\"/>\n",
       "<circle clip-path=\"url(#clip802)\" cx=\"1077.71\" cy=\"993.136\" r=\"14\" fill=\"#009af9\" fill-rule=\"evenodd\" fill-opacity=\"1\" stroke=\"#000000\" stroke-opacity=\"1\" stroke-width=\"3.2\"/>\n",
       "<circle clip-path=\"url(#clip802)\" cx=\"1424.19\" cy=\"766.846\" r=\"14\" fill=\"#009af9\" fill-rule=\"evenodd\" fill-opacity=\"1\" stroke=\"#000000\" stroke-opacity=\"1\" stroke-width=\"3.2\"/>\n",
       "<circle clip-path=\"url(#clip802)\" cx=\"1481.94\" cy=\"879.991\" r=\"14\" fill=\"#009af9\" fill-rule=\"evenodd\" fill-opacity=\"1\" stroke=\"#000000\" stroke-opacity=\"1\" stroke-width=\"3.2\"/>\n",
       "<circle clip-path=\"url(#clip802)\" cx=\"2174.9\" cy=\"427.411\" r=\"14\" fill=\"#009af9\" fill-rule=\"evenodd\" fill-opacity=\"1\" stroke=\"#000000\" stroke-opacity=\"1\" stroke-width=\"3.2\"/>\n",
       "<circle clip-path=\"url(#clip802)\" cx=\"2174.9\" cy=\"1106.28\" r=\"14\" fill=\"#009af9\" fill-rule=\"evenodd\" fill-opacity=\"1\" stroke=\"#000000\" stroke-opacity=\"1\" stroke-width=\"3.2\"/>\n",
       "<circle clip-path=\"url(#clip802)\" cx=\"1193.2\" cy=\"1332.57\" r=\"14\" fill=\"#009af9\" fill-rule=\"evenodd\" fill-opacity=\"1\" stroke=\"#000000\" stroke-opacity=\"1\" stroke-width=\"3.2\"/>\n",
       "<circle clip-path=\"url(#clip802)\" cx=\"1712.92\" cy=\"766.846\" r=\"14\" fill=\"#009af9\" fill-rule=\"evenodd\" fill-opacity=\"1\" stroke=\"#000000\" stroke-opacity=\"1\" stroke-width=\"3.2\"/>\n",
       "<circle clip-path=\"url(#clip802)\" cx=\"962.217\" cy=\"993.136\" r=\"14\" fill=\"#009af9\" fill-rule=\"evenodd\" fill-opacity=\"1\" stroke=\"#000000\" stroke-opacity=\"1\" stroke-width=\"3.2\"/>\n",
       "<circle clip-path=\"url(#clip802)\" cx=\"2174.9\" cy=\"993.136\" r=\"14\" fill=\"#009af9\" fill-rule=\"evenodd\" fill-opacity=\"1\" stroke=\"#000000\" stroke-opacity=\"1\" stroke-width=\"3.2\"/>\n",
       "<circle clip-path=\"url(#clip802)\" cx=\"1366.44\" cy=\"1049.71\" r=\"14\" fill=\"#009af9\" fill-rule=\"evenodd\" fill-opacity=\"1\" stroke=\"#000000\" stroke-opacity=\"1\" stroke-width=\"3.2\"/>\n",
       "<circle clip-path=\"url(#clip802)\" cx=\"1597.43\" cy=\"710.274\" r=\"14\" fill=\"#009af9\" fill-rule=\"evenodd\" fill-opacity=\"1\" stroke=\"#000000\" stroke-opacity=\"1\" stroke-width=\"3.2\"/>\n",
       "<circle clip-path=\"url(#clip802)\" cx=\"1886.16\" cy=\"766.846\" r=\"14\" fill=\"#009af9\" fill-rule=\"evenodd\" fill-opacity=\"1\" stroke=\"#000000\" stroke-opacity=\"1\" stroke-width=\"3.2\"/>\n",
       "<circle clip-path=\"url(#clip802)\" cx=\"1308.7\" cy=\"993.136\" r=\"14\" fill=\"#009af9\" fill-rule=\"evenodd\" fill-opacity=\"1\" stroke=\"#000000\" stroke-opacity=\"1\" stroke-width=\"3.2\"/>\n",
       "<circle clip-path=\"url(#clip802)\" cx=\"1250.95\" cy=\"879.991\" r=\"14\" fill=\"#009af9\" fill-rule=\"evenodd\" fill-opacity=\"1\" stroke=\"#000000\" stroke-opacity=\"1\" stroke-width=\"3.2\"/>\n",
       "<circle clip-path=\"url(#clip802)\" cx=\"1424.19\" cy=\"993.136\" r=\"14\" fill=\"#009af9\" fill-rule=\"evenodd\" fill-opacity=\"1\" stroke=\"#000000\" stroke-opacity=\"1\" stroke-width=\"3.2\"/>\n",
       "<circle clip-path=\"url(#clip802)\" cx=\"1886.16\" cy=\"879.991\" r=\"14\" fill=\"#009af9\" fill-rule=\"evenodd\" fill-opacity=\"1\" stroke=\"#000000\" stroke-opacity=\"1\" stroke-width=\"3.2\"/>\n",
       "<circle clip-path=\"url(#clip802)\" cx=\"2001.66\" cy=\"993.136\" r=\"14\" fill=\"#009af9\" fill-rule=\"evenodd\" fill-opacity=\"1\" stroke=\"#000000\" stroke-opacity=\"1\" stroke-width=\"3.2\"/>\n",
       "<circle clip-path=\"url(#clip802)\" cx=\"2290.39\" cy=\"427.411\" r=\"14\" fill=\"#009af9\" fill-rule=\"evenodd\" fill-opacity=\"1\" stroke=\"#000000\" stroke-opacity=\"1\" stroke-width=\"3.2\"/>\n",
       "<circle clip-path=\"url(#clip802)\" cx=\"1424.19\" cy=\"993.136\" r=\"14\" fill=\"#009af9\" fill-rule=\"evenodd\" fill-opacity=\"1\" stroke=\"#000000\" stroke-opacity=\"1\" stroke-width=\"3.2\"/>\n",
       "<circle clip-path=\"url(#clip802)\" cx=\"1366.44\" cy=\"993.136\" r=\"14\" fill=\"#009af9\" fill-rule=\"evenodd\" fill-opacity=\"1\" stroke=\"#000000\" stroke-opacity=\"1\" stroke-width=\"3.2\"/>\n",
       "<circle clip-path=\"url(#clip802)\" cx=\"1250.95\" cy=\"1106.28\" r=\"14\" fill=\"#009af9\" fill-rule=\"evenodd\" fill-opacity=\"1\" stroke=\"#000000\" stroke-opacity=\"1\" stroke-width=\"3.2\"/>\n",
       "<circle clip-path=\"url(#clip802)\" cx=\"2174.9\" cy=\"879.991\" r=\"14\" fill=\"#009af9\" fill-rule=\"evenodd\" fill-opacity=\"1\" stroke=\"#000000\" stroke-opacity=\"1\" stroke-width=\"3.2\"/>\n",
       "<circle clip-path=\"url(#clip802)\" cx=\"1366.44\" cy=\"653.701\" r=\"14\" fill=\"#009af9\" fill-rule=\"evenodd\" fill-opacity=\"1\" stroke=\"#000000\" stroke-opacity=\"1\" stroke-width=\"3.2\"/>\n",
       "<circle clip-path=\"url(#clip802)\" cx=\"1424.19\" cy=\"823.418\" r=\"14\" fill=\"#009af9\" fill-rule=\"evenodd\" fill-opacity=\"1\" stroke=\"#000000\" stroke-opacity=\"1\" stroke-width=\"3.2\"/>\n",
       "<circle clip-path=\"url(#clip802)\" cx=\"1193.2\" cy=\"879.991\" r=\"14\" fill=\"#009af9\" fill-rule=\"evenodd\" fill-opacity=\"1\" stroke=\"#000000\" stroke-opacity=\"1\" stroke-width=\"3.2\"/>\n",
       "<circle clip-path=\"url(#clip802)\" cx=\"1712.92\" cy=\"823.418\" r=\"14\" fill=\"#009af9\" fill-rule=\"evenodd\" fill-opacity=\"1\" stroke=\"#000000\" stroke-opacity=\"1\" stroke-width=\"3.2\"/>\n",
       "<circle clip-path=\"url(#clip802)\" cx=\"1597.43\" cy=\"823.418\" r=\"14\" fill=\"#009af9\" fill-rule=\"evenodd\" fill-opacity=\"1\" stroke=\"#000000\" stroke-opacity=\"1\" stroke-width=\"3.2\"/>\n",
       "<circle clip-path=\"url(#clip802)\" cx=\"1712.92\" cy=\"823.418\" r=\"14\" fill=\"#009af9\" fill-rule=\"evenodd\" fill-opacity=\"1\" stroke=\"#000000\" stroke-opacity=\"1\" stroke-width=\"3.2\"/>\n",
       "<circle clip-path=\"url(#clip802)\" cx=\"1077.71\" cy=\"1049.71\" r=\"14\" fill=\"#009af9\" fill-rule=\"evenodd\" fill-opacity=\"1\" stroke=\"#000000\" stroke-opacity=\"1\" stroke-width=\"3.2\"/>\n",
       "<circle clip-path=\"url(#clip802)\" cx=\"1655.18\" cy=\"766.846\" r=\"14\" fill=\"#009af9\" fill-rule=\"evenodd\" fill-opacity=\"1\" stroke=\"#000000\" stroke-opacity=\"1\" stroke-width=\"3.2\"/>\n",
       "<circle clip-path=\"url(#clip802)\" cx=\"1597.43\" cy=\"710.274\" r=\"14\" fill=\"#009af9\" fill-rule=\"evenodd\" fill-opacity=\"1\" stroke=\"#000000\" stroke-opacity=\"1\" stroke-width=\"3.2\"/>\n",
       "<circle clip-path=\"url(#clip802)\" cx=\"1597.43\" cy=\"879.991\" r=\"14\" fill=\"#009af9\" fill-rule=\"evenodd\" fill-opacity=\"1\" stroke=\"#000000\" stroke-opacity=\"1\" stroke-width=\"3.2\"/>\n",
       "<circle clip-path=\"url(#clip802)\" cx=\"1366.44\" cy=\"1162.85\" r=\"14\" fill=\"#009af9\" fill-rule=\"evenodd\" fill-opacity=\"1\" stroke=\"#000000\" stroke-opacity=\"1\" stroke-width=\"3.2\"/>\n",
       "<circle clip-path=\"url(#clip802)\" cx=\"1481.94\" cy=\"879.991\" r=\"14\" fill=\"#009af9\" fill-rule=\"evenodd\" fill-opacity=\"1\" stroke=\"#000000\" stroke-opacity=\"1\" stroke-width=\"3.2\"/>\n",
       "<circle clip-path=\"url(#clip802)\" cx=\"1308.7\" cy=\"653.701\" r=\"14\" fill=\"#009af9\" fill-rule=\"evenodd\" fill-opacity=\"1\" stroke=\"#000000\" stroke-opacity=\"1\" stroke-width=\"3.2\"/>\n",
       "<circle clip-path=\"url(#clip802)\" cx=\"1135.46\" cy=\"879.991\" r=\"14\" fill=\"#009af9\" fill-rule=\"evenodd\" fill-opacity=\"1\" stroke=\"#000000\" stroke-opacity=\"1\" stroke-width=\"3.2\"/>\n",
       "<path clip-path=\"url(#clip800)\" d=\"\n",
       "M1983.44 216.178 L2279.3 216.178 L2279.3 95.2176 L1983.44 95.2176  Z\n",
       "  \" fill=\"#ffffff\" fill-rule=\"evenodd\" fill-opacity=\"1\"/>\n",
       "<polyline clip-path=\"url(#clip800)\" style=\"stroke:#000000; stroke-width:4; stroke-opacity:1; fill:none\" points=\"\n",
       "  1983.44,216.178 2279.3,216.178 2279.3,95.2176 1983.44,95.2176 1983.44,216.178 \n",
       "  \"/>\n",
       "<circle clip-path=\"url(#clip800)\" cx=\"2081.38\" cy=\"155.698\" r=\"23\" fill=\"#009af9\" fill-rule=\"evenodd\" fill-opacity=\"1\" stroke=\"#000000\" stroke-opacity=\"1\" stroke-width=\"5.12\"/>\n",
       "<circle clip-path=\"url(#clip800)\" cx=\"2081.38\" cy=\"155.698\" r=\"23\" fill=\"#009af9\" fill-rule=\"evenodd\" fill-opacity=\"1\" stroke=\"#000000\" stroke-opacity=\"1\" stroke-width=\"5.12\"/>\n",
       "<circle clip-path=\"url(#clip800)\" cx=\"2081.38\" cy=\"155.698\" r=\"23\" fill=\"#009af9\" fill-rule=\"evenodd\" fill-opacity=\"1\" stroke=\"#000000\" stroke-opacity=\"1\" stroke-width=\"5.12\"/>\n",
       "<circle clip-path=\"url(#clip800)\" cx=\"2081.38\" cy=\"155.698\" r=\"23\" fill=\"#009af9\" fill-rule=\"evenodd\" fill-opacity=\"1\" stroke=\"#000000\" stroke-opacity=\"1\" stroke-width=\"5.12\"/>\n",
       "<circle clip-path=\"url(#clip800)\" cx=\"2081.38\" cy=\"155.698\" r=\"23\" fill=\"#009af9\" fill-rule=\"evenodd\" fill-opacity=\"1\" stroke=\"#000000\" stroke-opacity=\"1\" stroke-width=\"5.12\"/>\n",
       "<circle clip-path=\"url(#clip800)\" cx=\"2081.38\" cy=\"155.698\" r=\"23\" fill=\"#009af9\" fill-rule=\"evenodd\" fill-opacity=\"1\" stroke=\"#000000\" stroke-opacity=\"1\" stroke-width=\"5.12\"/>\n",
       "<circle clip-path=\"url(#clip800)\" cx=\"2081.38\" cy=\"155.698\" r=\"23\" fill=\"#009af9\" fill-rule=\"evenodd\" fill-opacity=\"1\" stroke=\"#000000\" stroke-opacity=\"1\" stroke-width=\"5.12\"/>\n",
       "<circle clip-path=\"url(#clip800)\" cx=\"2081.38\" cy=\"155.698\" r=\"23\" fill=\"#009af9\" fill-rule=\"evenodd\" fill-opacity=\"1\" stroke=\"#000000\" stroke-opacity=\"1\" stroke-width=\"5.12\"/>\n",
       "<circle clip-path=\"url(#clip800)\" cx=\"2081.38\" cy=\"155.698\" r=\"23\" fill=\"#009af9\" fill-rule=\"evenodd\" fill-opacity=\"1\" stroke=\"#000000\" stroke-opacity=\"1\" stroke-width=\"5.12\"/>\n",
       "<circle clip-path=\"url(#clip800)\" cx=\"2081.38\" cy=\"155.698\" r=\"23\" fill=\"#009af9\" fill-rule=\"evenodd\" fill-opacity=\"1\" stroke=\"#000000\" stroke-opacity=\"1\" stroke-width=\"5.12\"/>\n",
       "<circle clip-path=\"url(#clip800)\" cx=\"2081.38\" cy=\"155.698\" r=\"23\" fill=\"#009af9\" fill-rule=\"evenodd\" fill-opacity=\"1\" stroke=\"#000000\" stroke-opacity=\"1\" stroke-width=\"5.12\"/>\n",
       "<circle clip-path=\"url(#clip800)\" cx=\"2081.38\" cy=\"155.698\" r=\"23\" fill=\"#009af9\" fill-rule=\"evenodd\" fill-opacity=\"1\" stroke=\"#000000\" stroke-opacity=\"1\" stroke-width=\"5.12\"/>\n",
       "<circle clip-path=\"url(#clip800)\" cx=\"2081.38\" cy=\"155.698\" r=\"23\" fill=\"#009af9\" fill-rule=\"evenodd\" fill-opacity=\"1\" stroke=\"#000000\" stroke-opacity=\"1\" stroke-width=\"5.12\"/>\n",
       "<circle clip-path=\"url(#clip800)\" cx=\"2081.38\" cy=\"155.698\" r=\"23\" fill=\"#009af9\" fill-rule=\"evenodd\" fill-opacity=\"1\" stroke=\"#000000\" stroke-opacity=\"1\" stroke-width=\"5.12\"/>\n",
       "<circle clip-path=\"url(#clip800)\" cx=\"2081.38\" cy=\"155.698\" r=\"23\" fill=\"#009af9\" fill-rule=\"evenodd\" fill-opacity=\"1\" stroke=\"#000000\" stroke-opacity=\"1\" stroke-width=\"5.12\"/>\n",
       "<circle clip-path=\"url(#clip800)\" cx=\"2081.38\" cy=\"155.698\" r=\"23\" fill=\"#009af9\" fill-rule=\"evenodd\" fill-opacity=\"1\" stroke=\"#000000\" stroke-opacity=\"1\" stroke-width=\"5.12\"/>\n",
       "<circle clip-path=\"url(#clip800)\" cx=\"2081.38\" cy=\"155.698\" r=\"23\" fill=\"#009af9\" fill-rule=\"evenodd\" fill-opacity=\"1\" stroke=\"#000000\" stroke-opacity=\"1\" stroke-width=\"5.12\"/>\n",
       "<circle clip-path=\"url(#clip800)\" cx=\"2081.38\" cy=\"155.698\" r=\"23\" fill=\"#009af9\" fill-rule=\"evenodd\" fill-opacity=\"1\" stroke=\"#000000\" stroke-opacity=\"1\" stroke-width=\"5.12\"/>\n",
       "<circle clip-path=\"url(#clip800)\" cx=\"2081.38\" cy=\"155.698\" r=\"23\" fill=\"#009af9\" fill-rule=\"evenodd\" fill-opacity=\"1\" stroke=\"#000000\" stroke-opacity=\"1\" stroke-width=\"5.12\"/>\n",
       "<circle clip-path=\"url(#clip800)\" cx=\"2081.38\" cy=\"155.698\" r=\"23\" fill=\"#009af9\" fill-rule=\"evenodd\" fill-opacity=\"1\" stroke=\"#000000\" stroke-opacity=\"1\" stroke-width=\"5.12\"/>\n",
       "<circle clip-path=\"url(#clip800)\" cx=\"2081.38\" cy=\"155.698\" r=\"23\" fill=\"#009af9\" fill-rule=\"evenodd\" fill-opacity=\"1\" stroke=\"#000000\" stroke-opacity=\"1\" stroke-width=\"5.12\"/>\n",
       "<circle clip-path=\"url(#clip800)\" cx=\"2081.38\" cy=\"155.698\" r=\"23\" fill=\"#009af9\" fill-rule=\"evenodd\" fill-opacity=\"1\" stroke=\"#000000\" stroke-opacity=\"1\" stroke-width=\"5.12\"/>\n",
       "<circle clip-path=\"url(#clip800)\" cx=\"2081.38\" cy=\"155.698\" r=\"23\" fill=\"#009af9\" fill-rule=\"evenodd\" fill-opacity=\"1\" stroke=\"#000000\" stroke-opacity=\"1\" stroke-width=\"5.12\"/>\n",
       "<circle clip-path=\"url(#clip800)\" cx=\"2081.38\" cy=\"155.698\" r=\"23\" fill=\"#009af9\" fill-rule=\"evenodd\" fill-opacity=\"1\" stroke=\"#000000\" stroke-opacity=\"1\" stroke-width=\"5.12\"/>\n",
       "<circle clip-path=\"url(#clip800)\" cx=\"2081.38\" cy=\"155.698\" r=\"23\" fill=\"#009af9\" fill-rule=\"evenodd\" fill-opacity=\"1\" stroke=\"#000000\" stroke-opacity=\"1\" stroke-width=\"5.12\"/>\n",
       "<circle clip-path=\"url(#clip800)\" cx=\"2081.38\" cy=\"155.698\" r=\"23\" fill=\"#009af9\" fill-rule=\"evenodd\" fill-opacity=\"1\" stroke=\"#000000\" stroke-opacity=\"1\" stroke-width=\"5.12\"/>\n",
       "<circle clip-path=\"url(#clip800)\" cx=\"2081.38\" cy=\"155.698\" r=\"23\" fill=\"#009af9\" fill-rule=\"evenodd\" fill-opacity=\"1\" stroke=\"#000000\" stroke-opacity=\"1\" stroke-width=\"5.12\"/>\n",
       "<circle clip-path=\"url(#clip800)\" cx=\"2081.38\" cy=\"155.698\" r=\"23\" fill=\"#009af9\" fill-rule=\"evenodd\" fill-opacity=\"1\" stroke=\"#000000\" stroke-opacity=\"1\" stroke-width=\"5.12\"/>\n",
       "<circle clip-path=\"url(#clip800)\" cx=\"2081.38\" cy=\"155.698\" r=\"23\" fill=\"#009af9\" fill-rule=\"evenodd\" fill-opacity=\"1\" stroke=\"#000000\" stroke-opacity=\"1\" stroke-width=\"5.12\"/>\n",
       "<circle clip-path=\"url(#clip800)\" cx=\"2081.38\" cy=\"155.698\" r=\"23\" fill=\"#009af9\" fill-rule=\"evenodd\" fill-opacity=\"1\" stroke=\"#000000\" stroke-opacity=\"1\" stroke-width=\"5.12\"/>\n",
       "<circle clip-path=\"url(#clip800)\" cx=\"2081.38\" cy=\"155.698\" r=\"23\" fill=\"#009af9\" fill-rule=\"evenodd\" fill-opacity=\"1\" stroke=\"#000000\" stroke-opacity=\"1\" stroke-width=\"5.12\"/>\n",
       "<circle clip-path=\"url(#clip800)\" cx=\"2081.38\" cy=\"155.698\" r=\"23\" fill=\"#009af9\" fill-rule=\"evenodd\" fill-opacity=\"1\" stroke=\"#000000\" stroke-opacity=\"1\" stroke-width=\"5.12\"/>\n",
       "<circle clip-path=\"url(#clip800)\" cx=\"2081.38\" cy=\"155.698\" r=\"23\" fill=\"#009af9\" fill-rule=\"evenodd\" fill-opacity=\"1\" stroke=\"#000000\" stroke-opacity=\"1\" stroke-width=\"5.12\"/>\n",
       "<circle clip-path=\"url(#clip800)\" cx=\"2081.38\" cy=\"155.698\" r=\"23\" fill=\"#009af9\" fill-rule=\"evenodd\" fill-opacity=\"1\" stroke=\"#000000\" stroke-opacity=\"1\" stroke-width=\"5.12\"/>\n",
       "<circle clip-path=\"url(#clip800)\" cx=\"2081.38\" cy=\"155.698\" r=\"23\" fill=\"#009af9\" fill-rule=\"evenodd\" fill-opacity=\"1\" stroke=\"#000000\" stroke-opacity=\"1\" stroke-width=\"5.12\"/>\n",
       "<circle clip-path=\"url(#clip800)\" cx=\"2081.38\" cy=\"155.698\" r=\"23\" fill=\"#009af9\" fill-rule=\"evenodd\" fill-opacity=\"1\" stroke=\"#000000\" stroke-opacity=\"1\" stroke-width=\"5.12\"/>\n",
       "<circle clip-path=\"url(#clip800)\" cx=\"2081.38\" cy=\"155.698\" r=\"23\" fill=\"#009af9\" fill-rule=\"evenodd\" fill-opacity=\"1\" stroke=\"#000000\" stroke-opacity=\"1\" stroke-width=\"5.12\"/>\n",
       "<circle clip-path=\"url(#clip800)\" cx=\"2081.38\" cy=\"155.698\" r=\"23\" fill=\"#009af9\" fill-rule=\"evenodd\" fill-opacity=\"1\" stroke=\"#000000\" stroke-opacity=\"1\" stroke-width=\"5.12\"/>\n",
       "<circle clip-path=\"url(#clip800)\" cx=\"2081.38\" cy=\"155.698\" r=\"23\" fill=\"#009af9\" fill-rule=\"evenodd\" fill-opacity=\"1\" stroke=\"#000000\" stroke-opacity=\"1\" stroke-width=\"5.12\"/>\n",
       "<circle clip-path=\"url(#clip800)\" cx=\"2081.38\" cy=\"155.698\" r=\"23\" fill=\"#009af9\" fill-rule=\"evenodd\" fill-opacity=\"1\" stroke=\"#000000\" stroke-opacity=\"1\" stroke-width=\"5.12\"/>\n",
       "<circle clip-path=\"url(#clip800)\" cx=\"2081.38\" cy=\"155.698\" r=\"23\" fill=\"#009af9\" fill-rule=\"evenodd\" fill-opacity=\"1\" stroke=\"#000000\" stroke-opacity=\"1\" stroke-width=\"5.12\"/>\n",
       "<circle clip-path=\"url(#clip800)\" cx=\"2081.38\" cy=\"155.698\" r=\"23\" fill=\"#009af9\" fill-rule=\"evenodd\" fill-opacity=\"1\" stroke=\"#000000\" stroke-opacity=\"1\" stroke-width=\"5.12\"/>\n",
       "<circle clip-path=\"url(#clip800)\" cx=\"2081.38\" cy=\"155.698\" r=\"23\" fill=\"#009af9\" fill-rule=\"evenodd\" fill-opacity=\"1\" stroke=\"#000000\" stroke-opacity=\"1\" stroke-width=\"5.12\"/>\n",
       "<circle clip-path=\"url(#clip800)\" cx=\"2081.38\" cy=\"155.698\" r=\"23\" fill=\"#009af9\" fill-rule=\"evenodd\" fill-opacity=\"1\" stroke=\"#000000\" stroke-opacity=\"1\" stroke-width=\"5.12\"/>\n",
       "<circle clip-path=\"url(#clip800)\" cx=\"2081.38\" cy=\"155.698\" r=\"23\" fill=\"#009af9\" fill-rule=\"evenodd\" fill-opacity=\"1\" stroke=\"#000000\" stroke-opacity=\"1\" stroke-width=\"5.12\"/>\n",
       "<circle clip-path=\"url(#clip800)\" cx=\"2081.38\" cy=\"155.698\" r=\"23\" fill=\"#009af9\" fill-rule=\"evenodd\" fill-opacity=\"1\" stroke=\"#000000\" stroke-opacity=\"1\" stroke-width=\"5.12\"/>\n",
       "<circle clip-path=\"url(#clip800)\" cx=\"2081.38\" cy=\"155.698\" r=\"23\" fill=\"#009af9\" fill-rule=\"evenodd\" fill-opacity=\"1\" stroke=\"#000000\" stroke-opacity=\"1\" stroke-width=\"5.12\"/>\n",
       "<circle clip-path=\"url(#clip800)\" cx=\"2081.38\" cy=\"155.698\" r=\"23\" fill=\"#009af9\" fill-rule=\"evenodd\" fill-opacity=\"1\" stroke=\"#000000\" stroke-opacity=\"1\" stroke-width=\"5.12\"/>\n",
       "<circle clip-path=\"url(#clip800)\" cx=\"2081.38\" cy=\"155.698\" r=\"23\" fill=\"#009af9\" fill-rule=\"evenodd\" fill-opacity=\"1\" stroke=\"#000000\" stroke-opacity=\"1\" stroke-width=\"5.12\"/>\n",
       "<circle clip-path=\"url(#clip800)\" cx=\"2081.38\" cy=\"155.698\" r=\"23\" fill=\"#009af9\" fill-rule=\"evenodd\" fill-opacity=\"1\" stroke=\"#000000\" stroke-opacity=\"1\" stroke-width=\"5.12\"/>\n",
       "<circle clip-path=\"url(#clip800)\" cx=\"2081.38\" cy=\"155.698\" r=\"23\" fill=\"#009af9\" fill-rule=\"evenodd\" fill-opacity=\"1\" stroke=\"#000000\" stroke-opacity=\"1\" stroke-width=\"5.12\"/>\n",
       "<circle clip-path=\"url(#clip800)\" cx=\"2081.38\" cy=\"155.698\" r=\"23\" fill=\"#009af9\" fill-rule=\"evenodd\" fill-opacity=\"1\" stroke=\"#000000\" stroke-opacity=\"1\" stroke-width=\"5.12\"/>\n",
       "<circle clip-path=\"url(#clip800)\" cx=\"2081.38\" cy=\"155.698\" r=\"23\" fill=\"#009af9\" fill-rule=\"evenodd\" fill-opacity=\"1\" stroke=\"#000000\" stroke-opacity=\"1\" stroke-width=\"5.12\"/>\n",
       "<circle clip-path=\"url(#clip800)\" cx=\"2081.38\" cy=\"155.698\" r=\"23\" fill=\"#009af9\" fill-rule=\"evenodd\" fill-opacity=\"1\" stroke=\"#000000\" stroke-opacity=\"1\" stroke-width=\"5.12\"/>\n",
       "<circle clip-path=\"url(#clip800)\" cx=\"2081.38\" cy=\"155.698\" r=\"23\" fill=\"#009af9\" fill-rule=\"evenodd\" fill-opacity=\"1\" stroke=\"#000000\" stroke-opacity=\"1\" stroke-width=\"5.12\"/>\n",
       "<circle clip-path=\"url(#clip800)\" cx=\"2081.38\" cy=\"155.698\" r=\"23\" fill=\"#009af9\" fill-rule=\"evenodd\" fill-opacity=\"1\" stroke=\"#000000\" stroke-opacity=\"1\" stroke-width=\"5.12\"/>\n",
       "<circle clip-path=\"url(#clip800)\" cx=\"2081.38\" cy=\"155.698\" r=\"23\" fill=\"#009af9\" fill-rule=\"evenodd\" fill-opacity=\"1\" stroke=\"#000000\" stroke-opacity=\"1\" stroke-width=\"5.12\"/>\n",
       "<circle clip-path=\"url(#clip800)\" cx=\"2081.38\" cy=\"155.698\" r=\"23\" fill=\"#009af9\" fill-rule=\"evenodd\" fill-opacity=\"1\" stroke=\"#000000\" stroke-opacity=\"1\" stroke-width=\"5.12\"/>\n",
       "<circle clip-path=\"url(#clip800)\" cx=\"2081.38\" cy=\"155.698\" r=\"23\" fill=\"#009af9\" fill-rule=\"evenodd\" fill-opacity=\"1\" stroke=\"#000000\" stroke-opacity=\"1\" stroke-width=\"5.12\"/>\n",
       "<circle clip-path=\"url(#clip800)\" cx=\"2081.38\" cy=\"155.698\" r=\"23\" fill=\"#009af9\" fill-rule=\"evenodd\" fill-opacity=\"1\" stroke=\"#000000\" stroke-opacity=\"1\" stroke-width=\"5.12\"/>\n",
       "<circle clip-path=\"url(#clip800)\" cx=\"2081.38\" cy=\"155.698\" r=\"23\" fill=\"#009af9\" fill-rule=\"evenodd\" fill-opacity=\"1\" stroke=\"#000000\" stroke-opacity=\"1\" stroke-width=\"5.12\"/>\n",
       "<circle clip-path=\"url(#clip800)\" cx=\"2081.38\" cy=\"155.698\" r=\"23\" fill=\"#009af9\" fill-rule=\"evenodd\" fill-opacity=\"1\" stroke=\"#000000\" stroke-opacity=\"1\" stroke-width=\"5.12\"/>\n",
       "<circle clip-path=\"url(#clip800)\" cx=\"2081.38\" cy=\"155.698\" r=\"23\" fill=\"#009af9\" fill-rule=\"evenodd\" fill-opacity=\"1\" stroke=\"#000000\" stroke-opacity=\"1\" stroke-width=\"5.12\"/>\n",
       "<circle clip-path=\"url(#clip800)\" cx=\"2081.38\" cy=\"155.698\" r=\"23\" fill=\"#009af9\" fill-rule=\"evenodd\" fill-opacity=\"1\" stroke=\"#000000\" stroke-opacity=\"1\" stroke-width=\"5.12\"/>\n",
       "<circle clip-path=\"url(#clip800)\" cx=\"2081.38\" cy=\"155.698\" r=\"23\" fill=\"#009af9\" fill-rule=\"evenodd\" fill-opacity=\"1\" stroke=\"#000000\" stroke-opacity=\"1\" stroke-width=\"5.12\"/>\n",
       "<circle clip-path=\"url(#clip800)\" cx=\"2081.38\" cy=\"155.698\" r=\"23\" fill=\"#009af9\" fill-rule=\"evenodd\" fill-opacity=\"1\" stroke=\"#000000\" stroke-opacity=\"1\" stroke-width=\"5.12\"/>\n",
       "<circle clip-path=\"url(#clip800)\" cx=\"2081.38\" cy=\"155.698\" r=\"23\" fill=\"#009af9\" fill-rule=\"evenodd\" fill-opacity=\"1\" stroke=\"#000000\" stroke-opacity=\"1\" stroke-width=\"5.12\"/>\n",
       "<circle clip-path=\"url(#clip800)\" cx=\"2081.38\" cy=\"155.698\" r=\"23\" fill=\"#009af9\" fill-rule=\"evenodd\" fill-opacity=\"1\" stroke=\"#000000\" stroke-opacity=\"1\" stroke-width=\"5.12\"/>\n",
       "<circle clip-path=\"url(#clip800)\" cx=\"2081.38\" cy=\"155.698\" r=\"23\" fill=\"#009af9\" fill-rule=\"evenodd\" fill-opacity=\"1\" stroke=\"#000000\" stroke-opacity=\"1\" stroke-width=\"5.12\"/>\n",
       "<circle clip-path=\"url(#clip800)\" cx=\"2081.38\" cy=\"155.698\" r=\"23\" fill=\"#009af9\" fill-rule=\"evenodd\" fill-opacity=\"1\" stroke=\"#000000\" stroke-opacity=\"1\" stroke-width=\"5.12\"/>\n",
       "<circle clip-path=\"url(#clip800)\" cx=\"2081.38\" cy=\"155.698\" r=\"23\" fill=\"#009af9\" fill-rule=\"evenodd\" fill-opacity=\"1\" stroke=\"#000000\" stroke-opacity=\"1\" stroke-width=\"5.12\"/>\n",
       "<circle clip-path=\"url(#clip800)\" cx=\"2081.38\" cy=\"155.698\" r=\"23\" fill=\"#009af9\" fill-rule=\"evenodd\" fill-opacity=\"1\" stroke=\"#000000\" stroke-opacity=\"1\" stroke-width=\"5.12\"/>\n",
       "<circle clip-path=\"url(#clip800)\" cx=\"2081.38\" cy=\"155.698\" r=\"23\" fill=\"#009af9\" fill-rule=\"evenodd\" fill-opacity=\"1\" stroke=\"#000000\" stroke-opacity=\"1\" stroke-width=\"5.12\"/>\n",
       "<circle clip-path=\"url(#clip800)\" cx=\"2081.38\" cy=\"155.698\" r=\"23\" fill=\"#009af9\" fill-rule=\"evenodd\" fill-opacity=\"1\" stroke=\"#000000\" stroke-opacity=\"1\" stroke-width=\"5.12\"/>\n",
       "<circle clip-path=\"url(#clip800)\" cx=\"2081.38\" cy=\"155.698\" r=\"23\" fill=\"#009af9\" fill-rule=\"evenodd\" fill-opacity=\"1\" stroke=\"#000000\" stroke-opacity=\"1\" stroke-width=\"5.12\"/>\n",
       "<circle clip-path=\"url(#clip800)\" cx=\"2081.38\" cy=\"155.698\" r=\"23\" fill=\"#009af9\" fill-rule=\"evenodd\" fill-opacity=\"1\" stroke=\"#000000\" stroke-opacity=\"1\" stroke-width=\"5.12\"/>\n",
       "<circle clip-path=\"url(#clip800)\" cx=\"2081.38\" cy=\"155.698\" r=\"23\" fill=\"#009af9\" fill-rule=\"evenodd\" fill-opacity=\"1\" stroke=\"#000000\" stroke-opacity=\"1\" stroke-width=\"5.12\"/>\n",
       "<circle clip-path=\"url(#clip800)\" cx=\"2081.38\" cy=\"155.698\" r=\"23\" fill=\"#009af9\" fill-rule=\"evenodd\" fill-opacity=\"1\" stroke=\"#000000\" stroke-opacity=\"1\" stroke-width=\"5.12\"/>\n",
       "<circle clip-path=\"url(#clip800)\" cx=\"2081.38\" cy=\"155.698\" r=\"23\" fill=\"#009af9\" fill-rule=\"evenodd\" fill-opacity=\"1\" stroke=\"#000000\" stroke-opacity=\"1\" stroke-width=\"5.12\"/>\n",
       "<circle clip-path=\"url(#clip800)\" cx=\"2081.38\" cy=\"155.698\" r=\"23\" fill=\"#009af9\" fill-rule=\"evenodd\" fill-opacity=\"1\" stroke=\"#000000\" stroke-opacity=\"1\" stroke-width=\"5.12\"/>\n",
       "<circle clip-path=\"url(#clip800)\" cx=\"2081.38\" cy=\"155.698\" r=\"23\" fill=\"#009af9\" fill-rule=\"evenodd\" fill-opacity=\"1\" stroke=\"#000000\" stroke-opacity=\"1\" stroke-width=\"5.12\"/>\n",
       "<circle clip-path=\"url(#clip800)\" cx=\"2081.38\" cy=\"155.698\" r=\"23\" fill=\"#009af9\" fill-rule=\"evenodd\" fill-opacity=\"1\" stroke=\"#000000\" stroke-opacity=\"1\" stroke-width=\"5.12\"/>\n",
       "<circle clip-path=\"url(#clip800)\" cx=\"2081.38\" cy=\"155.698\" r=\"23\" fill=\"#009af9\" fill-rule=\"evenodd\" fill-opacity=\"1\" stroke=\"#000000\" stroke-opacity=\"1\" stroke-width=\"5.12\"/>\n",
       "<circle clip-path=\"url(#clip800)\" cx=\"2081.38\" cy=\"155.698\" r=\"23\" fill=\"#009af9\" fill-rule=\"evenodd\" fill-opacity=\"1\" stroke=\"#000000\" stroke-opacity=\"1\" stroke-width=\"5.12\"/>\n",
       "<circle clip-path=\"url(#clip800)\" cx=\"2081.38\" cy=\"155.698\" r=\"23\" fill=\"#009af9\" fill-rule=\"evenodd\" fill-opacity=\"1\" stroke=\"#000000\" stroke-opacity=\"1\" stroke-width=\"5.12\"/>\n",
       "<circle clip-path=\"url(#clip800)\" cx=\"2081.38\" cy=\"155.698\" r=\"23\" fill=\"#009af9\" fill-rule=\"evenodd\" fill-opacity=\"1\" stroke=\"#000000\" stroke-opacity=\"1\" stroke-width=\"5.12\"/>\n",
       "<circle clip-path=\"url(#clip800)\" cx=\"2081.38\" cy=\"155.698\" r=\"23\" fill=\"#009af9\" fill-rule=\"evenodd\" fill-opacity=\"1\" stroke=\"#000000\" stroke-opacity=\"1\" stroke-width=\"5.12\"/>\n",
       "<circle clip-path=\"url(#clip800)\" cx=\"2081.38\" cy=\"155.698\" r=\"23\" fill=\"#009af9\" fill-rule=\"evenodd\" fill-opacity=\"1\" stroke=\"#000000\" stroke-opacity=\"1\" stroke-width=\"5.12\"/>\n",
       "<circle clip-path=\"url(#clip800)\" cx=\"2081.38\" cy=\"155.698\" r=\"23\" fill=\"#009af9\" fill-rule=\"evenodd\" fill-opacity=\"1\" stroke=\"#000000\" stroke-opacity=\"1\" stroke-width=\"5.12\"/>\n",
       "<circle clip-path=\"url(#clip800)\" cx=\"2081.38\" cy=\"155.698\" r=\"23\" fill=\"#009af9\" fill-rule=\"evenodd\" fill-opacity=\"1\" stroke=\"#000000\" stroke-opacity=\"1\" stroke-width=\"5.12\"/>\n",
       "<circle clip-path=\"url(#clip800)\" cx=\"2081.38\" cy=\"155.698\" r=\"23\" fill=\"#009af9\" fill-rule=\"evenodd\" fill-opacity=\"1\" stroke=\"#000000\" stroke-opacity=\"1\" stroke-width=\"5.12\"/>\n",
       "<circle clip-path=\"url(#clip800)\" cx=\"2081.38\" cy=\"155.698\" r=\"23\" fill=\"#009af9\" fill-rule=\"evenodd\" fill-opacity=\"1\" stroke=\"#000000\" stroke-opacity=\"1\" stroke-width=\"5.12\"/>\n",
       "<circle clip-path=\"url(#clip800)\" cx=\"2081.38\" cy=\"155.698\" r=\"23\" fill=\"#009af9\" fill-rule=\"evenodd\" fill-opacity=\"1\" stroke=\"#000000\" stroke-opacity=\"1\" stroke-width=\"5.12\"/>\n",
       "<circle clip-path=\"url(#clip800)\" cx=\"2081.38\" cy=\"155.698\" r=\"23\" fill=\"#009af9\" fill-rule=\"evenodd\" fill-opacity=\"1\" stroke=\"#000000\" stroke-opacity=\"1\" stroke-width=\"5.12\"/>\n",
       "<circle clip-path=\"url(#clip800)\" cx=\"2081.38\" cy=\"155.698\" r=\"23\" fill=\"#009af9\" fill-rule=\"evenodd\" fill-opacity=\"1\" stroke=\"#000000\" stroke-opacity=\"1\" stroke-width=\"5.12\"/>\n",
       "<circle clip-path=\"url(#clip800)\" cx=\"2081.38\" cy=\"155.698\" r=\"23\" fill=\"#009af9\" fill-rule=\"evenodd\" fill-opacity=\"1\" stroke=\"#000000\" stroke-opacity=\"1\" stroke-width=\"5.12\"/>\n",
       "<circle clip-path=\"url(#clip800)\" cx=\"2081.38\" cy=\"155.698\" r=\"23\" fill=\"#009af9\" fill-rule=\"evenodd\" fill-opacity=\"1\" stroke=\"#000000\" stroke-opacity=\"1\" stroke-width=\"5.12\"/>\n",
       "<circle clip-path=\"url(#clip800)\" cx=\"2081.38\" cy=\"155.698\" r=\"23\" fill=\"#009af9\" fill-rule=\"evenodd\" fill-opacity=\"1\" stroke=\"#000000\" stroke-opacity=\"1\" stroke-width=\"5.12\"/>\n",
       "<circle clip-path=\"url(#clip800)\" cx=\"2081.38\" cy=\"155.698\" r=\"23\" fill=\"#009af9\" fill-rule=\"evenodd\" fill-opacity=\"1\" stroke=\"#000000\" stroke-opacity=\"1\" stroke-width=\"5.12\"/>\n",
       "<circle clip-path=\"url(#clip800)\" cx=\"2081.38\" cy=\"155.698\" r=\"23\" fill=\"#009af9\" fill-rule=\"evenodd\" fill-opacity=\"1\" stroke=\"#000000\" stroke-opacity=\"1\" stroke-width=\"5.12\"/>\n",
       "<circle clip-path=\"url(#clip800)\" cx=\"2081.38\" cy=\"155.698\" r=\"23\" fill=\"#009af9\" fill-rule=\"evenodd\" fill-opacity=\"1\" stroke=\"#000000\" stroke-opacity=\"1\" stroke-width=\"5.12\"/>\n",
       "<circle clip-path=\"url(#clip800)\" cx=\"2081.38\" cy=\"155.698\" r=\"23\" fill=\"#009af9\" fill-rule=\"evenodd\" fill-opacity=\"1\" stroke=\"#000000\" stroke-opacity=\"1\" stroke-width=\"5.12\"/>\n",
       "<circle clip-path=\"url(#clip800)\" cx=\"2081.38\" cy=\"155.698\" r=\"23\" fill=\"#009af9\" fill-rule=\"evenodd\" fill-opacity=\"1\" stroke=\"#000000\" stroke-opacity=\"1\" stroke-width=\"5.12\"/>\n",
       "<circle clip-path=\"url(#clip800)\" cx=\"2081.38\" cy=\"155.698\" r=\"23\" fill=\"#009af9\" fill-rule=\"evenodd\" fill-opacity=\"1\" stroke=\"#000000\" stroke-opacity=\"1\" stroke-width=\"5.12\"/>\n",
       "<circle clip-path=\"url(#clip800)\" cx=\"2081.38\" cy=\"155.698\" r=\"23\" fill=\"#009af9\" fill-rule=\"evenodd\" fill-opacity=\"1\" stroke=\"#000000\" stroke-opacity=\"1\" stroke-width=\"5.12\"/>\n",
       "<circle clip-path=\"url(#clip800)\" cx=\"2081.38\" cy=\"155.698\" r=\"23\" fill=\"#009af9\" fill-rule=\"evenodd\" fill-opacity=\"1\" stroke=\"#000000\" stroke-opacity=\"1\" stroke-width=\"5.12\"/>\n",
       "<circle clip-path=\"url(#clip800)\" cx=\"2081.38\" cy=\"155.698\" r=\"23\" fill=\"#009af9\" fill-rule=\"evenodd\" fill-opacity=\"1\" stroke=\"#000000\" stroke-opacity=\"1\" stroke-width=\"5.12\"/>\n",
       "<circle clip-path=\"url(#clip800)\" cx=\"2081.38\" cy=\"155.698\" r=\"23\" fill=\"#009af9\" fill-rule=\"evenodd\" fill-opacity=\"1\" stroke=\"#000000\" stroke-opacity=\"1\" stroke-width=\"5.12\"/>\n",
       "<circle clip-path=\"url(#clip800)\" cx=\"2081.38\" cy=\"155.698\" r=\"23\" fill=\"#009af9\" fill-rule=\"evenodd\" fill-opacity=\"1\" stroke=\"#000000\" stroke-opacity=\"1\" stroke-width=\"5.12\"/>\n",
       "<circle clip-path=\"url(#clip800)\" cx=\"2081.38\" cy=\"155.698\" r=\"23\" fill=\"#009af9\" fill-rule=\"evenodd\" fill-opacity=\"1\" stroke=\"#000000\" stroke-opacity=\"1\" stroke-width=\"5.12\"/>\n",
       "<circle clip-path=\"url(#clip800)\" cx=\"2081.38\" cy=\"155.698\" r=\"23\" fill=\"#009af9\" fill-rule=\"evenodd\" fill-opacity=\"1\" stroke=\"#000000\" stroke-opacity=\"1\" stroke-width=\"5.12\"/>\n",
       "<circle clip-path=\"url(#clip800)\" cx=\"2081.38\" cy=\"155.698\" r=\"23\" fill=\"#009af9\" fill-rule=\"evenodd\" fill-opacity=\"1\" stroke=\"#000000\" stroke-opacity=\"1\" stroke-width=\"5.12\"/>\n",
       "<circle clip-path=\"url(#clip800)\" cx=\"2081.38\" cy=\"155.698\" r=\"23\" fill=\"#009af9\" fill-rule=\"evenodd\" fill-opacity=\"1\" stroke=\"#000000\" stroke-opacity=\"1\" stroke-width=\"5.12\"/>\n",
       "<circle clip-path=\"url(#clip800)\" cx=\"2081.38\" cy=\"155.698\" r=\"23\" fill=\"#009af9\" fill-rule=\"evenodd\" fill-opacity=\"1\" stroke=\"#000000\" stroke-opacity=\"1\" stroke-width=\"5.12\"/>\n",
       "<circle clip-path=\"url(#clip800)\" cx=\"2081.38\" cy=\"155.698\" r=\"23\" fill=\"#009af9\" fill-rule=\"evenodd\" fill-opacity=\"1\" stroke=\"#000000\" stroke-opacity=\"1\" stroke-width=\"5.12\"/>\n",
       "<circle clip-path=\"url(#clip800)\" cx=\"2081.38\" cy=\"155.698\" r=\"23\" fill=\"#009af9\" fill-rule=\"evenodd\" fill-opacity=\"1\" stroke=\"#000000\" stroke-opacity=\"1\" stroke-width=\"5.12\"/>\n",
       "<circle clip-path=\"url(#clip800)\" cx=\"2081.38\" cy=\"155.698\" r=\"23\" fill=\"#009af9\" fill-rule=\"evenodd\" fill-opacity=\"1\" stroke=\"#000000\" stroke-opacity=\"1\" stroke-width=\"5.12\"/>\n",
       "<circle clip-path=\"url(#clip800)\" cx=\"2081.38\" cy=\"155.698\" r=\"23\" fill=\"#009af9\" fill-rule=\"evenodd\" fill-opacity=\"1\" stroke=\"#000000\" stroke-opacity=\"1\" stroke-width=\"5.12\"/>\n",
       "<circle clip-path=\"url(#clip800)\" cx=\"2081.38\" cy=\"155.698\" r=\"23\" fill=\"#009af9\" fill-rule=\"evenodd\" fill-opacity=\"1\" stroke=\"#000000\" stroke-opacity=\"1\" stroke-width=\"5.12\"/>\n",
       "<circle clip-path=\"url(#clip800)\" cx=\"2081.38\" cy=\"155.698\" r=\"23\" fill=\"#009af9\" fill-rule=\"evenodd\" fill-opacity=\"1\" stroke=\"#000000\" stroke-opacity=\"1\" stroke-width=\"5.12\"/>\n",
       "<circle clip-path=\"url(#clip800)\" cx=\"2081.38\" cy=\"155.698\" r=\"23\" fill=\"#009af9\" fill-rule=\"evenodd\" fill-opacity=\"1\" stroke=\"#000000\" stroke-opacity=\"1\" stroke-width=\"5.12\"/>\n",
       "<circle clip-path=\"url(#clip800)\" cx=\"2081.38\" cy=\"155.698\" r=\"23\" fill=\"#009af9\" fill-rule=\"evenodd\" fill-opacity=\"1\" stroke=\"#000000\" stroke-opacity=\"1\" stroke-width=\"5.12\"/>\n",
       "<circle clip-path=\"url(#clip800)\" cx=\"2081.38\" cy=\"155.698\" r=\"23\" fill=\"#009af9\" fill-rule=\"evenodd\" fill-opacity=\"1\" stroke=\"#000000\" stroke-opacity=\"1\" stroke-width=\"5.12\"/>\n",
       "<circle clip-path=\"url(#clip800)\" cx=\"2081.38\" cy=\"155.698\" r=\"23\" fill=\"#009af9\" fill-rule=\"evenodd\" fill-opacity=\"1\" stroke=\"#000000\" stroke-opacity=\"1\" stroke-width=\"5.12\"/>\n",
       "<circle clip-path=\"url(#clip800)\" cx=\"2081.38\" cy=\"155.698\" r=\"23\" fill=\"#009af9\" fill-rule=\"evenodd\" fill-opacity=\"1\" stroke=\"#000000\" stroke-opacity=\"1\" stroke-width=\"5.12\"/>\n",
       "<circle clip-path=\"url(#clip800)\" cx=\"2081.38\" cy=\"155.698\" r=\"23\" fill=\"#009af9\" fill-rule=\"evenodd\" fill-opacity=\"1\" stroke=\"#000000\" stroke-opacity=\"1\" stroke-width=\"5.12\"/>\n",
       "<circle clip-path=\"url(#clip800)\" cx=\"2081.38\" cy=\"155.698\" r=\"23\" fill=\"#009af9\" fill-rule=\"evenodd\" fill-opacity=\"1\" stroke=\"#000000\" stroke-opacity=\"1\" stroke-width=\"5.12\"/>\n",
       "<circle clip-path=\"url(#clip800)\" cx=\"2081.38\" cy=\"155.698\" r=\"23\" fill=\"#009af9\" fill-rule=\"evenodd\" fill-opacity=\"1\" stroke=\"#000000\" stroke-opacity=\"1\" stroke-width=\"5.12\"/>\n",
       "<circle clip-path=\"url(#clip800)\" cx=\"2081.38\" cy=\"155.698\" r=\"23\" fill=\"#009af9\" fill-rule=\"evenodd\" fill-opacity=\"1\" stroke=\"#000000\" stroke-opacity=\"1\" stroke-width=\"5.12\"/>\n",
       "<circle clip-path=\"url(#clip800)\" cx=\"2081.38\" cy=\"155.698\" r=\"23\" fill=\"#009af9\" fill-rule=\"evenodd\" fill-opacity=\"1\" stroke=\"#000000\" stroke-opacity=\"1\" stroke-width=\"5.12\"/>\n",
       "<circle clip-path=\"url(#clip800)\" cx=\"2081.38\" cy=\"155.698\" r=\"23\" fill=\"#009af9\" fill-rule=\"evenodd\" fill-opacity=\"1\" stroke=\"#000000\" stroke-opacity=\"1\" stroke-width=\"5.12\"/>\n",
       "<circle clip-path=\"url(#clip800)\" cx=\"2081.38\" cy=\"155.698\" r=\"23\" fill=\"#009af9\" fill-rule=\"evenodd\" fill-opacity=\"1\" stroke=\"#000000\" stroke-opacity=\"1\" stroke-width=\"5.12\"/>\n",
       "<circle clip-path=\"url(#clip800)\" cx=\"2081.38\" cy=\"155.698\" r=\"23\" fill=\"#009af9\" fill-rule=\"evenodd\" fill-opacity=\"1\" stroke=\"#000000\" stroke-opacity=\"1\" stroke-width=\"5.12\"/>\n",
       "<circle clip-path=\"url(#clip800)\" cx=\"2081.38\" cy=\"155.698\" r=\"23\" fill=\"#009af9\" fill-rule=\"evenodd\" fill-opacity=\"1\" stroke=\"#000000\" stroke-opacity=\"1\" stroke-width=\"5.12\"/>\n",
       "<circle clip-path=\"url(#clip800)\" cx=\"2081.38\" cy=\"155.698\" r=\"23\" fill=\"#009af9\" fill-rule=\"evenodd\" fill-opacity=\"1\" stroke=\"#000000\" stroke-opacity=\"1\" stroke-width=\"5.12\"/>\n",
       "<circle clip-path=\"url(#clip800)\" cx=\"2081.38\" cy=\"155.698\" r=\"23\" fill=\"#009af9\" fill-rule=\"evenodd\" fill-opacity=\"1\" stroke=\"#000000\" stroke-opacity=\"1\" stroke-width=\"5.12\"/>\n",
       "<circle clip-path=\"url(#clip800)\" cx=\"2081.38\" cy=\"155.698\" r=\"23\" fill=\"#009af9\" fill-rule=\"evenodd\" fill-opacity=\"1\" stroke=\"#000000\" stroke-opacity=\"1\" stroke-width=\"5.12\"/>\n",
       "<circle clip-path=\"url(#clip800)\" cx=\"2081.38\" cy=\"155.698\" r=\"23\" fill=\"#009af9\" fill-rule=\"evenodd\" fill-opacity=\"1\" stroke=\"#000000\" stroke-opacity=\"1\" stroke-width=\"5.12\"/>\n",
       "<circle clip-path=\"url(#clip800)\" cx=\"2081.38\" cy=\"155.698\" r=\"23\" fill=\"#009af9\" fill-rule=\"evenodd\" fill-opacity=\"1\" stroke=\"#000000\" stroke-opacity=\"1\" stroke-width=\"5.12\"/>\n",
       "<circle clip-path=\"url(#clip800)\" cx=\"2081.38\" cy=\"155.698\" r=\"23\" fill=\"#009af9\" fill-rule=\"evenodd\" fill-opacity=\"1\" stroke=\"#000000\" stroke-opacity=\"1\" stroke-width=\"5.12\"/>\n",
       "<circle clip-path=\"url(#clip800)\" cx=\"2081.38\" cy=\"155.698\" r=\"23\" fill=\"#009af9\" fill-rule=\"evenodd\" fill-opacity=\"1\" stroke=\"#000000\" stroke-opacity=\"1\" stroke-width=\"5.12\"/>\n",
       "<circle clip-path=\"url(#clip800)\" cx=\"2081.38\" cy=\"155.698\" r=\"23\" fill=\"#009af9\" fill-rule=\"evenodd\" fill-opacity=\"1\" stroke=\"#000000\" stroke-opacity=\"1\" stroke-width=\"5.12\"/>\n",
       "<circle clip-path=\"url(#clip800)\" cx=\"2081.38\" cy=\"155.698\" r=\"23\" fill=\"#009af9\" fill-rule=\"evenodd\" fill-opacity=\"1\" stroke=\"#000000\" stroke-opacity=\"1\" stroke-width=\"5.12\"/>\n",
       "<circle clip-path=\"url(#clip800)\" cx=\"2081.38\" cy=\"155.698\" r=\"23\" fill=\"#009af9\" fill-rule=\"evenodd\" fill-opacity=\"1\" stroke=\"#000000\" stroke-opacity=\"1\" stroke-width=\"5.12\"/>\n",
       "<circle clip-path=\"url(#clip800)\" cx=\"2081.38\" cy=\"155.698\" r=\"23\" fill=\"#009af9\" fill-rule=\"evenodd\" fill-opacity=\"1\" stroke=\"#000000\" stroke-opacity=\"1\" stroke-width=\"5.12\"/>\n",
       "<circle clip-path=\"url(#clip800)\" cx=\"2081.38\" cy=\"155.698\" r=\"23\" fill=\"#009af9\" fill-rule=\"evenodd\" fill-opacity=\"1\" stroke=\"#000000\" stroke-opacity=\"1\" stroke-width=\"5.12\"/>\n",
       "<circle clip-path=\"url(#clip800)\" cx=\"2081.38\" cy=\"155.698\" r=\"23\" fill=\"#009af9\" fill-rule=\"evenodd\" fill-opacity=\"1\" stroke=\"#000000\" stroke-opacity=\"1\" stroke-width=\"5.12\"/>\n",
       "<circle clip-path=\"url(#clip800)\" cx=\"2081.38\" cy=\"155.698\" r=\"23\" fill=\"#009af9\" fill-rule=\"evenodd\" fill-opacity=\"1\" stroke=\"#000000\" stroke-opacity=\"1\" stroke-width=\"5.12\"/>\n",
       "<circle clip-path=\"url(#clip800)\" cx=\"2081.38\" cy=\"155.698\" r=\"23\" fill=\"#009af9\" fill-rule=\"evenodd\" fill-opacity=\"1\" stroke=\"#000000\" stroke-opacity=\"1\" stroke-width=\"5.12\"/>\n",
       "<circle clip-path=\"url(#clip800)\" cx=\"2081.38\" cy=\"155.698\" r=\"23\" fill=\"#009af9\" fill-rule=\"evenodd\" fill-opacity=\"1\" stroke=\"#000000\" stroke-opacity=\"1\" stroke-width=\"5.12\"/>\n",
       "<path clip-path=\"url(#clip800)\" d=\"M 0 0 M2193.16 175.385 Q2191.35 180.015 2189.64 181.427 Q2187.93 182.839 2185.06 182.839 L2181.65 182.839 L2181.65 179.274 L2184.15 179.274 Q2185.91 179.274 2186.88 178.44 Q2187.86 177.607 2189.04 174.505 L2189.8 172.561 L2179.31 147.052 L2183.83 147.052 L2191.93 167.329 L2200.03 147.052 L2204.55 147.052 L2193.16 175.385 Z\" fill=\"#000000\" fill-rule=\"evenodd\" fill-opacity=\"1\" /><path clip-path=\"url(#clip800)\" d=\"M 0 0 M2210.43 169.042 L2218.06 169.042 L2218.06 142.677 L2209.75 144.343 L2209.75 140.084 L2218.02 138.418 L2222.69 138.418 L2222.69 169.042 L2230.33 169.042 L2230.33 172.978 L2210.43 172.978 L2210.43 169.042 Z\" fill=\"#000000\" fill-rule=\"evenodd\" fill-opacity=\"1\" /></svg>\n"
      ]
     },
     "execution_count": 7,
     "metadata": {},
     "output_type": "execute_result"
    }
   ],
   "source": [
    "plot(iris[!,:SepalLength],iris[!,:SepalWidth],seriestype=:scatter)"
   ]
  },
  {
   "cell_type": "code",
   "execution_count": 8,
   "metadata": {},
   "outputs": [
    {
     "data": {
      "image/svg+xml": [
       "<?xml version=\"1.0\" encoding=\"utf-8\"?>\n",
       "<svg xmlns=\"http://www.w3.org/2000/svg\" xmlns:xlink=\"http://www.w3.org/1999/xlink\" width=\"600\" height=\"400\" viewBox=\"0 0 2400 1600\">\n",
       "<defs>\n",
       "  <clipPath id=\"clip840\">\n",
       "    <rect x=\"0\" y=\"0\" width=\"2400\" height=\"1600\"/>\n",
       "  </clipPath>\n",
       "</defs>\n",
       "<path clip-path=\"url(#clip840)\" d=\"\n",
       "M0 1600 L2400 1600 L2400 0 L0 0  Z\n",
       "  \" fill=\"#ffffff\" fill-rule=\"evenodd\" fill-opacity=\"1\"/>\n",
       "<defs>\n",
       "  <clipPath id=\"clip841\">\n",
       "    <rect x=\"480\" y=\"0\" width=\"1681\" height=\"1600\"/>\n",
       "  </clipPath>\n",
       "</defs>\n",
       "<path clip-path=\"url(#clip840)\" d=\"\n",
       "M149.145 1486.45 L2352.76 1486.45 L2352.76 47.2441 L149.145 47.2441  Z\n",
       "  \" fill=\"#ffffff\" fill-rule=\"evenodd\" fill-opacity=\"1\"/>\n",
       "<defs>\n",
       "  <clipPath id=\"clip842\">\n",
       "    <rect x=\"149\" y=\"47\" width=\"2205\" height=\"1440\"/>\n",
       "  </clipPath>\n",
       "</defs>\n",
       "<polyline clip-path=\"url(#clip842)\" style=\"stroke:#000000; stroke-width:2; stroke-opacity:0.1; fill:none\" points=\"\n",
       "  615.737,1486.45 615.737,47.2441 \n",
       "  \"/>\n",
       "<polyline clip-path=\"url(#clip842)\" style=\"stroke:#000000; stroke-width:2; stroke-opacity:0.1; fill:none\" points=\"\n",
       "  1193.2,1486.45 1193.2,47.2441 \n",
       "  \"/>\n",
       "<polyline clip-path=\"url(#clip842)\" style=\"stroke:#000000; stroke-width:2; stroke-opacity:0.1; fill:none\" points=\"\n",
       "  1770.67,1486.45 1770.67,47.2441 \n",
       "  \"/>\n",
       "<polyline clip-path=\"url(#clip842)\" style=\"stroke:#000000; stroke-width:2; stroke-opacity:0.1; fill:none\" points=\"\n",
       "  2348.14,1486.45 2348.14,47.2441 \n",
       "  \"/>\n",
       "<polyline clip-path=\"url(#clip842)\" style=\"stroke:#000000; stroke-width:2; stroke-opacity:0.1; fill:none\" points=\"\n",
       "  149.145,1445.72 2352.76,1445.72 \n",
       "  \"/>\n",
       "<polyline clip-path=\"url(#clip842)\" style=\"stroke:#000000; stroke-width:2; stroke-opacity:0.1; fill:none\" points=\"\n",
       "  149.145,1162.85 2352.76,1162.85 \n",
       "  \"/>\n",
       "<polyline clip-path=\"url(#clip842)\" style=\"stroke:#000000; stroke-width:2; stroke-opacity:0.1; fill:none\" points=\"\n",
       "  149.145,879.991 2352.76,879.991 \n",
       "  \"/>\n",
       "<polyline clip-path=\"url(#clip842)\" style=\"stroke:#000000; stroke-width:2; stroke-opacity:0.1; fill:none\" points=\"\n",
       "  149.145,597.129 2352.76,597.129 \n",
       "  \"/>\n",
       "<polyline clip-path=\"url(#clip842)\" style=\"stroke:#000000; stroke-width:2; stroke-opacity:0.1; fill:none\" points=\"\n",
       "  149.145,314.266 2352.76,314.266 \n",
       "  \"/>\n",
       "<polyline clip-path=\"url(#clip840)\" style=\"stroke:#000000; stroke-width:4; stroke-opacity:1; fill:none\" points=\"\n",
       "  149.145,1486.45 2352.76,1486.45 \n",
       "  \"/>\n",
       "<polyline clip-path=\"url(#clip840)\" style=\"stroke:#000000; stroke-width:4; stroke-opacity:1; fill:none\" points=\"\n",
       "  149.145,1486.45 149.145,47.2441 \n",
       "  \"/>\n",
       "<polyline clip-path=\"url(#clip840)\" style=\"stroke:#000000; stroke-width:4; stroke-opacity:1; fill:none\" points=\"\n",
       "  615.737,1486.45 615.737,1469.18 \n",
       "  \"/>\n",
       "<polyline clip-path=\"url(#clip840)\" style=\"stroke:#000000; stroke-width:4; stroke-opacity:1; fill:none\" points=\"\n",
       "  1193.2,1486.45 1193.2,1469.18 \n",
       "  \"/>\n",
       "<polyline clip-path=\"url(#clip840)\" style=\"stroke:#000000; stroke-width:4; stroke-opacity:1; fill:none\" points=\"\n",
       "  1770.67,1486.45 1770.67,1469.18 \n",
       "  \"/>\n",
       "<polyline clip-path=\"url(#clip840)\" style=\"stroke:#000000; stroke-width:4; stroke-opacity:1; fill:none\" points=\"\n",
       "  2348.14,1486.45 2348.14,1469.18 \n",
       "  \"/>\n",
       "<polyline clip-path=\"url(#clip840)\" style=\"stroke:#000000; stroke-width:4; stroke-opacity:1; fill:none\" points=\"\n",
       "  149.145,1445.72 175.588,1445.72 \n",
       "  \"/>\n",
       "<polyline clip-path=\"url(#clip840)\" style=\"stroke:#000000; stroke-width:4; stroke-opacity:1; fill:none\" points=\"\n",
       "  149.145,1162.85 175.588,1162.85 \n",
       "  \"/>\n",
       "<polyline clip-path=\"url(#clip840)\" style=\"stroke:#000000; stroke-width:4; stroke-opacity:1; fill:none\" points=\"\n",
       "  149.145,879.991 175.588,879.991 \n",
       "  \"/>\n",
       "<polyline clip-path=\"url(#clip840)\" style=\"stroke:#000000; stroke-width:4; stroke-opacity:1; fill:none\" points=\"\n",
       "  149.145,597.129 175.588,597.129 \n",
       "  \"/>\n",
       "<polyline clip-path=\"url(#clip840)\" style=\"stroke:#000000; stroke-width:4; stroke-opacity:1; fill:none\" points=\"\n",
       "  149.145,314.266 175.588,314.266 \n",
       "  \"/>\n",
       "<path clip-path=\"url(#clip840)\" d=\"M 0 0 M606.015 1505.36 L624.372 1505.36 L624.372 1509.3 L610.298 1509.3 L610.298 1517.77 Q611.316 1517.42 612.335 1517.26 Q613.353 1517.07 614.372 1517.07 Q620.159 1517.07 623.538 1520.24 Q626.918 1523.42 626.918 1528.83 Q626.918 1534.41 623.446 1537.51 Q619.973 1540.59 613.654 1540.59 Q611.478 1540.59 609.21 1540.22 Q606.964 1539.85 604.557 1539.11 L604.557 1534.41 Q606.64 1535.54 608.862 1536.1 Q611.085 1536.66 613.561 1536.66 Q617.566 1536.66 619.904 1534.55 Q622.242 1532.44 622.242 1528.83 Q622.242 1525.22 619.904 1523.11 Q617.566 1521.01 613.561 1521.01 Q611.686 1521.01 609.811 1521.42 Q607.96 1521.84 606.015 1522.72 L606.015 1505.36 Z\" fill=\"#000000\" fill-rule=\"evenodd\" fill-opacity=\"1\" /><path clip-path=\"url(#clip840)\" d=\"M 0 0 M1193.61 1520.78 Q1190.46 1520.78 1188.61 1522.93 Q1186.78 1525.08 1186.78 1528.83 Q1186.78 1532.56 1188.61 1534.73 Q1190.46 1536.89 1193.61 1536.89 Q1196.76 1536.89 1198.59 1534.73 Q1200.44 1532.56 1200.44 1528.83 Q1200.44 1525.08 1198.59 1522.93 Q1196.76 1520.78 1193.61 1520.78 M1202.89 1506.12 L1202.89 1510.38 Q1201.13 1509.55 1199.33 1509.11 Q1197.54 1508.67 1195.78 1508.67 Q1191.16 1508.67 1188.7 1511.8 Q1186.27 1514.92 1185.92 1521.24 Q1187.29 1519.23 1189.35 1518.16 Q1191.41 1517.07 1193.89 1517.07 Q1199.09 1517.07 1202.1 1520.24 Q1205.14 1523.39 1205.14 1528.83 Q1205.14 1534.16 1201.99 1537.37 Q1198.84 1540.59 1193.61 1540.59 Q1187.61 1540.59 1184.44 1536.01 Q1181.27 1531.4 1181.27 1522.67 Q1181.27 1514.48 1185.16 1509.62 Q1189.05 1504.73 1195.6 1504.73 Q1197.36 1504.73 1199.14 1505.08 Q1200.95 1505.43 1202.89 1506.12 Z\" fill=\"#000000\" fill-rule=\"evenodd\" fill-opacity=\"1\" /><path clip-path=\"url(#clip840)\" d=\"M 0 0 M1759.56 1505.36 L1781.78 1505.36 L1781.78 1507.35 L1769.23 1539.92 L1764.35 1539.92 L1776.16 1509.3 L1759.56 1509.3 L1759.56 1505.36 Z\" fill=\"#000000\" fill-rule=\"evenodd\" fill-opacity=\"1\" /><path clip-path=\"url(#clip840)\" d=\"M 0 0 M2348.14 1523.51 Q2344.8 1523.51 2342.88 1525.29 Q2340.98 1527.07 2340.98 1530.2 Q2340.98 1533.32 2342.88 1535.11 Q2344.8 1536.89 2348.14 1536.89 Q2351.47 1536.89 2353.39 1535.11 Q2355.31 1533.3 2355.31 1530.2 Q2355.31 1527.07 2353.39 1525.29 Q2351.49 1523.51 2348.14 1523.51 M2343.46 1521.52 Q2340.45 1520.78 2338.76 1518.72 Q2337.09 1516.66 2337.09 1513.69 Q2337.09 1509.55 2340.03 1507.14 Q2343 1504.73 2348.14 1504.73 Q2353.3 1504.73 2356.24 1507.14 Q2359.18 1509.55 2359.18 1513.69 Q2359.18 1516.66 2357.49 1518.72 Q2355.82 1520.78 2352.84 1521.52 Q2356.21 1522.3 2358.09 1524.6 Q2359.99 1526.89 2359.99 1530.2 Q2359.99 1535.22 2356.91 1537.91 Q2353.85 1540.59 2348.14 1540.59 Q2342.42 1540.59 2339.34 1537.91 Q2336.28 1535.22 2336.28 1530.2 Q2336.28 1526.89 2338.18 1524.6 Q2340.08 1522.3 2343.46 1521.52 M2341.75 1514.13 Q2341.75 1516.82 2343.41 1518.32 Q2345.1 1519.83 2348.14 1519.83 Q2351.15 1519.83 2352.84 1518.32 Q2354.55 1516.82 2354.55 1514.13 Q2354.55 1511.45 2352.84 1509.94 Q2351.15 1508.44 2348.14 1508.44 Q2345.1 1508.44 2343.41 1509.94 Q2341.75 1511.45 2341.75 1514.13 Z\" fill=\"#000000\" fill-rule=\"evenodd\" fill-opacity=\"1\" /><path clip-path=\"url(#clip840)\" d=\"M 0 0 M71.8578 1459.06 L88.1772 1459.06 L88.1772 1463 L66.2328 1463 L66.2328 1459.06 Q68.8949 1456.31 73.4782 1451.68 Q78.0846 1447.02 79.2652 1445.68 Q81.5105 1443.16 82.3902 1441.42 Q83.2929 1439.66 83.2929 1437.97 Q83.2929 1435.22 81.3485 1433.48 Q79.4272 1431.75 76.3254 1431.75 Q74.1263 1431.75 71.6726 1432.51 Q69.2421 1433.27 66.4643 1434.82 L66.4643 1430.1 Q69.2884 1428.97 71.7421 1428.39 Q74.1958 1427.81 76.2328 1427.81 Q81.6031 1427.81 84.7976 1430.5 Q87.992 1433.18 87.992 1437.67 Q87.992 1439.8 87.1818 1441.72 Q86.3948 1443.62 84.2883 1446.21 Q83.7096 1446.88 80.6078 1450.1 Q77.5059 1453.3 71.8578 1459.06 Z\" fill=\"#000000\" fill-rule=\"evenodd\" fill-opacity=\"1\" /><path clip-path=\"url(#clip840)\" d=\"M 0 0 M93.2466 1457.12 L98.1308 1457.12 L98.1308 1463 L93.2466 1463 L93.2466 1457.12 Z\" fill=\"#000000\" fill-rule=\"evenodd\" fill-opacity=\"1\" /><path clip-path=\"url(#clip840)\" d=\"M 0 0 M113.2 1431.51 Q109.589 1431.51 107.76 1435.08 Q105.955 1438.62 105.955 1445.75 Q105.955 1452.86 107.76 1456.42 Q109.589 1459.96 113.2 1459.96 Q116.834 1459.96 118.64 1456.42 Q120.469 1452.86 120.469 1445.75 Q120.469 1438.62 118.64 1435.08 Q116.834 1431.51 113.2 1431.51 M113.2 1427.81 Q119.01 1427.81 122.066 1432.42 Q125.145 1437 125.145 1445.75 Q125.145 1454.48 122.066 1459.08 Q119.01 1463.67 113.2 1463.67 Q107.39 1463.67 104.311 1459.08 Q101.256 1454.48 101.256 1445.75 Q101.256 1437 104.311 1432.42 Q107.39 1427.81 113.2 1427.81 Z\" fill=\"#000000\" fill-rule=\"evenodd\" fill-opacity=\"1\" /><path clip-path=\"url(#clip840)\" d=\"M 0 0 M72.8532 1176.2 L89.1725 1176.2 L89.1725 1180.13 L67.2282 1180.13 L67.2282 1176.2 Q69.8902 1173.44 74.4735 1168.81 Q79.08 1164.16 80.2606 1162.82 Q82.5059 1160.3 83.3855 1158.56 Q84.2883 1156.8 84.2883 1155.11 Q84.2883 1152.36 82.3439 1150.62 Q80.4226 1148.88 77.3208 1148.88 Q75.1217 1148.88 72.668 1149.65 Q70.2375 1150.41 67.4597 1151.96 L67.4597 1147.24 Q70.2838 1146.11 72.7374 1145.53 Q75.1911 1144.95 77.2282 1144.95 Q82.5985 1144.95 85.7929 1147.63 Q88.9874 1150.32 88.9874 1154.81 Q88.9874 1156.94 88.1772 1158.86 Q87.3901 1160.76 85.2837 1163.35 Q84.705 1164.02 81.6031 1167.24 Q78.5013 1170.43 72.8532 1176.2 Z\" fill=\"#000000\" fill-rule=\"evenodd\" fill-opacity=\"1\" /><path clip-path=\"url(#clip840)\" d=\"M 0 0 M94.242 1174.25 L99.1262 1174.25 L99.1262 1180.13 L94.242 1180.13 L94.242 1174.25 Z\" fill=\"#000000\" fill-rule=\"evenodd\" fill-opacity=\"1\" /><path clip-path=\"url(#clip840)\" d=\"M 0 0 M104.242 1145.57 L122.598 1145.57 L122.598 1149.51 L108.524 1149.51 L108.524 1157.98 Q109.543 1157.63 110.561 1157.47 Q111.58 1157.29 112.598 1157.29 Q118.385 1157.29 121.765 1160.46 Q125.145 1163.63 125.145 1169.05 Q125.145 1174.62 121.672 1177.73 Q118.2 1180.8 111.881 1180.8 Q109.705 1180.8 107.436 1180.43 Q105.191 1180.06 102.784 1179.32 L102.784 1174.62 Q104.867 1175.76 107.089 1176.31 Q109.311 1176.87 111.788 1176.87 Q115.793 1176.87 118.131 1174.76 Q120.469 1172.66 120.469 1169.05 Q120.469 1165.43 118.131 1163.33 Q115.793 1161.22 111.788 1161.22 Q109.913 1161.22 108.038 1161.64 Q106.186 1162.05 104.242 1162.93 L104.242 1145.57 Z\" fill=\"#000000\" fill-rule=\"evenodd\" fill-opacity=\"1\" /><path clip-path=\"url(#clip840)\" d=\"M 0 0 M81.0476 878.637 Q84.404 879.354 86.279 881.623 Q88.1772 883.891 88.1772 887.225 Q88.1772 892.34 84.6587 895.141 Q81.1402 897.942 74.6587 897.942 Q72.4828 897.942 70.168 897.502 Q67.8764 897.086 65.4227 896.229 L65.4227 891.715 Q67.3671 892.85 69.6819 893.428 Q71.9967 894.007 74.5198 894.007 Q78.918 894.007 81.2096 892.271 Q83.5244 890.535 83.5244 887.225 Q83.5244 884.169 81.3717 882.456 Q79.242 880.72 75.4226 880.72 L71.3949 880.72 L71.3949 876.878 L75.6078 876.878 Q79.0569 876.878 80.8855 875.512 Q82.7142 874.123 82.7142 871.53 Q82.7142 868.868 80.8161 867.456 Q78.9411 866.021 75.4226 866.021 Q73.5013 866.021 71.3023 866.438 Q69.1032 866.854 66.4643 867.734 L66.4643 863.567 Q69.1264 862.827 71.4412 862.456 Q73.7791 862.086 75.8393 862.086 Q81.1633 862.086 84.2652 864.516 Q87.367 866.924 87.367 871.044 Q87.367 873.915 85.7235 875.905 Q84.08 877.873 81.0476 878.637 Z\" fill=\"#000000\" fill-rule=\"evenodd\" fill-opacity=\"1\" /><path clip-path=\"url(#clip840)\" d=\"M 0 0 M93.2466 891.391 L98.1308 891.391 L98.1308 897.271 L93.2466 897.271 L93.2466 891.391 Z\" fill=\"#000000\" fill-rule=\"evenodd\" fill-opacity=\"1\" /><path clip-path=\"url(#clip840)\" d=\"M 0 0 M113.2 865.79 Q109.589 865.79 107.76 869.354 Q105.955 872.896 105.955 880.026 Q105.955 887.132 107.76 890.697 Q109.589 894.239 113.2 894.239 Q116.834 894.239 118.64 890.697 Q120.469 887.132 120.469 880.026 Q120.469 872.896 118.64 869.354 Q116.834 865.79 113.2 865.79 M113.2 862.086 Q119.01 862.086 122.066 866.692 Q125.145 871.276 125.145 880.026 Q125.145 888.752 122.066 893.359 Q119.01 897.942 113.2 897.942 Q107.39 897.942 104.311 893.359 Q101.256 888.752 101.256 880.026 Q101.256 871.276 104.311 866.692 Q107.39 862.086 113.2 862.086 Z\" fill=\"#000000\" fill-rule=\"evenodd\" fill-opacity=\"1\" /><path clip-path=\"url(#clip840)\" d=\"M 0 0 M82.0429 595.774 Q85.3994 596.492 87.2744 598.76 Q89.1725 601.029 89.1725 604.362 Q89.1725 609.478 85.654 612.279 Q82.1355 615.08 75.6541 615.08 Q73.4782 615.08 71.1634 614.64 Q68.8717 614.223 66.418 613.367 L66.418 608.853 Q68.3625 609.987 70.6773 610.566 Q72.9921 611.145 75.5152 611.145 Q79.9133 611.145 82.205 609.409 Q84.5198 607.672 84.5198 604.362 Q84.5198 601.307 82.367 599.594 Q80.2374 597.858 76.418 597.858 L72.3902 597.858 L72.3902 594.015 L76.6032 594.015 Q80.0522 594.015 81.8809 592.649 Q83.7096 591.261 83.7096 588.668 Q83.7096 586.006 81.8115 584.594 Q79.9365 583.159 76.418 583.159 Q74.4967 583.159 72.2976 583.575 Q70.0986 583.992 67.4597 584.872 L67.4597 580.705 Q70.1217 579.964 72.4365 579.594 Q74.7745 579.224 76.8346 579.224 Q82.1587 579.224 85.2605 581.654 Q88.3624 584.061 88.3624 588.182 Q88.3624 591.052 86.7189 593.043 Q85.0753 595.011 82.0429 595.774 Z\" fill=\"#000000\" fill-rule=\"evenodd\" fill-opacity=\"1\" /><path clip-path=\"url(#clip840)\" d=\"M 0 0 M94.242 608.529 L99.1262 608.529 L99.1262 614.409 L94.242 614.409 L94.242 608.529 Z\" fill=\"#000000\" fill-rule=\"evenodd\" fill-opacity=\"1\" /><path clip-path=\"url(#clip840)\" d=\"M 0 0 M104.242 579.849 L122.598 579.849 L122.598 583.784 L108.524 583.784 L108.524 592.256 Q109.543 591.909 110.561 591.747 Q111.58 591.561 112.598 591.561 Q118.385 591.561 121.765 594.733 Q125.145 597.904 125.145 603.321 Q125.145 608.899 121.672 612.001 Q118.2 615.08 111.881 615.08 Q109.705 615.08 107.436 614.709 Q105.191 614.339 102.784 613.598 L102.784 608.899 Q104.867 610.034 107.089 610.589 Q109.311 611.145 111.788 611.145 Q115.793 611.145 118.131 609.038 Q120.469 606.932 120.469 603.321 Q120.469 599.71 118.131 597.603 Q115.793 595.497 111.788 595.497 Q109.913 595.497 108.038 595.913 Q106.186 596.33 104.242 597.21 L104.242 579.849 Z\" fill=\"#000000\" fill-rule=\"evenodd\" fill-opacity=\"1\" /><path clip-path=\"url(#clip840)\" d=\"M 0 0 M78.5939 301.06 L66.7884 319.509 L78.5939 319.509 L78.5939 301.06 M77.367 296.986 L83.2466 296.986 L83.2466 319.509 L88.1772 319.509 L88.1772 323.398 L83.2466 323.398 L83.2466 331.546 L78.5939 331.546 L78.5939 323.398 L62.9921 323.398 L62.9921 318.884 L77.367 296.986 Z\" fill=\"#000000\" fill-rule=\"evenodd\" fill-opacity=\"1\" /><path clip-path=\"url(#clip840)\" d=\"M 0 0 M93.2466 325.667 L98.1308 325.667 L98.1308 331.546 L93.2466 331.546 L93.2466 325.667 Z\" fill=\"#000000\" fill-rule=\"evenodd\" fill-opacity=\"1\" /><path clip-path=\"url(#clip840)\" d=\"M 0 0 M113.2 300.065 Q109.589 300.065 107.76 303.63 Q105.955 307.171 105.955 314.301 Q105.955 321.407 107.76 324.972 Q109.589 328.514 113.2 328.514 Q116.834 328.514 118.64 324.972 Q120.469 321.407 120.469 314.301 Q120.469 307.171 118.64 303.63 Q116.834 300.065 113.2 300.065 M113.2 296.361 Q119.01 296.361 122.066 300.968 Q125.145 305.551 125.145 314.301 Q125.145 323.028 122.066 327.634 Q119.01 332.217 113.2 332.217 Q107.39 332.217 104.311 327.634 Q101.256 323.028 101.256 314.301 Q101.256 305.551 104.311 300.968 Q107.39 296.361 113.2 296.361 Z\" fill=\"#000000\" fill-rule=\"evenodd\" fill-opacity=\"1\" /><circle clip-path=\"url(#clip842)\" cx=\"673.484\" cy=\"597.129\" r=\"14\" fill=\"#009af9\" fill-rule=\"evenodd\" fill-opacity=\"1\" stroke=\"#000000\" stroke-opacity=\"1\" stroke-width=\"3.2\"/>\n",
       "<circle clip-path=\"url(#clip842)\" cx=\"557.991\" cy=\"879.991\" r=\"14\" fill=\"#009af9\" fill-rule=\"evenodd\" fill-opacity=\"1\" stroke=\"#000000\" stroke-opacity=\"1\" stroke-width=\"3.2\"/>\n",
       "<circle clip-path=\"url(#clip842)\" cx=\"442.497\" cy=\"766.846\" r=\"14\" fill=\"#009af9\" fill-rule=\"evenodd\" fill-opacity=\"1\" stroke=\"#000000\" stroke-opacity=\"1\" stroke-width=\"3.2\"/>\n",
       "<circle clip-path=\"url(#clip842)\" cx=\"384.751\" cy=\"823.418\" r=\"14\" fill=\"#009af9\" fill-rule=\"evenodd\" fill-opacity=\"1\" stroke=\"#000000\" stroke-opacity=\"1\" stroke-width=\"3.2\"/>\n",
       "<circle clip-path=\"url(#clip842)\" cx=\"615.737\" cy=\"540.556\" r=\"14\" fill=\"#009af9\" fill-rule=\"evenodd\" fill-opacity=\"1\" stroke=\"#000000\" stroke-opacity=\"1\" stroke-width=\"3.2\"/>\n",
       "<circle clip-path=\"url(#clip842)\" cx=\"846.724\" cy=\"370.839\" r=\"14\" fill=\"#009af9\" fill-rule=\"evenodd\" fill-opacity=\"1\" stroke=\"#000000\" stroke-opacity=\"1\" stroke-width=\"3.2\"/>\n",
       "<circle clip-path=\"url(#clip842)\" cx=\"384.751\" cy=\"653.701\" r=\"14\" fill=\"#009af9\" fill-rule=\"evenodd\" fill-opacity=\"1\" stroke=\"#000000\" stroke-opacity=\"1\" stroke-width=\"3.2\"/>\n",
       "<circle clip-path=\"url(#clip842)\" cx=\"615.737\" cy=\"653.701\" r=\"14\" fill=\"#009af9\" fill-rule=\"evenodd\" fill-opacity=\"1\" stroke=\"#000000\" stroke-opacity=\"1\" stroke-width=\"3.2\"/>\n",
       "<circle clip-path=\"url(#clip842)\" cx=\"269.258\" cy=\"936.563\" r=\"14\" fill=\"#009af9\" fill-rule=\"evenodd\" fill-opacity=\"1\" stroke=\"#000000\" stroke-opacity=\"1\" stroke-width=\"3.2\"/>\n",
       "<circle clip-path=\"url(#clip842)\" cx=\"557.991\" cy=\"823.418\" r=\"14\" fill=\"#009af9\" fill-rule=\"evenodd\" fill-opacity=\"1\" stroke=\"#000000\" stroke-opacity=\"1\" stroke-width=\"3.2\"/>\n",
       "<circle clip-path=\"url(#clip842)\" cx=\"846.724\" cy=\"483.984\" r=\"14\" fill=\"#009af9\" fill-rule=\"evenodd\" fill-opacity=\"1\" stroke=\"#000000\" stroke-opacity=\"1\" stroke-width=\"3.2\"/>\n",
       "<circle clip-path=\"url(#clip842)\" cx=\"500.244\" cy=\"653.701\" r=\"14\" fill=\"#009af9\" fill-rule=\"evenodd\" fill-opacity=\"1\" stroke=\"#000000\" stroke-opacity=\"1\" stroke-width=\"3.2\"/>\n",
       "<circle clip-path=\"url(#clip842)\" cx=\"500.244\" cy=\"879.991\" r=\"14\" fill=\"#009af9\" fill-rule=\"evenodd\" fill-opacity=\"1\" stroke=\"#000000\" stroke-opacity=\"1\" stroke-width=\"3.2\"/>\n",
       "<circle clip-path=\"url(#clip842)\" cx=\"211.511\" cy=\"879.991\" r=\"14\" fill=\"#009af9\" fill-rule=\"evenodd\" fill-opacity=\"1\" stroke=\"#000000\" stroke-opacity=\"1\" stroke-width=\"3.2\"/>\n",
       "<circle clip-path=\"url(#clip842)\" cx=\"1077.71\" cy=\"314.266\" r=\"14\" fill=\"#009af9\" fill-rule=\"evenodd\" fill-opacity=\"1\" stroke=\"#000000\" stroke-opacity=\"1\" stroke-width=\"3.2\"/>\n",
       "<circle clip-path=\"url(#clip842)\" cx=\"1019.96\" cy=\"87.9763\" r=\"14\" fill=\"#009af9\" fill-rule=\"evenodd\" fill-opacity=\"1\" stroke=\"#000000\" stroke-opacity=\"1\" stroke-width=\"3.2\"/>\n",
       "<circle clip-path=\"url(#clip842)\" cx=\"846.724\" cy=\"370.839\" r=\"14\" fill=\"#009af9\" fill-rule=\"evenodd\" fill-opacity=\"1\" stroke=\"#000000\" stroke-opacity=\"1\" stroke-width=\"3.2\"/>\n",
       "<circle clip-path=\"url(#clip842)\" cx=\"673.484\" cy=\"597.129\" r=\"14\" fill=\"#009af9\" fill-rule=\"evenodd\" fill-opacity=\"1\" stroke=\"#000000\" stroke-opacity=\"1\" stroke-width=\"3.2\"/>\n",
       "<circle clip-path=\"url(#clip842)\" cx=\"1019.96\" cy=\"427.411\" r=\"14\" fill=\"#009af9\" fill-rule=\"evenodd\" fill-opacity=\"1\" stroke=\"#000000\" stroke-opacity=\"1\" stroke-width=\"3.2\"/>\n",
       "<circle clip-path=\"url(#clip842)\" cx=\"673.484\" cy=\"427.411\" r=\"14\" fill=\"#009af9\" fill-rule=\"evenodd\" fill-opacity=\"1\" stroke=\"#000000\" stroke-opacity=\"1\" stroke-width=\"3.2\"/>\n",
       "<circle clip-path=\"url(#clip842)\" cx=\"846.724\" cy=\"653.701\" r=\"14\" fill=\"#009af9\" fill-rule=\"evenodd\" fill-opacity=\"1\" stroke=\"#000000\" stroke-opacity=\"1\" stroke-width=\"3.2\"/>\n",
       "<circle clip-path=\"url(#clip842)\" cx=\"673.484\" cy=\"483.984\" r=\"14\" fill=\"#009af9\" fill-rule=\"evenodd\" fill-opacity=\"1\" stroke=\"#000000\" stroke-opacity=\"1\" stroke-width=\"3.2\"/>\n",
       "<circle clip-path=\"url(#clip842)\" cx=\"384.751\" cy=\"540.556\" r=\"14\" fill=\"#009af9\" fill-rule=\"evenodd\" fill-opacity=\"1\" stroke=\"#000000\" stroke-opacity=\"1\" stroke-width=\"3.2\"/>\n",
       "<circle clip-path=\"url(#clip842)\" cx=\"673.484\" cy=\"710.274\" r=\"14\" fill=\"#009af9\" fill-rule=\"evenodd\" fill-opacity=\"1\" stroke=\"#000000\" stroke-opacity=\"1\" stroke-width=\"3.2\"/>\n",
       "<circle clip-path=\"url(#clip842)\" cx=\"500.244\" cy=\"653.701\" r=\"14\" fill=\"#009af9\" fill-rule=\"evenodd\" fill-opacity=\"1\" stroke=\"#000000\" stroke-opacity=\"1\" stroke-width=\"3.2\"/>\n",
       "<circle clip-path=\"url(#clip842)\" cx=\"615.737\" cy=\"879.991\" r=\"14\" fill=\"#009af9\" fill-rule=\"evenodd\" fill-opacity=\"1\" stroke=\"#000000\" stroke-opacity=\"1\" stroke-width=\"3.2\"/>\n",
       "<circle clip-path=\"url(#clip842)\" cx=\"615.737\" cy=\"653.701\" r=\"14\" fill=\"#009af9\" fill-rule=\"evenodd\" fill-opacity=\"1\" stroke=\"#000000\" stroke-opacity=\"1\" stroke-width=\"3.2\"/>\n",
       "<circle clip-path=\"url(#clip842)\" cx=\"731.231\" cy=\"597.129\" r=\"14\" fill=\"#009af9\" fill-rule=\"evenodd\" fill-opacity=\"1\" stroke=\"#000000\" stroke-opacity=\"1\" stroke-width=\"3.2\"/>\n",
       "<circle clip-path=\"url(#clip842)\" cx=\"731.231\" cy=\"653.701\" r=\"14\" fill=\"#009af9\" fill-rule=\"evenodd\" fill-opacity=\"1\" stroke=\"#000000\" stroke-opacity=\"1\" stroke-width=\"3.2\"/>\n",
       "<circle clip-path=\"url(#clip842)\" cx=\"442.497\" cy=\"766.846\" r=\"14\" fill=\"#009af9\" fill-rule=\"evenodd\" fill-opacity=\"1\" stroke=\"#000000\" stroke-opacity=\"1\" stroke-width=\"3.2\"/>\n",
       "<circle clip-path=\"url(#clip842)\" cx=\"500.244\" cy=\"823.418\" r=\"14\" fill=\"#009af9\" fill-rule=\"evenodd\" fill-opacity=\"1\" stroke=\"#000000\" stroke-opacity=\"1\" stroke-width=\"3.2\"/>\n",
       "<circle clip-path=\"url(#clip842)\" cx=\"846.724\" cy=\"653.701\" r=\"14\" fill=\"#009af9\" fill-rule=\"evenodd\" fill-opacity=\"1\" stroke=\"#000000\" stroke-opacity=\"1\" stroke-width=\"3.2\"/>\n",
       "<circle clip-path=\"url(#clip842)\" cx=\"731.231\" cy=\"257.694\" r=\"14\" fill=\"#009af9\" fill-rule=\"evenodd\" fill-opacity=\"1\" stroke=\"#000000\" stroke-opacity=\"1\" stroke-width=\"3.2\"/>\n",
       "<circle clip-path=\"url(#clip842)\" cx=\"904.47\" cy=\"201.121\" r=\"14\" fill=\"#009af9\" fill-rule=\"evenodd\" fill-opacity=\"1\" stroke=\"#000000\" stroke-opacity=\"1\" stroke-width=\"3.2\"/>\n",
       "<circle clip-path=\"url(#clip842)\" cx=\"557.991\" cy=\"823.418\" r=\"14\" fill=\"#009af9\" fill-rule=\"evenodd\" fill-opacity=\"1\" stroke=\"#000000\" stroke-opacity=\"1\" stroke-width=\"3.2\"/>\n",
       "<circle clip-path=\"url(#clip842)\" cx=\"615.737\" cy=\"766.846\" r=\"14\" fill=\"#009af9\" fill-rule=\"evenodd\" fill-opacity=\"1\" stroke=\"#000000\" stroke-opacity=\"1\" stroke-width=\"3.2\"/>\n",
       "<circle clip-path=\"url(#clip842)\" cx=\"904.47\" cy=\"597.129\" r=\"14\" fill=\"#009af9\" fill-rule=\"evenodd\" fill-opacity=\"1\" stroke=\"#000000\" stroke-opacity=\"1\" stroke-width=\"3.2\"/>\n",
       "<circle clip-path=\"url(#clip842)\" cx=\"557.991\" cy=\"540.556\" r=\"14\" fill=\"#009af9\" fill-rule=\"evenodd\" fill-opacity=\"1\" stroke=\"#000000\" stroke-opacity=\"1\" stroke-width=\"3.2\"/>\n",
       "<circle clip-path=\"url(#clip842)\" cx=\"269.258\" cy=\"879.991\" r=\"14\" fill=\"#009af9\" fill-rule=\"evenodd\" fill-opacity=\"1\" stroke=\"#000000\" stroke-opacity=\"1\" stroke-width=\"3.2\"/>\n",
       "<circle clip-path=\"url(#clip842)\" cx=\"673.484\" cy=\"653.701\" r=\"14\" fill=\"#009af9\" fill-rule=\"evenodd\" fill-opacity=\"1\" stroke=\"#000000\" stroke-opacity=\"1\" stroke-width=\"3.2\"/>\n",
       "<circle clip-path=\"url(#clip842)\" cx=\"615.737\" cy=\"597.129\" r=\"14\" fill=\"#009af9\" fill-rule=\"evenodd\" fill-opacity=\"1\" stroke=\"#000000\" stroke-opacity=\"1\" stroke-width=\"3.2\"/>\n",
       "<circle clip-path=\"url(#clip842)\" cx=\"327.004\" cy=\"1276\" r=\"14\" fill=\"#009af9\" fill-rule=\"evenodd\" fill-opacity=\"1\" stroke=\"#000000\" stroke-opacity=\"1\" stroke-width=\"3.2\"/>\n",
       "<circle clip-path=\"url(#clip842)\" cx=\"269.258\" cy=\"766.846\" r=\"14\" fill=\"#009af9\" fill-rule=\"evenodd\" fill-opacity=\"1\" stroke=\"#000000\" stroke-opacity=\"1\" stroke-width=\"3.2\"/>\n",
       "<circle clip-path=\"url(#clip842)\" cx=\"615.737\" cy=\"597.129\" r=\"14\" fill=\"#009af9\" fill-rule=\"evenodd\" fill-opacity=\"1\" stroke=\"#000000\" stroke-opacity=\"1\" stroke-width=\"3.2\"/>\n",
       "<circle clip-path=\"url(#clip842)\" cx=\"673.484\" cy=\"427.411\" r=\"14\" fill=\"#009af9\" fill-rule=\"evenodd\" fill-opacity=\"1\" stroke=\"#000000\" stroke-opacity=\"1\" stroke-width=\"3.2\"/>\n",
       "<circle clip-path=\"url(#clip842)\" cx=\"500.244\" cy=\"879.991\" r=\"14\" fill=\"#009af9\" fill-rule=\"evenodd\" fill-opacity=\"1\" stroke=\"#000000\" stroke-opacity=\"1\" stroke-width=\"3.2\"/>\n",
       "<circle clip-path=\"url(#clip842)\" cx=\"673.484\" cy=\"427.411\" r=\"14\" fill=\"#009af9\" fill-rule=\"evenodd\" fill-opacity=\"1\" stroke=\"#000000\" stroke-opacity=\"1\" stroke-width=\"3.2\"/>\n",
       "<circle clip-path=\"url(#clip842)\" cx=\"384.751\" cy=\"766.846\" r=\"14\" fill=\"#009af9\" fill-rule=\"evenodd\" fill-opacity=\"1\" stroke=\"#000000\" stroke-opacity=\"1\" stroke-width=\"3.2\"/>\n",
       "<circle clip-path=\"url(#clip842)\" cx=\"788.977\" cy=\"483.984\" r=\"14\" fill=\"#009af9\" fill-rule=\"evenodd\" fill-opacity=\"1\" stroke=\"#000000\" stroke-opacity=\"1\" stroke-width=\"3.2\"/>\n",
       "<circle clip-path=\"url(#clip842)\" cx=\"615.737\" cy=\"710.274\" r=\"14\" fill=\"#009af9\" fill-rule=\"evenodd\" fill-opacity=\"1\" stroke=\"#000000\" stroke-opacity=\"1\" stroke-width=\"3.2\"/>\n",
       "<circle clip-path=\"url(#clip842)\" cx=\"1770.67\" cy=\"766.846\" r=\"14\" fill=\"#009af9\" fill-rule=\"evenodd\" fill-opacity=\"1\" stroke=\"#000000\" stroke-opacity=\"1\" stroke-width=\"3.2\"/>\n",
       "<circle clip-path=\"url(#clip842)\" cx=\"1424.19\" cy=\"766.846\" r=\"14\" fill=\"#009af9\" fill-rule=\"evenodd\" fill-opacity=\"1\" stroke=\"#000000\" stroke-opacity=\"1\" stroke-width=\"3.2\"/>\n",
       "<circle clip-path=\"url(#clip842)\" cx=\"1712.92\" cy=\"823.418\" r=\"14\" fill=\"#009af9\" fill-rule=\"evenodd\" fill-opacity=\"1\" stroke=\"#000000\" stroke-opacity=\"1\" stroke-width=\"3.2\"/>\n",
       "<circle clip-path=\"url(#clip842)\" cx=\"904.47\" cy=\"1276\" r=\"14\" fill=\"#009af9\" fill-rule=\"evenodd\" fill-opacity=\"1\" stroke=\"#000000\" stroke-opacity=\"1\" stroke-width=\"3.2\"/>\n",
       "<circle clip-path=\"url(#clip842)\" cx=\"1481.94\" cy=\"993.136\" r=\"14\" fill=\"#009af9\" fill-rule=\"evenodd\" fill-opacity=\"1\" stroke=\"#000000\" stroke-opacity=\"1\" stroke-width=\"3.2\"/>\n",
       "<circle clip-path=\"url(#clip842)\" cx=\"1019.96\" cy=\"993.136\" r=\"14\" fill=\"#009af9\" fill-rule=\"evenodd\" fill-opacity=\"1\" stroke=\"#000000\" stroke-opacity=\"1\" stroke-width=\"3.2\"/>\n",
       "<circle clip-path=\"url(#clip842)\" cx=\"1366.44\" cy=\"710.274\" r=\"14\" fill=\"#009af9\" fill-rule=\"evenodd\" fill-opacity=\"1\" stroke=\"#000000\" stroke-opacity=\"1\" stroke-width=\"3.2\"/>\n",
       "<circle clip-path=\"url(#clip842)\" cx=\"557.991\" cy=\"1219.43\" r=\"14\" fill=\"#009af9\" fill-rule=\"evenodd\" fill-opacity=\"1\" stroke=\"#000000\" stroke-opacity=\"1\" stroke-width=\"3.2\"/>\n",
       "<circle clip-path=\"url(#clip842)\" cx=\"1539.68\" cy=\"936.563\" r=\"14\" fill=\"#009af9\" fill-rule=\"evenodd\" fill-opacity=\"1\" stroke=\"#000000\" stroke-opacity=\"1\" stroke-width=\"3.2\"/>\n",
       "<circle clip-path=\"url(#clip842)\" cx=\"731.231\" cy=\"1049.71\" r=\"14\" fill=\"#009af9\" fill-rule=\"evenodd\" fill-opacity=\"1\" stroke=\"#000000\" stroke-opacity=\"1\" stroke-width=\"3.2\"/>\n",
       "<circle clip-path=\"url(#clip842)\" cx=\"615.737\" cy=\"1445.72\" r=\"14\" fill=\"#009af9\" fill-rule=\"evenodd\" fill-opacity=\"1\" stroke=\"#000000\" stroke-opacity=\"1\" stroke-width=\"3.2\"/>\n",
       "<circle clip-path=\"url(#clip842)\" cx=\"1135.46\" cy=\"879.991\" r=\"14\" fill=\"#009af9\" fill-rule=\"evenodd\" fill-opacity=\"1\" stroke=\"#000000\" stroke-opacity=\"1\" stroke-width=\"3.2\"/>\n",
       "<circle clip-path=\"url(#clip842)\" cx=\"1193.2\" cy=\"1332.57\" r=\"14\" fill=\"#009af9\" fill-rule=\"evenodd\" fill-opacity=\"1\" stroke=\"#000000\" stroke-opacity=\"1\" stroke-width=\"3.2\"/>\n",
       "<circle clip-path=\"url(#clip842)\" cx=\"1250.95\" cy=\"936.563\" r=\"14\" fill=\"#009af9\" fill-rule=\"evenodd\" fill-opacity=\"1\" stroke=\"#000000\" stroke-opacity=\"1\" stroke-width=\"3.2\"/>\n",
       "<circle clip-path=\"url(#clip842)\" cx=\"962.217\" cy=\"936.563\" r=\"14\" fill=\"#009af9\" fill-rule=\"evenodd\" fill-opacity=\"1\" stroke=\"#000000\" stroke-opacity=\"1\" stroke-width=\"3.2\"/>\n",
       "<circle clip-path=\"url(#clip842)\" cx=\"1597.43\" cy=\"823.418\" r=\"14\" fill=\"#009af9\" fill-rule=\"evenodd\" fill-opacity=\"1\" stroke=\"#000000\" stroke-opacity=\"1\" stroke-width=\"3.2\"/>\n",
       "<circle clip-path=\"url(#clip842)\" cx=\"962.217\" cy=\"879.991\" r=\"14\" fill=\"#009af9\" fill-rule=\"evenodd\" fill-opacity=\"1\" stroke=\"#000000\" stroke-opacity=\"1\" stroke-width=\"3.2\"/>\n",
       "<circle clip-path=\"url(#clip842)\" cx=\"1077.71\" cy=\"1049.71\" r=\"14\" fill=\"#009af9\" fill-rule=\"evenodd\" fill-opacity=\"1\" stroke=\"#000000\" stroke-opacity=\"1\" stroke-width=\"3.2\"/>\n",
       "<circle clip-path=\"url(#clip842)\" cx=\"1308.7\" cy=\"1332.57\" r=\"14\" fill=\"#009af9\" fill-rule=\"evenodd\" fill-opacity=\"1\" stroke=\"#000000\" stroke-opacity=\"1\" stroke-width=\"3.2\"/>\n",
       "<circle clip-path=\"url(#clip842)\" cx=\"962.217\" cy=\"1162.85\" r=\"14\" fill=\"#009af9\" fill-rule=\"evenodd\" fill-opacity=\"1\" stroke=\"#000000\" stroke-opacity=\"1\" stroke-width=\"3.2\"/>\n",
       "<circle clip-path=\"url(#clip842)\" cx=\"1135.46\" cy=\"766.846\" r=\"14\" fill=\"#009af9\" fill-rule=\"evenodd\" fill-opacity=\"1\" stroke=\"#000000\" stroke-opacity=\"1\" stroke-width=\"3.2\"/>\n",
       "<circle clip-path=\"url(#clip842)\" cx=\"1250.95\" cy=\"993.136\" r=\"14\" fill=\"#009af9\" fill-rule=\"evenodd\" fill-opacity=\"1\" stroke=\"#000000\" stroke-opacity=\"1\" stroke-width=\"3.2\"/>\n",
       "<circle clip-path=\"url(#clip842)\" cx=\"1366.44\" cy=\"1162.85\" r=\"14\" fill=\"#009af9\" fill-rule=\"evenodd\" fill-opacity=\"1\" stroke=\"#000000\" stroke-opacity=\"1\" stroke-width=\"3.2\"/>\n",
       "<circle clip-path=\"url(#clip842)\" cx=\"1250.95\" cy=\"993.136\" r=\"14\" fill=\"#009af9\" fill-rule=\"evenodd\" fill-opacity=\"1\" stroke=\"#000000\" stroke-opacity=\"1\" stroke-width=\"3.2\"/>\n",
       "<circle clip-path=\"url(#clip842)\" cx=\"1424.19\" cy=\"936.563\" r=\"14\" fill=\"#009af9\" fill-rule=\"evenodd\" fill-opacity=\"1\" stroke=\"#000000\" stroke-opacity=\"1\" stroke-width=\"3.2\"/>\n",
       "<circle clip-path=\"url(#clip842)\" cx=\"1539.68\" cy=\"879.991\" r=\"14\" fill=\"#009af9\" fill-rule=\"evenodd\" fill-opacity=\"1\" stroke=\"#000000\" stroke-opacity=\"1\" stroke-width=\"3.2\"/>\n",
       "<circle clip-path=\"url(#clip842)\" cx=\"1655.18\" cy=\"993.136\" r=\"14\" fill=\"#009af9\" fill-rule=\"evenodd\" fill-opacity=\"1\" stroke=\"#000000\" stroke-opacity=\"1\" stroke-width=\"3.2\"/>\n",
       "<circle clip-path=\"url(#clip842)\" cx=\"1597.43\" cy=\"879.991\" r=\"14\" fill=\"#009af9\" fill-rule=\"evenodd\" fill-opacity=\"1\" stroke=\"#000000\" stroke-opacity=\"1\" stroke-width=\"3.2\"/>\n",
       "<circle clip-path=\"url(#clip842)\" cx=\"1193.2\" cy=\"936.563\" r=\"14\" fill=\"#009af9\" fill-rule=\"evenodd\" fill-opacity=\"1\" stroke=\"#000000\" stroke-opacity=\"1\" stroke-width=\"3.2\"/>\n",
       "<circle clip-path=\"url(#clip842)\" cx=\"1019.96\" cy=\"1106.28\" r=\"14\" fill=\"#009af9\" fill-rule=\"evenodd\" fill-opacity=\"1\" stroke=\"#000000\" stroke-opacity=\"1\" stroke-width=\"3.2\"/>\n",
       "<circle clip-path=\"url(#clip842)\" cx=\"904.47\" cy=\"1219.43\" r=\"14\" fill=\"#009af9\" fill-rule=\"evenodd\" fill-opacity=\"1\" stroke=\"#000000\" stroke-opacity=\"1\" stroke-width=\"3.2\"/>\n",
       "<circle clip-path=\"url(#clip842)\" cx=\"904.47\" cy=\"1219.43\" r=\"14\" fill=\"#009af9\" fill-rule=\"evenodd\" fill-opacity=\"1\" stroke=\"#000000\" stroke-opacity=\"1\" stroke-width=\"3.2\"/>\n",
       "<circle clip-path=\"url(#clip842)\" cx=\"1077.71\" cy=\"1049.71\" r=\"14\" fill=\"#009af9\" fill-rule=\"evenodd\" fill-opacity=\"1\" stroke=\"#000000\" stroke-opacity=\"1\" stroke-width=\"3.2\"/>\n",
       "<circle clip-path=\"url(#clip842)\" cx=\"1193.2\" cy=\"1049.71\" r=\"14\" fill=\"#009af9\" fill-rule=\"evenodd\" fill-opacity=\"1\" stroke=\"#000000\" stroke-opacity=\"1\" stroke-width=\"3.2\"/>\n",
       "<circle clip-path=\"url(#clip842)\" cx=\"846.724\" cy=\"879.991\" r=\"14\" fill=\"#009af9\" fill-rule=\"evenodd\" fill-opacity=\"1\" stroke=\"#000000\" stroke-opacity=\"1\" stroke-width=\"3.2\"/>\n",
       "<circle clip-path=\"url(#clip842)\" cx=\"1193.2\" cy=\"653.701\" r=\"14\" fill=\"#009af9\" fill-rule=\"evenodd\" fill-opacity=\"1\" stroke=\"#000000\" stroke-opacity=\"1\" stroke-width=\"3.2\"/>\n",
       "<circle clip-path=\"url(#clip842)\" cx=\"1597.43\" cy=\"823.418\" r=\"14\" fill=\"#009af9\" fill-rule=\"evenodd\" fill-opacity=\"1\" stroke=\"#000000\" stroke-opacity=\"1\" stroke-width=\"3.2\"/>\n",
       "<circle clip-path=\"url(#clip842)\" cx=\"1366.44\" cy=\"1276\" r=\"14\" fill=\"#009af9\" fill-rule=\"evenodd\" fill-opacity=\"1\" stroke=\"#000000\" stroke-opacity=\"1\" stroke-width=\"3.2\"/>\n",
       "<circle clip-path=\"url(#clip842)\" cx=\"962.217\" cy=\"879.991\" r=\"14\" fill=\"#009af9\" fill-rule=\"evenodd\" fill-opacity=\"1\" stroke=\"#000000\" stroke-opacity=\"1\" stroke-width=\"3.2\"/>\n",
       "<circle clip-path=\"url(#clip842)\" cx=\"904.47\" cy=\"1162.85\" r=\"14\" fill=\"#009af9\" fill-rule=\"evenodd\" fill-opacity=\"1\" stroke=\"#000000\" stroke-opacity=\"1\" stroke-width=\"3.2\"/>\n",
       "<circle clip-path=\"url(#clip842)\" cx=\"904.47\" cy=\"1106.28\" r=\"14\" fill=\"#009af9\" fill-rule=\"evenodd\" fill-opacity=\"1\" stroke=\"#000000\" stroke-opacity=\"1\" stroke-width=\"3.2\"/>\n",
       "<circle clip-path=\"url(#clip842)\" cx=\"1250.95\" cy=\"879.991\" r=\"14\" fill=\"#009af9\" fill-rule=\"evenodd\" fill-opacity=\"1\" stroke=\"#000000\" stroke-opacity=\"1\" stroke-width=\"3.2\"/>\n",
       "<circle clip-path=\"url(#clip842)\" cx=\"1077.71\" cy=\"1106.28\" r=\"14\" fill=\"#009af9\" fill-rule=\"evenodd\" fill-opacity=\"1\" stroke=\"#000000\" stroke-opacity=\"1\" stroke-width=\"3.2\"/>\n",
       "<circle clip-path=\"url(#clip842)\" cx=\"615.737\" cy=\"1276\" r=\"14\" fill=\"#009af9\" fill-rule=\"evenodd\" fill-opacity=\"1\" stroke=\"#000000\" stroke-opacity=\"1\" stroke-width=\"3.2\"/>\n",
       "<circle clip-path=\"url(#clip842)\" cx=\"962.217\" cy=\"1049.71\" r=\"14\" fill=\"#009af9\" fill-rule=\"evenodd\" fill-opacity=\"1\" stroke=\"#000000\" stroke-opacity=\"1\" stroke-width=\"3.2\"/>\n",
       "<circle clip-path=\"url(#clip842)\" cx=\"1019.96\" cy=\"879.991\" r=\"14\" fill=\"#009af9\" fill-rule=\"evenodd\" fill-opacity=\"1\" stroke=\"#000000\" stroke-opacity=\"1\" stroke-width=\"3.2\"/>\n",
       "<circle clip-path=\"url(#clip842)\" cx=\"1019.96\" cy=\"936.563\" r=\"14\" fill=\"#009af9\" fill-rule=\"evenodd\" fill-opacity=\"1\" stroke=\"#000000\" stroke-opacity=\"1\" stroke-width=\"3.2\"/>\n",
       "<circle clip-path=\"url(#clip842)\" cx=\"1308.7\" cy=\"936.563\" r=\"14\" fill=\"#009af9\" fill-rule=\"evenodd\" fill-opacity=\"1\" stroke=\"#000000\" stroke-opacity=\"1\" stroke-width=\"3.2\"/>\n",
       "<circle clip-path=\"url(#clip842)\" cx=\"673.484\" cy=\"1162.85\" r=\"14\" fill=\"#009af9\" fill-rule=\"evenodd\" fill-opacity=\"1\" stroke=\"#000000\" stroke-opacity=\"1\" stroke-width=\"3.2\"/>\n",
       "<circle clip-path=\"url(#clip842)\" cx=\"1019.96\" cy=\"993.136\" r=\"14\" fill=\"#009af9\" fill-rule=\"evenodd\" fill-opacity=\"1\" stroke=\"#000000\" stroke-opacity=\"1\" stroke-width=\"3.2\"/>\n",
       "<circle clip-path=\"url(#clip842)\" cx=\"1366.44\" cy=\"710.274\" r=\"14\" fill=\"#009af9\" fill-rule=\"evenodd\" fill-opacity=\"1\" stroke=\"#000000\" stroke-opacity=\"1\" stroke-width=\"3.2\"/>\n",
       "<circle clip-path=\"url(#clip842)\" cx=\"1077.71\" cy=\"1049.71\" r=\"14\" fill=\"#009af9\" fill-rule=\"evenodd\" fill-opacity=\"1\" stroke=\"#000000\" stroke-opacity=\"1\" stroke-width=\"3.2\"/>\n",
       "<circle clip-path=\"url(#clip842)\" cx=\"1828.42\" cy=\"879.991\" r=\"14\" fill=\"#009af9\" fill-rule=\"evenodd\" fill-opacity=\"1\" stroke=\"#000000\" stroke-opacity=\"1\" stroke-width=\"3.2\"/>\n",
       "<circle clip-path=\"url(#clip842)\" cx=\"1366.44\" cy=\"936.563\" r=\"14\" fill=\"#009af9\" fill-rule=\"evenodd\" fill-opacity=\"1\" stroke=\"#000000\" stroke-opacity=\"1\" stroke-width=\"3.2\"/>\n",
       "<circle clip-path=\"url(#clip842)\" cx=\"1481.94\" cy=\"879.991\" r=\"14\" fill=\"#009af9\" fill-rule=\"evenodd\" fill-opacity=\"1\" stroke=\"#000000\" stroke-opacity=\"1\" stroke-width=\"3.2\"/>\n",
       "<circle clip-path=\"url(#clip842)\" cx=\"2117.15\" cy=\"879.991\" r=\"14\" fill=\"#009af9\" fill-rule=\"evenodd\" fill-opacity=\"1\" stroke=\"#000000\" stroke-opacity=\"1\" stroke-width=\"3.2\"/>\n",
       "<circle clip-path=\"url(#clip842)\" cx=\"557.991\" cy=\"1162.85\" r=\"14\" fill=\"#009af9\" fill-rule=\"evenodd\" fill-opacity=\"1\" stroke=\"#000000\" stroke-opacity=\"1\" stroke-width=\"3.2\"/>\n",
       "<circle clip-path=\"url(#clip842)\" cx=\"1943.91\" cy=\"936.563\" r=\"14\" fill=\"#009af9\" fill-rule=\"evenodd\" fill-opacity=\"1\" stroke=\"#000000\" stroke-opacity=\"1\" stroke-width=\"3.2\"/>\n",
       "<circle clip-path=\"url(#clip842)\" cx=\"1597.43\" cy=\"1162.85\" r=\"14\" fill=\"#009af9\" fill-rule=\"evenodd\" fill-opacity=\"1\" stroke=\"#000000\" stroke-opacity=\"1\" stroke-width=\"3.2\"/>\n",
       "<circle clip-path=\"url(#clip842)\" cx=\"1886.16\" cy=\"540.556\" r=\"14\" fill=\"#009af9\" fill-rule=\"evenodd\" fill-opacity=\"1\" stroke=\"#000000\" stroke-opacity=\"1\" stroke-width=\"3.2\"/>\n",
       "<circle clip-path=\"url(#clip842)\" cx=\"1481.94\" cy=\"766.846\" r=\"14\" fill=\"#009af9\" fill-rule=\"evenodd\" fill-opacity=\"1\" stroke=\"#000000\" stroke-opacity=\"1\" stroke-width=\"3.2\"/>\n",
       "<circle clip-path=\"url(#clip842)\" cx=\"1424.19\" cy=\"1049.71\" r=\"14\" fill=\"#009af9\" fill-rule=\"evenodd\" fill-opacity=\"1\" stroke=\"#000000\" stroke-opacity=\"1\" stroke-width=\"3.2\"/>\n",
       "<circle clip-path=\"url(#clip842)\" cx=\"1655.18\" cy=\"879.991\" r=\"14\" fill=\"#009af9\" fill-rule=\"evenodd\" fill-opacity=\"1\" stroke=\"#000000\" stroke-opacity=\"1\" stroke-width=\"3.2\"/>\n",
       "<circle clip-path=\"url(#clip842)\" cx=\"1019.96\" cy=\"1162.85\" r=\"14\" fill=\"#009af9\" fill-rule=\"evenodd\" fill-opacity=\"1\" stroke=\"#000000\" stroke-opacity=\"1\" stroke-width=\"3.2\"/>\n",
       "<circle clip-path=\"url(#clip842)\" cx=\"1077.71\" cy=\"993.136\" r=\"14\" fill=\"#009af9\" fill-rule=\"evenodd\" fill-opacity=\"1\" stroke=\"#000000\" stroke-opacity=\"1\" stroke-width=\"3.2\"/>\n",
       "<circle clip-path=\"url(#clip842)\" cx=\"1424.19\" cy=\"766.846\" r=\"14\" fill=\"#009af9\" fill-rule=\"evenodd\" fill-opacity=\"1\" stroke=\"#000000\" stroke-opacity=\"1\" stroke-width=\"3.2\"/>\n",
       "<circle clip-path=\"url(#clip842)\" cx=\"1481.94\" cy=\"879.991\" r=\"14\" fill=\"#009af9\" fill-rule=\"evenodd\" fill-opacity=\"1\" stroke=\"#000000\" stroke-opacity=\"1\" stroke-width=\"3.2\"/>\n",
       "<circle clip-path=\"url(#clip842)\" cx=\"2174.9\" cy=\"427.411\" r=\"14\" fill=\"#009af9\" fill-rule=\"evenodd\" fill-opacity=\"1\" stroke=\"#000000\" stroke-opacity=\"1\" stroke-width=\"3.2\"/>\n",
       "<circle clip-path=\"url(#clip842)\" cx=\"2174.9\" cy=\"1106.28\" r=\"14\" fill=\"#009af9\" fill-rule=\"evenodd\" fill-opacity=\"1\" stroke=\"#000000\" stroke-opacity=\"1\" stroke-width=\"3.2\"/>\n",
       "<circle clip-path=\"url(#clip842)\" cx=\"1193.2\" cy=\"1332.57\" r=\"14\" fill=\"#009af9\" fill-rule=\"evenodd\" fill-opacity=\"1\" stroke=\"#000000\" stroke-opacity=\"1\" stroke-width=\"3.2\"/>\n",
       "<circle clip-path=\"url(#clip842)\" cx=\"1712.92\" cy=\"766.846\" r=\"14\" fill=\"#009af9\" fill-rule=\"evenodd\" fill-opacity=\"1\" stroke=\"#000000\" stroke-opacity=\"1\" stroke-width=\"3.2\"/>\n",
       "<circle clip-path=\"url(#clip842)\" cx=\"962.217\" cy=\"993.136\" r=\"14\" fill=\"#009af9\" fill-rule=\"evenodd\" fill-opacity=\"1\" stroke=\"#000000\" stroke-opacity=\"1\" stroke-width=\"3.2\"/>\n",
       "<circle clip-path=\"url(#clip842)\" cx=\"2174.9\" cy=\"993.136\" r=\"14\" fill=\"#009af9\" fill-rule=\"evenodd\" fill-opacity=\"1\" stroke=\"#000000\" stroke-opacity=\"1\" stroke-width=\"3.2\"/>\n",
       "<circle clip-path=\"url(#clip842)\" cx=\"1366.44\" cy=\"1049.71\" r=\"14\" fill=\"#009af9\" fill-rule=\"evenodd\" fill-opacity=\"1\" stroke=\"#000000\" stroke-opacity=\"1\" stroke-width=\"3.2\"/>\n",
       "<circle clip-path=\"url(#clip842)\" cx=\"1597.43\" cy=\"710.274\" r=\"14\" fill=\"#009af9\" fill-rule=\"evenodd\" fill-opacity=\"1\" stroke=\"#000000\" stroke-opacity=\"1\" stroke-width=\"3.2\"/>\n",
       "<circle clip-path=\"url(#clip842)\" cx=\"1886.16\" cy=\"766.846\" r=\"14\" fill=\"#009af9\" fill-rule=\"evenodd\" fill-opacity=\"1\" stroke=\"#000000\" stroke-opacity=\"1\" stroke-width=\"3.2\"/>\n",
       "<circle clip-path=\"url(#clip842)\" cx=\"1308.7\" cy=\"993.136\" r=\"14\" fill=\"#009af9\" fill-rule=\"evenodd\" fill-opacity=\"1\" stroke=\"#000000\" stroke-opacity=\"1\" stroke-width=\"3.2\"/>\n",
       "<circle clip-path=\"url(#clip842)\" cx=\"1250.95\" cy=\"879.991\" r=\"14\" fill=\"#009af9\" fill-rule=\"evenodd\" fill-opacity=\"1\" stroke=\"#000000\" stroke-opacity=\"1\" stroke-width=\"3.2\"/>\n",
       "<circle clip-path=\"url(#clip842)\" cx=\"1424.19\" cy=\"993.136\" r=\"14\" fill=\"#009af9\" fill-rule=\"evenodd\" fill-opacity=\"1\" stroke=\"#000000\" stroke-opacity=\"1\" stroke-width=\"3.2\"/>\n",
       "<circle clip-path=\"url(#clip842)\" cx=\"1886.16\" cy=\"879.991\" r=\"14\" fill=\"#009af9\" fill-rule=\"evenodd\" fill-opacity=\"1\" stroke=\"#000000\" stroke-opacity=\"1\" stroke-width=\"3.2\"/>\n",
       "<circle clip-path=\"url(#clip842)\" cx=\"2001.66\" cy=\"993.136\" r=\"14\" fill=\"#009af9\" fill-rule=\"evenodd\" fill-opacity=\"1\" stroke=\"#000000\" stroke-opacity=\"1\" stroke-width=\"3.2\"/>\n",
       "<circle clip-path=\"url(#clip842)\" cx=\"2290.39\" cy=\"427.411\" r=\"14\" fill=\"#009af9\" fill-rule=\"evenodd\" fill-opacity=\"1\" stroke=\"#000000\" stroke-opacity=\"1\" stroke-width=\"3.2\"/>\n",
       "<circle clip-path=\"url(#clip842)\" cx=\"1424.19\" cy=\"993.136\" r=\"14\" fill=\"#009af9\" fill-rule=\"evenodd\" fill-opacity=\"1\" stroke=\"#000000\" stroke-opacity=\"1\" stroke-width=\"3.2\"/>\n",
       "<circle clip-path=\"url(#clip842)\" cx=\"1366.44\" cy=\"993.136\" r=\"14\" fill=\"#009af9\" fill-rule=\"evenodd\" fill-opacity=\"1\" stroke=\"#000000\" stroke-opacity=\"1\" stroke-width=\"3.2\"/>\n",
       "<circle clip-path=\"url(#clip842)\" cx=\"1250.95\" cy=\"1106.28\" r=\"14\" fill=\"#009af9\" fill-rule=\"evenodd\" fill-opacity=\"1\" stroke=\"#000000\" stroke-opacity=\"1\" stroke-width=\"3.2\"/>\n",
       "<circle clip-path=\"url(#clip842)\" cx=\"2174.9\" cy=\"879.991\" r=\"14\" fill=\"#009af9\" fill-rule=\"evenodd\" fill-opacity=\"1\" stroke=\"#000000\" stroke-opacity=\"1\" stroke-width=\"3.2\"/>\n",
       "<circle clip-path=\"url(#clip842)\" cx=\"1366.44\" cy=\"653.701\" r=\"14\" fill=\"#009af9\" fill-rule=\"evenodd\" fill-opacity=\"1\" stroke=\"#000000\" stroke-opacity=\"1\" stroke-width=\"3.2\"/>\n",
       "<circle clip-path=\"url(#clip842)\" cx=\"1424.19\" cy=\"823.418\" r=\"14\" fill=\"#009af9\" fill-rule=\"evenodd\" fill-opacity=\"1\" stroke=\"#000000\" stroke-opacity=\"1\" stroke-width=\"3.2\"/>\n",
       "<circle clip-path=\"url(#clip842)\" cx=\"1193.2\" cy=\"879.991\" r=\"14\" fill=\"#009af9\" fill-rule=\"evenodd\" fill-opacity=\"1\" stroke=\"#000000\" stroke-opacity=\"1\" stroke-width=\"3.2\"/>\n",
       "<circle clip-path=\"url(#clip842)\" cx=\"1712.92\" cy=\"823.418\" r=\"14\" fill=\"#009af9\" fill-rule=\"evenodd\" fill-opacity=\"1\" stroke=\"#000000\" stroke-opacity=\"1\" stroke-width=\"3.2\"/>\n",
       "<circle clip-path=\"url(#clip842)\" cx=\"1597.43\" cy=\"823.418\" r=\"14\" fill=\"#009af9\" fill-rule=\"evenodd\" fill-opacity=\"1\" stroke=\"#000000\" stroke-opacity=\"1\" stroke-width=\"3.2\"/>\n",
       "<circle clip-path=\"url(#clip842)\" cx=\"1712.92\" cy=\"823.418\" r=\"14\" fill=\"#009af9\" fill-rule=\"evenodd\" fill-opacity=\"1\" stroke=\"#000000\" stroke-opacity=\"1\" stroke-width=\"3.2\"/>\n",
       "<circle clip-path=\"url(#clip842)\" cx=\"1077.71\" cy=\"1049.71\" r=\"14\" fill=\"#009af9\" fill-rule=\"evenodd\" fill-opacity=\"1\" stroke=\"#000000\" stroke-opacity=\"1\" stroke-width=\"3.2\"/>\n",
       "<circle clip-path=\"url(#clip842)\" cx=\"1655.18\" cy=\"766.846\" r=\"14\" fill=\"#009af9\" fill-rule=\"evenodd\" fill-opacity=\"1\" stroke=\"#000000\" stroke-opacity=\"1\" stroke-width=\"3.2\"/>\n",
       "<circle clip-path=\"url(#clip842)\" cx=\"1597.43\" cy=\"710.274\" r=\"14\" fill=\"#009af9\" fill-rule=\"evenodd\" fill-opacity=\"1\" stroke=\"#000000\" stroke-opacity=\"1\" stroke-width=\"3.2\"/>\n",
       "<circle clip-path=\"url(#clip842)\" cx=\"1597.43\" cy=\"879.991\" r=\"14\" fill=\"#009af9\" fill-rule=\"evenodd\" fill-opacity=\"1\" stroke=\"#000000\" stroke-opacity=\"1\" stroke-width=\"3.2\"/>\n",
       "<circle clip-path=\"url(#clip842)\" cx=\"1366.44\" cy=\"1162.85\" r=\"14\" fill=\"#009af9\" fill-rule=\"evenodd\" fill-opacity=\"1\" stroke=\"#000000\" stroke-opacity=\"1\" stroke-width=\"3.2\"/>\n",
       "<circle clip-path=\"url(#clip842)\" cx=\"1481.94\" cy=\"879.991\" r=\"14\" fill=\"#009af9\" fill-rule=\"evenodd\" fill-opacity=\"1\" stroke=\"#000000\" stroke-opacity=\"1\" stroke-width=\"3.2\"/>\n",
       "<circle clip-path=\"url(#clip842)\" cx=\"1308.7\" cy=\"653.701\" r=\"14\" fill=\"#009af9\" fill-rule=\"evenodd\" fill-opacity=\"1\" stroke=\"#000000\" stroke-opacity=\"1\" stroke-width=\"3.2\"/>\n",
       "<circle clip-path=\"url(#clip842)\" cx=\"1135.46\" cy=\"879.991\" r=\"14\" fill=\"#009af9\" fill-rule=\"evenodd\" fill-opacity=\"1\" stroke=\"#000000\" stroke-opacity=\"1\" stroke-width=\"3.2\"/>\n",
       "<path clip-path=\"url(#clip840)\" d=\"\n",
       "M1983.44 216.178 L2279.3 216.178 L2279.3 95.2176 L1983.44 95.2176  Z\n",
       "  \" fill=\"#ffffff\" fill-rule=\"evenodd\" fill-opacity=\"1\"/>\n",
       "<polyline clip-path=\"url(#clip840)\" style=\"stroke:#000000; stroke-width:4; stroke-opacity:1; fill:none\" points=\"\n",
       "  1983.44,216.178 2279.3,216.178 2279.3,95.2176 1983.44,95.2176 1983.44,216.178 \n",
       "  \"/>\n",
       "<circle clip-path=\"url(#clip840)\" cx=\"2081.38\" cy=\"155.698\" r=\"23\" fill=\"#009af9\" fill-rule=\"evenodd\" fill-opacity=\"1\" stroke=\"#000000\" stroke-opacity=\"1\" stroke-width=\"5.12\"/>\n",
       "<circle clip-path=\"url(#clip840)\" cx=\"2081.38\" cy=\"155.698\" r=\"23\" fill=\"#009af9\" fill-rule=\"evenodd\" fill-opacity=\"1\" stroke=\"#000000\" stroke-opacity=\"1\" stroke-width=\"5.12\"/>\n",
       "<circle clip-path=\"url(#clip840)\" cx=\"2081.38\" cy=\"155.698\" r=\"23\" fill=\"#009af9\" fill-rule=\"evenodd\" fill-opacity=\"1\" stroke=\"#000000\" stroke-opacity=\"1\" stroke-width=\"5.12\"/>\n",
       "<circle clip-path=\"url(#clip840)\" cx=\"2081.38\" cy=\"155.698\" r=\"23\" fill=\"#009af9\" fill-rule=\"evenodd\" fill-opacity=\"1\" stroke=\"#000000\" stroke-opacity=\"1\" stroke-width=\"5.12\"/>\n",
       "<circle clip-path=\"url(#clip840)\" cx=\"2081.38\" cy=\"155.698\" r=\"23\" fill=\"#009af9\" fill-rule=\"evenodd\" fill-opacity=\"1\" stroke=\"#000000\" stroke-opacity=\"1\" stroke-width=\"5.12\"/>\n",
       "<circle clip-path=\"url(#clip840)\" cx=\"2081.38\" cy=\"155.698\" r=\"23\" fill=\"#009af9\" fill-rule=\"evenodd\" fill-opacity=\"1\" stroke=\"#000000\" stroke-opacity=\"1\" stroke-width=\"5.12\"/>\n",
       "<circle clip-path=\"url(#clip840)\" cx=\"2081.38\" cy=\"155.698\" r=\"23\" fill=\"#009af9\" fill-rule=\"evenodd\" fill-opacity=\"1\" stroke=\"#000000\" stroke-opacity=\"1\" stroke-width=\"5.12\"/>\n",
       "<circle clip-path=\"url(#clip840)\" cx=\"2081.38\" cy=\"155.698\" r=\"23\" fill=\"#009af9\" fill-rule=\"evenodd\" fill-opacity=\"1\" stroke=\"#000000\" stroke-opacity=\"1\" stroke-width=\"5.12\"/>\n",
       "<circle clip-path=\"url(#clip840)\" cx=\"2081.38\" cy=\"155.698\" r=\"23\" fill=\"#009af9\" fill-rule=\"evenodd\" fill-opacity=\"1\" stroke=\"#000000\" stroke-opacity=\"1\" stroke-width=\"5.12\"/>\n",
       "<circle clip-path=\"url(#clip840)\" cx=\"2081.38\" cy=\"155.698\" r=\"23\" fill=\"#009af9\" fill-rule=\"evenodd\" fill-opacity=\"1\" stroke=\"#000000\" stroke-opacity=\"1\" stroke-width=\"5.12\"/>\n",
       "<circle clip-path=\"url(#clip840)\" cx=\"2081.38\" cy=\"155.698\" r=\"23\" fill=\"#009af9\" fill-rule=\"evenodd\" fill-opacity=\"1\" stroke=\"#000000\" stroke-opacity=\"1\" stroke-width=\"5.12\"/>\n",
       "<circle clip-path=\"url(#clip840)\" cx=\"2081.38\" cy=\"155.698\" r=\"23\" fill=\"#009af9\" fill-rule=\"evenodd\" fill-opacity=\"1\" stroke=\"#000000\" stroke-opacity=\"1\" stroke-width=\"5.12\"/>\n",
       "<circle clip-path=\"url(#clip840)\" cx=\"2081.38\" cy=\"155.698\" r=\"23\" fill=\"#009af9\" fill-rule=\"evenodd\" fill-opacity=\"1\" stroke=\"#000000\" stroke-opacity=\"1\" stroke-width=\"5.12\"/>\n",
       "<circle clip-path=\"url(#clip840)\" cx=\"2081.38\" cy=\"155.698\" r=\"23\" fill=\"#009af9\" fill-rule=\"evenodd\" fill-opacity=\"1\" stroke=\"#000000\" stroke-opacity=\"1\" stroke-width=\"5.12\"/>\n",
       "<circle clip-path=\"url(#clip840)\" cx=\"2081.38\" cy=\"155.698\" r=\"23\" fill=\"#009af9\" fill-rule=\"evenodd\" fill-opacity=\"1\" stroke=\"#000000\" stroke-opacity=\"1\" stroke-width=\"5.12\"/>\n",
       "<circle clip-path=\"url(#clip840)\" cx=\"2081.38\" cy=\"155.698\" r=\"23\" fill=\"#009af9\" fill-rule=\"evenodd\" fill-opacity=\"1\" stroke=\"#000000\" stroke-opacity=\"1\" stroke-width=\"5.12\"/>\n",
       "<circle clip-path=\"url(#clip840)\" cx=\"2081.38\" cy=\"155.698\" r=\"23\" fill=\"#009af9\" fill-rule=\"evenodd\" fill-opacity=\"1\" stroke=\"#000000\" stroke-opacity=\"1\" stroke-width=\"5.12\"/>\n",
       "<circle clip-path=\"url(#clip840)\" cx=\"2081.38\" cy=\"155.698\" r=\"23\" fill=\"#009af9\" fill-rule=\"evenodd\" fill-opacity=\"1\" stroke=\"#000000\" stroke-opacity=\"1\" stroke-width=\"5.12\"/>\n",
       "<circle clip-path=\"url(#clip840)\" cx=\"2081.38\" cy=\"155.698\" r=\"23\" fill=\"#009af9\" fill-rule=\"evenodd\" fill-opacity=\"1\" stroke=\"#000000\" stroke-opacity=\"1\" stroke-width=\"5.12\"/>\n",
       "<circle clip-path=\"url(#clip840)\" cx=\"2081.38\" cy=\"155.698\" r=\"23\" fill=\"#009af9\" fill-rule=\"evenodd\" fill-opacity=\"1\" stroke=\"#000000\" stroke-opacity=\"1\" stroke-width=\"5.12\"/>\n",
       "<circle clip-path=\"url(#clip840)\" cx=\"2081.38\" cy=\"155.698\" r=\"23\" fill=\"#009af9\" fill-rule=\"evenodd\" fill-opacity=\"1\" stroke=\"#000000\" stroke-opacity=\"1\" stroke-width=\"5.12\"/>\n",
       "<circle clip-path=\"url(#clip840)\" cx=\"2081.38\" cy=\"155.698\" r=\"23\" fill=\"#009af9\" fill-rule=\"evenodd\" fill-opacity=\"1\" stroke=\"#000000\" stroke-opacity=\"1\" stroke-width=\"5.12\"/>\n",
       "<circle clip-path=\"url(#clip840)\" cx=\"2081.38\" cy=\"155.698\" r=\"23\" fill=\"#009af9\" fill-rule=\"evenodd\" fill-opacity=\"1\" stroke=\"#000000\" stroke-opacity=\"1\" stroke-width=\"5.12\"/>\n",
       "<circle clip-path=\"url(#clip840)\" cx=\"2081.38\" cy=\"155.698\" r=\"23\" fill=\"#009af9\" fill-rule=\"evenodd\" fill-opacity=\"1\" stroke=\"#000000\" stroke-opacity=\"1\" stroke-width=\"5.12\"/>\n",
       "<circle clip-path=\"url(#clip840)\" cx=\"2081.38\" cy=\"155.698\" r=\"23\" fill=\"#009af9\" fill-rule=\"evenodd\" fill-opacity=\"1\" stroke=\"#000000\" stroke-opacity=\"1\" stroke-width=\"5.12\"/>\n",
       "<circle clip-path=\"url(#clip840)\" cx=\"2081.38\" cy=\"155.698\" r=\"23\" fill=\"#009af9\" fill-rule=\"evenodd\" fill-opacity=\"1\" stroke=\"#000000\" stroke-opacity=\"1\" stroke-width=\"5.12\"/>\n",
       "<circle clip-path=\"url(#clip840)\" cx=\"2081.38\" cy=\"155.698\" r=\"23\" fill=\"#009af9\" fill-rule=\"evenodd\" fill-opacity=\"1\" stroke=\"#000000\" stroke-opacity=\"1\" stroke-width=\"5.12\"/>\n",
       "<circle clip-path=\"url(#clip840)\" cx=\"2081.38\" cy=\"155.698\" r=\"23\" fill=\"#009af9\" fill-rule=\"evenodd\" fill-opacity=\"1\" stroke=\"#000000\" stroke-opacity=\"1\" stroke-width=\"5.12\"/>\n",
       "<circle clip-path=\"url(#clip840)\" cx=\"2081.38\" cy=\"155.698\" r=\"23\" fill=\"#009af9\" fill-rule=\"evenodd\" fill-opacity=\"1\" stroke=\"#000000\" stroke-opacity=\"1\" stroke-width=\"5.12\"/>\n",
       "<circle clip-path=\"url(#clip840)\" cx=\"2081.38\" cy=\"155.698\" r=\"23\" fill=\"#009af9\" fill-rule=\"evenodd\" fill-opacity=\"1\" stroke=\"#000000\" stroke-opacity=\"1\" stroke-width=\"5.12\"/>\n",
       "<circle clip-path=\"url(#clip840)\" cx=\"2081.38\" cy=\"155.698\" r=\"23\" fill=\"#009af9\" fill-rule=\"evenodd\" fill-opacity=\"1\" stroke=\"#000000\" stroke-opacity=\"1\" stroke-width=\"5.12\"/>\n",
       "<circle clip-path=\"url(#clip840)\" cx=\"2081.38\" cy=\"155.698\" r=\"23\" fill=\"#009af9\" fill-rule=\"evenodd\" fill-opacity=\"1\" stroke=\"#000000\" stroke-opacity=\"1\" stroke-width=\"5.12\"/>\n",
       "<circle clip-path=\"url(#clip840)\" cx=\"2081.38\" cy=\"155.698\" r=\"23\" fill=\"#009af9\" fill-rule=\"evenodd\" fill-opacity=\"1\" stroke=\"#000000\" stroke-opacity=\"1\" stroke-width=\"5.12\"/>\n",
       "<circle clip-path=\"url(#clip840)\" cx=\"2081.38\" cy=\"155.698\" r=\"23\" fill=\"#009af9\" fill-rule=\"evenodd\" fill-opacity=\"1\" stroke=\"#000000\" stroke-opacity=\"1\" stroke-width=\"5.12\"/>\n",
       "<circle clip-path=\"url(#clip840)\" cx=\"2081.38\" cy=\"155.698\" r=\"23\" fill=\"#009af9\" fill-rule=\"evenodd\" fill-opacity=\"1\" stroke=\"#000000\" stroke-opacity=\"1\" stroke-width=\"5.12\"/>\n",
       "<circle clip-path=\"url(#clip840)\" cx=\"2081.38\" cy=\"155.698\" r=\"23\" fill=\"#009af9\" fill-rule=\"evenodd\" fill-opacity=\"1\" stroke=\"#000000\" stroke-opacity=\"1\" stroke-width=\"5.12\"/>\n",
       "<circle clip-path=\"url(#clip840)\" cx=\"2081.38\" cy=\"155.698\" r=\"23\" fill=\"#009af9\" fill-rule=\"evenodd\" fill-opacity=\"1\" stroke=\"#000000\" stroke-opacity=\"1\" stroke-width=\"5.12\"/>\n",
       "<circle clip-path=\"url(#clip840)\" cx=\"2081.38\" cy=\"155.698\" r=\"23\" fill=\"#009af9\" fill-rule=\"evenodd\" fill-opacity=\"1\" stroke=\"#000000\" stroke-opacity=\"1\" stroke-width=\"5.12\"/>\n",
       "<circle clip-path=\"url(#clip840)\" cx=\"2081.38\" cy=\"155.698\" r=\"23\" fill=\"#009af9\" fill-rule=\"evenodd\" fill-opacity=\"1\" stroke=\"#000000\" stroke-opacity=\"1\" stroke-width=\"5.12\"/>\n",
       "<circle clip-path=\"url(#clip840)\" cx=\"2081.38\" cy=\"155.698\" r=\"23\" fill=\"#009af9\" fill-rule=\"evenodd\" fill-opacity=\"1\" stroke=\"#000000\" stroke-opacity=\"1\" stroke-width=\"5.12\"/>\n",
       "<circle clip-path=\"url(#clip840)\" cx=\"2081.38\" cy=\"155.698\" r=\"23\" fill=\"#009af9\" fill-rule=\"evenodd\" fill-opacity=\"1\" stroke=\"#000000\" stroke-opacity=\"1\" stroke-width=\"5.12\"/>\n",
       "<circle clip-path=\"url(#clip840)\" cx=\"2081.38\" cy=\"155.698\" r=\"23\" fill=\"#009af9\" fill-rule=\"evenodd\" fill-opacity=\"1\" stroke=\"#000000\" stroke-opacity=\"1\" stroke-width=\"5.12\"/>\n",
       "<circle clip-path=\"url(#clip840)\" cx=\"2081.38\" cy=\"155.698\" r=\"23\" fill=\"#009af9\" fill-rule=\"evenodd\" fill-opacity=\"1\" stroke=\"#000000\" stroke-opacity=\"1\" stroke-width=\"5.12\"/>\n",
       "<circle clip-path=\"url(#clip840)\" cx=\"2081.38\" cy=\"155.698\" r=\"23\" fill=\"#009af9\" fill-rule=\"evenodd\" fill-opacity=\"1\" stroke=\"#000000\" stroke-opacity=\"1\" stroke-width=\"5.12\"/>\n",
       "<circle clip-path=\"url(#clip840)\" cx=\"2081.38\" cy=\"155.698\" r=\"23\" fill=\"#009af9\" fill-rule=\"evenodd\" fill-opacity=\"1\" stroke=\"#000000\" stroke-opacity=\"1\" stroke-width=\"5.12\"/>\n",
       "<circle clip-path=\"url(#clip840)\" cx=\"2081.38\" cy=\"155.698\" r=\"23\" fill=\"#009af9\" fill-rule=\"evenodd\" fill-opacity=\"1\" stroke=\"#000000\" stroke-opacity=\"1\" stroke-width=\"5.12\"/>\n",
       "<circle clip-path=\"url(#clip840)\" cx=\"2081.38\" cy=\"155.698\" r=\"23\" fill=\"#009af9\" fill-rule=\"evenodd\" fill-opacity=\"1\" stroke=\"#000000\" stroke-opacity=\"1\" stroke-width=\"5.12\"/>\n",
       "<circle clip-path=\"url(#clip840)\" cx=\"2081.38\" cy=\"155.698\" r=\"23\" fill=\"#009af9\" fill-rule=\"evenodd\" fill-opacity=\"1\" stroke=\"#000000\" stroke-opacity=\"1\" stroke-width=\"5.12\"/>\n",
       "<circle clip-path=\"url(#clip840)\" cx=\"2081.38\" cy=\"155.698\" r=\"23\" fill=\"#009af9\" fill-rule=\"evenodd\" fill-opacity=\"1\" stroke=\"#000000\" stroke-opacity=\"1\" stroke-width=\"5.12\"/>\n",
       "<circle clip-path=\"url(#clip840)\" cx=\"2081.38\" cy=\"155.698\" r=\"23\" fill=\"#009af9\" fill-rule=\"evenodd\" fill-opacity=\"1\" stroke=\"#000000\" stroke-opacity=\"1\" stroke-width=\"5.12\"/>\n",
       "<circle clip-path=\"url(#clip840)\" cx=\"2081.38\" cy=\"155.698\" r=\"23\" fill=\"#009af9\" fill-rule=\"evenodd\" fill-opacity=\"1\" stroke=\"#000000\" stroke-opacity=\"1\" stroke-width=\"5.12\"/>\n",
       "<circle clip-path=\"url(#clip840)\" cx=\"2081.38\" cy=\"155.698\" r=\"23\" fill=\"#009af9\" fill-rule=\"evenodd\" fill-opacity=\"1\" stroke=\"#000000\" stroke-opacity=\"1\" stroke-width=\"5.12\"/>\n",
       "<circle clip-path=\"url(#clip840)\" cx=\"2081.38\" cy=\"155.698\" r=\"23\" fill=\"#009af9\" fill-rule=\"evenodd\" fill-opacity=\"1\" stroke=\"#000000\" stroke-opacity=\"1\" stroke-width=\"5.12\"/>\n",
       "<circle clip-path=\"url(#clip840)\" cx=\"2081.38\" cy=\"155.698\" r=\"23\" fill=\"#009af9\" fill-rule=\"evenodd\" fill-opacity=\"1\" stroke=\"#000000\" stroke-opacity=\"1\" stroke-width=\"5.12\"/>\n",
       "<circle clip-path=\"url(#clip840)\" cx=\"2081.38\" cy=\"155.698\" r=\"23\" fill=\"#009af9\" fill-rule=\"evenodd\" fill-opacity=\"1\" stroke=\"#000000\" stroke-opacity=\"1\" stroke-width=\"5.12\"/>\n",
       "<circle clip-path=\"url(#clip840)\" cx=\"2081.38\" cy=\"155.698\" r=\"23\" fill=\"#009af9\" fill-rule=\"evenodd\" fill-opacity=\"1\" stroke=\"#000000\" stroke-opacity=\"1\" stroke-width=\"5.12\"/>\n",
       "<circle clip-path=\"url(#clip840)\" cx=\"2081.38\" cy=\"155.698\" r=\"23\" fill=\"#009af9\" fill-rule=\"evenodd\" fill-opacity=\"1\" stroke=\"#000000\" stroke-opacity=\"1\" stroke-width=\"5.12\"/>\n",
       "<circle clip-path=\"url(#clip840)\" cx=\"2081.38\" cy=\"155.698\" r=\"23\" fill=\"#009af9\" fill-rule=\"evenodd\" fill-opacity=\"1\" stroke=\"#000000\" stroke-opacity=\"1\" stroke-width=\"5.12\"/>\n",
       "<circle clip-path=\"url(#clip840)\" cx=\"2081.38\" cy=\"155.698\" r=\"23\" fill=\"#009af9\" fill-rule=\"evenodd\" fill-opacity=\"1\" stroke=\"#000000\" stroke-opacity=\"1\" stroke-width=\"5.12\"/>\n",
       "<circle clip-path=\"url(#clip840)\" cx=\"2081.38\" cy=\"155.698\" r=\"23\" fill=\"#009af9\" fill-rule=\"evenodd\" fill-opacity=\"1\" stroke=\"#000000\" stroke-opacity=\"1\" stroke-width=\"5.12\"/>\n",
       "<circle clip-path=\"url(#clip840)\" cx=\"2081.38\" cy=\"155.698\" r=\"23\" fill=\"#009af9\" fill-rule=\"evenodd\" fill-opacity=\"1\" stroke=\"#000000\" stroke-opacity=\"1\" stroke-width=\"5.12\"/>\n",
       "<circle clip-path=\"url(#clip840)\" cx=\"2081.38\" cy=\"155.698\" r=\"23\" fill=\"#009af9\" fill-rule=\"evenodd\" fill-opacity=\"1\" stroke=\"#000000\" stroke-opacity=\"1\" stroke-width=\"5.12\"/>\n",
       "<circle clip-path=\"url(#clip840)\" cx=\"2081.38\" cy=\"155.698\" r=\"23\" fill=\"#009af9\" fill-rule=\"evenodd\" fill-opacity=\"1\" stroke=\"#000000\" stroke-opacity=\"1\" stroke-width=\"5.12\"/>\n",
       "<circle clip-path=\"url(#clip840)\" cx=\"2081.38\" cy=\"155.698\" r=\"23\" fill=\"#009af9\" fill-rule=\"evenodd\" fill-opacity=\"1\" stroke=\"#000000\" stroke-opacity=\"1\" stroke-width=\"5.12\"/>\n",
       "<circle clip-path=\"url(#clip840)\" cx=\"2081.38\" cy=\"155.698\" r=\"23\" fill=\"#009af9\" fill-rule=\"evenodd\" fill-opacity=\"1\" stroke=\"#000000\" stroke-opacity=\"1\" stroke-width=\"5.12\"/>\n",
       "<circle clip-path=\"url(#clip840)\" cx=\"2081.38\" cy=\"155.698\" r=\"23\" fill=\"#009af9\" fill-rule=\"evenodd\" fill-opacity=\"1\" stroke=\"#000000\" stroke-opacity=\"1\" stroke-width=\"5.12\"/>\n",
       "<circle clip-path=\"url(#clip840)\" cx=\"2081.38\" cy=\"155.698\" r=\"23\" fill=\"#009af9\" fill-rule=\"evenodd\" fill-opacity=\"1\" stroke=\"#000000\" stroke-opacity=\"1\" stroke-width=\"5.12\"/>\n",
       "<circle clip-path=\"url(#clip840)\" cx=\"2081.38\" cy=\"155.698\" r=\"23\" fill=\"#009af9\" fill-rule=\"evenodd\" fill-opacity=\"1\" stroke=\"#000000\" stroke-opacity=\"1\" stroke-width=\"5.12\"/>\n",
       "<circle clip-path=\"url(#clip840)\" cx=\"2081.38\" cy=\"155.698\" r=\"23\" fill=\"#009af9\" fill-rule=\"evenodd\" fill-opacity=\"1\" stroke=\"#000000\" stroke-opacity=\"1\" stroke-width=\"5.12\"/>\n",
       "<circle clip-path=\"url(#clip840)\" cx=\"2081.38\" cy=\"155.698\" r=\"23\" fill=\"#009af9\" fill-rule=\"evenodd\" fill-opacity=\"1\" stroke=\"#000000\" stroke-opacity=\"1\" stroke-width=\"5.12\"/>\n",
       "<circle clip-path=\"url(#clip840)\" cx=\"2081.38\" cy=\"155.698\" r=\"23\" fill=\"#009af9\" fill-rule=\"evenodd\" fill-opacity=\"1\" stroke=\"#000000\" stroke-opacity=\"1\" stroke-width=\"5.12\"/>\n",
       "<circle clip-path=\"url(#clip840)\" cx=\"2081.38\" cy=\"155.698\" r=\"23\" fill=\"#009af9\" fill-rule=\"evenodd\" fill-opacity=\"1\" stroke=\"#000000\" stroke-opacity=\"1\" stroke-width=\"5.12\"/>\n",
       "<circle clip-path=\"url(#clip840)\" cx=\"2081.38\" cy=\"155.698\" r=\"23\" fill=\"#009af9\" fill-rule=\"evenodd\" fill-opacity=\"1\" stroke=\"#000000\" stroke-opacity=\"1\" stroke-width=\"5.12\"/>\n",
       "<circle clip-path=\"url(#clip840)\" cx=\"2081.38\" cy=\"155.698\" r=\"23\" fill=\"#009af9\" fill-rule=\"evenodd\" fill-opacity=\"1\" stroke=\"#000000\" stroke-opacity=\"1\" stroke-width=\"5.12\"/>\n",
       "<circle clip-path=\"url(#clip840)\" cx=\"2081.38\" cy=\"155.698\" r=\"23\" fill=\"#009af9\" fill-rule=\"evenodd\" fill-opacity=\"1\" stroke=\"#000000\" stroke-opacity=\"1\" stroke-width=\"5.12\"/>\n",
       "<circle clip-path=\"url(#clip840)\" cx=\"2081.38\" cy=\"155.698\" r=\"23\" fill=\"#009af9\" fill-rule=\"evenodd\" fill-opacity=\"1\" stroke=\"#000000\" stroke-opacity=\"1\" stroke-width=\"5.12\"/>\n",
       "<circle clip-path=\"url(#clip840)\" cx=\"2081.38\" cy=\"155.698\" r=\"23\" fill=\"#009af9\" fill-rule=\"evenodd\" fill-opacity=\"1\" stroke=\"#000000\" stroke-opacity=\"1\" stroke-width=\"5.12\"/>\n",
       "<circle clip-path=\"url(#clip840)\" cx=\"2081.38\" cy=\"155.698\" r=\"23\" fill=\"#009af9\" fill-rule=\"evenodd\" fill-opacity=\"1\" stroke=\"#000000\" stroke-opacity=\"1\" stroke-width=\"5.12\"/>\n",
       "<circle clip-path=\"url(#clip840)\" cx=\"2081.38\" cy=\"155.698\" r=\"23\" fill=\"#009af9\" fill-rule=\"evenodd\" fill-opacity=\"1\" stroke=\"#000000\" stroke-opacity=\"1\" stroke-width=\"5.12\"/>\n",
       "<circle clip-path=\"url(#clip840)\" cx=\"2081.38\" cy=\"155.698\" r=\"23\" fill=\"#009af9\" fill-rule=\"evenodd\" fill-opacity=\"1\" stroke=\"#000000\" stroke-opacity=\"1\" stroke-width=\"5.12\"/>\n",
       "<circle clip-path=\"url(#clip840)\" cx=\"2081.38\" cy=\"155.698\" r=\"23\" fill=\"#009af9\" fill-rule=\"evenodd\" fill-opacity=\"1\" stroke=\"#000000\" stroke-opacity=\"1\" stroke-width=\"5.12\"/>\n",
       "<circle clip-path=\"url(#clip840)\" cx=\"2081.38\" cy=\"155.698\" r=\"23\" fill=\"#009af9\" fill-rule=\"evenodd\" fill-opacity=\"1\" stroke=\"#000000\" stroke-opacity=\"1\" stroke-width=\"5.12\"/>\n",
       "<circle clip-path=\"url(#clip840)\" cx=\"2081.38\" cy=\"155.698\" r=\"23\" fill=\"#009af9\" fill-rule=\"evenodd\" fill-opacity=\"1\" stroke=\"#000000\" stroke-opacity=\"1\" stroke-width=\"5.12\"/>\n",
       "<circle clip-path=\"url(#clip840)\" cx=\"2081.38\" cy=\"155.698\" r=\"23\" fill=\"#009af9\" fill-rule=\"evenodd\" fill-opacity=\"1\" stroke=\"#000000\" stroke-opacity=\"1\" stroke-width=\"5.12\"/>\n",
       "<circle clip-path=\"url(#clip840)\" cx=\"2081.38\" cy=\"155.698\" r=\"23\" fill=\"#009af9\" fill-rule=\"evenodd\" fill-opacity=\"1\" stroke=\"#000000\" stroke-opacity=\"1\" stroke-width=\"5.12\"/>\n",
       "<circle clip-path=\"url(#clip840)\" cx=\"2081.38\" cy=\"155.698\" r=\"23\" fill=\"#009af9\" fill-rule=\"evenodd\" fill-opacity=\"1\" stroke=\"#000000\" stroke-opacity=\"1\" stroke-width=\"5.12\"/>\n",
       "<circle clip-path=\"url(#clip840)\" cx=\"2081.38\" cy=\"155.698\" r=\"23\" fill=\"#009af9\" fill-rule=\"evenodd\" fill-opacity=\"1\" stroke=\"#000000\" stroke-opacity=\"1\" stroke-width=\"5.12\"/>\n",
       "<circle clip-path=\"url(#clip840)\" cx=\"2081.38\" cy=\"155.698\" r=\"23\" fill=\"#009af9\" fill-rule=\"evenodd\" fill-opacity=\"1\" stroke=\"#000000\" stroke-opacity=\"1\" stroke-width=\"5.12\"/>\n",
       "<circle clip-path=\"url(#clip840)\" cx=\"2081.38\" cy=\"155.698\" r=\"23\" fill=\"#009af9\" fill-rule=\"evenodd\" fill-opacity=\"1\" stroke=\"#000000\" stroke-opacity=\"1\" stroke-width=\"5.12\"/>\n",
       "<circle clip-path=\"url(#clip840)\" cx=\"2081.38\" cy=\"155.698\" r=\"23\" fill=\"#009af9\" fill-rule=\"evenodd\" fill-opacity=\"1\" stroke=\"#000000\" stroke-opacity=\"1\" stroke-width=\"5.12\"/>\n",
       "<circle clip-path=\"url(#clip840)\" cx=\"2081.38\" cy=\"155.698\" r=\"23\" fill=\"#009af9\" fill-rule=\"evenodd\" fill-opacity=\"1\" stroke=\"#000000\" stroke-opacity=\"1\" stroke-width=\"5.12\"/>\n",
       "<circle clip-path=\"url(#clip840)\" cx=\"2081.38\" cy=\"155.698\" r=\"23\" fill=\"#009af9\" fill-rule=\"evenodd\" fill-opacity=\"1\" stroke=\"#000000\" stroke-opacity=\"1\" stroke-width=\"5.12\"/>\n",
       "<circle clip-path=\"url(#clip840)\" cx=\"2081.38\" cy=\"155.698\" r=\"23\" fill=\"#009af9\" fill-rule=\"evenodd\" fill-opacity=\"1\" stroke=\"#000000\" stroke-opacity=\"1\" stroke-width=\"5.12\"/>\n",
       "<circle clip-path=\"url(#clip840)\" cx=\"2081.38\" cy=\"155.698\" r=\"23\" fill=\"#009af9\" fill-rule=\"evenodd\" fill-opacity=\"1\" stroke=\"#000000\" stroke-opacity=\"1\" stroke-width=\"5.12\"/>\n",
       "<circle clip-path=\"url(#clip840)\" cx=\"2081.38\" cy=\"155.698\" r=\"23\" fill=\"#009af9\" fill-rule=\"evenodd\" fill-opacity=\"1\" stroke=\"#000000\" stroke-opacity=\"1\" stroke-width=\"5.12\"/>\n",
       "<circle clip-path=\"url(#clip840)\" cx=\"2081.38\" cy=\"155.698\" r=\"23\" fill=\"#009af9\" fill-rule=\"evenodd\" fill-opacity=\"1\" stroke=\"#000000\" stroke-opacity=\"1\" stroke-width=\"5.12\"/>\n",
       "<circle clip-path=\"url(#clip840)\" cx=\"2081.38\" cy=\"155.698\" r=\"23\" fill=\"#009af9\" fill-rule=\"evenodd\" fill-opacity=\"1\" stroke=\"#000000\" stroke-opacity=\"1\" stroke-width=\"5.12\"/>\n",
       "<circle clip-path=\"url(#clip840)\" cx=\"2081.38\" cy=\"155.698\" r=\"23\" fill=\"#009af9\" fill-rule=\"evenodd\" fill-opacity=\"1\" stroke=\"#000000\" stroke-opacity=\"1\" stroke-width=\"5.12\"/>\n",
       "<circle clip-path=\"url(#clip840)\" cx=\"2081.38\" cy=\"155.698\" r=\"23\" fill=\"#009af9\" fill-rule=\"evenodd\" fill-opacity=\"1\" stroke=\"#000000\" stroke-opacity=\"1\" stroke-width=\"5.12\"/>\n",
       "<circle clip-path=\"url(#clip840)\" cx=\"2081.38\" cy=\"155.698\" r=\"23\" fill=\"#009af9\" fill-rule=\"evenodd\" fill-opacity=\"1\" stroke=\"#000000\" stroke-opacity=\"1\" stroke-width=\"5.12\"/>\n",
       "<circle clip-path=\"url(#clip840)\" cx=\"2081.38\" cy=\"155.698\" r=\"23\" fill=\"#009af9\" fill-rule=\"evenodd\" fill-opacity=\"1\" stroke=\"#000000\" stroke-opacity=\"1\" stroke-width=\"5.12\"/>\n",
       "<circle clip-path=\"url(#clip840)\" cx=\"2081.38\" cy=\"155.698\" r=\"23\" fill=\"#009af9\" fill-rule=\"evenodd\" fill-opacity=\"1\" stroke=\"#000000\" stroke-opacity=\"1\" stroke-width=\"5.12\"/>\n",
       "<circle clip-path=\"url(#clip840)\" cx=\"2081.38\" cy=\"155.698\" r=\"23\" fill=\"#009af9\" fill-rule=\"evenodd\" fill-opacity=\"1\" stroke=\"#000000\" stroke-opacity=\"1\" stroke-width=\"5.12\"/>\n",
       "<circle clip-path=\"url(#clip840)\" cx=\"2081.38\" cy=\"155.698\" r=\"23\" fill=\"#009af9\" fill-rule=\"evenodd\" fill-opacity=\"1\" stroke=\"#000000\" stroke-opacity=\"1\" stroke-width=\"5.12\"/>\n",
       "<circle clip-path=\"url(#clip840)\" cx=\"2081.38\" cy=\"155.698\" r=\"23\" fill=\"#009af9\" fill-rule=\"evenodd\" fill-opacity=\"1\" stroke=\"#000000\" stroke-opacity=\"1\" stroke-width=\"5.12\"/>\n",
       "<circle clip-path=\"url(#clip840)\" cx=\"2081.38\" cy=\"155.698\" r=\"23\" fill=\"#009af9\" fill-rule=\"evenodd\" fill-opacity=\"1\" stroke=\"#000000\" stroke-opacity=\"1\" stroke-width=\"5.12\"/>\n",
       "<circle clip-path=\"url(#clip840)\" cx=\"2081.38\" cy=\"155.698\" r=\"23\" fill=\"#009af9\" fill-rule=\"evenodd\" fill-opacity=\"1\" stroke=\"#000000\" stroke-opacity=\"1\" stroke-width=\"5.12\"/>\n",
       "<circle clip-path=\"url(#clip840)\" cx=\"2081.38\" cy=\"155.698\" r=\"23\" fill=\"#009af9\" fill-rule=\"evenodd\" fill-opacity=\"1\" stroke=\"#000000\" stroke-opacity=\"1\" stroke-width=\"5.12\"/>\n",
       "<circle clip-path=\"url(#clip840)\" cx=\"2081.38\" cy=\"155.698\" r=\"23\" fill=\"#009af9\" fill-rule=\"evenodd\" fill-opacity=\"1\" stroke=\"#000000\" stroke-opacity=\"1\" stroke-width=\"5.12\"/>\n",
       "<circle clip-path=\"url(#clip840)\" cx=\"2081.38\" cy=\"155.698\" r=\"23\" fill=\"#009af9\" fill-rule=\"evenodd\" fill-opacity=\"1\" stroke=\"#000000\" stroke-opacity=\"1\" stroke-width=\"5.12\"/>\n",
       "<circle clip-path=\"url(#clip840)\" cx=\"2081.38\" cy=\"155.698\" r=\"23\" fill=\"#009af9\" fill-rule=\"evenodd\" fill-opacity=\"1\" stroke=\"#000000\" stroke-opacity=\"1\" stroke-width=\"5.12\"/>\n",
       "<circle clip-path=\"url(#clip840)\" cx=\"2081.38\" cy=\"155.698\" r=\"23\" fill=\"#009af9\" fill-rule=\"evenodd\" fill-opacity=\"1\" stroke=\"#000000\" stroke-opacity=\"1\" stroke-width=\"5.12\"/>\n",
       "<circle clip-path=\"url(#clip840)\" cx=\"2081.38\" cy=\"155.698\" r=\"23\" fill=\"#009af9\" fill-rule=\"evenodd\" fill-opacity=\"1\" stroke=\"#000000\" stroke-opacity=\"1\" stroke-width=\"5.12\"/>\n",
       "<circle clip-path=\"url(#clip840)\" cx=\"2081.38\" cy=\"155.698\" r=\"23\" fill=\"#009af9\" fill-rule=\"evenodd\" fill-opacity=\"1\" stroke=\"#000000\" stroke-opacity=\"1\" stroke-width=\"5.12\"/>\n",
       "<circle clip-path=\"url(#clip840)\" cx=\"2081.38\" cy=\"155.698\" r=\"23\" fill=\"#009af9\" fill-rule=\"evenodd\" fill-opacity=\"1\" stroke=\"#000000\" stroke-opacity=\"1\" stroke-width=\"5.12\"/>\n",
       "<circle clip-path=\"url(#clip840)\" cx=\"2081.38\" cy=\"155.698\" r=\"23\" fill=\"#009af9\" fill-rule=\"evenodd\" fill-opacity=\"1\" stroke=\"#000000\" stroke-opacity=\"1\" stroke-width=\"5.12\"/>\n",
       "<circle clip-path=\"url(#clip840)\" cx=\"2081.38\" cy=\"155.698\" r=\"23\" fill=\"#009af9\" fill-rule=\"evenodd\" fill-opacity=\"1\" stroke=\"#000000\" stroke-opacity=\"1\" stroke-width=\"5.12\"/>\n",
       "<circle clip-path=\"url(#clip840)\" cx=\"2081.38\" cy=\"155.698\" r=\"23\" fill=\"#009af9\" fill-rule=\"evenodd\" fill-opacity=\"1\" stroke=\"#000000\" stroke-opacity=\"1\" stroke-width=\"5.12\"/>\n",
       "<circle clip-path=\"url(#clip840)\" cx=\"2081.38\" cy=\"155.698\" r=\"23\" fill=\"#009af9\" fill-rule=\"evenodd\" fill-opacity=\"1\" stroke=\"#000000\" stroke-opacity=\"1\" stroke-width=\"5.12\"/>\n",
       "<circle clip-path=\"url(#clip840)\" cx=\"2081.38\" cy=\"155.698\" r=\"23\" fill=\"#009af9\" fill-rule=\"evenodd\" fill-opacity=\"1\" stroke=\"#000000\" stroke-opacity=\"1\" stroke-width=\"5.12\"/>\n",
       "<circle clip-path=\"url(#clip840)\" cx=\"2081.38\" cy=\"155.698\" r=\"23\" fill=\"#009af9\" fill-rule=\"evenodd\" fill-opacity=\"1\" stroke=\"#000000\" stroke-opacity=\"1\" stroke-width=\"5.12\"/>\n",
       "<circle clip-path=\"url(#clip840)\" cx=\"2081.38\" cy=\"155.698\" r=\"23\" fill=\"#009af9\" fill-rule=\"evenodd\" fill-opacity=\"1\" stroke=\"#000000\" stroke-opacity=\"1\" stroke-width=\"5.12\"/>\n",
       "<circle clip-path=\"url(#clip840)\" cx=\"2081.38\" cy=\"155.698\" r=\"23\" fill=\"#009af9\" fill-rule=\"evenodd\" fill-opacity=\"1\" stroke=\"#000000\" stroke-opacity=\"1\" stroke-width=\"5.12\"/>\n",
       "<circle clip-path=\"url(#clip840)\" cx=\"2081.38\" cy=\"155.698\" r=\"23\" fill=\"#009af9\" fill-rule=\"evenodd\" fill-opacity=\"1\" stroke=\"#000000\" stroke-opacity=\"1\" stroke-width=\"5.12\"/>\n",
       "<circle clip-path=\"url(#clip840)\" cx=\"2081.38\" cy=\"155.698\" r=\"23\" fill=\"#009af9\" fill-rule=\"evenodd\" fill-opacity=\"1\" stroke=\"#000000\" stroke-opacity=\"1\" stroke-width=\"5.12\"/>\n",
       "<circle clip-path=\"url(#clip840)\" cx=\"2081.38\" cy=\"155.698\" r=\"23\" fill=\"#009af9\" fill-rule=\"evenodd\" fill-opacity=\"1\" stroke=\"#000000\" stroke-opacity=\"1\" stroke-width=\"5.12\"/>\n",
       "<circle clip-path=\"url(#clip840)\" cx=\"2081.38\" cy=\"155.698\" r=\"23\" fill=\"#009af9\" fill-rule=\"evenodd\" fill-opacity=\"1\" stroke=\"#000000\" stroke-opacity=\"1\" stroke-width=\"5.12\"/>\n",
       "<circle clip-path=\"url(#clip840)\" cx=\"2081.38\" cy=\"155.698\" r=\"23\" fill=\"#009af9\" fill-rule=\"evenodd\" fill-opacity=\"1\" stroke=\"#000000\" stroke-opacity=\"1\" stroke-width=\"5.12\"/>\n",
       "<circle clip-path=\"url(#clip840)\" cx=\"2081.38\" cy=\"155.698\" r=\"23\" fill=\"#009af9\" fill-rule=\"evenodd\" fill-opacity=\"1\" stroke=\"#000000\" stroke-opacity=\"1\" stroke-width=\"5.12\"/>\n",
       "<circle clip-path=\"url(#clip840)\" cx=\"2081.38\" cy=\"155.698\" r=\"23\" fill=\"#009af9\" fill-rule=\"evenodd\" fill-opacity=\"1\" stroke=\"#000000\" stroke-opacity=\"1\" stroke-width=\"5.12\"/>\n",
       "<circle clip-path=\"url(#clip840)\" cx=\"2081.38\" cy=\"155.698\" r=\"23\" fill=\"#009af9\" fill-rule=\"evenodd\" fill-opacity=\"1\" stroke=\"#000000\" stroke-opacity=\"1\" stroke-width=\"5.12\"/>\n",
       "<circle clip-path=\"url(#clip840)\" cx=\"2081.38\" cy=\"155.698\" r=\"23\" fill=\"#009af9\" fill-rule=\"evenodd\" fill-opacity=\"1\" stroke=\"#000000\" stroke-opacity=\"1\" stroke-width=\"5.12\"/>\n",
       "<circle clip-path=\"url(#clip840)\" cx=\"2081.38\" cy=\"155.698\" r=\"23\" fill=\"#009af9\" fill-rule=\"evenodd\" fill-opacity=\"1\" stroke=\"#000000\" stroke-opacity=\"1\" stroke-width=\"5.12\"/>\n",
       "<circle clip-path=\"url(#clip840)\" cx=\"2081.38\" cy=\"155.698\" r=\"23\" fill=\"#009af9\" fill-rule=\"evenodd\" fill-opacity=\"1\" stroke=\"#000000\" stroke-opacity=\"1\" stroke-width=\"5.12\"/>\n",
       "<circle clip-path=\"url(#clip840)\" cx=\"2081.38\" cy=\"155.698\" r=\"23\" fill=\"#009af9\" fill-rule=\"evenodd\" fill-opacity=\"1\" stroke=\"#000000\" stroke-opacity=\"1\" stroke-width=\"5.12\"/>\n",
       "<circle clip-path=\"url(#clip840)\" cx=\"2081.38\" cy=\"155.698\" r=\"23\" fill=\"#009af9\" fill-rule=\"evenodd\" fill-opacity=\"1\" stroke=\"#000000\" stroke-opacity=\"1\" stroke-width=\"5.12\"/>\n",
       "<circle clip-path=\"url(#clip840)\" cx=\"2081.38\" cy=\"155.698\" r=\"23\" fill=\"#009af9\" fill-rule=\"evenodd\" fill-opacity=\"1\" stroke=\"#000000\" stroke-opacity=\"1\" stroke-width=\"5.12\"/>\n",
       "<circle clip-path=\"url(#clip840)\" cx=\"2081.38\" cy=\"155.698\" r=\"23\" fill=\"#009af9\" fill-rule=\"evenodd\" fill-opacity=\"1\" stroke=\"#000000\" stroke-opacity=\"1\" stroke-width=\"5.12\"/>\n",
       "<circle clip-path=\"url(#clip840)\" cx=\"2081.38\" cy=\"155.698\" r=\"23\" fill=\"#009af9\" fill-rule=\"evenodd\" fill-opacity=\"1\" stroke=\"#000000\" stroke-opacity=\"1\" stroke-width=\"5.12\"/>\n",
       "<circle clip-path=\"url(#clip840)\" cx=\"2081.38\" cy=\"155.698\" r=\"23\" fill=\"#009af9\" fill-rule=\"evenodd\" fill-opacity=\"1\" stroke=\"#000000\" stroke-opacity=\"1\" stroke-width=\"5.12\"/>\n",
       "<circle clip-path=\"url(#clip840)\" cx=\"2081.38\" cy=\"155.698\" r=\"23\" fill=\"#009af9\" fill-rule=\"evenodd\" fill-opacity=\"1\" stroke=\"#000000\" stroke-opacity=\"1\" stroke-width=\"5.12\"/>\n",
       "<circle clip-path=\"url(#clip840)\" cx=\"2081.38\" cy=\"155.698\" r=\"23\" fill=\"#009af9\" fill-rule=\"evenodd\" fill-opacity=\"1\" stroke=\"#000000\" stroke-opacity=\"1\" stroke-width=\"5.12\"/>\n",
       "<circle clip-path=\"url(#clip840)\" cx=\"2081.38\" cy=\"155.698\" r=\"23\" fill=\"#009af9\" fill-rule=\"evenodd\" fill-opacity=\"1\" stroke=\"#000000\" stroke-opacity=\"1\" stroke-width=\"5.12\"/>\n",
       "<circle clip-path=\"url(#clip840)\" cx=\"2081.38\" cy=\"155.698\" r=\"23\" fill=\"#009af9\" fill-rule=\"evenodd\" fill-opacity=\"1\" stroke=\"#000000\" stroke-opacity=\"1\" stroke-width=\"5.12\"/>\n",
       "<circle clip-path=\"url(#clip840)\" cx=\"2081.38\" cy=\"155.698\" r=\"23\" fill=\"#009af9\" fill-rule=\"evenodd\" fill-opacity=\"1\" stroke=\"#000000\" stroke-opacity=\"1\" stroke-width=\"5.12\"/>\n",
       "<circle clip-path=\"url(#clip840)\" cx=\"2081.38\" cy=\"155.698\" r=\"23\" fill=\"#009af9\" fill-rule=\"evenodd\" fill-opacity=\"1\" stroke=\"#000000\" stroke-opacity=\"1\" stroke-width=\"5.12\"/>\n",
       "<circle clip-path=\"url(#clip840)\" cx=\"2081.38\" cy=\"155.698\" r=\"23\" fill=\"#009af9\" fill-rule=\"evenodd\" fill-opacity=\"1\" stroke=\"#000000\" stroke-opacity=\"1\" stroke-width=\"5.12\"/>\n",
       "<circle clip-path=\"url(#clip840)\" cx=\"2081.38\" cy=\"155.698\" r=\"23\" fill=\"#009af9\" fill-rule=\"evenodd\" fill-opacity=\"1\" stroke=\"#000000\" stroke-opacity=\"1\" stroke-width=\"5.12\"/>\n",
       "<circle clip-path=\"url(#clip840)\" cx=\"2081.38\" cy=\"155.698\" r=\"23\" fill=\"#009af9\" fill-rule=\"evenodd\" fill-opacity=\"1\" stroke=\"#000000\" stroke-opacity=\"1\" stroke-width=\"5.12\"/>\n",
       "<circle clip-path=\"url(#clip840)\" cx=\"2081.38\" cy=\"155.698\" r=\"23\" fill=\"#009af9\" fill-rule=\"evenodd\" fill-opacity=\"1\" stroke=\"#000000\" stroke-opacity=\"1\" stroke-width=\"5.12\"/>\n",
       "<path clip-path=\"url(#clip840)\" d=\"M 0 0 M2193.16 175.385 Q2191.35 180.015 2189.64 181.427 Q2187.93 182.839 2185.06 182.839 L2181.65 182.839 L2181.65 179.274 L2184.15 179.274 Q2185.91 179.274 2186.88 178.44 Q2187.86 177.607 2189.04 174.505 L2189.8 172.561 L2179.31 147.052 L2183.83 147.052 L2191.93 167.329 L2200.03 147.052 L2204.55 147.052 L2193.16 175.385 Z\" fill=\"#000000\" fill-rule=\"evenodd\" fill-opacity=\"1\" /><path clip-path=\"url(#clip840)\" d=\"M 0 0 M2210.43 169.042 L2218.06 169.042 L2218.06 142.677 L2209.75 144.343 L2209.75 140.084 L2218.02 138.418 L2222.69 138.418 L2222.69 169.042 L2230.33 169.042 L2230.33 172.978 L2210.43 172.978 L2210.43 169.042 Z\" fill=\"#000000\" fill-rule=\"evenodd\" fill-opacity=\"1\" /></svg>\n"
      ]
     },
     "execution_count": 8,
     "metadata": {},
     "output_type": "execute_result"
    }
   ],
   "source": [
    "@df iris scatter(:SepalLength,:SepalWidth)"
   ]
  },
  {
   "cell_type": "code",
   "execution_count": 9,
   "metadata": {},
   "outputs": [
    {
     "data": {
      "image/svg+xml": [
       "<?xml version=\"1.0\" encoding=\"utf-8\"?>\n",
       "<svg xmlns=\"http://www.w3.org/2000/svg\" xmlns:xlink=\"http://www.w3.org/1999/xlink\" width=\"600\" height=\"400\" viewBox=\"0 0 2400 1600\">\n",
       "<defs>\n",
       "  <clipPath id=\"clip880\">\n",
       "    <rect x=\"0\" y=\"0\" width=\"2400\" height=\"1600\"/>\n",
       "  </clipPath>\n",
       "</defs>\n",
       "<path clip-path=\"url(#clip880)\" d=\"\n",
       "M0 1600 L2400 1600 L2400 0 L0 0  Z\n",
       "  \" fill=\"#ffffff\" fill-rule=\"evenodd\" fill-opacity=\"1\"/>\n",
       "<defs>\n",
       "  <clipPath id=\"clip881\">\n",
       "    <rect x=\"480\" y=\"0\" width=\"1681\" height=\"1600\"/>\n",
       "  </clipPath>\n",
       "</defs>\n",
       "<path clip-path=\"url(#clip880)\" d=\"\n",
       "M149.145 1486.45 L2352.76 1486.45 L2352.76 47.2441 L149.145 47.2441  Z\n",
       "  \" fill=\"#ffffff\" fill-rule=\"evenodd\" fill-opacity=\"1\"/>\n",
       "<defs>\n",
       "  <clipPath id=\"clip882\">\n",
       "    <rect x=\"149\" y=\"47\" width=\"2205\" height=\"1440\"/>\n",
       "  </clipPath>\n",
       "</defs>\n",
       "<polyline clip-path=\"url(#clip882)\" style=\"stroke:#000000; stroke-width:2; stroke-opacity:0.1; fill:none\" points=\"\n",
       "  615.737,1486.45 615.737,47.2441 \n",
       "  \"/>\n",
       "<polyline clip-path=\"url(#clip882)\" style=\"stroke:#000000; stroke-width:2; stroke-opacity:0.1; fill:none\" points=\"\n",
       "  1193.2,1486.45 1193.2,47.2441 \n",
       "  \"/>\n",
       "<polyline clip-path=\"url(#clip882)\" style=\"stroke:#000000; stroke-width:2; stroke-opacity:0.1; fill:none\" points=\"\n",
       "  1770.67,1486.45 1770.67,47.2441 \n",
       "  \"/>\n",
       "<polyline clip-path=\"url(#clip882)\" style=\"stroke:#000000; stroke-width:2; stroke-opacity:0.1; fill:none\" points=\"\n",
       "  2348.14,1486.45 2348.14,47.2441 \n",
       "  \"/>\n",
       "<polyline clip-path=\"url(#clip882)\" style=\"stroke:#000000; stroke-width:2; stroke-opacity:0.1; fill:none\" points=\"\n",
       "  149.145,1445.72 2352.76,1445.72 \n",
       "  \"/>\n",
       "<polyline clip-path=\"url(#clip882)\" style=\"stroke:#000000; stroke-width:2; stroke-opacity:0.1; fill:none\" points=\"\n",
       "  149.145,1162.85 2352.76,1162.85 \n",
       "  \"/>\n",
       "<polyline clip-path=\"url(#clip882)\" style=\"stroke:#000000; stroke-width:2; stroke-opacity:0.1; fill:none\" points=\"\n",
       "  149.145,879.991 2352.76,879.991 \n",
       "  \"/>\n",
       "<polyline clip-path=\"url(#clip882)\" style=\"stroke:#000000; stroke-width:2; stroke-opacity:0.1; fill:none\" points=\"\n",
       "  149.145,597.129 2352.76,597.129 \n",
       "  \"/>\n",
       "<polyline clip-path=\"url(#clip882)\" style=\"stroke:#000000; stroke-width:2; stroke-opacity:0.1; fill:none\" points=\"\n",
       "  149.145,314.266 2352.76,314.266 \n",
       "  \"/>\n",
       "<polyline clip-path=\"url(#clip880)\" style=\"stroke:#000000; stroke-width:4; stroke-opacity:1; fill:none\" points=\"\n",
       "  149.145,1486.45 2352.76,1486.45 \n",
       "  \"/>\n",
       "<polyline clip-path=\"url(#clip880)\" style=\"stroke:#000000; stroke-width:4; stroke-opacity:1; fill:none\" points=\"\n",
       "  149.145,1486.45 149.145,47.2441 \n",
       "  \"/>\n",
       "<polyline clip-path=\"url(#clip880)\" style=\"stroke:#000000; stroke-width:4; stroke-opacity:1; fill:none\" points=\"\n",
       "  615.737,1486.45 615.737,1469.18 \n",
       "  \"/>\n",
       "<polyline clip-path=\"url(#clip880)\" style=\"stroke:#000000; stroke-width:4; stroke-opacity:1; fill:none\" points=\"\n",
       "  1193.2,1486.45 1193.2,1469.18 \n",
       "  \"/>\n",
       "<polyline clip-path=\"url(#clip880)\" style=\"stroke:#000000; stroke-width:4; stroke-opacity:1; fill:none\" points=\"\n",
       "  1770.67,1486.45 1770.67,1469.18 \n",
       "  \"/>\n",
       "<polyline clip-path=\"url(#clip880)\" style=\"stroke:#000000; stroke-width:4; stroke-opacity:1; fill:none\" points=\"\n",
       "  2348.14,1486.45 2348.14,1469.18 \n",
       "  \"/>\n",
       "<polyline clip-path=\"url(#clip880)\" style=\"stroke:#000000; stroke-width:4; stroke-opacity:1; fill:none\" points=\"\n",
       "  149.145,1445.72 175.588,1445.72 \n",
       "  \"/>\n",
       "<polyline clip-path=\"url(#clip880)\" style=\"stroke:#000000; stroke-width:4; stroke-opacity:1; fill:none\" points=\"\n",
       "  149.145,1162.85 175.588,1162.85 \n",
       "  \"/>\n",
       "<polyline clip-path=\"url(#clip880)\" style=\"stroke:#000000; stroke-width:4; stroke-opacity:1; fill:none\" points=\"\n",
       "  149.145,879.991 175.588,879.991 \n",
       "  \"/>\n",
       "<polyline clip-path=\"url(#clip880)\" style=\"stroke:#000000; stroke-width:4; stroke-opacity:1; fill:none\" points=\"\n",
       "  149.145,597.129 175.588,597.129 \n",
       "  \"/>\n",
       "<polyline clip-path=\"url(#clip880)\" style=\"stroke:#000000; stroke-width:4; stroke-opacity:1; fill:none\" points=\"\n",
       "  149.145,314.266 175.588,314.266 \n",
       "  \"/>\n",
       "<path clip-path=\"url(#clip880)\" d=\"M 0 0 M606.015 1505.36 L624.372 1505.36 L624.372 1509.3 L610.298 1509.3 L610.298 1517.77 Q611.316 1517.42 612.335 1517.26 Q613.353 1517.07 614.372 1517.07 Q620.159 1517.07 623.538 1520.24 Q626.918 1523.42 626.918 1528.83 Q626.918 1534.41 623.446 1537.51 Q619.973 1540.59 613.654 1540.59 Q611.478 1540.59 609.21 1540.22 Q606.964 1539.85 604.557 1539.11 L604.557 1534.41 Q606.64 1535.54 608.862 1536.1 Q611.085 1536.66 613.561 1536.66 Q617.566 1536.66 619.904 1534.55 Q622.242 1532.44 622.242 1528.83 Q622.242 1525.22 619.904 1523.11 Q617.566 1521.01 613.561 1521.01 Q611.686 1521.01 609.811 1521.42 Q607.96 1521.84 606.015 1522.72 L606.015 1505.36 Z\" fill=\"#000000\" fill-rule=\"evenodd\" fill-opacity=\"1\" /><path clip-path=\"url(#clip880)\" d=\"M 0 0 M1193.61 1520.78 Q1190.46 1520.78 1188.61 1522.93 Q1186.78 1525.08 1186.78 1528.83 Q1186.78 1532.56 1188.61 1534.73 Q1190.46 1536.89 1193.61 1536.89 Q1196.76 1536.89 1198.59 1534.73 Q1200.44 1532.56 1200.44 1528.83 Q1200.44 1525.08 1198.59 1522.93 Q1196.76 1520.78 1193.61 1520.78 M1202.89 1506.12 L1202.89 1510.38 Q1201.13 1509.55 1199.33 1509.11 Q1197.54 1508.67 1195.78 1508.67 Q1191.16 1508.67 1188.7 1511.8 Q1186.27 1514.92 1185.92 1521.24 Q1187.29 1519.23 1189.35 1518.16 Q1191.41 1517.07 1193.89 1517.07 Q1199.09 1517.07 1202.1 1520.24 Q1205.14 1523.39 1205.14 1528.83 Q1205.14 1534.16 1201.99 1537.37 Q1198.84 1540.59 1193.61 1540.59 Q1187.61 1540.59 1184.44 1536.01 Q1181.27 1531.4 1181.27 1522.67 Q1181.27 1514.48 1185.16 1509.62 Q1189.05 1504.73 1195.6 1504.73 Q1197.36 1504.73 1199.14 1505.08 Q1200.95 1505.43 1202.89 1506.12 Z\" fill=\"#000000\" fill-rule=\"evenodd\" fill-opacity=\"1\" /><path clip-path=\"url(#clip880)\" d=\"M 0 0 M1759.56 1505.36 L1781.78 1505.36 L1781.78 1507.35 L1769.23 1539.92 L1764.35 1539.92 L1776.16 1509.3 L1759.56 1509.3 L1759.56 1505.36 Z\" fill=\"#000000\" fill-rule=\"evenodd\" fill-opacity=\"1\" /><path clip-path=\"url(#clip880)\" d=\"M 0 0 M2348.14 1523.51 Q2344.8 1523.51 2342.88 1525.29 Q2340.98 1527.07 2340.98 1530.2 Q2340.98 1533.32 2342.88 1535.11 Q2344.8 1536.89 2348.14 1536.89 Q2351.47 1536.89 2353.39 1535.11 Q2355.31 1533.3 2355.31 1530.2 Q2355.31 1527.07 2353.39 1525.29 Q2351.49 1523.51 2348.14 1523.51 M2343.46 1521.52 Q2340.45 1520.78 2338.76 1518.72 Q2337.09 1516.66 2337.09 1513.69 Q2337.09 1509.55 2340.03 1507.14 Q2343 1504.73 2348.14 1504.73 Q2353.3 1504.73 2356.24 1507.14 Q2359.18 1509.55 2359.18 1513.69 Q2359.18 1516.66 2357.49 1518.72 Q2355.82 1520.78 2352.84 1521.52 Q2356.21 1522.3 2358.09 1524.6 Q2359.99 1526.89 2359.99 1530.2 Q2359.99 1535.22 2356.91 1537.91 Q2353.85 1540.59 2348.14 1540.59 Q2342.42 1540.59 2339.34 1537.91 Q2336.28 1535.22 2336.28 1530.2 Q2336.28 1526.89 2338.18 1524.6 Q2340.08 1522.3 2343.46 1521.52 M2341.75 1514.13 Q2341.75 1516.82 2343.41 1518.32 Q2345.1 1519.83 2348.14 1519.83 Q2351.15 1519.83 2352.84 1518.32 Q2354.55 1516.82 2354.55 1514.13 Q2354.55 1511.45 2352.84 1509.94 Q2351.15 1508.44 2348.14 1508.44 Q2345.1 1508.44 2343.41 1509.94 Q2341.75 1511.45 2341.75 1514.13 Z\" fill=\"#000000\" fill-rule=\"evenodd\" fill-opacity=\"1\" /><path clip-path=\"url(#clip880)\" d=\"M 0 0 M71.8578 1459.06 L88.1772 1459.06 L88.1772 1463 L66.2328 1463 L66.2328 1459.06 Q68.8949 1456.31 73.4782 1451.68 Q78.0846 1447.02 79.2652 1445.68 Q81.5105 1443.16 82.3902 1441.42 Q83.2929 1439.66 83.2929 1437.97 Q83.2929 1435.22 81.3485 1433.48 Q79.4272 1431.75 76.3254 1431.75 Q74.1263 1431.75 71.6726 1432.51 Q69.2421 1433.27 66.4643 1434.82 L66.4643 1430.1 Q69.2884 1428.97 71.7421 1428.39 Q74.1958 1427.81 76.2328 1427.81 Q81.6031 1427.81 84.7976 1430.5 Q87.992 1433.18 87.992 1437.67 Q87.992 1439.8 87.1818 1441.72 Q86.3948 1443.62 84.2883 1446.21 Q83.7096 1446.88 80.6078 1450.1 Q77.5059 1453.3 71.8578 1459.06 Z\" fill=\"#000000\" fill-rule=\"evenodd\" fill-opacity=\"1\" /><path clip-path=\"url(#clip880)\" d=\"M 0 0 M93.2466 1457.12 L98.1308 1457.12 L98.1308 1463 L93.2466 1463 L93.2466 1457.12 Z\" fill=\"#000000\" fill-rule=\"evenodd\" fill-opacity=\"1\" /><path clip-path=\"url(#clip880)\" d=\"M 0 0 M113.2 1431.51 Q109.589 1431.51 107.76 1435.08 Q105.955 1438.62 105.955 1445.75 Q105.955 1452.86 107.76 1456.42 Q109.589 1459.96 113.2 1459.96 Q116.834 1459.96 118.64 1456.42 Q120.469 1452.86 120.469 1445.75 Q120.469 1438.62 118.64 1435.08 Q116.834 1431.51 113.2 1431.51 M113.2 1427.81 Q119.01 1427.81 122.066 1432.42 Q125.145 1437 125.145 1445.75 Q125.145 1454.48 122.066 1459.08 Q119.01 1463.67 113.2 1463.67 Q107.39 1463.67 104.311 1459.08 Q101.256 1454.48 101.256 1445.75 Q101.256 1437 104.311 1432.42 Q107.39 1427.81 113.2 1427.81 Z\" fill=\"#000000\" fill-rule=\"evenodd\" fill-opacity=\"1\" /><path clip-path=\"url(#clip880)\" d=\"M 0 0 M72.8532 1176.2 L89.1725 1176.2 L89.1725 1180.13 L67.2282 1180.13 L67.2282 1176.2 Q69.8902 1173.44 74.4735 1168.81 Q79.08 1164.16 80.2606 1162.82 Q82.5059 1160.3 83.3855 1158.56 Q84.2883 1156.8 84.2883 1155.11 Q84.2883 1152.36 82.3439 1150.62 Q80.4226 1148.88 77.3208 1148.88 Q75.1217 1148.88 72.668 1149.65 Q70.2375 1150.41 67.4597 1151.96 L67.4597 1147.24 Q70.2838 1146.11 72.7374 1145.53 Q75.1911 1144.95 77.2282 1144.95 Q82.5985 1144.95 85.7929 1147.63 Q88.9874 1150.32 88.9874 1154.81 Q88.9874 1156.94 88.1772 1158.86 Q87.3901 1160.76 85.2837 1163.35 Q84.705 1164.02 81.6031 1167.24 Q78.5013 1170.43 72.8532 1176.2 Z\" fill=\"#000000\" fill-rule=\"evenodd\" fill-opacity=\"1\" /><path clip-path=\"url(#clip880)\" d=\"M 0 0 M94.242 1174.25 L99.1262 1174.25 L99.1262 1180.13 L94.242 1180.13 L94.242 1174.25 Z\" fill=\"#000000\" fill-rule=\"evenodd\" fill-opacity=\"1\" /><path clip-path=\"url(#clip880)\" d=\"M 0 0 M104.242 1145.57 L122.598 1145.57 L122.598 1149.51 L108.524 1149.51 L108.524 1157.98 Q109.543 1157.63 110.561 1157.47 Q111.58 1157.29 112.598 1157.29 Q118.385 1157.29 121.765 1160.46 Q125.145 1163.63 125.145 1169.05 Q125.145 1174.62 121.672 1177.73 Q118.2 1180.8 111.881 1180.8 Q109.705 1180.8 107.436 1180.43 Q105.191 1180.06 102.784 1179.32 L102.784 1174.62 Q104.867 1175.76 107.089 1176.31 Q109.311 1176.87 111.788 1176.87 Q115.793 1176.87 118.131 1174.76 Q120.469 1172.66 120.469 1169.05 Q120.469 1165.43 118.131 1163.33 Q115.793 1161.22 111.788 1161.22 Q109.913 1161.22 108.038 1161.64 Q106.186 1162.05 104.242 1162.93 L104.242 1145.57 Z\" fill=\"#000000\" fill-rule=\"evenodd\" fill-opacity=\"1\" /><path clip-path=\"url(#clip880)\" d=\"M 0 0 M81.0476 878.637 Q84.404 879.354 86.279 881.623 Q88.1772 883.891 88.1772 887.225 Q88.1772 892.34 84.6587 895.141 Q81.1402 897.942 74.6587 897.942 Q72.4828 897.942 70.168 897.502 Q67.8764 897.086 65.4227 896.229 L65.4227 891.715 Q67.3671 892.85 69.6819 893.428 Q71.9967 894.007 74.5198 894.007 Q78.918 894.007 81.2096 892.271 Q83.5244 890.535 83.5244 887.225 Q83.5244 884.169 81.3717 882.456 Q79.242 880.72 75.4226 880.72 L71.3949 880.72 L71.3949 876.878 L75.6078 876.878 Q79.0569 876.878 80.8855 875.512 Q82.7142 874.123 82.7142 871.53 Q82.7142 868.868 80.8161 867.456 Q78.9411 866.021 75.4226 866.021 Q73.5013 866.021 71.3023 866.438 Q69.1032 866.854 66.4643 867.734 L66.4643 863.567 Q69.1264 862.827 71.4412 862.456 Q73.7791 862.086 75.8393 862.086 Q81.1633 862.086 84.2652 864.516 Q87.367 866.924 87.367 871.044 Q87.367 873.915 85.7235 875.905 Q84.08 877.873 81.0476 878.637 Z\" fill=\"#000000\" fill-rule=\"evenodd\" fill-opacity=\"1\" /><path clip-path=\"url(#clip880)\" d=\"M 0 0 M93.2466 891.391 L98.1308 891.391 L98.1308 897.271 L93.2466 897.271 L93.2466 891.391 Z\" fill=\"#000000\" fill-rule=\"evenodd\" fill-opacity=\"1\" /><path clip-path=\"url(#clip880)\" d=\"M 0 0 M113.2 865.79 Q109.589 865.79 107.76 869.354 Q105.955 872.896 105.955 880.026 Q105.955 887.132 107.76 890.697 Q109.589 894.239 113.2 894.239 Q116.834 894.239 118.64 890.697 Q120.469 887.132 120.469 880.026 Q120.469 872.896 118.64 869.354 Q116.834 865.79 113.2 865.79 M113.2 862.086 Q119.01 862.086 122.066 866.692 Q125.145 871.276 125.145 880.026 Q125.145 888.752 122.066 893.359 Q119.01 897.942 113.2 897.942 Q107.39 897.942 104.311 893.359 Q101.256 888.752 101.256 880.026 Q101.256 871.276 104.311 866.692 Q107.39 862.086 113.2 862.086 Z\" fill=\"#000000\" fill-rule=\"evenodd\" fill-opacity=\"1\" /><path clip-path=\"url(#clip880)\" d=\"M 0 0 M82.0429 595.774 Q85.3994 596.492 87.2744 598.76 Q89.1725 601.029 89.1725 604.362 Q89.1725 609.478 85.654 612.279 Q82.1355 615.08 75.6541 615.08 Q73.4782 615.08 71.1634 614.64 Q68.8717 614.223 66.418 613.367 L66.418 608.853 Q68.3625 609.987 70.6773 610.566 Q72.9921 611.145 75.5152 611.145 Q79.9133 611.145 82.205 609.409 Q84.5198 607.672 84.5198 604.362 Q84.5198 601.307 82.367 599.594 Q80.2374 597.858 76.418 597.858 L72.3902 597.858 L72.3902 594.015 L76.6032 594.015 Q80.0522 594.015 81.8809 592.649 Q83.7096 591.261 83.7096 588.668 Q83.7096 586.006 81.8115 584.594 Q79.9365 583.159 76.418 583.159 Q74.4967 583.159 72.2976 583.575 Q70.0986 583.992 67.4597 584.872 L67.4597 580.705 Q70.1217 579.964 72.4365 579.594 Q74.7745 579.224 76.8346 579.224 Q82.1587 579.224 85.2605 581.654 Q88.3624 584.061 88.3624 588.182 Q88.3624 591.052 86.7189 593.043 Q85.0753 595.011 82.0429 595.774 Z\" fill=\"#000000\" fill-rule=\"evenodd\" fill-opacity=\"1\" /><path clip-path=\"url(#clip880)\" d=\"M 0 0 M94.242 608.529 L99.1262 608.529 L99.1262 614.409 L94.242 614.409 L94.242 608.529 Z\" fill=\"#000000\" fill-rule=\"evenodd\" fill-opacity=\"1\" /><path clip-path=\"url(#clip880)\" d=\"M 0 0 M104.242 579.849 L122.598 579.849 L122.598 583.784 L108.524 583.784 L108.524 592.256 Q109.543 591.909 110.561 591.747 Q111.58 591.561 112.598 591.561 Q118.385 591.561 121.765 594.733 Q125.145 597.904 125.145 603.321 Q125.145 608.899 121.672 612.001 Q118.2 615.08 111.881 615.08 Q109.705 615.08 107.436 614.709 Q105.191 614.339 102.784 613.598 L102.784 608.899 Q104.867 610.034 107.089 610.589 Q109.311 611.145 111.788 611.145 Q115.793 611.145 118.131 609.038 Q120.469 606.932 120.469 603.321 Q120.469 599.71 118.131 597.603 Q115.793 595.497 111.788 595.497 Q109.913 595.497 108.038 595.913 Q106.186 596.33 104.242 597.21 L104.242 579.849 Z\" fill=\"#000000\" fill-rule=\"evenodd\" fill-opacity=\"1\" /><path clip-path=\"url(#clip880)\" d=\"M 0 0 M78.5939 301.06 L66.7884 319.509 L78.5939 319.509 L78.5939 301.06 M77.367 296.986 L83.2466 296.986 L83.2466 319.509 L88.1772 319.509 L88.1772 323.398 L83.2466 323.398 L83.2466 331.546 L78.5939 331.546 L78.5939 323.398 L62.9921 323.398 L62.9921 318.884 L77.367 296.986 Z\" fill=\"#000000\" fill-rule=\"evenodd\" fill-opacity=\"1\" /><path clip-path=\"url(#clip880)\" d=\"M 0 0 M93.2466 325.667 L98.1308 325.667 L98.1308 331.546 L93.2466 331.546 L93.2466 325.667 Z\" fill=\"#000000\" fill-rule=\"evenodd\" fill-opacity=\"1\" /><path clip-path=\"url(#clip880)\" d=\"M 0 0 M113.2 300.065 Q109.589 300.065 107.76 303.63 Q105.955 307.171 105.955 314.301 Q105.955 321.407 107.76 324.972 Q109.589 328.514 113.2 328.514 Q116.834 328.514 118.64 324.972 Q120.469 321.407 120.469 314.301 Q120.469 307.171 118.64 303.63 Q116.834 300.065 113.2 300.065 M113.2 296.361 Q119.01 296.361 122.066 300.968 Q125.145 305.551 125.145 314.301 Q125.145 323.028 122.066 327.634 Q119.01 332.217 113.2 332.217 Q107.39 332.217 104.311 327.634 Q101.256 323.028 101.256 314.301 Q101.256 305.551 104.311 300.968 Q107.39 296.361 113.2 296.361 Z\" fill=\"#000000\" fill-rule=\"evenodd\" fill-opacity=\"1\" /><circle clip-path=\"url(#clip882)\" cx=\"673.484\" cy=\"597.129\" r=\"14\" fill=\"#009af9\" fill-rule=\"evenodd\" fill-opacity=\"1\" stroke=\"#000000\" stroke-opacity=\"1\" stroke-width=\"3.2\"/>\n",
       "<circle clip-path=\"url(#clip882)\" cx=\"557.991\" cy=\"879.991\" r=\"14\" fill=\"#009af9\" fill-rule=\"evenodd\" fill-opacity=\"1\" stroke=\"#000000\" stroke-opacity=\"1\" stroke-width=\"3.2\"/>\n",
       "<circle clip-path=\"url(#clip882)\" cx=\"442.497\" cy=\"766.846\" r=\"14\" fill=\"#009af9\" fill-rule=\"evenodd\" fill-opacity=\"1\" stroke=\"#000000\" stroke-opacity=\"1\" stroke-width=\"3.2\"/>\n",
       "<circle clip-path=\"url(#clip882)\" cx=\"384.751\" cy=\"823.418\" r=\"14\" fill=\"#009af9\" fill-rule=\"evenodd\" fill-opacity=\"1\" stroke=\"#000000\" stroke-opacity=\"1\" stroke-width=\"3.2\"/>\n",
       "<circle clip-path=\"url(#clip882)\" cx=\"615.737\" cy=\"540.556\" r=\"14\" fill=\"#009af9\" fill-rule=\"evenodd\" fill-opacity=\"1\" stroke=\"#000000\" stroke-opacity=\"1\" stroke-width=\"3.2\"/>\n",
       "<circle clip-path=\"url(#clip882)\" cx=\"846.724\" cy=\"370.839\" r=\"14\" fill=\"#009af9\" fill-rule=\"evenodd\" fill-opacity=\"1\" stroke=\"#000000\" stroke-opacity=\"1\" stroke-width=\"3.2\"/>\n",
       "<circle clip-path=\"url(#clip882)\" cx=\"384.751\" cy=\"653.701\" r=\"14\" fill=\"#009af9\" fill-rule=\"evenodd\" fill-opacity=\"1\" stroke=\"#000000\" stroke-opacity=\"1\" stroke-width=\"3.2\"/>\n",
       "<circle clip-path=\"url(#clip882)\" cx=\"615.737\" cy=\"653.701\" r=\"14\" fill=\"#009af9\" fill-rule=\"evenodd\" fill-opacity=\"1\" stroke=\"#000000\" stroke-opacity=\"1\" stroke-width=\"3.2\"/>\n",
       "<circle clip-path=\"url(#clip882)\" cx=\"269.258\" cy=\"936.563\" r=\"14\" fill=\"#009af9\" fill-rule=\"evenodd\" fill-opacity=\"1\" stroke=\"#000000\" stroke-opacity=\"1\" stroke-width=\"3.2\"/>\n",
       "<circle clip-path=\"url(#clip882)\" cx=\"557.991\" cy=\"823.418\" r=\"14\" fill=\"#009af9\" fill-rule=\"evenodd\" fill-opacity=\"1\" stroke=\"#000000\" stroke-opacity=\"1\" stroke-width=\"3.2\"/>\n",
       "<circle clip-path=\"url(#clip882)\" cx=\"846.724\" cy=\"483.984\" r=\"14\" fill=\"#009af9\" fill-rule=\"evenodd\" fill-opacity=\"1\" stroke=\"#000000\" stroke-opacity=\"1\" stroke-width=\"3.2\"/>\n",
       "<circle clip-path=\"url(#clip882)\" cx=\"500.244\" cy=\"653.701\" r=\"14\" fill=\"#009af9\" fill-rule=\"evenodd\" fill-opacity=\"1\" stroke=\"#000000\" stroke-opacity=\"1\" stroke-width=\"3.2\"/>\n",
       "<circle clip-path=\"url(#clip882)\" cx=\"500.244\" cy=\"879.991\" r=\"14\" fill=\"#009af9\" fill-rule=\"evenodd\" fill-opacity=\"1\" stroke=\"#000000\" stroke-opacity=\"1\" stroke-width=\"3.2\"/>\n",
       "<circle clip-path=\"url(#clip882)\" cx=\"211.511\" cy=\"879.991\" r=\"14\" fill=\"#009af9\" fill-rule=\"evenodd\" fill-opacity=\"1\" stroke=\"#000000\" stroke-opacity=\"1\" stroke-width=\"3.2\"/>\n",
       "<circle clip-path=\"url(#clip882)\" cx=\"1077.71\" cy=\"314.266\" r=\"14\" fill=\"#009af9\" fill-rule=\"evenodd\" fill-opacity=\"1\" stroke=\"#000000\" stroke-opacity=\"1\" stroke-width=\"3.2\"/>\n",
       "<circle clip-path=\"url(#clip882)\" cx=\"1019.96\" cy=\"87.9763\" r=\"14\" fill=\"#009af9\" fill-rule=\"evenodd\" fill-opacity=\"1\" stroke=\"#000000\" stroke-opacity=\"1\" stroke-width=\"3.2\"/>\n",
       "<circle clip-path=\"url(#clip882)\" cx=\"846.724\" cy=\"370.839\" r=\"14\" fill=\"#009af9\" fill-rule=\"evenodd\" fill-opacity=\"1\" stroke=\"#000000\" stroke-opacity=\"1\" stroke-width=\"3.2\"/>\n",
       "<circle clip-path=\"url(#clip882)\" cx=\"673.484\" cy=\"597.129\" r=\"14\" fill=\"#009af9\" fill-rule=\"evenodd\" fill-opacity=\"1\" stroke=\"#000000\" stroke-opacity=\"1\" stroke-width=\"3.2\"/>\n",
       "<circle clip-path=\"url(#clip882)\" cx=\"1019.96\" cy=\"427.411\" r=\"14\" fill=\"#009af9\" fill-rule=\"evenodd\" fill-opacity=\"1\" stroke=\"#000000\" stroke-opacity=\"1\" stroke-width=\"3.2\"/>\n",
       "<circle clip-path=\"url(#clip882)\" cx=\"673.484\" cy=\"427.411\" r=\"14\" fill=\"#009af9\" fill-rule=\"evenodd\" fill-opacity=\"1\" stroke=\"#000000\" stroke-opacity=\"1\" stroke-width=\"3.2\"/>\n",
       "<circle clip-path=\"url(#clip882)\" cx=\"846.724\" cy=\"653.701\" r=\"14\" fill=\"#009af9\" fill-rule=\"evenodd\" fill-opacity=\"1\" stroke=\"#000000\" stroke-opacity=\"1\" stroke-width=\"3.2\"/>\n",
       "<circle clip-path=\"url(#clip882)\" cx=\"673.484\" cy=\"483.984\" r=\"14\" fill=\"#009af9\" fill-rule=\"evenodd\" fill-opacity=\"1\" stroke=\"#000000\" stroke-opacity=\"1\" stroke-width=\"3.2\"/>\n",
       "<circle clip-path=\"url(#clip882)\" cx=\"384.751\" cy=\"540.556\" r=\"14\" fill=\"#009af9\" fill-rule=\"evenodd\" fill-opacity=\"1\" stroke=\"#000000\" stroke-opacity=\"1\" stroke-width=\"3.2\"/>\n",
       "<circle clip-path=\"url(#clip882)\" cx=\"673.484\" cy=\"710.274\" r=\"14\" fill=\"#009af9\" fill-rule=\"evenodd\" fill-opacity=\"1\" stroke=\"#000000\" stroke-opacity=\"1\" stroke-width=\"3.2\"/>\n",
       "<circle clip-path=\"url(#clip882)\" cx=\"500.244\" cy=\"653.701\" r=\"14\" fill=\"#009af9\" fill-rule=\"evenodd\" fill-opacity=\"1\" stroke=\"#000000\" stroke-opacity=\"1\" stroke-width=\"3.2\"/>\n",
       "<circle clip-path=\"url(#clip882)\" cx=\"615.737\" cy=\"879.991\" r=\"14\" fill=\"#009af9\" fill-rule=\"evenodd\" fill-opacity=\"1\" stroke=\"#000000\" stroke-opacity=\"1\" stroke-width=\"3.2\"/>\n",
       "<circle clip-path=\"url(#clip882)\" cx=\"615.737\" cy=\"653.701\" r=\"14\" fill=\"#009af9\" fill-rule=\"evenodd\" fill-opacity=\"1\" stroke=\"#000000\" stroke-opacity=\"1\" stroke-width=\"3.2\"/>\n",
       "<circle clip-path=\"url(#clip882)\" cx=\"731.231\" cy=\"597.129\" r=\"14\" fill=\"#009af9\" fill-rule=\"evenodd\" fill-opacity=\"1\" stroke=\"#000000\" stroke-opacity=\"1\" stroke-width=\"3.2\"/>\n",
       "<circle clip-path=\"url(#clip882)\" cx=\"731.231\" cy=\"653.701\" r=\"14\" fill=\"#009af9\" fill-rule=\"evenodd\" fill-opacity=\"1\" stroke=\"#000000\" stroke-opacity=\"1\" stroke-width=\"3.2\"/>\n",
       "<circle clip-path=\"url(#clip882)\" cx=\"442.497\" cy=\"766.846\" r=\"14\" fill=\"#009af9\" fill-rule=\"evenodd\" fill-opacity=\"1\" stroke=\"#000000\" stroke-opacity=\"1\" stroke-width=\"3.2\"/>\n",
       "<circle clip-path=\"url(#clip882)\" cx=\"500.244\" cy=\"823.418\" r=\"14\" fill=\"#009af9\" fill-rule=\"evenodd\" fill-opacity=\"1\" stroke=\"#000000\" stroke-opacity=\"1\" stroke-width=\"3.2\"/>\n",
       "<circle clip-path=\"url(#clip882)\" cx=\"846.724\" cy=\"653.701\" r=\"14\" fill=\"#009af9\" fill-rule=\"evenodd\" fill-opacity=\"1\" stroke=\"#000000\" stroke-opacity=\"1\" stroke-width=\"3.2\"/>\n",
       "<circle clip-path=\"url(#clip882)\" cx=\"731.231\" cy=\"257.694\" r=\"14\" fill=\"#009af9\" fill-rule=\"evenodd\" fill-opacity=\"1\" stroke=\"#000000\" stroke-opacity=\"1\" stroke-width=\"3.2\"/>\n",
       "<circle clip-path=\"url(#clip882)\" cx=\"904.47\" cy=\"201.121\" r=\"14\" fill=\"#009af9\" fill-rule=\"evenodd\" fill-opacity=\"1\" stroke=\"#000000\" stroke-opacity=\"1\" stroke-width=\"3.2\"/>\n",
       "<circle clip-path=\"url(#clip882)\" cx=\"557.991\" cy=\"823.418\" r=\"14\" fill=\"#009af9\" fill-rule=\"evenodd\" fill-opacity=\"1\" stroke=\"#000000\" stroke-opacity=\"1\" stroke-width=\"3.2\"/>\n",
       "<circle clip-path=\"url(#clip882)\" cx=\"615.737\" cy=\"766.846\" r=\"14\" fill=\"#009af9\" fill-rule=\"evenodd\" fill-opacity=\"1\" stroke=\"#000000\" stroke-opacity=\"1\" stroke-width=\"3.2\"/>\n",
       "<circle clip-path=\"url(#clip882)\" cx=\"904.47\" cy=\"597.129\" r=\"14\" fill=\"#009af9\" fill-rule=\"evenodd\" fill-opacity=\"1\" stroke=\"#000000\" stroke-opacity=\"1\" stroke-width=\"3.2\"/>\n",
       "<circle clip-path=\"url(#clip882)\" cx=\"557.991\" cy=\"540.556\" r=\"14\" fill=\"#009af9\" fill-rule=\"evenodd\" fill-opacity=\"1\" stroke=\"#000000\" stroke-opacity=\"1\" stroke-width=\"3.2\"/>\n",
       "<circle clip-path=\"url(#clip882)\" cx=\"269.258\" cy=\"879.991\" r=\"14\" fill=\"#009af9\" fill-rule=\"evenodd\" fill-opacity=\"1\" stroke=\"#000000\" stroke-opacity=\"1\" stroke-width=\"3.2\"/>\n",
       "<circle clip-path=\"url(#clip882)\" cx=\"673.484\" cy=\"653.701\" r=\"14\" fill=\"#009af9\" fill-rule=\"evenodd\" fill-opacity=\"1\" stroke=\"#000000\" stroke-opacity=\"1\" stroke-width=\"3.2\"/>\n",
       "<circle clip-path=\"url(#clip882)\" cx=\"615.737\" cy=\"597.129\" r=\"14\" fill=\"#009af9\" fill-rule=\"evenodd\" fill-opacity=\"1\" stroke=\"#000000\" stroke-opacity=\"1\" stroke-width=\"3.2\"/>\n",
       "<circle clip-path=\"url(#clip882)\" cx=\"327.004\" cy=\"1276\" r=\"14\" fill=\"#009af9\" fill-rule=\"evenodd\" fill-opacity=\"1\" stroke=\"#000000\" stroke-opacity=\"1\" stroke-width=\"3.2\"/>\n",
       "<circle clip-path=\"url(#clip882)\" cx=\"269.258\" cy=\"766.846\" r=\"14\" fill=\"#009af9\" fill-rule=\"evenodd\" fill-opacity=\"1\" stroke=\"#000000\" stroke-opacity=\"1\" stroke-width=\"3.2\"/>\n",
       "<circle clip-path=\"url(#clip882)\" cx=\"615.737\" cy=\"597.129\" r=\"14\" fill=\"#009af9\" fill-rule=\"evenodd\" fill-opacity=\"1\" stroke=\"#000000\" stroke-opacity=\"1\" stroke-width=\"3.2\"/>\n",
       "<circle clip-path=\"url(#clip882)\" cx=\"673.484\" cy=\"427.411\" r=\"14\" fill=\"#009af9\" fill-rule=\"evenodd\" fill-opacity=\"1\" stroke=\"#000000\" stroke-opacity=\"1\" stroke-width=\"3.2\"/>\n",
       "<circle clip-path=\"url(#clip882)\" cx=\"500.244\" cy=\"879.991\" r=\"14\" fill=\"#009af9\" fill-rule=\"evenodd\" fill-opacity=\"1\" stroke=\"#000000\" stroke-opacity=\"1\" stroke-width=\"3.2\"/>\n",
       "<circle clip-path=\"url(#clip882)\" cx=\"673.484\" cy=\"427.411\" r=\"14\" fill=\"#009af9\" fill-rule=\"evenodd\" fill-opacity=\"1\" stroke=\"#000000\" stroke-opacity=\"1\" stroke-width=\"3.2\"/>\n",
       "<circle clip-path=\"url(#clip882)\" cx=\"384.751\" cy=\"766.846\" r=\"14\" fill=\"#009af9\" fill-rule=\"evenodd\" fill-opacity=\"1\" stroke=\"#000000\" stroke-opacity=\"1\" stroke-width=\"3.2\"/>\n",
       "<circle clip-path=\"url(#clip882)\" cx=\"788.977\" cy=\"483.984\" r=\"14\" fill=\"#009af9\" fill-rule=\"evenodd\" fill-opacity=\"1\" stroke=\"#000000\" stroke-opacity=\"1\" stroke-width=\"3.2\"/>\n",
       "<circle clip-path=\"url(#clip882)\" cx=\"615.737\" cy=\"710.274\" r=\"14\" fill=\"#009af9\" fill-rule=\"evenodd\" fill-opacity=\"1\" stroke=\"#000000\" stroke-opacity=\"1\" stroke-width=\"3.2\"/>\n",
       "<circle clip-path=\"url(#clip882)\" cx=\"1770.67\" cy=\"766.846\" r=\"14\" fill=\"#e26f46\" fill-rule=\"evenodd\" fill-opacity=\"1\" stroke=\"#000000\" stroke-opacity=\"1\" stroke-width=\"3.2\"/>\n",
       "<circle clip-path=\"url(#clip882)\" cx=\"1424.19\" cy=\"766.846\" r=\"14\" fill=\"#e26f46\" fill-rule=\"evenodd\" fill-opacity=\"1\" stroke=\"#000000\" stroke-opacity=\"1\" stroke-width=\"3.2\"/>\n",
       "<circle clip-path=\"url(#clip882)\" cx=\"1712.92\" cy=\"823.418\" r=\"14\" fill=\"#e26f46\" fill-rule=\"evenodd\" fill-opacity=\"1\" stroke=\"#000000\" stroke-opacity=\"1\" stroke-width=\"3.2\"/>\n",
       "<circle clip-path=\"url(#clip882)\" cx=\"904.47\" cy=\"1276\" r=\"14\" fill=\"#e26f46\" fill-rule=\"evenodd\" fill-opacity=\"1\" stroke=\"#000000\" stroke-opacity=\"1\" stroke-width=\"3.2\"/>\n",
       "<circle clip-path=\"url(#clip882)\" cx=\"1481.94\" cy=\"993.136\" r=\"14\" fill=\"#e26f46\" fill-rule=\"evenodd\" fill-opacity=\"1\" stroke=\"#000000\" stroke-opacity=\"1\" stroke-width=\"3.2\"/>\n",
       "<circle clip-path=\"url(#clip882)\" cx=\"1019.96\" cy=\"993.136\" r=\"14\" fill=\"#e26f46\" fill-rule=\"evenodd\" fill-opacity=\"1\" stroke=\"#000000\" stroke-opacity=\"1\" stroke-width=\"3.2\"/>\n",
       "<circle clip-path=\"url(#clip882)\" cx=\"1366.44\" cy=\"710.274\" r=\"14\" fill=\"#e26f46\" fill-rule=\"evenodd\" fill-opacity=\"1\" stroke=\"#000000\" stroke-opacity=\"1\" stroke-width=\"3.2\"/>\n",
       "<circle clip-path=\"url(#clip882)\" cx=\"557.991\" cy=\"1219.43\" r=\"14\" fill=\"#e26f46\" fill-rule=\"evenodd\" fill-opacity=\"1\" stroke=\"#000000\" stroke-opacity=\"1\" stroke-width=\"3.2\"/>\n",
       "<circle clip-path=\"url(#clip882)\" cx=\"1539.68\" cy=\"936.563\" r=\"14\" fill=\"#e26f46\" fill-rule=\"evenodd\" fill-opacity=\"1\" stroke=\"#000000\" stroke-opacity=\"1\" stroke-width=\"3.2\"/>\n",
       "<circle clip-path=\"url(#clip882)\" cx=\"731.231\" cy=\"1049.71\" r=\"14\" fill=\"#e26f46\" fill-rule=\"evenodd\" fill-opacity=\"1\" stroke=\"#000000\" stroke-opacity=\"1\" stroke-width=\"3.2\"/>\n",
       "<circle clip-path=\"url(#clip882)\" cx=\"615.737\" cy=\"1445.72\" r=\"14\" fill=\"#e26f46\" fill-rule=\"evenodd\" fill-opacity=\"1\" stroke=\"#000000\" stroke-opacity=\"1\" stroke-width=\"3.2\"/>\n",
       "<circle clip-path=\"url(#clip882)\" cx=\"1135.46\" cy=\"879.991\" r=\"14\" fill=\"#e26f46\" fill-rule=\"evenodd\" fill-opacity=\"1\" stroke=\"#000000\" stroke-opacity=\"1\" stroke-width=\"3.2\"/>\n",
       "<circle clip-path=\"url(#clip882)\" cx=\"1193.2\" cy=\"1332.57\" r=\"14\" fill=\"#e26f46\" fill-rule=\"evenodd\" fill-opacity=\"1\" stroke=\"#000000\" stroke-opacity=\"1\" stroke-width=\"3.2\"/>\n",
       "<circle clip-path=\"url(#clip882)\" cx=\"1250.95\" cy=\"936.563\" r=\"14\" fill=\"#e26f46\" fill-rule=\"evenodd\" fill-opacity=\"1\" stroke=\"#000000\" stroke-opacity=\"1\" stroke-width=\"3.2\"/>\n",
       "<circle clip-path=\"url(#clip882)\" cx=\"962.217\" cy=\"936.563\" r=\"14\" fill=\"#e26f46\" fill-rule=\"evenodd\" fill-opacity=\"1\" stroke=\"#000000\" stroke-opacity=\"1\" stroke-width=\"3.2\"/>\n",
       "<circle clip-path=\"url(#clip882)\" cx=\"1597.43\" cy=\"823.418\" r=\"14\" fill=\"#e26f46\" fill-rule=\"evenodd\" fill-opacity=\"1\" stroke=\"#000000\" stroke-opacity=\"1\" stroke-width=\"3.2\"/>\n",
       "<circle clip-path=\"url(#clip882)\" cx=\"962.217\" cy=\"879.991\" r=\"14\" fill=\"#e26f46\" fill-rule=\"evenodd\" fill-opacity=\"1\" stroke=\"#000000\" stroke-opacity=\"1\" stroke-width=\"3.2\"/>\n",
       "<circle clip-path=\"url(#clip882)\" cx=\"1077.71\" cy=\"1049.71\" r=\"14\" fill=\"#e26f46\" fill-rule=\"evenodd\" fill-opacity=\"1\" stroke=\"#000000\" stroke-opacity=\"1\" stroke-width=\"3.2\"/>\n",
       "<circle clip-path=\"url(#clip882)\" cx=\"1308.7\" cy=\"1332.57\" r=\"14\" fill=\"#e26f46\" fill-rule=\"evenodd\" fill-opacity=\"1\" stroke=\"#000000\" stroke-opacity=\"1\" stroke-width=\"3.2\"/>\n",
       "<circle clip-path=\"url(#clip882)\" cx=\"962.217\" cy=\"1162.85\" r=\"14\" fill=\"#e26f46\" fill-rule=\"evenodd\" fill-opacity=\"1\" stroke=\"#000000\" stroke-opacity=\"1\" stroke-width=\"3.2\"/>\n",
       "<circle clip-path=\"url(#clip882)\" cx=\"1135.46\" cy=\"766.846\" r=\"14\" fill=\"#e26f46\" fill-rule=\"evenodd\" fill-opacity=\"1\" stroke=\"#000000\" stroke-opacity=\"1\" stroke-width=\"3.2\"/>\n",
       "<circle clip-path=\"url(#clip882)\" cx=\"1250.95\" cy=\"993.136\" r=\"14\" fill=\"#e26f46\" fill-rule=\"evenodd\" fill-opacity=\"1\" stroke=\"#000000\" stroke-opacity=\"1\" stroke-width=\"3.2\"/>\n",
       "<circle clip-path=\"url(#clip882)\" cx=\"1366.44\" cy=\"1162.85\" r=\"14\" fill=\"#e26f46\" fill-rule=\"evenodd\" fill-opacity=\"1\" stroke=\"#000000\" stroke-opacity=\"1\" stroke-width=\"3.2\"/>\n",
       "<circle clip-path=\"url(#clip882)\" cx=\"1250.95\" cy=\"993.136\" r=\"14\" fill=\"#e26f46\" fill-rule=\"evenodd\" fill-opacity=\"1\" stroke=\"#000000\" stroke-opacity=\"1\" stroke-width=\"3.2\"/>\n",
       "<circle clip-path=\"url(#clip882)\" cx=\"1424.19\" cy=\"936.563\" r=\"14\" fill=\"#e26f46\" fill-rule=\"evenodd\" fill-opacity=\"1\" stroke=\"#000000\" stroke-opacity=\"1\" stroke-width=\"3.2\"/>\n",
       "<circle clip-path=\"url(#clip882)\" cx=\"1539.68\" cy=\"879.991\" r=\"14\" fill=\"#e26f46\" fill-rule=\"evenodd\" fill-opacity=\"1\" stroke=\"#000000\" stroke-opacity=\"1\" stroke-width=\"3.2\"/>\n",
       "<circle clip-path=\"url(#clip882)\" cx=\"1655.18\" cy=\"993.136\" r=\"14\" fill=\"#e26f46\" fill-rule=\"evenodd\" fill-opacity=\"1\" stroke=\"#000000\" stroke-opacity=\"1\" stroke-width=\"3.2\"/>\n",
       "<circle clip-path=\"url(#clip882)\" cx=\"1597.43\" cy=\"879.991\" r=\"14\" fill=\"#e26f46\" fill-rule=\"evenodd\" fill-opacity=\"1\" stroke=\"#000000\" stroke-opacity=\"1\" stroke-width=\"3.2\"/>\n",
       "<circle clip-path=\"url(#clip882)\" cx=\"1193.2\" cy=\"936.563\" r=\"14\" fill=\"#e26f46\" fill-rule=\"evenodd\" fill-opacity=\"1\" stroke=\"#000000\" stroke-opacity=\"1\" stroke-width=\"3.2\"/>\n",
       "<circle clip-path=\"url(#clip882)\" cx=\"1019.96\" cy=\"1106.28\" r=\"14\" fill=\"#e26f46\" fill-rule=\"evenodd\" fill-opacity=\"1\" stroke=\"#000000\" stroke-opacity=\"1\" stroke-width=\"3.2\"/>\n",
       "<circle clip-path=\"url(#clip882)\" cx=\"904.47\" cy=\"1219.43\" r=\"14\" fill=\"#e26f46\" fill-rule=\"evenodd\" fill-opacity=\"1\" stroke=\"#000000\" stroke-opacity=\"1\" stroke-width=\"3.2\"/>\n",
       "<circle clip-path=\"url(#clip882)\" cx=\"904.47\" cy=\"1219.43\" r=\"14\" fill=\"#e26f46\" fill-rule=\"evenodd\" fill-opacity=\"1\" stroke=\"#000000\" stroke-opacity=\"1\" stroke-width=\"3.2\"/>\n",
       "<circle clip-path=\"url(#clip882)\" cx=\"1077.71\" cy=\"1049.71\" r=\"14\" fill=\"#e26f46\" fill-rule=\"evenodd\" fill-opacity=\"1\" stroke=\"#000000\" stroke-opacity=\"1\" stroke-width=\"3.2\"/>\n",
       "<circle clip-path=\"url(#clip882)\" cx=\"1193.2\" cy=\"1049.71\" r=\"14\" fill=\"#e26f46\" fill-rule=\"evenodd\" fill-opacity=\"1\" stroke=\"#000000\" stroke-opacity=\"1\" stroke-width=\"3.2\"/>\n",
       "<circle clip-path=\"url(#clip882)\" cx=\"846.724\" cy=\"879.991\" r=\"14\" fill=\"#e26f46\" fill-rule=\"evenodd\" fill-opacity=\"1\" stroke=\"#000000\" stroke-opacity=\"1\" stroke-width=\"3.2\"/>\n",
       "<circle clip-path=\"url(#clip882)\" cx=\"1193.2\" cy=\"653.701\" r=\"14\" fill=\"#e26f46\" fill-rule=\"evenodd\" fill-opacity=\"1\" stroke=\"#000000\" stroke-opacity=\"1\" stroke-width=\"3.2\"/>\n",
       "<circle clip-path=\"url(#clip882)\" cx=\"1597.43\" cy=\"823.418\" r=\"14\" fill=\"#e26f46\" fill-rule=\"evenodd\" fill-opacity=\"1\" stroke=\"#000000\" stroke-opacity=\"1\" stroke-width=\"3.2\"/>\n",
       "<circle clip-path=\"url(#clip882)\" cx=\"1366.44\" cy=\"1276\" r=\"14\" fill=\"#e26f46\" fill-rule=\"evenodd\" fill-opacity=\"1\" stroke=\"#000000\" stroke-opacity=\"1\" stroke-width=\"3.2\"/>\n",
       "<circle clip-path=\"url(#clip882)\" cx=\"962.217\" cy=\"879.991\" r=\"14\" fill=\"#e26f46\" fill-rule=\"evenodd\" fill-opacity=\"1\" stroke=\"#000000\" stroke-opacity=\"1\" stroke-width=\"3.2\"/>\n",
       "<circle clip-path=\"url(#clip882)\" cx=\"904.47\" cy=\"1162.85\" r=\"14\" fill=\"#e26f46\" fill-rule=\"evenodd\" fill-opacity=\"1\" stroke=\"#000000\" stroke-opacity=\"1\" stroke-width=\"3.2\"/>\n",
       "<circle clip-path=\"url(#clip882)\" cx=\"904.47\" cy=\"1106.28\" r=\"14\" fill=\"#e26f46\" fill-rule=\"evenodd\" fill-opacity=\"1\" stroke=\"#000000\" stroke-opacity=\"1\" stroke-width=\"3.2\"/>\n",
       "<circle clip-path=\"url(#clip882)\" cx=\"1250.95\" cy=\"879.991\" r=\"14\" fill=\"#e26f46\" fill-rule=\"evenodd\" fill-opacity=\"1\" stroke=\"#000000\" stroke-opacity=\"1\" stroke-width=\"3.2\"/>\n",
       "<circle clip-path=\"url(#clip882)\" cx=\"1077.71\" cy=\"1106.28\" r=\"14\" fill=\"#e26f46\" fill-rule=\"evenodd\" fill-opacity=\"1\" stroke=\"#000000\" stroke-opacity=\"1\" stroke-width=\"3.2\"/>\n",
       "<circle clip-path=\"url(#clip882)\" cx=\"615.737\" cy=\"1276\" r=\"14\" fill=\"#e26f46\" fill-rule=\"evenodd\" fill-opacity=\"1\" stroke=\"#000000\" stroke-opacity=\"1\" stroke-width=\"3.2\"/>\n",
       "<circle clip-path=\"url(#clip882)\" cx=\"962.217\" cy=\"1049.71\" r=\"14\" fill=\"#e26f46\" fill-rule=\"evenodd\" fill-opacity=\"1\" stroke=\"#000000\" stroke-opacity=\"1\" stroke-width=\"3.2\"/>\n",
       "<circle clip-path=\"url(#clip882)\" cx=\"1019.96\" cy=\"879.991\" r=\"14\" fill=\"#e26f46\" fill-rule=\"evenodd\" fill-opacity=\"1\" stroke=\"#000000\" stroke-opacity=\"1\" stroke-width=\"3.2\"/>\n",
       "<circle clip-path=\"url(#clip882)\" cx=\"1019.96\" cy=\"936.563\" r=\"14\" fill=\"#e26f46\" fill-rule=\"evenodd\" fill-opacity=\"1\" stroke=\"#000000\" stroke-opacity=\"1\" stroke-width=\"3.2\"/>\n",
       "<circle clip-path=\"url(#clip882)\" cx=\"1308.7\" cy=\"936.563\" r=\"14\" fill=\"#e26f46\" fill-rule=\"evenodd\" fill-opacity=\"1\" stroke=\"#000000\" stroke-opacity=\"1\" stroke-width=\"3.2\"/>\n",
       "<circle clip-path=\"url(#clip882)\" cx=\"673.484\" cy=\"1162.85\" r=\"14\" fill=\"#e26f46\" fill-rule=\"evenodd\" fill-opacity=\"1\" stroke=\"#000000\" stroke-opacity=\"1\" stroke-width=\"3.2\"/>\n",
       "<circle clip-path=\"url(#clip882)\" cx=\"1019.96\" cy=\"993.136\" r=\"14\" fill=\"#e26f46\" fill-rule=\"evenodd\" fill-opacity=\"1\" stroke=\"#000000\" stroke-opacity=\"1\" stroke-width=\"3.2\"/>\n",
       "<circle clip-path=\"url(#clip882)\" cx=\"1366.44\" cy=\"710.274\" r=\"14\" fill=\"#3da44d\" fill-rule=\"evenodd\" fill-opacity=\"1\" stroke=\"#000000\" stroke-opacity=\"1\" stroke-width=\"3.2\"/>\n",
       "<circle clip-path=\"url(#clip882)\" cx=\"1077.71\" cy=\"1049.71\" r=\"14\" fill=\"#3da44d\" fill-rule=\"evenodd\" fill-opacity=\"1\" stroke=\"#000000\" stroke-opacity=\"1\" stroke-width=\"3.2\"/>\n",
       "<circle clip-path=\"url(#clip882)\" cx=\"1828.42\" cy=\"879.991\" r=\"14\" fill=\"#3da44d\" fill-rule=\"evenodd\" fill-opacity=\"1\" stroke=\"#000000\" stroke-opacity=\"1\" stroke-width=\"3.2\"/>\n",
       "<circle clip-path=\"url(#clip882)\" cx=\"1366.44\" cy=\"936.563\" r=\"14\" fill=\"#3da44d\" fill-rule=\"evenodd\" fill-opacity=\"1\" stroke=\"#000000\" stroke-opacity=\"1\" stroke-width=\"3.2\"/>\n",
       "<circle clip-path=\"url(#clip882)\" cx=\"1481.94\" cy=\"879.991\" r=\"14\" fill=\"#3da44d\" fill-rule=\"evenodd\" fill-opacity=\"1\" stroke=\"#000000\" stroke-opacity=\"1\" stroke-width=\"3.2\"/>\n",
       "<circle clip-path=\"url(#clip882)\" cx=\"2117.15\" cy=\"879.991\" r=\"14\" fill=\"#3da44d\" fill-rule=\"evenodd\" fill-opacity=\"1\" stroke=\"#000000\" stroke-opacity=\"1\" stroke-width=\"3.2\"/>\n",
       "<circle clip-path=\"url(#clip882)\" cx=\"557.991\" cy=\"1162.85\" r=\"14\" fill=\"#3da44d\" fill-rule=\"evenodd\" fill-opacity=\"1\" stroke=\"#000000\" stroke-opacity=\"1\" stroke-width=\"3.2\"/>\n",
       "<circle clip-path=\"url(#clip882)\" cx=\"1943.91\" cy=\"936.563\" r=\"14\" fill=\"#3da44d\" fill-rule=\"evenodd\" fill-opacity=\"1\" stroke=\"#000000\" stroke-opacity=\"1\" stroke-width=\"3.2\"/>\n",
       "<circle clip-path=\"url(#clip882)\" cx=\"1597.43\" cy=\"1162.85\" r=\"14\" fill=\"#3da44d\" fill-rule=\"evenodd\" fill-opacity=\"1\" stroke=\"#000000\" stroke-opacity=\"1\" stroke-width=\"3.2\"/>\n",
       "<circle clip-path=\"url(#clip882)\" cx=\"1886.16\" cy=\"540.556\" r=\"14\" fill=\"#3da44d\" fill-rule=\"evenodd\" fill-opacity=\"1\" stroke=\"#000000\" stroke-opacity=\"1\" stroke-width=\"3.2\"/>\n",
       "<circle clip-path=\"url(#clip882)\" cx=\"1481.94\" cy=\"766.846\" r=\"14\" fill=\"#3da44d\" fill-rule=\"evenodd\" fill-opacity=\"1\" stroke=\"#000000\" stroke-opacity=\"1\" stroke-width=\"3.2\"/>\n",
       "<circle clip-path=\"url(#clip882)\" cx=\"1424.19\" cy=\"1049.71\" r=\"14\" fill=\"#3da44d\" fill-rule=\"evenodd\" fill-opacity=\"1\" stroke=\"#000000\" stroke-opacity=\"1\" stroke-width=\"3.2\"/>\n",
       "<circle clip-path=\"url(#clip882)\" cx=\"1655.18\" cy=\"879.991\" r=\"14\" fill=\"#3da44d\" fill-rule=\"evenodd\" fill-opacity=\"1\" stroke=\"#000000\" stroke-opacity=\"1\" stroke-width=\"3.2\"/>\n",
       "<circle clip-path=\"url(#clip882)\" cx=\"1019.96\" cy=\"1162.85\" r=\"14\" fill=\"#3da44d\" fill-rule=\"evenodd\" fill-opacity=\"1\" stroke=\"#000000\" stroke-opacity=\"1\" stroke-width=\"3.2\"/>\n",
       "<circle clip-path=\"url(#clip882)\" cx=\"1077.71\" cy=\"993.136\" r=\"14\" fill=\"#3da44d\" fill-rule=\"evenodd\" fill-opacity=\"1\" stroke=\"#000000\" stroke-opacity=\"1\" stroke-width=\"3.2\"/>\n",
       "<circle clip-path=\"url(#clip882)\" cx=\"1424.19\" cy=\"766.846\" r=\"14\" fill=\"#3da44d\" fill-rule=\"evenodd\" fill-opacity=\"1\" stroke=\"#000000\" stroke-opacity=\"1\" stroke-width=\"3.2\"/>\n",
       "<circle clip-path=\"url(#clip882)\" cx=\"1481.94\" cy=\"879.991\" r=\"14\" fill=\"#3da44d\" fill-rule=\"evenodd\" fill-opacity=\"1\" stroke=\"#000000\" stroke-opacity=\"1\" stroke-width=\"3.2\"/>\n",
       "<circle clip-path=\"url(#clip882)\" cx=\"2174.9\" cy=\"427.411\" r=\"14\" fill=\"#3da44d\" fill-rule=\"evenodd\" fill-opacity=\"1\" stroke=\"#000000\" stroke-opacity=\"1\" stroke-width=\"3.2\"/>\n",
       "<circle clip-path=\"url(#clip882)\" cx=\"2174.9\" cy=\"1106.28\" r=\"14\" fill=\"#3da44d\" fill-rule=\"evenodd\" fill-opacity=\"1\" stroke=\"#000000\" stroke-opacity=\"1\" stroke-width=\"3.2\"/>\n",
       "<circle clip-path=\"url(#clip882)\" cx=\"1193.2\" cy=\"1332.57\" r=\"14\" fill=\"#3da44d\" fill-rule=\"evenodd\" fill-opacity=\"1\" stroke=\"#000000\" stroke-opacity=\"1\" stroke-width=\"3.2\"/>\n",
       "<circle clip-path=\"url(#clip882)\" cx=\"1712.92\" cy=\"766.846\" r=\"14\" fill=\"#3da44d\" fill-rule=\"evenodd\" fill-opacity=\"1\" stroke=\"#000000\" stroke-opacity=\"1\" stroke-width=\"3.2\"/>\n",
       "<circle clip-path=\"url(#clip882)\" cx=\"962.217\" cy=\"993.136\" r=\"14\" fill=\"#3da44d\" fill-rule=\"evenodd\" fill-opacity=\"1\" stroke=\"#000000\" stroke-opacity=\"1\" stroke-width=\"3.2\"/>\n",
       "<circle clip-path=\"url(#clip882)\" cx=\"2174.9\" cy=\"993.136\" r=\"14\" fill=\"#3da44d\" fill-rule=\"evenodd\" fill-opacity=\"1\" stroke=\"#000000\" stroke-opacity=\"1\" stroke-width=\"3.2\"/>\n",
       "<circle clip-path=\"url(#clip882)\" cx=\"1366.44\" cy=\"1049.71\" r=\"14\" fill=\"#3da44d\" fill-rule=\"evenodd\" fill-opacity=\"1\" stroke=\"#000000\" stroke-opacity=\"1\" stroke-width=\"3.2\"/>\n",
       "<circle clip-path=\"url(#clip882)\" cx=\"1597.43\" cy=\"710.274\" r=\"14\" fill=\"#3da44d\" fill-rule=\"evenodd\" fill-opacity=\"1\" stroke=\"#000000\" stroke-opacity=\"1\" stroke-width=\"3.2\"/>\n",
       "<circle clip-path=\"url(#clip882)\" cx=\"1886.16\" cy=\"766.846\" r=\"14\" fill=\"#3da44d\" fill-rule=\"evenodd\" fill-opacity=\"1\" stroke=\"#000000\" stroke-opacity=\"1\" stroke-width=\"3.2\"/>\n",
       "<circle clip-path=\"url(#clip882)\" cx=\"1308.7\" cy=\"993.136\" r=\"14\" fill=\"#3da44d\" fill-rule=\"evenodd\" fill-opacity=\"1\" stroke=\"#000000\" stroke-opacity=\"1\" stroke-width=\"3.2\"/>\n",
       "<circle clip-path=\"url(#clip882)\" cx=\"1250.95\" cy=\"879.991\" r=\"14\" fill=\"#3da44d\" fill-rule=\"evenodd\" fill-opacity=\"1\" stroke=\"#000000\" stroke-opacity=\"1\" stroke-width=\"3.2\"/>\n",
       "<circle clip-path=\"url(#clip882)\" cx=\"1424.19\" cy=\"993.136\" r=\"14\" fill=\"#3da44d\" fill-rule=\"evenodd\" fill-opacity=\"1\" stroke=\"#000000\" stroke-opacity=\"1\" stroke-width=\"3.2\"/>\n",
       "<circle clip-path=\"url(#clip882)\" cx=\"1886.16\" cy=\"879.991\" r=\"14\" fill=\"#3da44d\" fill-rule=\"evenodd\" fill-opacity=\"1\" stroke=\"#000000\" stroke-opacity=\"1\" stroke-width=\"3.2\"/>\n",
       "<circle clip-path=\"url(#clip882)\" cx=\"2001.66\" cy=\"993.136\" r=\"14\" fill=\"#3da44d\" fill-rule=\"evenodd\" fill-opacity=\"1\" stroke=\"#000000\" stroke-opacity=\"1\" stroke-width=\"3.2\"/>\n",
       "<circle clip-path=\"url(#clip882)\" cx=\"2290.39\" cy=\"427.411\" r=\"14\" fill=\"#3da44d\" fill-rule=\"evenodd\" fill-opacity=\"1\" stroke=\"#000000\" stroke-opacity=\"1\" stroke-width=\"3.2\"/>\n",
       "<circle clip-path=\"url(#clip882)\" cx=\"1424.19\" cy=\"993.136\" r=\"14\" fill=\"#3da44d\" fill-rule=\"evenodd\" fill-opacity=\"1\" stroke=\"#000000\" stroke-opacity=\"1\" stroke-width=\"3.2\"/>\n",
       "<circle clip-path=\"url(#clip882)\" cx=\"1366.44\" cy=\"993.136\" r=\"14\" fill=\"#3da44d\" fill-rule=\"evenodd\" fill-opacity=\"1\" stroke=\"#000000\" stroke-opacity=\"1\" stroke-width=\"3.2\"/>\n",
       "<circle clip-path=\"url(#clip882)\" cx=\"1250.95\" cy=\"1106.28\" r=\"14\" fill=\"#3da44d\" fill-rule=\"evenodd\" fill-opacity=\"1\" stroke=\"#000000\" stroke-opacity=\"1\" stroke-width=\"3.2\"/>\n",
       "<circle clip-path=\"url(#clip882)\" cx=\"2174.9\" cy=\"879.991\" r=\"14\" fill=\"#3da44d\" fill-rule=\"evenodd\" fill-opacity=\"1\" stroke=\"#000000\" stroke-opacity=\"1\" stroke-width=\"3.2\"/>\n",
       "<circle clip-path=\"url(#clip882)\" cx=\"1366.44\" cy=\"653.701\" r=\"14\" fill=\"#3da44d\" fill-rule=\"evenodd\" fill-opacity=\"1\" stroke=\"#000000\" stroke-opacity=\"1\" stroke-width=\"3.2\"/>\n",
       "<circle clip-path=\"url(#clip882)\" cx=\"1424.19\" cy=\"823.418\" r=\"14\" fill=\"#3da44d\" fill-rule=\"evenodd\" fill-opacity=\"1\" stroke=\"#000000\" stroke-opacity=\"1\" stroke-width=\"3.2\"/>\n",
       "<circle clip-path=\"url(#clip882)\" cx=\"1193.2\" cy=\"879.991\" r=\"14\" fill=\"#3da44d\" fill-rule=\"evenodd\" fill-opacity=\"1\" stroke=\"#000000\" stroke-opacity=\"1\" stroke-width=\"3.2\"/>\n",
       "<circle clip-path=\"url(#clip882)\" cx=\"1712.92\" cy=\"823.418\" r=\"14\" fill=\"#3da44d\" fill-rule=\"evenodd\" fill-opacity=\"1\" stroke=\"#000000\" stroke-opacity=\"1\" stroke-width=\"3.2\"/>\n",
       "<circle clip-path=\"url(#clip882)\" cx=\"1597.43\" cy=\"823.418\" r=\"14\" fill=\"#3da44d\" fill-rule=\"evenodd\" fill-opacity=\"1\" stroke=\"#000000\" stroke-opacity=\"1\" stroke-width=\"3.2\"/>\n",
       "<circle clip-path=\"url(#clip882)\" cx=\"1712.92\" cy=\"823.418\" r=\"14\" fill=\"#3da44d\" fill-rule=\"evenodd\" fill-opacity=\"1\" stroke=\"#000000\" stroke-opacity=\"1\" stroke-width=\"3.2\"/>\n",
       "<circle clip-path=\"url(#clip882)\" cx=\"1077.71\" cy=\"1049.71\" r=\"14\" fill=\"#3da44d\" fill-rule=\"evenodd\" fill-opacity=\"1\" stroke=\"#000000\" stroke-opacity=\"1\" stroke-width=\"3.2\"/>\n",
       "<circle clip-path=\"url(#clip882)\" cx=\"1655.18\" cy=\"766.846\" r=\"14\" fill=\"#3da44d\" fill-rule=\"evenodd\" fill-opacity=\"1\" stroke=\"#000000\" stroke-opacity=\"1\" stroke-width=\"3.2\"/>\n",
       "<circle clip-path=\"url(#clip882)\" cx=\"1597.43\" cy=\"710.274\" r=\"14\" fill=\"#3da44d\" fill-rule=\"evenodd\" fill-opacity=\"1\" stroke=\"#000000\" stroke-opacity=\"1\" stroke-width=\"3.2\"/>\n",
       "<circle clip-path=\"url(#clip882)\" cx=\"1597.43\" cy=\"879.991\" r=\"14\" fill=\"#3da44d\" fill-rule=\"evenodd\" fill-opacity=\"1\" stroke=\"#000000\" stroke-opacity=\"1\" stroke-width=\"3.2\"/>\n",
       "<circle clip-path=\"url(#clip882)\" cx=\"1366.44\" cy=\"1162.85\" r=\"14\" fill=\"#3da44d\" fill-rule=\"evenodd\" fill-opacity=\"1\" stroke=\"#000000\" stroke-opacity=\"1\" stroke-width=\"3.2\"/>\n",
       "<circle clip-path=\"url(#clip882)\" cx=\"1481.94\" cy=\"879.991\" r=\"14\" fill=\"#3da44d\" fill-rule=\"evenodd\" fill-opacity=\"1\" stroke=\"#000000\" stroke-opacity=\"1\" stroke-width=\"3.2\"/>\n",
       "<circle clip-path=\"url(#clip882)\" cx=\"1308.7\" cy=\"653.701\" r=\"14\" fill=\"#3da44d\" fill-rule=\"evenodd\" fill-opacity=\"1\" stroke=\"#000000\" stroke-opacity=\"1\" stroke-width=\"3.2\"/>\n",
       "<circle clip-path=\"url(#clip882)\" cx=\"1135.46\" cy=\"879.991\" r=\"14\" fill=\"#3da44d\" fill-rule=\"evenodd\" fill-opacity=\"1\" stroke=\"#000000\" stroke-opacity=\"1\" stroke-width=\"3.2\"/>\n",
       "<path clip-path=\"url(#clip880)\" d=\"\n",
       "M1827.81 337.138 L2279.3 337.138 L2279.3 95.2176 L1827.81 95.2176  Z\n",
       "  \" fill=\"#ffffff\" fill-rule=\"evenodd\" fill-opacity=\"1\"/>\n",
       "<polyline clip-path=\"url(#clip880)\" style=\"stroke:#000000; stroke-width:4; stroke-opacity:1; fill:none\" points=\"\n",
       "  1827.81,337.138 2279.3,337.138 2279.3,95.2176 1827.81,95.2176 1827.81,337.138 \n",
       "  \"/>\n",
       "<circle clip-path=\"url(#clip880)\" cx=\"1925.75\" cy=\"155.698\" r=\"23\" fill=\"#009af9\" fill-rule=\"evenodd\" fill-opacity=\"1\" stroke=\"#000000\" stroke-opacity=\"1\" stroke-width=\"5.12\"/>\n",
       "<circle clip-path=\"url(#clip880)\" cx=\"1925.75\" cy=\"155.698\" r=\"23\" fill=\"#009af9\" fill-rule=\"evenodd\" fill-opacity=\"1\" stroke=\"#000000\" stroke-opacity=\"1\" stroke-width=\"5.12\"/>\n",
       "<circle clip-path=\"url(#clip880)\" cx=\"1925.75\" cy=\"155.698\" r=\"23\" fill=\"#009af9\" fill-rule=\"evenodd\" fill-opacity=\"1\" stroke=\"#000000\" stroke-opacity=\"1\" stroke-width=\"5.12\"/>\n",
       "<circle clip-path=\"url(#clip880)\" cx=\"1925.75\" cy=\"155.698\" r=\"23\" fill=\"#009af9\" fill-rule=\"evenodd\" fill-opacity=\"1\" stroke=\"#000000\" stroke-opacity=\"1\" stroke-width=\"5.12\"/>\n",
       "<circle clip-path=\"url(#clip880)\" cx=\"1925.75\" cy=\"155.698\" r=\"23\" fill=\"#009af9\" fill-rule=\"evenodd\" fill-opacity=\"1\" stroke=\"#000000\" stroke-opacity=\"1\" stroke-width=\"5.12\"/>\n",
       "<circle clip-path=\"url(#clip880)\" cx=\"1925.75\" cy=\"155.698\" r=\"23\" fill=\"#009af9\" fill-rule=\"evenodd\" fill-opacity=\"1\" stroke=\"#000000\" stroke-opacity=\"1\" stroke-width=\"5.12\"/>\n",
       "<circle clip-path=\"url(#clip880)\" cx=\"1925.75\" cy=\"155.698\" r=\"23\" fill=\"#009af9\" fill-rule=\"evenodd\" fill-opacity=\"1\" stroke=\"#000000\" stroke-opacity=\"1\" stroke-width=\"5.12\"/>\n",
       "<circle clip-path=\"url(#clip880)\" cx=\"1925.75\" cy=\"155.698\" r=\"23\" fill=\"#009af9\" fill-rule=\"evenodd\" fill-opacity=\"1\" stroke=\"#000000\" stroke-opacity=\"1\" stroke-width=\"5.12\"/>\n",
       "<circle clip-path=\"url(#clip880)\" cx=\"1925.75\" cy=\"155.698\" r=\"23\" fill=\"#009af9\" fill-rule=\"evenodd\" fill-opacity=\"1\" stroke=\"#000000\" stroke-opacity=\"1\" stroke-width=\"5.12\"/>\n",
       "<circle clip-path=\"url(#clip880)\" cx=\"1925.75\" cy=\"155.698\" r=\"23\" fill=\"#009af9\" fill-rule=\"evenodd\" fill-opacity=\"1\" stroke=\"#000000\" stroke-opacity=\"1\" stroke-width=\"5.12\"/>\n",
       "<circle clip-path=\"url(#clip880)\" cx=\"1925.75\" cy=\"155.698\" r=\"23\" fill=\"#009af9\" fill-rule=\"evenodd\" fill-opacity=\"1\" stroke=\"#000000\" stroke-opacity=\"1\" stroke-width=\"5.12\"/>\n",
       "<circle clip-path=\"url(#clip880)\" cx=\"1925.75\" cy=\"155.698\" r=\"23\" fill=\"#009af9\" fill-rule=\"evenodd\" fill-opacity=\"1\" stroke=\"#000000\" stroke-opacity=\"1\" stroke-width=\"5.12\"/>\n",
       "<circle clip-path=\"url(#clip880)\" cx=\"1925.75\" cy=\"155.698\" r=\"23\" fill=\"#009af9\" fill-rule=\"evenodd\" fill-opacity=\"1\" stroke=\"#000000\" stroke-opacity=\"1\" stroke-width=\"5.12\"/>\n",
       "<circle clip-path=\"url(#clip880)\" cx=\"1925.75\" cy=\"155.698\" r=\"23\" fill=\"#009af9\" fill-rule=\"evenodd\" fill-opacity=\"1\" stroke=\"#000000\" stroke-opacity=\"1\" stroke-width=\"5.12\"/>\n",
       "<circle clip-path=\"url(#clip880)\" cx=\"1925.75\" cy=\"155.698\" r=\"23\" fill=\"#009af9\" fill-rule=\"evenodd\" fill-opacity=\"1\" stroke=\"#000000\" stroke-opacity=\"1\" stroke-width=\"5.12\"/>\n",
       "<circle clip-path=\"url(#clip880)\" cx=\"1925.75\" cy=\"155.698\" r=\"23\" fill=\"#009af9\" fill-rule=\"evenodd\" fill-opacity=\"1\" stroke=\"#000000\" stroke-opacity=\"1\" stroke-width=\"5.12\"/>\n",
       "<circle clip-path=\"url(#clip880)\" cx=\"1925.75\" cy=\"155.698\" r=\"23\" fill=\"#009af9\" fill-rule=\"evenodd\" fill-opacity=\"1\" stroke=\"#000000\" stroke-opacity=\"1\" stroke-width=\"5.12\"/>\n",
       "<circle clip-path=\"url(#clip880)\" cx=\"1925.75\" cy=\"155.698\" r=\"23\" fill=\"#009af9\" fill-rule=\"evenodd\" fill-opacity=\"1\" stroke=\"#000000\" stroke-opacity=\"1\" stroke-width=\"5.12\"/>\n",
       "<circle clip-path=\"url(#clip880)\" cx=\"1925.75\" cy=\"155.698\" r=\"23\" fill=\"#009af9\" fill-rule=\"evenodd\" fill-opacity=\"1\" stroke=\"#000000\" stroke-opacity=\"1\" stroke-width=\"5.12\"/>\n",
       "<circle clip-path=\"url(#clip880)\" cx=\"1925.75\" cy=\"155.698\" r=\"23\" fill=\"#009af9\" fill-rule=\"evenodd\" fill-opacity=\"1\" stroke=\"#000000\" stroke-opacity=\"1\" stroke-width=\"5.12\"/>\n",
       "<circle clip-path=\"url(#clip880)\" cx=\"1925.75\" cy=\"155.698\" r=\"23\" fill=\"#009af9\" fill-rule=\"evenodd\" fill-opacity=\"1\" stroke=\"#000000\" stroke-opacity=\"1\" stroke-width=\"5.12\"/>\n",
       "<circle clip-path=\"url(#clip880)\" cx=\"1925.75\" cy=\"155.698\" r=\"23\" fill=\"#009af9\" fill-rule=\"evenodd\" fill-opacity=\"1\" stroke=\"#000000\" stroke-opacity=\"1\" stroke-width=\"5.12\"/>\n",
       "<circle clip-path=\"url(#clip880)\" cx=\"1925.75\" cy=\"155.698\" r=\"23\" fill=\"#009af9\" fill-rule=\"evenodd\" fill-opacity=\"1\" stroke=\"#000000\" stroke-opacity=\"1\" stroke-width=\"5.12\"/>\n",
       "<circle clip-path=\"url(#clip880)\" cx=\"1925.75\" cy=\"155.698\" r=\"23\" fill=\"#009af9\" fill-rule=\"evenodd\" fill-opacity=\"1\" stroke=\"#000000\" stroke-opacity=\"1\" stroke-width=\"5.12\"/>\n",
       "<circle clip-path=\"url(#clip880)\" cx=\"1925.75\" cy=\"155.698\" r=\"23\" fill=\"#009af9\" fill-rule=\"evenodd\" fill-opacity=\"1\" stroke=\"#000000\" stroke-opacity=\"1\" stroke-width=\"5.12\"/>\n",
       "<circle clip-path=\"url(#clip880)\" cx=\"1925.75\" cy=\"155.698\" r=\"23\" fill=\"#009af9\" fill-rule=\"evenodd\" fill-opacity=\"1\" stroke=\"#000000\" stroke-opacity=\"1\" stroke-width=\"5.12\"/>\n",
       "<circle clip-path=\"url(#clip880)\" cx=\"1925.75\" cy=\"155.698\" r=\"23\" fill=\"#009af9\" fill-rule=\"evenodd\" fill-opacity=\"1\" stroke=\"#000000\" stroke-opacity=\"1\" stroke-width=\"5.12\"/>\n",
       "<circle clip-path=\"url(#clip880)\" cx=\"1925.75\" cy=\"155.698\" r=\"23\" fill=\"#009af9\" fill-rule=\"evenodd\" fill-opacity=\"1\" stroke=\"#000000\" stroke-opacity=\"1\" stroke-width=\"5.12\"/>\n",
       "<circle clip-path=\"url(#clip880)\" cx=\"1925.75\" cy=\"155.698\" r=\"23\" fill=\"#009af9\" fill-rule=\"evenodd\" fill-opacity=\"1\" stroke=\"#000000\" stroke-opacity=\"1\" stroke-width=\"5.12\"/>\n",
       "<circle clip-path=\"url(#clip880)\" cx=\"1925.75\" cy=\"155.698\" r=\"23\" fill=\"#009af9\" fill-rule=\"evenodd\" fill-opacity=\"1\" stroke=\"#000000\" stroke-opacity=\"1\" stroke-width=\"5.12\"/>\n",
       "<circle clip-path=\"url(#clip880)\" cx=\"1925.75\" cy=\"155.698\" r=\"23\" fill=\"#009af9\" fill-rule=\"evenodd\" fill-opacity=\"1\" stroke=\"#000000\" stroke-opacity=\"1\" stroke-width=\"5.12\"/>\n",
       "<circle clip-path=\"url(#clip880)\" cx=\"1925.75\" cy=\"155.698\" r=\"23\" fill=\"#009af9\" fill-rule=\"evenodd\" fill-opacity=\"1\" stroke=\"#000000\" stroke-opacity=\"1\" stroke-width=\"5.12\"/>\n",
       "<circle clip-path=\"url(#clip880)\" cx=\"1925.75\" cy=\"155.698\" r=\"23\" fill=\"#009af9\" fill-rule=\"evenodd\" fill-opacity=\"1\" stroke=\"#000000\" stroke-opacity=\"1\" stroke-width=\"5.12\"/>\n",
       "<circle clip-path=\"url(#clip880)\" cx=\"1925.75\" cy=\"155.698\" r=\"23\" fill=\"#009af9\" fill-rule=\"evenodd\" fill-opacity=\"1\" stroke=\"#000000\" stroke-opacity=\"1\" stroke-width=\"5.12\"/>\n",
       "<circle clip-path=\"url(#clip880)\" cx=\"1925.75\" cy=\"155.698\" r=\"23\" fill=\"#009af9\" fill-rule=\"evenodd\" fill-opacity=\"1\" stroke=\"#000000\" stroke-opacity=\"1\" stroke-width=\"5.12\"/>\n",
       "<circle clip-path=\"url(#clip880)\" cx=\"1925.75\" cy=\"155.698\" r=\"23\" fill=\"#009af9\" fill-rule=\"evenodd\" fill-opacity=\"1\" stroke=\"#000000\" stroke-opacity=\"1\" stroke-width=\"5.12\"/>\n",
       "<circle clip-path=\"url(#clip880)\" cx=\"1925.75\" cy=\"155.698\" r=\"23\" fill=\"#009af9\" fill-rule=\"evenodd\" fill-opacity=\"1\" stroke=\"#000000\" stroke-opacity=\"1\" stroke-width=\"5.12\"/>\n",
       "<circle clip-path=\"url(#clip880)\" cx=\"1925.75\" cy=\"155.698\" r=\"23\" fill=\"#009af9\" fill-rule=\"evenodd\" fill-opacity=\"1\" stroke=\"#000000\" stroke-opacity=\"1\" stroke-width=\"5.12\"/>\n",
       "<circle clip-path=\"url(#clip880)\" cx=\"1925.75\" cy=\"155.698\" r=\"23\" fill=\"#009af9\" fill-rule=\"evenodd\" fill-opacity=\"1\" stroke=\"#000000\" stroke-opacity=\"1\" stroke-width=\"5.12\"/>\n",
       "<circle clip-path=\"url(#clip880)\" cx=\"1925.75\" cy=\"155.698\" r=\"23\" fill=\"#009af9\" fill-rule=\"evenodd\" fill-opacity=\"1\" stroke=\"#000000\" stroke-opacity=\"1\" stroke-width=\"5.12\"/>\n",
       "<circle clip-path=\"url(#clip880)\" cx=\"1925.75\" cy=\"155.698\" r=\"23\" fill=\"#009af9\" fill-rule=\"evenodd\" fill-opacity=\"1\" stroke=\"#000000\" stroke-opacity=\"1\" stroke-width=\"5.12\"/>\n",
       "<circle clip-path=\"url(#clip880)\" cx=\"1925.75\" cy=\"155.698\" r=\"23\" fill=\"#009af9\" fill-rule=\"evenodd\" fill-opacity=\"1\" stroke=\"#000000\" stroke-opacity=\"1\" stroke-width=\"5.12\"/>\n",
       "<circle clip-path=\"url(#clip880)\" cx=\"1925.75\" cy=\"155.698\" r=\"23\" fill=\"#009af9\" fill-rule=\"evenodd\" fill-opacity=\"1\" stroke=\"#000000\" stroke-opacity=\"1\" stroke-width=\"5.12\"/>\n",
       "<circle clip-path=\"url(#clip880)\" cx=\"1925.75\" cy=\"155.698\" r=\"23\" fill=\"#009af9\" fill-rule=\"evenodd\" fill-opacity=\"1\" stroke=\"#000000\" stroke-opacity=\"1\" stroke-width=\"5.12\"/>\n",
       "<circle clip-path=\"url(#clip880)\" cx=\"1925.75\" cy=\"155.698\" r=\"23\" fill=\"#009af9\" fill-rule=\"evenodd\" fill-opacity=\"1\" stroke=\"#000000\" stroke-opacity=\"1\" stroke-width=\"5.12\"/>\n",
       "<circle clip-path=\"url(#clip880)\" cx=\"1925.75\" cy=\"155.698\" r=\"23\" fill=\"#009af9\" fill-rule=\"evenodd\" fill-opacity=\"1\" stroke=\"#000000\" stroke-opacity=\"1\" stroke-width=\"5.12\"/>\n",
       "<circle clip-path=\"url(#clip880)\" cx=\"1925.75\" cy=\"155.698\" r=\"23\" fill=\"#009af9\" fill-rule=\"evenodd\" fill-opacity=\"1\" stroke=\"#000000\" stroke-opacity=\"1\" stroke-width=\"5.12\"/>\n",
       "<circle clip-path=\"url(#clip880)\" cx=\"1925.75\" cy=\"155.698\" r=\"23\" fill=\"#009af9\" fill-rule=\"evenodd\" fill-opacity=\"1\" stroke=\"#000000\" stroke-opacity=\"1\" stroke-width=\"5.12\"/>\n",
       "<circle clip-path=\"url(#clip880)\" cx=\"1925.75\" cy=\"155.698\" r=\"23\" fill=\"#009af9\" fill-rule=\"evenodd\" fill-opacity=\"1\" stroke=\"#000000\" stroke-opacity=\"1\" stroke-width=\"5.12\"/>\n",
       "<circle clip-path=\"url(#clip880)\" cx=\"1925.75\" cy=\"155.698\" r=\"23\" fill=\"#009af9\" fill-rule=\"evenodd\" fill-opacity=\"1\" stroke=\"#000000\" stroke-opacity=\"1\" stroke-width=\"5.12\"/>\n",
       "<path clip-path=\"url(#clip880)\" d=\"M 0 0 M2042.12 147.816 L2042.12 151.843 Q2040.31 150.917 2038.37 150.455 Q2036.42 149.992 2034.34 149.992 Q2031.17 149.992 2029.57 150.964 Q2028 151.936 2028 153.88 Q2028 155.362 2029.13 156.218 Q2030.26 157.052 2033.69 157.816 L2035.15 158.14 Q2039.69 159.112 2041.58 160.894 Q2043.51 162.654 2043.51 165.825 Q2043.51 169.436 2040.63 171.542 Q2037.79 173.649 2032.79 173.649 Q2030.7 173.649 2028.44 173.232 Q2026.19 172.839 2023.69 172.028 L2023.69 167.63 Q2026.05 168.857 2028.34 169.482 Q2030.64 170.084 2032.88 170.084 Q2035.89 170.084 2037.51 169.066 Q2039.13 168.024 2039.13 166.149 Q2039.13 164.413 2037.95 163.487 Q2036.79 162.561 2032.83 161.704 L2031.35 161.357 Q2027.39 160.524 2025.64 158.811 Q2023.88 157.075 2023.88 154.066 Q2023.88 150.408 2026.47 148.418 Q2029.06 146.427 2033.83 146.427 Q2036.19 146.427 2038.27 146.774 Q2040.36 147.121 2042.12 147.816 Z\" fill=\"#000000\" fill-rule=\"evenodd\" fill-opacity=\"1\" /><path clip-path=\"url(#clip880)\" d=\"M 0 0 M2070.15 158.95 L2070.15 161.033 L2050.57 161.033 Q2050.84 165.431 2053.2 167.746 Q2055.59 170.038 2059.82 170.038 Q2062.28 170.038 2064.57 169.436 Q2066.88 168.834 2069.15 167.63 L2069.15 171.658 Q2066.86 172.63 2064.45 173.14 Q2062.05 173.649 2059.57 173.649 Q2053.37 173.649 2049.73 170.038 Q2046.12 166.427 2046.12 160.269 Q2046.12 153.904 2049.55 150.177 Q2053 146.427 2058.83 146.427 Q2064.06 146.427 2067.09 149.806 Q2070.15 153.163 2070.15 158.95 M2065.89 157.7 Q2065.84 154.205 2063.92 152.121 Q2062.02 150.038 2058.88 150.038 Q2055.31 150.038 2053.16 152.052 Q2051.03 154.066 2050.7 157.723 L2065.89 157.7 Z\" fill=\"#000000\" fill-rule=\"evenodd\" fill-opacity=\"1\" /><path clip-path=\"url(#clip880)\" d=\"M 0 0 M2078.83 139.691 L2078.83 147.052 L2087.6 147.052 L2087.6 150.362 L2078.83 150.362 L2078.83 164.436 Q2078.83 167.607 2079.69 168.51 Q2080.57 169.413 2083.23 169.413 L2087.6 169.413 L2087.6 172.978 L2083.23 172.978 Q2078.3 172.978 2076.42 171.149 Q2074.55 169.297 2074.55 164.436 L2074.55 150.362 L2071.42 150.362 L2071.42 147.052 L2074.55 147.052 L2074.55 139.691 L2078.83 139.691 Z\" fill=\"#000000\" fill-rule=\"evenodd\" fill-opacity=\"1\" /><path clip-path=\"url(#clip880)\" d=\"M 0 0 M2102.12 150.038 Q2098.69 150.038 2096.7 152.723 Q2094.71 155.385 2094.71 160.038 Q2094.71 164.691 2096.68 167.376 Q2098.67 170.038 2102.12 170.038 Q2105.52 170.038 2107.51 167.353 Q2109.5 164.667 2109.5 160.038 Q2109.5 155.431 2107.51 152.746 Q2105.52 150.038 2102.12 150.038 M2102.12 146.427 Q2107.67 146.427 2110.84 150.038 Q2114.01 153.649 2114.01 160.038 Q2114.01 166.404 2110.84 170.038 Q2107.67 173.649 2102.12 173.649 Q2096.54 173.649 2093.37 170.038 Q2090.22 166.404 2090.22 160.038 Q2090.22 153.649 2093.37 150.038 Q2096.54 146.427 2102.12 146.427 Z\" fill=\"#000000\" fill-rule=\"evenodd\" fill-opacity=\"1\" /><path clip-path=\"url(#clip880)\" d=\"M 0 0 M2135.01 147.816 L2135.01 151.843 Q2133.2 150.917 2131.26 150.455 Q2129.32 149.992 2127.23 149.992 Q2124.06 149.992 2122.46 150.964 Q2120.89 151.936 2120.89 153.88 Q2120.89 155.362 2122.02 156.218 Q2123.16 157.052 2126.58 157.816 L2128.04 158.14 Q2132.58 159.112 2134.48 160.894 Q2136.4 162.654 2136.4 165.825 Q2136.4 169.436 2133.53 171.542 Q2130.68 173.649 2125.68 173.649 Q2123.6 173.649 2121.33 173.232 Q2119.08 172.839 2116.58 172.028 L2116.58 167.63 Q2118.94 168.857 2121.24 169.482 Q2123.53 170.084 2125.77 170.084 Q2128.78 170.084 2130.4 169.066 Q2132.02 168.024 2132.02 166.149 Q2132.02 164.413 2130.84 163.487 Q2129.69 162.561 2125.73 161.704 L2124.25 161.357 Q2120.29 160.524 2118.53 158.811 Q2116.77 157.075 2116.77 154.066 Q2116.77 150.408 2119.36 148.418 Q2121.95 146.427 2126.72 146.427 Q2129.08 146.427 2131.17 146.774 Q2133.25 147.121 2135.01 147.816 Z\" fill=\"#000000\" fill-rule=\"evenodd\" fill-opacity=\"1\" /><path clip-path=\"url(#clip880)\" d=\"M 0 0 M2152.65 159.945 Q2147.49 159.945 2145.5 161.126 Q2143.5 162.306 2143.5 165.154 Q2143.5 167.422 2144.99 168.765 Q2146.49 170.084 2149.06 170.084 Q2152.6 170.084 2154.73 167.584 Q2156.88 165.061 2156.88 160.894 L2156.88 159.945 L2152.65 159.945 M2161.14 158.186 L2161.14 172.978 L2156.88 172.978 L2156.88 169.042 Q2155.43 171.403 2153.25 172.538 Q2151.07 173.649 2147.93 173.649 Q2143.94 173.649 2141.58 171.427 Q2139.25 169.181 2139.25 165.431 Q2139.25 161.056 2142.16 158.834 Q2145.1 156.612 2150.91 156.612 L2156.88 156.612 L2156.88 156.195 Q2156.88 153.255 2154.94 151.658 Q2153.02 150.038 2149.52 150.038 Q2147.3 150.038 2145.19 150.57 Q2143.09 151.103 2141.14 152.167 L2141.14 148.232 Q2143.48 147.33 2145.68 146.89 Q2147.88 146.427 2149.96 146.427 Q2155.59 146.427 2158.37 149.343 Q2161.14 152.26 2161.14 158.186 Z\" fill=\"#000000\" fill-rule=\"evenodd\" fill-opacity=\"1\" /><circle clip-path=\"url(#clip880)\" cx=\"1925.75\" cy=\"216.178\" r=\"23\" fill=\"#e26f46\" fill-rule=\"evenodd\" fill-opacity=\"1\" stroke=\"#000000\" stroke-opacity=\"1\" stroke-width=\"5.12\"/>\n",
       "<circle clip-path=\"url(#clip880)\" cx=\"1925.75\" cy=\"216.178\" r=\"23\" fill=\"#e26f46\" fill-rule=\"evenodd\" fill-opacity=\"1\" stroke=\"#000000\" stroke-opacity=\"1\" stroke-width=\"5.12\"/>\n",
       "<circle clip-path=\"url(#clip880)\" cx=\"1925.75\" cy=\"216.178\" r=\"23\" fill=\"#e26f46\" fill-rule=\"evenodd\" fill-opacity=\"1\" stroke=\"#000000\" stroke-opacity=\"1\" stroke-width=\"5.12\"/>\n",
       "<circle clip-path=\"url(#clip880)\" cx=\"1925.75\" cy=\"216.178\" r=\"23\" fill=\"#e26f46\" fill-rule=\"evenodd\" fill-opacity=\"1\" stroke=\"#000000\" stroke-opacity=\"1\" stroke-width=\"5.12\"/>\n",
       "<circle clip-path=\"url(#clip880)\" cx=\"1925.75\" cy=\"216.178\" r=\"23\" fill=\"#e26f46\" fill-rule=\"evenodd\" fill-opacity=\"1\" stroke=\"#000000\" stroke-opacity=\"1\" stroke-width=\"5.12\"/>\n",
       "<circle clip-path=\"url(#clip880)\" cx=\"1925.75\" cy=\"216.178\" r=\"23\" fill=\"#e26f46\" fill-rule=\"evenodd\" fill-opacity=\"1\" stroke=\"#000000\" stroke-opacity=\"1\" stroke-width=\"5.12\"/>\n",
       "<circle clip-path=\"url(#clip880)\" cx=\"1925.75\" cy=\"216.178\" r=\"23\" fill=\"#e26f46\" fill-rule=\"evenodd\" fill-opacity=\"1\" stroke=\"#000000\" stroke-opacity=\"1\" stroke-width=\"5.12\"/>\n",
       "<circle clip-path=\"url(#clip880)\" cx=\"1925.75\" cy=\"216.178\" r=\"23\" fill=\"#e26f46\" fill-rule=\"evenodd\" fill-opacity=\"1\" stroke=\"#000000\" stroke-opacity=\"1\" stroke-width=\"5.12\"/>\n",
       "<circle clip-path=\"url(#clip880)\" cx=\"1925.75\" cy=\"216.178\" r=\"23\" fill=\"#e26f46\" fill-rule=\"evenodd\" fill-opacity=\"1\" stroke=\"#000000\" stroke-opacity=\"1\" stroke-width=\"5.12\"/>\n",
       "<circle clip-path=\"url(#clip880)\" cx=\"1925.75\" cy=\"216.178\" r=\"23\" fill=\"#e26f46\" fill-rule=\"evenodd\" fill-opacity=\"1\" stroke=\"#000000\" stroke-opacity=\"1\" stroke-width=\"5.12\"/>\n",
       "<circle clip-path=\"url(#clip880)\" cx=\"1925.75\" cy=\"216.178\" r=\"23\" fill=\"#e26f46\" fill-rule=\"evenodd\" fill-opacity=\"1\" stroke=\"#000000\" stroke-opacity=\"1\" stroke-width=\"5.12\"/>\n",
       "<circle clip-path=\"url(#clip880)\" cx=\"1925.75\" cy=\"216.178\" r=\"23\" fill=\"#e26f46\" fill-rule=\"evenodd\" fill-opacity=\"1\" stroke=\"#000000\" stroke-opacity=\"1\" stroke-width=\"5.12\"/>\n",
       "<circle clip-path=\"url(#clip880)\" cx=\"1925.75\" cy=\"216.178\" r=\"23\" fill=\"#e26f46\" fill-rule=\"evenodd\" fill-opacity=\"1\" stroke=\"#000000\" stroke-opacity=\"1\" stroke-width=\"5.12\"/>\n",
       "<circle clip-path=\"url(#clip880)\" cx=\"1925.75\" cy=\"216.178\" r=\"23\" fill=\"#e26f46\" fill-rule=\"evenodd\" fill-opacity=\"1\" stroke=\"#000000\" stroke-opacity=\"1\" stroke-width=\"5.12\"/>\n",
       "<circle clip-path=\"url(#clip880)\" cx=\"1925.75\" cy=\"216.178\" r=\"23\" fill=\"#e26f46\" fill-rule=\"evenodd\" fill-opacity=\"1\" stroke=\"#000000\" stroke-opacity=\"1\" stroke-width=\"5.12\"/>\n",
       "<circle clip-path=\"url(#clip880)\" cx=\"1925.75\" cy=\"216.178\" r=\"23\" fill=\"#e26f46\" fill-rule=\"evenodd\" fill-opacity=\"1\" stroke=\"#000000\" stroke-opacity=\"1\" stroke-width=\"5.12\"/>\n",
       "<circle clip-path=\"url(#clip880)\" cx=\"1925.75\" cy=\"216.178\" r=\"23\" fill=\"#e26f46\" fill-rule=\"evenodd\" fill-opacity=\"1\" stroke=\"#000000\" stroke-opacity=\"1\" stroke-width=\"5.12\"/>\n",
       "<circle clip-path=\"url(#clip880)\" cx=\"1925.75\" cy=\"216.178\" r=\"23\" fill=\"#e26f46\" fill-rule=\"evenodd\" fill-opacity=\"1\" stroke=\"#000000\" stroke-opacity=\"1\" stroke-width=\"5.12\"/>\n",
       "<circle clip-path=\"url(#clip880)\" cx=\"1925.75\" cy=\"216.178\" r=\"23\" fill=\"#e26f46\" fill-rule=\"evenodd\" fill-opacity=\"1\" stroke=\"#000000\" stroke-opacity=\"1\" stroke-width=\"5.12\"/>\n",
       "<circle clip-path=\"url(#clip880)\" cx=\"1925.75\" cy=\"216.178\" r=\"23\" fill=\"#e26f46\" fill-rule=\"evenodd\" fill-opacity=\"1\" stroke=\"#000000\" stroke-opacity=\"1\" stroke-width=\"5.12\"/>\n",
       "<circle clip-path=\"url(#clip880)\" cx=\"1925.75\" cy=\"216.178\" r=\"23\" fill=\"#e26f46\" fill-rule=\"evenodd\" fill-opacity=\"1\" stroke=\"#000000\" stroke-opacity=\"1\" stroke-width=\"5.12\"/>\n",
       "<circle clip-path=\"url(#clip880)\" cx=\"1925.75\" cy=\"216.178\" r=\"23\" fill=\"#e26f46\" fill-rule=\"evenodd\" fill-opacity=\"1\" stroke=\"#000000\" stroke-opacity=\"1\" stroke-width=\"5.12\"/>\n",
       "<circle clip-path=\"url(#clip880)\" cx=\"1925.75\" cy=\"216.178\" r=\"23\" fill=\"#e26f46\" fill-rule=\"evenodd\" fill-opacity=\"1\" stroke=\"#000000\" stroke-opacity=\"1\" stroke-width=\"5.12\"/>\n",
       "<circle clip-path=\"url(#clip880)\" cx=\"1925.75\" cy=\"216.178\" r=\"23\" fill=\"#e26f46\" fill-rule=\"evenodd\" fill-opacity=\"1\" stroke=\"#000000\" stroke-opacity=\"1\" stroke-width=\"5.12\"/>\n",
       "<circle clip-path=\"url(#clip880)\" cx=\"1925.75\" cy=\"216.178\" r=\"23\" fill=\"#e26f46\" fill-rule=\"evenodd\" fill-opacity=\"1\" stroke=\"#000000\" stroke-opacity=\"1\" stroke-width=\"5.12\"/>\n",
       "<circle clip-path=\"url(#clip880)\" cx=\"1925.75\" cy=\"216.178\" r=\"23\" fill=\"#e26f46\" fill-rule=\"evenodd\" fill-opacity=\"1\" stroke=\"#000000\" stroke-opacity=\"1\" stroke-width=\"5.12\"/>\n",
       "<circle clip-path=\"url(#clip880)\" cx=\"1925.75\" cy=\"216.178\" r=\"23\" fill=\"#e26f46\" fill-rule=\"evenodd\" fill-opacity=\"1\" stroke=\"#000000\" stroke-opacity=\"1\" stroke-width=\"5.12\"/>\n",
       "<circle clip-path=\"url(#clip880)\" cx=\"1925.75\" cy=\"216.178\" r=\"23\" fill=\"#e26f46\" fill-rule=\"evenodd\" fill-opacity=\"1\" stroke=\"#000000\" stroke-opacity=\"1\" stroke-width=\"5.12\"/>\n",
       "<circle clip-path=\"url(#clip880)\" cx=\"1925.75\" cy=\"216.178\" r=\"23\" fill=\"#e26f46\" fill-rule=\"evenodd\" fill-opacity=\"1\" stroke=\"#000000\" stroke-opacity=\"1\" stroke-width=\"5.12\"/>\n",
       "<circle clip-path=\"url(#clip880)\" cx=\"1925.75\" cy=\"216.178\" r=\"23\" fill=\"#e26f46\" fill-rule=\"evenodd\" fill-opacity=\"1\" stroke=\"#000000\" stroke-opacity=\"1\" stroke-width=\"5.12\"/>\n",
       "<circle clip-path=\"url(#clip880)\" cx=\"1925.75\" cy=\"216.178\" r=\"23\" fill=\"#e26f46\" fill-rule=\"evenodd\" fill-opacity=\"1\" stroke=\"#000000\" stroke-opacity=\"1\" stroke-width=\"5.12\"/>\n",
       "<circle clip-path=\"url(#clip880)\" cx=\"1925.75\" cy=\"216.178\" r=\"23\" fill=\"#e26f46\" fill-rule=\"evenodd\" fill-opacity=\"1\" stroke=\"#000000\" stroke-opacity=\"1\" stroke-width=\"5.12\"/>\n",
       "<circle clip-path=\"url(#clip880)\" cx=\"1925.75\" cy=\"216.178\" r=\"23\" fill=\"#e26f46\" fill-rule=\"evenodd\" fill-opacity=\"1\" stroke=\"#000000\" stroke-opacity=\"1\" stroke-width=\"5.12\"/>\n",
       "<circle clip-path=\"url(#clip880)\" cx=\"1925.75\" cy=\"216.178\" r=\"23\" fill=\"#e26f46\" fill-rule=\"evenodd\" fill-opacity=\"1\" stroke=\"#000000\" stroke-opacity=\"1\" stroke-width=\"5.12\"/>\n",
       "<circle clip-path=\"url(#clip880)\" cx=\"1925.75\" cy=\"216.178\" r=\"23\" fill=\"#e26f46\" fill-rule=\"evenodd\" fill-opacity=\"1\" stroke=\"#000000\" stroke-opacity=\"1\" stroke-width=\"5.12\"/>\n",
       "<circle clip-path=\"url(#clip880)\" cx=\"1925.75\" cy=\"216.178\" r=\"23\" fill=\"#e26f46\" fill-rule=\"evenodd\" fill-opacity=\"1\" stroke=\"#000000\" stroke-opacity=\"1\" stroke-width=\"5.12\"/>\n",
       "<circle clip-path=\"url(#clip880)\" cx=\"1925.75\" cy=\"216.178\" r=\"23\" fill=\"#e26f46\" fill-rule=\"evenodd\" fill-opacity=\"1\" stroke=\"#000000\" stroke-opacity=\"1\" stroke-width=\"5.12\"/>\n",
       "<circle clip-path=\"url(#clip880)\" cx=\"1925.75\" cy=\"216.178\" r=\"23\" fill=\"#e26f46\" fill-rule=\"evenodd\" fill-opacity=\"1\" stroke=\"#000000\" stroke-opacity=\"1\" stroke-width=\"5.12\"/>\n",
       "<circle clip-path=\"url(#clip880)\" cx=\"1925.75\" cy=\"216.178\" r=\"23\" fill=\"#e26f46\" fill-rule=\"evenodd\" fill-opacity=\"1\" stroke=\"#000000\" stroke-opacity=\"1\" stroke-width=\"5.12\"/>\n",
       "<circle clip-path=\"url(#clip880)\" cx=\"1925.75\" cy=\"216.178\" r=\"23\" fill=\"#e26f46\" fill-rule=\"evenodd\" fill-opacity=\"1\" stroke=\"#000000\" stroke-opacity=\"1\" stroke-width=\"5.12\"/>\n",
       "<circle clip-path=\"url(#clip880)\" cx=\"1925.75\" cy=\"216.178\" r=\"23\" fill=\"#e26f46\" fill-rule=\"evenodd\" fill-opacity=\"1\" stroke=\"#000000\" stroke-opacity=\"1\" stroke-width=\"5.12\"/>\n",
       "<circle clip-path=\"url(#clip880)\" cx=\"1925.75\" cy=\"216.178\" r=\"23\" fill=\"#e26f46\" fill-rule=\"evenodd\" fill-opacity=\"1\" stroke=\"#000000\" stroke-opacity=\"1\" stroke-width=\"5.12\"/>\n",
       "<circle clip-path=\"url(#clip880)\" cx=\"1925.75\" cy=\"216.178\" r=\"23\" fill=\"#e26f46\" fill-rule=\"evenodd\" fill-opacity=\"1\" stroke=\"#000000\" stroke-opacity=\"1\" stroke-width=\"5.12\"/>\n",
       "<circle clip-path=\"url(#clip880)\" cx=\"1925.75\" cy=\"216.178\" r=\"23\" fill=\"#e26f46\" fill-rule=\"evenodd\" fill-opacity=\"1\" stroke=\"#000000\" stroke-opacity=\"1\" stroke-width=\"5.12\"/>\n",
       "<circle clip-path=\"url(#clip880)\" cx=\"1925.75\" cy=\"216.178\" r=\"23\" fill=\"#e26f46\" fill-rule=\"evenodd\" fill-opacity=\"1\" stroke=\"#000000\" stroke-opacity=\"1\" stroke-width=\"5.12\"/>\n",
       "<circle clip-path=\"url(#clip880)\" cx=\"1925.75\" cy=\"216.178\" r=\"23\" fill=\"#e26f46\" fill-rule=\"evenodd\" fill-opacity=\"1\" stroke=\"#000000\" stroke-opacity=\"1\" stroke-width=\"5.12\"/>\n",
       "<circle clip-path=\"url(#clip880)\" cx=\"1925.75\" cy=\"216.178\" r=\"23\" fill=\"#e26f46\" fill-rule=\"evenodd\" fill-opacity=\"1\" stroke=\"#000000\" stroke-opacity=\"1\" stroke-width=\"5.12\"/>\n",
       "<circle clip-path=\"url(#clip880)\" cx=\"1925.75\" cy=\"216.178\" r=\"23\" fill=\"#e26f46\" fill-rule=\"evenodd\" fill-opacity=\"1\" stroke=\"#000000\" stroke-opacity=\"1\" stroke-width=\"5.12\"/>\n",
       "<circle clip-path=\"url(#clip880)\" cx=\"1925.75\" cy=\"216.178\" r=\"23\" fill=\"#e26f46\" fill-rule=\"evenodd\" fill-opacity=\"1\" stroke=\"#000000\" stroke-opacity=\"1\" stroke-width=\"5.12\"/>\n",
       "<circle clip-path=\"url(#clip880)\" cx=\"1925.75\" cy=\"216.178\" r=\"23\" fill=\"#e26f46\" fill-rule=\"evenodd\" fill-opacity=\"1\" stroke=\"#000000\" stroke-opacity=\"1\" stroke-width=\"5.12\"/>\n",
       "<path clip-path=\"url(#clip880)\" d=\"M 0 0 M2023.69 207.532 L2028.2 207.532 L2036.31 229.291 L2044.41 207.532 L2048.92 207.532 L2039.2 233.458 L2033.41 233.458 L2023.69 207.532 Z\" fill=\"#000000\" fill-rule=\"evenodd\" fill-opacity=\"1\" /><path clip-path=\"url(#clip880)\" d=\"M 0 0 M2075.57 219.43 L2075.57 221.513 L2055.98 221.513 Q2056.26 225.911 2058.62 228.226 Q2061.01 230.518 2065.24 230.518 Q2067.7 230.518 2069.99 229.916 Q2072.3 229.314 2074.57 228.11 L2074.57 232.138 Q2072.28 233.11 2069.87 233.62 Q2067.46 234.129 2064.99 234.129 Q2058.78 234.129 2055.15 230.518 Q2051.54 226.907 2051.54 220.749 Q2051.54 214.384 2054.96 210.657 Q2058.41 206.907 2064.25 206.907 Q2069.48 206.907 2072.51 210.286 Q2075.57 213.643 2075.57 219.43 M2071.31 218.18 Q2071.26 214.685 2069.34 212.601 Q2067.44 210.518 2064.29 210.518 Q2060.73 210.518 2058.57 212.532 Q2056.45 214.546 2056.12 218.203 L2071.31 218.18 Z\" fill=\"#000000\" fill-rule=\"evenodd\" fill-opacity=\"1\" /><path clip-path=\"url(#clip880)\" d=\"M 0 0 M2095.06 211.513 Q2094.34 211.097 2093.48 210.911 Q2092.65 210.703 2091.63 210.703 Q2088.02 210.703 2086.07 213.064 Q2084.15 215.402 2084.15 219.8 L2084.15 233.458 L2079.87 233.458 L2079.87 207.532 L2084.15 207.532 L2084.15 211.56 Q2085.5 209.198 2087.65 208.064 Q2089.8 206.907 2092.88 206.907 Q2093.32 206.907 2093.85 206.976 Q2094.38 207.023 2095.03 207.138 L2095.06 211.513 Z\" fill=\"#000000\" fill-rule=\"evenodd\" fill-opacity=\"1\" /><path clip-path=\"url(#clip880)\" d=\"M 0 0 M2116.05 208.296 L2116.05 212.323 Q2114.25 211.397 2112.3 210.935 Q2110.36 210.472 2108.27 210.472 Q2105.1 210.472 2103.51 211.444 Q2101.93 212.416 2101.93 214.36 Q2101.93 215.842 2103.07 216.698 Q2104.2 217.532 2107.63 218.296 L2109.08 218.62 Q2113.62 219.592 2115.52 221.374 Q2117.44 223.134 2117.44 226.305 Q2117.44 229.916 2114.57 232.022 Q2111.72 234.129 2106.72 234.129 Q2104.64 234.129 2102.37 233.712 Q2100.13 233.319 2097.63 232.508 L2097.63 228.11 Q2099.99 229.337 2102.28 229.962 Q2104.57 230.564 2106.82 230.564 Q2109.82 230.564 2111.44 229.546 Q2113.07 228.504 2113.07 226.629 Q2113.07 224.893 2111.88 223.967 Q2110.73 223.041 2106.77 222.184 L2105.29 221.837 Q2101.33 221.004 2099.57 219.291 Q2097.81 217.555 2097.81 214.546 Q2097.81 210.888 2100.4 208.898 Q2103 206.907 2107.76 206.907 Q2110.13 206.907 2112.21 207.254 Q2114.29 207.601 2116.05 208.296 Z\" fill=\"#000000\" fill-rule=\"evenodd\" fill-opacity=\"1\" /><path clip-path=\"url(#clip880)\" d=\"M 0 0 M2121.91 207.532 L2126.17 207.532 L2126.17 233.458 L2121.91 233.458 L2121.91 207.532 M2121.91 197.439 L2126.17 197.439 L2126.17 202.833 L2121.91 202.833 L2121.91 197.439 Z\" fill=\"#000000\" fill-rule=\"evenodd\" fill-opacity=\"1\" /><path clip-path=\"url(#clip880)\" d=\"M 0 0 M2149.29 208.527 L2149.29 212.509 Q2147.49 211.513 2145.66 211.027 Q2143.85 210.518 2142 210.518 Q2137.86 210.518 2135.57 213.157 Q2133.27 215.772 2133.27 220.518 Q2133.27 225.263 2135.57 227.902 Q2137.86 230.518 2142 230.518 Q2143.85 230.518 2145.66 230.032 Q2147.49 229.522 2149.29 228.527 L2149.29 232.462 Q2147.51 233.296 2145.59 233.712 Q2143.69 234.129 2141.54 234.129 Q2135.68 234.129 2132.23 230.448 Q2128.78 226.768 2128.78 220.518 Q2128.78 214.175 2132.25 210.541 Q2135.75 206.907 2141.82 206.907 Q2143.78 206.907 2145.66 207.323 Q2147.53 207.717 2149.29 208.527 Z\" fill=\"#000000\" fill-rule=\"evenodd\" fill-opacity=\"1\" /><path clip-path=\"url(#clip880)\" d=\"M 0 0 M2163.81 210.518 Q2160.38 210.518 2158.39 213.203 Q2156.4 215.865 2156.4 220.518 Q2156.4 225.171 2158.37 227.856 Q2160.36 230.518 2163.81 230.518 Q2167.21 230.518 2169.2 227.833 Q2171.19 225.147 2171.19 220.518 Q2171.19 215.911 2169.2 213.226 Q2167.21 210.518 2163.81 210.518 M2163.81 206.907 Q2169.36 206.907 2172.53 210.518 Q2175.7 214.129 2175.7 220.518 Q2175.7 226.884 2172.53 230.518 Q2169.36 234.129 2163.81 234.129 Q2158.23 234.129 2155.06 230.518 Q2151.91 226.884 2151.91 220.518 Q2151.91 214.129 2155.06 210.518 Q2158.23 206.907 2163.81 206.907 Z\" fill=\"#000000\" fill-rule=\"evenodd\" fill-opacity=\"1\" /><path clip-path=\"url(#clip880)\" d=\"M 0 0 M2180.17 197.439 L2184.43 197.439 L2184.43 233.458 L2180.17 233.458 L2180.17 197.439 Z\" fill=\"#000000\" fill-rule=\"evenodd\" fill-opacity=\"1\" /><path clip-path=\"url(#clip880)\" d=\"M 0 0 M2198.94 210.518 Q2195.52 210.518 2193.53 213.203 Q2191.54 215.865 2191.54 220.518 Q2191.54 225.171 2193.5 227.856 Q2195.5 230.518 2198.94 230.518 Q2202.35 230.518 2204.34 227.833 Q2206.33 225.147 2206.33 220.518 Q2206.33 215.911 2204.34 213.226 Q2202.35 210.518 2198.94 210.518 M2198.94 206.907 Q2204.5 206.907 2207.67 210.518 Q2210.84 214.129 2210.84 220.518 Q2210.84 226.884 2207.67 230.518 Q2204.5 234.129 2198.94 234.129 Q2193.37 234.129 2190.19 230.518 Q2187.05 226.884 2187.05 220.518 Q2187.05 214.129 2190.19 210.518 Q2193.37 206.907 2198.94 206.907 Z\" fill=\"#000000\" fill-rule=\"evenodd\" fill-opacity=\"1\" /><path clip-path=\"url(#clip880)\" d=\"M 0 0 M2230.33 211.513 Q2229.62 211.097 2228.76 210.911 Q2227.93 210.703 2226.91 210.703 Q2223.3 210.703 2221.35 213.064 Q2219.43 215.402 2219.43 219.8 L2219.43 233.458 L2215.15 233.458 L2215.15 207.532 L2219.43 207.532 L2219.43 211.56 Q2220.77 209.198 2222.93 208.064 Q2225.08 206.907 2228.16 206.907 Q2228.6 206.907 2229.13 206.976 Q2229.66 207.023 2230.31 207.138 L2230.33 211.513 Z\" fill=\"#000000\" fill-rule=\"evenodd\" fill-opacity=\"1\" /><circle clip-path=\"url(#clip880)\" cx=\"1925.75\" cy=\"276.658\" r=\"23\" fill=\"#3da44d\" fill-rule=\"evenodd\" fill-opacity=\"1\" stroke=\"#000000\" stroke-opacity=\"1\" stroke-width=\"5.12\"/>\n",
       "<circle clip-path=\"url(#clip880)\" cx=\"1925.75\" cy=\"276.658\" r=\"23\" fill=\"#3da44d\" fill-rule=\"evenodd\" fill-opacity=\"1\" stroke=\"#000000\" stroke-opacity=\"1\" stroke-width=\"5.12\"/>\n",
       "<circle clip-path=\"url(#clip880)\" cx=\"1925.75\" cy=\"276.658\" r=\"23\" fill=\"#3da44d\" fill-rule=\"evenodd\" fill-opacity=\"1\" stroke=\"#000000\" stroke-opacity=\"1\" stroke-width=\"5.12\"/>\n",
       "<circle clip-path=\"url(#clip880)\" cx=\"1925.75\" cy=\"276.658\" r=\"23\" fill=\"#3da44d\" fill-rule=\"evenodd\" fill-opacity=\"1\" stroke=\"#000000\" stroke-opacity=\"1\" stroke-width=\"5.12\"/>\n",
       "<circle clip-path=\"url(#clip880)\" cx=\"1925.75\" cy=\"276.658\" r=\"23\" fill=\"#3da44d\" fill-rule=\"evenodd\" fill-opacity=\"1\" stroke=\"#000000\" stroke-opacity=\"1\" stroke-width=\"5.12\"/>\n",
       "<circle clip-path=\"url(#clip880)\" cx=\"1925.75\" cy=\"276.658\" r=\"23\" fill=\"#3da44d\" fill-rule=\"evenodd\" fill-opacity=\"1\" stroke=\"#000000\" stroke-opacity=\"1\" stroke-width=\"5.12\"/>\n",
       "<circle clip-path=\"url(#clip880)\" cx=\"1925.75\" cy=\"276.658\" r=\"23\" fill=\"#3da44d\" fill-rule=\"evenodd\" fill-opacity=\"1\" stroke=\"#000000\" stroke-opacity=\"1\" stroke-width=\"5.12\"/>\n",
       "<circle clip-path=\"url(#clip880)\" cx=\"1925.75\" cy=\"276.658\" r=\"23\" fill=\"#3da44d\" fill-rule=\"evenodd\" fill-opacity=\"1\" stroke=\"#000000\" stroke-opacity=\"1\" stroke-width=\"5.12\"/>\n",
       "<circle clip-path=\"url(#clip880)\" cx=\"1925.75\" cy=\"276.658\" r=\"23\" fill=\"#3da44d\" fill-rule=\"evenodd\" fill-opacity=\"1\" stroke=\"#000000\" stroke-opacity=\"1\" stroke-width=\"5.12\"/>\n",
       "<circle clip-path=\"url(#clip880)\" cx=\"1925.75\" cy=\"276.658\" r=\"23\" fill=\"#3da44d\" fill-rule=\"evenodd\" fill-opacity=\"1\" stroke=\"#000000\" stroke-opacity=\"1\" stroke-width=\"5.12\"/>\n",
       "<circle clip-path=\"url(#clip880)\" cx=\"1925.75\" cy=\"276.658\" r=\"23\" fill=\"#3da44d\" fill-rule=\"evenodd\" fill-opacity=\"1\" stroke=\"#000000\" stroke-opacity=\"1\" stroke-width=\"5.12\"/>\n",
       "<circle clip-path=\"url(#clip880)\" cx=\"1925.75\" cy=\"276.658\" r=\"23\" fill=\"#3da44d\" fill-rule=\"evenodd\" fill-opacity=\"1\" stroke=\"#000000\" stroke-opacity=\"1\" stroke-width=\"5.12\"/>\n",
       "<circle clip-path=\"url(#clip880)\" cx=\"1925.75\" cy=\"276.658\" r=\"23\" fill=\"#3da44d\" fill-rule=\"evenodd\" fill-opacity=\"1\" stroke=\"#000000\" stroke-opacity=\"1\" stroke-width=\"5.12\"/>\n",
       "<circle clip-path=\"url(#clip880)\" cx=\"1925.75\" cy=\"276.658\" r=\"23\" fill=\"#3da44d\" fill-rule=\"evenodd\" fill-opacity=\"1\" stroke=\"#000000\" stroke-opacity=\"1\" stroke-width=\"5.12\"/>\n",
       "<circle clip-path=\"url(#clip880)\" cx=\"1925.75\" cy=\"276.658\" r=\"23\" fill=\"#3da44d\" fill-rule=\"evenodd\" fill-opacity=\"1\" stroke=\"#000000\" stroke-opacity=\"1\" stroke-width=\"5.12\"/>\n",
       "<circle clip-path=\"url(#clip880)\" cx=\"1925.75\" cy=\"276.658\" r=\"23\" fill=\"#3da44d\" fill-rule=\"evenodd\" fill-opacity=\"1\" stroke=\"#000000\" stroke-opacity=\"1\" stroke-width=\"5.12\"/>\n",
       "<circle clip-path=\"url(#clip880)\" cx=\"1925.75\" cy=\"276.658\" r=\"23\" fill=\"#3da44d\" fill-rule=\"evenodd\" fill-opacity=\"1\" stroke=\"#000000\" stroke-opacity=\"1\" stroke-width=\"5.12\"/>\n",
       "<circle clip-path=\"url(#clip880)\" cx=\"1925.75\" cy=\"276.658\" r=\"23\" fill=\"#3da44d\" fill-rule=\"evenodd\" fill-opacity=\"1\" stroke=\"#000000\" stroke-opacity=\"1\" stroke-width=\"5.12\"/>\n",
       "<circle clip-path=\"url(#clip880)\" cx=\"1925.75\" cy=\"276.658\" r=\"23\" fill=\"#3da44d\" fill-rule=\"evenodd\" fill-opacity=\"1\" stroke=\"#000000\" stroke-opacity=\"1\" stroke-width=\"5.12\"/>\n",
       "<circle clip-path=\"url(#clip880)\" cx=\"1925.75\" cy=\"276.658\" r=\"23\" fill=\"#3da44d\" fill-rule=\"evenodd\" fill-opacity=\"1\" stroke=\"#000000\" stroke-opacity=\"1\" stroke-width=\"5.12\"/>\n",
       "<circle clip-path=\"url(#clip880)\" cx=\"1925.75\" cy=\"276.658\" r=\"23\" fill=\"#3da44d\" fill-rule=\"evenodd\" fill-opacity=\"1\" stroke=\"#000000\" stroke-opacity=\"1\" stroke-width=\"5.12\"/>\n",
       "<circle clip-path=\"url(#clip880)\" cx=\"1925.75\" cy=\"276.658\" r=\"23\" fill=\"#3da44d\" fill-rule=\"evenodd\" fill-opacity=\"1\" stroke=\"#000000\" stroke-opacity=\"1\" stroke-width=\"5.12\"/>\n",
       "<circle clip-path=\"url(#clip880)\" cx=\"1925.75\" cy=\"276.658\" r=\"23\" fill=\"#3da44d\" fill-rule=\"evenodd\" fill-opacity=\"1\" stroke=\"#000000\" stroke-opacity=\"1\" stroke-width=\"5.12\"/>\n",
       "<circle clip-path=\"url(#clip880)\" cx=\"1925.75\" cy=\"276.658\" r=\"23\" fill=\"#3da44d\" fill-rule=\"evenodd\" fill-opacity=\"1\" stroke=\"#000000\" stroke-opacity=\"1\" stroke-width=\"5.12\"/>\n",
       "<circle clip-path=\"url(#clip880)\" cx=\"1925.75\" cy=\"276.658\" r=\"23\" fill=\"#3da44d\" fill-rule=\"evenodd\" fill-opacity=\"1\" stroke=\"#000000\" stroke-opacity=\"1\" stroke-width=\"5.12\"/>\n",
       "<circle clip-path=\"url(#clip880)\" cx=\"1925.75\" cy=\"276.658\" r=\"23\" fill=\"#3da44d\" fill-rule=\"evenodd\" fill-opacity=\"1\" stroke=\"#000000\" stroke-opacity=\"1\" stroke-width=\"5.12\"/>\n",
       "<circle clip-path=\"url(#clip880)\" cx=\"1925.75\" cy=\"276.658\" r=\"23\" fill=\"#3da44d\" fill-rule=\"evenodd\" fill-opacity=\"1\" stroke=\"#000000\" stroke-opacity=\"1\" stroke-width=\"5.12\"/>\n",
       "<circle clip-path=\"url(#clip880)\" cx=\"1925.75\" cy=\"276.658\" r=\"23\" fill=\"#3da44d\" fill-rule=\"evenodd\" fill-opacity=\"1\" stroke=\"#000000\" stroke-opacity=\"1\" stroke-width=\"5.12\"/>\n",
       "<circle clip-path=\"url(#clip880)\" cx=\"1925.75\" cy=\"276.658\" r=\"23\" fill=\"#3da44d\" fill-rule=\"evenodd\" fill-opacity=\"1\" stroke=\"#000000\" stroke-opacity=\"1\" stroke-width=\"5.12\"/>\n",
       "<circle clip-path=\"url(#clip880)\" cx=\"1925.75\" cy=\"276.658\" r=\"23\" fill=\"#3da44d\" fill-rule=\"evenodd\" fill-opacity=\"1\" stroke=\"#000000\" stroke-opacity=\"1\" stroke-width=\"5.12\"/>\n",
       "<circle clip-path=\"url(#clip880)\" cx=\"1925.75\" cy=\"276.658\" r=\"23\" fill=\"#3da44d\" fill-rule=\"evenodd\" fill-opacity=\"1\" stroke=\"#000000\" stroke-opacity=\"1\" stroke-width=\"5.12\"/>\n",
       "<circle clip-path=\"url(#clip880)\" cx=\"1925.75\" cy=\"276.658\" r=\"23\" fill=\"#3da44d\" fill-rule=\"evenodd\" fill-opacity=\"1\" stroke=\"#000000\" stroke-opacity=\"1\" stroke-width=\"5.12\"/>\n",
       "<circle clip-path=\"url(#clip880)\" cx=\"1925.75\" cy=\"276.658\" r=\"23\" fill=\"#3da44d\" fill-rule=\"evenodd\" fill-opacity=\"1\" stroke=\"#000000\" stroke-opacity=\"1\" stroke-width=\"5.12\"/>\n",
       "<circle clip-path=\"url(#clip880)\" cx=\"1925.75\" cy=\"276.658\" r=\"23\" fill=\"#3da44d\" fill-rule=\"evenodd\" fill-opacity=\"1\" stroke=\"#000000\" stroke-opacity=\"1\" stroke-width=\"5.12\"/>\n",
       "<circle clip-path=\"url(#clip880)\" cx=\"1925.75\" cy=\"276.658\" r=\"23\" fill=\"#3da44d\" fill-rule=\"evenodd\" fill-opacity=\"1\" stroke=\"#000000\" stroke-opacity=\"1\" stroke-width=\"5.12\"/>\n",
       "<circle clip-path=\"url(#clip880)\" cx=\"1925.75\" cy=\"276.658\" r=\"23\" fill=\"#3da44d\" fill-rule=\"evenodd\" fill-opacity=\"1\" stroke=\"#000000\" stroke-opacity=\"1\" stroke-width=\"5.12\"/>\n",
       "<circle clip-path=\"url(#clip880)\" cx=\"1925.75\" cy=\"276.658\" r=\"23\" fill=\"#3da44d\" fill-rule=\"evenodd\" fill-opacity=\"1\" stroke=\"#000000\" stroke-opacity=\"1\" stroke-width=\"5.12\"/>\n",
       "<circle clip-path=\"url(#clip880)\" cx=\"1925.75\" cy=\"276.658\" r=\"23\" fill=\"#3da44d\" fill-rule=\"evenodd\" fill-opacity=\"1\" stroke=\"#000000\" stroke-opacity=\"1\" stroke-width=\"5.12\"/>\n",
       "<circle clip-path=\"url(#clip880)\" cx=\"1925.75\" cy=\"276.658\" r=\"23\" fill=\"#3da44d\" fill-rule=\"evenodd\" fill-opacity=\"1\" stroke=\"#000000\" stroke-opacity=\"1\" stroke-width=\"5.12\"/>\n",
       "<circle clip-path=\"url(#clip880)\" cx=\"1925.75\" cy=\"276.658\" r=\"23\" fill=\"#3da44d\" fill-rule=\"evenodd\" fill-opacity=\"1\" stroke=\"#000000\" stroke-opacity=\"1\" stroke-width=\"5.12\"/>\n",
       "<circle clip-path=\"url(#clip880)\" cx=\"1925.75\" cy=\"276.658\" r=\"23\" fill=\"#3da44d\" fill-rule=\"evenodd\" fill-opacity=\"1\" stroke=\"#000000\" stroke-opacity=\"1\" stroke-width=\"5.12\"/>\n",
       "<circle clip-path=\"url(#clip880)\" cx=\"1925.75\" cy=\"276.658\" r=\"23\" fill=\"#3da44d\" fill-rule=\"evenodd\" fill-opacity=\"1\" stroke=\"#000000\" stroke-opacity=\"1\" stroke-width=\"5.12\"/>\n",
       "<circle clip-path=\"url(#clip880)\" cx=\"1925.75\" cy=\"276.658\" r=\"23\" fill=\"#3da44d\" fill-rule=\"evenodd\" fill-opacity=\"1\" stroke=\"#000000\" stroke-opacity=\"1\" stroke-width=\"5.12\"/>\n",
       "<circle clip-path=\"url(#clip880)\" cx=\"1925.75\" cy=\"276.658\" r=\"23\" fill=\"#3da44d\" fill-rule=\"evenodd\" fill-opacity=\"1\" stroke=\"#000000\" stroke-opacity=\"1\" stroke-width=\"5.12\"/>\n",
       "<circle clip-path=\"url(#clip880)\" cx=\"1925.75\" cy=\"276.658\" r=\"23\" fill=\"#3da44d\" fill-rule=\"evenodd\" fill-opacity=\"1\" stroke=\"#000000\" stroke-opacity=\"1\" stroke-width=\"5.12\"/>\n",
       "<circle clip-path=\"url(#clip880)\" cx=\"1925.75\" cy=\"276.658\" r=\"23\" fill=\"#3da44d\" fill-rule=\"evenodd\" fill-opacity=\"1\" stroke=\"#000000\" stroke-opacity=\"1\" stroke-width=\"5.12\"/>\n",
       "<circle clip-path=\"url(#clip880)\" cx=\"1925.75\" cy=\"276.658\" r=\"23\" fill=\"#3da44d\" fill-rule=\"evenodd\" fill-opacity=\"1\" stroke=\"#000000\" stroke-opacity=\"1\" stroke-width=\"5.12\"/>\n",
       "<circle clip-path=\"url(#clip880)\" cx=\"1925.75\" cy=\"276.658\" r=\"23\" fill=\"#3da44d\" fill-rule=\"evenodd\" fill-opacity=\"1\" stroke=\"#000000\" stroke-opacity=\"1\" stroke-width=\"5.12\"/>\n",
       "<circle clip-path=\"url(#clip880)\" cx=\"1925.75\" cy=\"276.658\" r=\"23\" fill=\"#3da44d\" fill-rule=\"evenodd\" fill-opacity=\"1\" stroke=\"#000000\" stroke-opacity=\"1\" stroke-width=\"5.12\"/>\n",
       "<circle clip-path=\"url(#clip880)\" cx=\"1925.75\" cy=\"276.658\" r=\"23\" fill=\"#3da44d\" fill-rule=\"evenodd\" fill-opacity=\"1\" stroke=\"#000000\" stroke-opacity=\"1\" stroke-width=\"5.12\"/>\n",
       "<path clip-path=\"url(#clip880)\" d=\"M 0 0 M2023.69 268.012 L2028.2 268.012 L2036.31 289.771 L2044.41 268.012 L2048.92 268.012 L2039.2 293.938 L2033.41 293.938 L2023.69 268.012 Z\" fill=\"#000000\" fill-rule=\"evenodd\" fill-opacity=\"1\" /><path clip-path=\"url(#clip880)\" d=\"M 0 0 M2053.39 268.012 L2057.65 268.012 L2057.65 293.938 L2053.39 293.938 L2053.39 268.012 M2053.39 257.919 L2057.65 257.919 L2057.65 263.313 L2053.39 263.313 L2053.39 257.919 Z\" fill=\"#000000\" fill-rule=\"evenodd\" fill-opacity=\"1\" /><path clip-path=\"url(#clip880)\" d=\"M 0 0 M2077.14 271.993 Q2076.42 271.577 2075.57 271.391 Q2074.73 271.183 2073.71 271.183 Q2070.1 271.183 2068.16 273.544 Q2066.24 275.882 2066.24 280.28 L2066.24 293.938 L2061.95 293.938 L2061.95 268.012 L2066.24 268.012 L2066.24 272.04 Q2067.58 269.678 2069.73 268.544 Q2071.88 267.387 2074.96 267.387 Q2075.4 267.387 2075.94 267.456 Q2076.47 267.503 2077.12 267.618 L2077.14 271.993 Z\" fill=\"#000000\" fill-rule=\"evenodd\" fill-opacity=\"1\" /><path clip-path=\"url(#clip880)\" d=\"M 0 0 M2097.83 280.674 Q2097.83 276.044 2095.91 273.498 Q2094.01 270.952 2090.57 270.952 Q2087.14 270.952 2085.22 273.498 Q2083.32 276.044 2083.32 280.674 Q2083.32 285.28 2085.22 287.826 Q2087.14 290.373 2090.57 290.373 Q2094.01 290.373 2095.91 287.826 Q2097.83 285.28 2097.83 280.674 M2102.09 290.72 Q2102.09 297.34 2099.15 300.558 Q2096.21 303.799 2090.15 303.799 Q2087.9 303.799 2085.91 303.451 Q2083.92 303.127 2082.05 302.433 L2082.05 298.289 Q2083.92 299.308 2085.75 299.794 Q2087.58 300.28 2089.48 300.28 Q2093.67 300.28 2095.75 298.081 Q2097.83 295.905 2097.83 291.484 L2097.83 289.377 Q2096.51 291.669 2094.45 292.803 Q2092.39 293.938 2089.52 293.938 Q2084.76 293.938 2081.84 290.303 Q2078.92 286.669 2078.92 280.674 Q2078.92 274.655 2081.84 271.021 Q2084.76 267.387 2089.52 267.387 Q2092.39 267.387 2094.45 268.521 Q2096.51 269.655 2097.83 271.947 L2097.83 268.012 L2102.09 268.012 L2102.09 290.72 Z\" fill=\"#000000\" fill-rule=\"evenodd\" fill-opacity=\"1\" /><path clip-path=\"url(#clip880)\" d=\"M 0 0 M2106.56 268.012 L2110.82 268.012 L2110.82 293.938 L2106.56 293.938 L2106.56 268.012 M2106.56 257.919 L2110.82 257.919 L2110.82 263.313 L2106.56 263.313 L2106.56 257.919 Z\" fill=\"#000000\" fill-rule=\"evenodd\" fill-opacity=\"1\" /><path clip-path=\"url(#clip880)\" d=\"M 0 0 M2136.84 278.289 L2136.84 293.938 L2132.58 293.938 L2132.58 278.428 Q2132.58 274.748 2131.14 272.919 Q2129.71 271.09 2126.84 271.09 Q2123.39 271.09 2121.4 273.29 Q2119.41 275.489 2119.41 279.285 L2119.41 293.938 L2115.13 293.938 L2115.13 268.012 L2119.41 268.012 L2119.41 272.04 Q2120.94 269.702 2123 268.544 Q2125.08 267.387 2127.79 267.387 Q2132.25 267.387 2134.55 270.165 Q2136.84 272.919 2136.84 278.289 Z\" fill=\"#000000\" fill-rule=\"evenodd\" fill-opacity=\"1\" /><path clip-path=\"url(#clip880)\" d=\"M 0 0 M2141.31 268.012 L2145.56 268.012 L2145.56 293.938 L2141.31 293.938 L2141.31 268.012 M2141.31 257.919 L2145.56 257.919 L2145.56 263.313 L2141.31 263.313 L2141.31 257.919 Z\" fill=\"#000000\" fill-rule=\"evenodd\" fill-opacity=\"1\" /><path clip-path=\"url(#clip880)\" d=\"M 0 0 M2168.69 269.007 L2168.69 272.989 Q2166.88 271.993 2165.06 271.507 Q2163.25 270.998 2161.4 270.998 Q2157.25 270.998 2154.96 273.637 Q2152.67 276.252 2152.67 280.998 Q2152.67 285.743 2154.96 288.382 Q2157.25 290.998 2161.4 290.998 Q2163.25 290.998 2165.06 290.512 Q2166.88 290.002 2168.69 289.007 L2168.69 292.942 Q2166.91 293.776 2164.99 294.192 Q2163.09 294.609 2160.94 294.609 Q2155.08 294.609 2151.63 290.928 Q2148.18 287.248 2148.18 280.998 Q2148.18 274.655 2151.65 271.021 Q2155.15 267.387 2161.21 267.387 Q2163.18 267.387 2165.06 267.803 Q2166.93 268.197 2168.69 269.007 Z\" fill=\"#000000\" fill-rule=\"evenodd\" fill-opacity=\"1\" /><path clip-path=\"url(#clip880)\" d=\"M 0 0 M2184.94 280.905 Q2179.78 280.905 2177.79 282.086 Q2175.8 283.266 2175.8 286.114 Q2175.8 288.382 2177.28 289.725 Q2178.78 291.044 2181.35 291.044 Q2184.89 291.044 2187.02 288.544 Q2189.18 286.021 2189.18 281.854 L2189.18 280.905 L2184.94 280.905 M2193.44 279.146 L2193.44 293.938 L2189.18 293.938 L2189.18 290.002 Q2187.72 292.363 2185.54 293.498 Q2183.37 294.609 2180.22 294.609 Q2176.24 294.609 2173.88 292.387 Q2171.54 290.141 2171.54 286.391 Q2171.54 282.016 2174.45 279.794 Q2177.39 277.572 2183.2 277.572 L2189.18 277.572 L2189.18 277.155 Q2189.18 274.215 2187.23 272.618 Q2185.31 270.998 2181.81 270.998 Q2179.59 270.998 2177.49 271.53 Q2175.38 272.063 2173.44 273.127 L2173.44 269.192 Q2175.77 268.29 2177.97 267.85 Q2180.17 267.387 2182.25 267.387 Q2187.88 267.387 2190.66 270.303 Q2193.44 273.22 2193.44 279.146 Z\" fill=\"#000000\" fill-rule=\"evenodd\" fill-opacity=\"1\" /></svg>\n"
      ]
     },
     "execution_count": 9,
     "metadata": {},
     "output_type": "execute_result"
    }
   ],
   "source": [
    "@df iris scatter(:SepalLength,:SepalWidth,group=:Species)"
   ]
  },
  {
   "cell_type": "code",
   "execution_count": 10,
   "metadata": {},
   "outputs": [],
   "source": [
    "using Statistics"
   ]
  },
  {
   "cell_type": "code",
   "execution_count": 14,
   "metadata": {},
   "outputs": [
    {
     "data": {
      "text/plain": [
       "(3.0573333333333337, 0.43586628493669827)"
      ]
     },
     "execution_count": 14,
     "metadata": {},
     "output_type": "execute_result"
    }
   ],
   "source": [
    "mean(iris[!,:SepalWidth]),std(iris[!,:SepalWidth])"
   ]
  },
  {
   "cell_type": "markdown",
   "metadata": {},
   "source": [
    "### Pipe command"
   ]
  },
  {
   "cell_type": "code",
   "execution_count": 15,
   "metadata": {},
   "outputs": [
    {
     "data": {
      "text/plain": [
       "0.9535708819095105398718705441330078869495314128723191646104050462287315327622005"
      ]
     },
     "execution_count": 15,
     "metadata": {},
     "output_type": "execute_result"
    }
   ],
   "source": [
    "2.0 |> big |> sin |> sqrt"
   ]
  },
  {
   "cell_type": "code",
   "execution_count": 17,
   "metadata": {},
   "outputs": [
    {
     "data": {
      "text/plain": [
       "Int64[]"
      ]
     },
     "execution_count": 17,
     "metadata": {},
     "output_type": "execute_result"
    }
   ],
   "source": [
    "A=zeros(Int,0)"
   ]
  },
  {
   "cell_type": "code",
   "execution_count": 18,
   "metadata": {},
   "outputs": [
    {
     "data": {
      "text/plain": [
       "1-element Array{Int64,1}:\n",
       " 3"
      ]
     },
     "execution_count": 18,
     "metadata": {},
     "output_type": "execute_result"
    }
   ],
   "source": [
    "push!(A,3)"
   ]
  },
  {
   "cell_type": "code",
   "execution_count": 19,
   "metadata": {},
   "outputs": [
    {
     "data": {
      "text/plain": [
       "1-element Array{Int64,1}:\n",
       " 3"
      ]
     },
     "execution_count": 19,
     "metadata": {},
     "output_type": "execute_result"
    }
   ],
   "source": [
    "A"
   ]
  },
  {
   "cell_type": "code",
   "execution_count": 20,
   "metadata": {},
   "outputs": [
    {
     "data": {
      "text/plain": [
       "2-element Array{Int64,1}:\n",
       " 3\n",
       " 4"
      ]
     },
     "execution_count": 20,
     "metadata": {},
     "output_type": "execute_result"
    }
   ],
   "source": [
    "4 |> x->push!(A,x)"
   ]
  },
  {
   "cell_type": "code",
   "execution_count": 26,
   "metadata": {},
   "outputs": [
    {
     "data": {
      "application/vnd.dataresource+json": {
       "data": [
        {
         "a1": 1,
         "a2": 2
        },
        {
         "a1": 4,
         "a2": 4
        },
        {
         "a1": 9,
         "a2": 6
        },
        {
         "a1": 16,
         "a2": 8
        }
       ],
       "schema": {
        "fields": [
         {
          "name": "a1",
          "type": "integer"
         },
         {
          "name": "a2",
          "type": "integer"
         }
        ]
       }
      },
      "text/html": [
       "<table><thead><tr><th>a1</th><th>a2</th></tr></thead><tbody><tr><td>1</td><td>2</td></tr><tr><td>4</td><td>4</td></tr><tr><td>9</td><td>6</td></tr><tr><td>16</td><td>8</td></tr></tbody></table>"
      ],
      "text/plain": [
       "4x2 query result\n",
       "a1 │ a2\n",
       "───┼───\n",
       "1  │ 2 \n",
       "4  │ 4 \n",
       "9  │ 6 \n",
       "16 │ 8 "
      ]
     },
     "execution_count": 26,
     "metadata": {},
     "output_type": "execute_result"
    }
   ],
   "source": [
    "data |> @map({a1 = _.A^2, a2 = 2*_.A})"
   ]
  },
  {
   "cell_type": "code",
   "execution_count": 24,
   "metadata": {},
   "outputs": [
    {
     "data": {
      "text/plain": [
       "3-element Array{String,1}:\n",
       " \"A\"\n",
       " \"B\"\n",
       " \"C\""
      ]
     },
     "execution_count": 24,
     "metadata": {},
     "output_type": "execute_result"
    }
   ],
   "source": [
    "names(data)"
   ]
  },
  {
   "cell_type": "code",
   "execution_count": 29,
   "metadata": {},
   "outputs": [
    {
     "data": {
      "application/vnd.dataresource+json": {
       "data": [
        {
         "A": 3,
         "B": "F",
         "C": 3.141592653589793
        },
        {
         "A": 4,
         "B": "M",
         "C": -2.3
        },
        {
         "A": 5,
         "B": "X",
         "C": 0.3333333333333333
        }
       ],
       "schema": {
        "fields": [
         {
          "name": "A",
          "type": "integer"
         },
         {
          "name": "B",
          "type": "string"
         },
         {
          "name": "C",
          "type": "number"
         }
        ]
       }
      },
      "text/html": [
       "<table><thead><tr><th>A</th><th>B</th><th>C</th></tr></thead><tbody><tr><td>3</td><td>&quot;F&quot;</td><td>3.14159</td></tr><tr><td>4</td><td>&quot;M&quot;</td><td>-2.3</td></tr><tr><td>5</td><td>&quot;X&quot;</td><td>0.333333</td></tr></tbody></table>"
      ],
      "text/plain": [
       "3x3 query result\n",
       "A │ B │ C       \n",
       "──┼───┼─────────\n",
       "3 │ F │ 3.14159 \n",
       "4 │ M │ -2.3    \n",
       "5 │ X │ 0.333333"
      ]
     },
     "execution_count": 29,
     "metadata": {},
     "output_type": "execute_result"
    }
   ],
   "source": [
    "data |> @filter(_.A>2)"
   ]
  },
  {
   "cell_type": "code",
   "execution_count": 30,
   "metadata": {},
   "outputs": [
    {
     "data": {
      "application/vnd.dataresource+json": {
       "data": [
        {
         "A": 2,
         "B": "F",
         "C": 2.5
        },
        {
         "A": 3,
         "B": "F",
         "C": 3.141592653589793
        },
        {
         "A": 5,
         "B": "X",
         "C": 0.3333333333333333
        }
       ],
       "schema": {
        "fields": [
         {
          "name": "A",
          "type": "integer"
         },
         {
          "name": "B",
          "type": "string"
         },
         {
          "name": "C",
          "type": "number"
         }
        ]
       }
      },
      "text/html": [
       "<table><thead><tr><th>A</th><th>B</th><th>C</th></tr></thead><tbody><tr><td>2</td><td>&quot;F&quot;</td><td>2.5</td></tr><tr><td>3</td><td>&quot;F&quot;</td><td>3.14159</td></tr><tr><td>5</td><td>&quot;X&quot;</td><td>0.333333</td></tr></tbody></table>"
      ],
      "text/plain": [
       "3x3 query result\n",
       "A │ B │ C       \n",
       "──┼───┼─────────\n",
       "2 │ F │ 2.5     \n",
       "3 │ F │ 3.14159 \n",
       "5 │ X │ 0.333333"
      ]
     },
     "execution_count": 30,
     "metadata": {},
     "output_type": "execute_result"
    }
   ],
   "source": [
    "data |> @filter(_.B != \"M\")"
   ]
  },
  {
   "cell_type": "code",
   "execution_count": 32,
   "metadata": {},
   "outputs": [
    {
     "data": {
      "application/vnd.dataresource+json": {
       "data": [
        {
         "A": 4,
         "B": "M",
         "C": -2.3
        }
       ],
       "schema": {
        "fields": [
         {
          "name": "A",
          "type": "integer"
         },
         {
          "name": "B",
          "type": "string"
         },
         {
          "name": "C",
          "type": "number"
         }
        ]
       }
      },
      "text/html": [
       "<table><thead><tr><th>A</th><th>B</th><th>C</th></tr></thead><tbody><tr><td>4</td><td>&quot;M&quot;</td><td>-2.3</td></tr></tbody></table>"
      ],
      "text/plain": [
       "1x3 query result\n",
       "A │ B │ C   \n",
       "──┼───┼─────\n",
       "4 │ M │ -2.3"
      ]
     },
     "execution_count": 32,
     "metadata": {},
     "output_type": "execute_result"
    }
   ],
   "source": [
    "data |> @filter(abs(_.C) < 2.4 && _.A % 2 == 0)"
   ]
  },
  {
   "cell_type": "code",
   "execution_count": 38,
   "metadata": {},
   "outputs": [
    {
     "data": {
      "text/html": [
       "<table class=\"data-frame\"><thead><tr><th></th><th>Species</th><th>Count</th></tr><tr><th></th><th>Cat…</th><th>Int64</th></tr></thead><tbody><p>3 rows × 2 columns</p><tr><th>1</th><td>setosa</td><td>50</td></tr><tr><th>2</th><td>versicolor</td><td>50</td></tr><tr><th>3</th><td>virginica</td><td>50</td></tr></tbody></table>"
      ],
      "text/latex": [
       "\\begin{tabular}{r|cc}\n",
       "\t& Species & Count\\\\\n",
       "\t\\hline\n",
       "\t& Cat… & Int64\\\\\n",
       "\t\\hline\n",
       "\t1 & setosa & 50 \\\\\n",
       "\t2 & versicolor & 50 \\\\\n",
       "\t3 & virginica & 50 \\\\\n",
       "\\end{tabular}\n"
      ],
      "text/plain": [
       "3×2 DataFrame\n",
       "│ Row │ Species    │ Count │\n",
       "│     │ \u001b[90mCat…\u001b[39m       │ \u001b[90mInt64\u001b[39m │\n",
       "├─────┼────────────┼───────┤\n",
       "│ 1   │ setosa     │ 50    │\n",
       "│ 2   │ versicolor │ 50    │\n",
       "│ 3   │ virginica  │ 50    │"
      ]
     },
     "execution_count": 38,
     "metadata": {},
     "output_type": "execute_result"
    }
   ],
   "source": [
    "iris |> \n",
    "  @groupby(_.Species) |> \n",
    "  @map({Species = key(_), Count = length(_)}) |> \n",
    "  DataFrame"
   ]
  },
  {
   "cell_type": "code",
   "execution_count": 47,
   "metadata": {},
   "outputs": [
    {
     "data": {
      "text/html": [
       "<table class=\"data-frame\"><thead><tr><th></th><th>Species</th><th>mean_sepal_width</th><th>mean_sepal_length</th></tr><tr><th></th><th>Cat…</th><th>Float64</th><th>Float64</th></tr></thead><tbody><p>3 rows × 3 columns</p><tr><th>1</th><td>setosa</td><td>3.428</td><td>5.006</td></tr><tr><th>2</th><td>versicolor</td><td>2.77</td><td>5.936</td></tr><tr><th>3</th><td>virginica</td><td>2.974</td><td>6.588</td></tr></tbody></table>"
      ],
      "text/latex": [
       "\\begin{tabular}{r|ccc}\n",
       "\t& Species & mean\\_sepal\\_width & mean\\_sepal\\_length\\\\\n",
       "\t\\hline\n",
       "\t& Cat… & Float64 & Float64\\\\\n",
       "\t\\hline\n",
       "\t1 & setosa & 3.428 & 5.006 \\\\\n",
       "\t2 & versicolor & 2.77 & 5.936 \\\\\n",
       "\t3 & virginica & 2.974 & 6.588 \\\\\n",
       "\\end{tabular}\n"
      ],
      "text/plain": [
       "3×3 DataFrame\n",
       "│ Row │ Species    │ mean_sepal_width │ mean_sepal_length │\n",
       "│     │ \u001b[90mCat…\u001b[39m       │ \u001b[90mFloat64\u001b[39m          │ \u001b[90mFloat64\u001b[39m           │\n",
       "├─────┼────────────┼──────────────────┼───────────────────┤\n",
       "│ 1   │ setosa     │ 3.428            │ 5.006             │\n",
       "│ 2   │ versicolor │ 2.77             │ 5.936             │\n",
       "│ 3   │ virginica  │ 2.974            │ 6.588             │"
      ]
     },
     "execution_count": 47,
     "metadata": {},
     "output_type": "execute_result"
    }
   ],
   "source": [
    "iris |>\n",
    "  @groupby(_.Species) |>\n",
    "  @map({Species = key(_), mean_sepal_width = mean(_.SepalWidth), mean_sepal_length = mean(_.SepalLength)}) |>\n",
    "  DataFrame"
   ]
  },
  {
   "cell_type": "code",
   "execution_count": 48,
   "metadata": {},
   "outputs": [
    {
     "data": {
      "application/vnd.dataresource+json": {
       "data": [
        {
         "A": 4,
         "B": "M",
         "C": -2.3
        },
        {
         "A": 5,
         "B": "X",
         "C": 0.3333333333333333
        },
        {
         "A": 2,
         "B": "F",
         "C": 2.5
        },
        {
         "A": 1,
         "B": "M",
         "C": 3
        },
        {
         "A": 3,
         "B": "F",
         "C": 3.141592653589793
        }
       ],
       "schema": {
        "fields": [
         {
          "name": "A",
          "type": "integer"
         },
         {
          "name": "B",
          "type": "string"
         },
         {
          "name": "C",
          "type": "number"
         }
        ]
       }
      },
      "text/html": [
       "<table><thead><tr><th>A</th><th>B</th><th>C</th></tr></thead><tbody><tr><td>4</td><td>&quot;M&quot;</td><td>-2.3</td></tr><tr><td>5</td><td>&quot;X&quot;</td><td>0.333333</td></tr><tr><td>2</td><td>&quot;F&quot;</td><td>2.5</td></tr><tr><td>1</td><td>&quot;M&quot;</td><td>3.0</td></tr><tr><td>3</td><td>&quot;F&quot;</td><td>3.14159</td></tr></tbody></table>"
      ],
      "text/plain": [
       "5x3 query result\n",
       "A │ B │ C       \n",
       "──┼───┼─────────\n",
       "4 │ M │ -2.3    \n",
       "5 │ X │ 0.333333\n",
       "2 │ F │ 2.5     \n",
       "1 │ M │ 3.0     \n",
       "3 │ F │ 3.14159 "
      ]
     },
     "execution_count": 48,
     "metadata": {},
     "output_type": "execute_result"
    }
   ],
   "source": [
    "data |> @orderby(_.C)"
   ]
  },
  {
   "cell_type": "code",
   "execution_count": 51,
   "metadata": {},
   "outputs": [
    {
     "data": {
      "application/vnd.dataresource+json": {
       "data": [
        {
         "A": 3,
         "B": "F",
         "C": 3.141592653589793
        },
        {
         "A": 1,
         "B": "M",
         "C": 3
        },
        {
         "A": 2,
         "B": "F",
         "C": 2.5
        },
        {
         "A": 4,
         "B": "M",
         "C": -2.3
        },
        {
         "A": 5,
         "B": "X",
         "C": 0.3333333333333333
        }
       ],
       "schema": {
        "fields": [
         {
          "name": "A",
          "type": "integer"
         },
         {
          "name": "B",
          "type": "string"
         },
         {
          "name": "C",
          "type": "number"
         }
        ]
       }
      },
      "text/html": [
       "<table><thead><tr><th>A</th><th>B</th><th>C</th></tr></thead><tbody><tr><td>3</td><td>&quot;F&quot;</td><td>3.14159</td></tr><tr><td>1</td><td>&quot;M&quot;</td><td>3.0</td></tr><tr><td>2</td><td>&quot;F&quot;</td><td>2.5</td></tr><tr><td>4</td><td>&quot;M&quot;</td><td>-2.3</td></tr><tr><td>5</td><td>&quot;X&quot;</td><td>0.333333</td></tr></tbody></table>"
      ],
      "text/plain": [
       "5x3 query result\n",
       "A │ B │ C       \n",
       "──┼───┼─────────\n",
       "3 │ F │ 3.14159 \n",
       "1 │ M │ 3.0     \n",
       "2 │ F │ 2.5     \n",
       "4 │ M │ -2.3    \n",
       "5 │ X │ 0.333333"
      ]
     },
     "execution_count": 51,
     "metadata": {},
     "output_type": "execute_result"
    }
   ],
   "source": [
    "data |> @orderby_descending(abs(_.C))"
   ]
  },
  {
   "cell_type": "code",
   "execution_count": 39,
   "metadata": {},
   "outputs": [
    {
     "data": {
      "text/html": [
       "<table class=\"data-frame\"><thead><tr><th></th><th>id</th><th>name</th><th>age</th><th>salary</th><th>favorite_food</th></tr><tr><th></th><th>Int64</th><th>String</th><th>Int64</th><th>Int64?</th><th>String?</th></tr></thead><tbody><p>5 rows × 5 columns</p><tr><th>1</th><td>1</td><td>Homer</td><td>45</td><td>50000</td><td>pork chops</td></tr><tr><th>2</th><td>2</td><td>Marge</td><td>42</td><td>25000</td><td>casserole</td></tr><tr><th>3</th><td>3</td><td>Lisa</td><td>8</td><td>10000</td><td>salad</td></tr><tr><th>4</th><td>4</td><td>Bart</td><td>10</td><td><em>missing</em></td><td>hamburger</td></tr><tr><th>5</th><td>5</td><td>Maggie</td><td>1</td><td><em>missing</em></td><td><em>missing</em></td></tr></tbody></table>"
      ],
      "text/latex": [
       "\\begin{tabular}{r|ccccc}\n",
       "\t& id & name & age & salary & favorite\\_food\\\\\n",
       "\t\\hline\n",
       "\t& Int64 & String & Int64 & Int64? & String?\\\\\n",
       "\t\\hline\n",
       "\t1 & 1 & Homer & 45 & 50000 & pork chops \\\\\n",
       "\t2 & 2 & Marge & 42 & 25000 & casserole \\\\\n",
       "\t3 & 3 & Lisa & 8 & 10000 & salad \\\\\n",
       "\t4 & 4 & Bart & 10 & \\emph{missing} & hamburger \\\\\n",
       "\t5 & 5 & Maggie & 1 & \\emph{missing} & \\emph{missing} \\\\\n",
       "\\end{tabular}\n"
      ],
      "text/plain": [
       "5×5 DataFrame\n",
       "│ Row │ id    │ name   │ age   │ salary  │ favorite_food │\n",
       "│     │ \u001b[90mInt64\u001b[39m │ \u001b[90mString\u001b[39m │ \u001b[90mInt64\u001b[39m │ \u001b[90mInt64?\u001b[39m  │ \u001b[90mString?\u001b[39m       │\n",
       "├─────┼───────┼────────┼───────┼─────────┼───────────────┤\n",
       "│ 1   │ 1     │ Homer  │ 45    │ 50000   │ pork chops    │\n",
       "│ 2   │ 2     │ Marge  │ 42    │ 25000   │ casserole     │\n",
       "│ 3   │ 3     │ Lisa   │ 8     │ 10000   │ salad         │\n",
       "│ 4   │ 4     │ Bart   │ 10    │ \u001b[90mmissing\u001b[39m │ hamburger     │\n",
       "│ 5   │ 5     │ Maggie │ 1     │ \u001b[90mmissing\u001b[39m │ \u001b[90mmissing\u001b[39m       │"
      ]
     },
     "execution_count": 39,
     "metadata": {},
     "output_type": "execute_result"
    }
   ],
   "source": [
    "simpsons = DataFrame(\n",
    "  id=1:5,\n",
    "  name=[\"Homer\",\"Marge\",\"Lisa\",\"Bart\",\"Maggie\"],\n",
    "  age =[45,42,8,10,1],\n",
    "  salary = [50000,25000,10000,missing,missing],\n",
    "  favorite_food = [\"pork chops\",\"casserole\",\"salad\",\"hamburger\",missing]\n",
    ")"
   ]
  },
  {
   "cell_type": "code",
   "execution_count": 44,
   "metadata": {},
   "outputs": [
    {
     "data": {
      "text/html": [
       "<table class=\"data-frame\"><thead><tr><th></th><th>name</th><th>age</th><th>B</th><th>C</th></tr><tr><th></th><th>String</th><th>Int64</th><th>String</th><th>Float64</th></tr></thead><tbody><p>5 rows × 4 columns</p><tr><th>1</th><td>Homer</td><td>45</td><td>M</td><td>3.0</td></tr><tr><th>2</th><td>Marge</td><td>42</td><td>F</td><td>2.5</td></tr><tr><th>3</th><td>Lisa</td><td>8</td><td>F</td><td>3.14159</td></tr><tr><th>4</th><td>Bart</td><td>10</td><td>M</td><td>-2.3</td></tr><tr><th>5</th><td>Maggie</td><td>1</td><td>X</td><td>0.333333</td></tr></tbody></table>"
      ],
      "text/latex": [
       "\\begin{tabular}{r|cccc}\n",
       "\t& name & age & B & C\\\\\n",
       "\t\\hline\n",
       "\t& String & Int64 & String & Float64\\\\\n",
       "\t\\hline\n",
       "\t1 & Homer & 45 & M & 3.0 \\\\\n",
       "\t2 & Marge & 42 & F & 2.5 \\\\\n",
       "\t3 & Lisa & 8 & F & 3.14159 \\\\\n",
       "\t4 & Bart & 10 & M & -2.3 \\\\\n",
       "\t5 & Maggie & 1 & X & 0.333333 \\\\\n",
       "\\end{tabular}\n"
      ],
      "text/plain": [
       "5×4 DataFrame\n",
       "│ Row │ name   │ age   │ B      │ C        │\n",
       "│     │ \u001b[90mString\u001b[39m │ \u001b[90mInt64\u001b[39m │ \u001b[90mString\u001b[39m │ \u001b[90mFloat64\u001b[39m  │\n",
       "├─────┼────────┼───────┼────────┼──────────┤\n",
       "│ 1   │ Homer  │ 45    │ M      │ 3.0      │\n",
       "│ 2   │ Marge  │ 42    │ F      │ 2.5      │\n",
       "│ 3   │ Lisa   │ 8     │ F      │ 3.14159  │\n",
       "│ 4   │ Bart   │ 10    │ M      │ -2.3     │\n",
       "│ 5   │ Maggie │ 1     │ X      │ 0.333333 │"
      ]
     },
     "execution_count": 44,
     "metadata": {},
     "output_type": "execute_result"
    }
   ],
   "source": [
    "data |> @join(simpsons, _.A, _.id, {__.name, __.age, _.B, _.C}) |> DataFrame"
   ]
  },
  {
   "cell_type": "code",
   "execution_count": null,
   "metadata": {},
   "outputs": [],
   "source": []
  }
 ],
 "metadata": {
  "kernelspec": {
   "display_name": "Julia 1.5.0-beta1",
   "language": "julia",
   "name": "julia-1.5"
  },
  "language_info": {
   "file_extension": ".jl",
   "mimetype": "application/julia",
   "name": "julia",
   "version": "1.5.0"
  }
 },
 "nbformat": 4,
 "nbformat_minor": 4
}
