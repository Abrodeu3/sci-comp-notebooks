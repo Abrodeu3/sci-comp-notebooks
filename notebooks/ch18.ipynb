{
 "cells": [
  {
   "cell_type": "markdown",
   "metadata": {},
   "source": [
    "## Chapter 17: Parallel Computing"
   ]
  },
  {
   "cell_type": "code",
   "execution_count": 1,
   "metadata": {},
   "outputs": [
    {
     "data": {
      "text/plain": [
       "countHeads (generic function with 1 method)"
      ]
     },
     "execution_count": 1,
     "metadata": {},
     "output_type": "execute_result"
    }
   ],
   "source": [
    "function countHeads(n::Int)\n",
    "    c::Int = 0\n",
    "    for i=1:n\n",
    "        c += rand(Bool)\n",
    "    end\n",
    "    c\n",
    "end"
   ]
  },
  {
   "cell_type": "code",
   "execution_count": 2,
   "metadata": {},
   "outputs": [
    {
     "name": "stdout",
     "output_type": "stream",
     "text": [
      " 13.781212 seconds (7 allocations: 19.453 KiB)\n"
     ]
    },
    {
     "data": {
      "text/plain": [
       "0.5000011085"
      ]
     },
     "execution_count": 2,
     "metadata": {},
     "output_type": "execute_result"
    }
   ],
   "source": [
    "@time countHeads(2*10^9)/(2*10^9)"
   ]
  },
  {
   "cell_type": "code",
   "execution_count": 3,
   "metadata": {},
   "outputs": [],
   "source": [
    "using Distributed"
   ]
  },
  {
   "cell_type": "code",
   "execution_count": 4,
   "metadata": {},
   "outputs": [
    {
     "data": {
      "text/plain": [
       "1-element Array{Int64,1}:\n",
       " 2"
      ]
     },
     "execution_count": 4,
     "metadata": {},
     "output_type": "execute_result"
    }
   ],
   "source": [
    "addprocs(1)"
   ]
  },
  {
   "cell_type": "code",
   "execution_count": 5,
   "metadata": {},
   "outputs": [
    {
     "data": {
      "text/plain": [
       "2"
      ]
     },
     "execution_count": 5,
     "metadata": {},
     "output_type": "execute_result"
    }
   ],
   "source": [
    "nprocs()"
   ]
  },
  {
   "cell_type": "code",
   "execution_count": 22,
   "metadata": {},
   "outputs": [],
   "source": [
    "@everywhere function countHeads(n::Int)\n",
    "   c::Int = 0\n",
    "   for i=1:n\n",
    "       c += rand(Bool)\n",
    "   end\n",
    "   c\n",
    "end"
   ]
  },
  {
   "cell_type": "code",
   "execution_count": 10,
   "metadata": {},
   "outputs": [
    {
     "data": {
      "text/plain": [
       "Future(2, 1, 10, nothing)"
      ]
     },
     "execution_count": 10,
     "metadata": {},
     "output_type": "execute_result"
    }
   ],
   "source": [
    "a= @spawn countHeads(10^9);\n",
    "b= @spawn countHeads(10^9)"
   ]
  },
  {
   "cell_type": "code",
   "execution_count": 11,
   "metadata": {},
   "outputs": [
    {
     "name": "stdout",
     "output_type": "stream",
     "text": [
      " 13.402011 seconds (557 allocations: 16.766 KiB)\n"
     ]
    },
    {
     "data": {
      "text/plain": [
       "1000014297"
      ]
     },
     "execution_count": 11,
     "metadata": {},
     "output_type": "execute_result"
    }
   ],
   "source": [
    "@time fetch(a)+fetch(b)"
   ]
  },
  {
   "cell_type": "code",
   "execution_count": 12,
   "metadata": {},
   "outputs": [
    {
     "data": {
      "text/plain": [
       "8-element Array{Int64,1}:\n",
       "  3\n",
       "  4\n",
       "  5\n",
       "  6\n",
       "  7\n",
       "  8\n",
       "  9\n",
       " 10"
      ]
     },
     "execution_count": 12,
     "metadata": {},
     "output_type": "execute_result"
    }
   ],
   "source": [
    "addprocs()"
   ]
  },
  {
   "cell_type": "code",
   "execution_count": 13,
   "metadata": {},
   "outputs": [
    {
     "name": "stdout",
     "output_type": "stream",
     "text": [
      "  6.666907 seconds (53.46 k allocations: 2.771 MiB)\n"
     ]
    },
    {
     "data": {
      "text/plain": [
       "999984994"
      ]
     },
     "execution_count": 13,
     "metadata": {},
     "output_type": "execute_result"
    }
   ],
   "source": [
    "@time let\n",
    " nheads = @distributed (+) for i = 1:2*10^9\n",
    "   Int(rand(Bool))\n",
    " end\n",
    "end"
   ]
  },
  {
   "cell_type": "code",
   "execution_count": 14,
   "metadata": {},
   "outputs": [],
   "source": [
    "include(\"PlayingCards.jl\")\n",
    "using .PlayingCards, Random"
   ]
  },
  {
   "cell_type": "code",
   "execution_count": 15,
   "metadata": {},
   "outputs": [
    {
     "data": {
      "text/plain": [
       "countHands (generic function with 1 method)"
      ]
     },
     "execution_count": 15,
     "metadata": {},
     "output_type": "execute_result"
    }
   ],
   "source": [
    "function countHands(trials::Int,f::Function)\n",
    "    local deck=map(Card,1:52)\n",
    "    local numhands=0\n",
    "    for i=1:trials\n",
    "        shuffle!(deck)\n",
    "        h = Hand(deck[1:5])\n",
    "        if(f(h))\n",
    "            numhands+=1\n",
    "        end\n",
    "    end\n",
    "    numhands\n",
    "end"
   ]
  },
  {
   "cell_type": "code",
   "execution_count": 16,
   "metadata": {},
   "outputs": [
    {
     "name": "stdout",
     "output_type": "stream",
     "text": [
      "  7.901587 seconds (30.00 M allocations: 3.874 GiB, 4.67% gc time)\n"
     ]
    },
    {
     "data": {
      "text/plain": [
       "14181"
      ]
     },
     "execution_count": 16,
     "metadata": {},
     "output_type": "execute_result"
    }
   ],
   "source": [
    "@time countHands(10_000_000,isFullHouse)"
   ]
  },
  {
   "cell_type": "code",
   "execution_count": 17,
   "metadata": {},
   "outputs": [
    {
     "name": "stderr",
     "output_type": "stream",
     "text": [
      "WARNING: replacing module PlayingCards.\n",
      "WARNING: using PlayingCards.isFullHouse in module Main conflicts with an existing identifier.\n",
      "WARNING: using PlayingCards.Hand in module Main conflicts with an existing identifier.\n",
      "WARNING: using PlayingCards.Card in module Main conflicts with an existing identifier.\n"
     ]
    }
   ],
   "source": [
    "@everywhere include(\"PlayingCards.jl\")\n",
    "@everywhere using .PlayingCards, Random\n",
    "@everywhere function paraCountHands(trials::Integer,f::Function)\n",
    "  local deck=map(Card,1:52)\n",
    "  local numhands=0\n",
    "  function checkHand(f::Function) ## shuffle the deck then check the hand.\n",
    "    shuffle!(deck)\n",
    "    f(Hand(deck[1:5]))\n",
    "  end\n",
    "  @distributed (+) for i = 1:trials\n",
    "    Int(checkHand(f))\n",
    "  end  \n",
    "end"
   ]
  },
  {
   "cell_type": "code",
   "execution_count": 18,
   "metadata": {},
   "outputs": [
    {
     "name": "stdout",
     "output_type": "stream",
     "text": [
      "  3.476821 seconds (330.18 k allocations: 17.387 MiB, 0.14% gc time)\n"
     ]
    },
    {
     "data": {
      "text/plain": [
       "14234"
      ]
     },
     "execution_count": 18,
     "metadata": {},
     "output_type": "execute_result"
    }
   ],
   "source": [
    "@time fh = paraCountHands(10_000_000,isFullHouse)"
   ]
  },
  {
   "cell_type": "code",
   "execution_count": 19,
   "metadata": {},
   "outputs": [
    {
     "data": {
      "text/plain": [
       "12-element Array{Int64,1}:\n",
       " 1000000000\n",
       " 1000000000\n",
       " 1000000000\n",
       " 1000000000\n",
       " 1000000000\n",
       " 1000000000\n",
       " 1000000000\n",
       " 1000000000\n",
       " 1000000000\n",
       " 1000000000\n",
       " 1000000000\n",
       " 1000000000"
      ]
     },
     "execution_count": 19,
     "metadata": {},
     "output_type": "execute_result"
    }
   ],
   "source": [
    "num_coins = 1_000_000_000*ones(Int64,12)"
   ]
  },
  {
   "cell_type": "code",
   "execution_count": 20,
   "metadata": {},
   "outputs": [
    {
     "ename": "RemoteException",
     "evalue": "On worker 6:\nUndefVarError: #countHeads not defined\ndeserialize_datatype at /Users/sabae/buildbot/worker/package_macos64/build/usr/share/julia/stdlib/v1.5/Serialization/src/Serialization.jl:1252\nhandle_deserialize at /Users/sabae/buildbot/worker/package_macos64/build/usr/share/julia/stdlib/v1.5/Serialization/src/Serialization.jl:826\ndeserialize at /Users/sabae/buildbot/worker/package_macos64/build/usr/share/julia/stdlib/v1.5/Serialization/src/Serialization.jl:773\nhandle_deserialize at /Users/sabae/buildbot/worker/package_macos64/build/usr/share/julia/stdlib/v1.5/Serialization/src/Serialization.jl:833\ndeserialize at /Users/sabae/buildbot/worker/package_macos64/build/usr/share/julia/stdlib/v1.5/Serialization/src/Serialization.jl:773 [inlined]\ndeserialize_msg at /Users/sabae/buildbot/worker/package_macos64/build/usr/share/julia/stdlib/v1.5/Distributed/src/messages.jl:99\n#invokelatest#1 at ./essentials.jl:710 [inlined]\ninvokelatest at ./essentials.jl:709 [inlined]\nmessage_handler_loop at /Users/sabae/buildbot/worker/package_macos64/build/usr/share/julia/stdlib/v1.5/Distributed/src/process_messages.jl:185\nprocess_tcp_streams at /Users/sabae/buildbot/worker/package_macos64/build/usr/share/julia/stdlib/v1.5/Distributed/src/process_messages.jl:142\n#99 at ./task.jl:356",
     "output_type": "error",
     "traceback": [
      "On worker 6:\nUndefVarError: #countHeads not defined\ndeserialize_datatype at /Users/sabae/buildbot/worker/package_macos64/build/usr/share/julia/stdlib/v1.5/Serialization/src/Serialization.jl:1252\nhandle_deserialize at /Users/sabae/buildbot/worker/package_macos64/build/usr/share/julia/stdlib/v1.5/Serialization/src/Serialization.jl:826\ndeserialize at /Users/sabae/buildbot/worker/package_macos64/build/usr/share/julia/stdlib/v1.5/Serialization/src/Serialization.jl:773\nhandle_deserialize at /Users/sabae/buildbot/worker/package_macos64/build/usr/share/julia/stdlib/v1.5/Serialization/src/Serialization.jl:833\ndeserialize at /Users/sabae/buildbot/worker/package_macos64/build/usr/share/julia/stdlib/v1.5/Serialization/src/Serialization.jl:773 [inlined]\ndeserialize_msg at /Users/sabae/buildbot/worker/package_macos64/build/usr/share/julia/stdlib/v1.5/Distributed/src/messages.jl:99\n#invokelatest#1 at ./essentials.jl:710 [inlined]\ninvokelatest at ./essentials.jl:709 [inlined]\nmessage_handler_loop at /Users/sabae/buildbot/worker/package_macos64/build/usr/share/julia/stdlib/v1.5/Distributed/src/process_messages.jl:185\nprocess_tcp_streams at /Users/sabae/buildbot/worker/package_macos64/build/usr/share/julia/stdlib/v1.5/Distributed/src/process_messages.jl:142\n#99 at ./task.jl:356",
      "",
      "Stacktrace:",
      " [1] (::Base.var\"#770#772\")(::Task) at ./asyncmap.jl:178",
      " [2] foreach(::Base.var\"#770#772\", ::Array{Any,1}) at ./abstractarray.jl:2005",
      " [3] maptwice(::Function, ::Channel{Any}, ::Array{Any,1}, ::Array{Int64,1}) at ./asyncmap.jl:178",
      " [4] wrap_n_exec_twice(::Channel{Any}, ::Array{Any,1}, ::Distributed.var\"#206#209\"{WorkerPool}, ::Function, ::Array{Int64,1}) at ./asyncmap.jl:154",
      " [5] async_usemap(::Distributed.var\"#190#192\"{Distributed.var\"#190#191#193\"{WorkerPool,typeof(countHeads)}}, ::Array{Int64,1}; ntasks::Function, batch_size::Nothing) at ./asyncmap.jl:103",
      " [6] #asyncmap#754 at ./asyncmap.jl:81 [inlined]",
      " [7] pmap(::Function, ::WorkerPool, ::Array{Int64,1}; distributed::Bool, batch_size::Int64, on_error::Nothing, retry_delays::Array{Any,1}, retry_check::Nothing) at /Users/sabae/buildbot/worker/package_macos64/build/usr/share/julia/stdlib/v1.5/Distributed/src/pmap.jl:126",
      " [8] pmap(::Function, ::WorkerPool, ::Array{Int64,1}) at /Users/sabae/buildbot/worker/package_macos64/build/usr/share/julia/stdlib/v1.5/Distributed/src/pmap.jl:101",
      " [9] pmap(::Function, ::Array{Int64,1}; kwargs::Base.Iterators.Pairs{Union{},Union{},Tuple{},NamedTuple{(),Tuple{}}}) at /Users/sabae/buildbot/worker/package_macos64/build/usr/share/julia/stdlib/v1.5/Distributed/src/pmap.jl:156",
      " [10] pmap(::Function, ::Array{Int64,1}) at /Users/sabae/buildbot/worker/package_macos64/build/usr/share/julia/stdlib/v1.5/Distributed/src/pmap.jl:156",
      " [11] macro expansion at ./timing.jl:174 [inlined]",
      " [12] top-level scope at ./In[20]:1"
     ]
    }
   ],
   "source": [
    "@time pmap(countHeads,num_coins)"
   ]
  },
  {
   "cell_type": "code",
   "execution_count": 21,
   "metadata": {},
   "outputs": [
    {
     "name": "stdout",
     "output_type": "stream",
     "text": [
      "100.007535 seconds (47.38 k allocations: 2.420 MiB, 0.01% gc time)\n"
     ]
    },
    {
     "data": {
      "text/plain": [
       "12-element Array{Int64,1}:\n",
       " 500015268\n",
       " 499973887\n",
       " 499987114\n",
       " 499997130\n",
       " 500001770\n",
       " 499998898\n",
       " 500003104\n",
       " 499993103\n",
       " 499981763\n",
       " 500042663\n",
       " 500000590\n",
       " 499996257"
      ]
     },
     "execution_count": 21,
     "metadata": {},
     "output_type": "execute_result"
    }
   ],
   "source": [
    "@time map(countHeads,num_coins)"
   ]
  },
  {
   "cell_type": "code",
   "execution_count": null,
   "metadata": {},
   "outputs": [],
   "source": []
  }
 ],
 "metadata": {
  "kernelspec": {
   "display_name": "Julia 1.5.0-rc1",
   "language": "julia",
   "name": "julia-1.5"
  },
  "language_info": {
   "file_extension": ".jl",
   "mimetype": "application/julia",
   "name": "julia",
   "version": "1.5.0"
  }
 },
 "nbformat": 4,
 "nbformat_minor": 4
}
